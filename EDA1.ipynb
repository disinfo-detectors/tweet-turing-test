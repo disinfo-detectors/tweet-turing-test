{
 "cells": [
  {
   "cell_type": "markdown",
   "metadata": {},
   "source": [
    "EDA Notebook 1"
   ]
  },
  {
   "cell_type": "code",
   "execution_count": 1,
   "metadata": {},
   "outputs": [],
   "source": [
    "import pandas as pd \n",
    "import glob\n",
    "import os\n",
    "import numpy as np"
   ]
  },
  {
   "cell_type": "code",
   "execution_count": 41,
   "metadata": {},
   "outputs": [],
   "source": [
    "pd.set_option('display.max_colwidth',None)"
   ]
  },
  {
   "cell_type": "code",
   "execution_count": 8,
   "metadata": {},
   "outputs": [
    {
     "name": "stdout",
     "output_type": "stream",
     "text": [
      "['IRAhandle_tweets_4.csv', 'IRAhandle_tweets_5.csv', 'IRAhandle_tweets_7.csv', 'IRAhandle_tweets_6.csv', 'IRAhandle_tweets_2.csv', 'IRAhandle_tweets_3.csv', 'IRAhandle_tweets_1.csv', 'Untitled.ipynb', '.ipynb_checkpoints', 'IRAhandle_tweets_8.csv', 'IRAhandle_tweets_9.csv']\n"
     ]
    }
   ],
   "source": [
    "print(os.listdir(\"../data\"))"
   ]
  },
  {
   "cell_type": "code",
   "execution_count": 4,
   "metadata": {},
   "outputs": [
    {
     "data": {
      "text/plain": [
       "'/Users/katymatulay/Documents/Drexel - Grad School/07 Fall 2022/DSCI591/Capstone/data'"
      ]
     },
     "execution_count": 4,
     "metadata": {},
     "output_type": "execute_result"
    }
   ],
   "source": [
    "os.getcwd()"
   ]
  },
  {
   "cell_type": "code",
   "execution_count": 5,
   "metadata": {},
   "outputs": [],
   "source": [
    "data = pd.read_csv(\"../data/IRAhandle_tweets_1.csv\")"
   ]
  },
  {
   "cell_type": "code",
   "execution_count": 42,
   "metadata": {},
   "outputs": [
    {
     "data": {
      "text/html": [
       "<div>\n",
       "<style scoped>\n",
       "    .dataframe tbody tr th:only-of-type {\n",
       "        vertical-align: middle;\n",
       "    }\n",
       "\n",
       "    .dataframe tbody tr th {\n",
       "        vertical-align: top;\n",
       "    }\n",
       "\n",
       "    .dataframe thead th {\n",
       "        text-align: right;\n",
       "    }\n",
       "</style>\n",
       "<table border=\"1\" class=\"dataframe\">\n",
       "  <thead>\n",
       "    <tr style=\"text-align: right;\">\n",
       "      <th></th>\n",
       "      <th>external_author_id</th>\n",
       "      <th>author</th>\n",
       "      <th>content</th>\n",
       "      <th>region</th>\n",
       "      <th>language</th>\n",
       "      <th>publish_date</th>\n",
       "      <th>harvested_date</th>\n",
       "      <th>following</th>\n",
       "      <th>followers</th>\n",
       "      <th>updates</th>\n",
       "      <th>post_type</th>\n",
       "      <th>account_type</th>\n",
       "      <th>new_june_2018</th>\n",
       "      <th>retweet</th>\n",
       "      <th>account_category</th>\n",
       "    </tr>\n",
       "  </thead>\n",
       "  <tbody>\n",
       "    <tr>\n",
       "      <th>0</th>\n",
       "      <td>9.060000e+17</td>\n",
       "      <td>10_GOP</td>\n",
       "      <td>\"We have a sitting Democrat US Senator on trial for corruption and you've barely heard a peep from the mainstream media.\" ~ @nedryun https://t.co/gh6g0D1oiC</td>\n",
       "      <td>Unknown</td>\n",
       "      <td>English</td>\n",
       "      <td>10/1/2017 19:58</td>\n",
       "      <td>10/1/2017 19:59</td>\n",
       "      <td>1052</td>\n",
       "      <td>9636</td>\n",
       "      <td>253</td>\n",
       "      <td>NaN</td>\n",
       "      <td>Right</td>\n",
       "      <td>0</td>\n",
       "      <td>0</td>\n",
       "      <td>RightTroll</td>\n",
       "    </tr>\n",
       "    <tr>\n",
       "      <th>1</th>\n",
       "      <td>9.060000e+17</td>\n",
       "      <td>10_GOP</td>\n",
       "      <td>Marshawn Lynch arrives to game in anti-Trump shirt. Judging by his sagging pants the shirt should say Lynch vs. belt https://t.co/mLH1i30LZZ</td>\n",
       "      <td>Unknown</td>\n",
       "      <td>English</td>\n",
       "      <td>10/1/2017 22:43</td>\n",
       "      <td>10/1/2017 22:43</td>\n",
       "      <td>1054</td>\n",
       "      <td>9637</td>\n",
       "      <td>254</td>\n",
       "      <td>NaN</td>\n",
       "      <td>Right</td>\n",
       "      <td>0</td>\n",
       "      <td>0</td>\n",
       "      <td>RightTroll</td>\n",
       "    </tr>\n",
       "  </tbody>\n",
       "</table>\n",
       "</div>"
      ],
      "text/plain": [
       "   external_author_id  author  \\\n",
       "0        9.060000e+17  10_GOP   \n",
       "1        9.060000e+17  10_GOP   \n",
       "\n",
       "                                                                                                                                                        content  \\\n",
       "0  \"We have a sitting Democrat US Senator on trial for corruption and you've barely heard a peep from the mainstream media.\" ~ @nedryun https://t.co/gh6g0D1oiC   \n",
       "1                  Marshawn Lynch arrives to game in anti-Trump shirt. Judging by his sagging pants the shirt should say Lynch vs. belt https://t.co/mLH1i30LZZ   \n",
       "\n",
       "    region language     publish_date   harvested_date  following  followers  \\\n",
       "0  Unknown  English  10/1/2017 19:58  10/1/2017 19:59       1052       9636   \n",
       "1  Unknown  English  10/1/2017 22:43  10/1/2017 22:43       1054       9637   \n",
       "\n",
       "   updates post_type account_type  new_june_2018  retweet account_category  \n",
       "0      253       NaN        Right              0        0       RightTroll  \n",
       "1      254       NaN        Right              0        0       RightTroll  "
      ]
     },
     "execution_count": 42,
     "metadata": {},
     "output_type": "execute_result"
    }
   ],
   "source": [
    "data.head(2)"
   ]
  },
  {
   "cell_type": "code",
   "execution_count": 11,
   "metadata": {},
   "outputs": [],
   "source": [
    "#merge all CSVs into one dataframe \n",
    "#cite: https://www.tutorialspoint.com/how-to-merge-all-csv-files-into-a-single-dataframe-python-pandas\n",
    "files = os.path.join(\"../data\",\"IRAhandle_*.csv\")\n",
    "files = glob.glob(files)\n",
    "\n",
    "df= pd.concat(map(pd.read_csv, files),ignore_index=True)\n"
   ]
  },
  {
   "cell_type": "code",
   "execution_count": 12,
   "metadata": {},
   "outputs": [
    {
     "data": {
      "text/html": [
       "<div>\n",
       "<style scoped>\n",
       "    .dataframe tbody tr th:only-of-type {\n",
       "        vertical-align: middle;\n",
       "    }\n",
       "\n",
       "    .dataframe tbody tr th {\n",
       "        vertical-align: top;\n",
       "    }\n",
       "\n",
       "    .dataframe thead th {\n",
       "        text-align: right;\n",
       "    }\n",
       "</style>\n",
       "<table border=\"1\" class=\"dataframe\">\n",
       "  <thead>\n",
       "    <tr style=\"text-align: right;\">\n",
       "      <th></th>\n",
       "      <th>external_author_id</th>\n",
       "      <th>author</th>\n",
       "      <th>content</th>\n",
       "      <th>region</th>\n",
       "      <th>language</th>\n",
       "      <th>publish_date</th>\n",
       "      <th>harvested_date</th>\n",
       "      <th>following</th>\n",
       "      <th>followers</th>\n",
       "      <th>updates</th>\n",
       "      <th>post_type</th>\n",
       "      <th>account_type</th>\n",
       "      <th>new_june_2018</th>\n",
       "      <th>retweet</th>\n",
       "      <th>account_category</th>\n",
       "    </tr>\n",
       "  </thead>\n",
       "  <tbody>\n",
       "    <tr>\n",
       "      <th>0</th>\n",
       "      <td>1.674084e+09</td>\n",
       "      <td>GAB1ALDANA</td>\n",
       "      <td>People are too toxic. I think I have people po...</td>\n",
       "      <td>United States</td>\n",
       "      <td>English</td>\n",
       "      <td>7/30/2016 20:15</td>\n",
       "      <td>7/30/2016 20:15</td>\n",
       "      <td>3395</td>\n",
       "      <td>2014</td>\n",
       "      <td>2150</td>\n",
       "      <td>RETWEET</td>\n",
       "      <td>Hashtager</td>\n",
       "      <td>0</td>\n",
       "      <td>1</td>\n",
       "      <td>HashtagGamer</td>\n",
       "    </tr>\n",
       "    <tr>\n",
       "      <th>1</th>\n",
       "      <td>1.674084e+09</td>\n",
       "      <td>GAB1ALDANA</td>\n",
       "      <td>#NowPlaying Don't Shoot (I'm a Man) by @DEVO -...</td>\n",
       "      <td>United States</td>\n",
       "      <td>English</td>\n",
       "      <td>7/30/2016 20:15</td>\n",
       "      <td>7/30/2016 20:15</td>\n",
       "      <td>3395</td>\n",
       "      <td>2014</td>\n",
       "      <td>2146</td>\n",
       "      <td>RETWEET</td>\n",
       "      <td>Hashtager</td>\n",
       "      <td>0</td>\n",
       "      <td>1</td>\n",
       "      <td>HashtagGamer</td>\n",
       "    </tr>\n",
       "    <tr>\n",
       "      <th>2</th>\n",
       "      <td>1.674084e+09</td>\n",
       "      <td>GAB1ALDANA</td>\n",
       "      <td>the 'I'm the most boring person in the world' ...</td>\n",
       "      <td>United States</td>\n",
       "      <td>English</td>\n",
       "      <td>7/30/2016 20:16</td>\n",
       "      <td>7/30/2016 20:16</td>\n",
       "      <td>3395</td>\n",
       "      <td>2013</td>\n",
       "      <td>2159</td>\n",
       "      <td>RETWEET</td>\n",
       "      <td>Hashtager</td>\n",
       "      <td>0</td>\n",
       "      <td>1</td>\n",
       "      <td>HashtagGamer</td>\n",
       "    </tr>\n",
       "    <tr>\n",
       "      <th>3</th>\n",
       "      <td>1.674084e+09</td>\n",
       "      <td>GAB1ALDANA</td>\n",
       "      <td>#MyAchillesHeel slippery floors https://t.co/R...</td>\n",
       "      <td>United States</td>\n",
       "      <td>Norwegian</td>\n",
       "      <td>7/30/2016 20:16</td>\n",
       "      <td>7/30/2016 20:16</td>\n",
       "      <td>3395</td>\n",
       "      <td>2013</td>\n",
       "      <td>2160</td>\n",
       "      <td>RETWEET</td>\n",
       "      <td>Hashtager</td>\n",
       "      <td>0</td>\n",
       "      <td>1</td>\n",
       "      <td>HashtagGamer</td>\n",
       "    </tr>\n",
       "    <tr>\n",
       "      <th>4</th>\n",
       "      <td>1.674084e+09</td>\n",
       "      <td>GAB1ALDANA</td>\n",
       "      <td>#MyAchillesHeel Boring narcissists.....nothing...</td>\n",
       "      <td>United States</td>\n",
       "      <td>English</td>\n",
       "      <td>7/30/2016 20:16</td>\n",
       "      <td>7/30/2016 20:16</td>\n",
       "      <td>3395</td>\n",
       "      <td>2013</td>\n",
       "      <td>2158</td>\n",
       "      <td>RETWEET</td>\n",
       "      <td>Hashtager</td>\n",
       "      <td>0</td>\n",
       "      <td>1</td>\n",
       "      <td>HashtagGamer</td>\n",
       "    </tr>\n",
       "  </tbody>\n",
       "</table>\n",
       "</div>"
      ],
      "text/plain": [
       "   external_author_id      author  \\\n",
       "0        1.674084e+09  GAB1ALDANA   \n",
       "1        1.674084e+09  GAB1ALDANA   \n",
       "2        1.674084e+09  GAB1ALDANA   \n",
       "3        1.674084e+09  GAB1ALDANA   \n",
       "4        1.674084e+09  GAB1ALDANA   \n",
       "\n",
       "                                             content         region  \\\n",
       "0  People are too toxic. I think I have people po...  United States   \n",
       "1  #NowPlaying Don't Shoot (I'm a Man) by @DEVO -...  United States   \n",
       "2  the 'I'm the most boring person in the world' ...  United States   \n",
       "3  #MyAchillesHeel slippery floors https://t.co/R...  United States   \n",
       "4  #MyAchillesHeel Boring narcissists.....nothing...  United States   \n",
       "\n",
       "    language     publish_date   harvested_date  following  followers  updates  \\\n",
       "0    English  7/30/2016 20:15  7/30/2016 20:15       3395       2014     2150   \n",
       "1    English  7/30/2016 20:15  7/30/2016 20:15       3395       2014     2146   \n",
       "2    English  7/30/2016 20:16  7/30/2016 20:16       3395       2013     2159   \n",
       "3  Norwegian  7/30/2016 20:16  7/30/2016 20:16       3395       2013     2160   \n",
       "4    English  7/30/2016 20:16  7/30/2016 20:16       3395       2013     2158   \n",
       "\n",
       "  post_type account_type  new_june_2018  retweet account_category  \n",
       "0   RETWEET    Hashtager              0        1     HashtagGamer  \n",
       "1   RETWEET    Hashtager              0        1     HashtagGamer  \n",
       "2   RETWEET    Hashtager              0        1     HashtagGamer  \n",
       "3   RETWEET    Hashtager              0        1     HashtagGamer  \n",
       "4   RETWEET    Hashtager              0        1     HashtagGamer  "
      ]
     },
     "execution_count": 12,
     "metadata": {},
     "output_type": "execute_result"
    }
   ],
   "source": [
    "df.head(5)"
   ]
  },
  {
   "cell_type": "code",
   "execution_count": 14,
   "metadata": {},
   "outputs": [
    {
     "data": {
      "text/plain": [
       "(2973371, 15)"
      ]
     },
     "execution_count": 14,
     "metadata": {},
     "output_type": "execute_result"
    }
   ],
   "source": [
    "df.shape"
   ]
  },
  {
   "cell_type": "code",
   "execution_count": 24,
   "metadata": {},
   "outputs": [
    {
     "data": {
      "text/plain": [
       "1662425"
      ]
     },
     "execution_count": 24,
     "metadata": {},
     "output_type": "execute_result"
    }
   ],
   "source": [
    "df.post_type.isnull().sum()"
   ]
  },
  {
   "cell_type": "code",
   "execution_count": 25,
   "metadata": {},
   "outputs": [
    {
     "data": {
      "text/plain": [
       "RETWEET        1270702\n",
       "QUOTE_TWEET      40244\n",
       "Name: post_type, dtype: int64"
      ]
     },
     "execution_count": 25,
     "metadata": {},
     "output_type": "execute_result"
    }
   ],
   "source": [
    "df.post_type.value_counts()"
   ]
  },
  {
   "cell_type": "code",
   "execution_count": 26,
   "metadata": {},
   "outputs": [
    {
     "data": {
      "text/plain": [
       "0    1662425\n",
       "1    1310946\n",
       "Name: retweet, dtype: int64"
      ]
     },
     "execution_count": 26,
     "metadata": {},
     "output_type": "execute_result"
    }
   ],
   "source": [
    "df.retweet.value_counts()"
   ]
  },
  {
   "cell_type": "code",
   "execution_count": 27,
   "metadata": {},
   "outputs": [
    {
     "data": {
      "text/plain": [
       "76210"
      ]
     },
     "execution_count": 27,
     "metadata": {},
     "output_type": "execute_result"
    }
   ],
   "source": [
    "df.following.max()"
   ]
  },
  {
   "cell_type": "code",
   "execution_count": 34,
   "metadata": {},
   "outputs": [
    {
     "data": {
      "text/html": [
       "<div>\n",
       "<style scoped>\n",
       "    .dataframe tbody tr th:only-of-type {\n",
       "        vertical-align: middle;\n",
       "    }\n",
       "\n",
       "    .dataframe tbody tr th {\n",
       "        vertical-align: top;\n",
       "    }\n",
       "\n",
       "    .dataframe thead th {\n",
       "        text-align: right;\n",
       "    }\n",
       "</style>\n",
       "<table border=\"1\" class=\"dataframe\">\n",
       "  <thead>\n",
       "    <tr style=\"text-align: right;\">\n",
       "      <th></th>\n",
       "      <th>external_author_id</th>\n",
       "      <th>author</th>\n",
       "      <th>content</th>\n",
       "      <th>region</th>\n",
       "      <th>language</th>\n",
       "      <th>publish_date</th>\n",
       "      <th>harvested_date</th>\n",
       "      <th>following</th>\n",
       "      <th>followers</th>\n",
       "      <th>updates</th>\n",
       "      <th>post_type</th>\n",
       "      <th>account_type</th>\n",
       "      <th>new_june_2018</th>\n",
       "      <th>retweet</th>\n",
       "      <th>account_category</th>\n",
       "    </tr>\n",
       "  </thead>\n",
       "  <tbody>\n",
       "    <tr>\n",
       "      <th>2603189</th>\n",
       "      <td>4.224730e+09</td>\n",
       "      <td>TEN_GOP</td>\n",
       "      <td>'@lucianwintrich #LiberalLogic: When you don't...</td>\n",
       "      <td>United States</td>\n",
       "      <td>English</td>\n",
       "      <td>3/10/2017 19:41</td>\n",
       "      <td>3/10/2017 19:41</td>\n",
       "      <td>76023</td>\n",
       "      <td>93579</td>\n",
       "      <td>7698</td>\n",
       "      <td>NaN</td>\n",
       "      <td>Right</td>\n",
       "      <td>0</td>\n",
       "      <td>0</td>\n",
       "      <td>RightTroll</td>\n",
       "    </tr>\n",
       "    <tr>\n",
       "      <th>2603190</th>\n",
       "      <td>4.224730e+09</td>\n",
       "      <td>TEN_GOP</td>\n",
       "      <td>How does Angela Merkel sleep at night? https:/...</td>\n",
       "      <td>United States</td>\n",
       "      <td>English</td>\n",
       "      <td>3/10/2017 20:03</td>\n",
       "      <td>3/10/2017 20:03</td>\n",
       "      <td>76063</td>\n",
       "      <td>93588</td>\n",
       "      <td>7699</td>\n",
       "      <td>RETWEET</td>\n",
       "      <td>Right</td>\n",
       "      <td>0</td>\n",
       "      <td>1</td>\n",
       "      <td>RightTroll</td>\n",
       "    </tr>\n",
       "    <tr>\n",
       "      <th>2603191</th>\n",
       "      <td>4.224730e+09</td>\n",
       "      <td>TEN_GOP</td>\n",
       "      <td>Just another day in Paris. https://t.co/rfbT1O...</td>\n",
       "      <td>United States</td>\n",
       "      <td>English</td>\n",
       "      <td>3/10/2017 20:21</td>\n",
       "      <td>3/10/2017 20:21</td>\n",
       "      <td>76060</td>\n",
       "      <td>93599</td>\n",
       "      <td>7700</td>\n",
       "      <td>NaN</td>\n",
       "      <td>Right</td>\n",
       "      <td>0</td>\n",
       "      <td>0</td>\n",
       "      <td>RightTroll</td>\n",
       "    </tr>\n",
       "    <tr>\n",
       "      <th>2603192</th>\n",
       "      <td>4.224730e+09</td>\n",
       "      <td>TEN_GOP</td>\n",
       "      <td>BREAKING: Jeff Sessions asks Obama's holdover ...</td>\n",
       "      <td>United States</td>\n",
       "      <td>English</td>\n",
       "      <td>3/10/2017 20:34</td>\n",
       "      <td>3/10/2017 20:34</td>\n",
       "      <td>76060</td>\n",
       "      <td>93600</td>\n",
       "      <td>7701</td>\n",
       "      <td>NaN</td>\n",
       "      <td>Right</td>\n",
       "      <td>0</td>\n",
       "      <td>0</td>\n",
       "      <td>RightTroll</td>\n",
       "    </tr>\n",
       "    <tr>\n",
       "      <th>2603193</th>\n",
       "      <td>4.224730e+09</td>\n",
       "      <td>TEN_GOP</td>\n",
       "      <td>'@CNN ���'</td>\n",
       "      <td>United States</td>\n",
       "      <td>English</td>\n",
       "      <td>3/10/2017 21:09</td>\n",
       "      <td>3/10/2017 21:09</td>\n",
       "      <td>76060</td>\n",
       "      <td>93609</td>\n",
       "      <td>7702</td>\n",
       "      <td>NaN</td>\n",
       "      <td>Right</td>\n",
       "      <td>0</td>\n",
       "      <td>0</td>\n",
       "      <td>RightTroll</td>\n",
       "    </tr>\n",
       "  </tbody>\n",
       "</table>\n",
       "</div>"
      ],
      "text/plain": [
       "         external_author_id   author  \\\n",
       "2603189        4.224730e+09  TEN_GOP   \n",
       "2603190        4.224730e+09  TEN_GOP   \n",
       "2603191        4.224730e+09  TEN_GOP   \n",
       "2603192        4.224730e+09  TEN_GOP   \n",
       "2603193        4.224730e+09  TEN_GOP   \n",
       "\n",
       "                                                   content         region  \\\n",
       "2603189  '@lucianwintrich #LiberalLogic: When you don't...  United States   \n",
       "2603190  How does Angela Merkel sleep at night? https:/...  United States   \n",
       "2603191  Just another day in Paris. https://t.co/rfbT1O...  United States   \n",
       "2603192  BREAKING: Jeff Sessions asks Obama's holdover ...  United States   \n",
       "2603193                                         '@CNN ���'  United States   \n",
       "\n",
       "        language     publish_date   harvested_date  following  followers  \\\n",
       "2603189  English  3/10/2017 19:41  3/10/2017 19:41      76023      93579   \n",
       "2603190  English  3/10/2017 20:03  3/10/2017 20:03      76063      93588   \n",
       "2603191  English  3/10/2017 20:21  3/10/2017 20:21      76060      93599   \n",
       "2603192  English  3/10/2017 20:34  3/10/2017 20:34      76060      93600   \n",
       "2603193  English  3/10/2017 21:09  3/10/2017 21:09      76060      93609   \n",
       "\n",
       "         updates post_type account_type  new_june_2018  retweet  \\\n",
       "2603189     7698       NaN        Right              0        0   \n",
       "2603190     7699   RETWEET        Right              0        1   \n",
       "2603191     7700       NaN        Right              0        0   \n",
       "2603192     7701       NaN        Right              0        0   \n",
       "2603193     7702       NaN        Right              0        0   \n",
       "\n",
       "        account_category  \n",
       "2603189       RightTroll  \n",
       "2603190       RightTroll  \n",
       "2603191       RightTroll  \n",
       "2603192       RightTroll  \n",
       "2603193       RightTroll  "
      ]
     },
     "execution_count": 34,
     "metadata": {},
     "output_type": "execute_result"
    }
   ],
   "source": [
    "df.loc[df['following'] > 76000][:5]"
   ]
  },
  {
   "cell_type": "code",
   "execution_count": 38,
   "metadata": {},
   "outputs": [
    {
     "data": {
      "text/plain": [
       "2603189    '@lucianwintrich #LiberalLogic: When you don't...\n",
       "Name: content, dtype: object"
      ]
     },
     "execution_count": 38,
     "metadata": {},
     "output_type": "execute_result"
    }
   ],
   "source": [
    "df.iloc[[2603189]]['content']"
   ]
  },
  {
   "cell_type": "code",
   "execution_count": 39,
   "metadata": {},
   "outputs": [],
   "source": []
  },
  {
   "cell_type": "code",
   "execution_count": 40,
   "metadata": {},
   "outputs": [
    {
     "data": {
      "text/plain": [
       "2603189    '@lucianwintrich #LiberalLogic: When you don't agree and have no counter argument call them a Nazi.'\n",
       "Name: content, dtype: object"
      ]
     },
     "execution_count": 40,
     "metadata": {},
     "output_type": "execute_result"
    }
   ],
   "source": [
    "df.iloc[[2603189]]['content']"
   ]
  },
  {
   "cell_type": "code",
   "execution_count": null,
   "metadata": {},
   "outputs": [],
   "source": []
  }
 ],
 "metadata": {
  "kernelspec": {
   "display_name": "Python 3",
   "language": "python",
   "name": "python3"
  },
  "language_info": {
   "codemirror_mode": {
    "name": "ipython",
    "version": 3
   },
   "file_extension": ".py",
   "mimetype": "text/x-python",
   "name": "python",
   "nbconvert_exporter": "python",
   "pygments_lexer": "ipython3",
   "version": "3.8.5"
  }
 },
 "nbformat": 4,
 "nbformat_minor": 4
}
