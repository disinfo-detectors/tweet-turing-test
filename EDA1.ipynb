{
 "cells": [
  {
   "cell_type": "markdown",
   "metadata": {},
   "source": [
    "EDA Notebook 1 (Russian Troll Tweets)"
   ]
  },
  {
   "cell_type": "code",
   "execution_count": 1,
   "metadata": {},
   "outputs": [],
   "source": [
    "import pandas as pd \n",
    "import glob\n",
    "import os\n",
    "import numpy as np"
   ]
  },
  {
   "cell_type": "code",
   "execution_count": 41,
   "metadata": {},
   "outputs": [],
   "source": [
    "pd.set_option('display.max_colwidth',None)"
   ]
  },
  {
   "cell_type": "code",
   "execution_count": 3,
   "metadata": {},
   "outputs": [
    {
     "data": {
      "text/plain": [
       "'/Users/katymatulay/Documents/GitHub/tweet-turing-test'"
      ]
     },
     "execution_count": 3,
     "metadata": {},
     "output_type": "execute_result"
    }
   ],
   "source": [
    "os.getcwd()"
   ]
  },
  {
   "cell_type": "code",
   "execution_count": 4,
   "metadata": {},
   "outputs": [],
   "source": [
    "os.chdir('/Users/katymatulay/Documents/Drexel - Grad School/07 Fall 2022/DSCI591/Capstone/data')"
   ]
  },
  {
   "cell_type": "code",
   "execution_count": 5,
   "metadata": {},
   "outputs": [
    {
     "name": "stdout",
     "output_type": "stream",
     "text": [
      "['IRAhandle_tweets_4.csv', 'IRAhandle_tweets_5.csv', 'IRAhandle_tweets_7.csv', 'IRAhandle_tweets_6.csv', 'Untitled1.ipynb', 'IRAhandle_tweets_2.csv', '.DS_Store', 'IRAhandle_tweets_3.csv', 'IRAhandle_tweets_1.csv', 'Untitled.ipynb', 'all_tweets_encoded.csv', 'English_tweets.csv', 'merged_dataset.csv', '.ipynb_checkpoints', 'IRAhandle_tweets_8.csv', 'IRAhandle_tweets_9.csv']\n"
     ]
    }
   ],
   "source": [
    "print(os.listdir(\"../data\"))"
   ]
  },
  {
   "cell_type": "code",
   "execution_count": 8,
   "metadata": {},
   "outputs": [],
   "source": [
    "data = pd.read_csv(\"../data/English_tweets.csv\",encoding='UTF-8',low_memory=False)"
   ]
  },
  {
   "cell_type": "code",
   "execution_count": 9,
   "metadata": {},
   "outputs": [
    {
     "data": {
      "text/html": [
       "<div>\n",
       "<style scoped>\n",
       "    .dataframe tbody tr th:only-of-type {\n",
       "        vertical-align: middle;\n",
       "    }\n",
       "\n",
       "    .dataframe tbody tr th {\n",
       "        vertical-align: top;\n",
       "    }\n",
       "\n",
       "    .dataframe thead th {\n",
       "        text-align: right;\n",
       "    }\n",
       "</style>\n",
       "<table border=\"1\" class=\"dataframe\">\n",
       "  <thead>\n",
       "    <tr style=\"text-align: right;\">\n",
       "      <th></th>\n",
       "      <th>Unnamed: 0</th>\n",
       "      <th>external_author_id</th>\n",
       "      <th>author</th>\n",
       "      <th>content</th>\n",
       "      <th>region</th>\n",
       "      <th>language</th>\n",
       "      <th>publish_date</th>\n",
       "      <th>following</th>\n",
       "      <th>followers</th>\n",
       "      <th>updates</th>\n",
       "      <th>is_retweet</th>\n",
       "      <th>account_category</th>\n",
       "      <th>tweet_id</th>\n",
       "      <th>full_url</th>\n",
       "      <th>data_source</th>\n",
       "    </tr>\n",
       "  </thead>\n",
       "  <tbody>\n",
       "    <tr>\n",
       "      <th>0</th>\n",
       "      <td>0</td>\n",
       "      <td>906000000000000000</td>\n",
       "      <td>10_GOP</td>\n",
       "      <td>\"We have a sitting Democrat US Senator on tria...</td>\n",
       "      <td>Unknown</td>\n",
       "      <td>English</td>\n",
       "      <td>10/1/2017 19:58</td>\n",
       "      <td>1052</td>\n",
       "      <td>9636</td>\n",
       "      <td>253</td>\n",
       "      <td>0</td>\n",
       "      <td>RightTroll</td>\n",
       "      <td>914580356430536707</td>\n",
       "      <td>https://twitter.com/10_gop/status/914580356430...</td>\n",
       "      <td>Troll</td>\n",
       "    </tr>\n",
       "    <tr>\n",
       "      <th>1</th>\n",
       "      <td>1</td>\n",
       "      <td>906000000000000000</td>\n",
       "      <td>10_GOP</td>\n",
       "      <td>Marshawn Lynch arrives to game in anti-Trump s...</td>\n",
       "      <td>Unknown</td>\n",
       "      <td>English</td>\n",
       "      <td>10/1/2017 22:43</td>\n",
       "      <td>1054</td>\n",
       "      <td>9637</td>\n",
       "      <td>254</td>\n",
       "      <td>0</td>\n",
       "      <td>RightTroll</td>\n",
       "      <td>914621840496189440</td>\n",
       "      <td>https://twitter.com/damienwoody/status/9145685...</td>\n",
       "      <td>Troll</td>\n",
       "    </tr>\n",
       "  </tbody>\n",
       "</table>\n",
       "</div>"
      ],
      "text/plain": [
       "   Unnamed: 0  external_author_id  author  \\\n",
       "0           0  906000000000000000  10_GOP   \n",
       "1           1  906000000000000000  10_GOP   \n",
       "\n",
       "                                             content   region language  \\\n",
       "0  \"We have a sitting Democrat US Senator on tria...  Unknown  English   \n",
       "1  Marshawn Lynch arrives to game in anti-Trump s...  Unknown  English   \n",
       "\n",
       "      publish_date  following  followers  updates  is_retweet  \\\n",
       "0  10/1/2017 19:58       1052       9636      253           0   \n",
       "1  10/1/2017 22:43       1054       9637      254           0   \n",
       "\n",
       "  account_category            tweet_id  \\\n",
       "0       RightTroll  914580356430536707   \n",
       "1       RightTroll  914621840496189440   \n",
       "\n",
       "                                            full_url data_source  \n",
       "0  https://twitter.com/10_gop/status/914580356430...       Troll  \n",
       "1  https://twitter.com/damienwoody/status/9145685...       Troll  "
      ]
     },
     "execution_count": 9,
     "metadata": {},
     "output_type": "execute_result"
    }
   ],
   "source": [
    "data.head(2)"
   ]
  },
  {
   "cell_type": "code",
   "execution_count": 14,
   "metadata": {},
   "outputs": [
    {
     "name": "stdout",
     "output_type": "stream",
     "text": [
      "<class 'pandas.core.frame.DataFrame'>\n",
      "RangeIndex: 2116867 entries, 0 to 2116866\n",
      "Data columns (total 15 columns):\n",
      " #   Column              Dtype \n",
      "---  ------              ----- \n",
      " 0   Unnamed: 0          int64 \n",
      " 1   external_author_id  int64 \n",
      " 2   author              object\n",
      " 3   content             object\n",
      " 4   region              object\n",
      " 5   language            object\n",
      " 6   publish_date        object\n",
      " 7   following           int64 \n",
      " 8   followers           int64 \n",
      " 9   updates             int64 \n",
      " 10  is_retweet          int64 \n",
      " 11  account_category    object\n",
      " 12  tweet_id            int64 \n",
      " 13  full_url            object\n",
      " 14  data_source         object\n",
      "dtypes: int64(7), object(8)\n",
      "memory usage: 242.3+ MB\n"
     ]
    }
   ],
   "source": [
    "data.info()"
   ]
  },
  {
   "cell_type": "code",
   "execution_count": 15,
   "metadata": {},
   "outputs": [
    {
     "data": {
      "text/plain": [
       "Unnamed: 0                 0\n",
       "external_author_id         0\n",
       "author                     0\n",
       "content                    1\n",
       "region                  1136\n",
       "language                   0\n",
       "publish_date               0\n",
       "following                  0\n",
       "followers                  0\n",
       "updates                    0\n",
       "is_retweet                 0\n",
       "account_category           0\n",
       "tweet_id                   0\n",
       "full_url              758807\n",
       "data_source                0\n",
       "dtype: int64"
      ]
     },
     "execution_count": 15,
     "metadata": {},
     "output_type": "execute_result"
    }
   ],
   "source": [
    "data.isnull().sum()"
   ]
  },
  {
   "cell_type": "code",
   "execution_count": 16,
   "metadata": {},
   "outputs": [],
   "source": [
    "df = pd.read_csv(\"../data/merged_dataset.csv\",encoding='UTF-8',low_memory=False)"
   ]
  },
  {
   "cell_type": "code",
   "execution_count": 17,
   "metadata": {},
   "outputs": [
    {
     "data": {
      "text/plain": [
       "(2610060, 17)"
      ]
     },
     "execution_count": 17,
     "metadata": {},
     "output_type": "execute_result"
    }
   ],
   "source": [
    "df.shape"
   ]
  },
  {
   "cell_type": "code",
   "execution_count": 18,
   "metadata": {},
   "outputs": [
    {
     "data": {
      "text/html": [
       "<div>\n",
       "<style scoped>\n",
       "    .dataframe tbody tr th:only-of-type {\n",
       "        vertical-align: middle;\n",
       "    }\n",
       "\n",
       "    .dataframe tbody tr th {\n",
       "        vertical-align: top;\n",
       "    }\n",
       "\n",
       "    .dataframe thead th {\n",
       "        text-align: right;\n",
       "    }\n",
       "</style>\n",
       "<table border=\"1\" class=\"dataframe\">\n",
       "  <thead>\n",
       "    <tr style=\"text-align: right;\">\n",
       "      <th></th>\n",
       "      <th>Unnamed: 0</th>\n",
       "      <th>external_author_id</th>\n",
       "      <th>author</th>\n",
       "      <th>content</th>\n",
       "      <th>region</th>\n",
       "      <th>language</th>\n",
       "      <th>publish_date</th>\n",
       "      <th>following</th>\n",
       "      <th>followers</th>\n",
       "      <th>updates</th>\n",
       "      <th>is_retweet</th>\n",
       "      <th>account_category</th>\n",
       "      <th>tweet_id</th>\n",
       "      <th>full_url</th>\n",
       "      <th>has_URL</th>\n",
       "      <th>emoji_text</th>\n",
       "      <th>emoji_count</th>\n",
       "    </tr>\n",
       "  </thead>\n",
       "  <tbody>\n",
       "    <tr>\n",
       "      <th>0</th>\n",
       "      <td>0</td>\n",
       "      <td>906000000000000000</td>\n",
       "      <td>10_GOP</td>\n",
       "      <td>\"We have a sitting Democrat US Senator on tria...</td>\n",
       "      <td>Unknown</td>\n",
       "      <td>English</td>\n",
       "      <td>10/1/2017 19:58</td>\n",
       "      <td>1052.0</td>\n",
       "      <td>9636</td>\n",
       "      <td>253.0</td>\n",
       "      <td>0</td>\n",
       "      <td>RightTroll</td>\n",
       "      <td>914580356430536707</td>\n",
       "      <td>https://twitter.com/10_gop/status/914580356430...</td>\n",
       "      <td>0.0</td>\n",
       "      <td>[]</td>\n",
       "      <td>0.0</td>\n",
       "    </tr>\n",
       "    <tr>\n",
       "      <th>1</th>\n",
       "      <td>1</td>\n",
       "      <td>906000000000000000</td>\n",
       "      <td>10_GOP</td>\n",
       "      <td>Marshawn Lynch arrives to game in anti-Trump s...</td>\n",
       "      <td>Unknown</td>\n",
       "      <td>English</td>\n",
       "      <td>10/1/2017 22:43</td>\n",
       "      <td>1054.0</td>\n",
       "      <td>9637</td>\n",
       "      <td>254.0</td>\n",
       "      <td>0</td>\n",
       "      <td>RightTroll</td>\n",
       "      <td>914621840496189440</td>\n",
       "      <td>https://twitter.com/damienwoody/status/9145685...</td>\n",
       "      <td>0.0</td>\n",
       "      <td>[]</td>\n",
       "      <td>0.0</td>\n",
       "    </tr>\n",
       "    <tr>\n",
       "      <th>2</th>\n",
       "      <td>2</td>\n",
       "      <td>906000000000000000</td>\n",
       "      <td>10_GOP</td>\n",
       "      <td>Daughter of fallen Navy Sailor delivers powerf...</td>\n",
       "      <td>Unknown</td>\n",
       "      <td>English</td>\n",
       "      <td>10/1/2017 22:50</td>\n",
       "      <td>1054.0</td>\n",
       "      <td>9637</td>\n",
       "      <td>255.0</td>\n",
       "      <td>1</td>\n",
       "      <td>RightTroll</td>\n",
       "      <td>914623490375979008</td>\n",
       "      <td>https://twitter.com/10_gop/status/913231923715...</td>\n",
       "      <td>0.0</td>\n",
       "      <td>[]</td>\n",
       "      <td>0.0</td>\n",
       "    </tr>\n",
       "    <tr>\n",
       "      <th>3</th>\n",
       "      <td>3</td>\n",
       "      <td>906000000000000000</td>\n",
       "      <td>10_GOP</td>\n",
       "      <td>JUST IN: President Trump dedicates Presidents ...</td>\n",
       "      <td>Unknown</td>\n",
       "      <td>English</td>\n",
       "      <td>10/1/2017 23:52</td>\n",
       "      <td>1062.0</td>\n",
       "      <td>9642</td>\n",
       "      <td>256.0</td>\n",
       "      <td>0</td>\n",
       "      <td>RightTroll</td>\n",
       "      <td>914639143690555392</td>\n",
       "      <td>https://twitter.com/10_gop/status/914639143690...</td>\n",
       "      <td>0.0</td>\n",
       "      <td>[]</td>\n",
       "      <td>0.0</td>\n",
       "    </tr>\n",
       "    <tr>\n",
       "      <th>4</th>\n",
       "      <td>4</td>\n",
       "      <td>906000000000000000</td>\n",
       "      <td>10_GOP</td>\n",
       "      <td>19,000 RESPECTING our National Anthem! #StandF...</td>\n",
       "      <td>Unknown</td>\n",
       "      <td>English</td>\n",
       "      <td>10/1/2017 2:13</td>\n",
       "      <td>1050.0</td>\n",
       "      <td>9645</td>\n",
       "      <td>246.0</td>\n",
       "      <td>1</td>\n",
       "      <td>RightTroll</td>\n",
       "      <td>914312219952861184</td>\n",
       "      <td>https://twitter.com/realDonaldTrump/status/914...</td>\n",
       "      <td>0.0</td>\n",
       "      <td>['flag: United States']</td>\n",
       "      <td>1.0</td>\n",
       "    </tr>\n",
       "  </tbody>\n",
       "</table>\n",
       "</div>"
      ],
      "text/plain": [
       "  Unnamed: 0  external_author_id  author  \\\n",
       "0          0  906000000000000000  10_GOP   \n",
       "1          1  906000000000000000  10_GOP   \n",
       "2          2  906000000000000000  10_GOP   \n",
       "3          3  906000000000000000  10_GOP   \n",
       "4          4  906000000000000000  10_GOP   \n",
       "\n",
       "                                             content   region language  \\\n",
       "0  \"We have a sitting Democrat US Senator on tria...  Unknown  English   \n",
       "1  Marshawn Lynch arrives to game in anti-Trump s...  Unknown  English   \n",
       "2  Daughter of fallen Navy Sailor delivers powerf...  Unknown  English   \n",
       "3  JUST IN: President Trump dedicates Presidents ...  Unknown  English   \n",
       "4  19,000 RESPECTING our National Anthem! #StandF...  Unknown  English   \n",
       "\n",
       "      publish_date  following followers  updates is_retweet account_category  \\\n",
       "0  10/1/2017 19:58     1052.0      9636    253.0          0       RightTroll   \n",
       "1  10/1/2017 22:43     1054.0      9637    254.0          0       RightTroll   \n",
       "2  10/1/2017 22:50     1054.0      9637    255.0          1       RightTroll   \n",
       "3  10/1/2017 23:52     1062.0      9642    256.0          0       RightTroll   \n",
       "4   10/1/2017 2:13     1050.0      9645    246.0          1       RightTroll   \n",
       "\n",
       "             tweet_id                                           full_url  \\\n",
       "0  914580356430536707  https://twitter.com/10_gop/status/914580356430...   \n",
       "1  914621840496189440  https://twitter.com/damienwoody/status/9145685...   \n",
       "2  914623490375979008  https://twitter.com/10_gop/status/913231923715...   \n",
       "3  914639143690555392  https://twitter.com/10_gop/status/914639143690...   \n",
       "4  914312219952861184  https://twitter.com/realDonaldTrump/status/914...   \n",
       "\n",
       "   has_URL               emoji_text  emoji_count  \n",
       "0      0.0                       []          0.0  \n",
       "1      0.0                       []          0.0  \n",
       "2      0.0                       []          0.0  \n",
       "3      0.0                       []          0.0  \n",
       "4      0.0  ['flag: United States']          1.0  "
      ]
     },
     "execution_count": 18,
     "metadata": {},
     "output_type": "execute_result"
    }
   ],
   "source": [
    "df.head(5)"
   ]
  },
  {
   "cell_type": "code",
   "execution_count": 25,
   "metadata": {},
   "outputs": [
    {
     "data": {
      "text/plain": [
       "RETWEET        1270702\n",
       "QUOTE_TWEET      40244\n",
       "Name: post_type, dtype: int64"
      ]
     },
     "execution_count": 25,
     "metadata": {},
     "output_type": "execute_result"
    }
   ],
   "source": [
    "df.post_type.value_counts()"
   ]
  },
  {
   "cell_type": "code",
   "execution_count": 26,
   "metadata": {},
   "outputs": [
    {
     "data": {
      "text/plain": [
       "0    1662425\n",
       "1    1310946\n",
       "Name: retweet, dtype: int64"
      ]
     },
     "execution_count": 26,
     "metadata": {},
     "output_type": "execute_result"
    }
   ],
   "source": [
    "df.retweet.value_counts()"
   ]
  },
  {
   "cell_type": "code",
   "execution_count": 27,
   "metadata": {},
   "outputs": [
    {
     "data": {
      "text/plain": [
       "76210"
      ]
     },
     "execution_count": 27,
     "metadata": {},
     "output_type": "execute_result"
    }
   ],
   "source": [
    "df.following.max()"
   ]
  },
  {
   "cell_type": "code",
   "execution_count": 34,
   "metadata": {},
   "outputs": [
    {
     "data": {
      "text/html": [
       "<div>\n",
       "<style scoped>\n",
       "    .dataframe tbody tr th:only-of-type {\n",
       "        vertical-align: middle;\n",
       "    }\n",
       "\n",
       "    .dataframe tbody tr th {\n",
       "        vertical-align: top;\n",
       "    }\n",
       "\n",
       "    .dataframe thead th {\n",
       "        text-align: right;\n",
       "    }\n",
       "</style>\n",
       "<table border=\"1\" class=\"dataframe\">\n",
       "  <thead>\n",
       "    <tr style=\"text-align: right;\">\n",
       "      <th></th>\n",
       "      <th>external_author_id</th>\n",
       "      <th>author</th>\n",
       "      <th>content</th>\n",
       "      <th>region</th>\n",
       "      <th>language</th>\n",
       "      <th>publish_date</th>\n",
       "      <th>harvested_date</th>\n",
       "      <th>following</th>\n",
       "      <th>followers</th>\n",
       "      <th>updates</th>\n",
       "      <th>post_type</th>\n",
       "      <th>account_type</th>\n",
       "      <th>new_june_2018</th>\n",
       "      <th>retweet</th>\n",
       "      <th>account_category</th>\n",
       "    </tr>\n",
       "  </thead>\n",
       "  <tbody>\n",
       "    <tr>\n",
       "      <th>2603189</th>\n",
       "      <td>4.224730e+09</td>\n",
       "      <td>TEN_GOP</td>\n",
       "      <td>'@lucianwintrich #LiberalLogic: When you don't...</td>\n",
       "      <td>United States</td>\n",
       "      <td>English</td>\n",
       "      <td>3/10/2017 19:41</td>\n",
       "      <td>3/10/2017 19:41</td>\n",
       "      <td>76023</td>\n",
       "      <td>93579</td>\n",
       "      <td>7698</td>\n",
       "      <td>NaN</td>\n",
       "      <td>Right</td>\n",
       "      <td>0</td>\n",
       "      <td>0</td>\n",
       "      <td>RightTroll</td>\n",
       "    </tr>\n",
       "    <tr>\n",
       "      <th>2603190</th>\n",
       "      <td>4.224730e+09</td>\n",
       "      <td>TEN_GOP</td>\n",
       "      <td>How does Angela Merkel sleep at night? https:/...</td>\n",
       "      <td>United States</td>\n",
       "      <td>English</td>\n",
       "      <td>3/10/2017 20:03</td>\n",
       "      <td>3/10/2017 20:03</td>\n",
       "      <td>76063</td>\n",
       "      <td>93588</td>\n",
       "      <td>7699</td>\n",
       "      <td>RETWEET</td>\n",
       "      <td>Right</td>\n",
       "      <td>0</td>\n",
       "      <td>1</td>\n",
       "      <td>RightTroll</td>\n",
       "    </tr>\n",
       "    <tr>\n",
       "      <th>2603191</th>\n",
       "      <td>4.224730e+09</td>\n",
       "      <td>TEN_GOP</td>\n",
       "      <td>Just another day in Paris. https://t.co/rfbT1O...</td>\n",
       "      <td>United States</td>\n",
       "      <td>English</td>\n",
       "      <td>3/10/2017 20:21</td>\n",
       "      <td>3/10/2017 20:21</td>\n",
       "      <td>76060</td>\n",
       "      <td>93599</td>\n",
       "      <td>7700</td>\n",
       "      <td>NaN</td>\n",
       "      <td>Right</td>\n",
       "      <td>0</td>\n",
       "      <td>0</td>\n",
       "      <td>RightTroll</td>\n",
       "    </tr>\n",
       "    <tr>\n",
       "      <th>2603192</th>\n",
       "      <td>4.224730e+09</td>\n",
       "      <td>TEN_GOP</td>\n",
       "      <td>BREAKING: Jeff Sessions asks Obama's holdover ...</td>\n",
       "      <td>United States</td>\n",
       "      <td>English</td>\n",
       "      <td>3/10/2017 20:34</td>\n",
       "      <td>3/10/2017 20:34</td>\n",
       "      <td>76060</td>\n",
       "      <td>93600</td>\n",
       "      <td>7701</td>\n",
       "      <td>NaN</td>\n",
       "      <td>Right</td>\n",
       "      <td>0</td>\n",
       "      <td>0</td>\n",
       "      <td>RightTroll</td>\n",
       "    </tr>\n",
       "    <tr>\n",
       "      <th>2603193</th>\n",
       "      <td>4.224730e+09</td>\n",
       "      <td>TEN_GOP</td>\n",
       "      <td>'@CNN ���'</td>\n",
       "      <td>United States</td>\n",
       "      <td>English</td>\n",
       "      <td>3/10/2017 21:09</td>\n",
       "      <td>3/10/2017 21:09</td>\n",
       "      <td>76060</td>\n",
       "      <td>93609</td>\n",
       "      <td>7702</td>\n",
       "      <td>NaN</td>\n",
       "      <td>Right</td>\n",
       "      <td>0</td>\n",
       "      <td>0</td>\n",
       "      <td>RightTroll</td>\n",
       "    </tr>\n",
       "  </tbody>\n",
       "</table>\n",
       "</div>"
      ],
      "text/plain": [
       "         external_author_id   author  \\\n",
       "2603189        4.224730e+09  TEN_GOP   \n",
       "2603190        4.224730e+09  TEN_GOP   \n",
       "2603191        4.224730e+09  TEN_GOP   \n",
       "2603192        4.224730e+09  TEN_GOP   \n",
       "2603193        4.224730e+09  TEN_GOP   \n",
       "\n",
       "                                                   content         region  \\\n",
       "2603189  '@lucianwintrich #LiberalLogic: When you don't...  United States   \n",
       "2603190  How does Angela Merkel sleep at night? https:/...  United States   \n",
       "2603191  Just another day in Paris. https://t.co/rfbT1O...  United States   \n",
       "2603192  BREAKING: Jeff Sessions asks Obama's holdover ...  United States   \n",
       "2603193                                         '@CNN ���'  United States   \n",
       "\n",
       "        language     publish_date   harvested_date  following  followers  \\\n",
       "2603189  English  3/10/2017 19:41  3/10/2017 19:41      76023      93579   \n",
       "2603190  English  3/10/2017 20:03  3/10/2017 20:03      76063      93588   \n",
       "2603191  English  3/10/2017 20:21  3/10/2017 20:21      76060      93599   \n",
       "2603192  English  3/10/2017 20:34  3/10/2017 20:34      76060      93600   \n",
       "2603193  English  3/10/2017 21:09  3/10/2017 21:09      76060      93609   \n",
       "\n",
       "         updates post_type account_type  new_june_2018  retweet  \\\n",
       "2603189     7698       NaN        Right              0        0   \n",
       "2603190     7699   RETWEET        Right              0        1   \n",
       "2603191     7700       NaN        Right              0        0   \n",
       "2603192     7701       NaN        Right              0        0   \n",
       "2603193     7702       NaN        Right              0        0   \n",
       "\n",
       "        account_category  \n",
       "2603189       RightTroll  \n",
       "2603190       RightTroll  \n",
       "2603191       RightTroll  \n",
       "2603192       RightTroll  \n",
       "2603193       RightTroll  "
      ]
     },
     "execution_count": 34,
     "metadata": {},
     "output_type": "execute_result"
    }
   ],
   "source": [
    "df.loc[df['following'] > 76000][:5]"
   ]
  },
  {
   "cell_type": "code",
   "execution_count": 38,
   "metadata": {},
   "outputs": [
    {
     "data": {
      "text/plain": [
       "2603189    '@lucianwintrich #LiberalLogic: When you don't...\n",
       "Name: content, dtype: object"
      ]
     },
     "execution_count": 38,
     "metadata": {},
     "output_type": "execute_result"
    }
   ],
   "source": [
    "df.iloc[[2603189]]['content']"
   ]
  },
  {
   "cell_type": "code",
   "execution_count": 39,
   "metadata": {},
   "outputs": [],
   "source": []
  },
  {
   "cell_type": "code",
   "execution_count": 40,
   "metadata": {},
   "outputs": [
    {
     "data": {
      "text/plain": [
       "2603189    '@lucianwintrich #LiberalLogic: When you don't agree and have no counter argument call them a Nazi.'\n",
       "Name: content, dtype: object"
      ]
     },
     "execution_count": 40,
     "metadata": {},
     "output_type": "execute_result"
    }
   ],
   "source": [
    "df.iloc[[2603189]]['content']"
   ]
  },
  {
   "cell_type": "code",
   "execution_count": null,
   "metadata": {},
   "outputs": [],
   "source": []
  }
 ],
 "metadata": {
  "kernelspec": {
   "display_name": "Python 3",
   "language": "python",
   "name": "python3"
  },
  "language_info": {
   "codemirror_mode": {
    "name": "ipython",
    "version": 3
   },
   "file_extension": ".py",
   "mimetype": "text/x-python",
   "name": "python",
   "nbconvert_exporter": "python",
   "pygments_lexer": "ipython3",
   "version": "3.8.5"
  }
 },
 "nbformat": 4,
 "nbformat_minor": 4
}
