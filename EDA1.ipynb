{
 "cells": [
  {
   "cell_type": "markdown",
   "metadata": {},
   "source": [
    "EDA Notebook 1 (Russian Troll Tweets)"
   ]
  },
  {
   "cell_type": "code",
   "execution_count": 1,
   "metadata": {},
   "outputs": [],
   "source": [
    "import pandas as pd \n",
    "import glob\n",
    "import os\n",
    "import numpy as np"
   ]
  },
  {
   "cell_type": "code",
   "execution_count": 41,
   "metadata": {},
   "outputs": [],
   "source": [
    "pd.set_option('display.max_colwidth',None)"
   ]
  },
  {
   "cell_type": "code",
   "execution_count": 3,
   "metadata": {},
   "outputs": [
    {
     "data": {
      "text/plain": [
       "'/Users/katymatulay/Documents/GitHub/tweet-turing-test'"
      ]
     },
     "execution_count": 3,
     "metadata": {},
     "output_type": "execute_result"
    }
   ],
   "source": [
    "os.getcwd()"
   ]
  },
  {
   "cell_type": "code",
   "execution_count": 4,
   "metadata": {},
   "outputs": [],
   "source": [
    "os.chdir('/Users/katymatulay/Documents/Drexel - Grad School/07 Fall 2022/DSCI591/Capstone/data')"
   ]
  },
  {
   "cell_type": "code",
   "execution_count": 22,
   "metadata": {},
   "outputs": [
    {
     "name": "stdout",
     "output_type": "stream",
     "text": [
      "['Untitled1.ipynb', '.DS_Store', 'json_snapshot.json', 'Untitled.ipynb', 'all_tweets_encoded.csv', 'English_tweets.csv', 'merged_dataset.csv', 'old_data', '.ipynb_checkpoints', 'csv_snapshot.csv']\n"
     ]
    }
   ],
   "source": [
    "print(os.listdir(\"../data\"))"
   ]
  },
  {
   "cell_type": "code",
   "execution_count": 44,
   "metadata": {},
   "outputs": [],
   "source": [
    "df = pd.read_csv(\"../data/csv_snapshot.csv\",encoding='UTF-8',low_memory=False)"
   ]
  },
  {
   "cell_type": "code",
   "execution_count": 45,
   "metadata": {},
   "outputs": [
    {
     "data": {
      "text/plain": [
       "(2946207, 22)"
      ]
     },
     "execution_count": 45,
     "metadata": {},
     "output_type": "execute_result"
    }
   ],
   "source": [
    "df.shape"
   ]
  },
  {
   "cell_type": "code",
   "execution_count": 46,
   "metadata": {},
   "outputs": [
    {
     "data": {
      "text/html": [
       "<div>\n",
       "<style scoped>\n",
       "    .dataframe tbody tr th:only-of-type {\n",
       "        vertical-align: middle;\n",
       "    }\n",
       "\n",
       "    .dataframe tbody tr th {\n",
       "        vertical-align: top;\n",
       "    }\n",
       "\n",
       "    .dataframe thead th {\n",
       "        text-align: right;\n",
       "    }\n",
       "</style>\n",
       "<table border=\"1\" class=\"dataframe\">\n",
       "  <thead>\n",
       "    <tr style=\"text-align: right;\">\n",
       "      <th></th>\n",
       "      <th>Unnamed: 0</th>\n",
       "      <th>external_author_id</th>\n",
       "      <th>author</th>\n",
       "      <th>content</th>\n",
       "      <th>region</th>\n",
       "      <th>language</th>\n",
       "      <th>publish_date</th>\n",
       "      <th>harvested_date</th>\n",
       "      <th>following</th>\n",
       "      <th>followers</th>\n",
       "      <th>...</th>\n",
       "      <th>account_type</th>\n",
       "      <th>retweet</th>\n",
       "      <th>account_category</th>\n",
       "      <th>new_june_2018</th>\n",
       "      <th>alt_external_id</th>\n",
       "      <th>tweet_id</th>\n",
       "      <th>article_url</th>\n",
       "      <th>tco1_step1</th>\n",
       "      <th>tco2_step1</th>\n",
       "      <th>tco3_step1</th>\n",
       "    </tr>\n",
       "  </thead>\n",
       "  <tbody>\n",
       "    <tr>\n",
       "      <th>0</th>\n",
       "      <td>0</td>\n",
       "      <td>906000000000000000</td>\n",
       "      <td>10_GOP</td>\n",
       "      <td>\"We have a sitting Democrat US Senator on tria...</td>\n",
       "      <td>Unknown</td>\n",
       "      <td>English</td>\n",
       "      <td>10/1/2017 19:58</td>\n",
       "      <td>10/1/2017 19:59</td>\n",
       "      <td>1052</td>\n",
       "      <td>9636</td>\n",
       "      <td>...</td>\n",
       "      <td>Right</td>\n",
       "      <td>0</td>\n",
       "      <td>RightTroll</td>\n",
       "      <td>0</td>\n",
       "      <td>905874659358453760</td>\n",
       "      <td>914580356430536707</td>\n",
       "      <td>http://twitter.com/905874659358453760/statuses...</td>\n",
       "      <td>https://twitter.com/10_gop/status/914580356430...</td>\n",
       "      <td>NaN</td>\n",
       "      <td>NaN</td>\n",
       "    </tr>\n",
       "    <tr>\n",
       "      <th>1</th>\n",
       "      <td>1</td>\n",
       "      <td>906000000000000000</td>\n",
       "      <td>10_GOP</td>\n",
       "      <td>Marshawn Lynch arrives to game in anti-Trump s...</td>\n",
       "      <td>Unknown</td>\n",
       "      <td>English</td>\n",
       "      <td>10/1/2017 22:43</td>\n",
       "      <td>10/1/2017 22:43</td>\n",
       "      <td>1054</td>\n",
       "      <td>9637</td>\n",
       "      <td>...</td>\n",
       "      <td>Right</td>\n",
       "      <td>0</td>\n",
       "      <td>RightTroll</td>\n",
       "      <td>0</td>\n",
       "      <td>905874659358453760</td>\n",
       "      <td>914621840496189440</td>\n",
       "      <td>http://twitter.com/905874659358453760/statuses...</td>\n",
       "      <td>https://twitter.com/damienwoody/status/9145685...</td>\n",
       "      <td>NaN</td>\n",
       "      <td>NaN</td>\n",
       "    </tr>\n",
       "    <tr>\n",
       "      <th>2</th>\n",
       "      <td>2</td>\n",
       "      <td>906000000000000000</td>\n",
       "      <td>10_GOP</td>\n",
       "      <td>Daughter of fallen Navy Sailor delivers powerf...</td>\n",
       "      <td>Unknown</td>\n",
       "      <td>English</td>\n",
       "      <td>10/1/2017 22:50</td>\n",
       "      <td>10/1/2017 22:51</td>\n",
       "      <td>1054</td>\n",
       "      <td>9637</td>\n",
       "      <td>...</td>\n",
       "      <td>Right</td>\n",
       "      <td>1</td>\n",
       "      <td>RightTroll</td>\n",
       "      <td>0</td>\n",
       "      <td>905874659358453760</td>\n",
       "      <td>914623490375979008</td>\n",
       "      <td>http://twitter.com/905874659358453760/statuses...</td>\n",
       "      <td>https://twitter.com/10_gop/status/913231923715...</td>\n",
       "      <td>NaN</td>\n",
       "      <td>NaN</td>\n",
       "    </tr>\n",
       "    <tr>\n",
       "      <th>3</th>\n",
       "      <td>3</td>\n",
       "      <td>906000000000000000</td>\n",
       "      <td>10_GOP</td>\n",
       "      <td>JUST IN: President Trump dedicates Presidents ...</td>\n",
       "      <td>Unknown</td>\n",
       "      <td>English</td>\n",
       "      <td>10/1/2017 23:52</td>\n",
       "      <td>10/1/2017 23:52</td>\n",
       "      <td>1062</td>\n",
       "      <td>9642</td>\n",
       "      <td>...</td>\n",
       "      <td>Right</td>\n",
       "      <td>0</td>\n",
       "      <td>RightTroll</td>\n",
       "      <td>0</td>\n",
       "      <td>905874659358453760</td>\n",
       "      <td>914639143690555392</td>\n",
       "      <td>http://twitter.com/905874659358453760/statuses...</td>\n",
       "      <td>https://twitter.com/10_gop/status/914639143690...</td>\n",
       "      <td>NaN</td>\n",
       "      <td>NaN</td>\n",
       "    </tr>\n",
       "    <tr>\n",
       "      <th>4</th>\n",
       "      <td>4</td>\n",
       "      <td>906000000000000000</td>\n",
       "      <td>10_GOP</td>\n",
       "      <td>19,000 RESPECTING our National Anthem! #StandF...</td>\n",
       "      <td>Unknown</td>\n",
       "      <td>English</td>\n",
       "      <td>10/1/2017 2:13</td>\n",
       "      <td>10/1/2017 2:13</td>\n",
       "      <td>1050</td>\n",
       "      <td>9645</td>\n",
       "      <td>...</td>\n",
       "      <td>Right</td>\n",
       "      <td>1</td>\n",
       "      <td>RightTroll</td>\n",
       "      <td>0</td>\n",
       "      <td>905874659358453760</td>\n",
       "      <td>914312219952861184</td>\n",
       "      <td>http://twitter.com/905874659358453760/statuses...</td>\n",
       "      <td>https://twitter.com/realDonaldTrump/status/914...</td>\n",
       "      <td>NaN</td>\n",
       "      <td>NaN</td>\n",
       "    </tr>\n",
       "  </tbody>\n",
       "</table>\n",
       "<p>5 rows × 22 columns</p>\n",
       "</div>"
      ],
      "text/plain": [
       "   Unnamed: 0  external_author_id  author  \\\n",
       "0           0  906000000000000000  10_GOP   \n",
       "1           1  906000000000000000  10_GOP   \n",
       "2           2  906000000000000000  10_GOP   \n",
       "3           3  906000000000000000  10_GOP   \n",
       "4           4  906000000000000000  10_GOP   \n",
       "\n",
       "                                             content   region language  \\\n",
       "0  \"We have a sitting Democrat US Senator on tria...  Unknown  English   \n",
       "1  Marshawn Lynch arrives to game in anti-Trump s...  Unknown  English   \n",
       "2  Daughter of fallen Navy Sailor delivers powerf...  Unknown  English   \n",
       "3  JUST IN: President Trump dedicates Presidents ...  Unknown  English   \n",
       "4  19,000 RESPECTING our National Anthem! #StandF...  Unknown  English   \n",
       "\n",
       "      publish_date   harvested_date  following  followers  ...  account_type  \\\n",
       "0  10/1/2017 19:58  10/1/2017 19:59       1052       9636  ...         Right   \n",
       "1  10/1/2017 22:43  10/1/2017 22:43       1054       9637  ...         Right   \n",
       "2  10/1/2017 22:50  10/1/2017 22:51       1054       9637  ...         Right   \n",
       "3  10/1/2017 23:52  10/1/2017 23:52       1062       9642  ...         Right   \n",
       "4   10/1/2017 2:13   10/1/2017 2:13       1050       9645  ...         Right   \n",
       "\n",
       "  retweet account_category  new_june_2018     alt_external_id  \\\n",
       "0       0       RightTroll              0  905874659358453760   \n",
       "1       0       RightTroll              0  905874659358453760   \n",
       "2       1       RightTroll              0  905874659358453760   \n",
       "3       0       RightTroll              0  905874659358453760   \n",
       "4       1       RightTroll              0  905874659358453760   \n",
       "\n",
       "             tweet_id                                        article_url  \\\n",
       "0  914580356430536707  http://twitter.com/905874659358453760/statuses...   \n",
       "1  914621840496189440  http://twitter.com/905874659358453760/statuses...   \n",
       "2  914623490375979008  http://twitter.com/905874659358453760/statuses...   \n",
       "3  914639143690555392  http://twitter.com/905874659358453760/statuses...   \n",
       "4  914312219952861184  http://twitter.com/905874659358453760/statuses...   \n",
       "\n",
       "                                          tco1_step1 tco2_step1 tco3_step1  \n",
       "0  https://twitter.com/10_gop/status/914580356430...        NaN        NaN  \n",
       "1  https://twitter.com/damienwoody/status/9145685...        NaN        NaN  \n",
       "2  https://twitter.com/10_gop/status/913231923715...        NaN        NaN  \n",
       "3  https://twitter.com/10_gop/status/914639143690...        NaN        NaN  \n",
       "4  https://twitter.com/realDonaldTrump/status/914...        NaN        NaN  \n",
       "\n",
       "[5 rows x 22 columns]"
      ]
     },
     "execution_count": 46,
     "metadata": {},
     "output_type": "execute_result"
    }
   ],
   "source": [
    "df.head(5)"
   ]
  },
  {
   "cell_type": "code",
   "execution_count": 47,
   "metadata": {},
   "outputs": [
    {
     "data": {
      "text/plain": [
       "Index(['Unnamed: 0', 'external_author_id', 'author', 'content', 'region',\n",
       "       'language', 'publish_date', 'harvested_date', 'following', 'followers',\n",
       "       'updates', 'post_type', 'account_type', 'retweet', 'account_category',\n",
       "       'new_june_2018', 'alt_external_id', 'tweet_id', 'article_url',\n",
       "       'tco1_step1', 'tco2_step1', 'tco3_step1'],\n",
       "      dtype='object')"
      ]
     },
     "execution_count": 47,
     "metadata": {},
     "output_type": "execute_result"
    }
   ],
   "source": [
    "df.columns"
   ]
  },
  {
   "cell_type": "code",
   "execution_count": 48,
   "metadata": {},
   "outputs": [
    {
     "data": {
      "text/plain": [
       "English                2116867\n",
       "Russian                 610943\n",
       "German                   86983\n",
       "Ukrainian                38669\n",
       "Italian                  18063\n",
       "Serbian                   9480\n",
       "Uzbek                     9334\n",
       "Bulgarian                 9236\n",
       "LANGUAGE UNDEFINED        8320\n",
       "Arabic                    7588\n",
       "Macedonian                5178\n",
       "French                    4562\n",
       "Spanish                   3011\n",
       "Norwegian                 2237\n",
       "Farsi (Persian)           1684\n",
       "Romanian                  1629\n",
       "Dutch                     1165\n",
       "Swedish                   1014\n",
       "Vietnamese                 982\n",
       "Estonian                   770\n",
       "Japanese                   764\n",
       "Catalan                    589\n",
       "Finnish                    579\n",
       "Albanian                   572\n",
       "Croatian                   544\n",
       "Icelandic                  498\n",
       "Pushto                     487\n",
       "Portuguese                 463\n",
       "Turkish                    445\n",
       "Lithuanian                 416\n",
       "Polish                     386\n",
       "Somali                     276\n",
       "Slovak                     260\n",
       "Tagalog (Filipino)         238\n",
       "Malay                      236\n",
       "Kurdish                    235\n",
       "Latvian                    219\n",
       "Hungarian                  191\n",
       "Greek                      186\n",
       "Czech                      182\n",
       "Indonesian                 168\n",
       "Korean                     106\n",
       "Danish                      91\n",
       "Hindi                       87\n",
       "Hebrew                      65\n",
       "Slovenian                   60\n",
       "Urdu                        58\n",
       "Thai                        38\n",
       "Simplified Chinese          21\n",
       "Traditional Chinese         11\n",
       "Tamil                        9\n",
       "Gujarati                     6\n",
       "Bengali                      2\n",
       "Telugu                       2\n",
       "Kannada                      1\n",
       "Malayalam                    1\n",
       "Name: language, dtype: int64"
      ]
     },
     "execution_count": 48,
     "metadata": {},
     "output_type": "execute_result"
    }
   ],
   "source": [
    "df.language.value_counts()"
   ]
  },
  {
   "cell_type": "code",
   "execution_count": 49,
   "metadata": {},
   "outputs": [
    {
     "data": {
      "text/plain": [
       "76210"
      ]
     },
     "execution_count": 49,
     "metadata": {},
     "output_type": "execute_result"
    }
   ],
   "source": [
    "df.following.max()"
   ]
  },
  {
   "cell_type": "code",
   "execution_count": 61,
   "metadata": {},
   "outputs": [
    {
     "data": {
      "text/html": [
       "<div>\n",
       "<style scoped>\n",
       "    .dataframe tbody tr th:only-of-type {\n",
       "        vertical-align: middle;\n",
       "    }\n",
       "\n",
       "    .dataframe tbody tr th {\n",
       "        vertical-align: top;\n",
       "    }\n",
       "\n",
       "    .dataframe thead th {\n",
       "        text-align: right;\n",
       "    }\n",
       "</style>\n",
       "<table border=\"1\" class=\"dataframe\">\n",
       "  <thead>\n",
       "    <tr style=\"text-align: right;\">\n",
       "      <th></th>\n",
       "      <th>Unnamed: 0</th>\n",
       "      <th>external_author_id</th>\n",
       "      <th>author</th>\n",
       "      <th>content</th>\n",
       "      <th>region</th>\n",
       "      <th>language</th>\n",
       "      <th>publish_date</th>\n",
       "      <th>harvested_date</th>\n",
       "      <th>following</th>\n",
       "      <th>followers</th>\n",
       "      <th>...</th>\n",
       "      <th>account_category</th>\n",
       "      <th>new_june_2018</th>\n",
       "      <th>alt_external_id</th>\n",
       "      <th>tweet_id</th>\n",
       "      <th>article_url</th>\n",
       "      <th>tco1_step1</th>\n",
       "      <th>tco2_step1</th>\n",
       "      <th>tco3_step1</th>\n",
       "      <th>follower_ratio</th>\n",
       "      <th>following_ratio</th>\n",
       "    </tr>\n",
       "  </thead>\n",
       "  <tbody>\n",
       "    <tr>\n",
       "      <th>648683</th>\n",
       "      <td>147681</td>\n",
       "      <td>4224729994</td>\n",
       "      <td>TEN_GOP</td>\n",
       "      <td>'@lucianwintrich #LiberalLogic: When you don't...</td>\n",
       "      <td>United States</td>\n",
       "      <td>English</td>\n",
       "      <td>3/10/2017 19:41</td>\n",
       "      <td>3/10/2017 19:41</td>\n",
       "      <td>76023</td>\n",
       "      <td>93579</td>\n",
       "      <td>...</td>\n",
       "      <td>RightTroll</td>\n",
       "      <td>0</td>\n",
       "      <td>4224729994</td>\n",
       "      <td>840286401920872448</td>\n",
       "      <td>http://twitter.com/4224729994/statuses/8402864...</td>\n",
       "      <td>NaN</td>\n",
       "      <td>NaN</td>\n",
       "      <td>NaN</td>\n",
       "      <td>1.230930</td>\n",
       "      <td>0.812394</td>\n",
       "    </tr>\n",
       "    <tr>\n",
       "      <th>648684</th>\n",
       "      <td>147682</td>\n",
       "      <td>4224729994</td>\n",
       "      <td>TEN_GOP</td>\n",
       "      <td>How does Angela Merkel sleep at night? https:/...</td>\n",
       "      <td>United States</td>\n",
       "      <td>English</td>\n",
       "      <td>3/10/2017 20:03</td>\n",
       "      <td>3/10/2017 20:03</td>\n",
       "      <td>76063</td>\n",
       "      <td>93588</td>\n",
       "      <td>...</td>\n",
       "      <td>RightTroll</td>\n",
       "      <td>0</td>\n",
       "      <td>4224729994</td>\n",
       "      <td>840291964549455872</td>\n",
       "      <td>http://twitter.com/4224729994/statuses/8402919...</td>\n",
       "      <td>https://twitter.com/StefanMolyneux/status/8402...</td>\n",
       "      <td>NaN</td>\n",
       "      <td>NaN</td>\n",
       "      <td>1.230401</td>\n",
       "      <td>0.812743</td>\n",
       "    </tr>\n",
       "    <tr>\n",
       "      <th>648685</th>\n",
       "      <td>147683</td>\n",
       "      <td>4224729994</td>\n",
       "      <td>TEN_GOP</td>\n",
       "      <td>Just another day in Paris. https://t.co/rfbT1O...</td>\n",
       "      <td>United States</td>\n",
       "      <td>English</td>\n",
       "      <td>3/10/2017 20:21</td>\n",
       "      <td>3/10/2017 20:21</td>\n",
       "      <td>76060</td>\n",
       "      <td>93599</td>\n",
       "      <td>...</td>\n",
       "      <td>RightTroll</td>\n",
       "      <td>0</td>\n",
       "      <td>4224729994</td>\n",
       "      <td>840296640938356736</td>\n",
       "      <td>http://twitter.com/4224729994/statuses/8402966...</td>\n",
       "      <td>https://twitter.com/TEN_GOP/status/84029664093...</td>\n",
       "      <td>NaN</td>\n",
       "      <td>NaN</td>\n",
       "      <td>1.230594</td>\n",
       "      <td>0.812616</td>\n",
       "    </tr>\n",
       "    <tr>\n",
       "      <th>648686</th>\n",
       "      <td>147684</td>\n",
       "      <td>4224729994</td>\n",
       "      <td>TEN_GOP</td>\n",
       "      <td>BREAKING: Jeff Sessions asks Obama's holdover ...</td>\n",
       "      <td>United States</td>\n",
       "      <td>English</td>\n",
       "      <td>3/10/2017 20:34</td>\n",
       "      <td>3/10/2017 20:34</td>\n",
       "      <td>76060</td>\n",
       "      <td>93600</td>\n",
       "      <td>...</td>\n",
       "      <td>RightTroll</td>\n",
       "      <td>0</td>\n",
       "      <td>4224729994</td>\n",
       "      <td>840299847760543744</td>\n",
       "      <td>http://twitter.com/4224729994/statuses/8402998...</td>\n",
       "      <td>https://twitter.com/TEN_GOP/status/84029984776...</td>\n",
       "      <td>NaN</td>\n",
       "      <td>NaN</td>\n",
       "      <td>1.230607</td>\n",
       "      <td>0.812607</td>\n",
       "    </tr>\n",
       "    <tr>\n",
       "      <th>648687</th>\n",
       "      <td>147685</td>\n",
       "      <td>4224729994</td>\n",
       "      <td>TEN_GOP</td>\n",
       "      <td>'@CNN ���'</td>\n",
       "      <td>United States</td>\n",
       "      <td>English</td>\n",
       "      <td>3/10/2017 21:09</td>\n",
       "      <td>3/10/2017 21:09</td>\n",
       "      <td>76060</td>\n",
       "      <td>93609</td>\n",
       "      <td>...</td>\n",
       "      <td>RightTroll</td>\n",
       "      <td>0</td>\n",
       "      <td>4224729994</td>\n",
       "      <td>840308688699109377</td>\n",
       "      <td>http://twitter.com/4224729994/statuses/8403086...</td>\n",
       "      <td>NaN</td>\n",
       "      <td>NaN</td>\n",
       "      <td>NaN</td>\n",
       "      <td>1.230726</td>\n",
       "      <td>0.812529</td>\n",
       "    </tr>\n",
       "  </tbody>\n",
       "</table>\n",
       "<p>5 rows × 24 columns</p>\n",
       "</div>"
      ],
      "text/plain": [
       "        Unnamed: 0 external_author_id   author  \\\n",
       "648683      147681         4224729994  TEN_GOP   \n",
       "648684      147682         4224729994  TEN_GOP   \n",
       "648685      147683         4224729994  TEN_GOP   \n",
       "648686      147684         4224729994  TEN_GOP   \n",
       "648687      147685         4224729994  TEN_GOP   \n",
       "\n",
       "                                                  content         region  \\\n",
       "648683  '@lucianwintrich #LiberalLogic: When you don't...  United States   \n",
       "648684  How does Angela Merkel sleep at night? https:/...  United States   \n",
       "648685  Just another day in Paris. https://t.co/rfbT1O...  United States   \n",
       "648686  BREAKING: Jeff Sessions asks Obama's holdover ...  United States   \n",
       "648687                                         '@CNN ���'  United States   \n",
       "\n",
       "       language     publish_date   harvested_date  following  followers  ...  \\\n",
       "648683  English  3/10/2017 19:41  3/10/2017 19:41      76023      93579  ...   \n",
       "648684  English  3/10/2017 20:03  3/10/2017 20:03      76063      93588  ...   \n",
       "648685  English  3/10/2017 20:21  3/10/2017 20:21      76060      93599  ...   \n",
       "648686  English  3/10/2017 20:34  3/10/2017 20:34      76060      93600  ...   \n",
       "648687  English  3/10/2017 21:09  3/10/2017 21:09      76060      93609  ...   \n",
       "\n",
       "        account_category new_june_2018 alt_external_id            tweet_id  \\\n",
       "648683        RightTroll             0      4224729994  840286401920872448   \n",
       "648684        RightTroll             0      4224729994  840291964549455872   \n",
       "648685        RightTroll             0      4224729994  840296640938356736   \n",
       "648686        RightTroll             0      4224729994  840299847760543744   \n",
       "648687        RightTroll             0      4224729994  840308688699109377   \n",
       "\n",
       "                                              article_url  \\\n",
       "648683  http://twitter.com/4224729994/statuses/8402864...   \n",
       "648684  http://twitter.com/4224729994/statuses/8402919...   \n",
       "648685  http://twitter.com/4224729994/statuses/8402966...   \n",
       "648686  http://twitter.com/4224729994/statuses/8402998...   \n",
       "648687  http://twitter.com/4224729994/statuses/8403086...   \n",
       "\n",
       "                                               tco1_step1 tco2_step1  \\\n",
       "648683                                                NaN        NaN   \n",
       "648684  https://twitter.com/StefanMolyneux/status/8402...        NaN   \n",
       "648685  https://twitter.com/TEN_GOP/status/84029664093...        NaN   \n",
       "648686  https://twitter.com/TEN_GOP/status/84029984776...        NaN   \n",
       "648687                                                NaN        NaN   \n",
       "\n",
       "        tco3_step1 follower_ratio following_ratio  \n",
       "648683         NaN       1.230930        0.812394  \n",
       "648684         NaN       1.230401        0.812743  \n",
       "648685         NaN       1.230594        0.812616  \n",
       "648686         NaN       1.230607        0.812607  \n",
       "648687         NaN       1.230726        0.812529  \n",
       "\n",
       "[5 rows x 24 columns]"
      ]
     },
     "execution_count": 61,
     "metadata": {},
     "output_type": "execute_result"
    }
   ],
   "source": [
    "df.loc[df['following'] > 76000][:5]"
   ]
  },
  {
   "cell_type": "code",
   "execution_count": 51,
   "metadata": {},
   "outputs": [
    {
     "data": {
      "text/plain": [
       "2603189    اتهام الرئيس التركي رجب طيب أردوغان، للأميركيي...\n",
       "Name: content, dtype: object"
      ]
     },
     "execution_count": 51,
     "metadata": {},
     "output_type": "execute_result"
    }
   ],
   "source": [
    "df.iloc[[2603189]]['content']"
   ]
  },
  {
   "cell_type": "code",
   "execution_count": 52,
   "metadata": {},
   "outputs": [
    {
     "data": {
      "text/plain": [
       "251276"
      ]
     },
     "execution_count": 52,
     "metadata": {},
     "output_type": "execute_result"
    }
   ],
   "source": [
    "df.followers.max()"
   ]
  },
  {
   "cell_type": "code",
   "execution_count": 66,
   "metadata": {},
   "outputs": [
    {
     "data": {
      "text/plain": [
       "76210"
      ]
     },
     "execution_count": 66,
     "metadata": {},
     "output_type": "execute_result"
    }
   ],
   "source": [
    "df.following.max()"
   ]
  },
  {
   "cell_type": "code",
   "execution_count": 40,
   "metadata": {},
   "outputs": [
    {
     "data": {
      "text/plain": [
       "2603189    '@lucianwintrich #LiberalLogic: When you don't agree and have no counter argument call them a Nazi.'\n",
       "Name: content, dtype: object"
      ]
     },
     "execution_count": 40,
     "metadata": {},
     "output_type": "execute_result"
    }
   ],
   "source": [
    "df.iloc[[2603189]]['content']"
   ]
  },
  {
   "cell_type": "code",
   "execution_count": 53,
   "metadata": {},
   "outputs": [],
   "source": [
    "df['follower_ratio']= df['followers']/df['following']"
   ]
  },
  {
   "cell_type": "code",
   "execution_count": 60,
   "metadata": {},
   "outputs": [
    {
     "data": {
      "text/plain": [
       "count    2.936753e+06\n",
       "mean              inf\n",
       "std               NaN\n",
       "min      0.000000e+00\n",
       "25%      7.039366e-01\n",
       "50%      1.159983e+00\n",
       "75%      2.402640e+00\n",
       "max               inf\n",
       "Name: follower_ratio, dtype: float64"
      ]
     },
     "execution_count": 60,
     "metadata": {},
     "output_type": "execute_result"
    }
   ],
   "source": [
    "df['follower_ratio'].describe()"
   ]
  },
  {
   "cell_type": "code",
   "execution_count": 55,
   "metadata": {},
   "outputs": [],
   "source": [
    "df['following_ratio']=df['following']/df['followers']"
   ]
  },
  {
   "cell_type": "code",
   "execution_count": 58,
   "metadata": {},
   "outputs": [
    {
     "data": {
      "text/plain": [
       "count    2.936753e+06\n",
       "mean              inf\n",
       "std               NaN\n",
       "min      0.000000e+00\n",
       "25%      4.162088e-01\n",
       "50%      8.620816e-01\n",
       "75%      1.420582e+00\n",
       "max               inf\n",
       "Name: following_ratio, dtype: float64"
      ]
     },
     "execution_count": 58,
     "metadata": {},
     "output_type": "execute_result"
    }
   ],
   "source": [
    "df['following_ratio'].describe()"
   ]
  },
  {
   "cell_type": "code",
   "execution_count": 65,
   "metadata": {},
   "outputs": [
    {
     "data": {
      "text/plain": [
       "Text(15000, 900000, 'Distribution of following')"
      ]
     },
     "execution_count": 65,
     "metadata": {},
     "output_type": "execute_result"
    },
    {
     "data": {
      "image/png": "[encoded data removed]",
      "text/plain": [
       "<Figure size 1008x288 with 2 Axes>"
      ]
     },
     "metadata": {
      "needs_background": "light"
     },
     "output_type": "display_data"
    }
   ],
   "source": [
    "import matplotlib.pyplot as plt\n",
    "fig, axs = plt.subplots(1,2, figsize=(14, 4))\n",
    "axs[0].hist(df.followers, bins=50, color=\"C2\")\n",
    "axs[0].text(40000, 1300000, 'Distribution of followers', fontsize='large')\n",
    "axs[1].hist(df.following, bins=50, color=\"C3\")\n",
    "axs[1].text(15000, 900000, 'Distribution of following', fontsize='large')"
   ]
  },
  {
   "cell_type": "code",
   "execution_count": 69,
   "metadata": {},
   "outputs": [
    {
     "name": "stdout",
     "output_type": "stream",
     "text": [
      "TIMELINE 1/1/2013 16:16 TO 9/9/2017 9:51\n"
     ]
    }
   ],
   "source": [
    "print(\"TIMELINE \" + str(df.publish_date.min()) + \" TO \" + str(df.publish_date.max()))"
   ]
  },
  {
   "cell_type": "code",
   "execution_count": 70,
   "metadata": {},
   "outputs": [
    {
     "name": "stdout",
     "output_type": "stream",
     "text": [
      "Number of unique Twitter accounts:\n",
      "2843\n"
     ]
    }
   ],
   "source": [
    "print('Number of unique Twitter accounts:')\n",
    "print(df.author.nunique())"
   ]
  },
  {
   "cell_type": "code",
   "execution_count": 71,
   "metadata": {},
   "outputs": [
    {
     "name": "stdout",
     "output_type": "stream",
     "text": [
      "Number of languages is:\n",
      "56\n"
     ]
    }
   ],
   "source": [
    "print(\"Number of languages is:\")\n",
    "print(df.language.nunique())"
   ]
  },
  {
   "cell_type": "code",
   "execution_count": 73,
   "metadata": {},
   "outputs": [
    {
     "name": "stdout",
     "output_type": "stream",
     "text": [
      "Avg number of tweets per author: 1036.3\n"
     ]
    }
   ],
   "source": [
    "print('Avg number of tweets per author: '+ \\\n",
    "      str(round(len(df)/df.author.nunique(), 1)))"
   ]
  },
  {
   "cell_type": "code",
   "execution_count": 82,
   "metadata": {},
   "outputs": [
    {
     "data": {
      "text/plain": [
       "author\n",
       "EXQUOTE            59174\n",
       "SCREAMYMONKEY      44001\n",
       "AMELIEBALDWIN      35261\n",
       "WORLDNEWSPOLI      35155\n",
       "TODAYPITTSBURGH    33602\n",
       "SPECIALAFFAIR      32556\n",
       "SEATTLE_POST       30793\n",
       "FINDDIET           29038\n",
       "KANSASDAILYNEWS    28806\n",
       "ROOMOFRUMOR        28351\n",
       "Name: content, dtype: int64"
      ]
     },
     "execution_count": 82,
     "metadata": {},
     "output_type": "execute_result"
    }
   ],
   "source": [
    "df.groupby('author')['content'].count().nlargest(10)"
   ]
  },
  {
   "cell_type": "code",
   "execution_count": 83,
   "metadata": {},
   "outputs": [
    {
     "data": {
      "text/plain": [
       "author\n",
       "459JISALGE         1\n",
       "AAATEST1234        1\n",
       "ABBASSHUKRI        1\n",
       "ABU_UBAIDA2        1\n",
       "ACTIVEMIKR         1\n",
       "ALWAYSHUNGRYBAE    1\n",
       "ANDREJFROLOV69     1\n",
       "ARTEMBOGACHENKO    1\n",
       "AU_NORTON          1\n",
       "BLACKTIVISTDAVE    1\n",
       "Name: content, dtype: int64"
      ]
     },
     "execution_count": 83,
     "metadata": {},
     "output_type": "execute_result"
    }
   ],
   "source": [
    "df.groupby('author')['content'].count().nsmallest(10)"
   ]
  },
  {
   "cell_type": "code",
   "execution_count": null,
   "metadata": {},
   "outputs": [],
   "source": []
  }
 ],
 "metadata": {
  "kernelspec": {
   "display_name": "Python 3",
   "language": "python",
   "name": "python3"
  },
  "language_info": {
   "codemirror_mode": {
    "name": "ipython",
    "version": 3
   },
   "file_extension": ".py",
   "mimetype": "text/x-python",
   "name": "python",
   "nbconvert_exporter": "python",
   "pygments_lexer": "ipython3",
   "version": "3.8.5"
  }
 },
 "nbformat": 4,
 "nbformat_minor": 4
}
