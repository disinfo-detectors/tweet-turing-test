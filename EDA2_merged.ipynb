{
 "cells": [
  {
   "cell_type": "markdown",
   "metadata": {},
   "source": [
    "EDA 2 - Merged Dataset"
   ]
  },
  {
   "cell_type": "code",
   "execution_count": 89,
   "metadata": {},
   "outputs": [],
   "source": [
    "import pandas as pd \n",
    "import os\n",
    "import numpy as np\n",
    "import matplotlib.pyplot as plt\n",
    "import demoji\n",
    "import seaborn as sns\n",
    "import nltk\n",
    "from datetime import date"
   ]
  },
  {
   "cell_type": "code",
   "execution_count": 90,
   "metadata": {},
   "outputs": [
    {
     "data": {
      "text/plain": [
       "'/Users/katymatulay/Documents/Drexel - Grad School/07 Fall 2022/DSCI591/Capstone/data'"
      ]
     },
     "execution_count": 90,
     "metadata": {},
     "output_type": "execute_result"
    }
   ],
   "source": [
    "os.getcwd()"
   ]
  },
  {
   "cell_type": "code",
   "execution_count": 91,
   "metadata": {},
   "outputs": [],
   "source": [
    "os.chdir('/Users/katymatulay/Documents/Drexel - Grad School/07 Fall 2022/DSCI591/Capstone/data')"
   ]
  },
  {
   "cell_type": "code",
   "execution_count": 92,
   "metadata": {},
   "outputs": [],
   "source": [
    "df = pd.read_pickle(\"../data/merged_datasetpickle.pkl\")"
   ]
  },
  {
   "cell_type": "code",
   "execution_count": 6,
   "metadata": {},
   "outputs": [
    {
     "data": {
      "text/plain": [
       "(2610060, 18)"
      ]
     },
     "execution_count": 6,
     "metadata": {},
     "output_type": "execute_result"
    }
   ],
   "source": [
    "df.shape"
   ]
  },
  {
   "cell_type": "code",
   "execution_count": 47,
   "metadata": {},
   "outputs": [
    {
     "data": {
      "text/plain": [
       "(2610052, 17)"
      ]
     },
     "execution_count": 47,
     "metadata": {},
     "output_type": "execute_result"
    }
   ],
   "source": [
    "df.shape"
   ]
  },
  {
   "cell_type": "code",
   "execution_count": 94,
   "metadata": {},
   "outputs": [
    {
     "data": {
      "text/html": [
       "<div>\n",
       "<style scoped>\n",
       "    .dataframe tbody tr th:only-of-type {\n",
       "        vertical-align: middle;\n",
       "    }\n",
       "\n",
       "    .dataframe tbody tr th {\n",
       "        vertical-align: top;\n",
       "    }\n",
       "\n",
       "    .dataframe thead th {\n",
       "        text-align: right;\n",
       "    }\n",
       "</style>\n",
       "<table border=\"1\" class=\"dataframe\">\n",
       "  <thead>\n",
       "    <tr style=\"text-align: right;\">\n",
       "      <th></th>\n",
       "      <th>external_author_id</th>\n",
       "      <th>author</th>\n",
       "      <th>content</th>\n",
       "      <th>region</th>\n",
       "      <th>language</th>\n",
       "      <th>publish_date</th>\n",
       "      <th>following</th>\n",
       "      <th>followers</th>\n",
       "      <th>updates</th>\n",
       "      <th>is_retweet</th>\n",
       "      <th>account_category</th>\n",
       "      <th>tweet_id</th>\n",
       "      <th>full_url</th>\n",
       "      <th>data_source</th>\n",
       "      <th>has_URL</th>\n",
       "      <th>emoji_text</th>\n",
       "      <th>emoji_count</th>\n",
       "    </tr>\n",
       "  </thead>\n",
       "  <tbody>\n",
       "    <tr>\n",
       "      <th>0</th>\n",
       "      <td>906000000000000000</td>\n",
       "      <td>10_GOP</td>\n",
       "      <td>\"We have a sitting Democrat US Senator on tria...</td>\n",
       "      <td>Unknown</td>\n",
       "      <td>English</td>\n",
       "      <td>2017-10-01 19:58:00</td>\n",
       "      <td>1052</td>\n",
       "      <td>9636</td>\n",
       "      <td>253</td>\n",
       "      <td>0</td>\n",
       "      <td>RightTroll</td>\n",
       "      <td>914580356430536707</td>\n",
       "      <td>https://twitter.com/10_gop/status/914580356430...</td>\n",
       "      <td>Troll</td>\n",
       "      <td>1</td>\n",
       "      <td>[]</td>\n",
       "      <td>0</td>\n",
       "    </tr>\n",
       "    <tr>\n",
       "      <th>1</th>\n",
       "      <td>906000000000000000</td>\n",
       "      <td>10_GOP</td>\n",
       "      <td>Marshawn Lynch arrives to game in anti-Trump s...</td>\n",
       "      <td>Unknown</td>\n",
       "      <td>English</td>\n",
       "      <td>2017-10-01 22:43:00</td>\n",
       "      <td>1054</td>\n",
       "      <td>9637</td>\n",
       "      <td>254</td>\n",
       "      <td>0</td>\n",
       "      <td>RightTroll</td>\n",
       "      <td>914621840496189440</td>\n",
       "      <td>https://twitter.com/damienwoody/status/9145685...</td>\n",
       "      <td>Troll</td>\n",
       "      <td>1</td>\n",
       "      <td>[]</td>\n",
       "      <td>0</td>\n",
       "    </tr>\n",
       "    <tr>\n",
       "      <th>2</th>\n",
       "      <td>906000000000000000</td>\n",
       "      <td>10_GOP</td>\n",
       "      <td>Daughter of fallen Navy Sailor delivers powerf...</td>\n",
       "      <td>Unknown</td>\n",
       "      <td>English</td>\n",
       "      <td>2017-10-01 22:50:00</td>\n",
       "      <td>1054</td>\n",
       "      <td>9637</td>\n",
       "      <td>255</td>\n",
       "      <td>1</td>\n",
       "      <td>RightTroll</td>\n",
       "      <td>914623490375979008</td>\n",
       "      <td>https://twitter.com/10_gop/status/913231923715...</td>\n",
       "      <td>Troll</td>\n",
       "      <td>1</td>\n",
       "      <td>[]</td>\n",
       "      <td>0</td>\n",
       "    </tr>\n",
       "    <tr>\n",
       "      <th>3</th>\n",
       "      <td>906000000000000000</td>\n",
       "      <td>10_GOP</td>\n",
       "      <td>JUST IN: President Trump dedicates Presidents ...</td>\n",
       "      <td>Unknown</td>\n",
       "      <td>English</td>\n",
       "      <td>2017-10-01 23:52:00</td>\n",
       "      <td>1062</td>\n",
       "      <td>9642</td>\n",
       "      <td>256</td>\n",
       "      <td>0</td>\n",
       "      <td>RightTroll</td>\n",
       "      <td>914639143690555392</td>\n",
       "      <td>https://twitter.com/10_gop/status/914639143690...</td>\n",
       "      <td>Troll</td>\n",
       "      <td>1</td>\n",
       "      <td>[]</td>\n",
       "      <td>0</td>\n",
       "    </tr>\n",
       "    <tr>\n",
       "      <th>4</th>\n",
       "      <td>906000000000000000</td>\n",
       "      <td>10_GOP</td>\n",
       "      <td>19,000 RESPECTING our National Anthem! #StandF...</td>\n",
       "      <td>Unknown</td>\n",
       "      <td>English</td>\n",
       "      <td>2017-10-01 02:13:00</td>\n",
       "      <td>1050</td>\n",
       "      <td>9645</td>\n",
       "      <td>246</td>\n",
       "      <td>1</td>\n",
       "      <td>RightTroll</td>\n",
       "      <td>914312219952861184</td>\n",
       "      <td>https://twitter.com/realDonaldTrump/status/914...</td>\n",
       "      <td>Troll</td>\n",
       "      <td>1</td>\n",
       "      <td>[flag: United States]</td>\n",
       "      <td>1</td>\n",
       "    </tr>\n",
       "  </tbody>\n",
       "</table>\n",
       "</div>"
      ],
      "text/plain": [
       "   external_author_id  author  \\\n",
       "0  906000000000000000  10_GOP   \n",
       "1  906000000000000000  10_GOP   \n",
       "2  906000000000000000  10_GOP   \n",
       "3  906000000000000000  10_GOP   \n",
       "4  906000000000000000  10_GOP   \n",
       "\n",
       "                                             content   region language  \\\n",
       "0  \"We have a sitting Democrat US Senator on tria...  Unknown  English   \n",
       "1  Marshawn Lynch arrives to game in anti-Trump s...  Unknown  English   \n",
       "2  Daughter of fallen Navy Sailor delivers powerf...  Unknown  English   \n",
       "3  JUST IN: President Trump dedicates Presidents ...  Unknown  English   \n",
       "4  19,000 RESPECTING our National Anthem! #StandF...  Unknown  English   \n",
       "\n",
       "          publish_date  following  followers  updates  is_retweet  \\\n",
       "0  2017-10-01 19:58:00       1052       9636      253           0   \n",
       "1  2017-10-01 22:43:00       1054       9637      254           0   \n",
       "2  2017-10-01 22:50:00       1054       9637      255           1   \n",
       "3  2017-10-01 23:52:00       1062       9642      256           0   \n",
       "4  2017-10-01 02:13:00       1050       9645      246           1   \n",
       "\n",
       "  account_category            tweet_id  \\\n",
       "0       RightTroll  914580356430536707   \n",
       "1       RightTroll  914621840496189440   \n",
       "2       RightTroll  914623490375979008   \n",
       "3       RightTroll  914639143690555392   \n",
       "4       RightTroll  914312219952861184   \n",
       "\n",
       "                                            full_url data_source  has_URL  \\\n",
       "0  https://twitter.com/10_gop/status/914580356430...       Troll        1   \n",
       "1  https://twitter.com/damienwoody/status/9145685...       Troll        1   \n",
       "2  https://twitter.com/10_gop/status/913231923715...       Troll        1   \n",
       "3  https://twitter.com/10_gop/status/914639143690...       Troll        1   \n",
       "4  https://twitter.com/realDonaldTrump/status/914...       Troll        1   \n",
       "\n",
       "              emoji_text  emoji_count  \n",
       "0                     []            0  \n",
       "1                     []            0  \n",
       "2                     []            0  \n",
       "3                     []            0  \n",
       "4  [flag: United States]            1  "
      ]
     },
     "execution_count": 94,
     "metadata": {},
     "output_type": "execute_result"
    }
   ],
   "source": [
    "df.head()"
   ]
  },
  {
   "cell_type": "code",
   "execution_count": 95,
   "metadata": {},
   "outputs": [
    {
     "data": {
      "text/plain": [
       "external_author_id         0\n",
       "author                     0\n",
       "content                    0\n",
       "region                 52767\n",
       "language                   0\n",
       "publish_date               0\n",
       "following                  0\n",
       "followers                  0\n",
       "updates                    0\n",
       "is_retweet                 0\n",
       "account_category           0\n",
       "tweet_id                   0\n",
       "full_url              868926\n",
       "data_source                0\n",
       "has_URL                    0\n",
       "emoji_text                 0\n",
       "emoji_count                0\n",
       "dtype: int64"
      ]
     },
     "execution_count": 95,
     "metadata": {},
     "output_type": "execute_result"
    }
   ],
   "source": [
    "df.isnull().sum()"
   ]
  },
  {
   "cell_type": "code",
   "execution_count": 50,
   "metadata": {},
   "outputs": [
    {
     "data": {
      "text/plain": [
       "0    1673960\n",
       "1     936092\n",
       "Name: is_retweet, dtype: int64"
      ]
     },
     "execution_count": 50,
     "metadata": {},
     "output_type": "execute_result"
    }
   ],
   "source": [
    "df['is_retweet'].value_counts()"
   ]
  },
  {
   "cell_type": "code",
   "execution_count": 52,
   "metadata": {},
   "outputs": [
    {
     "data": {
      "text/plain": [
       "Troll            2116866\n",
       "Verified_User     493186\n",
       "Name: data_source, dtype: int64"
      ]
     },
     "execution_count": 52,
     "metadata": {},
     "output_type": "execute_result"
    }
   ],
   "source": [
    "df['data_source'].value_counts()"
   ]
  },
  {
   "cell_type": "code",
   "execution_count": 97,
   "metadata": {},
   "outputs": [
    {
     "data": {
      "text/plain": [
       "0      2548431\n",
       "1        39794\n",
       "2        10033\n",
       "3         5575\n",
       "4         2621\n",
       "5         1286\n",
       "6          740\n",
       "7          349\n",
       "8          261\n",
       "9          190\n",
       "10         134\n",
       "11          88\n",
       "12         118\n",
       "13          63\n",
       "14          39\n",
       "15          41\n",
       "16          52\n",
       "17          79\n",
       "18          14\n",
       "19           6\n",
       "20          14\n",
       "21           9\n",
       "22          11\n",
       "23           6\n",
       "24          14\n",
       "25           9\n",
       "26           9\n",
       "27           3\n",
       "28           2\n",
       "29           5\n",
       "30           6\n",
       "31           3\n",
       "32           3\n",
       "33           1\n",
       "34           5\n",
       "35           2\n",
       "36           1\n",
       "37           2\n",
       "38           1\n",
       "42           1\n",
       "43           1\n",
       "44           2\n",
       "45           3\n",
       "47           1\n",
       "49           1\n",
       "50           1\n",
       "56           1\n",
       "57          14\n",
       "61           1\n",
       "72           1\n",
       "85           1\n",
       "107          1\n",
       "108          1\n",
       "116          1\n",
       "118          1\n",
       "Name: emoji_count, dtype: int64"
      ]
     },
     "execution_count": 97,
     "metadata": {},
     "output_type": "execute_result"
    }
   ],
   "source": [
    "df['emoji_count'].value_counts().sort_index()"
   ]
  },
  {
   "cell_type": "code",
   "execution_count": 99,
   "metadata": {},
   "outputs": [
    {
     "data": {
      "text/plain": [
       "<AxesSubplot:>"
      ]
     },
     "execution_count": 99,
     "metadata": {},
     "output_type": "execute_result"
    },
    {
     "data": {
      "image/png": "[encoded data removed]",
      "text/plain": [
       "<Figure size 432x288 with 1 Axes>"
      ]
     },
     "metadata": {
      "needs_background": "light"
     },
     "output_type": "display_data"
    }
   ],
   "source": [
    "df['emoji_count'].hist()"
   ]
  },
  {
   "cell_type": "code",
   "execution_count": 100,
   "metadata": {},
   "outputs": [
    {
     "data": {
      "text/html": [
       "<div>\n",
       "<style scoped>\n",
       "    .dataframe tbody tr th:only-of-type {\n",
       "        vertical-align: middle;\n",
       "    }\n",
       "\n",
       "    .dataframe tbody tr th {\n",
       "        vertical-align: top;\n",
       "    }\n",
       "\n",
       "    .dataframe thead th {\n",
       "        text-align: right;\n",
       "    }\n",
       "</style>\n",
       "<table border=\"1\" class=\"dataframe\">\n",
       "  <thead>\n",
       "    <tr style=\"text-align: right;\">\n",
       "      <th></th>\n",
       "      <th>external_author_id</th>\n",
       "      <th>author</th>\n",
       "      <th>content</th>\n",
       "      <th>region</th>\n",
       "      <th>language</th>\n",
       "      <th>publish_date</th>\n",
       "      <th>following</th>\n",
       "      <th>followers</th>\n",
       "      <th>updates</th>\n",
       "      <th>is_retweet</th>\n",
       "      <th>account_category</th>\n",
       "      <th>tweet_id</th>\n",
       "      <th>full_url</th>\n",
       "      <th>data_source</th>\n",
       "      <th>has_URL</th>\n",
       "      <th>emoji_text</th>\n",
       "      <th>emoji_count</th>\n",
       "    </tr>\n",
       "  </thead>\n",
       "  <tbody>\n",
       "    <tr>\n",
       "      <th>6</th>\n",
       "      <td>906000000000000000</td>\n",
       "      <td>10_GOP</td>\n",
       "      <td>🐝🐝🐝 https://t.co/MorL3AQW0z</td>\n",
       "      <td>Unknown</td>\n",
       "      <td>English</td>\n",
       "      <td>2017-10-01 02:48:00</td>\n",
       "      <td>1050</td>\n",
       "      <td>9644</td>\n",
       "      <td>248</td>\n",
       "      <td>1</td>\n",
       "      <td>RightTroll</td>\n",
       "      <td>914321156466933760</td>\n",
       "      <td>https://twitter.com/Cernovich/status/914314644...</td>\n",
       "      <td>Troll</td>\n",
       "      <td>1</td>\n",
       "      <td>[honeybee, honeybee, honeybee]</td>\n",
       "      <td>3</td>\n",
       "    </tr>\n",
       "    <tr>\n",
       "      <th>16</th>\n",
       "      <td>906000000000000000</td>\n",
       "      <td>10_GOP</td>\n",
       "      <td>First lady Melania Trump visits infant opioid ...</td>\n",
       "      <td>Unknown</td>\n",
       "      <td>English</td>\n",
       "      <td>2017-10-10 23:42:00</td>\n",
       "      <td>1068</td>\n",
       "      <td>10328</td>\n",
       "      <td>304</td>\n",
       "      <td>0</td>\n",
       "      <td>RightTroll</td>\n",
       "      <td>917898105365909504</td>\n",
       "      <td>https://twitter.com/10_gop/status/917898105365...</td>\n",
       "      <td>Troll</td>\n",
       "      <td>1</td>\n",
       "      <td>[red heart, red heart]</td>\n",
       "      <td>2</td>\n",
       "    </tr>\n",
       "    <tr>\n",
       "      <th>39</th>\n",
       "      <td>906000000000000000</td>\n",
       "      <td>10_GOP</td>\n",
       "      <td>A cute 10 yo girl had a Trump dress on. Hannit...</td>\n",
       "      <td>Unknown</td>\n",
       "      <td>English</td>\n",
       "      <td>2017-10-12 03:02:00</td>\n",
       "      <td>1072</td>\n",
       "      <td>10366</td>\n",
       "      <td>317</td>\n",
       "      <td>0</td>\n",
       "      <td>RightTroll</td>\n",
       "      <td>918310998913798144</td>\n",
       "      <td>https://twitter.com/10_gop/status/918310998913...</td>\n",
       "      <td>Troll</td>\n",
       "      <td>1</td>\n",
       "      <td>[red heart, red heart]</td>\n",
       "      <td>2</td>\n",
       "    </tr>\n",
       "    <tr>\n",
       "      <th>74</th>\n",
       "      <td>906000000000000000</td>\n",
       "      <td>10_GOP</td>\n",
       "      <td>'@Cernovich @KFILE JOURNALISM 😱😱'</td>\n",
       "      <td>Unknown</td>\n",
       "      <td>English</td>\n",
       "      <td>2017-10-02 22:37:00</td>\n",
       "      <td>1066</td>\n",
       "      <td>9721</td>\n",
       "      <td>269</td>\n",
       "      <td>0</td>\n",
       "      <td>RightTroll</td>\n",
       "      <td>914982688028798976</td>\n",
       "      <td>NaN</td>\n",
       "      <td>Troll</td>\n",
       "      <td>0</td>\n",
       "      <td>[face screaming in fear, face screaming in fear]</td>\n",
       "      <td>2</td>\n",
       "    </tr>\n",
       "    <tr>\n",
       "      <th>79</th>\n",
       "      <td>906000000000000000</td>\n",
       "      <td>10_GOP</td>\n",
       "      <td>The truth about Puerto Rico 🇵🇷 &amp;amp; it's not ...</td>\n",
       "      <td>Unknown</td>\n",
       "      <td>English</td>\n",
       "      <td>2017-10-02 02:42:00</td>\n",
       "      <td>1064</td>\n",
       "      <td>9651</td>\n",
       "      <td>258</td>\n",
       "      <td>1</td>\n",
       "      <td>RightTroll</td>\n",
       "      <td>914681854858600449</td>\n",
       "      <td>https://twitter.com/ExDemLatina/status/9146187...</td>\n",
       "      <td>Troll</td>\n",
       "      <td>1</td>\n",
       "      <td>[flag: Puerto Rico, diamond suit, diamond suit]</td>\n",
       "      <td>3</td>\n",
       "    </tr>\n",
       "  </tbody>\n",
       "</table>\n",
       "</div>"
      ],
      "text/plain": [
       "    external_author_id  author  \\\n",
       "6   906000000000000000  10_GOP   \n",
       "16  906000000000000000  10_GOP   \n",
       "39  906000000000000000  10_GOP   \n",
       "74  906000000000000000  10_GOP   \n",
       "79  906000000000000000  10_GOP   \n",
       "\n",
       "                                              content   region language  \\\n",
       "6                         🐝🐝🐝 https://t.co/MorL3AQW0z  Unknown  English   \n",
       "16  First lady Melania Trump visits infant opioid ...  Unknown  English   \n",
       "39  A cute 10 yo girl had a Trump dress on. Hannit...  Unknown  English   \n",
       "74                  '@Cernovich @KFILE JOURNALISM 😱😱'  Unknown  English   \n",
       "79  The truth about Puerto Rico 🇵🇷 &amp; it's not ...  Unknown  English   \n",
       "\n",
       "           publish_date  following  followers  updates  is_retweet  \\\n",
       "6   2017-10-01 02:48:00       1050       9644      248           1   \n",
       "16  2017-10-10 23:42:00       1068      10328      304           0   \n",
       "39  2017-10-12 03:02:00       1072      10366      317           0   \n",
       "74  2017-10-02 22:37:00       1066       9721      269           0   \n",
       "79  2017-10-02 02:42:00       1064       9651      258           1   \n",
       "\n",
       "   account_category            tweet_id  \\\n",
       "6        RightTroll  914321156466933760   \n",
       "16       RightTroll  917898105365909504   \n",
       "39       RightTroll  918310998913798144   \n",
       "74       RightTroll  914982688028798976   \n",
       "79       RightTroll  914681854858600449   \n",
       "\n",
       "                                             full_url data_source  has_URL  \\\n",
       "6   https://twitter.com/Cernovich/status/914314644...       Troll        1   \n",
       "16  https://twitter.com/10_gop/status/917898105365...       Troll        1   \n",
       "39  https://twitter.com/10_gop/status/918310998913...       Troll        1   \n",
       "74                                                NaN       Troll        0   \n",
       "79  https://twitter.com/ExDemLatina/status/9146187...       Troll        1   \n",
       "\n",
       "                                          emoji_text  emoji_count  \n",
       "6                     [honeybee, honeybee, honeybee]            3  \n",
       "16                            [red heart, red heart]            2  \n",
       "39                            [red heart, red heart]            2  \n",
       "74  [face screaming in fear, face screaming in fear]            2  \n",
       "79   [flag: Puerto Rico, diamond suit, diamond suit]            3  "
      ]
     },
     "execution_count": 100,
     "metadata": {},
     "output_type": "execute_result"
    }
   ],
   "source": [
    "df[df['emoji_count']>1].head()"
   ]
  },
  {
   "cell_type": "code",
   "execution_count": 71,
   "metadata": {},
   "outputs": [
    {
     "data": {
      "text/plain": [
       "RightTroll       704953\n",
       "NewsFeed         596593\n",
       "Verified_User    493186\n",
       "LeftTroll        422141\n",
       "HashtagGamer     236091\n",
       "Commercial       112580\n",
       "NonEnglish        26562\n",
       "Fearmonger        11001\n",
       "Unknown            6945\n",
       "Name: account_category, dtype: int64"
      ]
     },
     "execution_count": 71,
     "metadata": {},
     "output_type": "execute_result"
    }
   ],
   "source": [
    "df['account_category'].value_counts()"
   ]
  },
  {
   "cell_type": "code",
   "execution_count": 73,
   "metadata": {},
   "outputs": [],
   "source": [
    "verified_filter = df['account_category']=='Verified_User'"
   ]
  },
  {
   "cell_type": "code",
   "execution_count": 76,
   "metadata": {},
   "outputs": [],
   "source": [
    "Troll_filter = df['data_source']=='Troll'"
   ]
  },
  {
   "cell_type": "code",
   "execution_count": 75,
   "metadata": {},
   "outputs": [
    {
     "data": {
      "text/plain": [
       "author\n",
       "AskTSA       49321\n",
       "thehill      29047\n",
       "business     26248\n",
       "csmonitor    19926\n",
       "NASA         17497\n",
       "TIME         17038\n",
       "StateDept    16716\n",
       "nytimes      16584\n",
       "WSJ          14778\n",
       "Reuters      14474\n",
       "Name: content, dtype: int64"
      ]
     },
     "execution_count": 75,
     "metadata": {},
     "output_type": "execute_result"
    }
   ],
   "source": [
    "df.where(verified_filter).groupby('author')['content'].count().nlargest(10)"
   ]
  },
  {
   "cell_type": "code",
   "execution_count": 77,
   "metadata": {},
   "outputs": [
    {
     "data": {
      "text/plain": [
       "author\n",
       "EXQUOTE            53158\n",
       "SCREAMYMONKEY      43956\n",
       "WORLDNEWSPOLI      35082\n",
       "AMELIEBALDWIN      34308\n",
       "TODAYPITTSBURGH    33377\n",
       "SPECIALAFFAIR      32416\n",
       "SEATTLE_POST       30680\n",
       "KANSASDAILYNEWS    28746\n",
       "ROOMOFRUMOR        28259\n",
       "DAILYSANFRAN       27962\n",
       "Name: content, dtype: int64"
      ]
     },
     "execution_count": 77,
     "metadata": {},
     "output_type": "execute_result"
    }
   ],
   "source": [
    "df.where(Troll_filter).groupby('author')['content'].count().nlargest(10)"
   ]
  },
  {
   "cell_type": "code",
   "execution_count": 80,
   "metadata": {},
   "outputs": [],
   "source": [
    "start_EXQUOTE= df[df['author']=='EXQUOTE']['publish_date'].min()\n",
    "end_EXQUOTE = df[df['author']=='EXQUOTE']['publish_date'].max()"
   ]
  },
  {
   "cell_type": "code",
   "execution_count": 85,
   "metadata": {},
   "outputs": [
    {
     "data": {
      "text/plain": [
       "'7/10/2015 0:00'"
      ]
     },
     "execution_count": 85,
     "metadata": {},
     "output_type": "execute_result"
    }
   ],
   "source": [
    "start_EXQUOTE\n",
    "mm/dd/yyyy hh:mm"
   ]
  },
  {
   "cell_type": "code",
   "execution_count": 86,
   "metadata": {},
   "outputs": [
    {
     "data": {
      "text/plain": [
       "0    10/1/2017 19:58\n",
       "1    10/1/2017 22:43\n",
       "2    10/1/2017 22:50\n",
       "3    10/1/2017 23:52\n",
       "4     10/1/2017 2:13\n",
       "Name: publish_date, dtype: object"
      ]
     },
     "execution_count": 86,
     "metadata": {},
     "output_type": "execute_result"
    }
   ],
   "source": [
    "df['publish_date'].head()"
   ]
  },
  {
   "cell_type": "code",
   "execution_count": 87,
   "metadata": {},
   "outputs": [],
   "source": [
    "#delete once fixed in UPP notebook\n",
    "df['publish_date']= pd.to_datetime(df['publish_date'], infer_datetime_format=True)"
   ]
  },
  {
   "cell_type": "code",
   "execution_count": 88,
   "metadata": {},
   "outputs": [
    {
     "data": {
      "text/plain": [
       "0    2017-10-01 19:58:00\n",
       "1    2017-10-01 22:43:00\n",
       "2    2017-10-01 22:50:00\n",
       "3    2017-10-01 23:52:00\n",
       "4    2017-10-01 02:13:00\n",
       "Name: publish_date, dtype: object"
      ]
     },
     "execution_count": 88,
     "metadata": {},
     "output_type": "execute_result"
    }
   ],
   "source": [
    "df['publish_date'].head()"
   ]
  },
  {
   "cell_type": "code",
   "execution_count": null,
   "metadata": {},
   "outputs": [],
   "source": []
  }
 ],
 "metadata": {
  "kernelspec": {
   "display_name": "Python 3",
   "language": "python",
   "name": "python3"
  },
  "language_info": {
   "codemirror_mode": {
    "name": "ipython",
    "version": 3
   },
   "file_extension": ".py",
   "mimetype": "text/x-python",
   "name": "python",
   "nbconvert_exporter": "python",
   "pygments_lexer": "ipython3",
   "version": "3.8.5"
  }
 },
 "nbformat": 4,
 "nbformat_minor": 4
}
