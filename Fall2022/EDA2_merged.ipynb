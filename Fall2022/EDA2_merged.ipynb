{
 "cells": [
  {
   "cell_type": "markdown",
   "metadata": {},
   "source": [
    "EDA 2 - Merged Dataset"
   ]
  },
  {
   "cell_type": "code",
   "execution_count": 172,
   "metadata": {},
   "outputs": [],
   "source": [
    "import pandas as pd \n",
    "import os\n",
    "import numpy as np\n",
    "import matplotlib.pyplot as plt\n",
    "import demoji\n",
    "import seaborn as sns\n",
    "import nltk\n",
    "from datetime import date\n",
    "import regex as re"
   ]
  },
  {
   "cell_type": "code",
   "execution_count": 90,
   "metadata": {},
   "outputs": [
    {
     "data": {
      "text/plain": [
       "'/Users/katymatulay/Documents/Drexel - Grad School/07 Fall 2022/DSCI591/Capstone/data'"
      ]
     },
     "execution_count": 90,
     "metadata": {},
     "output_type": "execute_result"
    }
   ],
   "source": [
    "os.getcwd()"
   ]
  },
  {
   "cell_type": "code",
   "execution_count": 91,
   "metadata": {},
   "outputs": [],
   "source": [
    "os.chdir('/Users/katymatulay/Documents/Drexel - Grad School/07 Fall 2022/DSCI591/Capstone/data')"
   ]
  },
  {
   "cell_type": "code",
   "execution_count": 92,
   "metadata": {},
   "outputs": [],
   "source": [
    "df = pd.read_pickle(\"../data/merged_datasetpickle.pkl\")"
   ]
  },
  {
   "cell_type": "code",
   "execution_count": 6,
   "metadata": {},
   "outputs": [
    {
     "data": {
      "text/plain": [
       "(2610060, 18)"
      ]
     },
     "execution_count": 6,
     "metadata": {},
     "output_type": "execute_result"
    }
   ],
   "source": [
    "#old shape delete\n",
    "df.shape"
   ]
  },
  {
   "cell_type": "code",
   "execution_count": 104,
   "metadata": {},
   "outputs": [
    {
     "data": {
      "text/plain": [
       "(2610052, 17)"
      ]
     },
     "execution_count": 104,
     "metadata": {},
     "output_type": "execute_result"
    }
   ],
   "source": [
    "df.shape"
   ]
  },
  {
   "cell_type": "code",
   "execution_count": 102,
   "metadata": {},
   "outputs": [
    {
     "data": {
      "text/html": [
       "<div>\n",
       "<style scoped>\n",
       "    .dataframe tbody tr th:only-of-type {\n",
       "        vertical-align: middle;\n",
       "    }\n",
       "\n",
       "    .dataframe tbody tr th {\n",
       "        vertical-align: top;\n",
       "    }\n",
       "\n",
       "    .dataframe thead th {\n",
       "        text-align: right;\n",
       "    }\n",
       "</style>\n",
       "<table border=\"1\" class=\"dataframe\">\n",
       "  <thead>\n",
       "    <tr style=\"text-align: right;\">\n",
       "      <th></th>\n",
       "      <th>external_author_id</th>\n",
       "      <th>author</th>\n",
       "      <th>content</th>\n",
       "      <th>region</th>\n",
       "      <th>language</th>\n",
       "      <th>publish_date</th>\n",
       "      <th>following</th>\n",
       "      <th>followers</th>\n",
       "      <th>updates</th>\n",
       "      <th>is_retweet</th>\n",
       "      <th>account_category</th>\n",
       "      <th>tweet_id</th>\n",
       "      <th>full_url</th>\n",
       "      <th>data_source</th>\n",
       "      <th>has_URL</th>\n",
       "      <th>emoji_text</th>\n",
       "      <th>emoji_count</th>\n",
       "    </tr>\n",
       "  </thead>\n",
       "  <tbody>\n",
       "    <tr>\n",
       "      <th>0</th>\n",
       "      <td>906000000000000000</td>\n",
       "      <td>10_GOP</td>\n",
       "      <td>\"We have a sitting Democrat US Senator on tria...</td>\n",
       "      <td>Unknown</td>\n",
       "      <td>English</td>\n",
       "      <td>2017-10-01 19:58:00</td>\n",
       "      <td>1052</td>\n",
       "      <td>9636</td>\n",
       "      <td>253</td>\n",
       "      <td>0</td>\n",
       "      <td>RightTroll</td>\n",
       "      <td>914580356430536707</td>\n",
       "      <td>https://twitter.com/10_gop/status/914580356430...</td>\n",
       "      <td>Troll</td>\n",
       "      <td>1</td>\n",
       "      <td>[]</td>\n",
       "      <td>0</td>\n",
       "    </tr>\n",
       "    <tr>\n",
       "      <th>1</th>\n",
       "      <td>906000000000000000</td>\n",
       "      <td>10_GOP</td>\n",
       "      <td>Marshawn Lynch arrives to game in anti-Trump s...</td>\n",
       "      <td>Unknown</td>\n",
       "      <td>English</td>\n",
       "      <td>2017-10-01 22:43:00</td>\n",
       "      <td>1054</td>\n",
       "      <td>9637</td>\n",
       "      <td>254</td>\n",
       "      <td>0</td>\n",
       "      <td>RightTroll</td>\n",
       "      <td>914621840496189440</td>\n",
       "      <td>https://twitter.com/damienwoody/status/9145685...</td>\n",
       "      <td>Troll</td>\n",
       "      <td>1</td>\n",
       "      <td>[]</td>\n",
       "      <td>0</td>\n",
       "    </tr>\n",
       "    <tr>\n",
       "      <th>2</th>\n",
       "      <td>906000000000000000</td>\n",
       "      <td>10_GOP</td>\n",
       "      <td>Daughter of fallen Navy Sailor delivers powerf...</td>\n",
       "      <td>Unknown</td>\n",
       "      <td>English</td>\n",
       "      <td>2017-10-01 22:50:00</td>\n",
       "      <td>1054</td>\n",
       "      <td>9637</td>\n",
       "      <td>255</td>\n",
       "      <td>1</td>\n",
       "      <td>RightTroll</td>\n",
       "      <td>914623490375979008</td>\n",
       "      <td>https://twitter.com/10_gop/status/913231923715...</td>\n",
       "      <td>Troll</td>\n",
       "      <td>1</td>\n",
       "      <td>[]</td>\n",
       "      <td>0</td>\n",
       "    </tr>\n",
       "    <tr>\n",
       "      <th>3</th>\n",
       "      <td>906000000000000000</td>\n",
       "      <td>10_GOP</td>\n",
       "      <td>JUST IN: President Trump dedicates Presidents ...</td>\n",
       "      <td>Unknown</td>\n",
       "      <td>English</td>\n",
       "      <td>2017-10-01 23:52:00</td>\n",
       "      <td>1062</td>\n",
       "      <td>9642</td>\n",
       "      <td>256</td>\n",
       "      <td>0</td>\n",
       "      <td>RightTroll</td>\n",
       "      <td>914639143690555392</td>\n",
       "      <td>https://twitter.com/10_gop/status/914639143690...</td>\n",
       "      <td>Troll</td>\n",
       "      <td>1</td>\n",
       "      <td>[]</td>\n",
       "      <td>0</td>\n",
       "    </tr>\n",
       "    <tr>\n",
       "      <th>4</th>\n",
       "      <td>906000000000000000</td>\n",
       "      <td>10_GOP</td>\n",
       "      <td>19,000 RESPECTING our National Anthem! #StandF...</td>\n",
       "      <td>Unknown</td>\n",
       "      <td>English</td>\n",
       "      <td>2017-10-01 02:13:00</td>\n",
       "      <td>1050</td>\n",
       "      <td>9645</td>\n",
       "      <td>246</td>\n",
       "      <td>1</td>\n",
       "      <td>RightTroll</td>\n",
       "      <td>914312219952861184</td>\n",
       "      <td>https://twitter.com/realDonaldTrump/status/914...</td>\n",
       "      <td>Troll</td>\n",
       "      <td>1</td>\n",
       "      <td>[flag: United States]</td>\n",
       "      <td>1</td>\n",
       "    </tr>\n",
       "  </tbody>\n",
       "</table>\n",
       "</div>"
      ],
      "text/plain": [
       "   external_author_id  author  \\\n",
       "0  906000000000000000  10_GOP   \n",
       "1  906000000000000000  10_GOP   \n",
       "2  906000000000000000  10_GOP   \n",
       "3  906000000000000000  10_GOP   \n",
       "4  906000000000000000  10_GOP   \n",
       "\n",
       "                                             content   region language  \\\n",
       "0  \"We have a sitting Democrat US Senator on tria...  Unknown  English   \n",
       "1  Marshawn Lynch arrives to game in anti-Trump s...  Unknown  English   \n",
       "2  Daughter of fallen Navy Sailor delivers powerf...  Unknown  English   \n",
       "3  JUST IN: President Trump dedicates Presidents ...  Unknown  English   \n",
       "4  19,000 RESPECTING our National Anthem! #StandF...  Unknown  English   \n",
       "\n",
       "          publish_date  following  followers  updates  is_retweet  \\\n",
       "0  2017-10-01 19:58:00       1052       9636      253           0   \n",
       "1  2017-10-01 22:43:00       1054       9637      254           0   \n",
       "2  2017-10-01 22:50:00       1054       9637      255           1   \n",
       "3  2017-10-01 23:52:00       1062       9642      256           0   \n",
       "4  2017-10-01 02:13:00       1050       9645      246           1   \n",
       "\n",
       "  account_category            tweet_id  \\\n",
       "0       RightTroll  914580356430536707   \n",
       "1       RightTroll  914621840496189440   \n",
       "2       RightTroll  914623490375979008   \n",
       "3       RightTroll  914639143690555392   \n",
       "4       RightTroll  914312219952861184   \n",
       "\n",
       "                                            full_url data_source  has_URL  \\\n",
       "0  https://twitter.com/10_gop/status/914580356430...       Troll        1   \n",
       "1  https://twitter.com/damienwoody/status/9145685...       Troll        1   \n",
       "2  https://twitter.com/10_gop/status/913231923715...       Troll        1   \n",
       "3  https://twitter.com/10_gop/status/914639143690...       Troll        1   \n",
       "4  https://twitter.com/realDonaldTrump/status/914...       Troll        1   \n",
       "\n",
       "              emoji_text  emoji_count  \n",
       "0                     []            0  \n",
       "1                     []            0  \n",
       "2                     []            0  \n",
       "3                     []            0  \n",
       "4  [flag: United States]            1  "
      ]
     },
     "execution_count": 102,
     "metadata": {},
     "output_type": "execute_result"
    }
   ],
   "source": [
    "df.head()"
   ]
  },
  {
   "cell_type": "code",
   "execution_count": 95,
   "metadata": {},
   "outputs": [
    {
     "data": {
      "text/plain": [
       "external_author_id         0\n",
       "author                     0\n",
       "content                    0\n",
       "region                 52767\n",
       "language                   0\n",
       "publish_date               0\n",
       "following                  0\n",
       "followers                  0\n",
       "updates                    0\n",
       "is_retweet                 0\n",
       "account_category           0\n",
       "tweet_id                   0\n",
       "full_url              868926\n",
       "data_source                0\n",
       "has_URL                    0\n",
       "emoji_text                 0\n",
       "emoji_count                0\n",
       "dtype: int64"
      ]
     },
     "execution_count": 95,
     "metadata": {},
     "output_type": "execute_result"
    }
   ],
   "source": [
    "df.isnull().sum()"
   ]
  },
  {
   "cell_type": "code",
   "execution_count": 50,
   "metadata": {},
   "outputs": [
    {
     "data": {
      "text/plain": [
       "0    1673960\n",
       "1     936092\n",
       "Name: is_retweet, dtype: int64"
      ]
     },
     "execution_count": 50,
     "metadata": {},
     "output_type": "execute_result"
    }
   ],
   "source": [
    "df['is_retweet'].value_counts()"
   ]
  },
  {
   "cell_type": "code",
   "execution_count": 52,
   "metadata": {},
   "outputs": [
    {
     "data": {
      "text/plain": [
       "Troll            2116866\n",
       "Verified_User     493186\n",
       "Name: data_source, dtype: int64"
      ]
     },
     "execution_count": 52,
     "metadata": {},
     "output_type": "execute_result"
    }
   ],
   "source": [
    "df['data_source'].value_counts()"
   ]
  },
  {
   "cell_type": "code",
   "execution_count": 97,
   "metadata": {},
   "outputs": [
    {
     "data": {
      "text/plain": [
       "0      2548431\n",
       "1        39794\n",
       "2        10033\n",
       "3         5575\n",
       "4         2621\n",
       "5         1286\n",
       "6          740\n",
       "7          349\n",
       "8          261\n",
       "9          190\n",
       "10         134\n",
       "11          88\n",
       "12         118\n",
       "13          63\n",
       "14          39\n",
       "15          41\n",
       "16          52\n",
       "17          79\n",
       "18          14\n",
       "19           6\n",
       "20          14\n",
       "21           9\n",
       "22          11\n",
       "23           6\n",
       "24          14\n",
       "25           9\n",
       "26           9\n",
       "27           3\n",
       "28           2\n",
       "29           5\n",
       "30           6\n",
       "31           3\n",
       "32           3\n",
       "33           1\n",
       "34           5\n",
       "35           2\n",
       "36           1\n",
       "37           2\n",
       "38           1\n",
       "42           1\n",
       "43           1\n",
       "44           2\n",
       "45           3\n",
       "47           1\n",
       "49           1\n",
       "50           1\n",
       "56           1\n",
       "57          14\n",
       "61           1\n",
       "72           1\n",
       "85           1\n",
       "107          1\n",
       "108          1\n",
       "116          1\n",
       "118          1\n",
       "Name: emoji_count, dtype: int64"
      ]
     },
     "execution_count": 97,
     "metadata": {},
     "output_type": "execute_result"
    }
   ],
   "source": [
    "df['emoji_count'].value_counts().sort_index()"
   ]
  },
  {
   "cell_type": "code",
   "execution_count": 99,
   "metadata": {},
   "outputs": [
    {
     "data": {
      "text/plain": [
       "<AxesSubplot:>"
      ]
     },
     "execution_count": 99,
     "metadata": {},
     "output_type": "execute_result"
    },
    {
     "data": {
      "image/png": "[encoded data removed]",
      "text/plain": [
       "<Figure size 432x288 with 1 Axes>"
      ]
     },
     "metadata": {
      "needs_background": "light"
     },
     "output_type": "display_data"
    }
   ],
   "source": [
    "df['emoji_count'].hist()"
   ]
  },
  {
   "cell_type": "code",
   "execution_count": 100,
   "metadata": {},
   "outputs": [
    {
     "data": {
      "text/html": [
       "<div>\n",
       "<style scoped>\n",
       "    .dataframe tbody tr th:only-of-type {\n",
       "        vertical-align: middle;\n",
       "    }\n",
       "\n",
       "    .dataframe tbody tr th {\n",
       "        vertical-align: top;\n",
       "    }\n",
       "\n",
       "    .dataframe thead th {\n",
       "        text-align: right;\n",
       "    }\n",
       "</style>\n",
       "<table border=\"1\" class=\"dataframe\">\n",
       "  <thead>\n",
       "    <tr style=\"text-align: right;\">\n",
       "      <th></th>\n",
       "      <th>external_author_id</th>\n",
       "      <th>author</th>\n",
       "      <th>content</th>\n",
       "      <th>region</th>\n",
       "      <th>language</th>\n",
       "      <th>publish_date</th>\n",
       "      <th>following</th>\n",
       "      <th>followers</th>\n",
       "      <th>updates</th>\n",
       "      <th>is_retweet</th>\n",
       "      <th>account_category</th>\n",
       "      <th>tweet_id</th>\n",
       "      <th>full_url</th>\n",
       "      <th>data_source</th>\n",
       "      <th>has_URL</th>\n",
       "      <th>emoji_text</th>\n",
       "      <th>emoji_count</th>\n",
       "    </tr>\n",
       "  </thead>\n",
       "  <tbody>\n",
       "    <tr>\n",
       "      <th>6</th>\n",
       "      <td>906000000000000000</td>\n",
       "      <td>10_GOP</td>\n",
       "      <td>🐝🐝🐝 https://t.co/MorL3AQW0z</td>\n",
       "      <td>Unknown</td>\n",
       "      <td>English</td>\n",
       "      <td>2017-10-01 02:48:00</td>\n",
       "      <td>1050</td>\n",
       "      <td>9644</td>\n",
       "      <td>248</td>\n",
       "      <td>1</td>\n",
       "      <td>RightTroll</td>\n",
       "      <td>914321156466933760</td>\n",
       "      <td>https://twitter.com/Cernovich/status/914314644...</td>\n",
       "      <td>Troll</td>\n",
       "      <td>1</td>\n",
       "      <td>[honeybee, honeybee, honeybee]</td>\n",
       "      <td>3</td>\n",
       "    </tr>\n",
       "    <tr>\n",
       "      <th>16</th>\n",
       "      <td>906000000000000000</td>\n",
       "      <td>10_GOP</td>\n",
       "      <td>First lady Melania Trump visits infant opioid ...</td>\n",
       "      <td>Unknown</td>\n",
       "      <td>English</td>\n",
       "      <td>2017-10-10 23:42:00</td>\n",
       "      <td>1068</td>\n",
       "      <td>10328</td>\n",
       "      <td>304</td>\n",
       "      <td>0</td>\n",
       "      <td>RightTroll</td>\n",
       "      <td>917898105365909504</td>\n",
       "      <td>https://twitter.com/10_gop/status/917898105365...</td>\n",
       "      <td>Troll</td>\n",
       "      <td>1</td>\n",
       "      <td>[red heart, red heart]</td>\n",
       "      <td>2</td>\n",
       "    </tr>\n",
       "    <tr>\n",
       "      <th>39</th>\n",
       "      <td>906000000000000000</td>\n",
       "      <td>10_GOP</td>\n",
       "      <td>A cute 10 yo girl had a Trump dress on. Hannit...</td>\n",
       "      <td>Unknown</td>\n",
       "      <td>English</td>\n",
       "      <td>2017-10-12 03:02:00</td>\n",
       "      <td>1072</td>\n",
       "      <td>10366</td>\n",
       "      <td>317</td>\n",
       "      <td>0</td>\n",
       "      <td>RightTroll</td>\n",
       "      <td>918310998913798144</td>\n",
       "      <td>https://twitter.com/10_gop/status/918310998913...</td>\n",
       "      <td>Troll</td>\n",
       "      <td>1</td>\n",
       "      <td>[red heart, red heart]</td>\n",
       "      <td>2</td>\n",
       "    </tr>\n",
       "    <tr>\n",
       "      <th>74</th>\n",
       "      <td>906000000000000000</td>\n",
       "      <td>10_GOP</td>\n",
       "      <td>'@Cernovich @KFILE JOURNALISM 😱😱'</td>\n",
       "      <td>Unknown</td>\n",
       "      <td>English</td>\n",
       "      <td>2017-10-02 22:37:00</td>\n",
       "      <td>1066</td>\n",
       "      <td>9721</td>\n",
       "      <td>269</td>\n",
       "      <td>0</td>\n",
       "      <td>RightTroll</td>\n",
       "      <td>914982688028798976</td>\n",
       "      <td>NaN</td>\n",
       "      <td>Troll</td>\n",
       "      <td>0</td>\n",
       "      <td>[face screaming in fear, face screaming in fear]</td>\n",
       "      <td>2</td>\n",
       "    </tr>\n",
       "    <tr>\n",
       "      <th>79</th>\n",
       "      <td>906000000000000000</td>\n",
       "      <td>10_GOP</td>\n",
       "      <td>The truth about Puerto Rico 🇵🇷 &amp;amp; it's not ...</td>\n",
       "      <td>Unknown</td>\n",
       "      <td>English</td>\n",
       "      <td>2017-10-02 02:42:00</td>\n",
       "      <td>1064</td>\n",
       "      <td>9651</td>\n",
       "      <td>258</td>\n",
       "      <td>1</td>\n",
       "      <td>RightTroll</td>\n",
       "      <td>914681854858600449</td>\n",
       "      <td>https://twitter.com/ExDemLatina/status/9146187...</td>\n",
       "      <td>Troll</td>\n",
       "      <td>1</td>\n",
       "      <td>[flag: Puerto Rico, diamond suit, diamond suit]</td>\n",
       "      <td>3</td>\n",
       "    </tr>\n",
       "  </tbody>\n",
       "</table>\n",
       "</div>"
      ],
      "text/plain": [
       "    external_author_id  author  \\\n",
       "6   906000000000000000  10_GOP   \n",
       "16  906000000000000000  10_GOP   \n",
       "39  906000000000000000  10_GOP   \n",
       "74  906000000000000000  10_GOP   \n",
       "79  906000000000000000  10_GOP   \n",
       "\n",
       "                                              content   region language  \\\n",
       "6                         🐝🐝🐝 https://t.co/MorL3AQW0z  Unknown  English   \n",
       "16  First lady Melania Trump visits infant opioid ...  Unknown  English   \n",
       "39  A cute 10 yo girl had a Trump dress on. Hannit...  Unknown  English   \n",
       "74                  '@Cernovich @KFILE JOURNALISM 😱😱'  Unknown  English   \n",
       "79  The truth about Puerto Rico 🇵🇷 &amp; it's not ...  Unknown  English   \n",
       "\n",
       "           publish_date  following  followers  updates  is_retweet  \\\n",
       "6   2017-10-01 02:48:00       1050       9644      248           1   \n",
       "16  2017-10-10 23:42:00       1068      10328      304           0   \n",
       "39  2017-10-12 03:02:00       1072      10366      317           0   \n",
       "74  2017-10-02 22:37:00       1066       9721      269           0   \n",
       "79  2017-10-02 02:42:00       1064       9651      258           1   \n",
       "\n",
       "   account_category            tweet_id  \\\n",
       "6        RightTroll  914321156466933760   \n",
       "16       RightTroll  917898105365909504   \n",
       "39       RightTroll  918310998913798144   \n",
       "74       RightTroll  914982688028798976   \n",
       "79       RightTroll  914681854858600449   \n",
       "\n",
       "                                             full_url data_source  has_URL  \\\n",
       "6   https://twitter.com/Cernovich/status/914314644...       Troll        1   \n",
       "16  https://twitter.com/10_gop/status/917898105365...       Troll        1   \n",
       "39  https://twitter.com/10_gop/status/918310998913...       Troll        1   \n",
       "74                                                NaN       Troll        0   \n",
       "79  https://twitter.com/ExDemLatina/status/9146187...       Troll        1   \n",
       "\n",
       "                                          emoji_text  emoji_count  \n",
       "6                     [honeybee, honeybee, honeybee]            3  \n",
       "16                            [red heart, red heart]            2  \n",
       "39                            [red heart, red heart]            2  \n",
       "74  [face screaming in fear, face screaming in fear]            2  \n",
       "79   [flag: Puerto Rico, diamond suit, diamond suit]            3  "
      ]
     },
     "execution_count": 100,
     "metadata": {},
     "output_type": "execute_result"
    }
   ],
   "source": [
    "df[df['emoji_count']>1].head()"
   ]
  },
  {
   "cell_type": "code",
   "execution_count": 71,
   "metadata": {},
   "outputs": [
    {
     "data": {
      "text/plain": [
       "RightTroll       704953\n",
       "NewsFeed         596593\n",
       "Verified_User    493186\n",
       "LeftTroll        422141\n",
       "HashtagGamer     236091\n",
       "Commercial       112580\n",
       "NonEnglish        26562\n",
       "Fearmonger        11001\n",
       "Unknown            6945\n",
       "Name: account_category, dtype: int64"
      ]
     },
     "execution_count": 71,
     "metadata": {},
     "output_type": "execute_result"
    }
   ],
   "source": [
    "df['account_category'].value_counts()"
   ]
  },
  {
   "cell_type": "code",
   "execution_count": 73,
   "metadata": {},
   "outputs": [],
   "source": [
    "verified_filter = df['account_category']=='Verified_User'"
   ]
  },
  {
   "cell_type": "code",
   "execution_count": 76,
   "metadata": {},
   "outputs": [],
   "source": [
    "Troll_filter = df['data_source']=='Troll'"
   ]
  },
  {
   "cell_type": "code",
   "execution_count": 227,
   "metadata": {},
   "outputs": [
    {
     "data": {
      "text/plain": [
       "external_author_id    493186\n",
       "author                493186\n",
       "content               493186\n",
       "region                441555\n",
       "language              493186\n",
       "publish_date          493186\n",
       "following             493186\n",
       "followers             493186\n",
       "updates               493186\n",
       "is_retweet            493186\n",
       "account_category      493186\n",
       "tweet_id              493186\n",
       "full_url              383066\n",
       "data_source           493186\n",
       "has_URL               493186\n",
       "emoji_text            493186\n",
       "emoji_count           493186\n",
       "following_ratio       493186\n",
       "RUS_lett_count        493186\n",
       "dtype: int64"
      ]
     },
     "execution_count": 227,
     "metadata": {},
     "output_type": "execute_result"
    }
   ],
   "source": [
    "df.where(verified_filter).count()"
   ]
  },
  {
   "cell_type": "code",
   "execution_count": 228,
   "metadata": {},
   "outputs": [
    {
     "data": {
      "text/plain": [
       "external_author_id    2116866\n",
       "author                2116866\n",
       "content               2116866\n",
       "region                2115730\n",
       "language              2116866\n",
       "publish_date          2116866\n",
       "following             2116866\n",
       "followers             2116866\n",
       "updates               2116866\n",
       "is_retweet            2116866\n",
       "account_category      2116866\n",
       "tweet_id              2116866\n",
       "full_url              1358060\n",
       "data_source           2116866\n",
       "has_URL               2116866\n",
       "emoji_text            2116866\n",
       "emoji_count           2116866\n",
       "following_ratio       2116866\n",
       "RUS_lett_count        2116866\n",
       "dtype: int64"
      ]
     },
     "execution_count": 228,
     "metadata": {},
     "output_type": "execute_result"
    }
   ],
   "source": [
    "df.where(Troll_filter).count()"
   ]
  },
  {
   "cell_type": "code",
   "execution_count": 75,
   "metadata": {},
   "outputs": [
    {
     "data": {
      "text/plain": [
       "author\n",
       "AskTSA       49321\n",
       "thehill      29047\n",
       "business     26248\n",
       "csmonitor    19926\n",
       "NASA         17497\n",
       "TIME         17038\n",
       "StateDept    16716\n",
       "nytimes      16584\n",
       "WSJ          14778\n",
       "Reuters      14474\n",
       "Name: content, dtype: int64"
      ]
     },
     "execution_count": 75,
     "metadata": {},
     "output_type": "execute_result"
    }
   ],
   "source": [
    "df.where(verified_filter).groupby('author')['content'].count().nlargest(10)"
   ]
  },
  {
   "cell_type": "code",
   "execution_count": 77,
   "metadata": {},
   "outputs": [
    {
     "data": {
      "text/plain": [
       "author\n",
       "EXQUOTE            53158\n",
       "SCREAMYMONKEY      43956\n",
       "WORLDNEWSPOLI      35082\n",
       "AMELIEBALDWIN      34308\n",
       "TODAYPITTSBURGH    33377\n",
       "SPECIALAFFAIR      32416\n",
       "SEATTLE_POST       30680\n",
       "KANSASDAILYNEWS    28746\n",
       "ROOMOFRUMOR        28259\n",
       "DAILYSANFRAN       27962\n",
       "Name: content, dtype: int64"
      ]
     },
     "execution_count": 77,
     "metadata": {},
     "output_type": "execute_result"
    }
   ],
   "source": [
    "df.where(Troll_filter).groupby('author')['content'].count().nlargest(10)"
   ]
  },
  {
   "cell_type": "code",
   "execution_count": 80,
   "metadata": {},
   "outputs": [],
   "source": [
    "start_EXQUOTE= df[df['author']=='EXQUOTE']['publish_date'].min()\n",
    "end_EXQUOTE = df[df['author']=='EXQUOTE']['publish_date'].max()"
   ]
  },
  {
   "cell_type": "code",
   "execution_count": 85,
   "metadata": {},
   "outputs": [
    {
     "data": {
      "text/plain": [
       "'7/10/2015 0:00'"
      ]
     },
     "execution_count": 85,
     "metadata": {},
     "output_type": "execute_result"
    }
   ],
   "source": [
    "start_EXQUOTE\n",
    "mm/dd/yyyy hh:mm"
   ]
  },
  {
   "cell_type": "code",
   "execution_count": 103,
   "metadata": {},
   "outputs": [
    {
     "data": {
      "text/plain": [
       "0    2017-10-01 19:58:00\n",
       "1    2017-10-01 22:43:00\n",
       "2    2017-10-01 22:50:00\n",
       "3    2017-10-01 23:52:00\n",
       "4    2017-10-01 02:13:00\n",
       "Name: publish_date, dtype: object"
      ]
     },
     "execution_count": 103,
     "metadata": {},
     "output_type": "execute_result"
    }
   ],
   "source": [
    "df['publish_date'].head()"
   ]
  },
  {
   "cell_type": "markdown",
   "metadata": {},
   "source": [
    "**Derive New Feature: Following Ratio**"
   ]
  },
  {
   "cell_type": "code",
   "execution_count": 107,
   "metadata": {},
   "outputs": [
    {
     "data": {
      "text/plain": [
       "1"
      ]
     },
     "execution_count": 107,
     "metadata": {},
     "output_type": "execute_result"
    }
   ],
   "source": [
    "df['followers'].min()+1"
   ]
  },
  {
   "cell_type": "code",
   "execution_count": 108,
   "metadata": {},
   "outputs": [],
   "source": [
    "#Add 1 to each number to account for accounts with 0 followers\n",
    "df['following_ratio']=(df['following']+1)/(df['followers']+1)"
   ]
  },
  {
   "cell_type": "code",
   "execution_count": 110,
   "metadata": {},
   "outputs": [
    {
     "data": {
      "text/plain": [
       "<AxesSubplot:>"
      ]
     },
     "execution_count": 110,
     "metadata": {},
     "output_type": "execute_result"
    },
    {
     "data": {
      "image/png": "[encoded data removed]",
      "text/plain": [
       "<Figure size 432x288 with 1 Axes>"
      ]
     },
     "metadata": {
      "needs_background": "light"
     },
     "output_type": "display_data"
    }
   ],
   "source": [
    "df['following_ratio'].hist()"
   ]
  },
  {
   "cell_type": "code",
   "execution_count": 148,
   "metadata": {},
   "outputs": [
    {
     "data": {
      "text/html": [
       "<div>\n",
       "<style scoped>\n",
       "    .dataframe tbody tr th:only-of-type {\n",
       "        vertical-align: middle;\n",
       "    }\n",
       "\n",
       "    .dataframe tbody tr th {\n",
       "        vertical-align: top;\n",
       "    }\n",
       "\n",
       "    .dataframe thead th {\n",
       "        text-align: right;\n",
       "    }\n",
       "</style>\n",
       "<table border=\"1\" class=\"dataframe\">\n",
       "  <thead>\n",
       "    <tr style=\"text-align: right;\">\n",
       "      <th></th>\n",
       "      <th>author</th>\n",
       "      <th>following_ratio</th>\n",
       "      <th>account_category</th>\n",
       "    </tr>\n",
       "  </thead>\n",
       "  <tbody>\n",
       "    <tr>\n",
       "      <th>90144</th>\n",
       "      <td>AMBERLINETR</td>\n",
       "      <td>965.0</td>\n",
       "      <td>RightTroll</td>\n",
       "    </tr>\n",
       "    <tr>\n",
       "      <th>90145</th>\n",
       "      <td>AMBERLINETR</td>\n",
       "      <td>965.0</td>\n",
       "      <td>RightTroll</td>\n",
       "    </tr>\n",
       "    <tr>\n",
       "      <th>90146</th>\n",
       "      <td>AMBERLINETR</td>\n",
       "      <td>965.0</td>\n",
       "      <td>RightTroll</td>\n",
       "    </tr>\n",
       "    <tr>\n",
       "      <th>90147</th>\n",
       "      <td>AMBERLINETR</td>\n",
       "      <td>965.0</td>\n",
       "      <td>RightTroll</td>\n",
       "    </tr>\n",
       "    <tr>\n",
       "      <th>90148</th>\n",
       "      <td>AMBERLINETR</td>\n",
       "      <td>965.0</td>\n",
       "      <td>RightTroll</td>\n",
       "    </tr>\n",
       "    <tr>\n",
       "      <th>90149</th>\n",
       "      <td>AMBERLINETR</td>\n",
       "      <td>965.0</td>\n",
       "      <td>RightTroll</td>\n",
       "    </tr>\n",
       "    <tr>\n",
       "      <th>90150</th>\n",
       "      <td>AMBERLINETR</td>\n",
       "      <td>965.0</td>\n",
       "      <td>RightTroll</td>\n",
       "    </tr>\n",
       "    <tr>\n",
       "      <th>90151</th>\n",
       "      <td>AMBERLINETR</td>\n",
       "      <td>965.0</td>\n",
       "      <td>RightTroll</td>\n",
       "    </tr>\n",
       "    <tr>\n",
       "      <th>90152</th>\n",
       "      <td>AMBERLINETR</td>\n",
       "      <td>965.0</td>\n",
       "      <td>RightTroll</td>\n",
       "    </tr>\n",
       "    <tr>\n",
       "      <th>90153</th>\n",
       "      <td>AMBERLINETR</td>\n",
       "      <td>965.0</td>\n",
       "      <td>RightTroll</td>\n",
       "    </tr>\n",
       "    <tr>\n",
       "      <th>201691</th>\n",
       "      <td>ARAGARTRR</td>\n",
       "      <td>1011.0</td>\n",
       "      <td>RightTroll</td>\n",
       "    </tr>\n",
       "    <tr>\n",
       "      <th>201692</th>\n",
       "      <td>ARAGARTRR</td>\n",
       "      <td>1011.0</td>\n",
       "      <td>RightTroll</td>\n",
       "    </tr>\n",
       "    <tr>\n",
       "      <th>201693</th>\n",
       "      <td>ARAGARTRR</td>\n",
       "      <td>1011.0</td>\n",
       "      <td>RightTroll</td>\n",
       "    </tr>\n",
       "    <tr>\n",
       "      <th>201694</th>\n",
       "      <td>ARAGARTRR</td>\n",
       "      <td>1011.0</td>\n",
       "      <td>RightTroll</td>\n",
       "    </tr>\n",
       "    <tr>\n",
       "      <th>201695</th>\n",
       "      <td>ARAGARTRR</td>\n",
       "      <td>1011.0</td>\n",
       "      <td>RightTroll</td>\n",
       "    </tr>\n",
       "    <tr>\n",
       "      <th>201696</th>\n",
       "      <td>ARAGARTRR</td>\n",
       "      <td>1011.0</td>\n",
       "      <td>RightTroll</td>\n",
       "    </tr>\n",
       "    <tr>\n",
       "      <th>201697</th>\n",
       "      <td>ARAGARTRR</td>\n",
       "      <td>1011.0</td>\n",
       "      <td>RightTroll</td>\n",
       "    </tr>\n",
       "    <tr>\n",
       "      <th>358373</th>\n",
       "      <td>RISSTYTRT</td>\n",
       "      <td>963.0</td>\n",
       "      <td>RightTroll</td>\n",
       "    </tr>\n",
       "    <tr>\n",
       "      <th>358374</th>\n",
       "      <td>RISSTYTRT</td>\n",
       "      <td>963.0</td>\n",
       "      <td>RightTroll</td>\n",
       "    </tr>\n",
       "    <tr>\n",
       "      <th>358375</th>\n",
       "      <td>RISSTYTRT</td>\n",
       "      <td>963.0</td>\n",
       "      <td>RightTroll</td>\n",
       "    </tr>\n",
       "    <tr>\n",
       "      <th>358376</th>\n",
       "      <td>RISSTYTRT</td>\n",
       "      <td>963.0</td>\n",
       "      <td>RightTroll</td>\n",
       "    </tr>\n",
       "    <tr>\n",
       "      <th>358377</th>\n",
       "      <td>RISSTYTRT</td>\n",
       "      <td>963.0</td>\n",
       "      <td>RightTroll</td>\n",
       "    </tr>\n",
       "    <tr>\n",
       "      <th>358378</th>\n",
       "      <td>RISSTYTRT</td>\n",
       "      <td>963.0</td>\n",
       "      <td>RightTroll</td>\n",
       "    </tr>\n",
       "    <tr>\n",
       "      <th>358379</th>\n",
       "      <td>RISSTYTRT</td>\n",
       "      <td>963.0</td>\n",
       "      <td>RightTroll</td>\n",
       "    </tr>\n",
       "    <tr>\n",
       "      <th>358380</th>\n",
       "      <td>RISSTYTRT</td>\n",
       "      <td>963.0</td>\n",
       "      <td>RightTroll</td>\n",
       "    </tr>\n",
       "    <tr>\n",
       "      <th>2386811</th>\n",
       "      <td>LGBTUNI</td>\n",
       "      <td>789.0</td>\n",
       "      <td>LeftTroll</td>\n",
       "    </tr>\n",
       "    <tr>\n",
       "      <th>2386812</th>\n",
       "      <td>LGBTUNI</td>\n",
       "      <td>789.0</td>\n",
       "      <td>LeftTroll</td>\n",
       "    </tr>\n",
       "    <tr>\n",
       "      <th>2386813</th>\n",
       "      <td>LGBTUNI</td>\n",
       "      <td>789.0</td>\n",
       "      <td>LeftTroll</td>\n",
       "    </tr>\n",
       "  </tbody>\n",
       "</table>\n",
       "</div>"
      ],
      "text/plain": [
       "              author  following_ratio account_category\n",
       "90144    AMBERLINETR            965.0       RightTroll\n",
       "90145    AMBERLINETR            965.0       RightTroll\n",
       "90146    AMBERLINETR            965.0       RightTroll\n",
       "90147    AMBERLINETR            965.0       RightTroll\n",
       "90148    AMBERLINETR            965.0       RightTroll\n",
       "90149    AMBERLINETR            965.0       RightTroll\n",
       "90150    AMBERLINETR            965.0       RightTroll\n",
       "90151    AMBERLINETR            965.0       RightTroll\n",
       "90152    AMBERLINETR            965.0       RightTroll\n",
       "90153    AMBERLINETR            965.0       RightTroll\n",
       "201691     ARAGARTRR           1011.0       RightTroll\n",
       "201692     ARAGARTRR           1011.0       RightTroll\n",
       "201693     ARAGARTRR           1011.0       RightTroll\n",
       "201694     ARAGARTRR           1011.0       RightTroll\n",
       "201695     ARAGARTRR           1011.0       RightTroll\n",
       "201696     ARAGARTRR           1011.0       RightTroll\n",
       "201697     ARAGARTRR           1011.0       RightTroll\n",
       "358373     RISSTYTRT            963.0       RightTroll\n",
       "358374     RISSTYTRT            963.0       RightTroll\n",
       "358375     RISSTYTRT            963.0       RightTroll\n",
       "358376     RISSTYTRT            963.0       RightTroll\n",
       "358377     RISSTYTRT            963.0       RightTroll\n",
       "358378     RISSTYTRT            963.0       RightTroll\n",
       "358379     RISSTYTRT            963.0       RightTroll\n",
       "358380     RISSTYTRT            963.0       RightTroll\n",
       "2386811      LGBTUNI            789.0        LeftTroll\n",
       "2386812      LGBTUNI            789.0        LeftTroll\n",
       "2386813      LGBTUNI            789.0        LeftTroll"
      ]
     },
     "execution_count": 148,
     "metadata": {},
     "output_type": "execute_result"
    }
   ],
   "source": [
    "df.loc[df['following_ratio']>700, ['author','following_ratio','account_category']]"
   ]
  },
  {
   "cell_type": "code",
   "execution_count": 138,
   "metadata": {},
   "outputs": [
    {
     "data": {
      "text/plain": [
       "author\n",
       "RIKKIRI1          186.666667\n",
       "TEDCHOCKHOLDER    112.499512\n",
       "MUPU26            109.666667\n",
       "BERNIEDDDD         88.000000\n",
       "CTHUNO             72.333333\n",
       "Name: following_ratio, dtype: float64"
      ]
     },
     "execution_count": 138,
     "metadata": {},
     "output_type": "execute_result"
    }
   ],
   "source": [
    "df.where(Troll_filter).groupby('author')['following_ratio'].mean().nlargest(5)"
   ]
  },
  {
   "cell_type": "code",
   "execution_count": 149,
   "metadata": {},
   "outputs": [
    {
     "data": {
      "text/plain": [
       "author\n",
       "TheIJR           0.063315\n",
       "csmonitor        0.025930\n",
       "NPR              0.007483\n",
       "RealClearNews    0.005626\n",
       "BarackObama      0.004346\n",
       "Name: following_ratio, dtype: float64"
      ]
     },
     "execution_count": 149,
     "metadata": {},
     "output_type": "execute_result"
    }
   ],
   "source": [
    "df.where(verified_filter).groupby('author')['following_ratio'].mean().nlargest(5)"
   ]
  },
  {
   "cell_type": "code",
   "execution_count": 153,
   "metadata": {},
   "outputs": [
    {
     "data": {
      "text/html": [
       "<div>\n",
       "<style scoped>\n",
       "    .dataframe tbody tr th:only-of-type {\n",
       "        vertical-align: middle;\n",
       "    }\n",
       "\n",
       "    .dataframe tbody tr th {\n",
       "        vertical-align: top;\n",
       "    }\n",
       "\n",
       "    .dataframe thead th {\n",
       "        text-align: right;\n",
       "    }\n",
       "</style>\n",
       "<table border=\"1\" class=\"dataframe\">\n",
       "  <thead>\n",
       "    <tr style=\"text-align: right;\">\n",
       "      <th></th>\n",
       "      <th>author</th>\n",
       "      <th>following_ratio</th>\n",
       "      <th>account_category</th>\n",
       "    </tr>\n",
       "  </thead>\n",
       "  <tbody>\n",
       "    <tr>\n",
       "      <th>343</th>\n",
       "      <td>NaN</td>\n",
       "      <td>NaN</td>\n",
       "      <td>NaN</td>\n",
       "    </tr>\n",
       "    <tr>\n",
       "      <th>344</th>\n",
       "      <td>NaN</td>\n",
       "      <td>NaN</td>\n",
       "      <td>NaN</td>\n",
       "    </tr>\n",
       "    <tr>\n",
       "      <th>345</th>\n",
       "      <td>NaN</td>\n",
       "      <td>NaN</td>\n",
       "      <td>NaN</td>\n",
       "    </tr>\n",
       "    <tr>\n",
       "      <th>346</th>\n",
       "      <td>NaN</td>\n",
       "      <td>NaN</td>\n",
       "      <td>NaN</td>\n",
       "    </tr>\n",
       "    <tr>\n",
       "      <th>347</th>\n",
       "      <td>NaN</td>\n",
       "      <td>NaN</td>\n",
       "      <td>NaN</td>\n",
       "    </tr>\n",
       "    <tr>\n",
       "      <th>...</th>\n",
       "      <td>...</td>\n",
       "      <td>...</td>\n",
       "      <td>...</td>\n",
       "    </tr>\n",
       "    <tr>\n",
       "      <th>2931706</th>\n",
       "      <td>NaN</td>\n",
       "      <td>NaN</td>\n",
       "      <td>NaN</td>\n",
       "    </tr>\n",
       "    <tr>\n",
       "      <th>2931707</th>\n",
       "      <td>NaN</td>\n",
       "      <td>NaN</td>\n",
       "      <td>NaN</td>\n",
       "    </tr>\n",
       "    <tr>\n",
       "      <th>2931708</th>\n",
       "      <td>NaN</td>\n",
       "      <td>NaN</td>\n",
       "      <td>NaN</td>\n",
       "    </tr>\n",
       "    <tr>\n",
       "      <th>2931709</th>\n",
       "      <td>NaN</td>\n",
       "      <td>NaN</td>\n",
       "      <td>NaN</td>\n",
       "    </tr>\n",
       "    <tr>\n",
       "      <th>2931896</th>\n",
       "      <td>NaN</td>\n",
       "      <td>NaN</td>\n",
       "      <td>NaN</td>\n",
       "    </tr>\n",
       "  </tbody>\n",
       "</table>\n",
       "<p>793147 rows × 3 columns</p>\n",
       "</div>"
      ],
      "text/plain": [
       "        author  following_ratio account_category\n",
       "343        NaN              NaN              NaN\n",
       "344        NaN              NaN              NaN\n",
       "345        NaN              NaN              NaN\n",
       "346        NaN              NaN              NaN\n",
       "347        NaN              NaN              NaN\n",
       "...        ...              ...              ...\n",
       "2931706    NaN              NaN              NaN\n",
       "2931707    NaN              NaN              NaN\n",
       "2931708    NaN              NaN              NaN\n",
       "2931709    NaN              NaN              NaN\n",
       "2931896    NaN              NaN              NaN\n",
       "\n",
       "[793147 rows x 3 columns]"
      ]
     },
     "execution_count": 153,
     "metadata": {},
     "output_type": "execute_result"
    }
   ],
   "source": [
    "df.where(verified_filter).loc[df['following_ratio']>1, ['author','following_ratio','account_category']]"
   ]
  },
  {
   "cell_type": "code",
   "execution_count": 156,
   "metadata": {},
   "outputs": [
    {
     "data": {
      "text/plain": [
       "<AxesSubplot:xlabel='author'>"
      ]
     },
     "execution_count": 156,
     "metadata": {},
     "output_type": "execute_result"
    },
    {
     "data": {
      "image/png": "[encoded data removed]",
      "text/plain": [
       "<Figure size 432x288 with 1 Axes>"
      ]
     },
     "metadata": {
      "needs_background": "light"
     },
     "output_type": "display_data"
    }
   ],
   "source": [
    "df.where(verified_filter).groupby('author')['following_ratio'].max().plot()"
   ]
  },
  {
   "cell_type": "code",
   "execution_count": 158,
   "metadata": {},
   "outputs": [
    {
     "data": {
      "text/plain": [
       "<AxesSubplot:xlabel='author'>"
      ]
     },
     "execution_count": 158,
     "metadata": {},
     "output_type": "execute_result"
    },
    {
     "data": {
      "image/png": "[encoded data removed]",
      "text/plain": [
       "<Figure size 432x288 with 1 Axes>"
      ]
     },
     "metadata": {
      "needs_background": "light"
     },
     "output_type": "display_data"
    }
   ],
   "source": [
    "df.where(Troll_filter).groupby('author')['following_ratio'].max().plot()"
   ]
  },
  {
   "cell_type": "code",
   "execution_count": 159,
   "metadata": {},
   "outputs": [
    {
     "data": {
      "text/plain": [
       "1011.0"
      ]
     },
     "execution_count": 159,
     "metadata": {},
     "output_type": "execute_result"
    }
   ],
   "source": [
    "df.where(Troll_filter).following_ratio.max()"
   ]
  },
  {
   "cell_type": "code",
   "execution_count": 160,
   "metadata": {},
   "outputs": [
    {
     "data": {
      "text/plain": [
       "0.06331618519984171"
      ]
     },
     "execution_count": 160,
     "metadata": {},
     "output_type": "execute_result"
    }
   ],
   "source": [
    "df.where(verified_filter).following_ratio.max()"
   ]
  },
  {
   "cell_type": "code",
   "execution_count": 161,
   "metadata": {},
   "outputs": [
    {
     "data": {
      "text/plain": [
       "76210.0"
      ]
     },
     "execution_count": 161,
     "metadata": {},
     "output_type": "execute_result"
    }
   ],
   "source": [
    "df.where(Troll_filter).following.max()"
   ]
  },
  {
   "cell_type": "code",
   "execution_count": 162,
   "metadata": {},
   "outputs": [
    {
     "data": {
      "text/plain": [
       "580341.0"
      ]
     },
     "execution_count": 162,
     "metadata": {},
     "output_type": "execute_result"
    }
   ],
   "source": [
    "df.where(verified_filter).following.max()"
   ]
  },
  {
   "cell_type": "code",
   "execution_count": 163,
   "metadata": {},
   "outputs": [
    {
     "data": {
      "text/plain": [
       "133524146.0"
      ]
     },
     "execution_count": 163,
     "metadata": {},
     "output_type": "execute_result"
    }
   ],
   "source": [
    "df.where(verified_filter).followers.max()"
   ]
  },
  {
   "cell_type": "code",
   "execution_count": 164,
   "metadata": {},
   "outputs": [
    {
     "data": {
      "text/plain": [
       "206686.0"
      ]
     },
     "execution_count": 164,
     "metadata": {},
     "output_type": "execute_result"
    }
   ],
   "source": [
    "df.where(Troll_filter).followers.max()"
   ]
  },
  {
   "cell_type": "markdown",
   "metadata": {},
   "source": [
    "### Emoji Counts"
   ]
  },
  {
   "cell_type": "code",
   "execution_count": 167,
   "metadata": {},
   "outputs": [
    {
     "data": {
      "text/plain": [
       "0.04842677807664727"
      ]
     },
     "execution_count": 167,
     "metadata": {},
     "output_type": "execute_result"
    }
   ],
   "source": [
    "df.where(Troll_filter).emoji_count.mean()"
   ]
  },
  {
   "cell_type": "code",
   "execution_count": 168,
   "metadata": {},
   "outputs": [
    {
     "data": {
      "text/plain": [
       "0.029609518518368322"
      ]
     },
     "execution_count": 168,
     "metadata": {},
     "output_type": "execute_result"
    }
   ],
   "source": [
    "df.where(verified_filter).emoji_count.mean()"
   ]
  },
  {
   "cell_type": "code",
   "execution_count": 170,
   "metadata": {},
   "outputs": [
    {
     "data": {
      "text/plain": [
       "118.0"
      ]
     },
     "execution_count": 170,
     "metadata": {},
     "output_type": "execute_result"
    }
   ],
   "source": [
    "df.where(Troll_filter).emoji_count.max()"
   ]
  },
  {
   "cell_type": "code",
   "execution_count": 171,
   "metadata": {},
   "outputs": [
    {
     "data": {
      "text/plain": [
       "22.0"
      ]
     },
     "execution_count": 171,
     "metadata": {},
     "output_type": "execute_result"
    }
   ],
   "source": [
    "df.where(verified_filter).emoji_count.max()"
   ]
  },
  {
   "cell_type": "code",
   "execution_count": 218,
   "metadata": {},
   "outputs": [
    {
     "data": {
      "text/html": [
       "<div>\n",
       "<style scoped>\n",
       "    .dataframe tbody tr th:only-of-type {\n",
       "        vertical-align: middle;\n",
       "    }\n",
       "\n",
       "    .dataframe tbody tr th {\n",
       "        vertical-align: top;\n",
       "    }\n",
       "\n",
       "    .dataframe thead th {\n",
       "        text-align: right;\n",
       "    }\n",
       "</style>\n",
       "<table border=\"1\" class=\"dataframe\">\n",
       "  <thead>\n",
       "    <tr style=\"text-align: right;\">\n",
       "      <th></th>\n",
       "      <th>author</th>\n",
       "    </tr>\n",
       "  </thead>\n",
       "  <tbody>\n",
       "    <tr>\n",
       "      <th>24056</th>\n",
       "      <td>ACEJINEV</td>\n",
       "    </tr>\n",
       "    <tr>\n",
       "      <th>109922</th>\n",
       "      <td>AMELIEBALDWIN</td>\n",
       "    </tr>\n",
       "    <tr>\n",
       "      <th>908025</th>\n",
       "      <td>WILLISBONNERR</td>\n",
       "    </tr>\n",
       "    <tr>\n",
       "      <th>1176421</th>\n",
       "      <td>BRENTMCCLURE275</td>\n",
       "    </tr>\n",
       "    <tr>\n",
       "      <th>1707493</th>\n",
       "      <td>ELINSSTR</td>\n",
       "    </tr>\n",
       "    <tr>\n",
       "      <th>2124946</th>\n",
       "      <td>JADONHUTCHINSON</td>\n",
       "    </tr>\n",
       "    <tr>\n",
       "      <th>2134589</th>\n",
       "      <td>JANI_S_JAC</td>\n",
       "    </tr>\n",
       "    <tr>\n",
       "      <th>2470925</th>\n",
       "      <td>MARRISSATRR</td>\n",
       "    </tr>\n",
       "    <tr>\n",
       "      <th>2580610</th>\n",
       "      <td>MRCLYDEPRATT</td>\n",
       "    </tr>\n",
       "    <tr>\n",
       "      <th>2891874</th>\n",
       "      <td>PEYTONCASHOUT</td>\n",
       "    </tr>\n",
       "    <tr>\n",
       "      <th>123125</th>\n",
       "      <td>fema</td>\n",
       "    </tr>\n",
       "  </tbody>\n",
       "</table>\n",
       "</div>"
      ],
      "text/plain": [
       "                  author\n",
       "24056           ACEJINEV\n",
       "109922     AMELIEBALDWIN\n",
       "908025     WILLISBONNERR\n",
       "1176421  BRENTMCCLURE275\n",
       "1707493         ELINSSTR\n",
       "2124946  JADONHUTCHINSON\n",
       "2134589       JANI_S_JAC\n",
       "2470925      MARRISSATRR\n",
       "2580610     MRCLYDEPRATT\n",
       "2891874    PEYTONCASHOUT\n",
       "123125              fema"
      ]
     },
     "execution_count": 218,
     "metadata": {},
     "output_type": "execute_result"
    }
   ],
   "source": [
    "df.loc[df['emoji_count']==22, ['author']]"
   ]
  },
  {
   "cell_type": "code",
   "execution_count": 224,
   "metadata": {},
   "outputs": [
    {
     "data": {
      "text/html": [
       "<div>\n",
       "<style scoped>\n",
       "    .dataframe tbody tr th:only-of-type {\n",
       "        vertical-align: middle;\n",
       "    }\n",
       "\n",
       "    .dataframe tbody tr th {\n",
       "        vertical-align: top;\n",
       "    }\n",
       "\n",
       "    .dataframe thead th {\n",
       "        text-align: right;\n",
       "    }\n",
       "</style>\n",
       "<table border=\"1\" class=\"dataframe\">\n",
       "  <thead>\n",
       "    <tr style=\"text-align: right;\">\n",
       "      <th></th>\n",
       "      <th>external_author_id</th>\n",
       "      <th>author</th>\n",
       "      <th>content</th>\n",
       "      <th>region</th>\n",
       "      <th>language</th>\n",
       "      <th>publish_date</th>\n",
       "      <th>following</th>\n",
       "      <th>followers</th>\n",
       "      <th>updates</th>\n",
       "      <th>is_retweet</th>\n",
       "      <th>account_category</th>\n",
       "      <th>tweet_id</th>\n",
       "      <th>full_url</th>\n",
       "      <th>data_source</th>\n",
       "      <th>has_URL</th>\n",
       "      <th>emoji_text</th>\n",
       "      <th>emoji_count</th>\n",
       "      <th>following_ratio</th>\n",
       "      <th>RUS_lett_count</th>\n",
       "    </tr>\n",
       "  </thead>\n",
       "  <tbody>\n",
       "    <tr>\n",
       "      <th>123125</th>\n",
       "      <td>1679279490</td>\n",
       "      <td>AMELIEBALDWIN</td>\n",
       "      <td>'@foxandfriends  We also need legislation halt...</td>\n",
       "      <td>United States</td>\n",
       "      <td>English</td>\n",
       "      <td>2016-09-16 17:10:00</td>\n",
       "      <td>1481</td>\n",
       "      <td>2024</td>\n",
       "      <td>4365</td>\n",
       "      <td>1</td>\n",
       "      <td>RightTroll</td>\n",
       "      <td>776830590364573696</td>\n",
       "      <td>NaN</td>\n",
       "      <td>Troll</td>\n",
       "      <td>0</td>\n",
       "      <td>[]</td>\n",
       "      <td>0</td>\n",
       "      <td>0.731852</td>\n",
       "      <td>0</td>\n",
       "    </tr>\n",
       "    <tr>\n",
       "      <th>123125</th>\n",
       "      <td>16669075</td>\n",
       "      <td>fema</td>\n",
       "      <td>RT @TrooperBob_SCHP: Your option with the snow...</td>\n",
       "      <td>United States</td>\n",
       "      <td>en</td>\n",
       "      <td>2016-01-23 14:27:39+00:00</td>\n",
       "      <td>722</td>\n",
       "      <td>840940</td>\n",
       "      <td>209</td>\n",
       "      <td>1</td>\n",
       "      <td>Verified_User</td>\n",
       "      <td>690903726933053440</td>\n",
       "      <td>NaN</td>\n",
       "      <td>Verified_User</td>\n",
       "      <td>0</td>\n",
       "      <td>[snowflake, sport utility vehicle, oncoming po...</td>\n",
       "      <td>22</td>\n",
       "      <td>0.000860</td>\n",
       "      <td>0</td>\n",
       "    </tr>\n",
       "  </tbody>\n",
       "</table>\n",
       "</div>"
      ],
      "text/plain": [
       "       external_author_id         author  \\\n",
       "123125         1679279490  AMELIEBALDWIN   \n",
       "123125           16669075           fema   \n",
       "\n",
       "                                                  content         region  \\\n",
       "123125  '@foxandfriends  We also need legislation halt...  United States   \n",
       "123125  RT @TrooperBob_SCHP: Your option with the snow...  United States   \n",
       "\n",
       "       language               publish_date  following  followers  updates  \\\n",
       "123125  English        2016-09-16 17:10:00       1481       2024     4365   \n",
       "123125       en  2016-01-23 14:27:39+00:00        722     840940      209   \n",
       "\n",
       "        is_retweet account_category            tweet_id full_url  \\\n",
       "123125           1       RightTroll  776830590364573696      NaN   \n",
       "123125           1    Verified_User  690903726933053440      NaN   \n",
       "\n",
       "          data_source  has_URL  \\\n",
       "123125          Troll        0   \n",
       "123125  Verified_User        0   \n",
       "\n",
       "                                               emoji_text  emoji_count  \\\n",
       "123125                                                 []            0   \n",
       "123125  [snowflake, sport utility vehicle, oncoming po...           22   \n",
       "\n",
       "        following_ratio  RUS_lett_count  \n",
       "123125         0.731852               0  \n",
       "123125         0.000860               0  "
      ]
     },
     "execution_count": 224,
     "metadata": {},
     "output_type": "execute_result"
    }
   ],
   "source": [
    "df.loc[123125]"
   ]
  },
  {
   "cell_type": "markdown",
   "metadata": {},
   "source": [
    "### Examining Russian alphabet used in English Tweets"
   ]
  },
  {
   "cell_type": "code",
   "execution_count": 165,
   "metadata": {},
   "outputs": [
    {
     "name": "stdout",
     "output_type": "stream",
     "text": [
      "Unicode codes for English letters run from 65 to 122.\n",
      "Unicode codes for Russian letters run from 1040 to 1103.\n"
     ]
    }
   ],
   "source": [
    "print('Unicode codes for English letters run from ' + str(ord('A')) + ' to ' + str(ord('z')) + '.')\n",
    "print('Unicode codes for Russian letters run from ' + str(ord('А')) + ' to ' + str(ord('я')) + '.')"
   ]
  },
  {
   "cell_type": "code",
   "execution_count": 173,
   "metadata": {},
   "outputs": [
    {
     "name": "stdout",
     "output_type": "stream",
     "text": [
      "['в']\n",
      "Marco Rubio: from Republican savior to prophet of gloom в and back again #StopTheGOP  #GOPDebate\n"
     ]
    }
   ],
   "source": [
    "#test\n",
    "r_p2 = df.content[df.content.str.contains('Marco Rubio: from Republican savior to prophet', na=False)].values[0]\n",
    "print(re.findall('[А-Яа-я]', r_p2))\n",
    "print(r_p2)"
   ]
  },
  {
   "cell_type": "code",
   "execution_count": 174,
   "metadata": {},
   "outputs": [],
   "source": [
    "#create a column with a count of Russian letters (if any are used)\n",
    "df['RUS_lett_count'] = df.content.apply(lambda x: len(re.findall('[\\u0400-\\u04FF]', x)))"
   ]
  },
  {
   "cell_type": "code",
   "execution_count": 176,
   "metadata": {},
   "outputs": [
    {
     "name": "stdout",
     "output_type": "stream",
     "text": [
      "The number of accounts using Russian letters is\n",
      "265\n"
     ]
    }
   ],
   "source": [
    "#capture a list of accounts and account_category using Russian Letters\n",
    "acc_with_ru = (df[['author', 'RUS_lett_count','account_category']]).groupby(by='author').max()\n",
    "print('The number of accounts using Russian letters is')\n",
    "print(np.sum(acc_with_ru.RUS_lett_count!=0))"
   ]
  },
  {
   "cell_type": "code",
   "execution_count": 185,
   "metadata": {},
   "outputs": [
    {
     "data": {
      "text/plain": [
       "'No sir @10_gop We will not be silenced.Keep speaking the Truth Patriot👍 https://t.co/6XbSHEDEHB'"
      ]
     },
     "execution_count": 185,
     "metadata": {},
     "output_type": "execute_result"
    }
   ],
   "source": [
    "test = df.iloc[df['RUS_lett_count'].max()]['content']\n",
    "test"
   ]
  },
  {
   "cell_type": "code",
   "execution_count": 189,
   "metadata": {},
   "outputs": [
    {
     "data": {
      "text/plain": [
       "[]"
      ]
     },
     "execution_count": 189,
     "metadata": {},
     "output_type": "execute_result"
    }
   ],
   "source": [
    "re.findall('[\\u0400-\\u04FF]',test)"
   ]
  },
  {
   "cell_type": "code",
   "execution_count": 190,
   "metadata": {},
   "outputs": [
    {
     "data": {
      "text/plain": [
       "['в']"
      ]
     },
     "execution_count": 190,
     "metadata": {},
     "output_type": "execute_result"
    }
   ],
   "source": [
    "re.findall('[\\u0400-\\u04FF]',r_p2)"
   ]
  },
  {
   "cell_type": "code",
   "execution_count": null,
   "metadata": {},
   "outputs": [],
   "source": []
  },
  {
   "cell_type": "code",
   "execution_count": 201,
   "metadata": {},
   "outputs": [
    {
     "data": {
      "text/html": [
       "<div>\n",
       "<style scoped>\n",
       "    .dataframe tbody tr th:only-of-type {\n",
       "        vertical-align: middle;\n",
       "    }\n",
       "\n",
       "    .dataframe tbody tr th {\n",
       "        vertical-align: top;\n",
       "    }\n",
       "\n",
       "    .dataframe thead th {\n",
       "        text-align: right;\n",
       "    }\n",
       "</style>\n",
       "<table border=\"1\" class=\"dataframe\">\n",
       "  <thead>\n",
       "    <tr style=\"text-align: right;\">\n",
       "      <th></th>\n",
       "      <th>author</th>\n",
       "      <th>content</th>\n",
       "      <th>language</th>\n",
       "      <th>RUS_lett_count</th>\n",
       "      <th>account_category</th>\n",
       "    </tr>\n",
       "  </thead>\n",
       "  <tbody>\n",
       "    <tr>\n",
       "      <th>205991</th>\n",
       "      <td>ARGENTINACATLE1</td>\n",
       "      <td>Сонгогчидтойгоо уулзалдахын тулд уртын харайлт...</td>\n",
       "      <td>English</td>\n",
       "      <td>75</td>\n",
       "      <td>LeftTroll</td>\n",
       "    </tr>\n",
       "    <tr>\n",
       "      <th>221725</th>\n",
       "      <td>ARM_2_ALAN</td>\n",
       "      <td>На границе #Украина и #Словакия Реверс поставк...</td>\n",
       "      <td>English</td>\n",
       "      <td>99</td>\n",
       "      <td>RightTroll</td>\n",
       "    </tr>\n",
       "    <tr>\n",
       "      <th>296457</th>\n",
       "      <td>RAJAMANICKAMDA2</td>\n",
       "      <td>Нөгөө бичлэг задруулсан залуу @dropmires -с 40...</td>\n",
       "      <td>English</td>\n",
       "      <td>81</td>\n",
       "      <td>NonEnglish</td>\n",
       "    </tr>\n",
       "    <tr>\n",
       "      <th>1214649</th>\n",
       "      <td>BYDRBRE_</td>\n",
       "      <td>На Сахалине День снега не удалось отметить из-...</td>\n",
       "      <td>English</td>\n",
       "      <td>109</td>\n",
       "      <td>NonEnglish</td>\n",
       "    </tr>\n",
       "    <tr>\n",
       "      <th>1214823</th>\n",
       "      <td>BYDRBRE_</td>\n",
       "      <td>Волк Забивака стал талисманом чемпионата мира ...</td>\n",
       "      <td>English</td>\n",
       "      <td>53</td>\n",
       "      <td>NonEnglish</td>\n",
       "    </tr>\n",
       "    <tr>\n",
       "      <th>...</th>\n",
       "      <td>...</td>\n",
       "      <td>...</td>\n",
       "      <td>...</td>\n",
       "      <td>...</td>\n",
       "      <td>...</td>\n",
       "    </tr>\n",
       "    <tr>\n",
       "      <th>2674469</th>\n",
       "      <td>NIK__ANGELA</td>\n",
       "      <td>Что пишут о катастрофе MH17 в википедиях на ра...</td>\n",
       "      <td>English</td>\n",
       "      <td>82</td>\n",
       "      <td>NonEnglish</td>\n",
       "    </tr>\n",
       "    <tr>\n",
       "      <th>2674490</th>\n",
       "      <td>NIK__ANGELA</td>\n",
       "      <td>Медведев назначил Александра Потемкина торгпре...</td>\n",
       "      <td>English</td>\n",
       "      <td>55</td>\n",
       "      <td>NonEnglish</td>\n",
       "    </tr>\n",
       "    <tr>\n",
       "      <th>2674646</th>\n",
       "      <td>NIK__ANGELA</td>\n",
       "      <td>Анапа Геленджик, Сочи, Адлер и Туапсе  мои люб...</td>\n",
       "      <td>English</td>\n",
       "      <td>59</td>\n",
       "      <td>NonEnglish</td>\n",
       "    </tr>\n",
       "    <tr>\n",
       "      <th>2674681</th>\n",
       "      <td>NIK__ANGELA</td>\n",
       "      <td>Путин подписал закон о подготовке госимущества...</td>\n",
       "      <td>English</td>\n",
       "      <td>54</td>\n",
       "      <td>NonEnglish</td>\n",
       "    </tr>\n",
       "    <tr>\n",
       "      <th>2674792</th>\n",
       "      <td>NIK__ANGELA</td>\n",
       "      <td>Сначала смейся, а потом думай: в США вручили Ш...</td>\n",
       "      <td>English</td>\n",
       "      <td>53</td>\n",
       "      <td>NonEnglish</td>\n",
       "    </tr>\n",
       "  </tbody>\n",
       "</table>\n",
       "<p>84 rows × 5 columns</p>\n",
       "</div>"
      ],
      "text/plain": [
       "                  author                                            content  \\\n",
       "205991   ARGENTINACATLE1  Сонгогчидтойгоо уулзалдахын тулд уртын харайлт...   \n",
       "221725        ARM_2_ALAN  На границе #Украина и #Словакия Реверс поставк...   \n",
       "296457   RAJAMANICKAMDA2  Нөгөө бичлэг задруулсан залуу @dropmires -с 40...   \n",
       "1214649         BYDRBRE_  На Сахалине День снега не удалось отметить из-...   \n",
       "1214823         BYDRBRE_  Волк Забивака стал талисманом чемпионата мира ...   \n",
       "...                  ...                                                ...   \n",
       "2674469      NIK__ANGELA  Что пишут о катастрофе MH17 в википедиях на ра...   \n",
       "2674490      NIK__ANGELA  Медведев назначил Александра Потемкина торгпре...   \n",
       "2674646      NIK__ANGELA  Анапа Геленджик, Сочи, Адлер и Туапсе  мои люб...   \n",
       "2674681      NIK__ANGELA  Путин подписал закон о подготовке госимущества...   \n",
       "2674792      NIK__ANGELA  Сначала смейся, а потом думай: в США вручили Ш...   \n",
       "\n",
       "        language  RUS_lett_count account_category  \n",
       "205991   English              75        LeftTroll  \n",
       "221725   English              99       RightTroll  \n",
       "296457   English              81       NonEnglish  \n",
       "1214649  English             109       NonEnglish  \n",
       "1214823  English              53       NonEnglish  \n",
       "...          ...             ...              ...  \n",
       "2674469  English              82       NonEnglish  \n",
       "2674490  English              55       NonEnglish  \n",
       "2674646  English              59       NonEnglish  \n",
       "2674681  English              54       NonEnglish  \n",
       "2674792  English              53       NonEnglish  \n",
       "\n",
       "[84 rows x 5 columns]"
      ]
     },
     "execution_count": 201,
     "metadata": {},
     "output_type": "execute_result"
    }
   ],
   "source": [
    "df.loc[df['RUS_lett_count']>50, ['author','content','language','RUS_lett_count','account_category']]\n"
   ]
  },
  {
   "cell_type": "code",
   "execution_count": 203,
   "metadata": {},
   "outputs": [
    {
     "data": {
      "text/html": [
       "<div>\n",
       "<style scoped>\n",
       "    .dataframe tbody tr th:only-of-type {\n",
       "        vertical-align: middle;\n",
       "    }\n",
       "\n",
       "    .dataframe tbody tr th {\n",
       "        vertical-align: top;\n",
       "    }\n",
       "\n",
       "    .dataframe thead th {\n",
       "        text-align: right;\n",
       "    }\n",
       "</style>\n",
       "<table border=\"1\" class=\"dataframe\">\n",
       "  <thead>\n",
       "    <tr style=\"text-align: right;\">\n",
       "      <th></th>\n",
       "      <th>account_category</th>\n",
       "    </tr>\n",
       "  </thead>\n",
       "  <tbody>\n",
       "    <tr>\n",
       "      <th>205991</th>\n",
       "      <td>LeftTroll</td>\n",
       "    </tr>\n",
       "    <tr>\n",
       "      <th>221725</th>\n",
       "      <td>RightTroll</td>\n",
       "    </tr>\n",
       "    <tr>\n",
       "      <th>296457</th>\n",
       "      <td>NonEnglish</td>\n",
       "    </tr>\n",
       "    <tr>\n",
       "      <th>1214649</th>\n",
       "      <td>NonEnglish</td>\n",
       "    </tr>\n",
       "    <tr>\n",
       "      <th>1214823</th>\n",
       "      <td>NonEnglish</td>\n",
       "    </tr>\n",
       "    <tr>\n",
       "      <th>...</th>\n",
       "      <td>...</td>\n",
       "    </tr>\n",
       "    <tr>\n",
       "      <th>2674469</th>\n",
       "      <td>NonEnglish</td>\n",
       "    </tr>\n",
       "    <tr>\n",
       "      <th>2674490</th>\n",
       "      <td>NonEnglish</td>\n",
       "    </tr>\n",
       "    <tr>\n",
       "      <th>2674646</th>\n",
       "      <td>NonEnglish</td>\n",
       "    </tr>\n",
       "    <tr>\n",
       "      <th>2674681</th>\n",
       "      <td>NonEnglish</td>\n",
       "    </tr>\n",
       "    <tr>\n",
       "      <th>2674792</th>\n",
       "      <td>NonEnglish</td>\n",
       "    </tr>\n",
       "  </tbody>\n",
       "</table>\n",
       "<p>84 rows × 1 columns</p>\n",
       "</div>"
      ],
      "text/plain": [
       "        account_category\n",
       "205991         LeftTroll\n",
       "221725        RightTroll\n",
       "296457        NonEnglish\n",
       "1214649       NonEnglish\n",
       "1214823       NonEnglish\n",
       "...                  ...\n",
       "2674469       NonEnglish\n",
       "2674490       NonEnglish\n",
       "2674646       NonEnglish\n",
       "2674681       NonEnglish\n",
       "2674792       NonEnglish\n",
       "\n",
       "[84 rows x 1 columns]"
      ]
     },
     "execution_count": 203,
     "metadata": {},
     "output_type": "execute_result"
    }
   ],
   "source": [
    "df.loc[df['RUS_lett_count']>50, ['account_category']]"
   ]
  },
  {
   "cell_type": "code",
   "execution_count": 240,
   "metadata": {},
   "outputs": [
    {
     "data": {
      "text/plain": [
       "Index(['external_author_id', 'author', 'content', 'region', 'language',\n",
       "       'publish_date', 'following', 'followers', 'updates', 'is_retweet',\n",
       "       'account_category', 'tweet_id', 'full_url', 'data_source', 'has_URL',\n",
       "       'emoji_text', 'emoji_count', 'following_ratio', 'RUS_lett_count'],\n",
       "      dtype='object')"
      ]
     },
     "execution_count": 240,
     "metadata": {},
     "output_type": "execute_result"
    }
   ],
   "source": [
    "df.columns"
   ]
  },
  {
   "cell_type": "code",
   "execution_count": null,
   "metadata": {},
   "outputs": [],
   "source": []
  }
 ],
 "metadata": {
  "kernelspec": {
   "display_name": "Python 3",
   "language": "python",
   "name": "python3"
  },
  "language_info": {
   "codemirror_mode": {
    "name": "ipython",
    "version": 3
   },
   "file_extension": ".py",
   "mimetype": "text/x-python",
   "name": "python",
   "nbconvert_exporter": "python",
   "pygments_lexer": "ipython3",
   "version": "3.8.5"
  }
 },
 "nbformat": 4,
 "nbformat_minor": 4
}
