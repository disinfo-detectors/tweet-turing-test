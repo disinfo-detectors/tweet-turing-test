{
 "cells": [
  {
   "cell_type": "markdown",
   "metadata": {},
   "source": [
    "Merge JSON Files"
   ]
  },
  {
   "cell_type": "code",
   "execution_count": 2,
   "metadata": {},
   "outputs": [],
   "source": [
    "import pandas as pd\n",
    "import json\n",
    "import os\n",
    "import numpy as np"
   ]
  },
  {
   "cell_type": "code",
   "execution_count": 8,
   "metadata": {},
   "outputs": [
    {
     "data": {
      "text/plain": [
       "'/Users/katymatulay/Documents/Drexel - Grad School/07 Fall 2022/DSCI591/Capstone/Tweet_Downloads'"
      ]
     },
     "execution_count": 8,
     "metadata": {},
     "output_type": "execute_result"
    }
   ],
   "source": [
    "os.getcwd()"
   ]
  },
  {
   "cell_type": "code",
   "execution_count": 26,
   "metadata": {},
   "outputs": [],
   "source": [
    "''' Function takes a file path, extracts json files, and creates a merged json file'''\n",
    "def get_files(path):\n",
    "    import os\n",
    "    #get list of files in directory\n",
    "    file_list = os.listdir(path)\n",
    "    #create list to store only json files\n",
    "    json_files=[]\n",
    "    for i in file_list:\n",
    "        if i.endswith('.json'):\n",
    "            json_files.append(i)\n",
    "    return json_files"
   ]
  },
  {
   "cell_type": "code",
   "execution_count": 27,
   "metadata": {},
   "outputs": [],
   "source": [
    "##Replace string with your file path\n",
    "your_path = '/Users/katymatulay/Documents/Drexel - Grad School/07 Fall 2022/DSCI591/Capstone/Tweet_Downloads/'\n",
    "json_files = get_files(your_path)"
   ]
  },
  {
   "cell_type": "code",
   "execution_count": 28,
   "metadata": {},
   "outputs": [
    {
     "name": "stdout",
     "output_type": "stream",
     "text": [
      "['MikePence.json', 'News_Oct14.json', 'News_Oct15.json', 'CondoleezzaRice.json', 'GovtEntities2.json', 'MittRomney3.json', 'DonaldJTrumpJr.json', 'BarackObama.json', 'News_Oct13.json', 'elonmusk.json', 'HillaryClinton.json', 'GovtEntities.json', 'SarahPalin.json', 'News_Oct16.json', 'News_Oct17.json', 'BillGates.json', 'MichelleObama.json']\n"
     ]
    }
   ],
   "source": [
    "print(json_files)"
   ]
  },
  {
   "cell_type": "code",
   "execution_count": 36,
   "metadata": {},
   "outputs": [],
   "source": [
    "''' Function takes a list of json file names from a local folder and returns them as a single json list.\n",
    "    Function also outputs 1 json file containing all merged json files'''\n",
    "def merge_JsonFiles(file_list):\n",
    "    result = list()\n",
    "    for f1 in file_list:\n",
    "        with open(f1, 'r', encoding='UTF-8') as infile:\n",
    "            result.extend(json.load(infile))\n",
    "            \n",
    "    with open('tweet_master.json', 'w') as output_file:\n",
    "        json.dump(result, output_file)\n",
    "    return result"
   ]
  },
  {
   "cell_type": "code",
   "execution_count": 37,
   "metadata": {},
   "outputs": [],
   "source": [
    "tweet_master = merge_JsonFiles(json_files)"
   ]
  },
  {
   "cell_type": "code",
   "execution_count": 38,
   "metadata": {},
   "outputs": [
    {
     "name": "stdout",
     "output_type": "stream",
     "text": [
      "493186\n"
     ]
    }
   ],
   "source": [
    "print(len(tweet_master))"
   ]
  },
  {
   "cell_type": "markdown",
   "metadata": {},
   "source": [
    "# STOP HERE FOR MERGE JSON\n",
    "DELETE EVERYTHING BELOW AS IT HAS BEEN ADDED TO UNIVERSAL PRE-PROCESSING NOTEBOOK"
   ]
  },
  {
   "cell_type": "code",
   "execution_count": 3,
   "metadata": {},
   "outputs": [],
   "source": [
    "#UNCOMMENT & RUN if tweet_master.json was already written to disk\n",
    "\n",
    "#with open('tweet_master.json', encoding='UTF-8') as json_file:\n",
    "#    tweet_master = json.load(json_file)"
   ]
  },
  {
   "cell_type": "code",
   "execution_count": 4,
   "metadata": {},
   "outputs": [],
   "source": [
    "#convert json to pandas dataframe using normalize to flatten dict\n",
    "df= pd.json_normalize(tweet_master)"
   ]
  },
  {
   "cell_type": "code",
   "execution_count": 6,
   "metadata": {},
   "outputs": [],
   "source": [
    "pd.set_option('display.max_columns', None)"
   ]
  },
  {
   "cell_type": "code",
   "execution_count": 7,
   "metadata": {},
   "outputs": [
    {
     "data": {
      "text/plain": [
       "(493186, 57)"
      ]
     },
     "execution_count": 7,
     "metadata": {},
     "output_type": "execute_result"
    }
   ],
   "source": [
    "df.shape"
   ]
  },
  {
   "cell_type": "code",
   "execution_count": 9,
   "metadata": {},
   "outputs": [
    {
     "data": {
      "text/html": [
       "<div>\n",
       "<style scoped>\n",
       "    .dataframe tbody tr th:only-of-type {\n",
       "        vertical-align: middle;\n",
       "    }\n",
       "\n",
       "    .dataframe tbody tr th {\n",
       "        vertical-align: top;\n",
       "    }\n",
       "\n",
       "    .dataframe thead th {\n",
       "        text-align: right;\n",
       "    }\n",
       "</style>\n",
       "<table border=\"1\" class=\"dataframe\">\n",
       "  <thead>\n",
       "    <tr style=\"text-align: right;\">\n",
       "      <th></th>\n",
       "      <th>author_id</th>\n",
       "      <th>id</th>\n",
       "      <th>lang</th>\n",
       "      <th>conversation_id</th>\n",
       "      <th>edit_history_tweet_ids</th>\n",
       "      <th>reply_settings</th>\n",
       "      <th>created_at</th>\n",
       "      <th>context_annotations</th>\n",
       "      <th>source</th>\n",
       "      <th>text</th>\n",
       "      <th>possibly_sensitive</th>\n",
       "      <th>media</th>\n",
       "      <th>edit_controls.edits_remaining</th>\n",
       "      <th>edit_controls.is_edit_eligible</th>\n",
       "      <th>edit_controls.editable_until</th>\n",
       "      <th>attachments.media_keys</th>\n",
       "      <th>entities.annotations</th>\n",
       "      <th>entities.mentions</th>\n",
       "      <th>entities.urls</th>\n",
       "      <th>entities.hashtags</th>\n",
       "      <th>public_metrics.retweet_count</th>\n",
       "      <th>public_metrics.reply_count</th>\n",
       "      <th>public_metrics.like_count</th>\n",
       "      <th>public_metrics.quote_count</th>\n",
       "      <th>author.description</th>\n",
       "      <th>author.public_metrics.followers_count</th>\n",
       "      <th>author.public_metrics.following_count</th>\n",
       "      <th>author.public_metrics.tweet_count</th>\n",
       "      <th>author.public_metrics.listed_count</th>\n",
       "      <th>author.id</th>\n",
       "      <th>author.username</th>\n",
       "      <th>author.verified</th>\n",
       "      <th>author.created_at</th>\n",
       "      <th>author.name</th>\n",
       "      <th>author.pinned_tweet_id</th>\n",
       "      <th>author.profile_image_url</th>\n",
       "      <th>author.protected</th>\n",
       "      <th>in_reply_to_user_id</th>\n",
       "      <th>referenced_tweets</th>\n",
       "      <th>geo.country</th>\n",
       "      <th>geo.geo.type</th>\n",
       "      <th>geo.geo.bbox</th>\n",
       "      <th>geo.id</th>\n",
       "      <th>geo.country_code</th>\n",
       "      <th>geo.name</th>\n",
       "      <th>geo.place_type</th>\n",
       "      <th>geo.full_name</th>\n",
       "      <th>author.entities.url.urls</th>\n",
       "      <th>author.entities.description.urls</th>\n",
       "      <th>author.url</th>\n",
       "      <th>author.location</th>\n",
       "      <th>author.entities.description.mentions</th>\n",
       "      <th>entities.cashtags</th>\n",
       "      <th>attachments.poll_ids</th>\n",
       "      <th>geo.coordinates.type</th>\n",
       "      <th>geo.coordinates.coordinates</th>\n",
       "      <th>author.entities.description.hashtags</th>\n",
       "    </tr>\n",
       "  </thead>\n",
       "  <tbody>\n",
       "    <tr>\n",
       "      <th>0</th>\n",
       "      <td>22203756</td>\n",
       "      <td>930982584649175047</td>\n",
       "      <td>en</td>\n",
       "      <td>930982584649175047</td>\n",
       "      <td>[930982584649175047]</td>\n",
       "      <td>everyone</td>\n",
       "      <td>2017-11-16T02:15:19.000Z</td>\n",
       "      <td>[{'domain': {'id': '10', 'name': 'Person', 'de...</td>\n",
       "      <td>Twitter for iPhone</td>\n",
       "      <td>Great meeting w/ GOP Govs at @The_RGA on @real...</td>\n",
       "      <td>False</td>\n",
       "      <td>[{'type': 'photo', 'media_key': '3_93098256771...</td>\n",
       "      <td>5</td>\n",
       "      <td>True</td>\n",
       "      <td>2017-11-16T02:45:19.000Z</td>\n",
       "      <td>[3_930982567712641025]</td>\n",
       "      <td>[{'start': 278, 'end': 284, 'probability': 0.3...</td>\n",
       "      <td>[{'start': 41, 'end': 57, 'username': 'realDon...</td>\n",
       "      <td>[{'start': 286, 'end': 309, 'url': 'https://t....</td>\n",
       "      <td>[{'start': 277, 'end': 285, 'tag': 'RGA2017'}]</td>\n",
       "      <td>544</td>\n",
       "      <td>2217</td>\n",
       "      <td>3783</td>\n",
       "      <td>102</td>\n",
       "      <td>Husband, father, 48th Vice President of the Un...</td>\n",
       "      <td>5835052</td>\n",
       "      <td>59</td>\n",
       "      <td>15232</td>\n",
       "      <td>11683</td>\n",
       "      <td>22203756</td>\n",
       "      <td>Mike_Pence</td>\n",
       "      <td>True</td>\n",
       "      <td>2009-02-27T23:04:51.000Z</td>\n",
       "      <td>Mike Pence</td>\n",
       "      <td>1551931068873424899</td>\n",
       "      <td>https://pbs.twimg.com/profile_images/137229142...</td>\n",
       "      <td>False</td>\n",
       "      <td>NaN</td>\n",
       "      <td>NaN</td>\n",
       "      <td>NaN</td>\n",
       "      <td>NaN</td>\n",
       "      <td>NaN</td>\n",
       "      <td>NaN</td>\n",
       "      <td>NaN</td>\n",
       "      <td>NaN</td>\n",
       "      <td>NaN</td>\n",
       "      <td>NaN</td>\n",
       "      <td>NaN</td>\n",
       "      <td>NaN</td>\n",
       "      <td>NaN</td>\n",
       "      <td>NaN</td>\n",
       "      <td>NaN</td>\n",
       "      <td>NaN</td>\n",
       "      <td>NaN</td>\n",
       "      <td>NaN</td>\n",
       "      <td>NaN</td>\n",
       "      <td>NaN</td>\n",
       "    </tr>\n",
       "    <tr>\n",
       "      <th>1</th>\n",
       "      <td>22203756</td>\n",
       "      <td>930954564769124352</td>\n",
       "      <td>en</td>\n",
       "      <td>930954365334097921</td>\n",
       "      <td>[930954564769124352]</td>\n",
       "      <td>everyone</td>\n",
       "      <td>2017-11-16T00:23:59.000Z</td>\n",
       "      <td>[{'domain': {'id': '10', 'name': 'Person', 'de...</td>\n",
       "      <td>Twitter for iPhone</td>\n",
       "      <td>.@realdonaldtrump's vision for tax cuts will d...</td>\n",
       "      <td>False</td>\n",
       "      <td>NaN</td>\n",
       "      <td>5</td>\n",
       "      <td>True</td>\n",
       "      <td>2017-11-16T00:53:59.000Z</td>\n",
       "      <td>NaN</td>\n",
       "      <td>NaN</td>\n",
       "      <td>[{'start': 1, 'end': 17, 'username': 'realDona...</td>\n",
       "      <td>NaN</td>\n",
       "      <td>[{'start': 209, 'end': 217, 'tag': 'RGA2017'}]</td>\n",
       "      <td>369</td>\n",
       "      <td>925</td>\n",
       "      <td>2919</td>\n",
       "      <td>74</td>\n",
       "      <td>Husband, father, 48th Vice President of the Un...</td>\n",
       "      <td>5835052</td>\n",
       "      <td>59</td>\n",
       "      <td>15232</td>\n",
       "      <td>11683</td>\n",
       "      <td>22203756</td>\n",
       "      <td>Mike_Pence</td>\n",
       "      <td>True</td>\n",
       "      <td>2009-02-27T23:04:51.000Z</td>\n",
       "      <td>Mike Pence</td>\n",
       "      <td>1551931068873424899</td>\n",
       "      <td>https://pbs.twimg.com/profile_images/137229142...</td>\n",
       "      <td>False</td>\n",
       "      <td>22203756</td>\n",
       "      <td>[{'type': 'replied_to', 'id': '930954365334097...</td>\n",
       "      <td>NaN</td>\n",
       "      <td>NaN</td>\n",
       "      <td>NaN</td>\n",
       "      <td>NaN</td>\n",
       "      <td>NaN</td>\n",
       "      <td>NaN</td>\n",
       "      <td>NaN</td>\n",
       "      <td>NaN</td>\n",
       "      <td>NaN</td>\n",
       "      <td>NaN</td>\n",
       "      <td>NaN</td>\n",
       "      <td>NaN</td>\n",
       "      <td>NaN</td>\n",
       "      <td>NaN</td>\n",
       "      <td>NaN</td>\n",
       "      <td>NaN</td>\n",
       "      <td>NaN</td>\n",
       "      <td>NaN</td>\n",
       "    </tr>\n",
       "  </tbody>\n",
       "</table>\n",
       "</div>"
      ],
      "text/plain": [
       "  author_id                  id lang     conversation_id  \\\n",
       "0  22203756  930982584649175047   en  930982584649175047   \n",
       "1  22203756  930954564769124352   en  930954365334097921   \n",
       "\n",
       "  edit_history_tweet_ids reply_settings                created_at  \\\n",
       "0   [930982584649175047]       everyone  2017-11-16T02:15:19.000Z   \n",
       "1   [930954564769124352]       everyone  2017-11-16T00:23:59.000Z   \n",
       "\n",
       "                                 context_annotations              source  \\\n",
       "0  [{'domain': {'id': '10', 'name': 'Person', 'de...  Twitter for iPhone   \n",
       "1  [{'domain': {'id': '10', 'name': 'Person', 'de...  Twitter for iPhone   \n",
       "\n",
       "                                                text  possibly_sensitive  \\\n",
       "0  Great meeting w/ GOP Govs at @The_RGA on @real...               False   \n",
       "1  .@realdonaldtrump's vision for tax cuts will d...               False   \n",
       "\n",
       "                                               media  \\\n",
       "0  [{'type': 'photo', 'media_key': '3_93098256771...   \n",
       "1                                                NaN   \n",
       "\n",
       "   edit_controls.edits_remaining  edit_controls.is_edit_eligible  \\\n",
       "0                              5                            True   \n",
       "1                              5                            True   \n",
       "\n",
       "  edit_controls.editable_until  attachments.media_keys  \\\n",
       "0     2017-11-16T02:45:19.000Z  [3_930982567712641025]   \n",
       "1     2017-11-16T00:53:59.000Z                     NaN   \n",
       "\n",
       "                                entities.annotations  \\\n",
       "0  [{'start': 278, 'end': 284, 'probability': 0.3...   \n",
       "1                                                NaN   \n",
       "\n",
       "                                   entities.mentions  \\\n",
       "0  [{'start': 41, 'end': 57, 'username': 'realDon...   \n",
       "1  [{'start': 1, 'end': 17, 'username': 'realDona...   \n",
       "\n",
       "                                       entities.urls  \\\n",
       "0  [{'start': 286, 'end': 309, 'url': 'https://t....   \n",
       "1                                                NaN   \n",
       "\n",
       "                                entities.hashtags  \\\n",
       "0  [{'start': 277, 'end': 285, 'tag': 'RGA2017'}]   \n",
       "1  [{'start': 209, 'end': 217, 'tag': 'RGA2017'}]   \n",
       "\n",
       "   public_metrics.retweet_count  public_metrics.reply_count  \\\n",
       "0                           544                        2217   \n",
       "1                           369                         925   \n",
       "\n",
       "   public_metrics.like_count  public_metrics.quote_count  \\\n",
       "0                       3783                         102   \n",
       "1                       2919                          74   \n",
       "\n",
       "                                  author.description  \\\n",
       "0  Husband, father, 48th Vice President of the Un...   \n",
       "1  Husband, father, 48th Vice President of the Un...   \n",
       "\n",
       "   author.public_metrics.followers_count  \\\n",
       "0                                5835052   \n",
       "1                                5835052   \n",
       "\n",
       "   author.public_metrics.following_count  author.public_metrics.tweet_count  \\\n",
       "0                                     59                              15232   \n",
       "1                                     59                              15232   \n",
       "\n",
       "   author.public_metrics.listed_count author.id author.username  \\\n",
       "0                               11683  22203756      Mike_Pence   \n",
       "1                               11683  22203756      Mike_Pence   \n",
       "\n",
       "   author.verified         author.created_at author.name  \\\n",
       "0             True  2009-02-27T23:04:51.000Z  Mike Pence   \n",
       "1             True  2009-02-27T23:04:51.000Z  Mike Pence   \n",
       "\n",
       "  author.pinned_tweet_id                           author.profile_image_url  \\\n",
       "0    1551931068873424899  https://pbs.twimg.com/profile_images/137229142...   \n",
       "1    1551931068873424899  https://pbs.twimg.com/profile_images/137229142...   \n",
       "\n",
       "   author.protected in_reply_to_user_id  \\\n",
       "0             False                 NaN   \n",
       "1             False            22203756   \n",
       "\n",
       "                                   referenced_tweets geo.country geo.geo.type  \\\n",
       "0                                                NaN         NaN          NaN   \n",
       "1  [{'type': 'replied_to', 'id': '930954365334097...         NaN          NaN   \n",
       "\n",
       "  geo.geo.bbox geo.id geo.country_code geo.name geo.place_type geo.full_name  \\\n",
       "0          NaN    NaN              NaN      NaN            NaN           NaN   \n",
       "1          NaN    NaN              NaN      NaN            NaN           NaN   \n",
       "\n",
       "  author.entities.url.urls author.entities.description.urls author.url  \\\n",
       "0                      NaN                              NaN        NaN   \n",
       "1                      NaN                              NaN        NaN   \n",
       "\n",
       "  author.location author.entities.description.mentions entities.cashtags  \\\n",
       "0             NaN                                  NaN               NaN   \n",
       "1             NaN                                  NaN               NaN   \n",
       "\n",
       "  attachments.poll_ids geo.coordinates.type geo.coordinates.coordinates  \\\n",
       "0                  NaN                  NaN                         NaN   \n",
       "1                  NaN                  NaN                         NaN   \n",
       "\n",
       "  author.entities.description.hashtags  \n",
       "0                                  NaN  \n",
       "1                                  NaN  "
      ]
     },
     "execution_count": 9,
     "metadata": {},
     "output_type": "execute_result"
    }
   ],
   "source": [
    "df.head(2)"
   ]
  },
  {
   "cell_type": "code",
   "execution_count": 10,
   "metadata": {},
   "outputs": [
    {
     "data": {
      "text/plain": [
       "Index(['author_id', 'id', 'lang', 'conversation_id', 'edit_history_tweet_ids',\n",
       "       'reply_settings', 'created_at', 'context_annotations', 'source', 'text',\n",
       "       'possibly_sensitive', 'media', 'edit_controls.edits_remaining',\n",
       "       'edit_controls.is_edit_eligible', 'edit_controls.editable_until',\n",
       "       'attachments.media_keys', 'entities.annotations', 'entities.mentions',\n",
       "       'entities.urls', 'entities.hashtags', 'public_metrics.retweet_count',\n",
       "       'public_metrics.reply_count', 'public_metrics.like_count',\n",
       "       'public_metrics.quote_count', 'author.description',\n",
       "       'author.public_metrics.followers_count',\n",
       "       'author.public_metrics.following_count',\n",
       "       'author.public_metrics.tweet_count',\n",
       "       'author.public_metrics.listed_count', 'author.id', 'author.username',\n",
       "       'author.verified', 'author.created_at', 'author.name',\n",
       "       'author.pinned_tweet_id', 'author.profile_image_url',\n",
       "       'author.protected', 'in_reply_to_user_id', 'referenced_tweets',\n",
       "       'geo.country', 'geo.geo.type', 'geo.geo.bbox', 'geo.id',\n",
       "       'geo.country_code', 'geo.name', 'geo.place_type', 'geo.full_name',\n",
       "       'author.entities.url.urls', 'author.entities.description.urls',\n",
       "       'author.url', 'author.location', 'author.entities.description.mentions',\n",
       "       'entities.cashtags', 'attachments.poll_ids', 'geo.coordinates.type',\n",
       "       'geo.coordinates.coordinates', 'author.entities.description.hashtags'],\n",
       "      dtype='object')"
      ]
     },
     "execution_count": 10,
     "metadata": {},
     "output_type": "execute_result"
    }
   ],
   "source": [
    "df.columns"
   ]
  },
  {
   "cell_type": "code",
   "execution_count": 38,
   "metadata": {},
   "outputs": [
    {
     "data": {
      "text/plain": [
       "57"
      ]
     },
     "execution_count": 38,
     "metadata": {},
     "output_type": "execute_result"
    }
   ],
   "source": [
    "len(df.columns)"
   ]
  },
  {
   "cell_type": "code",
   "execution_count": 11,
   "metadata": {},
   "outputs": [],
   "source": [
    "cols_keep = ['author_id','created_at','id','text','lang','author.location','author.name',\n",
    "             'public_metrics.retweet_count','public_metrics.reply_count','public_metrics.like_count',\n",
    "             'public_metrics.quote_count','author.username','author.public_metrics.followers_count',\n",
    "             'author.public_metrics.following_count','author.entities.url.urls','author.created_at',\n",
    "             'author.verified','context_annotations','entities.annotations','entities.mentions',\n",
    "             'entities.hashtags', 'entities.urls']"
   ]
  },
  {
   "cell_type": "code",
   "execution_count": 39,
   "metadata": {},
   "outputs": [
    {
     "data": {
      "text/plain": [
       "24"
      ]
     },
     "execution_count": 39,
     "metadata": {},
     "output_type": "execute_result"
    }
   ],
   "source": [
    "len(df1.columns)"
   ]
  },
  {
   "cell_type": "code",
   "execution_count": 12,
   "metadata": {},
   "outputs": [],
   "source": [
    "df1 = df[cols_keep]"
   ]
  },
  {
   "cell_type": "code",
   "execution_count": 13,
   "metadata": {},
   "outputs": [
    {
     "name": "stderr",
     "output_type": "stream",
     "text": [
      "<ipython-input-13-d690f7b02df7>:2: SettingWithCopyWarning: \n",
      "A value is trying to be set on a copy of a slice from a DataFrame.\n",
      "Try using .loc[row_indexer,col_indexer] = value instead\n",
      "\n",
      "See the caveats in the documentation: https://pandas.pydata.org/pandas-docs/stable/user_guide/indexing.html#returning-a-view-versus-a-copy\n",
      "  df1['is_retweet']= np.where(df1.text.str.startswith('RT @'),1,0)\n"
     ]
    }
   ],
   "source": [
    "#add new column with binary 1/0 if tweet is Retweet\n",
    "df1['is_retweet']= np.where(df1.text.str.startswith('RT @'),1,0)"
   ]
  },
  {
   "cell_type": "code",
   "execution_count": 14,
   "metadata": {},
   "outputs": [
    {
     "data": {
      "text/plain": [
       "0    409630\n",
       "1     83556\n",
       "Name: is_retweet, dtype: int64"
      ]
     },
     "execution_count": 14,
     "metadata": {},
     "output_type": "execute_result"
    }
   ],
   "source": [
    "df1['is_retweet'].value_counts()"
   ]
  },
  {
   "cell_type": "code",
   "execution_count": 15,
   "metadata": {},
   "outputs": [],
   "source": [
    "#cols to add together to match the main dataset column \"updates\"\n",
    "update_cols = ['public_metrics.retweet_count',\n",
    "       'public_metrics.reply_count', 'public_metrics.like_count',\n",
    "       'public_metrics.quote_count']"
   ]
  },
  {
   "cell_type": "code",
   "execution_count": 16,
   "metadata": {},
   "outputs": [
    {
     "name": "stderr",
     "output_type": "stream",
     "text": [
      "<ipython-input-16-442679c96d10>:1: SettingWithCopyWarning: \n",
      "A value is trying to be set on a copy of a slice from a DataFrame.\n",
      "Try using .loc[row_indexer,col_indexer] = value instead\n",
      "\n",
      "See the caveats in the documentation: https://pandas.pydata.org/pandas-docs/stable/user_guide/indexing.html#returning-a-view-versus-a-copy\n",
      "  df1['updates']= df1[update_cols].sum(axis=1)\n"
     ]
    }
   ],
   "source": [
    "df1['updates']= df1[update_cols].sum(axis=1)"
   ]
  },
  {
   "cell_type": "code",
   "execution_count": 20,
   "metadata": {},
   "outputs": [],
   "source": [
    "#drop cols not in original dataset\n",
    "df2 = df1.drop(['public_metrics.reply_count', 'public_metrics.quote_count'], axis=1)"
   ]
  },
  {
   "cell_type": "code",
   "execution_count": 22,
   "metadata": {},
   "outputs": [
    {
     "data": {
      "text/plain": [
       "Index(['author_id', 'created_at', 'id', 'text', 'lang', 'author.location',\n",
       "       'author.name', 'public_metrics.retweet_count',\n",
       "       'public_metrics.like_count', 'author.username',\n",
       "       'author.public_metrics.followers_count',\n",
       "       'author.public_metrics.following_count', 'author.entities.url.urls',\n",
       "       'author.created_at', 'author.verified', 'context_annotations',\n",
       "       'entities.annotations', 'entities.mentions', 'entities.hashtags',\n",
       "       'entities.urls', 'is_retweet', 'updates'],\n",
       "      dtype='object')"
      ]
     },
     "execution_count": 22,
     "metadata": {},
     "output_type": "execute_result"
    }
   ],
   "source": [
    "df2.columns"
   ]
  },
  {
   "cell_type": "markdown",
   "metadata": {},
   "source": [
    "### Convert Emojis to text and count emojis"
   ]
  },
  {
   "cell_type": "code",
   "execution_count": 23,
   "metadata": {},
   "outputs": [],
   "source": [
    "''' The following converts a text string with emojis into a list of descriptive text strings.\n",
    "    Duplicate emojis are captured as each emoji converts to 1 text string.'''\n",
    "def convert_emoji_list(x):\n",
    "    lst=[]\n",
    "    estring = ''\n",
    "    import demoji\n",
    "    import numpy as np\n",
    "    if x is not np.nan:\n",
    "        #extract list of text from demoji func\n",
    "        lst = demoji.findall_list(x)\n",
    "        if len(lst)<0:\n",
    "            return np.nan\n",
    "            \n",
    "        else:\n",
    "            return(lst)\n"
   ]
  },
  {
   "cell_type": "markdown",
   "metadata": {},
   "source": [
    "#### Test function on small set"
   ]
  },
  {
   "cell_type": "code",
   "execution_count": 24,
   "metadata": {},
   "outputs": [],
   "source": [
    "test = df2[:5]"
   ]
  },
  {
   "cell_type": "code",
   "execution_count": 26,
   "metadata": {},
   "outputs": [
    {
     "name": "stderr",
     "output_type": "stream",
     "text": [
      "<ipython-input-26-62a586609c86>:1: SettingWithCopyWarning: \n",
      "A value is trying to be set on a copy of a slice from a DataFrame.\n",
      "Try using .loc[row_indexer,col_indexer] = value instead\n",
      "\n",
      "See the caveats in the documentation: https://pandas.pydata.org/pandas-docs/stable/user_guide/indexing.html#returning-a-view-versus-a-copy\n",
      "  test['emoji_text']= test['text'].apply(convert_emoji_list)\n"
     ]
    }
   ],
   "source": [
    "test['emoji_text']= test['text'].apply(convert_emoji_list)"
   ]
  },
  {
   "cell_type": "code",
   "execution_count": 27,
   "metadata": {},
   "outputs": [
    {
     "name": "stderr",
     "output_type": "stream",
     "text": [
      "<ipython-input-27-f6afc7953188>:1: SettingWithCopyWarning: \n",
      "A value is trying to be set on a copy of a slice from a DataFrame.\n",
      "Try using .loc[row_indexer,col_indexer] = value instead\n",
      "\n",
      "See the caveats in the documentation: https://pandas.pydata.org/pandas-docs/stable/user_guide/indexing.html#returning-a-view-versus-a-copy\n",
      "  test['emoji_count']= test['emoji_text'].apply(lambda x: len(x))\n"
     ]
    }
   ],
   "source": [
    "test['emoji_count']= test['emoji_text'].apply(lambda x: len(x))"
   ]
  },
  {
   "cell_type": "code",
   "execution_count": 28,
   "metadata": {},
   "outputs": [
    {
     "data": {
      "text/html": [
       "<div>\n",
       "<style scoped>\n",
       "    .dataframe tbody tr th:only-of-type {\n",
       "        vertical-align: middle;\n",
       "    }\n",
       "\n",
       "    .dataframe tbody tr th {\n",
       "        vertical-align: top;\n",
       "    }\n",
       "\n",
       "    .dataframe thead th {\n",
       "        text-align: right;\n",
       "    }\n",
       "</style>\n",
       "<table border=\"1\" class=\"dataframe\">\n",
       "  <thead>\n",
       "    <tr style=\"text-align: right;\">\n",
       "      <th></th>\n",
       "      <th>author_id</th>\n",
       "      <th>created_at</th>\n",
       "      <th>id</th>\n",
       "      <th>text</th>\n",
       "      <th>lang</th>\n",
       "      <th>author.location</th>\n",
       "      <th>author.name</th>\n",
       "      <th>public_metrics.retweet_count</th>\n",
       "      <th>public_metrics.like_count</th>\n",
       "      <th>author.username</th>\n",
       "      <th>author.public_metrics.followers_count</th>\n",
       "      <th>author.public_metrics.following_count</th>\n",
       "      <th>author.entities.url.urls</th>\n",
       "      <th>author.created_at</th>\n",
       "      <th>author.verified</th>\n",
       "      <th>context_annotations</th>\n",
       "      <th>entities.annotations</th>\n",
       "      <th>entities.mentions</th>\n",
       "      <th>entities.hashtags</th>\n",
       "      <th>entities.urls</th>\n",
       "      <th>is_retweet</th>\n",
       "      <th>updates</th>\n",
       "      <th>emoji_text</th>\n",
       "      <th>emoji_count</th>\n",
       "    </tr>\n",
       "  </thead>\n",
       "  <tbody>\n",
       "    <tr>\n",
       "      <th>0</th>\n",
       "      <td>22203756</td>\n",
       "      <td>2017-11-16T02:15:19.000Z</td>\n",
       "      <td>930982584649175047</td>\n",
       "      <td>Great meeting w/ GOP Govs at @The_RGA on @real...</td>\n",
       "      <td>en</td>\n",
       "      <td>NaN</td>\n",
       "      <td>Mike Pence</td>\n",
       "      <td>544</td>\n",
       "      <td>3783</td>\n",
       "      <td>Mike_Pence</td>\n",
       "      <td>5835052</td>\n",
       "      <td>59</td>\n",
       "      <td>NaN</td>\n",
       "      <td>2009-02-27T23:04:51.000Z</td>\n",
       "      <td>True</td>\n",
       "      <td>[{'domain': {'id': '10', 'name': 'Person', 'de...</td>\n",
       "      <td>[{'start': 278, 'end': 284, 'probability': 0.3...</td>\n",
       "      <td>[{'start': 41, 'end': 57, 'username': 'realDon...</td>\n",
       "      <td>[{'start': 277, 'end': 285, 'tag': 'RGA2017'}]</td>\n",
       "      <td>[{'start': 286, 'end': 309, 'url': 'https://t....</td>\n",
       "      <td>0</td>\n",
       "      <td>6646</td>\n",
       "      <td>[]</td>\n",
       "      <td>0</td>\n",
       "    </tr>\n",
       "    <tr>\n",
       "      <th>1</th>\n",
       "      <td>22203756</td>\n",
       "      <td>2017-11-16T00:23:59.000Z</td>\n",
       "      <td>930954564769124352</td>\n",
       "      <td>.@realdonaldtrump's vision for tax cuts will d...</td>\n",
       "      <td>en</td>\n",
       "      <td>NaN</td>\n",
       "      <td>Mike Pence</td>\n",
       "      <td>369</td>\n",
       "      <td>2919</td>\n",
       "      <td>Mike_Pence</td>\n",
       "      <td>5835052</td>\n",
       "      <td>59</td>\n",
       "      <td>NaN</td>\n",
       "      <td>2009-02-27T23:04:51.000Z</td>\n",
       "      <td>True</td>\n",
       "      <td>[{'domain': {'id': '10', 'name': 'Person', 'de...</td>\n",
       "      <td>NaN</td>\n",
       "      <td>[{'start': 1, 'end': 17, 'username': 'realDona...</td>\n",
       "      <td>[{'start': 209, 'end': 217, 'tag': 'RGA2017'}]</td>\n",
       "      <td>NaN</td>\n",
       "      <td>0</td>\n",
       "      <td>4287</td>\n",
       "      <td>[]</td>\n",
       "      <td>0</td>\n",
       "    </tr>\n",
       "    <tr>\n",
       "      <th>2</th>\n",
       "      <td>22203756</td>\n",
       "      <td>2017-11-08T15:30:54.000Z</td>\n",
       "      <td>928283695353683970</td>\n",
       "      <td>RT @VP: A year of accomplishments under @POTUS...</td>\n",
       "      <td>en</td>\n",
       "      <td>NaN</td>\n",
       "      <td>Mike Pence</td>\n",
       "      <td>2477</td>\n",
       "      <td>0</td>\n",
       "      <td>Mike_Pence</td>\n",
       "      <td>5835052</td>\n",
       "      <td>59</td>\n",
       "      <td>NaN</td>\n",
       "      <td>2009-02-27T23:04:51.000Z</td>\n",
       "      <td>True</td>\n",
       "      <td>[{'domain': {'id': '10', 'name': 'Person', 'de...</td>\n",
       "      <td>[{'start': 107, 'end': 111, 'probability': 0.5...</td>\n",
       "      <td>[{'start': 3, 'end': 6, 'username': 'VP', 'id'...</td>\n",
       "      <td>NaN</td>\n",
       "      <td>NaN</td>\n",
       "      <td>1</td>\n",
       "      <td>2477</td>\n",
       "      <td>[]</td>\n",
       "      <td>0</td>\n",
       "    </tr>\n",
       "    <tr>\n",
       "      <th>3</th>\n",
       "      <td>22203756</td>\n",
       "      <td>2017-11-07T13:07:37.000Z</td>\n",
       "      <td>927885251233439745</td>\n",
       "      <td>.@EdWGillespie will cut taxes, grow the econom...</td>\n",
       "      <td>en</td>\n",
       "      <td>NaN</td>\n",
       "      <td>Mike Pence</td>\n",
       "      <td>1280</td>\n",
       "      <td>7034</td>\n",
       "      <td>Mike_Pence</td>\n",
       "      <td>5835052</td>\n",
       "      <td>59</td>\n",
       "      <td>NaN</td>\n",
       "      <td>2009-02-27T23:04:51.000Z</td>\n",
       "      <td>True</td>\n",
       "      <td>[{'domain': {'id': '10', 'name': 'Person', 'de...</td>\n",
       "      <td>[{'start': 112, 'end': 119, 'probability': 0.7...</td>\n",
       "      <td>[{'start': 1, 'end': 14, 'username': 'EdWGille...</td>\n",
       "      <td>NaN</td>\n",
       "      <td>NaN</td>\n",
       "      <td>0</td>\n",
       "      <td>9173</td>\n",
       "      <td>[]</td>\n",
       "      <td>0</td>\n",
       "    </tr>\n",
       "    <tr>\n",
       "      <th>4</th>\n",
       "      <td>22203756</td>\n",
       "      <td>2017-11-04T22:32:53.000Z</td>\n",
       "      <td>926940341361659905</td>\n",
       "      <td>I'm honored. Thanks for all @SBAList does for ...</td>\n",
       "      <td>en</td>\n",
       "      <td>NaN</td>\n",
       "      <td>Mike Pence</td>\n",
       "      <td>952</td>\n",
       "      <td>5915</td>\n",
       "      <td>Mike_Pence</td>\n",
       "      <td>5835052</td>\n",
       "      <td>59</td>\n",
       "      <td>NaN</td>\n",
       "      <td>2009-02-27T23:04:51.000Z</td>\n",
       "      <td>True</td>\n",
       "      <td>[{'domain': {'id': '10', 'name': 'Person', 'de...</td>\n",
       "      <td>NaN</td>\n",
       "      <td>[{'start': 28, 'end': 36, 'username': 'sbalist...</td>\n",
       "      <td>NaN</td>\n",
       "      <td>[{'start': 60, 'end': 83, 'url': 'https://t.co...</td>\n",
       "      <td>0</td>\n",
       "      <td>7567</td>\n",
       "      <td>[]</td>\n",
       "      <td>0</td>\n",
       "    </tr>\n",
       "  </tbody>\n",
       "</table>\n",
       "</div>"
      ],
      "text/plain": [
       "  author_id                created_at                  id  \\\n",
       "0  22203756  2017-11-16T02:15:19.000Z  930982584649175047   \n",
       "1  22203756  2017-11-16T00:23:59.000Z  930954564769124352   \n",
       "2  22203756  2017-11-08T15:30:54.000Z  928283695353683970   \n",
       "3  22203756  2017-11-07T13:07:37.000Z  927885251233439745   \n",
       "4  22203756  2017-11-04T22:32:53.000Z  926940341361659905   \n",
       "\n",
       "                                                text lang author.location  \\\n",
       "0  Great meeting w/ GOP Govs at @The_RGA on @real...   en             NaN   \n",
       "1  .@realdonaldtrump's vision for tax cuts will d...   en             NaN   \n",
       "2  RT @VP: A year of accomplishments under @POTUS...   en             NaN   \n",
       "3  .@EdWGillespie will cut taxes, grow the econom...   en             NaN   \n",
       "4  I'm honored. Thanks for all @SBAList does for ...   en             NaN   \n",
       "\n",
       "  author.name  public_metrics.retweet_count  public_metrics.like_count  \\\n",
       "0  Mike Pence                           544                       3783   \n",
       "1  Mike Pence                           369                       2919   \n",
       "2  Mike Pence                          2477                          0   \n",
       "3  Mike Pence                          1280                       7034   \n",
       "4  Mike Pence                           952                       5915   \n",
       "\n",
       "  author.username  author.public_metrics.followers_count  \\\n",
       "0      Mike_Pence                                5835052   \n",
       "1      Mike_Pence                                5835052   \n",
       "2      Mike_Pence                                5835052   \n",
       "3      Mike_Pence                                5835052   \n",
       "4      Mike_Pence                                5835052   \n",
       "\n",
       "   author.public_metrics.following_count author.entities.url.urls  \\\n",
       "0                                     59                      NaN   \n",
       "1                                     59                      NaN   \n",
       "2                                     59                      NaN   \n",
       "3                                     59                      NaN   \n",
       "4                                     59                      NaN   \n",
       "\n",
       "          author.created_at  author.verified  \\\n",
       "0  2009-02-27T23:04:51.000Z             True   \n",
       "1  2009-02-27T23:04:51.000Z             True   \n",
       "2  2009-02-27T23:04:51.000Z             True   \n",
       "3  2009-02-27T23:04:51.000Z             True   \n",
       "4  2009-02-27T23:04:51.000Z             True   \n",
       "\n",
       "                                 context_annotations  \\\n",
       "0  [{'domain': {'id': '10', 'name': 'Person', 'de...   \n",
       "1  [{'domain': {'id': '10', 'name': 'Person', 'de...   \n",
       "2  [{'domain': {'id': '10', 'name': 'Person', 'de...   \n",
       "3  [{'domain': {'id': '10', 'name': 'Person', 'de...   \n",
       "4  [{'domain': {'id': '10', 'name': 'Person', 'de...   \n",
       "\n",
       "                                entities.annotations  \\\n",
       "0  [{'start': 278, 'end': 284, 'probability': 0.3...   \n",
       "1                                                NaN   \n",
       "2  [{'start': 107, 'end': 111, 'probability': 0.5...   \n",
       "3  [{'start': 112, 'end': 119, 'probability': 0.7...   \n",
       "4                                                NaN   \n",
       "\n",
       "                                   entities.mentions  \\\n",
       "0  [{'start': 41, 'end': 57, 'username': 'realDon...   \n",
       "1  [{'start': 1, 'end': 17, 'username': 'realDona...   \n",
       "2  [{'start': 3, 'end': 6, 'username': 'VP', 'id'...   \n",
       "3  [{'start': 1, 'end': 14, 'username': 'EdWGille...   \n",
       "4  [{'start': 28, 'end': 36, 'username': 'sbalist...   \n",
       "\n",
       "                                entities.hashtags  \\\n",
       "0  [{'start': 277, 'end': 285, 'tag': 'RGA2017'}]   \n",
       "1  [{'start': 209, 'end': 217, 'tag': 'RGA2017'}]   \n",
       "2                                             NaN   \n",
       "3                                             NaN   \n",
       "4                                             NaN   \n",
       "\n",
       "                                       entities.urls  is_retweet  updates  \\\n",
       "0  [{'start': 286, 'end': 309, 'url': 'https://t....           0     6646   \n",
       "1                                                NaN           0     4287   \n",
       "2                                                NaN           1     2477   \n",
       "3                                                NaN           0     9173   \n",
       "4  [{'start': 60, 'end': 83, 'url': 'https://t.co...           0     7567   \n",
       "\n",
       "  emoji_text  emoji_count  \n",
       "0         []            0  \n",
       "1         []            0  \n",
       "2         []            0  \n",
       "3         []            0  \n",
       "4         []            0  "
      ]
     },
     "execution_count": 28,
     "metadata": {},
     "output_type": "execute_result"
    }
   ],
   "source": [
    "test"
   ]
  },
  {
   "cell_type": "markdown",
   "metadata": {},
   "source": [
    "#### Apply to entire dataframe\n",
    "WARNING: Takes significant time on larger dataframes"
   ]
  },
  {
   "cell_type": "code",
   "execution_count": 29,
   "metadata": {},
   "outputs": [],
   "source": [
    "df2['emoji_text']= df2['text'].apply(convert_emoji_list)"
   ]
  },
  {
   "cell_type": "code",
   "execution_count": 30,
   "metadata": {},
   "outputs": [],
   "source": [
    "#add another feature column: # emojis used in tweet\n",
    "df2['emoji_count']= df2['emoji_text'].apply(lambda x: len(x))"
   ]
  },
  {
   "cell_type": "code",
   "execution_count": 33,
   "metadata": {},
   "outputs": [
    {
     "data": {
      "text/html": [
       "<div>\n",
       "<style scoped>\n",
       "    .dataframe tbody tr th:only-of-type {\n",
       "        vertical-align: middle;\n",
       "    }\n",
       "\n",
       "    .dataframe tbody tr th {\n",
       "        vertical-align: top;\n",
       "    }\n",
       "\n",
       "    .dataframe thead th {\n",
       "        text-align: right;\n",
       "    }\n",
       "</style>\n",
       "<table border=\"1\" class=\"dataframe\">\n",
       "  <thead>\n",
       "    <tr style=\"text-align: right;\">\n",
       "      <th></th>\n",
       "      <th>author_id</th>\n",
       "      <th>created_at</th>\n",
       "      <th>id</th>\n",
       "      <th>text</th>\n",
       "      <th>lang</th>\n",
       "      <th>author.location</th>\n",
       "      <th>author.name</th>\n",
       "      <th>public_metrics.retweet_count</th>\n",
       "      <th>public_metrics.like_count</th>\n",
       "      <th>author.username</th>\n",
       "      <th>author.public_metrics.followers_count</th>\n",
       "      <th>author.public_metrics.following_count</th>\n",
       "      <th>author.entities.url.urls</th>\n",
       "      <th>author.created_at</th>\n",
       "      <th>author.verified</th>\n",
       "      <th>context_annotations</th>\n",
       "      <th>entities.annotations</th>\n",
       "      <th>entities.mentions</th>\n",
       "      <th>entities.hashtags</th>\n",
       "      <th>entities.urls</th>\n",
       "      <th>is_retweet</th>\n",
       "      <th>updates</th>\n",
       "      <th>emoji_text</th>\n",
       "      <th>emoji_count</th>\n",
       "    </tr>\n",
       "  </thead>\n",
       "  <tbody>\n",
       "    <tr>\n",
       "      <th>0</th>\n",
       "      <td>22203756</td>\n",
       "      <td>2017-11-16T02:15:19.000Z</td>\n",
       "      <td>930982584649175047</td>\n",
       "      <td>Great meeting w/ GOP Govs at @The_RGA on @real...</td>\n",
       "      <td>en</td>\n",
       "      <td>NaN</td>\n",
       "      <td>Mike Pence</td>\n",
       "      <td>544</td>\n",
       "      <td>3783</td>\n",
       "      <td>Mike_Pence</td>\n",
       "      <td>5835052</td>\n",
       "      <td>59</td>\n",
       "      <td>NaN</td>\n",
       "      <td>2009-02-27T23:04:51.000Z</td>\n",
       "      <td>True</td>\n",
       "      <td>[{'domain': {'id': '10', 'name': 'Person', 'de...</td>\n",
       "      <td>[{'start': 278, 'end': 284, 'probability': 0.3...</td>\n",
       "      <td>[{'start': 41, 'end': 57, 'username': 'realDon...</td>\n",
       "      <td>[{'start': 277, 'end': 285, 'tag': 'RGA2017'}]</td>\n",
       "      <td>[{'start': 286, 'end': 309, 'url': 'https://t....</td>\n",
       "      <td>0</td>\n",
       "      <td>6646</td>\n",
       "      <td>[]</td>\n",
       "      <td>0</td>\n",
       "    </tr>\n",
       "    <tr>\n",
       "      <th>1</th>\n",
       "      <td>22203756</td>\n",
       "      <td>2017-11-16T00:23:59.000Z</td>\n",
       "      <td>930954564769124352</td>\n",
       "      <td>.@realdonaldtrump's vision for tax cuts will d...</td>\n",
       "      <td>en</td>\n",
       "      <td>NaN</td>\n",
       "      <td>Mike Pence</td>\n",
       "      <td>369</td>\n",
       "      <td>2919</td>\n",
       "      <td>Mike_Pence</td>\n",
       "      <td>5835052</td>\n",
       "      <td>59</td>\n",
       "      <td>NaN</td>\n",
       "      <td>2009-02-27T23:04:51.000Z</td>\n",
       "      <td>True</td>\n",
       "      <td>[{'domain': {'id': '10', 'name': 'Person', 'de...</td>\n",
       "      <td>NaN</td>\n",
       "      <td>[{'start': 1, 'end': 17, 'username': 'realDona...</td>\n",
       "      <td>[{'start': 209, 'end': 217, 'tag': 'RGA2017'}]</td>\n",
       "      <td>NaN</td>\n",
       "      <td>0</td>\n",
       "      <td>4287</td>\n",
       "      <td>[]</td>\n",
       "      <td>0</td>\n",
       "    </tr>\n",
       "    <tr>\n",
       "      <th>2</th>\n",
       "      <td>22203756</td>\n",
       "      <td>2017-11-08T15:30:54.000Z</td>\n",
       "      <td>928283695353683970</td>\n",
       "      <td>RT @VP: A year of accomplishments under @POTUS...</td>\n",
       "      <td>en</td>\n",
       "      <td>NaN</td>\n",
       "      <td>Mike Pence</td>\n",
       "      <td>2477</td>\n",
       "      <td>0</td>\n",
       "      <td>Mike_Pence</td>\n",
       "      <td>5835052</td>\n",
       "      <td>59</td>\n",
       "      <td>NaN</td>\n",
       "      <td>2009-02-27T23:04:51.000Z</td>\n",
       "      <td>True</td>\n",
       "      <td>[{'domain': {'id': '10', 'name': 'Person', 'de...</td>\n",
       "      <td>[{'start': 107, 'end': 111, 'probability': 0.5...</td>\n",
       "      <td>[{'start': 3, 'end': 6, 'username': 'VP', 'id'...</td>\n",
       "      <td>NaN</td>\n",
       "      <td>NaN</td>\n",
       "      <td>1</td>\n",
       "      <td>2477</td>\n",
       "      <td>[]</td>\n",
       "      <td>0</td>\n",
       "    </tr>\n",
       "    <tr>\n",
       "      <th>3</th>\n",
       "      <td>22203756</td>\n",
       "      <td>2017-11-07T13:07:37.000Z</td>\n",
       "      <td>927885251233439745</td>\n",
       "      <td>.@EdWGillespie will cut taxes, grow the econom...</td>\n",
       "      <td>en</td>\n",
       "      <td>NaN</td>\n",
       "      <td>Mike Pence</td>\n",
       "      <td>1280</td>\n",
       "      <td>7034</td>\n",
       "      <td>Mike_Pence</td>\n",
       "      <td>5835052</td>\n",
       "      <td>59</td>\n",
       "      <td>NaN</td>\n",
       "      <td>2009-02-27T23:04:51.000Z</td>\n",
       "      <td>True</td>\n",
       "      <td>[{'domain': {'id': '10', 'name': 'Person', 'de...</td>\n",
       "      <td>[{'start': 112, 'end': 119, 'probability': 0.7...</td>\n",
       "      <td>[{'start': 1, 'end': 14, 'username': 'EdWGille...</td>\n",
       "      <td>NaN</td>\n",
       "      <td>NaN</td>\n",
       "      <td>0</td>\n",
       "      <td>9173</td>\n",
       "      <td>[]</td>\n",
       "      <td>0</td>\n",
       "    </tr>\n",
       "    <tr>\n",
       "      <th>4</th>\n",
       "      <td>22203756</td>\n",
       "      <td>2017-11-04T22:32:53.000Z</td>\n",
       "      <td>926940341361659905</td>\n",
       "      <td>I'm honored. Thanks for all @SBAList does for ...</td>\n",
       "      <td>en</td>\n",
       "      <td>NaN</td>\n",
       "      <td>Mike Pence</td>\n",
       "      <td>952</td>\n",
       "      <td>5915</td>\n",
       "      <td>Mike_Pence</td>\n",
       "      <td>5835052</td>\n",
       "      <td>59</td>\n",
       "      <td>NaN</td>\n",
       "      <td>2009-02-27T23:04:51.000Z</td>\n",
       "      <td>True</td>\n",
       "      <td>[{'domain': {'id': '10', 'name': 'Person', 'de...</td>\n",
       "      <td>NaN</td>\n",
       "      <td>[{'start': 28, 'end': 36, 'username': 'sbalist...</td>\n",
       "      <td>NaN</td>\n",
       "      <td>[{'start': 60, 'end': 83, 'url': 'https://t.co...</td>\n",
       "      <td>0</td>\n",
       "      <td>7567</td>\n",
       "      <td>[]</td>\n",
       "      <td>0</td>\n",
       "    </tr>\n",
       "  </tbody>\n",
       "</table>\n",
       "</div>"
      ],
      "text/plain": [
       "  author_id                created_at                  id  \\\n",
       "0  22203756  2017-11-16T02:15:19.000Z  930982584649175047   \n",
       "1  22203756  2017-11-16T00:23:59.000Z  930954564769124352   \n",
       "2  22203756  2017-11-08T15:30:54.000Z  928283695353683970   \n",
       "3  22203756  2017-11-07T13:07:37.000Z  927885251233439745   \n",
       "4  22203756  2017-11-04T22:32:53.000Z  926940341361659905   \n",
       "\n",
       "                                                text lang author.location  \\\n",
       "0  Great meeting w/ GOP Govs at @The_RGA on @real...   en             NaN   \n",
       "1  .@realdonaldtrump's vision for tax cuts will d...   en             NaN   \n",
       "2  RT @VP: A year of accomplishments under @POTUS...   en             NaN   \n",
       "3  .@EdWGillespie will cut taxes, grow the econom...   en             NaN   \n",
       "4  I'm honored. Thanks for all @SBAList does for ...   en             NaN   \n",
       "\n",
       "  author.name  public_metrics.retweet_count  public_metrics.like_count  \\\n",
       "0  Mike Pence                           544                       3783   \n",
       "1  Mike Pence                           369                       2919   \n",
       "2  Mike Pence                          2477                          0   \n",
       "3  Mike Pence                          1280                       7034   \n",
       "4  Mike Pence                           952                       5915   \n",
       "\n",
       "  author.username  author.public_metrics.followers_count  \\\n",
       "0      Mike_Pence                                5835052   \n",
       "1      Mike_Pence                                5835052   \n",
       "2      Mike_Pence                                5835052   \n",
       "3      Mike_Pence                                5835052   \n",
       "4      Mike_Pence                                5835052   \n",
       "\n",
       "   author.public_metrics.following_count author.entities.url.urls  \\\n",
       "0                                     59                      NaN   \n",
       "1                                     59                      NaN   \n",
       "2                                     59                      NaN   \n",
       "3                                     59                      NaN   \n",
       "4                                     59                      NaN   \n",
       "\n",
       "          author.created_at  author.verified  \\\n",
       "0  2009-02-27T23:04:51.000Z             True   \n",
       "1  2009-02-27T23:04:51.000Z             True   \n",
       "2  2009-02-27T23:04:51.000Z             True   \n",
       "3  2009-02-27T23:04:51.000Z             True   \n",
       "4  2009-02-27T23:04:51.000Z             True   \n",
       "\n",
       "                                 context_annotations  \\\n",
       "0  [{'domain': {'id': '10', 'name': 'Person', 'de...   \n",
       "1  [{'domain': {'id': '10', 'name': 'Person', 'de...   \n",
       "2  [{'domain': {'id': '10', 'name': 'Person', 'de...   \n",
       "3  [{'domain': {'id': '10', 'name': 'Person', 'de...   \n",
       "4  [{'domain': {'id': '10', 'name': 'Person', 'de...   \n",
       "\n",
       "                                entities.annotations  \\\n",
       "0  [{'start': 278, 'end': 284, 'probability': 0.3...   \n",
       "1                                                NaN   \n",
       "2  [{'start': 107, 'end': 111, 'probability': 0.5...   \n",
       "3  [{'start': 112, 'end': 119, 'probability': 0.7...   \n",
       "4                                                NaN   \n",
       "\n",
       "                                   entities.mentions  \\\n",
       "0  [{'start': 41, 'end': 57, 'username': 'realDon...   \n",
       "1  [{'start': 1, 'end': 17, 'username': 'realDona...   \n",
       "2  [{'start': 3, 'end': 6, 'username': 'VP', 'id'...   \n",
       "3  [{'start': 1, 'end': 14, 'username': 'EdWGille...   \n",
       "4  [{'start': 28, 'end': 36, 'username': 'sbalist...   \n",
       "\n",
       "                                entities.hashtags  \\\n",
       "0  [{'start': 277, 'end': 285, 'tag': 'RGA2017'}]   \n",
       "1  [{'start': 209, 'end': 217, 'tag': 'RGA2017'}]   \n",
       "2                                             NaN   \n",
       "3                                             NaN   \n",
       "4                                             NaN   \n",
       "\n",
       "                                       entities.urls  is_retweet  updates  \\\n",
       "0  [{'start': 286, 'end': 309, 'url': 'https://t....           0     6646   \n",
       "1                                                NaN           0     4287   \n",
       "2                                                NaN           1     2477   \n",
       "3                                                NaN           0     9173   \n",
       "4  [{'start': 60, 'end': 83, 'url': 'https://t.co...           0     7567   \n",
       "\n",
       "  emoji_text  emoji_count  \n",
       "0         []            0  \n",
       "1         []            0  \n",
       "2         []            0  \n",
       "3         []            0  \n",
       "4         []            0  "
      ]
     },
     "execution_count": 33,
     "metadata": {},
     "output_type": "execute_result"
    }
   ],
   "source": [
    "df2.head(5)"
   ]
  },
  {
   "cell_type": "markdown",
   "metadata": {},
   "source": [
    "#### Extract if text has URL as feature"
   ]
  },
  {
   "cell_type": "code",
   "execution_count": 48,
   "metadata": {},
   "outputs": [],
   "source": [
    "#Extract hyperlink from text\n",
    "#add new column with binary 1/0 if tweet is Retweet\n",
    "df2['has_URL']= np.where(df2.text.str.contains('http:'),1,0)"
   ]
  },
  {
   "cell_type": "code",
   "execution_count": 50,
   "metadata": {},
   "outputs": [
    {
     "data": {
      "text/plain": [
       "0    339939\n",
       "1    153247\n",
       "Name: has_URL, dtype: int64"
      ]
     },
     "execution_count": 50,
     "metadata": {},
     "output_type": "execute_result"
    }
   ],
   "source": [
    "df2.has_URL.value_counts()"
   ]
  },
  {
   "cell_type": "code",
   "execution_count": 49,
   "metadata": {},
   "outputs": [
    {
     "name": "stdout",
     "output_type": "stream",
     "text": [
      "<class 'pandas.core.frame.DataFrame'>\n",
      "RangeIndex: 493186 entries, 0 to 493185\n",
      "Data columns (total 25 columns):\n",
      " #   Column                                 Non-Null Count   Dtype \n",
      "---  ------                                 --------------   ----- \n",
      " 0   author_id                              493186 non-null  object\n",
      " 1   created_at                             493186 non-null  object\n",
      " 2   id                                     493186 non-null  object\n",
      " 3   text                                   493186 non-null  object\n",
      " 4   lang                                   493186 non-null  object\n",
      " 5   author.location                        441555 non-null  object\n",
      " 6   author.name                            493186 non-null  object\n",
      " 7   public_metrics.retweet_count           493186 non-null  int64 \n",
      " 8   public_metrics.like_count              493186 non-null  int64 \n",
      " 9   author.username                        493186 non-null  object\n",
      " 10  author.public_metrics.followers_count  493186 non-null  int64 \n",
      " 11  author.public_metrics.following_count  493186 non-null  int64 \n",
      " 12  author.entities.url.urls               486135 non-null  object\n",
      " 13  author.created_at                      493186 non-null  object\n",
      " 14  author.verified                        493186 non-null  bool  \n",
      " 15  context_annotations                    111749 non-null  object\n",
      " 16  entities.annotations                   368831 non-null  object\n",
      " 17  entities.mentions                      205824 non-null  object\n",
      " 18  entities.hashtags                      134141 non-null  object\n",
      " 19  entities.urls                          383066 non-null  object\n",
      " 20  is_retweet                             493186 non-null  int64 \n",
      " 21  updates                                493186 non-null  int64 \n",
      " 22  emoji_text                             493186 non-null  object\n",
      " 23  emoji_count                            493186 non-null  int64 \n",
      " 24  has_URL                                493186 non-null  int64 \n",
      "dtypes: bool(1), int64(8), object(16)\n",
      "memory usage: 90.8+ MB\n"
     ]
    }
   ],
   "source": [
    "df2.info()"
   ]
  },
  {
   "cell_type": "code",
   "execution_count": 52,
   "metadata": {},
   "outputs": [],
   "source": [
    "#add Account_type column to represent verified account\n",
    "df2['account_category']= df2['author.verified'].apply(lambda x: 'Verified_User' if True else 0)"
   ]
  },
  {
   "cell_type": "code",
   "execution_count": 57,
   "metadata": {},
   "outputs": [
    {
     "data": {
      "text/plain": [
       "Verified_User    493186\n",
       "Name: account_category, dtype: int64"
      ]
     },
     "execution_count": 57,
     "metadata": {},
     "output_type": "execute_result"
    }
   ],
   "source": [
    "df2['account_category'].value_counts()"
   ]
  },
  {
   "cell_type": "code",
   "execution_count": 56,
   "metadata": {},
   "outputs": [],
   "source": []
  },
  {
   "cell_type": "code",
   "execution_count": null,
   "metadata": {},
   "outputs": [],
   "source": []
  }
 ],
 "metadata": {
  "kernelspec": {
   "display_name": "Python 3",
   "language": "python",
   "name": "python3"
  },
  "language_info": {
   "codemirror_mode": {
    "name": "ipython",
    "version": 3
   },
   "file_extension": ".py",
   "mimetype": "text/x-python",
   "name": "python",
   "nbconvert_exporter": "python",
   "pygments_lexer": "ipython3",
   "version": "3.8.5"
  }
 },
 "nbformat": 4,
 "nbformat_minor": 4
}
