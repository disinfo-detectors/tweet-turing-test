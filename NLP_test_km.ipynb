{
 "cells": [
  {
   "cell_type": "markdown",
   "metadata": {},
   "source": [
    "Test NB- Capstone Winter 2022- K.Matulay"
   ]
  },
  {
   "cell_type": "code",
   "execution_count": 4,
   "metadata": {},
   "outputs": [],
   "source": [
    "# imports from Python standard library\n",
    "import re\n",
    "import string\n",
    "from collections import Counter\n",
    "\n",
    "# imports requiring installation\n",
    "#   connection to Google Cloud Storage\n",
    "#from google.cloud import storage            # pip install google-cloud-storage\n",
    "#from google.oauth2 import service_account   # pip install google-auth\n",
    "\n",
    "#  data science packages\n",
    "import matplotlib.pyplot as plt             # pip install matplotlib\n",
    "import nltk                                 # pip install nltk\n",
    "import numpy as np                          # pip install numpy\n",
    "import pandas as pd                         # pip install pandas\n",
    "import seaborn as sns                       # pip install seaborn\n",
    "#import squarify                             # pip install squarify\n",
    "\n",
    "from nltk.tokenize import TweetTokenizer, RegexpTokenizer\n",
    "from nltk.corpus import stopwords\n",
    "#from wordcloud import WordCloud"
   ]
  },
  {
   "cell_type": "code",
   "execution_count": 5,
   "metadata": {},
   "outputs": [],
   "source": [
    "import os\n",
    "import pyarrow"
   ]
  },
  {
   "cell_type": "code",
   "execution_count": 6,
   "metadata": {},
   "outputs": [],
   "source": [
    "os.chdir('/Users/katymatulay/Documents/Drexel - Grad School/07 Fall 2022/DSCI591/Capstone/data')\n",
    "merged_df = pd.read_parquet(\"../data/merged_df_preprocessed.parquet.snappy\")"
   ]
  },
  {
   "cell_type": "code",
   "execution_count": 7,
   "metadata": {},
   "outputs": [
    {
     "name": "stdout",
     "output_type": "stream",
     "text": [
      "<class 'pandas.core.frame.DataFrame'>\n",
      "RangeIndex: 3624894 entries, 0 to 3624893\n",
      "Data columns (total 18 columns):\n",
      " #   Column              Dtype              \n",
      "---  ------              -----              \n",
      " 0   external_author_id  string             \n",
      " 1   author              string             \n",
      " 2   content             string             \n",
      " 3   region              string             \n",
      " 4   language            string             \n",
      " 5   following           uint64             \n",
      " 6   followers           uint64             \n",
      " 7   updates             uint64             \n",
      " 8   post_type           string             \n",
      " 9   is_retweet          float64            \n",
      " 10  account_category    string             \n",
      " 11  tweet_id            string             \n",
      " 12  tco1_step1          string             \n",
      " 13  data_source         string             \n",
      " 14  has_url             int64              \n",
      " 15  emoji_text          object             \n",
      " 16  emoji_count         int64              \n",
      " 17  publish_date        datetime64[ns, UTC]\n",
      "dtypes: datetime64[ns, UTC](1), float64(1), int64(2), object(1), string(10), uint64(3)\n",
      "memory usage: 497.8+ MB\n"
     ]
    }
   ],
   "source": [
    "merged_df.info()"
   ]
  },
  {
   "cell_type": "code",
   "execution_count": null,
   "metadata": {},
   "outputs": [],
   "source": []
  }
 ],
 "metadata": {
  "kernelspec": {
   "display_name": "Python 3",
   "language": "python",
   "name": "python3"
  },
  "language_info": {
   "codemirror_mode": {
    "name": "ipython",
    "version": 3
   },
   "file_extension": ".py",
   "mimetype": "text/x-python",
   "name": "python",
   "nbconvert_exporter": "python",
   "pygments_lexer": "ipython3",
   "version": "3.8.5"
  }
 },
 "nbformat": 4,
 "nbformat_minor": 4
}
