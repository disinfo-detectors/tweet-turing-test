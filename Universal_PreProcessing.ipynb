{
 "cells": [
  {
   "cell_type": "markdown",
   "metadata": {},
   "source": [
    "# Universal Pre-processing Notebook"
   ]
  },
  {
   "cell_type": "markdown",
   "metadata": {},
   "source": [
    "This notebook shows the pre-processing steps for both datasets: \n",
    " - Russian Troll Dataset (Github)\n",
    " - Manually pulled Verified Tweets using the Twitter API Academic License\n",
    "\n",
    "Pre-processing is done separately due to the nature of the datasets and wanting to leave additional features available for EDA.\n",
    "\n",
    "This notebook assumes that the \"Merge_JSON\" notebook has already been run to generate a merged json file."
   ]
  },
  {
   "cell_type": "code",
   "execution_count": 1,
   "metadata": {},
   "outputs": [],
   "source": [
    "import pandas as pd \n",
    "import os\n",
    "import numpy as np\n",
    "import demoji\n",
    "import json"
   ]
  },
  {
   "cell_type": "markdown",
   "metadata": {},
   "source": [
    "## Troll Tweets CSV Pre-processing"
   ]
  },
  {
   "cell_type": "code",
   "execution_count": 2,
   "metadata": {},
   "outputs": [],
   "source": [
    "#load csv for troll dataset\n",
    "all_data=pd.read_csv(\"../data/all_tweets_encoded.csv\", encoding='UTF-8',low_memory=False)"
   ]
  },
  {
   "cell_type": "code",
   "execution_count": 5,
   "metadata": {},
   "outputs": [
    {
     "data": {
      "text/plain": [
       "(2946207, 22)"
      ]
     },
     "execution_count": 5,
     "metadata": {},
     "output_type": "execute_result"
    }
   ],
   "source": [
    "all_data.shape"
   ]
  },
  {
   "cell_type": "code",
   "execution_count": 6,
   "metadata": {},
   "outputs": [
    {
     "data": {
      "text/html": [
       "<div>\n",
       "<style scoped>\n",
       "    .dataframe tbody tr th:only-of-type {\n",
       "        vertical-align: middle;\n",
       "    }\n",
       "\n",
       "    .dataframe tbody tr th {\n",
       "        vertical-align: top;\n",
       "    }\n",
       "\n",
       "    .dataframe thead th {\n",
       "        text-align: right;\n",
       "    }\n",
       "</style>\n",
       "<table border=\"1\" class=\"dataframe\">\n",
       "  <thead>\n",
       "    <tr style=\"text-align: right;\">\n",
       "      <th></th>\n",
       "      <th>Unnamed: 0</th>\n",
       "      <th>external_author_id</th>\n",
       "      <th>author</th>\n",
       "      <th>content</th>\n",
       "      <th>region</th>\n",
       "      <th>language</th>\n",
       "      <th>publish_date</th>\n",
       "      <th>harvested_date</th>\n",
       "      <th>following</th>\n",
       "      <th>followers</th>\n",
       "      <th>updates</th>\n",
       "      <th>post_type</th>\n",
       "      <th>account_type</th>\n",
       "      <th>retweet</th>\n",
       "      <th>account_category</th>\n",
       "      <th>new_june_2018</th>\n",
       "      <th>alt_external_id</th>\n",
       "      <th>tweet_id</th>\n",
       "      <th>article_url</th>\n",
       "      <th>tco1_step1</th>\n",
       "      <th>tco2_step1</th>\n",
       "      <th>tco3_step1</th>\n",
       "    </tr>\n",
       "  </thead>\n",
       "  <tbody>\n",
       "    <tr>\n",
       "      <th>0</th>\n",
       "      <td>0</td>\n",
       "      <td>906000000000000000</td>\n",
       "      <td>10_GOP</td>\n",
       "      <td>\"We have a sitting Democrat US Senator on tria...</td>\n",
       "      <td>Unknown</td>\n",
       "      <td>English</td>\n",
       "      <td>10/1/2017 19:58</td>\n",
       "      <td>10/1/2017 19:59</td>\n",
       "      <td>1052</td>\n",
       "      <td>9636</td>\n",
       "      <td>253</td>\n",
       "      <td>NaN</td>\n",
       "      <td>Right</td>\n",
       "      <td>0</td>\n",
       "      <td>RightTroll</td>\n",
       "      <td>0</td>\n",
       "      <td>905874659358453760</td>\n",
       "      <td>914580356430536707</td>\n",
       "      <td>http://twitter.com/905874659358453760/statuses...</td>\n",
       "      <td>https://twitter.com/10_gop/status/914580356430...</td>\n",
       "      <td>NaN</td>\n",
       "      <td>NaN</td>\n",
       "    </tr>\n",
       "  </tbody>\n",
       "</table>\n",
       "</div>"
      ],
      "text/plain": [
       "   Unnamed: 0  external_author_id  author  \\\n",
       "0           0  906000000000000000  10_GOP   \n",
       "\n",
       "                                             content   region language  \\\n",
       "0  \"We have a sitting Democrat US Senator on tria...  Unknown  English   \n",
       "\n",
       "      publish_date   harvested_date  following  followers  updates post_type  \\\n",
       "0  10/1/2017 19:58  10/1/2017 19:59       1052       9636      253       NaN   \n",
       "\n",
       "  account_type  retweet account_category  new_june_2018     alt_external_id  \\\n",
       "0        Right        0       RightTroll              0  905874659358453760   \n",
       "\n",
       "             tweet_id                                        article_url  \\\n",
       "0  914580356430536707  http://twitter.com/905874659358453760/statuses...   \n",
       "\n",
       "                                          tco1_step1 tco2_step1 tco3_step1  \n",
       "0  https://twitter.com/10_gop/status/914580356430...        NaN        NaN  "
      ]
     },
     "execution_count": 6,
     "metadata": {},
     "output_type": "execute_result"
    }
   ],
   "source": [
    "pd.set_option('display.max_columns', None)\n",
    "all_data.head(1)"
   ]
  },
  {
   "cell_type": "code",
   "execution_count": 7,
   "metadata": {},
   "outputs": [
    {
     "name": "stdout",
     "output_type": "stream",
     "text": [
      "<class 'pandas.core.frame.DataFrame'>\n",
      "RangeIndex: 2946207 entries, 0 to 2946206\n",
      "Data columns (total 22 columns):\n",
      " #   Column              Dtype \n",
      "---  ------              ----- \n",
      " 0   Unnamed: 0          int64 \n",
      " 1   external_author_id  object\n",
      " 2   author              object\n",
      " 3   content             object\n",
      " 4   region              object\n",
      " 5   language            object\n",
      " 6   publish_date        object\n",
      " 7   harvested_date      object\n",
      " 8   following           int64 \n",
      " 9   followers           int64 \n",
      " 10  updates             int64 \n",
      " 11  post_type           object\n",
      " 12  account_type        object\n",
      " 13  retweet             int64 \n",
      " 14  account_category    object\n",
      " 15  new_june_2018       int64 \n",
      " 16  alt_external_id     object\n",
      " 17  tweet_id            int64 \n",
      " 18  article_url         object\n",
      " 19  tco1_step1          object\n",
      " 20  tco2_step1          object\n",
      " 21  tco3_step1          object\n",
      "dtypes: int64(7), object(15)\n",
      "memory usage: 494.5+ MB\n"
     ]
    }
   ],
   "source": [
    "all_data.info()"
   ]
  },
  {
   "cell_type": "markdown",
   "metadata": {},
   "source": [
    "#### Step 1: Filter for English Language Tweets Only (for NLP model)"
   ]
  },
  {
   "cell_type": "code",
   "execution_count": 9,
   "metadata": {},
   "outputs": [
    {
     "data": {
      "text/plain": [
       "English                2116867\n",
       "Russian                 610943\n",
       "German                   86983\n",
       "Ukrainian                38669\n",
       "Italian                  18063\n",
       "Serbian                   9480\n",
       "Uzbek                     9334\n",
       "Bulgarian                 9236\n",
       "LANGUAGE UNDEFINED        8320\n",
       "Arabic                    7588\n",
       "Macedonian                5178\n",
       "French                    4562\n",
       "Spanish                   3011\n",
       "Norwegian                 2237\n",
       "Farsi (Persian)           1684\n",
       "Romanian                  1629\n",
       "Dutch                     1165\n",
       "Swedish                   1014\n",
       "Vietnamese                 982\n",
       "Estonian                   770\n",
       "Japanese                   764\n",
       "Catalan                    589\n",
       "Finnish                    579\n",
       "Albanian                   572\n",
       "Croatian                   544\n",
       "Icelandic                  498\n",
       "Pushto                     487\n",
       "Portuguese                 463\n",
       "Turkish                    445\n",
       "Lithuanian                 416\n",
       "Polish                     386\n",
       "Somali                     276\n",
       "Slovak                     260\n",
       "Tagalog (Filipino)         238\n",
       "Malay                      236\n",
       "Kurdish                    235\n",
       "Latvian                    219\n",
       "Hungarian                  191\n",
       "Greek                      186\n",
       "Czech                      182\n",
       "Indonesian                 168\n",
       "Korean                     106\n",
       "Danish                      91\n",
       "Hindi                       87\n",
       "Hebrew                      65\n",
       "Slovenian                   60\n",
       "Urdu                        58\n",
       "Thai                        38\n",
       "Simplified Chinese          21\n",
       "Traditional Chinese         11\n",
       "Tamil                        9\n",
       "Gujarati                     6\n",
       "Telugu                       2\n",
       "Bengali                      2\n",
       "Malayalam                    1\n",
       "Kannada                      1\n",
       "Name: language, dtype: int64"
      ]
     },
     "execution_count": 9,
     "metadata": {},
     "output_type": "execute_result"
    }
   ],
   "source": [
    "all_data.language.value_counts()"
   ]
  },
  {
   "cell_type": "code",
   "execution_count": 8,
   "metadata": {},
   "outputs": [],
   "source": [
    "English_tweets = all_data[all_data['language']=='English']"
   ]
  },
  {
   "cell_type": "code",
   "execution_count": 38,
   "metadata": {},
   "outputs": [],
   "source": [
    "cols_to_keep = ['external_author_id','author','content','region','language','publish_date','following','followers','updates',\n",
    "               'retweet','account_category','tweet_id','tco1_step1']"
   ]
  },
  {
   "cell_type": "code",
   "execution_count": 39,
   "metadata": {},
   "outputs": [],
   "source": [
    "English_tweets = English_tweets[cols_to_keep]"
   ]
  },
  {
   "cell_type": "code",
   "execution_count": 41,
   "metadata": {},
   "outputs": [
    {
     "data": {
      "text/plain": [
       "13"
      ]
     },
     "execution_count": 41,
     "metadata": {},
     "output_type": "execute_result"
    }
   ],
   "source": [
    "len(English_tweets.columns)"
   ]
  },
  {
   "cell_type": "code",
   "execution_count": 46,
   "metadata": {},
   "outputs": [],
   "source": [
    "#Rename columns to match JSON\n",
    "English_tweets = English_tweets.rename(columns={\"retweet\":\"is_retweet\", \"tco1_step1\":\"full_url\"})"
   ]
  },
  {
   "cell_type": "code",
   "execution_count": 42,
   "metadata": {},
   "outputs": [],
   "source": [
    "#write to file for ease of import later\n",
    "English_tweets.to_csv(\"../data/English_tweets.csv\")"
   ]
  },
  {
   "cell_type": "markdown",
   "metadata": {},
   "source": [
    "## JSON Tweets Pre-processing"
   ]
  },
  {
   "cell_type": "code",
   "execution_count": 3,
   "metadata": {},
   "outputs": [],
   "source": [
    "#load merged json dataset from Twitter API\n",
    "with open('../Tweet_Downloads/tweet_master.json', encoding='UTF-8') as json_file:\n",
    "    tweet_master = json.load(json_file)"
   ]
  },
  {
   "cell_type": "code",
   "execution_count": 18,
   "metadata": {},
   "outputs": [],
   "source": [
    "#convert json to pandas dataframe using normalize to flatten dict\n",
    "df= pd.json_normalize(tweet_master)"
   ]
  },
  {
   "cell_type": "markdown",
   "metadata": {},
   "source": [
    "### Step 1: Identify Relevant Cols"
   ]
  },
  {
   "cell_type": "code",
   "execution_count": 19,
   "metadata": {},
   "outputs": [
    {
     "data": {
      "text/plain": [
       "(493186, 57)"
      ]
     },
     "execution_count": 19,
     "metadata": {},
     "output_type": "execute_result"
    }
   ],
   "source": [
    "df.shape"
   ]
  },
  {
   "cell_type": "code",
   "execution_count": 20,
   "metadata": {},
   "outputs": [],
   "source": [
    "pd.set_option('display.max_columns', None)"
   ]
  },
  {
   "cell_type": "code",
   "execution_count": 21,
   "metadata": {},
   "outputs": [
    {
     "data": {
      "text/html": [
       "<div>\n",
       "<style scoped>\n",
       "    .dataframe tbody tr th:only-of-type {\n",
       "        vertical-align: middle;\n",
       "    }\n",
       "\n",
       "    .dataframe tbody tr th {\n",
       "        vertical-align: top;\n",
       "    }\n",
       "\n",
       "    .dataframe thead th {\n",
       "        text-align: right;\n",
       "    }\n",
       "</style>\n",
       "<table border=\"1\" class=\"dataframe\">\n",
       "  <thead>\n",
       "    <tr style=\"text-align: right;\">\n",
       "      <th></th>\n",
       "      <th>author_id</th>\n",
       "      <th>id</th>\n",
       "      <th>lang</th>\n",
       "      <th>conversation_id</th>\n",
       "      <th>edit_history_tweet_ids</th>\n",
       "      <th>reply_settings</th>\n",
       "      <th>created_at</th>\n",
       "      <th>context_annotations</th>\n",
       "      <th>source</th>\n",
       "      <th>text</th>\n",
       "      <th>possibly_sensitive</th>\n",
       "      <th>media</th>\n",
       "      <th>edit_controls.edits_remaining</th>\n",
       "      <th>edit_controls.is_edit_eligible</th>\n",
       "      <th>edit_controls.editable_until</th>\n",
       "      <th>attachments.media_keys</th>\n",
       "      <th>entities.annotations</th>\n",
       "      <th>entities.mentions</th>\n",
       "      <th>entities.urls</th>\n",
       "      <th>entities.hashtags</th>\n",
       "      <th>public_metrics.retweet_count</th>\n",
       "      <th>public_metrics.reply_count</th>\n",
       "      <th>public_metrics.like_count</th>\n",
       "      <th>public_metrics.quote_count</th>\n",
       "      <th>author.description</th>\n",
       "      <th>author.public_metrics.followers_count</th>\n",
       "      <th>author.public_metrics.following_count</th>\n",
       "      <th>author.public_metrics.tweet_count</th>\n",
       "      <th>author.public_metrics.listed_count</th>\n",
       "      <th>author.id</th>\n",
       "      <th>author.username</th>\n",
       "      <th>author.verified</th>\n",
       "      <th>author.created_at</th>\n",
       "      <th>author.name</th>\n",
       "      <th>author.pinned_tweet_id</th>\n",
       "      <th>author.profile_image_url</th>\n",
       "      <th>author.protected</th>\n",
       "      <th>in_reply_to_user_id</th>\n",
       "      <th>referenced_tweets</th>\n",
       "      <th>geo.country</th>\n",
       "      <th>geo.geo.type</th>\n",
       "      <th>geo.geo.bbox</th>\n",
       "      <th>geo.id</th>\n",
       "      <th>geo.country_code</th>\n",
       "      <th>geo.name</th>\n",
       "      <th>geo.place_type</th>\n",
       "      <th>geo.full_name</th>\n",
       "      <th>author.entities.url.urls</th>\n",
       "      <th>author.entities.description.urls</th>\n",
       "      <th>author.url</th>\n",
       "      <th>author.location</th>\n",
       "      <th>author.entities.description.mentions</th>\n",
       "      <th>entities.cashtags</th>\n",
       "      <th>attachments.poll_ids</th>\n",
       "      <th>geo.coordinates.type</th>\n",
       "      <th>geo.coordinates.coordinates</th>\n",
       "      <th>author.entities.description.hashtags</th>\n",
       "    </tr>\n",
       "  </thead>\n",
       "  <tbody>\n",
       "    <tr>\n",
       "      <th>0</th>\n",
       "      <td>22203756</td>\n",
       "      <td>930982584649175047</td>\n",
       "      <td>en</td>\n",
       "      <td>930982584649175047</td>\n",
       "      <td>[930982584649175047]</td>\n",
       "      <td>everyone</td>\n",
       "      <td>2017-11-16T02:15:19.000Z</td>\n",
       "      <td>[{'domain': {'id': '10', 'name': 'Person', 'de...</td>\n",
       "      <td>Twitter for iPhone</td>\n",
       "      <td>Great meeting w/ GOP Govs at @The_RGA on @real...</td>\n",
       "      <td>False</td>\n",
       "      <td>[{'type': 'photo', 'media_key': '3_93098256771...</td>\n",
       "      <td>5</td>\n",
       "      <td>True</td>\n",
       "      <td>2017-11-16T02:45:19.000Z</td>\n",
       "      <td>[3_930982567712641025]</td>\n",
       "      <td>[{'start': 278, 'end': 284, 'probability': 0.3...</td>\n",
       "      <td>[{'start': 41, 'end': 57, 'username': 'realDon...</td>\n",
       "      <td>[{'start': 286, 'end': 309, 'url': 'https://t....</td>\n",
       "      <td>[{'start': 277, 'end': 285, 'tag': 'RGA2017'}]</td>\n",
       "      <td>544</td>\n",
       "      <td>2217</td>\n",
       "      <td>3783</td>\n",
       "      <td>102</td>\n",
       "      <td>Husband, father, 48th Vice President of the Un...</td>\n",
       "      <td>5835052</td>\n",
       "      <td>59</td>\n",
       "      <td>15232</td>\n",
       "      <td>11683</td>\n",
       "      <td>22203756</td>\n",
       "      <td>Mike_Pence</td>\n",
       "      <td>True</td>\n",
       "      <td>2009-02-27T23:04:51.000Z</td>\n",
       "      <td>Mike Pence</td>\n",
       "      <td>1551931068873424899</td>\n",
       "      <td>https://pbs.twimg.com/profile_images/137229142...</td>\n",
       "      <td>False</td>\n",
       "      <td>NaN</td>\n",
       "      <td>NaN</td>\n",
       "      <td>NaN</td>\n",
       "      <td>NaN</td>\n",
       "      <td>NaN</td>\n",
       "      <td>NaN</td>\n",
       "      <td>NaN</td>\n",
       "      <td>NaN</td>\n",
       "      <td>NaN</td>\n",
       "      <td>NaN</td>\n",
       "      <td>NaN</td>\n",
       "      <td>NaN</td>\n",
       "      <td>NaN</td>\n",
       "      <td>NaN</td>\n",
       "      <td>NaN</td>\n",
       "      <td>NaN</td>\n",
       "      <td>NaN</td>\n",
       "      <td>NaN</td>\n",
       "      <td>NaN</td>\n",
       "      <td>NaN</td>\n",
       "    </tr>\n",
       "    <tr>\n",
       "      <th>1</th>\n",
       "      <td>22203756</td>\n",
       "      <td>930954564769124352</td>\n",
       "      <td>en</td>\n",
       "      <td>930954365334097921</td>\n",
       "      <td>[930954564769124352]</td>\n",
       "      <td>everyone</td>\n",
       "      <td>2017-11-16T00:23:59.000Z</td>\n",
       "      <td>[{'domain': {'id': '10', 'name': 'Person', 'de...</td>\n",
       "      <td>Twitter for iPhone</td>\n",
       "      <td>.@realdonaldtrump's vision for tax cuts will d...</td>\n",
       "      <td>False</td>\n",
       "      <td>NaN</td>\n",
       "      <td>5</td>\n",
       "      <td>True</td>\n",
       "      <td>2017-11-16T00:53:59.000Z</td>\n",
       "      <td>NaN</td>\n",
       "      <td>NaN</td>\n",
       "      <td>[{'start': 1, 'end': 17, 'username': 'realDona...</td>\n",
       "      <td>NaN</td>\n",
       "      <td>[{'start': 209, 'end': 217, 'tag': 'RGA2017'}]</td>\n",
       "      <td>369</td>\n",
       "      <td>925</td>\n",
       "      <td>2919</td>\n",
       "      <td>74</td>\n",
       "      <td>Husband, father, 48th Vice President of the Un...</td>\n",
       "      <td>5835052</td>\n",
       "      <td>59</td>\n",
       "      <td>15232</td>\n",
       "      <td>11683</td>\n",
       "      <td>22203756</td>\n",
       "      <td>Mike_Pence</td>\n",
       "      <td>True</td>\n",
       "      <td>2009-02-27T23:04:51.000Z</td>\n",
       "      <td>Mike Pence</td>\n",
       "      <td>1551931068873424899</td>\n",
       "      <td>https://pbs.twimg.com/profile_images/137229142...</td>\n",
       "      <td>False</td>\n",
       "      <td>22203756</td>\n",
       "      <td>[{'type': 'replied_to', 'id': '930954365334097...</td>\n",
       "      <td>NaN</td>\n",
       "      <td>NaN</td>\n",
       "      <td>NaN</td>\n",
       "      <td>NaN</td>\n",
       "      <td>NaN</td>\n",
       "      <td>NaN</td>\n",
       "      <td>NaN</td>\n",
       "      <td>NaN</td>\n",
       "      <td>NaN</td>\n",
       "      <td>NaN</td>\n",
       "      <td>NaN</td>\n",
       "      <td>NaN</td>\n",
       "      <td>NaN</td>\n",
       "      <td>NaN</td>\n",
       "      <td>NaN</td>\n",
       "      <td>NaN</td>\n",
       "      <td>NaN</td>\n",
       "      <td>NaN</td>\n",
       "    </tr>\n",
       "  </tbody>\n",
       "</table>\n",
       "</div>"
      ],
      "text/plain": [
       "  author_id                  id lang     conversation_id  \\\n",
       "0  22203756  930982584649175047   en  930982584649175047   \n",
       "1  22203756  930954564769124352   en  930954365334097921   \n",
       "\n",
       "  edit_history_tweet_ids reply_settings                created_at  \\\n",
       "0   [930982584649175047]       everyone  2017-11-16T02:15:19.000Z   \n",
       "1   [930954564769124352]       everyone  2017-11-16T00:23:59.000Z   \n",
       "\n",
       "                                 context_annotations              source  \\\n",
       "0  [{'domain': {'id': '10', 'name': 'Person', 'de...  Twitter for iPhone   \n",
       "1  [{'domain': {'id': '10', 'name': 'Person', 'de...  Twitter for iPhone   \n",
       "\n",
       "                                                text  possibly_sensitive  \\\n",
       "0  Great meeting w/ GOP Govs at @The_RGA on @real...               False   \n",
       "1  .@realdonaldtrump's vision for tax cuts will d...               False   \n",
       "\n",
       "                                               media  \\\n",
       "0  [{'type': 'photo', 'media_key': '3_93098256771...   \n",
       "1                                                NaN   \n",
       "\n",
       "   edit_controls.edits_remaining  edit_controls.is_edit_eligible  \\\n",
       "0                              5                            True   \n",
       "1                              5                            True   \n",
       "\n",
       "  edit_controls.editable_until  attachments.media_keys  \\\n",
       "0     2017-11-16T02:45:19.000Z  [3_930982567712641025]   \n",
       "1     2017-11-16T00:53:59.000Z                     NaN   \n",
       "\n",
       "                                entities.annotations  \\\n",
       "0  [{'start': 278, 'end': 284, 'probability': 0.3...   \n",
       "1                                                NaN   \n",
       "\n",
       "                                   entities.mentions  \\\n",
       "0  [{'start': 41, 'end': 57, 'username': 'realDon...   \n",
       "1  [{'start': 1, 'end': 17, 'username': 'realDona...   \n",
       "\n",
       "                                       entities.urls  \\\n",
       "0  [{'start': 286, 'end': 309, 'url': 'https://t....   \n",
       "1                                                NaN   \n",
       "\n",
       "                                entities.hashtags  \\\n",
       "0  [{'start': 277, 'end': 285, 'tag': 'RGA2017'}]   \n",
       "1  [{'start': 209, 'end': 217, 'tag': 'RGA2017'}]   \n",
       "\n",
       "   public_metrics.retweet_count  public_metrics.reply_count  \\\n",
       "0                           544                        2217   \n",
       "1                           369                         925   \n",
       "\n",
       "   public_metrics.like_count  public_metrics.quote_count  \\\n",
       "0                       3783                         102   \n",
       "1                       2919                          74   \n",
       "\n",
       "                                  author.description  \\\n",
       "0  Husband, father, 48th Vice President of the Un...   \n",
       "1  Husband, father, 48th Vice President of the Un...   \n",
       "\n",
       "   author.public_metrics.followers_count  \\\n",
       "0                                5835052   \n",
       "1                                5835052   \n",
       "\n",
       "   author.public_metrics.following_count  author.public_metrics.tweet_count  \\\n",
       "0                                     59                              15232   \n",
       "1                                     59                              15232   \n",
       "\n",
       "   author.public_metrics.listed_count author.id author.username  \\\n",
       "0                               11683  22203756      Mike_Pence   \n",
       "1                               11683  22203756      Mike_Pence   \n",
       "\n",
       "   author.verified         author.created_at author.name  \\\n",
       "0             True  2009-02-27T23:04:51.000Z  Mike Pence   \n",
       "1             True  2009-02-27T23:04:51.000Z  Mike Pence   \n",
       "\n",
       "  author.pinned_tweet_id                           author.profile_image_url  \\\n",
       "0    1551931068873424899  https://pbs.twimg.com/profile_images/137229142...   \n",
       "1    1551931068873424899  https://pbs.twimg.com/profile_images/137229142...   \n",
       "\n",
       "   author.protected in_reply_to_user_id  \\\n",
       "0             False                 NaN   \n",
       "1             False            22203756   \n",
       "\n",
       "                                   referenced_tweets geo.country geo.geo.type  \\\n",
       "0                                                NaN         NaN          NaN   \n",
       "1  [{'type': 'replied_to', 'id': '930954365334097...         NaN          NaN   \n",
       "\n",
       "  geo.geo.bbox geo.id geo.country_code geo.name geo.place_type geo.full_name  \\\n",
       "0          NaN    NaN              NaN      NaN            NaN           NaN   \n",
       "1          NaN    NaN              NaN      NaN            NaN           NaN   \n",
       "\n",
       "  author.entities.url.urls author.entities.description.urls author.url  \\\n",
       "0                      NaN                              NaN        NaN   \n",
       "1                      NaN                              NaN        NaN   \n",
       "\n",
       "  author.location author.entities.description.mentions entities.cashtags  \\\n",
       "0             NaN                                  NaN               NaN   \n",
       "1             NaN                                  NaN               NaN   \n",
       "\n",
       "  attachments.poll_ids geo.coordinates.type geo.coordinates.coordinates  \\\n",
       "0                  NaN                  NaN                         NaN   \n",
       "1                  NaN                  NaN                         NaN   \n",
       "\n",
       "  author.entities.description.hashtags  \n",
       "0                                  NaN  \n",
       "1                                  NaN  "
      ]
     },
     "execution_count": 21,
     "metadata": {},
     "output_type": "execute_result"
    }
   ],
   "source": [
    "df.head(2)"
   ]
  },
  {
   "cell_type": "code",
   "execution_count": 22,
   "metadata": {},
   "outputs": [
    {
     "data": {
      "text/plain": [
       "Index(['author_id', 'id', 'lang', 'conversation_id', 'edit_history_tweet_ids',\n",
       "       'reply_settings', 'created_at', 'context_annotations', 'source', 'text',\n",
       "       'possibly_sensitive', 'media', 'edit_controls.edits_remaining',\n",
       "       'edit_controls.is_edit_eligible', 'edit_controls.editable_until',\n",
       "       'attachments.media_keys', 'entities.annotations', 'entities.mentions',\n",
       "       'entities.urls', 'entities.hashtags', 'public_metrics.retweet_count',\n",
       "       'public_metrics.reply_count', 'public_metrics.like_count',\n",
       "       'public_metrics.quote_count', 'author.description',\n",
       "       'author.public_metrics.followers_count',\n",
       "       'author.public_metrics.following_count',\n",
       "       'author.public_metrics.tweet_count',\n",
       "       'author.public_metrics.listed_count', 'author.id', 'author.username',\n",
       "       'author.verified', 'author.created_at', 'author.name',\n",
       "       'author.pinned_tweet_id', 'author.profile_image_url',\n",
       "       'author.protected', 'in_reply_to_user_id', 'referenced_tweets',\n",
       "       'geo.country', 'geo.geo.type', 'geo.geo.bbox', 'geo.id',\n",
       "       'geo.country_code', 'geo.name', 'geo.place_type', 'geo.full_name',\n",
       "       'author.entities.url.urls', 'author.entities.description.urls',\n",
       "       'author.url', 'author.location', 'author.entities.description.mentions',\n",
       "       'entities.cashtags', 'attachments.poll_ids', 'geo.coordinates.type',\n",
       "       'geo.coordinates.coordinates', 'author.entities.description.hashtags'],\n",
       "      dtype='object')"
      ]
     },
     "execution_count": 22,
     "metadata": {},
     "output_type": "execute_result"
    }
   ],
   "source": [
    "df.columns"
   ]
  },
  {
   "cell_type": "code",
   "execution_count": 23,
   "metadata": {},
   "outputs": [
    {
     "data": {
      "text/plain": [
       "57"
      ]
     },
     "execution_count": 23,
     "metadata": {},
     "output_type": "execute_result"
    }
   ],
   "source": [
    "len(df.columns)"
   ]
  },
  {
   "cell_type": "markdown",
   "metadata": {},
   "source": [
    "#### Creating column lists: 1st for EDA and another for merging the datasets"
   ]
  },
  {
   "cell_type": "code",
   "execution_count": 65,
   "metadata": {},
   "outputs": [],
   "source": [
    "cols_keep_EDA = ['author_id','created_at','id','text','lang','author.location','author.name',\n",
    "             'public_metrics.retweet_count','public_metrics.reply_count','public_metrics.like_count',\n",
    "             'public_metrics.quote_count','author.username','author.public_metrics.followers_count',\n",
    "             'author.public_metrics.following_count','author.entities.url.urls','author.created_at',\n",
    "             'author.verified','context_annotations','entities.annotations','entities.mentions',\n",
    "             'entities.hashtags', 'entities.urls']"
   ]
  },
  {
   "cell_type": "code",
   "execution_count": 66,
   "metadata": {},
   "outputs": [],
   "source": [
    "df1 = df[cols_keep_EDA]"
   ]
  },
  {
   "cell_type": "code",
   "execution_count": 67,
   "metadata": {},
   "outputs": [
    {
     "data": {
      "text/plain": [
       "22"
      ]
     },
     "execution_count": 67,
     "metadata": {},
     "output_type": "execute_result"
    }
   ],
   "source": [
    "len(df1.columns)"
   ]
  },
  {
   "cell_type": "markdown",
   "metadata": {},
   "source": [
    "### Step 2: Extract Feature Cols to match Troll Dataset Columns"
   ]
  },
  {
   "cell_type": "markdown",
   "metadata": {},
   "source": [
    "**Feature: Is_Retweet**"
   ]
  },
  {
   "cell_type": "code",
   "execution_count": 68,
   "metadata": {},
   "outputs": [
    {
     "name": "stderr",
     "output_type": "stream",
     "text": [
      "<ipython-input-68-d690f7b02df7>:2: SettingWithCopyWarning: \n",
      "A value is trying to be set on a copy of a slice from a DataFrame.\n",
      "Try using .loc[row_indexer,col_indexer] = value instead\n",
      "\n",
      "See the caveats in the documentation: https://pandas.pydata.org/pandas-docs/stable/user_guide/indexing.html#returning-a-view-versus-a-copy\n",
      "  df1['is_retweet']= np.where(df1.text.str.startswith('RT @'),1,0)\n"
     ]
    }
   ],
   "source": [
    "#add new column with binary 1/0 if tweet is Retweet\n",
    "df1['is_retweet']= np.where(df1.text.str.startswith('RT @'),1,0)"
   ]
  },
  {
   "cell_type": "code",
   "execution_count": 69,
   "metadata": {},
   "outputs": [
    {
     "data": {
      "text/plain": [
       "0    409630\n",
       "1     83556\n",
       "Name: is_retweet, dtype: int64"
      ]
     },
     "execution_count": 69,
     "metadata": {},
     "output_type": "execute_result"
    }
   ],
   "source": [
    "df1['is_retweet'].value_counts()"
   ]
  },
  {
   "cell_type": "markdown",
   "metadata": {},
   "source": [
    "**Feature: Updates**"
   ]
  },
  {
   "cell_type": "code",
   "execution_count": 70,
   "metadata": {},
   "outputs": [],
   "source": [
    "#cols to add together to match the main dataset column \"updates\"\n",
    "update_cols = ['public_metrics.retweet_count',\n",
    "       'public_metrics.reply_count', 'public_metrics.like_count',\n",
    "       'public_metrics.quote_count']"
   ]
  },
  {
   "cell_type": "code",
   "execution_count": 71,
   "metadata": {},
   "outputs": [
    {
     "name": "stderr",
     "output_type": "stream",
     "text": [
      "<ipython-input-71-442679c96d10>:1: SettingWithCopyWarning: \n",
      "A value is trying to be set on a copy of a slice from a DataFrame.\n",
      "Try using .loc[row_indexer,col_indexer] = value instead\n",
      "\n",
      "See the caveats in the documentation: https://pandas.pydata.org/pandas-docs/stable/user_guide/indexing.html#returning-a-view-versus-a-copy\n",
      "  df1['updates']= df1[update_cols].sum(axis=1)\n"
     ]
    }
   ],
   "source": [
    "df1['updates']= df1[update_cols].sum(axis=1)"
   ]
  },
  {
   "cell_type": "markdown",
   "metadata": {},
   "source": [
    "**Feature: account_category**"
   ]
  },
  {
   "cell_type": "code",
   "execution_count": 72,
   "metadata": {},
   "outputs": [
    {
     "name": "stderr",
     "output_type": "stream",
     "text": [
      "<ipython-input-72-e359a2820873>:2: SettingWithCopyWarning: \n",
      "A value is trying to be set on a copy of a slice from a DataFrame.\n",
      "Try using .loc[row_indexer,col_indexer] = value instead\n",
      "\n",
      "See the caveats in the documentation: https://pandas.pydata.org/pandas-docs/stable/user_guide/indexing.html#returning-a-view-versus-a-copy\n",
      "  df1['account_category']= df1['author.verified'].apply(lambda x: 'Verified_User' if True else 0)\n"
     ]
    }
   ],
   "source": [
    "#add Account_type column to represent verified account\n",
    "df1['account_category']= df1['author.verified'].apply(lambda x: 'Verified_User' if True else 0)"
   ]
  },
  {
   "cell_type": "code",
   "execution_count": 73,
   "metadata": {},
   "outputs": [
    {
     "data": {
      "text/plain": [
       "Verified_User    493186\n",
       "Name: account_category, dtype: int64"
      ]
     },
     "execution_count": 73,
     "metadata": {},
     "output_type": "execute_result"
    }
   ],
   "source": [
    "df1['account_category'].value_counts()"
   ]
  },
  {
   "cell_type": "markdown",
   "metadata": {},
   "source": [
    "### Step 3: Column updates"
   ]
  },
  {
   "cell_type": "code",
   "execution_count": 86,
   "metadata": {},
   "outputs": [],
   "source": [
    "## change column names to match original dataset for merging\n",
    "df2=df1.rename(columns={\"author_id\": \"external_author_id\", \"created_at\": \"publish_date\", \"text\": \"content\",\n",
    "                  \"lang\": \"language\", \"author.location\":\"region\", \"author.username\":\"author\",\n",
    "                  \"author.name\":\"full_name\",\"author.public_metrics.followers_count\": \"followers\",\n",
    "                  \"author.public_metrics.following_count\": \"following\",\n",
    "                  \"id\": \"tweet_id\",\"entities.urls\":\"full_url\"}, errors=\"raise\")"
   ]
  },
  {
   "cell_type": "code",
   "execution_count": 87,
   "metadata": {},
   "outputs": [
    {
     "data": {
      "text/plain": [
       "Index(['external_author_id', 'publish_date', 'tweet_id', 'content', 'language',\n",
       "       'region', 'full_name', 'public_metrics.retweet_count',\n",
       "       'public_metrics.reply_count', 'public_metrics.like_count',\n",
       "       'public_metrics.quote_count', 'author', 'followers', 'following',\n",
       "       'author.entities.url.urls', 'author.created_at', 'author.verified',\n",
       "       'context_annotations', 'entities.annotations', 'entities.mentions',\n",
       "       'entities.hashtags', 'full_url', 'is_retweet', 'updates',\n",
       "       'account_category'],\n",
       "      dtype='object')"
      ]
     },
     "execution_count": 87,
     "metadata": {},
     "output_type": "execute_result"
    }
   ],
   "source": [
    "df2.columns"
   ]
  },
  {
   "cell_type": "code",
   "execution_count": 88,
   "metadata": {},
   "outputs": [],
   "source": [
    "#drop columns for merging\n",
    "df3= df2.drop(columns=['public_metrics.retweet_count',\n",
    "       'public_metrics.reply_count', 'public_metrics.like_count',\n",
    "       'public_metrics.quote_count','author.entities.url.urls', 'author.created_at', 'author.verified',\n",
    "       'context_annotations', 'entities.annotations', 'entities.mentions',\n",
    "       'entities.hashtags','full_name'])"
   ]
  },
  {
   "cell_type": "code",
   "execution_count": 89,
   "metadata": {},
   "outputs": [
    {
     "data": {
      "text/plain": [
       "Index(['external_author_id', 'publish_date', 'tweet_id', 'content', 'language',\n",
       "       'region', 'author', 'followers', 'following', 'full_url', 'is_retweet',\n",
       "       'updates', 'account_category'],\n",
       "      dtype='object')"
      ]
     },
     "execution_count": 89,
     "metadata": {},
     "output_type": "execute_result"
    }
   ],
   "source": [
    "df3.columns"
   ]
  },
  {
   "cell_type": "code",
   "execution_count": 90,
   "metadata": {},
   "outputs": [
    {
     "data": {
      "text/plain": [
       "13"
      ]
     },
     "execution_count": 90,
     "metadata": {},
     "output_type": "execute_result"
    }
   ],
   "source": [
    "len(df3.columns)"
   ]
  },
  {
   "cell_type": "code",
   "execution_count": 93,
   "metadata": {},
   "outputs": [
    {
     "data": {
      "text/plain": [
       "True"
      ]
     },
     "execution_count": 93,
     "metadata": {},
     "output_type": "execute_result"
    }
   ],
   "source": [
    "sorted(English_tweets.columns) == sorted(df3.columns)"
   ]
  },
  {
   "cell_type": "markdown",
   "metadata": {},
   "source": [
    "### Step 4: Merging the two datasets"
   ]
  },
  {
   "cell_type": "code",
   "execution_count": 95,
   "metadata": {},
   "outputs": [
    {
     "data": {
      "text/html": [
       "<div>\n",
       "<style scoped>\n",
       "    .dataframe tbody tr th:only-of-type {\n",
       "        vertical-align: middle;\n",
       "    }\n",
       "\n",
       "    .dataframe tbody tr th {\n",
       "        vertical-align: top;\n",
       "    }\n",
       "\n",
       "    .dataframe thead th {\n",
       "        text-align: right;\n",
       "    }\n",
       "</style>\n",
       "<table border=\"1\" class=\"dataframe\">\n",
       "  <thead>\n",
       "    <tr style=\"text-align: right;\">\n",
       "      <th></th>\n",
       "      <th>external_author_id</th>\n",
       "      <th>author</th>\n",
       "      <th>content</th>\n",
       "      <th>region</th>\n",
       "      <th>language</th>\n",
       "      <th>publish_date</th>\n",
       "      <th>following</th>\n",
       "      <th>followers</th>\n",
       "      <th>updates</th>\n",
       "      <th>is_retweet</th>\n",
       "      <th>account_category</th>\n",
       "      <th>tweet_id</th>\n",
       "      <th>full_url</th>\n",
       "    </tr>\n",
       "  </thead>\n",
       "  <tbody>\n",
       "    <tr>\n",
       "      <th>0</th>\n",
       "      <td>906000000000000000</td>\n",
       "      <td>10_GOP</td>\n",
       "      <td>\"We have a sitting Democrat US Senator on tria...</td>\n",
       "      <td>Unknown</td>\n",
       "      <td>English</td>\n",
       "      <td>10/1/2017 19:58</td>\n",
       "      <td>1052</td>\n",
       "      <td>9636</td>\n",
       "      <td>253</td>\n",
       "      <td>0</td>\n",
       "      <td>RightTroll</td>\n",
       "      <td>914580356430536707</td>\n",
       "      <td>https://twitter.com/10_gop/status/914580356430...</td>\n",
       "    </tr>\n",
       "    <tr>\n",
       "      <th>1</th>\n",
       "      <td>906000000000000000</td>\n",
       "      <td>10_GOP</td>\n",
       "      <td>Marshawn Lynch arrives to game in anti-Trump s...</td>\n",
       "      <td>Unknown</td>\n",
       "      <td>English</td>\n",
       "      <td>10/1/2017 22:43</td>\n",
       "      <td>1054</td>\n",
       "      <td>9637</td>\n",
       "      <td>254</td>\n",
       "      <td>0</td>\n",
       "      <td>RightTroll</td>\n",
       "      <td>914621840496189440</td>\n",
       "      <td>https://twitter.com/damienwoody/status/9145685...</td>\n",
       "    </tr>\n",
       "    <tr>\n",
       "      <th>2</th>\n",
       "      <td>906000000000000000</td>\n",
       "      <td>10_GOP</td>\n",
       "      <td>Daughter of fallen Navy Sailor delivers powerf...</td>\n",
       "      <td>Unknown</td>\n",
       "      <td>English</td>\n",
       "      <td>10/1/2017 22:50</td>\n",
       "      <td>1054</td>\n",
       "      <td>9637</td>\n",
       "      <td>255</td>\n",
       "      <td>1</td>\n",
       "      <td>RightTroll</td>\n",
       "      <td>914623490375979008</td>\n",
       "      <td>https://twitter.com/10_gop/status/913231923715...</td>\n",
       "    </tr>\n",
       "    <tr>\n",
       "      <th>3</th>\n",
       "      <td>906000000000000000</td>\n",
       "      <td>10_GOP</td>\n",
       "      <td>JUST IN: President Trump dedicates Presidents ...</td>\n",
       "      <td>Unknown</td>\n",
       "      <td>English</td>\n",
       "      <td>10/1/2017 23:52</td>\n",
       "      <td>1062</td>\n",
       "      <td>9642</td>\n",
       "      <td>256</td>\n",
       "      <td>0</td>\n",
       "      <td>RightTroll</td>\n",
       "      <td>914639143690555392</td>\n",
       "      <td>https://twitter.com/10_gop/status/914639143690...</td>\n",
       "    </tr>\n",
       "    <tr>\n",
       "      <th>4</th>\n",
       "      <td>906000000000000000</td>\n",
       "      <td>10_GOP</td>\n",
       "      <td>19,000 RESPECTING our National Anthem! #StandF...</td>\n",
       "      <td>Unknown</td>\n",
       "      <td>English</td>\n",
       "      <td>10/1/2017 2:13</td>\n",
       "      <td>1050</td>\n",
       "      <td>9645</td>\n",
       "      <td>246</td>\n",
       "      <td>1</td>\n",
       "      <td>RightTroll</td>\n",
       "      <td>914312219952861184</td>\n",
       "      <td>https://twitter.com/realDonaldTrump/status/914...</td>\n",
       "    </tr>\n",
       "  </tbody>\n",
       "</table>\n",
       "</div>"
      ],
      "text/plain": [
       "   external_author_id  author  \\\n",
       "0  906000000000000000  10_GOP   \n",
       "1  906000000000000000  10_GOP   \n",
       "2  906000000000000000  10_GOP   \n",
       "3  906000000000000000  10_GOP   \n",
       "4  906000000000000000  10_GOP   \n",
       "\n",
       "                                             content   region language  \\\n",
       "0  \"We have a sitting Democrat US Senator on tria...  Unknown  English   \n",
       "1  Marshawn Lynch arrives to game in anti-Trump s...  Unknown  English   \n",
       "2  Daughter of fallen Navy Sailor delivers powerf...  Unknown  English   \n",
       "3  JUST IN: President Trump dedicates Presidents ...  Unknown  English   \n",
       "4  19,000 RESPECTING our National Anthem! #StandF...  Unknown  English   \n",
       "\n",
       "      publish_date  following  followers  updates  is_retweet  \\\n",
       "0  10/1/2017 19:58       1052       9636      253           0   \n",
       "1  10/1/2017 22:43       1054       9637      254           0   \n",
       "2  10/1/2017 22:50       1054       9637      255           1   \n",
       "3  10/1/2017 23:52       1062       9642      256           0   \n",
       "4   10/1/2017 2:13       1050       9645      246           1   \n",
       "\n",
       "  account_category            tweet_id  \\\n",
       "0       RightTroll  914580356430536707   \n",
       "1       RightTroll  914621840496189440   \n",
       "2       RightTroll  914623490375979008   \n",
       "3       RightTroll  914639143690555392   \n",
       "4       RightTroll  914312219952861184   \n",
       "\n",
       "                                            full_url  \n",
       "0  https://twitter.com/10_gop/status/914580356430...  \n",
       "1  https://twitter.com/damienwoody/status/9145685...  \n",
       "2  https://twitter.com/10_gop/status/913231923715...  \n",
       "3  https://twitter.com/10_gop/status/914639143690...  \n",
       "4  https://twitter.com/realDonaldTrump/status/914...  "
      ]
     },
     "execution_count": 95,
     "metadata": {},
     "output_type": "execute_result"
    }
   ],
   "source": [
    "merged = pd.concat([English_tweets,df3], axis=0)\n",
    "merged.head()"
   ]
  },
  {
   "cell_type": "code",
   "execution_count": 96,
   "metadata": {},
   "outputs": [
    {
     "data": {
      "text/plain": [
       "(2610053, 13)"
      ]
     },
     "execution_count": 96,
     "metadata": {},
     "output_type": "execute_result"
    }
   ],
   "source": [
    "merged.shape"
   ]
  },
  {
   "cell_type": "markdown",
   "metadata": {},
   "source": [
    "## Merged DF Pre-Processing"
   ]
  },
  {
   "cell_type": "markdown",
   "metadata": {},
   "source": [
    "### Step 1: Add new features"
   ]
  },
  {
   "cell_type": "markdown",
   "metadata": {},
   "source": [
    "**Feature: has_URL**"
   ]
  },
  {
   "cell_type": "code",
   "execution_count": 98,
   "metadata": {},
   "outputs": [],
   "source": [
    "#Extract hyperlink from text\n",
    "#add new column with binary 1/0 if tweet is Retweet\n",
    "merged['has_URL']= np.where(merged.content.str.contains('http'),1,0)"
   ]
  },
  {
   "cell_type": "code",
   "execution_count": 99,
   "metadata": {},
   "outputs": [
    {
     "data": {
      "text/plain": [
       "0    2273265\n",
       "1     336788\n",
       "Name: has_URL, dtype: int64"
      ]
     },
     "execution_count": 99,
     "metadata": {},
     "output_type": "execute_result"
    }
   ],
   "source": [
    "merged.has_URL.value_counts()"
   ]
  },
  {
   "cell_type": "markdown",
   "metadata": {},
   "source": [
    "**Feature: Emoji_text**"
   ]
  },
  {
   "cell_type": "code",
   "execution_count": 101,
   "metadata": {},
   "outputs": [],
   "source": [
    "''' The following converts a text string with emojis into a list of descriptive text strings.\n",
    "    Duplicate emojis are captured as each emoji converts to 1 text string.'''\n",
    "def convert_emoji_list(x):\n",
    "    lst=[]\n",
    "    estring = ''\n",
    "    import demoji\n",
    "    import numpy as np\n",
    "    if x is not np.nan:\n",
    "        #extract list of text from demoji func\n",
    "        lst = demoji.findall_list(x)\n",
    "        if len(lst)<0:\n",
    "            return np.nan\n",
    "     \n",
    "        else:\n",
    "            return(lst)"
   ]
  },
  {
   "cell_type": "code",
   "execution_count": 102,
   "metadata": {},
   "outputs": [
    {
     "name": "stderr",
     "output_type": "stream",
     "text": [
      "<ipython-input-102-b86244e914d2>:2: SettingWithCopyWarning: \n",
      "A value is trying to be set on a copy of a slice from a DataFrame.\n",
      "Try using .loc[row_indexer,col_indexer] = value instead\n",
      "\n",
      "See the caveats in the documentation: https://pandas.pydata.org/pandas-docs/stable/user_guide/indexing.html#returning-a-view-versus-a-copy\n",
      "  test['emoji_text']= test['content'].apply(convert_emoji_list)\n"
     ]
    }
   ],
   "source": [
    "# TEST FUNCTION FIRST\n",
    "test = merged[:5]\n",
    "test['emoji_text']= test['content'].apply(convert_emoji_list)"
   ]
  },
  {
   "cell_type": "code",
   "execution_count": 104,
   "metadata": {},
   "outputs": [
    {
     "data": {
      "text/html": [
       "<div>\n",
       "<style scoped>\n",
       "    .dataframe tbody tr th:only-of-type {\n",
       "        vertical-align: middle;\n",
       "    }\n",
       "\n",
       "    .dataframe tbody tr th {\n",
       "        vertical-align: top;\n",
       "    }\n",
       "\n",
       "    .dataframe thead th {\n",
       "        text-align: right;\n",
       "    }\n",
       "</style>\n",
       "<table border=\"1\" class=\"dataframe\">\n",
       "  <thead>\n",
       "    <tr style=\"text-align: right;\">\n",
       "      <th></th>\n",
       "      <th>external_author_id</th>\n",
       "      <th>author</th>\n",
       "      <th>content</th>\n",
       "      <th>region</th>\n",
       "      <th>language</th>\n",
       "      <th>publish_date</th>\n",
       "      <th>following</th>\n",
       "      <th>followers</th>\n",
       "      <th>updates</th>\n",
       "      <th>is_retweet</th>\n",
       "      <th>account_category</th>\n",
       "      <th>tweet_id</th>\n",
       "      <th>full_url</th>\n",
       "      <th>has_URL</th>\n",
       "      <th>emoji_text</th>\n",
       "    </tr>\n",
       "  </thead>\n",
       "  <tbody>\n",
       "    <tr>\n",
       "      <th>4</th>\n",
       "      <td>906000000000000000</td>\n",
       "      <td>10_GOP</td>\n",
       "      <td>19,000 RESPECTING our National Anthem! #StandF...</td>\n",
       "      <td>Unknown</td>\n",
       "      <td>English</td>\n",
       "      <td>10/1/2017 2:13</td>\n",
       "      <td>1050</td>\n",
       "      <td>9645</td>\n",
       "      <td>246</td>\n",
       "      <td>1</td>\n",
       "      <td>RightTroll</td>\n",
       "      <td>914312219952861184</td>\n",
       "      <td>https://twitter.com/realDonaldTrump/status/914...</td>\n",
       "      <td>0</td>\n",
       "      <td>[flag: United States]</td>\n",
       "    </tr>\n",
       "  </tbody>\n",
       "</table>\n",
       "</div>"
      ],
      "text/plain": [
       "   external_author_id  author  \\\n",
       "4  906000000000000000  10_GOP   \n",
       "\n",
       "                                             content   region language  \\\n",
       "4  19,000 RESPECTING our National Anthem! #StandF...  Unknown  English   \n",
       "\n",
       "     publish_date  following  followers  updates  is_retweet account_category  \\\n",
       "4  10/1/2017 2:13       1050       9645      246           1       RightTroll   \n",
       "\n",
       "             tweet_id                                           full_url  \\\n",
       "4  914312219952861184  https://twitter.com/realDonaldTrump/status/914...   \n",
       "\n",
       "   has_URL             emoji_text  \n",
       "4        0  [flag: United States]  "
      ]
     },
     "execution_count": 104,
     "metadata": {},
     "output_type": "execute_result"
    }
   ],
   "source": [
    "test[4:5]"
   ]
  },
  {
   "cell_type": "code",
   "execution_count": 105,
   "metadata": {},
   "outputs": [],
   "source": [
    "## Warning this takes a long time to run\n",
    "merged['emoji_text']= merged['content'].apply(convert_emoji_list)"
   ]
  },
  {
   "cell_type": "code",
   "execution_count": 109,
   "metadata": {},
   "outputs": [
    {
     "data": {
      "text/plain": [
       "0                                []\n",
       "1                                []\n",
       "2                                []\n",
       "3                                []\n",
       "4             [flag: United States]\n",
       "5                                []\n",
       "6    [honeybee, honeybee, honeybee]\n",
       "7                                []\n",
       "8                                []\n",
       "9                                []\n",
       "Name: emoji_text, dtype: object"
      ]
     },
     "execution_count": 109,
     "metadata": {},
     "output_type": "execute_result"
    }
   ],
   "source": [
    "merged['emoji_text'][:10]"
   ]
  },
  {
   "cell_type": "markdown",
   "metadata": {},
   "source": [
    "**Feature: Emoji_count**"
   ]
  },
  {
   "cell_type": "code",
   "execution_count": 116,
   "metadata": {},
   "outputs": [
    {
     "data": {
      "text/html": [
       "<div>\n",
       "<style scoped>\n",
       "    .dataframe tbody tr th:only-of-type {\n",
       "        vertical-align: middle;\n",
       "    }\n",
       "\n",
       "    .dataframe tbody tr th {\n",
       "        vertical-align: top;\n",
       "    }\n",
       "\n",
       "    .dataframe thead th {\n",
       "        text-align: right;\n",
       "    }\n",
       "</style>\n",
       "<table border=\"1\" class=\"dataframe\">\n",
       "  <thead>\n",
       "    <tr style=\"text-align: right;\">\n",
       "      <th></th>\n",
       "      <th>external_author_id</th>\n",
       "      <th>author</th>\n",
       "      <th>content</th>\n",
       "      <th>region</th>\n",
       "      <th>language</th>\n",
       "      <th>publish_date</th>\n",
       "      <th>following</th>\n",
       "      <th>followers</th>\n",
       "      <th>updates</th>\n",
       "      <th>is_retweet</th>\n",
       "      <th>account_category</th>\n",
       "      <th>tweet_id</th>\n",
       "      <th>full_url</th>\n",
       "      <th>has_URL</th>\n",
       "      <th>emoji_text</th>\n",
       "    </tr>\n",
       "  </thead>\n",
       "  <tbody>\n",
       "    <tr>\n",
       "      <th>1373547</th>\n",
       "      <td>2533001646</td>\n",
       "      <td>JASPER_FLY</td>\n",
       "      <td>NaN</td>\n",
       "      <td>United States</td>\n",
       "      <td>English</td>\n",
       "      <td>2/20/2015 10:13</td>\n",
       "      <td>181</td>\n",
       "      <td>80</td>\n",
       "      <td>716</td>\n",
       "      <td>0</td>\n",
       "      <td>HashtagGamer</td>\n",
       "      <td>568715101466808320</td>\n",
       "      <td>NaN</td>\n",
       "      <td>1</td>\n",
       "      <td>None</td>\n",
       "    </tr>\n",
       "  </tbody>\n",
       "</table>\n",
       "</div>"
      ],
      "text/plain": [
       "        external_author_id      author content         region language  \\\n",
       "1373547         2533001646  JASPER_FLY     NaN  United States  English   \n",
       "\n",
       "            publish_date  following  followers  updates  is_retweet  \\\n",
       "1373547  2/20/2015 10:13        181         80      716           0   \n",
       "\n",
       "        account_category            tweet_id full_url  has_URL emoji_text  \n",
       "1373547     HashtagGamer  568715101466808320      NaN        1       None  "
      ]
     },
     "execution_count": 116,
     "metadata": {},
     "output_type": "execute_result"
    }
   ],
   "source": [
    "#Drop null content row\n",
    "merged[merged['emoji_text'].isna()]\n"
   ]
  },
  {
   "cell_type": "code",
   "execution_count": 121,
   "metadata": {},
   "outputs": [
    {
     "data": {
      "text/html": [
       "<div>\n",
       "<style scoped>\n",
       "    .dataframe tbody tr th:only-of-type {\n",
       "        vertical-align: middle;\n",
       "    }\n",
       "\n",
       "    .dataframe tbody tr th {\n",
       "        vertical-align: top;\n",
       "    }\n",
       "\n",
       "    .dataframe thead th {\n",
       "        text-align: right;\n",
       "    }\n",
       "</style>\n",
       "<table border=\"1\" class=\"dataframe\">\n",
       "  <thead>\n",
       "    <tr style=\"text-align: right;\">\n",
       "      <th></th>\n",
       "      <th>external_author_id</th>\n",
       "      <th>author</th>\n",
       "      <th>content</th>\n",
       "      <th>region</th>\n",
       "      <th>language</th>\n",
       "      <th>publish_date</th>\n",
       "      <th>following</th>\n",
       "      <th>followers</th>\n",
       "      <th>updates</th>\n",
       "      <th>is_retweet</th>\n",
       "      <th>account_category</th>\n",
       "      <th>tweet_id</th>\n",
       "      <th>full_url</th>\n",
       "      <th>has_URL</th>\n",
       "      <th>emoji_text</th>\n",
       "    </tr>\n",
       "  </thead>\n",
       "  <tbody>\n",
       "  </tbody>\n",
       "</table>\n",
       "</div>"
      ],
      "text/plain": [
       "Empty DataFrame\n",
       "Columns: [external_author_id, author, content, region, language, publish_date, following, followers, updates, is_retweet, account_category, tweet_id, full_url, has_URL, emoji_text]\n",
       "Index: []"
      ]
     },
     "execution_count": 121,
     "metadata": {},
     "output_type": "execute_result"
    }
   ],
   "source": [
    "merged = merged.dropna(subset=['content'])\n",
    "merged[merged['emoji_text'].isna()]"
   ]
  },
  {
   "cell_type": "code",
   "execution_count": 122,
   "metadata": {},
   "outputs": [
    {
     "name": "stderr",
     "output_type": "stream",
     "text": [
      "<ipython-input-122-cf82453dadeb>:2: SettingWithCopyWarning: \n",
      "A value is trying to be set on a copy of a slice from a DataFrame.\n",
      "Try using .loc[row_indexer,col_indexer] = value instead\n",
      "\n",
      "See the caveats in the documentation: https://pandas.pydata.org/pandas-docs/stable/user_guide/indexing.html#returning-a-view-versus-a-copy\n",
      "  merged['emoji_count']= merged['emoji_text'].apply(lambda x: len(x))\n"
     ]
    }
   ],
   "source": [
    "#add another feature column: # emojis used in tweet\n",
    "merged['emoji_count']= merged['emoji_text'].apply(lambda x: len(x))"
   ]
  },
  {
   "cell_type": "code",
   "execution_count": 124,
   "metadata": {},
   "outputs": [
    {
     "data": {
      "text/plain": [
       "count    2.610052e+06\n",
       "mean     4.487114e-02\n",
       "std      4.770693e-01\n",
       "min      0.000000e+00\n",
       "25%      0.000000e+00\n",
       "50%      0.000000e+00\n",
       "75%      0.000000e+00\n",
       "max      1.180000e+02\n",
       "Name: emoji_count, dtype: float64"
      ]
     },
     "execution_count": 124,
     "metadata": {},
     "output_type": "execute_result"
    }
   ],
   "source": [
    "merged['emoji_count'].describe()"
   ]
  },
  {
   "cell_type": "code",
   "execution_count": null,
   "metadata": {},
   "outputs": [],
   "source": [
    "#writing to csv for ease of retrieving later\n",
    "merged.to_csv(\"merged_dataset.csv\")"
   ]
  }
 ],
 "metadata": {
  "kernelspec": {
   "display_name": "Python 3",
   "language": "python",
   "name": "python3"
  },
  "language_info": {
   "codemirror_mode": {
    "name": "ipython",
    "version": 3
   },
   "file_extension": ".py",
   "mimetype": "text/x-python",
   "name": "python",
   "nbconvert_exporter": "python",
   "pygments_lexer": "ipython3",
   "version": "3.8.5"
  }
 },
 "nbformat": 4,
 "nbformat_minor": 4
}
