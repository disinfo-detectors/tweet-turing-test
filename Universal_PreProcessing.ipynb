{
 "cells": [
  {
   "cell_type": "markdown",
   "metadata": {},
   "source": [
    "# Universal Pre-processing Notebook"
   ]
  },
  {
   "cell_type": "markdown",
   "metadata": {},
   "source": [
    "This notebook shows the pre-processing steps for both datasets: \n",
    " - Russian Troll Dataset (Github)\n",
    " - Manually pulled Verified Tweets using the Twitter API Academic License\n",
    "\n",
    "Pre-processing is done separately due to the nature of the datasets and wanting to leave additional features available for EDA.\n",
    "\n",
    "This notebook assumes that the \"Merge_JSON\" notebook has already been run to generate a merged json file."
   ]
  },
  {
   "cell_type": "code",
   "execution_count": 13,
   "metadata": {},
   "outputs": [],
   "source": [
    "import pandas as pd \n",
    "import os\n",
    "import numpy as np\n",
    "import demoji\n",
    "import json"
   ]
  },
  {
   "cell_type": "markdown",
   "metadata": {},
   "source": [
    "## Troll Tweets CSV Pre-processing"
   ]
  },
  {
   "cell_type": "code",
   "execution_count": 7,
   "metadata": {},
   "outputs": [],
   "source": [
    "#os.getcwd()\n",
    "#os.chdir('/Users/katymatulay/Documents/Drexel - Grad School/07 Fall 2022/DSCI591/Capstone/data/')"
   ]
  },
  {
   "cell_type": "code",
   "execution_count": 8,
   "metadata": {},
   "outputs": [],
   "source": [
    "#load csv for troll dataset (old delete once new dataset is confirmed valid)\n",
    "#all_data=pd.read_csv(\"../data/all_tweets_encoded.csv\", encoding='UTF-8',low_memory=False)"
   ]
  },
  {
   "cell_type": "code",
   "execution_count": 16,
   "metadata": {},
   "outputs": [],
   "source": [
    "#load CSV for troll dataset (updated)\n",
    "all_data=pd.read_csv(\"../data/csv_snapshot.csv\", encoding='UTF-8',low_memory=False)"
   ]
  },
  {
   "cell_type": "code",
   "execution_count": 17,
   "metadata": {},
   "outputs": [
    {
     "data": {
      "text/plain": [
       "(2946207, 22)"
      ]
     },
     "execution_count": 17,
     "metadata": {},
     "output_type": "execute_result"
    }
   ],
   "source": [
    "all_data.shape"
   ]
  },
  {
   "cell_type": "code",
   "execution_count": 6,
   "metadata": {},
   "outputs": [
    {
     "data": {
      "text/html": [
       "<div>\n",
       "<style scoped>\n",
       "    .dataframe tbody tr th:only-of-type {\n",
       "        vertical-align: middle;\n",
       "    }\n",
       "\n",
       "    .dataframe tbody tr th {\n",
       "        vertical-align: top;\n",
       "    }\n",
       "\n",
       "    .dataframe thead th {\n",
       "        text-align: right;\n",
       "    }\n",
       "</style>\n",
       "<table border=\"1\" class=\"dataframe\">\n",
       "  <thead>\n",
       "    <tr style=\"text-align: right;\">\n",
       "      <th></th>\n",
       "      <th>Unnamed: 0</th>\n",
       "      <th>external_author_id</th>\n",
       "      <th>author</th>\n",
       "      <th>content</th>\n",
       "      <th>region</th>\n",
       "      <th>language</th>\n",
       "      <th>publish_date</th>\n",
       "      <th>harvested_date</th>\n",
       "      <th>following</th>\n",
       "      <th>followers</th>\n",
       "      <th>updates</th>\n",
       "      <th>post_type</th>\n",
       "      <th>account_type</th>\n",
       "      <th>retweet</th>\n",
       "      <th>account_category</th>\n",
       "      <th>new_june_2018</th>\n",
       "      <th>alt_external_id</th>\n",
       "      <th>tweet_id</th>\n",
       "      <th>article_url</th>\n",
       "      <th>tco1_step1</th>\n",
       "      <th>tco2_step1</th>\n",
       "      <th>tco3_step1</th>\n",
       "    </tr>\n",
       "  </thead>\n",
       "  <tbody>\n",
       "    <tr>\n",
       "      <th>0</th>\n",
       "      <td>0</td>\n",
       "      <td>906000000000000000</td>\n",
       "      <td>10_GOP</td>\n",
       "      <td>\"We have a sitting Democrat US Senator on tria...</td>\n",
       "      <td>Unknown</td>\n",
       "      <td>English</td>\n",
       "      <td>10/1/2017 19:58</td>\n",
       "      <td>10/1/2017 19:59</td>\n",
       "      <td>1052</td>\n",
       "      <td>9636</td>\n",
       "      <td>253</td>\n",
       "      <td>NaN</td>\n",
       "      <td>Right</td>\n",
       "      <td>0</td>\n",
       "      <td>RightTroll</td>\n",
       "      <td>0</td>\n",
       "      <td>905874659358453760</td>\n",
       "      <td>914580356430536707</td>\n",
       "      <td>http://twitter.com/905874659358453760/statuses...</td>\n",
       "      <td>https://twitter.com/10_gop/status/914580356430...</td>\n",
       "      <td>NaN</td>\n",
       "      <td>NaN</td>\n",
       "    </tr>\n",
       "  </tbody>\n",
       "</table>\n",
       "</div>"
      ],
      "text/plain": [
       "   Unnamed: 0  external_author_id  author  \\\n",
       "0           0  906000000000000000  10_GOP   \n",
       "\n",
       "                                             content   region language  \\\n",
       "0  \"We have a sitting Democrat US Senator on tria...  Unknown  English   \n",
       "\n",
       "      publish_date   harvested_date  following  followers  updates post_type  \\\n",
       "0  10/1/2017 19:58  10/1/2017 19:59       1052       9636      253       NaN   \n",
       "\n",
       "  account_type  retweet account_category  new_june_2018     alt_external_id  \\\n",
       "0        Right        0       RightTroll              0  905874659358453760   \n",
       "\n",
       "             tweet_id                                        article_url  \\\n",
       "0  914580356430536707  http://twitter.com/905874659358453760/statuses...   \n",
       "\n",
       "                                          tco1_step1 tco2_step1 tco3_step1  \n",
       "0  https://twitter.com/10_gop/status/914580356430...        NaN        NaN  "
      ]
     },
     "execution_count": 6,
     "metadata": {},
     "output_type": "execute_result"
    }
   ],
   "source": [
    "pd.set_option('display.max_columns', None)\n",
    "all_data.head(1)"
   ]
  },
  {
   "cell_type": "code",
   "execution_count": 90,
   "metadata": {},
   "outputs": [
    {
     "name": "stdout",
     "output_type": "stream",
     "text": [
      "<class 'pandas.core.frame.DataFrame'>\n",
      "RangeIndex: 2946207 entries, 0 to 2946206\n",
      "Data columns (total 22 columns):\n",
      " #   Column              Dtype \n",
      "---  ------              ----- \n",
      " 0   Unnamed: 0          int64 \n",
      " 1   external_author_id  object\n",
      " 2   author              object\n",
      " 3   content             object\n",
      " 4   region              object\n",
      " 5   language            object\n",
      " 6   publish_date        object\n",
      " 7   harvested_date      object\n",
      " 8   following           int64 \n",
      " 9   followers           int64 \n",
      " 10  updates             int64 \n",
      " 11  post_type           object\n",
      " 12  account_type        object\n",
      " 13  retweet             int64 \n",
      " 14  account_category    object\n",
      " 15  new_june_2018       int64 \n",
      " 16  alt_external_id     object\n",
      " 17  tweet_id            int64 \n",
      " 18  article_url         object\n",
      " 19  tco1_step1          object\n",
      " 20  tco2_step1          object\n",
      " 21  tco3_step1          object\n",
      "dtypes: int64(7), object(15)\n",
      "memory usage: 494.5+ MB\n"
     ]
    }
   ],
   "source": [
    "all_data.info()"
   ]
  },
  {
   "cell_type": "markdown",
   "metadata": {},
   "source": [
    "#### Step 1: Filter for English Language Tweets Only (for NLP model)"
   ]
  },
  {
   "cell_type": "code",
   "execution_count": 91,
   "metadata": {},
   "outputs": [
    {
     "data": {
      "text/plain": [
       "English                2116867\n",
       "Russian                 610943\n",
       "German                   86983\n",
       "Ukrainian                38669\n",
       "Italian                  18063\n",
       "Serbian                   9480\n",
       "Uzbek                     9334\n",
       "Bulgarian                 9236\n",
       "LANGUAGE UNDEFINED        8320\n",
       "Arabic                    7588\n",
       "Macedonian                5178\n",
       "French                    4562\n",
       "Spanish                   3011\n",
       "Norwegian                 2237\n",
       "Farsi (Persian)           1684\n",
       "Romanian                  1629\n",
       "Dutch                     1165\n",
       "Swedish                   1014\n",
       "Vietnamese                 982\n",
       "Estonian                   770\n",
       "Japanese                   764\n",
       "Catalan                    589\n",
       "Finnish                    579\n",
       "Albanian                   572\n",
       "Croatian                   544\n",
       "Icelandic                  498\n",
       "Pushto                     487\n",
       "Portuguese                 463\n",
       "Turkish                    445\n",
       "Lithuanian                 416\n",
       "Polish                     386\n",
       "Somali                     276\n",
       "Slovak                     260\n",
       "Tagalog (Filipino)         238\n",
       "Malay                      236\n",
       "Kurdish                    235\n",
       "Latvian                    219\n",
       "Hungarian                  191\n",
       "Greek                      186\n",
       "Czech                      182\n",
       "Indonesian                 168\n",
       "Korean                     106\n",
       "Danish                      91\n",
       "Hindi                       87\n",
       "Hebrew                      65\n",
       "Slovenian                   60\n",
       "Urdu                        58\n",
       "Thai                        38\n",
       "Simplified Chinese          21\n",
       "Traditional Chinese         11\n",
       "Tamil                        9\n",
       "Gujarati                     6\n",
       "Bengali                      2\n",
       "Telugu                       2\n",
       "Kannada                      1\n",
       "Malayalam                    1\n",
       "Name: language, dtype: int64"
      ]
     },
     "execution_count": 91,
     "metadata": {},
     "output_type": "execute_result"
    }
   ],
   "source": [
    "all_data.language.value_counts()"
   ]
  },
  {
   "cell_type": "code",
   "execution_count": 18,
   "metadata": {},
   "outputs": [],
   "source": [
    "English_tweets = all_data[all_data['language']=='English']"
   ]
  },
  {
   "cell_type": "code",
   "execution_count": 19,
   "metadata": {},
   "outputs": [],
   "source": [
    "cols_to_keep = ['external_author_id','author','content','region','language','publish_date','following','followers','updates',\n",
    "               'retweet','account_category','tweet_id','tco1_step1']"
   ]
  },
  {
   "cell_type": "code",
   "execution_count": 20,
   "metadata": {},
   "outputs": [],
   "source": [
    "English_tweets = English_tweets[cols_to_keep]"
   ]
  },
  {
   "cell_type": "code",
   "execution_count": 21,
   "metadata": {},
   "outputs": [
    {
     "data": {
      "text/plain": [
       "13"
      ]
     },
     "execution_count": 21,
     "metadata": {},
     "output_type": "execute_result"
    }
   ],
   "source": [
    "len(English_tweets.columns)"
   ]
  },
  {
   "cell_type": "code",
   "execution_count": 22,
   "metadata": {},
   "outputs": [],
   "source": [
    "#Rename columns to match JSON\n",
    "English_tweets = English_tweets.rename(columns={\"retweet\":\"is_retweet\", \"tco1_step1\":\"full_url\"})"
   ]
  },
  {
   "cell_type": "code",
   "execution_count": 23,
   "metadata": {},
   "outputs": [],
   "source": [
    "#add data_source column to denote \"troll\"\n",
    "English_tweets['data_source']= 'Troll'"
   ]
  },
  {
   "cell_type": "code",
   "execution_count": 24,
   "metadata": {},
   "outputs": [],
   "source": [
    "#write to file for ease of import later\n",
    "English_tweets.to_csv(\"../data/English_tweets.csv\")"
   ]
  },
  {
   "cell_type": "markdown",
   "metadata": {},
   "source": [
    "## JSON Tweets Pre-processing"
   ]
  },
  {
   "cell_type": "code",
   "execution_count": 15,
   "metadata": {},
   "outputs": [],
   "source": [
    "#load merged json dataset from Twitter API (delete once new JSON file is confirmed)\n",
    "with open('../data/tweet_master.json', encoding='UTF-8') as json_file:\n",
    "    tweet_master = json.load(json_file)"
   ]
  },
  {
   "cell_type": "code",
   "execution_count": null,
   "metadata": {},
   "outputs": [],
   "source": [
    "#load merged json dataset from Twitter API (too large, delete)\n",
    "#with open('../data/json_snapshot.json', encoding='UTF-8') as json_file:\n",
    "#    tweet_master = json.load(json_file)"
   ]
  },
  {
   "cell_type": "code",
   "execution_count": 25,
   "metadata": {},
   "outputs": [],
   "source": [
    "#convert json to pandas dataframe using normalize to flatten dict\n",
    "df= pd.json_normalize(tweet_master)"
   ]
  },
  {
   "cell_type": "markdown",
   "metadata": {},
   "source": [
    "### Step 1: Identify Relevant Cols"
   ]
  },
  {
   "cell_type": "code",
   "execution_count": 26,
   "metadata": {},
   "outputs": [
    {
     "data": {
      "text/plain": [
       "(493186, 57)"
      ]
     },
     "execution_count": 26,
     "metadata": {},
     "output_type": "execute_result"
    }
   ],
   "source": [
    "df.shape"
   ]
  },
  {
   "cell_type": "code",
   "execution_count": 20,
   "metadata": {},
   "outputs": [],
   "source": [
    "pd.set_option('display.max_columns', None)"
   ]
  },
  {
   "cell_type": "code",
   "execution_count": 27,
   "metadata": {},
   "outputs": [
    {
     "data": {
      "text/html": [
       "<div>\n",
       "<style scoped>\n",
       "    .dataframe tbody tr th:only-of-type {\n",
       "        vertical-align: middle;\n",
       "    }\n",
       "\n",
       "    .dataframe tbody tr th {\n",
       "        vertical-align: top;\n",
       "    }\n",
       "\n",
       "    .dataframe thead th {\n",
       "        text-align: right;\n",
       "    }\n",
       "</style>\n",
       "<table border=\"1\" class=\"dataframe\">\n",
       "  <thead>\n",
       "    <tr style=\"text-align: right;\">\n",
       "      <th></th>\n",
       "      <th>author_id</th>\n",
       "      <th>id</th>\n",
       "      <th>lang</th>\n",
       "      <th>conversation_id</th>\n",
       "      <th>edit_history_tweet_ids</th>\n",
       "      <th>reply_settings</th>\n",
       "      <th>created_at</th>\n",
       "      <th>context_annotations</th>\n",
       "      <th>source</th>\n",
       "      <th>text</th>\n",
       "      <th>...</th>\n",
       "      <th>author.entities.url.urls</th>\n",
       "      <th>author.entities.description.urls</th>\n",
       "      <th>author.url</th>\n",
       "      <th>author.location</th>\n",
       "      <th>author.entities.description.mentions</th>\n",
       "      <th>entities.cashtags</th>\n",
       "      <th>attachments.poll_ids</th>\n",
       "      <th>geo.coordinates.type</th>\n",
       "      <th>geo.coordinates.coordinates</th>\n",
       "      <th>author.entities.description.hashtags</th>\n",
       "    </tr>\n",
       "  </thead>\n",
       "  <tbody>\n",
       "    <tr>\n",
       "      <th>0</th>\n",
       "      <td>22203756</td>\n",
       "      <td>930982584649175047</td>\n",
       "      <td>en</td>\n",
       "      <td>930982584649175047</td>\n",
       "      <td>[930982584649175047]</td>\n",
       "      <td>everyone</td>\n",
       "      <td>2017-11-16T02:15:19.000Z</td>\n",
       "      <td>[{'domain': {'id': '10', 'name': 'Person', 'de...</td>\n",
       "      <td>Twitter for iPhone</td>\n",
       "      <td>Great meeting w/ GOP Govs at @The_RGA on @real...</td>\n",
       "      <td>...</td>\n",
       "      <td>NaN</td>\n",
       "      <td>NaN</td>\n",
       "      <td>NaN</td>\n",
       "      <td>NaN</td>\n",
       "      <td>NaN</td>\n",
       "      <td>NaN</td>\n",
       "      <td>NaN</td>\n",
       "      <td>NaN</td>\n",
       "      <td>NaN</td>\n",
       "      <td>NaN</td>\n",
       "    </tr>\n",
       "    <tr>\n",
       "      <th>1</th>\n",
       "      <td>22203756</td>\n",
       "      <td>930954564769124352</td>\n",
       "      <td>en</td>\n",
       "      <td>930954365334097921</td>\n",
       "      <td>[930954564769124352]</td>\n",
       "      <td>everyone</td>\n",
       "      <td>2017-11-16T00:23:59.000Z</td>\n",
       "      <td>[{'domain': {'id': '10', 'name': 'Person', 'de...</td>\n",
       "      <td>Twitter for iPhone</td>\n",
       "      <td>.@realdonaldtrump's vision for tax cuts will d...</td>\n",
       "      <td>...</td>\n",
       "      <td>NaN</td>\n",
       "      <td>NaN</td>\n",
       "      <td>NaN</td>\n",
       "      <td>NaN</td>\n",
       "      <td>NaN</td>\n",
       "      <td>NaN</td>\n",
       "      <td>NaN</td>\n",
       "      <td>NaN</td>\n",
       "      <td>NaN</td>\n",
       "      <td>NaN</td>\n",
       "    </tr>\n",
       "  </tbody>\n",
       "</table>\n",
       "<p>2 rows × 57 columns</p>\n",
       "</div>"
      ],
      "text/plain": [
       "  author_id                  id lang     conversation_id  \\\n",
       "0  22203756  930982584649175047   en  930982584649175047   \n",
       "1  22203756  930954564769124352   en  930954365334097921   \n",
       "\n",
       "  edit_history_tweet_ids reply_settings                created_at  \\\n",
       "0   [930982584649175047]       everyone  2017-11-16T02:15:19.000Z   \n",
       "1   [930954564769124352]       everyone  2017-11-16T00:23:59.000Z   \n",
       "\n",
       "                                 context_annotations              source  \\\n",
       "0  [{'domain': {'id': '10', 'name': 'Person', 'de...  Twitter for iPhone   \n",
       "1  [{'domain': {'id': '10', 'name': 'Person', 'de...  Twitter for iPhone   \n",
       "\n",
       "                                                text  ...  \\\n",
       "0  Great meeting w/ GOP Govs at @The_RGA on @real...  ...   \n",
       "1  .@realdonaldtrump's vision for tax cuts will d...  ...   \n",
       "\n",
       "   author.entities.url.urls author.entities.description.urls  author.url  \\\n",
       "0                       NaN                              NaN         NaN   \n",
       "1                       NaN                              NaN         NaN   \n",
       "\n",
       "   author.location author.entities.description.mentions entities.cashtags  \\\n",
       "0              NaN                                  NaN               NaN   \n",
       "1              NaN                                  NaN               NaN   \n",
       "\n",
       "  attachments.poll_ids geo.coordinates.type geo.coordinates.coordinates  \\\n",
       "0                  NaN                  NaN                         NaN   \n",
       "1                  NaN                  NaN                         NaN   \n",
       "\n",
       "  author.entities.description.hashtags  \n",
       "0                                  NaN  \n",
       "1                                  NaN  \n",
       "\n",
       "[2 rows x 57 columns]"
      ]
     },
     "execution_count": 27,
     "metadata": {},
     "output_type": "execute_result"
    }
   ],
   "source": [
    "df.head(2)"
   ]
  },
  {
   "cell_type": "code",
   "execution_count": 22,
   "metadata": {},
   "outputs": [
    {
     "data": {
      "text/plain": [
       "Index(['author_id', 'id', 'lang', 'conversation_id', 'edit_history_tweet_ids',\n",
       "       'reply_settings', 'created_at', 'context_annotations', 'source', 'text',\n",
       "       'possibly_sensitive', 'media', 'edit_controls.edits_remaining',\n",
       "       'edit_controls.is_edit_eligible', 'edit_controls.editable_until',\n",
       "       'attachments.media_keys', 'entities.annotations', 'entities.mentions',\n",
       "       'entities.urls', 'entities.hashtags', 'public_metrics.retweet_count',\n",
       "       'public_metrics.reply_count', 'public_metrics.like_count',\n",
       "       'public_metrics.quote_count', 'author.description',\n",
       "       'author.public_metrics.followers_count',\n",
       "       'author.public_metrics.following_count',\n",
       "       'author.public_metrics.tweet_count',\n",
       "       'author.public_metrics.listed_count', 'author.id', 'author.username',\n",
       "       'author.verified', 'author.created_at', 'author.name',\n",
       "       'author.pinned_tweet_id', 'author.profile_image_url',\n",
       "       'author.protected', 'in_reply_to_user_id', 'referenced_tweets',\n",
       "       'geo.country', 'geo.geo.type', 'geo.geo.bbox', 'geo.id',\n",
       "       'geo.country_code', 'geo.name', 'geo.place_type', 'geo.full_name',\n",
       "       'author.entities.url.urls', 'author.entities.description.urls',\n",
       "       'author.url', 'author.location', 'author.entities.description.mentions',\n",
       "       'entities.cashtags', 'attachments.poll_ids', 'geo.coordinates.type',\n",
       "       'geo.coordinates.coordinates', 'author.entities.description.hashtags'],\n",
       "      dtype='object')"
      ]
     },
     "execution_count": 22,
     "metadata": {},
     "output_type": "execute_result"
    }
   ],
   "source": [
    "df.columns"
   ]
  },
  {
   "cell_type": "code",
   "execution_count": 28,
   "metadata": {},
   "outputs": [
    {
     "data": {
      "text/plain": [
       "57"
      ]
     },
     "execution_count": 28,
     "metadata": {},
     "output_type": "execute_result"
    }
   ],
   "source": [
    "len(df.columns)"
   ]
  },
  {
   "cell_type": "markdown",
   "metadata": {},
   "source": [
    "#### Creating column lists: 1st for EDA and another for merging the datasets"
   ]
  },
  {
   "cell_type": "code",
   "execution_count": 29,
   "metadata": {},
   "outputs": [],
   "source": [
    "cols_keep_EDA = ['author_id','created_at','id','text','lang','author.location','author.name',\n",
    "             'public_metrics.retweet_count','public_metrics.reply_count','public_metrics.like_count',\n",
    "             'public_metrics.quote_count','author.username','author.public_metrics.followers_count',\n",
    "             'author.public_metrics.following_count','author.entities.url.urls','author.created_at',\n",
    "             'author.verified','context_annotations','entities.annotations','entities.mentions',\n",
    "             'entities.hashtags', 'entities.urls']"
   ]
  },
  {
   "cell_type": "code",
   "execution_count": 30,
   "metadata": {},
   "outputs": [],
   "source": [
    "df1 = df[cols_keep_EDA]"
   ]
  },
  {
   "cell_type": "code",
   "execution_count": 31,
   "metadata": {},
   "outputs": [
    {
     "data": {
      "text/plain": [
       "22"
      ]
     },
     "execution_count": 31,
     "metadata": {},
     "output_type": "execute_result"
    }
   ],
   "source": [
    "len(df1.columns)"
   ]
  },
  {
   "cell_type": "code",
   "execution_count": 32,
   "metadata": {},
   "outputs": [],
   "source": [
    "df1= df1.copy()"
   ]
  },
  {
   "cell_type": "markdown",
   "metadata": {},
   "source": [
    "### Step 2: Extract Feature Cols to match Troll Dataset Columns"
   ]
  },
  {
   "cell_type": "markdown",
   "metadata": {},
   "source": [
    "**Feature: Is_Retweet**"
   ]
  },
  {
   "cell_type": "code",
   "execution_count": 33,
   "metadata": {},
   "outputs": [],
   "source": [
    "#add new column with binary 1/0 if tweet is Retweet\n",
    "df1['is_retweet']= np.where(df1.text.str.startswith('RT @'),1,0)"
   ]
  },
  {
   "cell_type": "code",
   "execution_count": 34,
   "metadata": {},
   "outputs": [
    {
     "data": {
      "text/plain": [
       "0    409630\n",
       "1     83556\n",
       "Name: is_retweet, dtype: int64"
      ]
     },
     "execution_count": 34,
     "metadata": {},
     "output_type": "execute_result"
    }
   ],
   "source": [
    "df1['is_retweet'].value_counts()"
   ]
  },
  {
   "cell_type": "markdown",
   "metadata": {},
   "source": [
    "**Feature: Updates**"
   ]
  },
  {
   "cell_type": "code",
   "execution_count": 36,
   "metadata": {},
   "outputs": [],
   "source": [
    "#cols to add together to match the main dataset column \"updates\"\n",
    "update_cols = ['public_metrics.retweet_count',\n",
    "       'public_metrics.reply_count', 'public_metrics.like_count',\n",
    "       'public_metrics.quote_count']"
   ]
  },
  {
   "cell_type": "code",
   "execution_count": 37,
   "metadata": {},
   "outputs": [],
   "source": [
    "df1['updates']= df1[update_cols].sum(axis=1)"
   ]
  },
  {
   "cell_type": "code",
   "execution_count": 38,
   "metadata": {},
   "outputs": [
    {
     "data": {
      "text/plain": [
       "count    4.931860e+05\n",
       "mean     5.865469e+02\n",
       "std      1.469165e+04\n",
       "min      0.000000e+00\n",
       "25%      1.000000e+01\n",
       "50%      4.500000e+01\n",
       "75%      1.430000e+02\n",
       "max      5.732199e+06\n",
       "Name: updates, dtype: float64"
      ]
     },
     "execution_count": 38,
     "metadata": {},
     "output_type": "execute_result"
    }
   ],
   "source": [
    "df1['updates'].describe()"
   ]
  },
  {
   "cell_type": "markdown",
   "metadata": {},
   "source": [
    "**Feature: account_category**"
   ]
  },
  {
   "cell_type": "code",
   "execution_count": 39,
   "metadata": {},
   "outputs": [],
   "source": [
    "#add Account_type column to represent verified account\n",
    "df1['account_category']= df1['author.verified'].apply(lambda x: 'Verified_User' if True else 0)"
   ]
  },
  {
   "cell_type": "code",
   "execution_count": 40,
   "metadata": {},
   "outputs": [
    {
     "data": {
      "text/plain": [
       "Verified_User    493186\n",
       "Name: account_category, dtype: int64"
      ]
     },
     "execution_count": 40,
     "metadata": {},
     "output_type": "execute_result"
    }
   ],
   "source": [
    "df1['account_category'].value_counts()"
   ]
  },
  {
   "cell_type": "markdown",
   "metadata": {},
   "source": [
    "**Feature: data_source**"
   ]
  },
  {
   "cell_type": "code",
   "execution_count": 41,
   "metadata": {},
   "outputs": [],
   "source": [
    "#delete later if handled in 01_merge\n",
    "df1['data_source'] = 'Verified_User'"
   ]
  },
  {
   "cell_type": "code",
   "execution_count": 42,
   "metadata": {},
   "outputs": [
    {
     "data": {
      "text/plain": [
       "Verified_User    493186\n",
       "Name: data_source, dtype: int64"
      ]
     },
     "execution_count": 42,
     "metadata": {},
     "output_type": "execute_result"
    }
   ],
   "source": [
    "df1['data_source'].value_counts()"
   ]
  },
  {
   "cell_type": "markdown",
   "metadata": {},
   "source": [
    "### Step 3: Column updates"
   ]
  },
  {
   "cell_type": "code",
   "execution_count": 43,
   "metadata": {},
   "outputs": [],
   "source": [
    "## change column names to match original dataset for merging\n",
    "df2=df1.rename(columns={\"author_id\": \"external_author_id\", \"created_at\": \"publish_date\", \"text\": \"content\",\n",
    "                  \"lang\": \"language\", \"author.location\":\"region\", \"author.username\":\"author\",\n",
    "                  \"author.name\":\"full_name\",\"author.public_metrics.followers_count\": \"followers\",\n",
    "                  \"author.public_metrics.following_count\": \"following\",\n",
    "                  \"id\": \"tweet_id\",\"entities.urls\":\"full_url\"}, errors=\"raise\")"
   ]
  },
  {
   "cell_type": "code",
   "execution_count": 44,
   "metadata": {},
   "outputs": [
    {
     "data": {
      "text/plain": [
       "Index(['external_author_id', 'publish_date', 'tweet_id', 'content', 'language',\n",
       "       'region', 'full_name', 'public_metrics.retweet_count',\n",
       "       'public_metrics.reply_count', 'public_metrics.like_count',\n",
       "       'public_metrics.quote_count', 'author', 'followers', 'following',\n",
       "       'author.entities.url.urls', 'author.created_at', 'author.verified',\n",
       "       'context_annotations', 'entities.annotations', 'entities.mentions',\n",
       "       'entities.hashtags', 'full_url', 'is_retweet', 'updates',\n",
       "       'account_category', 'data_source'],\n",
       "      dtype='object')"
      ]
     },
     "execution_count": 44,
     "metadata": {},
     "output_type": "execute_result"
    }
   ],
   "source": [
    "df2.columns"
   ]
  },
  {
   "cell_type": "code",
   "execution_count": 45,
   "metadata": {},
   "outputs": [],
   "source": [
    "#drop columns for merging\n",
    "df3= df2.drop(columns=['public_metrics.retweet_count',\n",
    "       'public_metrics.reply_count', 'public_metrics.like_count',\n",
    "       'public_metrics.quote_count','author.entities.url.urls', 'author.created_at', 'author.verified',\n",
    "       'context_annotations', 'entities.annotations', 'entities.mentions',\n",
    "       'entities.hashtags','full_name'])"
   ]
  },
  {
   "cell_type": "code",
   "execution_count": 73,
   "metadata": {},
   "outputs": [
    {
     "data": {
      "text/plain": [
       "Index(['external_author_id', 'publish_date', 'tweet_id', 'content', 'language',\n",
       "       'region', 'author', 'followers', 'following', 'full_url', 'is_retweet',\n",
       "       'updates', 'account_category', 'data_source'],\n",
       "      dtype='object')"
      ]
     },
     "execution_count": 73,
     "metadata": {},
     "output_type": "execute_result"
    }
   ],
   "source": [
    "df3.columns"
   ]
  },
  {
   "cell_type": "code",
   "execution_count": 47,
   "metadata": {},
   "outputs": [
    {
     "data": {
      "text/plain": [
       "14"
      ]
     },
     "execution_count": 47,
     "metadata": {},
     "output_type": "execute_result"
    }
   ],
   "source": [
    "len(df3.columns)"
   ]
  },
  {
   "cell_type": "code",
   "execution_count": 48,
   "metadata": {},
   "outputs": [],
   "source": [
    "#DELETE after changing data source for JSON\n",
    "#grab list of users from verified users\n",
    "user_list = df3['author'].unique()"
   ]
  },
  {
   "cell_type": "code",
   "execution_count": 49,
   "metadata": {},
   "outputs": [
    {
     "name": "stdout",
     "output_type": "stream",
     "text": [
      "['Mike_Pence' 'nytimes' 'TIME' 'thehill' 'business' 'Forbes' 'csmonitor'\n",
      " 'TheAtlantic' 'WSJ' 'AP' 'BBCWorld' 'abcnews' 'propublica' 'USATODAY'\n",
      " 'Newsweek' 'NPR' 'Reuters' 'FoxBusiness' 'TheIJR' 'RealClearNews'\n",
      " 'CondoleezzaRice' 'USArmy' 'smithsonian' 'DeptofDefense' 'USDA' 'fema'\n",
      " 'FCC' 'USGS' 'PeaceCorps' 'MittRomney' 'DonaldJTrumpJr' 'BarackObama'\n",
      " 'elonmusk' 'HillaryClinton' 'AskTSA' 'NASA' 'NSF' 'librarycongress'\n",
      " 'HHSGov' 'FBI' 'StateDept' 'NIH' 'CDCgov' 'US_FDA' 'TheJusticeDept'\n",
      " 'SarahPalinUSA' 'axios' 'BillGates' 'MichelleObama'] 49\n"
     ]
    }
   ],
   "source": [
    "#DELETE after changing data source for JSON\n",
    "print(user_list, len(user_list))"
   ]
  },
  {
   "cell_type": "code",
   "execution_count": 50,
   "metadata": {},
   "outputs": [
    {
     "data": {
      "text/plain": [
       "True"
      ]
     },
     "execution_count": 50,
     "metadata": {},
     "output_type": "execute_result"
    }
   ],
   "source": [
    "#validate that columns match between datasets\n",
    "sorted(English_tweets.columns) == sorted(df3.columns)"
   ]
  },
  {
   "cell_type": "markdown",
   "metadata": {},
   "source": [
    "### Step 4: Merging the two datasets"
   ]
  },
  {
   "cell_type": "code",
   "execution_count": 51,
   "metadata": {},
   "outputs": [
    {
     "data": {
      "text/html": [
       "<div>\n",
       "<style scoped>\n",
       "    .dataframe tbody tr th:only-of-type {\n",
       "        vertical-align: middle;\n",
       "    }\n",
       "\n",
       "    .dataframe tbody tr th {\n",
       "        vertical-align: top;\n",
       "    }\n",
       "\n",
       "    .dataframe thead th {\n",
       "        text-align: right;\n",
       "    }\n",
       "</style>\n",
       "<table border=\"1\" class=\"dataframe\">\n",
       "  <thead>\n",
       "    <tr style=\"text-align: right;\">\n",
       "      <th></th>\n",
       "      <th>external_author_id</th>\n",
       "      <th>author</th>\n",
       "      <th>content</th>\n",
       "      <th>region</th>\n",
       "      <th>language</th>\n",
       "      <th>publish_date</th>\n",
       "      <th>following</th>\n",
       "      <th>followers</th>\n",
       "      <th>updates</th>\n",
       "      <th>is_retweet</th>\n",
       "      <th>account_category</th>\n",
       "      <th>tweet_id</th>\n",
       "      <th>full_url</th>\n",
       "      <th>data_source</th>\n",
       "    </tr>\n",
       "  </thead>\n",
       "  <tbody>\n",
       "    <tr>\n",
       "      <th>0</th>\n",
       "      <td>906000000000000000</td>\n",
       "      <td>10_GOP</td>\n",
       "      <td>\"We have a sitting Democrat US Senator on tria...</td>\n",
       "      <td>Unknown</td>\n",
       "      <td>English</td>\n",
       "      <td>10/1/2017 19:58</td>\n",
       "      <td>1052</td>\n",
       "      <td>9636</td>\n",
       "      <td>253</td>\n",
       "      <td>0</td>\n",
       "      <td>RightTroll</td>\n",
       "      <td>914580356430536707</td>\n",
       "      <td>https://twitter.com/10_gop/status/914580356430...</td>\n",
       "      <td>Troll</td>\n",
       "    </tr>\n",
       "    <tr>\n",
       "      <th>1</th>\n",
       "      <td>906000000000000000</td>\n",
       "      <td>10_GOP</td>\n",
       "      <td>Marshawn Lynch arrives to game in anti-Trump s...</td>\n",
       "      <td>Unknown</td>\n",
       "      <td>English</td>\n",
       "      <td>10/1/2017 22:43</td>\n",
       "      <td>1054</td>\n",
       "      <td>9637</td>\n",
       "      <td>254</td>\n",
       "      <td>0</td>\n",
       "      <td>RightTroll</td>\n",
       "      <td>914621840496189440</td>\n",
       "      <td>https://twitter.com/damienwoody/status/9145685...</td>\n",
       "      <td>Troll</td>\n",
       "    </tr>\n",
       "    <tr>\n",
       "      <th>2</th>\n",
       "      <td>906000000000000000</td>\n",
       "      <td>10_GOP</td>\n",
       "      <td>Daughter of fallen Navy Sailor delivers powerf...</td>\n",
       "      <td>Unknown</td>\n",
       "      <td>English</td>\n",
       "      <td>10/1/2017 22:50</td>\n",
       "      <td>1054</td>\n",
       "      <td>9637</td>\n",
       "      <td>255</td>\n",
       "      <td>1</td>\n",
       "      <td>RightTroll</td>\n",
       "      <td>914623490375979008</td>\n",
       "      <td>https://twitter.com/10_gop/status/913231923715...</td>\n",
       "      <td>Troll</td>\n",
       "    </tr>\n",
       "    <tr>\n",
       "      <th>3</th>\n",
       "      <td>906000000000000000</td>\n",
       "      <td>10_GOP</td>\n",
       "      <td>JUST IN: President Trump dedicates Presidents ...</td>\n",
       "      <td>Unknown</td>\n",
       "      <td>English</td>\n",
       "      <td>10/1/2017 23:52</td>\n",
       "      <td>1062</td>\n",
       "      <td>9642</td>\n",
       "      <td>256</td>\n",
       "      <td>0</td>\n",
       "      <td>RightTroll</td>\n",
       "      <td>914639143690555392</td>\n",
       "      <td>https://twitter.com/10_gop/status/914639143690...</td>\n",
       "      <td>Troll</td>\n",
       "    </tr>\n",
       "    <tr>\n",
       "      <th>4</th>\n",
       "      <td>906000000000000000</td>\n",
       "      <td>10_GOP</td>\n",
       "      <td>19,000 RESPECTING our National Anthem! #StandF...</td>\n",
       "      <td>Unknown</td>\n",
       "      <td>English</td>\n",
       "      <td>10/1/2017 2:13</td>\n",
       "      <td>1050</td>\n",
       "      <td>9645</td>\n",
       "      <td>246</td>\n",
       "      <td>1</td>\n",
       "      <td>RightTroll</td>\n",
       "      <td>914312219952861184</td>\n",
       "      <td>https://twitter.com/realDonaldTrump/status/914...</td>\n",
       "      <td>Troll</td>\n",
       "    </tr>\n",
       "  </tbody>\n",
       "</table>\n",
       "</div>"
      ],
      "text/plain": [
       "   external_author_id  author  \\\n",
       "0  906000000000000000  10_GOP   \n",
       "1  906000000000000000  10_GOP   \n",
       "2  906000000000000000  10_GOP   \n",
       "3  906000000000000000  10_GOP   \n",
       "4  906000000000000000  10_GOP   \n",
       "\n",
       "                                             content   region language  \\\n",
       "0  \"We have a sitting Democrat US Senator on tria...  Unknown  English   \n",
       "1  Marshawn Lynch arrives to game in anti-Trump s...  Unknown  English   \n",
       "2  Daughter of fallen Navy Sailor delivers powerf...  Unknown  English   \n",
       "3  JUST IN: President Trump dedicates Presidents ...  Unknown  English   \n",
       "4  19,000 RESPECTING our National Anthem! #StandF...  Unknown  English   \n",
       "\n",
       "      publish_date  following  followers  updates  is_retweet  \\\n",
       "0  10/1/2017 19:58       1052       9636      253           0   \n",
       "1  10/1/2017 22:43       1054       9637      254           0   \n",
       "2  10/1/2017 22:50       1054       9637      255           1   \n",
       "3  10/1/2017 23:52       1062       9642      256           0   \n",
       "4   10/1/2017 2:13       1050       9645      246           1   \n",
       "\n",
       "  account_category            tweet_id  \\\n",
       "0       RightTroll  914580356430536707   \n",
       "1       RightTroll  914621840496189440   \n",
       "2       RightTroll  914623490375979008   \n",
       "3       RightTroll  914639143690555392   \n",
       "4       RightTroll  914312219952861184   \n",
       "\n",
       "                                            full_url data_source  \n",
       "0  https://twitter.com/10_gop/status/914580356430...       Troll  \n",
       "1  https://twitter.com/damienwoody/status/9145685...       Troll  \n",
       "2  https://twitter.com/10_gop/status/913231923715...       Troll  \n",
       "3  https://twitter.com/10_gop/status/914639143690...       Troll  \n",
       "4  https://twitter.com/realDonaldTrump/status/914...       Troll  "
      ]
     },
     "execution_count": 51,
     "metadata": {},
     "output_type": "execute_result"
    }
   ],
   "source": [
    "merged = pd.concat([English_tweets,df3], axis=0)\n",
    "merged.head()"
   ]
  },
  {
   "cell_type": "code",
   "execution_count": 72,
   "metadata": {},
   "outputs": [
    {
     "data": {
      "text/plain": [
       "(2610053, 14)"
      ]
     },
     "execution_count": 72,
     "metadata": {},
     "output_type": "execute_result"
    }
   ],
   "source": [
    "merged.shape"
   ]
  },
  {
   "cell_type": "markdown",
   "metadata": {},
   "source": [
    "## Merged DF Pre-Processing"
   ]
  },
  {
   "cell_type": "markdown",
   "metadata": {},
   "source": [
    "### Step 1: Add new features"
   ]
  },
  {
   "cell_type": "markdown",
   "metadata": {},
   "source": [
    "**Feature: has_URL**"
   ]
  },
  {
   "cell_type": "code",
   "execution_count": 54,
   "metadata": {},
   "outputs": [],
   "source": [
    "#Extract hyperlink from text\n",
    "#add new column with binary 1/0 if tweet is Retweet\n",
    "merged['has_URL']= np.where(merged.content.str.contains('http'),1,0)"
   ]
  },
  {
   "cell_type": "code",
   "execution_count": 55,
   "metadata": {},
   "outputs": [
    {
     "data": {
      "text/plain": [
       "1    1765935\n",
       "0     844118\n",
       "Name: has_URL, dtype: int64"
      ]
     },
     "execution_count": 55,
     "metadata": {},
     "output_type": "execute_result"
    }
   ],
   "source": [
    "merged.has_URL.value_counts()"
   ]
  },
  {
   "cell_type": "markdown",
   "metadata": {},
   "source": [
    "**Feature: Emoji_text**"
   ]
  },
  {
   "cell_type": "code",
   "execution_count": 56,
   "metadata": {},
   "outputs": [],
   "source": [
    "''' The following converts a text string with emojis into a list of descriptive text strings.\n",
    "    Duplicate emojis are captured as each emoji converts to 1 text string.'''\n",
    "def convert_emoji_list(x):\n",
    "    lst=[]\n",
    "    estring = ''\n",
    "    import demoji\n",
    "    import numpy as np\n",
    "    if x is not np.nan:\n",
    "        #extract list of text from demoji func\n",
    "        lst = demoji.findall_list(x)\n",
    "        if len(lst)<0:\n",
    "            return np.nan\n",
    "     \n",
    "        else:\n",
    "            return(lst)"
   ]
  },
  {
   "cell_type": "code",
   "execution_count": 76,
   "metadata": {},
   "outputs": [
    {
     "name": "stderr",
     "output_type": "stream",
     "text": [
      "<ipython-input-76-d9e0eebb0ff4>:3: SettingWithCopyWarning: \n",
      "A value is trying to be set on a copy of a slice from a DataFrame.\n",
      "Try using .loc[row_indexer,col_indexer] = value instead\n",
      "\n",
      "See the caveats in the documentation: https://pandas.pydata.org/pandas-docs/stable/user_guide/indexing.html#returning-a-view-versus-a-copy\n",
      "  test['emoji_text']= test['content'].apply(convert_emoji_list)\n"
     ]
    }
   ],
   "source": [
    "# TEST FUNCTION FIRST\n",
    "test = merged[:5]\n",
    "test['emoji_text']= test['content'].apply(convert_emoji_list)"
   ]
  },
  {
   "cell_type": "code",
   "execution_count": 77,
   "metadata": {},
   "outputs": [
    {
     "data": {
      "text/html": [
       "<div>\n",
       "<style scoped>\n",
       "    .dataframe tbody tr th:only-of-type {\n",
       "        vertical-align: middle;\n",
       "    }\n",
       "\n",
       "    .dataframe tbody tr th {\n",
       "        vertical-align: top;\n",
       "    }\n",
       "\n",
       "    .dataframe thead th {\n",
       "        text-align: right;\n",
       "    }\n",
       "</style>\n",
       "<table border=\"1\" class=\"dataframe\">\n",
       "  <thead>\n",
       "    <tr style=\"text-align: right;\">\n",
       "      <th></th>\n",
       "      <th>external_author_id</th>\n",
       "      <th>author</th>\n",
       "      <th>content</th>\n",
       "      <th>region</th>\n",
       "      <th>language</th>\n",
       "      <th>publish_date</th>\n",
       "      <th>following</th>\n",
       "      <th>followers</th>\n",
       "      <th>updates</th>\n",
       "      <th>is_retweet</th>\n",
       "      <th>account_category</th>\n",
       "      <th>tweet_id</th>\n",
       "      <th>full_url</th>\n",
       "      <th>data_source</th>\n",
       "      <th>has_URL</th>\n",
       "      <th>emoji_text</th>\n",
       "    </tr>\n",
       "  </thead>\n",
       "  <tbody>\n",
       "    <tr>\n",
       "      <th>4</th>\n",
       "      <td>906000000000000000</td>\n",
       "      <td>10_GOP</td>\n",
       "      <td>19,000 RESPECTING our National Anthem! #StandF...</td>\n",
       "      <td>Unknown</td>\n",
       "      <td>English</td>\n",
       "      <td>10/1/2017 2:13</td>\n",
       "      <td>1050</td>\n",
       "      <td>9645</td>\n",
       "      <td>246</td>\n",
       "      <td>1</td>\n",
       "      <td>RightTroll</td>\n",
       "      <td>914312219952861184</td>\n",
       "      <td>https://twitter.com/realDonaldTrump/status/914...</td>\n",
       "      <td>Troll</td>\n",
       "      <td>1</td>\n",
       "      <td>[flag: United States]</td>\n",
       "    </tr>\n",
       "  </tbody>\n",
       "</table>\n",
       "</div>"
      ],
      "text/plain": [
       "   external_author_id  author  \\\n",
       "4  906000000000000000  10_GOP   \n",
       "\n",
       "                                             content   region language  \\\n",
       "4  19,000 RESPECTING our National Anthem! #StandF...  Unknown  English   \n",
       "\n",
       "     publish_date  following  followers  updates  is_retweet account_category  \\\n",
       "4  10/1/2017 2:13       1050       9645      246           1       RightTroll   \n",
       "\n",
       "             tweet_id                                           full_url  \\\n",
       "4  914312219952861184  https://twitter.com/realDonaldTrump/status/914...   \n",
       "\n",
       "  data_source  has_URL             emoji_text  \n",
       "4       Troll        1  [flag: United States]  "
      ]
     },
     "execution_count": 77,
     "metadata": {},
     "output_type": "execute_result"
    }
   ],
   "source": [
    "test[4:5]"
   ]
  },
  {
   "cell_type": "code",
   "execution_count": 57,
   "metadata": {},
   "outputs": [
    {
     "data": {
      "text/plain": [
       "1"
      ]
     },
     "execution_count": 57,
     "metadata": {},
     "output_type": "execute_result"
    }
   ],
   "source": [
    "#Delete null tweets\n",
    "merged['content'].isnull().sum()"
   ]
  },
  {
   "cell_type": "code",
   "execution_count": 58,
   "metadata": {},
   "outputs": [],
   "source": [
    "merged = merged.dropna(subset=['content'])"
   ]
  },
  {
   "cell_type": "code",
   "execution_count": 60,
   "metadata": {},
   "outputs": [],
   "source": [
    "## Warning this takes a long time to run\n",
    "merged['emoji_text']= merged['content'].apply(convert_emoji_list)"
   ]
  },
  {
   "cell_type": "code",
   "execution_count": 61,
   "metadata": {},
   "outputs": [
    {
     "data": {
      "text/plain": [
       "0                                []\n",
       "1                                []\n",
       "2                                []\n",
       "3                                []\n",
       "4             [flag: United States]\n",
       "5                                []\n",
       "6    [honeybee, honeybee, honeybee]\n",
       "7                                []\n",
       "8                                []\n",
       "9                                []\n",
       "Name: emoji_text, dtype: object"
      ]
     },
     "execution_count": 61,
     "metadata": {},
     "output_type": "execute_result"
    }
   ],
   "source": [
    "merged['emoji_text'][:10]"
   ]
  },
  {
   "cell_type": "markdown",
   "metadata": {},
   "source": [
    "**Feature: Emoji_count**"
   ]
  },
  {
   "cell_type": "code",
   "execution_count": 65,
   "metadata": {},
   "outputs": [],
   "source": [
    "#add another feature column: # emojis used in tweet\n",
    "merged['emoji_count']= merged['emoji_text'].apply(lambda x: len(x))"
   ]
  },
  {
   "cell_type": "code",
   "execution_count": 66,
   "metadata": {},
   "outputs": [
    {
     "data": {
      "text/plain": [
       "count    2.610052e+06\n",
       "mean     4.487114e-02\n",
       "std      4.770693e-01\n",
       "min      0.000000e+00\n",
       "25%      0.000000e+00\n",
       "50%      0.000000e+00\n",
       "75%      0.000000e+00\n",
       "max      1.180000e+02\n",
       "Name: emoji_count, dtype: float64"
      ]
     },
     "execution_count": 66,
     "metadata": {},
     "output_type": "execute_result"
    }
   ],
   "source": [
    "merged['emoji_count'].describe()"
   ]
  },
  {
   "cell_type": "code",
   "execution_count": 69,
   "metadata": {},
   "outputs": [
    {
     "data": {
      "text/plain": [
       "118"
      ]
     },
     "execution_count": 69,
     "metadata": {},
     "output_type": "execute_result"
    }
   ],
   "source": [
    "merged['emoji_count'].max()"
   ]
  },
  {
   "cell_type": "code",
   "execution_count": 70,
   "metadata": {},
   "outputs": [
    {
     "data": {
      "text/plain": [
       "Index(['external_author_id', 'author', 'content', 'region', 'language',\n",
       "       'publish_date', 'following', 'followers', 'updates', 'is_retweet',\n",
       "       'account_category', 'tweet_id', 'full_url', 'data_source', 'has_URL',\n",
       "       'emoji_text', 'emoji_count'],\n",
       "      dtype='object')"
      ]
     },
     "execution_count": 70,
     "metadata": {},
     "output_type": "execute_result"
    }
   ],
   "source": [
    "merged.columns"
   ]
  },
  {
   "cell_type": "code",
   "execution_count": 82,
   "metadata": {},
   "outputs": [
    {
     "data": {
      "text/plain": [
       "'/Users/katymatulay/Documents/Drexel - Grad School/07 Fall 2022/DSCI591/Capstone/data'"
      ]
     },
     "execution_count": 82,
     "metadata": {},
     "output_type": "execute_result"
    }
   ],
   "source": [
    "os.getcwd()"
   ]
  },
  {
   "cell_type": "code",
   "execution_count": 72,
   "metadata": {},
   "outputs": [
    {
     "data": {
      "text/html": [
       "<div>\n",
       "<style scoped>\n",
       "    .dataframe tbody tr th:only-of-type {\n",
       "        vertical-align: middle;\n",
       "    }\n",
       "\n",
       "    .dataframe tbody tr th {\n",
       "        vertical-align: top;\n",
       "    }\n",
       "\n",
       "    .dataframe thead th {\n",
       "        text-align: right;\n",
       "    }\n",
       "</style>\n",
       "<table border=\"1\" class=\"dataframe\">\n",
       "  <thead>\n",
       "    <tr style=\"text-align: right;\">\n",
       "      <th></th>\n",
       "      <th>external_author_id</th>\n",
       "      <th>author</th>\n",
       "      <th>content</th>\n",
       "      <th>region</th>\n",
       "      <th>language</th>\n",
       "      <th>publish_date</th>\n",
       "      <th>following</th>\n",
       "      <th>followers</th>\n",
       "      <th>updates</th>\n",
       "      <th>is_retweet</th>\n",
       "      <th>account_category</th>\n",
       "      <th>tweet_id</th>\n",
       "      <th>full_url</th>\n",
       "      <th>data_source</th>\n",
       "      <th>has_URL</th>\n",
       "      <th>emoji_text</th>\n",
       "      <th>emoji_count</th>\n",
       "    </tr>\n",
       "  </thead>\n",
       "  <tbody>\n",
       "    <tr>\n",
       "      <th>0</th>\n",
       "      <td>906000000000000000</td>\n",
       "      <td>10_GOP</td>\n",
       "      <td>\"We have a sitting Democrat US Senator on tria...</td>\n",
       "      <td>Unknown</td>\n",
       "      <td>English</td>\n",
       "      <td>10/1/2017 19:58</td>\n",
       "      <td>1052</td>\n",
       "      <td>9636</td>\n",
       "      <td>253</td>\n",
       "      <td>0</td>\n",
       "      <td>RightTroll</td>\n",
       "      <td>914580356430536707</td>\n",
       "      <td>https://twitter.com/10_gop/status/914580356430...</td>\n",
       "      <td>Troll</td>\n",
       "      <td>1</td>\n",
       "      <td>[]</td>\n",
       "      <td>0</td>\n",
       "    </tr>\n",
       "    <tr>\n",
       "      <th>1</th>\n",
       "      <td>906000000000000000</td>\n",
       "      <td>10_GOP</td>\n",
       "      <td>Marshawn Lynch arrives to game in anti-Trump s...</td>\n",
       "      <td>Unknown</td>\n",
       "      <td>English</td>\n",
       "      <td>10/1/2017 22:43</td>\n",
       "      <td>1054</td>\n",
       "      <td>9637</td>\n",
       "      <td>254</td>\n",
       "      <td>0</td>\n",
       "      <td>RightTroll</td>\n",
       "      <td>914621840496189440</td>\n",
       "      <td>https://twitter.com/damienwoody/status/9145685...</td>\n",
       "      <td>Troll</td>\n",
       "      <td>1</td>\n",
       "      <td>[]</td>\n",
       "      <td>0</td>\n",
       "    </tr>\n",
       "    <tr>\n",
       "      <th>2</th>\n",
       "      <td>906000000000000000</td>\n",
       "      <td>10_GOP</td>\n",
       "      <td>Daughter of fallen Navy Sailor delivers powerf...</td>\n",
       "      <td>Unknown</td>\n",
       "      <td>English</td>\n",
       "      <td>10/1/2017 22:50</td>\n",
       "      <td>1054</td>\n",
       "      <td>9637</td>\n",
       "      <td>255</td>\n",
       "      <td>1</td>\n",
       "      <td>RightTroll</td>\n",
       "      <td>914623490375979008</td>\n",
       "      <td>https://twitter.com/10_gop/status/913231923715...</td>\n",
       "      <td>Troll</td>\n",
       "      <td>1</td>\n",
       "      <td>[]</td>\n",
       "      <td>0</td>\n",
       "    </tr>\n",
       "    <tr>\n",
       "      <th>3</th>\n",
       "      <td>906000000000000000</td>\n",
       "      <td>10_GOP</td>\n",
       "      <td>JUST IN: President Trump dedicates Presidents ...</td>\n",
       "      <td>Unknown</td>\n",
       "      <td>English</td>\n",
       "      <td>10/1/2017 23:52</td>\n",
       "      <td>1062</td>\n",
       "      <td>9642</td>\n",
       "      <td>256</td>\n",
       "      <td>0</td>\n",
       "      <td>RightTroll</td>\n",
       "      <td>914639143690555392</td>\n",
       "      <td>https://twitter.com/10_gop/status/914639143690...</td>\n",
       "      <td>Troll</td>\n",
       "      <td>1</td>\n",
       "      <td>[]</td>\n",
       "      <td>0</td>\n",
       "    </tr>\n",
       "    <tr>\n",
       "      <th>4</th>\n",
       "      <td>906000000000000000</td>\n",
       "      <td>10_GOP</td>\n",
       "      <td>19,000 RESPECTING our National Anthem! #StandF...</td>\n",
       "      <td>Unknown</td>\n",
       "      <td>English</td>\n",
       "      <td>10/1/2017 2:13</td>\n",
       "      <td>1050</td>\n",
       "      <td>9645</td>\n",
       "      <td>246</td>\n",
       "      <td>1</td>\n",
       "      <td>RightTroll</td>\n",
       "      <td>914312219952861184</td>\n",
       "      <td>https://twitter.com/realDonaldTrump/status/914...</td>\n",
       "      <td>Troll</td>\n",
       "      <td>1</td>\n",
       "      <td>[flag: United States]</td>\n",
       "      <td>1</td>\n",
       "    </tr>\n",
       "  </tbody>\n",
       "</table>\n",
       "</div>"
      ],
      "text/plain": [
       "   external_author_id  author  \\\n",
       "0  906000000000000000  10_GOP   \n",
       "1  906000000000000000  10_GOP   \n",
       "2  906000000000000000  10_GOP   \n",
       "3  906000000000000000  10_GOP   \n",
       "4  906000000000000000  10_GOP   \n",
       "\n",
       "                                             content   region language  \\\n",
       "0  \"We have a sitting Democrat US Senator on tria...  Unknown  English   \n",
       "1  Marshawn Lynch arrives to game in anti-Trump s...  Unknown  English   \n",
       "2  Daughter of fallen Navy Sailor delivers powerf...  Unknown  English   \n",
       "3  JUST IN: President Trump dedicates Presidents ...  Unknown  English   \n",
       "4  19,000 RESPECTING our National Anthem! #StandF...  Unknown  English   \n",
       "\n",
       "      publish_date  following  followers  updates  is_retweet  \\\n",
       "0  10/1/2017 19:58       1052       9636      253           0   \n",
       "1  10/1/2017 22:43       1054       9637      254           0   \n",
       "2  10/1/2017 22:50       1054       9637      255           1   \n",
       "3  10/1/2017 23:52       1062       9642      256           0   \n",
       "4   10/1/2017 2:13       1050       9645      246           1   \n",
       "\n",
       "  account_category            tweet_id  \\\n",
       "0       RightTroll  914580356430536707   \n",
       "1       RightTroll  914621840496189440   \n",
       "2       RightTroll  914623490375979008   \n",
       "3       RightTroll  914639143690555392   \n",
       "4       RightTroll  914312219952861184   \n",
       "\n",
       "                                            full_url data_source  has_URL  \\\n",
       "0  https://twitter.com/10_gop/status/914580356430...       Troll        1   \n",
       "1  https://twitter.com/damienwoody/status/9145685...       Troll        1   \n",
       "2  https://twitter.com/10_gop/status/913231923715...       Troll        1   \n",
       "3  https://twitter.com/10_gop/status/914639143690...       Troll        1   \n",
       "4  https://twitter.com/realDonaldTrump/status/914...       Troll        1   \n",
       "\n",
       "              emoji_text  emoji_count  \n",
       "0                     []            0  \n",
       "1                     []            0  \n",
       "2                     []            0  \n",
       "3                     []            0  \n",
       "4  [flag: United States]            1  "
      ]
     },
     "execution_count": 72,
     "metadata": {},
     "output_type": "execute_result"
    }
   ],
   "source": [
    "merged.head()"
   ]
  },
  {
   "cell_type": "code",
   "execution_count": 75,
   "metadata": {},
   "outputs": [
    {
     "data": {
      "text/plain": [
       "0    1673960\n",
       "1     936092\n",
       "Name: is_retweet, dtype: int64"
      ]
     },
     "execution_count": 75,
     "metadata": {},
     "output_type": "execute_result"
    }
   ],
   "source": [
    "merged['is_retweet'].value_counts()"
   ]
  },
  {
   "cell_type": "code",
   "execution_count": 79,
   "metadata": {},
   "outputs": [
    {
     "data": {
      "text/plain": [
       "external_author_id    object\n",
       "author                object\n",
       "content               object\n",
       "region                object\n",
       "language              object\n",
       "publish_date          object\n",
       "following              int64\n",
       "followers              int64\n",
       "updates                int64\n",
       "is_retweet             int64\n",
       "account_category      object\n",
       "tweet_id              object\n",
       "full_url              object\n",
       "data_source           object\n",
       "has_URL                int64\n",
       "emoji_text            object\n",
       "emoji_count            int64\n",
       "dtype: object"
      ]
     },
     "execution_count": 79,
     "metadata": {},
     "output_type": "execute_result"
    }
   ],
   "source": [
    "merged.dtypes"
   ]
  },
  {
   "cell_type": "code",
   "execution_count": null,
   "metadata": {},
   "outputs": [],
   "source": [
    "###Convert publish_date to datetime object\n",
    "merged['publish_date']= pd.to_datetime(merged['publish_date'], infer_datetime_format=True)"
   ]
  },
  {
   "cell_type": "code",
   "execution_count": 81,
   "metadata": {},
   "outputs": [],
   "source": [
    "#writing to csv for ease of retrieving later, corrupt file is created, do not use\n",
    "#merged.to_csv(\"merged_dataset2.csv\",index=False, header= True,encoding='utf-8', float_format= '%.0f')"
   ]
  },
  {
   "cell_type": "code",
   "execution_count": null,
   "metadata": {},
   "outputs": [],
   "source": [
    "#writing to pickle as CSV has issues with formatting and datatypes\n",
    "merged.to_pickle(\"merged_datasetpickle.pkl\")"
   ]
  },
  {
   "cell_type": "code",
   "execution_count": 85,
   "metadata": {},
   "outputs": [
    {
     "data": {
      "text/html": [
       "<div>\n",
       "<style scoped>\n",
       "    .dataframe tbody tr th:only-of-type {\n",
       "        vertical-align: middle;\n",
       "    }\n",
       "\n",
       "    .dataframe tbody tr th {\n",
       "        vertical-align: top;\n",
       "    }\n",
       "\n",
       "    .dataframe thead th {\n",
       "        text-align: right;\n",
       "    }\n",
       "</style>\n",
       "<table border=\"1\" class=\"dataframe\">\n",
       "  <thead>\n",
       "    <tr style=\"text-align: right;\">\n",
       "      <th></th>\n",
       "      <th>external_author_id</th>\n",
       "      <th>author</th>\n",
       "      <th>content</th>\n",
       "      <th>region</th>\n",
       "      <th>language</th>\n",
       "      <th>publish_date</th>\n",
       "      <th>following</th>\n",
       "      <th>followers</th>\n",
       "      <th>updates</th>\n",
       "      <th>is_retweet</th>\n",
       "      <th>account_category</th>\n",
       "      <th>tweet_id</th>\n",
       "      <th>full_url</th>\n",
       "      <th>data_source</th>\n",
       "      <th>has_URL</th>\n",
       "      <th>emoji_text</th>\n",
       "      <th>emoji_count</th>\n",
       "    </tr>\n",
       "  </thead>\n",
       "  <tbody>\n",
       "    <tr>\n",
       "      <th>0</th>\n",
       "      <td>906000000000000000</td>\n",
       "      <td>10_GOP</td>\n",
       "      <td>\"We have a sitting Democrat US Senator on tria...</td>\n",
       "      <td>Unknown</td>\n",
       "      <td>English</td>\n",
       "      <td>10/1/2017 19:58</td>\n",
       "      <td>1052</td>\n",
       "      <td>9636</td>\n",
       "      <td>253</td>\n",
       "      <td>0</td>\n",
       "      <td>RightTroll</td>\n",
       "      <td>914580356430536707</td>\n",
       "      <td>https://twitter.com/10_gop/status/914580356430...</td>\n",
       "      <td>Troll</td>\n",
       "      <td>1</td>\n",
       "      <td>[]</td>\n",
       "      <td>0</td>\n",
       "    </tr>\n",
       "    <tr>\n",
       "      <th>1</th>\n",
       "      <td>906000000000000000</td>\n",
       "      <td>10_GOP</td>\n",
       "      <td>Marshawn Lynch arrives to game in anti-Trump s...</td>\n",
       "      <td>Unknown</td>\n",
       "      <td>English</td>\n",
       "      <td>10/1/2017 22:43</td>\n",
       "      <td>1054</td>\n",
       "      <td>9637</td>\n",
       "      <td>254</td>\n",
       "      <td>0</td>\n",
       "      <td>RightTroll</td>\n",
       "      <td>914621840496189440</td>\n",
       "      <td>https://twitter.com/damienwoody/status/9145685...</td>\n",
       "      <td>Troll</td>\n",
       "      <td>1</td>\n",
       "      <td>[]</td>\n",
       "      <td>0</td>\n",
       "    </tr>\n",
       "    <tr>\n",
       "      <th>2</th>\n",
       "      <td>906000000000000000</td>\n",
       "      <td>10_GOP</td>\n",
       "      <td>Daughter of fallen Navy Sailor delivers powerf...</td>\n",
       "      <td>Unknown</td>\n",
       "      <td>English</td>\n",
       "      <td>10/1/2017 22:50</td>\n",
       "      <td>1054</td>\n",
       "      <td>9637</td>\n",
       "      <td>255</td>\n",
       "      <td>1</td>\n",
       "      <td>RightTroll</td>\n",
       "      <td>914623490375979008</td>\n",
       "      <td>https://twitter.com/10_gop/status/913231923715...</td>\n",
       "      <td>Troll</td>\n",
       "      <td>1</td>\n",
       "      <td>[]</td>\n",
       "      <td>0</td>\n",
       "    </tr>\n",
       "    <tr>\n",
       "      <th>3</th>\n",
       "      <td>906000000000000000</td>\n",
       "      <td>10_GOP</td>\n",
       "      <td>JUST IN: President Trump dedicates Presidents ...</td>\n",
       "      <td>Unknown</td>\n",
       "      <td>English</td>\n",
       "      <td>10/1/2017 23:52</td>\n",
       "      <td>1062</td>\n",
       "      <td>9642</td>\n",
       "      <td>256</td>\n",
       "      <td>0</td>\n",
       "      <td>RightTroll</td>\n",
       "      <td>914639143690555392</td>\n",
       "      <td>https://twitter.com/10_gop/status/914639143690...</td>\n",
       "      <td>Troll</td>\n",
       "      <td>1</td>\n",
       "      <td>[]</td>\n",
       "      <td>0</td>\n",
       "    </tr>\n",
       "    <tr>\n",
       "      <th>4</th>\n",
       "      <td>906000000000000000</td>\n",
       "      <td>10_GOP</td>\n",
       "      <td>19,000 RESPECTING our National Anthem! #StandF...</td>\n",
       "      <td>Unknown</td>\n",
       "      <td>English</td>\n",
       "      <td>10/1/2017 2:13</td>\n",
       "      <td>1050</td>\n",
       "      <td>9645</td>\n",
       "      <td>246</td>\n",
       "      <td>1</td>\n",
       "      <td>RightTroll</td>\n",
       "      <td>914312219952861184</td>\n",
       "      <td>https://twitter.com/realDonaldTrump/status/914...</td>\n",
       "      <td>Troll</td>\n",
       "      <td>1</td>\n",
       "      <td>[flag: United States]</td>\n",
       "      <td>1</td>\n",
       "    </tr>\n",
       "  </tbody>\n",
       "</table>\n",
       "</div>"
      ],
      "text/plain": [
       "   external_author_id  author  \\\n",
       "0  906000000000000000  10_GOP   \n",
       "1  906000000000000000  10_GOP   \n",
       "2  906000000000000000  10_GOP   \n",
       "3  906000000000000000  10_GOP   \n",
       "4  906000000000000000  10_GOP   \n",
       "\n",
       "                                             content   region language  \\\n",
       "0  \"We have a sitting Democrat US Senator on tria...  Unknown  English   \n",
       "1  Marshawn Lynch arrives to game in anti-Trump s...  Unknown  English   \n",
       "2  Daughter of fallen Navy Sailor delivers powerf...  Unknown  English   \n",
       "3  JUST IN: President Trump dedicates Presidents ...  Unknown  English   \n",
       "4  19,000 RESPECTING our National Anthem! #StandF...  Unknown  English   \n",
       "\n",
       "      publish_date  following  followers  updates  is_retweet  \\\n",
       "0  10/1/2017 19:58       1052       9636      253           0   \n",
       "1  10/1/2017 22:43       1054       9637      254           0   \n",
       "2  10/1/2017 22:50       1054       9637      255           1   \n",
       "3  10/1/2017 23:52       1062       9642      256           0   \n",
       "4   10/1/2017 2:13       1050       9645      246           1   \n",
       "\n",
       "  account_category            tweet_id  \\\n",
       "0       RightTroll  914580356430536707   \n",
       "1       RightTroll  914621840496189440   \n",
       "2       RightTroll  914623490375979008   \n",
       "3       RightTroll  914639143690555392   \n",
       "4       RightTroll  914312219952861184   \n",
       "\n",
       "                                            full_url data_source  has_URL  \\\n",
       "0  https://twitter.com/10_gop/status/914580356430...       Troll        1   \n",
       "1  https://twitter.com/damienwoody/status/9145685...       Troll        1   \n",
       "2  https://twitter.com/10_gop/status/913231923715...       Troll        1   \n",
       "3  https://twitter.com/10_gop/status/914639143690...       Troll        1   \n",
       "4  https://twitter.com/realDonaldTrump/status/914...       Troll        1   \n",
       "\n",
       "              emoji_text  emoji_count  \n",
       "0                     []            0  \n",
       "1                     []            0  \n",
       "2                     []            0  \n",
       "3                     []            0  \n",
       "4  [flag: United States]            1  "
      ]
     },
     "execution_count": 85,
     "metadata": {},
     "output_type": "execute_result"
    }
   ],
   "source": [
    "#validate that it pickled correctly\n",
    "dt = pd.read_pickle(\"../data/merged_datasetpickle.pkl\")\n",
    "dt.head()"
   ]
  },
  {
   "cell_type": "code",
   "execution_count": null,
   "metadata": {},
   "outputs": [],
   "source": []
  }
 ],
 "metadata": {
  "kernelspec": {
   "display_name": "Python 3",
   "language": "python",
   "name": "python3"
  },
  "language_info": {
   "codemirror_mode": {
    "name": "ipython",
    "version": 3
   },
   "file_extension": ".py",
   "mimetype": "text/x-python",
   "name": "python",
   "nbconvert_exporter": "python",
   "pygments_lexer": "ipython3",
   "version": "3.8.5"
  }
 },
 "nbformat": 4,
 "nbformat_minor": 4
}
