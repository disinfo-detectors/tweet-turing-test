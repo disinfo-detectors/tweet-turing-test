{
 "cells": [
  {
   "cell_type": "markdown",
   "metadata": {},
   "source": [
    "# Tweet Turing Test: Detecting Disinformation on Twitter  \n",
    "\n",
    "|          | Group #2 - Disinformation Detectors                     |\n",
    "|---------:|---------------------------------------------------------|\n",
    "| Members  | John Johnson, Katy Matulay, Justin Minnion, Jared Rubin |\n",
    "| Notebook | `01_merge.ipynb`                                        |\n",
    "| Purpose  | Merge together acquired data into a common format.      |\n",
    "\n",
    "Our acquired data is stored in the following directory structure:  \n",
    "- `/` (root project directory)\n",
    "    - `/data`\n",
    "        - `/data/raw`\n",
    "            - `/data/raw/tweets-govt_entities`\n",
    "            - `/data/raw/tweets-inidviduals`\n",
    "            - `/data/raw/tweets-news_orgs`\n",
    "            - `/data/raw/tweets-random`\n",
    "        - `/data/processed`\n",
    "            - `/data/processed/...`\n",
    "\n",
    "> (TODO - write more explaining notebook)"
   ]
  },
  {
   "cell_type": "markdown",
   "metadata": {},
   "source": [
    "# Setup"
   ]
  },
  {
   "cell_type": "code",
   "execution_count": 3,
   "metadata": {},
   "outputs": [],
   "source": [
    "# imports from Python standard library\n",
    "import json\n",
    "import logging\n",
    "import os\n",
    "\n",
    "# imports requiring installation\n",
    "#   connection to Google Cloud Storage\n",
    "from google.cloud import storage            # pip install google-cloud-storage\n",
    "from google.oauth2 import service_account   # pip install google-auth\n",
    "\n",
    "#  data science packages\n",
    "import demoji                               # pip install demoji\n",
    "import numpy as np                          # pip install numpy\n",
    "import pandas as pd                         # pip install pandas"
   ]
  },
  {
   "cell_type": "code",
   "execution_count": 4,
   "metadata": {},
   "outputs": [],
   "source": [
    "# imports from tweet_turing.py\n",
    "from tweet_turing import get_files, merge_json_files, \\\n",
    "    get_gcp_storage_client, get_gcp_bucket, list_gcp_objects, get_gcp_object_as_json"
   ]
  }
 ],
 "metadata": {
  "kernelspec": {
   "display_name": "Python 3.10.8 ('.venv': venv)",
   "language": "python",
   "name": "python3"
  },
  "language_info": {
   "codemirror_mode": {
    "name": "ipython",
    "version": 3
   },
   "file_extension": ".py",
   "mimetype": "text/x-python",
   "name": "python",
   "nbconvert_exporter": "python",
   "pygments_lexer": "ipython3",
   "version": "3.10.8"
  },
  "orig_nbformat": 4,
  "vscode": {
   "interpreter": {
    "hash": "f6350edbffa5f4617867057bfd50f00ea9376d607df54ae8d843647e02695eca"
   }
  }
 },
 "nbformat": 4,
 "nbformat_minor": 2
}
