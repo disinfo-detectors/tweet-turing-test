{
 "cells": [
  {
   "cell_type": "markdown",
   "metadata": {},
   "source": [
    "# Tweet Turing Test: Detecting Disinformation on Twitter  \n",
    "\n",
    "|          | Group #2 - Disinformation Detectors                     |\n",
    "|---------:|---------------------------------------------------------|\n",
    "| Members  | John Johnson, Katy Matulay, Justin Minnion, Jared Rubin |\n",
    "| Notebook | `03_eda.ipynb`                                          |\n",
    "| Purpose  | Conduct EDA of pre-processed data.                      |\n",
    "\n",
    "> (TODO - write more explaining notebook)"
   ]
  },
  {
   "cell_type": "markdown",
   "metadata": {},
   "source": [
    "# 1 - Setup"
   ]
  },
  {
   "cell_type": "code",
   "execution_count": 1,
   "metadata": {},
   "outputs": [],
   "source": [
    "# imports from Python standard library\n",
    "import json\n",
    "import logging\n",
    "import os\n",
    "\n",
    "# imports requiring installation\n",
    "#   connection to Google Cloud Storage\n",
    "from google.cloud import storage            # pip install google-cloud-storage\n",
    "from google.oauth2 import service_account   # pip install google-auth\n",
    "\n",
    "#  data science packages\n",
    "import demoji                               # pip install demoji\n",
    "import numpy as np                          # pip install numpy\n",
    "import pandas as pd                         # pip install pandas\n",
    "import matplotlib.pyplot as plt             # pip install matplotlib\n",
    "import seaborn as sns                       # pip install seaborn\n",
    "# import plotly.express as px                 # pip install plotly==5.11.0"
   ]
  },
  {
   "cell_type": "code",
   "execution_count": 2,
   "metadata": {},
   "outputs": [],
   "source": [
    "# imports from tweet_turing.py\n",
    "import tweet_turing as tur      # note - different import approach from prior notebooks\n",
    "\n",
    "# imports from tweet_turing_paths.py\n",
    "from tweet_turing_paths import local_data_paths, local_snapshot_paths, gcp_data_paths, \\\n",
    "    gcp_snapshot_paths, gcp_project_name, gcp_bucket_name, gcp_key_file"
   ]
  },
  {
   "cell_type": "code",
   "execution_count": 3,
   "metadata": {},
   "outputs": [],
   "source": [
    "# pandas options\n",
    "pd.set_option('display.max_colwidth', None)"
   ]
  },
  {
   "cell_type": "markdown",
   "metadata": {},
   "source": [
    "## Local or Cloud?\n",
    "\n",
    "Decide here whether to run notebook with local data or GCP bucket data\n",
    " - if the working directory of this notebook has a \"../data/\" folder with data loaded (e.g. working on local computer or have data files loaded to a cloud VM) then use the \"local files\" option and comment out the \"gcp bucket files\" option\n",
    " - if this notebook is being run from a GCP VM (preferrably in the `us-central1` location) then use the \"gcp bucket files\" option and comment out the \"local files\" option"
   ]
  },
  {
   "cell_type": "code",
   "execution_count": 4,
   "metadata": {},
   "outputs": [],
   "source": [
    "# option: local files\n",
    "local_or_cloud: str = \"local\"   # comment/uncomment this line or next\n",
    "\n",
    "# option: gcp bucket files\n",
    "#local_or_cloud: str = \"cloud\"   # comment/uncomment this line or previous\n",
    "\n",
    "# don't comment/uncomment for remainder of cell\n",
    "if (local_or_cloud == \"local\"):\n",
    "    data_paths = local_data_paths\n",
    "    snapshot_paths = local_snapshot_paths\n",
    "elif (local_or_cloud == \"cloud\"):\n",
    "    data_paths = gcp_data_paths\n",
    "    snapshot_paths = gcp_snapshot_paths\n",
    "else:\n",
    "    raise ValueError(\"Variable 'local_or_cloud' can only take on one of two values, 'local' or 'cloud'.\")\n",
    "    # subsequent cells will not do this final \"else\" check"
   ]
  },
  {
   "cell_type": "code",
   "execution_count": 5,
   "metadata": {},
   "outputs": [],
   "source": [
    "# this cell only needs to run its code if local_or_cloud==\"cloud\"\n",
    "#   (though it is harmless if run when local_or_cloud==\"local\")\n",
    "gcp_storage_client: storage.Client = None\n",
    "gcp_bucket: storage.Bucket = None\n",
    "\n",
    "if (local_or_cloud == \"cloud\"):\n",
    "    gcp_storage_client = tur.get_gcp_storage_client(project_name=gcp_project_name, key_file=gcp_key_file)\n",
    "    gcp_bucket = tur.get_gcp_bucket(storage_client=gcp_storage_client, bucket_name=gcp_bucket_name)"
   ]
  },
  {
   "cell_type": "markdown",
   "metadata": {},
   "source": [
    "# 2 - Load dataset"
   ]
  },
  {
   "cell_type": "code",
   "execution_count": 6,
   "metadata": {},
   "outputs": [],
   "source": [
    "# note this cell requires package `pyarrow` to be installed in environment\n",
    "parq_filename: str = \"merged_df_preprocessed.parquet.snappy\"\n",
    "parq_path: str = f\"{snapshot_paths['parq_snapshot']}{parq_filename}\"\n",
    "\n",
    "if (local_or_cloud == \"local\"):\n",
    "    merged_df = pd.read_parquet(parq_path, engine='pyarrow')\n",
    "elif (local_or_cloud == \"cloud\"):\n",
    "    pass"
   ]
  },
  {
   "cell_type": "markdown",
   "metadata": {},
   "source": [
    "# 3 - EDA Basics"
   ]
  },
  {
   "cell_type": "markdown",
   "metadata": {},
   "source": [
    "Display basic pandas info, showing number of entries, columns (and their dtypes) within dataframe, and memory usage."
   ]
  },
  {
   "cell_type": "code",
   "execution_count": 7,
   "metadata": {},
   "outputs": [
    {
     "name": "stdout",
     "output_type": "stream",
     "text": [
      "<class 'pandas.core.frame.DataFrame'>\n",
      "RangeIndex: 3624894 entries, 0 to 3624893\n",
      "Data columns (total 18 columns):\n",
      " #   Column              Dtype              \n",
      "---  ------              -----              \n",
      " 0   external_author_id  string             \n",
      " 1   author              string             \n",
      " 2   content             string             \n",
      " 3   region              string             \n",
      " 4   language            string             \n",
      " 5   following           uint64             \n",
      " 6   followers           uint64             \n",
      " 7   updates             uint64             \n",
      " 8   is_retweet          uint8              \n",
      " 9   account_category    string             \n",
      " 10  tweet_id            string             \n",
      " 11  tco1_step1          string             \n",
      " 12  data_source         string             \n",
      " 13  is_retweet_alt      float64            \n",
      " 14  has_url             int64              \n",
      " 15  emoji_text          object             \n",
      " 16  emoji_count         int64              \n",
      " 17  publish_date        datetime64[ns, UTC]\n",
      "dtypes: datetime64[ns, UTC](1), float64(1), int64(2), object(1), string(9), uint64(3), uint8(1)\n",
      "memory usage: 473.6+ MB\n"
     ]
    }
   ],
   "source": [
    "merged_df.info()"
   ]
  },
  {
   "cell_type": "markdown",
   "metadata": {},
   "source": [
    "See a few sample rows:"
   ]
  },
  {
   "cell_type": "code",
   "execution_count": 8,
   "metadata": {},
   "outputs": [
    {
     "data": {
      "text/html": [
       "<div>\n",
       "<style scoped>\n",
       "    .dataframe tbody tr th:only-of-type {\n",
       "        vertical-align: middle;\n",
       "    }\n",
       "\n",
       "    .dataframe tbody tr th {\n",
       "        vertical-align: top;\n",
       "    }\n",
       "\n",
       "    .dataframe thead th {\n",
       "        text-align: right;\n",
       "    }\n",
       "</style>\n",
       "<table border=\"1\" class=\"dataframe\">\n",
       "  <thead>\n",
       "    <tr style=\"text-align: right;\">\n",
       "      <th></th>\n",
       "      <th>external_author_id</th>\n",
       "      <th>author</th>\n",
       "      <th>content</th>\n",
       "      <th>region</th>\n",
       "      <th>language</th>\n",
       "      <th>following</th>\n",
       "      <th>followers</th>\n",
       "      <th>updates</th>\n",
       "      <th>is_retweet</th>\n",
       "      <th>account_category</th>\n",
       "      <th>tweet_id</th>\n",
       "      <th>tco1_step1</th>\n",
       "      <th>data_source</th>\n",
       "      <th>is_retweet_alt</th>\n",
       "      <th>has_url</th>\n",
       "      <th>emoji_text</th>\n",
       "      <th>emoji_count</th>\n",
       "      <th>publish_date</th>\n",
       "    </tr>\n",
       "  </thead>\n",
       "  <tbody>\n",
       "    <tr>\n",
       "      <th>712487</th>\n",
       "      <td>3438999494</td>\n",
       "      <td>WORLDOFHASHTAGS</td>\n",
       "      <td>#SecondhandGifts*  *what I call lefty HJs</td>\n",
       "      <td>United States</td>\n",
       "      <td>English</td>\n",
       "      <td>7398</td>\n",
       "      <td>8973</td>\n",
       "      <td>25387</td>\n",
       "      <td>1</td>\n",
       "      <td>HashtagGamer</td>\n",
       "      <td>811591417156038656</td>\n",
       "      <td>&lt;NA&gt;</td>\n",
       "      <td>&lt;NA&gt;</td>\n",
       "      <td>NaN</td>\n",
       "      <td>0</td>\n",
       "      <td>[]</td>\n",
       "      <td>0</td>\n",
       "      <td>NaT</td>\n",
       "    </tr>\n",
       "    <tr>\n",
       "      <th>314447</th>\n",
       "      <td>2943515140</td>\n",
       "      <td>SCREAMYMONKEY</td>\n",
       "      <td>Man arrested with handguns at Disneyland Paris  #world #news</td>\n",
       "      <td>United States</td>\n",
       "      <td>English</td>\n",
       "      <td>14294</td>\n",
       "      <td>13261</td>\n",
       "      <td>24501</td>\n",
       "      <td>0</td>\n",
       "      <td>NewsFeed</td>\n",
       "      <td>692757441662971904</td>\n",
       "      <td>&lt;NA&gt;</td>\n",
       "      <td>&lt;NA&gt;</td>\n",
       "      <td>NaN</td>\n",
       "      <td>0</td>\n",
       "      <td>[]</td>\n",
       "      <td>0</td>\n",
       "      <td>NaT</td>\n",
       "    </tr>\n",
       "  </tbody>\n",
       "</table>\n",
       "</div>"
      ],
      "text/plain": [
       "       external_author_id           author  \\\n",
       "712487         3438999494  WORLDOFHASHTAGS   \n",
       "314447         2943515140    SCREAMYMONKEY   \n",
       "\n",
       "                                                             content  \\\n",
       "712487                     #SecondhandGifts*  *what I call lefty HJs   \n",
       "314447  Man arrested with handguns at Disneyland Paris  #world #news   \n",
       "\n",
       "               region language  following  followers  updates  is_retweet  \\\n",
       "712487  United States  English       7398       8973    25387           1   \n",
       "314447  United States  English      14294      13261    24501           0   \n",
       "\n",
       "       account_category            tweet_id tco1_step1 data_source  \\\n",
       "712487     HashtagGamer  811591417156038656       <NA>        <NA>   \n",
       "314447         NewsFeed  692757441662971904       <NA>        <NA>   \n",
       "\n",
       "        is_retweet_alt  has_url emoji_text  emoji_count publish_date  \n",
       "712487             NaN        0         []            0          NaT  \n",
       "314447             NaN        0         []            0          NaT  "
      ]
     },
     "execution_count": 8,
     "metadata": {},
     "output_type": "execute_result"
    }
   ],
   "source": [
    "merged_df.sample(2)"
   ]
  },
  {
   "cell_type": "markdown",
   "metadata": {},
   "source": [
    "Examine nulls / missing values."
   ]
  },
  {
   "cell_type": "code",
   "execution_count": 8,
   "metadata": {},
   "outputs": [
    {
     "data": {
      "text/plain": [
       "external_author_id          0\n",
       "author                      0\n",
       "content                     0\n",
       "region                 180192\n",
       "language                    0\n",
       "following                   0\n",
       "followers                   0\n",
       "updates                     0\n",
       "is_retweet                  0\n",
       "account_category            0\n",
       "tweet_id                    0\n",
       "tco1_step1            1427061\n",
       "data_source           2116865\n",
       "is_retweet_alt        2116866\n",
       "has_url                     0\n",
       "emoji_text                  0\n",
       "emoji_count                 0\n",
       "publish_date          2116865\n",
       "dtype: int64"
      ]
     },
     "execution_count": 8,
     "metadata": {},
     "output_type": "execute_result"
    }
   ],
   "source": [
    "merged_df.isnull().sum()"
   ]
  },
  {
   "cell_type": "markdown",
   "metadata": {},
   "source": [
    "# 4 - Features (Individual Analysis)\n",
    "\n",
    "The table below provides a description of the features we have in our dataset to this point."
   ]
  },
  {
   "cell_type": "markdown",
   "metadata": {},
   "source": [
    "> (note to team: using https://www.tablesgenerator.com/markdown_tables# to generate markdown for this table)\n",
    "\n",
    "| **Feature** | **Description** | **NOIR Type** | **Notes** |\n",
    "|:---:|---|:---:|---|\n",
    "| `external_author_id` | Author ID | Nominal | Unique identifier / primary key for twitter accounts |\n",
    "| `author` | Author Twitter Handle | Nominal | The Twitter handle (i.e. username) of this tweet's author |\n",
    "| `content` | Tweet Content |  | The text of the tweet itself, including hashtags, hyperlinks, mentions, etc. |\n",
    "| `region` | Region | Nominal | A region classification. For troll tweets, determined by [Social Studio (link: help.salesforce.com)](https://help.salesforce.com/articleView?id=000199367&type=1) |\n",
    "| `language` | Language | Nominal | The language of the tweet |\n",
    "| `following` | Number of Other Accounts Followed | Ratio |  |\n",
    "| `followers` | Number of Other Accounts Following | Ratio |  |\n",
    "| `updates` | Number of Update Actions | Ratio | A composite measurement of public metrics for interaction by other users with a tweet. |\n",
    "| `is_retweet` | Retweet |  | Binary indicator of whether or not the tweet is a retweet. |\n",
    "| `account_category` | Account Category | Nominal |  |\n",
    "| `tweet_id` | Tweet ID | Nominal | Unique identifier for each tweet, assigned by Twitter. |\n",
    "| `tco1_step1` | First URL from within Tweet Content | Nominal |  |\n",
    "| `data_source` | Data Source | Nominal |  |\n",
    "| `is_retweet_alt` | Retweet (Alternate) |  |  |\n",
    "| `has_url` | Tweet Has URL |  |  |\n",
    "| `emoji_text` | Emoji Text |  | A list of natural language descriptions of each unique emoji used. |\n",
    "| `emoji_count` | Number of Emoji | Ratio |  |\n",
    "| `publish_date` | Publish Date of Tweet | Interval |  |"
   ]
  },
  {
   "cell_type": "markdown",
   "metadata": {},
   "source": [
    "## 4.1 - Author ID (`external_author_id`)\n",
    "\n",
    "We did not conduct extensive individual analysis of this feature because it is an auto-generated value set by Twitter.  \n",
    "\n",
    "Some additional thoughts:\n",
    "\n",
    " - Because these numbers are randomly generated, the magnitude of the ID could not be used as a proxy for account age.\n",
    " - Twitter uses a 64-bit integer for this ID and recommends handling them as strings to avoid loss of precision among various implementations of an int64-like type.\n",
    " - One possible analysis (coupled with `author`) would be to determine how many values of `author` correspond to a given `external_author_id`. This would potentially indicate a user who changes their Twitter handle more often than average. This would be a great candidate for a map/reduce aggregation task. To collect this data on a large scale would require a *huge* volume of data, though, so we do not plan to attempt it for our project."
   ]
  },
  {
   "cell_type": "markdown",
   "metadata": {},
   "source": [
    "## 4.2 - Author Twitter Handle (`author`)\n",
    "\n",
    "We can examine which Twitter handles are most represented in the dataset (and peek at their account category)."
   ]
  },
  {
   "cell_type": "code",
   "execution_count": 9,
   "metadata": {},
   "outputs": [],
   "source": [
    "# map: create tuples of (author, account_category)\n",
    "author_tuples = merged_df.apply(lambda row: (row['author'], row['account_category']), axis='columns')\n",
    "\n",
    "# reduce: count tuple occurrences and sort\n",
    "author_tuple_counts = author_tuples.value_counts(ascending=False)"
   ]
  },
  {
   "cell_type": "code",
   "execution_count": 10,
   "metadata": {},
   "outputs": [
    {
     "data": {
      "text/html": [
       "<div>\n",
       "<style scoped>\n",
       "    .dataframe tbody tr th:only-of-type {\n",
       "        vertical-align: middle;\n",
       "    }\n",
       "\n",
       "    .dataframe tbody tr th {\n",
       "        vertical-align: top;\n",
       "    }\n",
       "\n",
       "    .dataframe thead th {\n",
       "        text-align: right;\n",
       "    }\n",
       "</style>\n",
       "<table border=\"1\" class=\"dataframe\">\n",
       "  <thead>\n",
       "    <tr style=\"text-align: right;\">\n",
       "      <th></th>\n",
       "      <th>author</th>\n",
       "      <th>account_category</th>\n",
       "      <th>count</th>\n",
       "    </tr>\n",
       "  </thead>\n",
       "  <tbody>\n",
       "    <tr>\n",
       "      <th>(EXQUOTE, Commercial)</th>\n",
       "      <td>EXQUOTE</td>\n",
       "      <td>Commercial</td>\n",
       "      <td>53158</td>\n",
       "    </tr>\n",
       "    <tr>\n",
       "      <th>(AskTSA, Verified_User)</th>\n",
       "      <td>AskTSA</td>\n",
       "      <td>Verified_User</td>\n",
       "      <td>49390</td>\n",
       "    </tr>\n",
       "    <tr>\n",
       "      <th>(SCREAMYMONKEY, NewsFeed)</th>\n",
       "      <td>SCREAMYMONKEY</td>\n",
       "      <td>NewsFeed</td>\n",
       "      <td>43956</td>\n",
       "    </tr>\n",
       "    <tr>\n",
       "      <th>(WORLDNEWSPOLI, RightTroll)</th>\n",
       "      <td>WORLDNEWSPOLI</td>\n",
       "      <td>RightTroll</td>\n",
       "      <td>35082</td>\n",
       "    </tr>\n",
       "    <tr>\n",
       "      <th>(AMELIEBALDWIN, RightTroll)</th>\n",
       "      <td>AMELIEBALDWIN</td>\n",
       "      <td>RightTroll</td>\n",
       "      <td>34308</td>\n",
       "    </tr>\n",
       "    <tr>\n",
       "      <th>(TODAYPITTSBURGH, NewsFeed)</th>\n",
       "      <td>TODAYPITTSBURGH</td>\n",
       "      <td>NewsFeed</td>\n",
       "      <td>33377</td>\n",
       "    </tr>\n",
       "    <tr>\n",
       "      <th>(SPECIALAFFAIR, NewsFeed)</th>\n",
       "      <td>SPECIALAFFAIR</td>\n",
       "      <td>NewsFeed</td>\n",
       "      <td>32416</td>\n",
       "    </tr>\n",
       "    <tr>\n",
       "      <th>(SEATTLE_POST, NewsFeed)</th>\n",
       "      <td>SEATTLE_POST</td>\n",
       "      <td>NewsFeed</td>\n",
       "      <td>30680</td>\n",
       "    </tr>\n",
       "    <tr>\n",
       "      <th>(KANSASDAILYNEWS, NewsFeed)</th>\n",
       "      <td>KANSASDAILYNEWS</td>\n",
       "      <td>NewsFeed</td>\n",
       "      <td>28746</td>\n",
       "    </tr>\n",
       "    <tr>\n",
       "      <th>(ROOMOFRUMOR, NewsFeed)</th>\n",
       "      <td>ROOMOFRUMOR</td>\n",
       "      <td>NewsFeed</td>\n",
       "      <td>28259</td>\n",
       "    </tr>\n",
       "    <tr>\n",
       "      <th>(DAILYSANFRAN, NewsFeed)</th>\n",
       "      <td>DAILYSANFRAN</td>\n",
       "      <td>NewsFeed</td>\n",
       "      <td>27962</td>\n",
       "    </tr>\n",
       "    <tr>\n",
       "      <th>(FINDDIET, Commercial)</th>\n",
       "      <td>FINDDIET</td>\n",
       "      <td>Commercial</td>\n",
       "      <td>25941</td>\n",
       "    </tr>\n",
       "    <tr>\n",
       "      <th>(COVFEFENATIONUS, RightTroll)</th>\n",
       "      <td>COVFEFENATIONUS</td>\n",
       "      <td>RightTroll</td>\n",
       "      <td>23463</td>\n",
       "    </tr>\n",
       "    <tr>\n",
       "      <th>(WORLDOFHASHTAGS, HashtagGamer)</th>\n",
       "      <td>WORLDOFHASHTAGS</td>\n",
       "      <td>HashtagGamer</td>\n",
       "      <td>23301</td>\n",
       "    </tr>\n",
       "    <tr>\n",
       "      <th>(JENN_ABRAMS, RightTroll)</th>\n",
       "      <td>JENN_ABRAMS</td>\n",
       "      <td>RightTroll</td>\n",
       "      <td>22521</td>\n",
       "    </tr>\n",
       "    <tr>\n",
       "      <th>(CHICAGODAILYNEW, NewsFeed)</th>\n",
       "      <td>CHICAGODAILYNEW</td>\n",
       "      <td>NewsFeed</td>\n",
       "      <td>22112</td>\n",
       "    </tr>\n",
       "    <tr>\n",
       "      <th>(FUNDDIET, Commercial)</th>\n",
       "      <td>FUNDDIET</td>\n",
       "      <td>Commercial</td>\n",
       "      <td>19860</td>\n",
       "    </tr>\n",
       "    <tr>\n",
       "      <th>(thehill, Verified_User)</th>\n",
       "      <td>thehill</td>\n",
       "      <td>Verified_User</td>\n",
       "      <td>19551</td>\n",
       "    </tr>\n",
       "    <tr>\n",
       "      <th>(business, Verified_User)</th>\n",
       "      <td>business</td>\n",
       "      <td>Verified_User</td>\n",
       "      <td>19368</td>\n",
       "    </tr>\n",
       "    <tr>\n",
       "      <th>(CHESPLAYSCHESS, RightTroll)</th>\n",
       "      <td>CHESPLAYSCHESS</td>\n",
       "      <td>RightTroll</td>\n",
       "      <td>18970</td>\n",
       "    </tr>\n",
       "  </tbody>\n",
       "</table>\n",
       "</div>"
      ],
      "text/plain": [
       "                                          author account_category  count\n",
       "(EXQUOTE, Commercial)                    EXQUOTE       Commercial  53158\n",
       "(AskTSA, Verified_User)                   AskTSA    Verified_User  49390\n",
       "(SCREAMYMONKEY, NewsFeed)          SCREAMYMONKEY         NewsFeed  43956\n",
       "(WORLDNEWSPOLI, RightTroll)        WORLDNEWSPOLI       RightTroll  35082\n",
       "(AMELIEBALDWIN, RightTroll)        AMELIEBALDWIN       RightTroll  34308\n",
       "(TODAYPITTSBURGH, NewsFeed)      TODAYPITTSBURGH         NewsFeed  33377\n",
       "(SPECIALAFFAIR, NewsFeed)          SPECIALAFFAIR         NewsFeed  32416\n",
       "(SEATTLE_POST, NewsFeed)            SEATTLE_POST         NewsFeed  30680\n",
       "(KANSASDAILYNEWS, NewsFeed)      KANSASDAILYNEWS         NewsFeed  28746\n",
       "(ROOMOFRUMOR, NewsFeed)              ROOMOFRUMOR         NewsFeed  28259\n",
       "(DAILYSANFRAN, NewsFeed)            DAILYSANFRAN         NewsFeed  27962\n",
       "(FINDDIET, Commercial)                  FINDDIET       Commercial  25941\n",
       "(COVFEFENATIONUS, RightTroll)    COVFEFENATIONUS       RightTroll  23463\n",
       "(WORLDOFHASHTAGS, HashtagGamer)  WORLDOFHASHTAGS     HashtagGamer  23301\n",
       "(JENN_ABRAMS, RightTroll)            JENN_ABRAMS       RightTroll  22521\n",
       "(CHICAGODAILYNEW, NewsFeed)      CHICAGODAILYNEW         NewsFeed  22112\n",
       "(FUNDDIET, Commercial)                  FUNDDIET       Commercial  19860\n",
       "(thehill, Verified_User)                 thehill    Verified_User  19551\n",
       "(business, Verified_User)               business    Verified_User  19368\n",
       "(CHESPLAYSCHESS, RightTroll)      CHESPLAYSCHESS       RightTroll  18970"
      ]
     },
     "execution_count": 10,
     "metadata": {},
     "output_type": "execute_result"
    }
   ],
   "source": [
    "# display top results\n",
    "pd.concat(\n",
    "    [\n",
    "        pd.DataFrame.from_records(\n",
    "            author_tuple_counts.index, \n",
    "            index=author_tuple_counts.index, \n",
    "            columns=['author', 'account_category']\n",
    "            )\n",
    "        , \n",
    "        pd.DataFrame(\n",
    "            author_tuple_counts.values,\n",
    "            index=author_tuple_counts.index,\n",
    "            columns=['count']\n",
    "            )\n",
    "    ], \n",
    "    axis=1, \n",
    "    ).nlargest(20, columns=['count'])"
   ]
  },
  {
   "cell_type": "markdown",
   "metadata": {},
   "source": [
    "How many unique Twitter handles are in our dataset?"
   ]
  },
  {
   "cell_type": "code",
   "execution_count": 11,
   "metadata": {},
   "outputs": [
    {
     "name": "stdout",
     "output_type": "stream",
     "text": [
      "Number of unique Twitter handles:\t142,270 unique handles\n"
     ]
    }
   ],
   "source": [
    "print(f\"Number of unique Twitter handles:\\t{merged_df['author'].nunique():,} unique handles\")"
   ]
  },
  {
   "cell_type": "markdown",
   "metadata": {},
   "source": [
    "## 4.3 - Tweet Content (`content`)"
   ]
  },
  {
   "cell_type": "markdown",
   "metadata": {},
   "source": [
    "### 4.3.1 - Tweet Length (characters)\n",
    "\n",
    "First analyzed by Python's built-in `len()` function. What we see is a large spike at $len=140$, but an odd trail of values over $len=900$."
   ]
  },
  {
   "cell_type": "code",
   "execution_count": null,
   "metadata": {},
   "outputs": [],
   "source": [
    "tweet_lengths: pd.DataFrame = merged_df[['content']].copy()\n",
    "tweet_lengths['length'] = tweet_lengths['content'].apply(len)\n",
    "\n",
    "fig = px.histogram(tweet_lengths, x='length')\n",
    "fig.show()"
   ]
  },
  {
   "cell_type": "markdown",
   "metadata": {},
   "source": [
    "The manner in which Twitter validates a tweet's length involves a decent amount of complexity, but boils down to that certain elements (emoji, shortened URLs) have a fixed value for number of characters. Twitter provides an open-source library showing how this character counting method but not in Python (available languages are Java, Javascript/Node.js, Ruby, and Objective-C). An external package `tweet-counter` approximates this character counting method in Python (*package source: [[github.com]](https://github.com/nottrobin/tweet-counter)*)."
   ]
  },
  {
   "cell_type": "code",
   "execution_count": null,
   "metadata": {},
   "outputs": [],
   "source": [
    "tweet_lengths['length_twitter'] = tweet_lengths.apply(tur.char_count, axis='columns')\n",
    "\n",
    "fig = px.histogram(tweet_lengths, x='length_twitter')\n",
    "fig.show()"
   ]
  },
  {
   "cell_type": "markdown",
   "metadata": {},
   "source": [
    "> TODO - what is up with tweets of length >280? 900 characters?  \n",
    "> TODO - make stacked histogram showing comparison of counting methods"
   ]
  },
  {
   "cell_type": "markdown",
   "metadata": {},
   "source": [
    "## 4.4 - Region (`region`)"
   ]
  },
  {
   "cell_type": "code",
   "execution_count": null,
   "metadata": {},
   "outputs": [],
   "source": [
    "#"
   ]
  },
  {
   "cell_type": "markdown",
   "metadata": {},
   "source": [
    "## 4.5 - Language (`language`)"
   ]
  },
  {
   "cell_type": "markdown",
   "metadata": {},
   "source": [
    "How many unique languages are contained within our dataset?"
   ]
  },
  {
   "cell_type": "code",
   "execution_count": 103,
   "metadata": {},
   "outputs": [
    {
     "name": "stdout",
     "output_type": "stream",
     "text": [
      "Number of unique languages:\t30 unique languages\n"
     ]
    }
   ],
   "source": [
    "print(f\"Number of unique languages:\\t{merged_df['language'].nunique():,} unique languages\")"
   ]
  },
  {
   "cell_type": "markdown",
   "metadata": {},
   "source": [
    "## 4.6 - Number of Other Accounts Followed (`following`)"
   ]
  },
  {
   "cell_type": "code",
   "execution_count": 95,
   "metadata": {},
   "outputs": [
    {
     "data": {
      "text/plain": [
       "count    3.624894e+06\n",
       "mean     5.616664e+03\n",
       "std      3.305979e+04\n",
       "min      0.000000e+00\n",
       "25%      4.710000e+02\n",
       "50%      1.431000e+03\n",
       "75%      4.564000e+03\n",
       "max      4.095338e+06\n",
       "Name: following, dtype: float64"
      ]
     },
     "execution_count": 95,
     "metadata": {},
     "output_type": "execute_result"
    }
   ],
   "source": [
    "merged_df['following'].describe()"
   ]
  },
  {
   "cell_type": "code",
   "execution_count": 84,
   "metadata": {},
   "outputs": [
    {
     "data": {
      "image/png": "[encoded data removed]",
      "text/plain": [
       "<Figure size 700x400 with 1 Axes>"
      ]
     },
     "metadata": {},
     "output_type": "display_data"
    }
   ],
   "source": [
    "fig, axs = plt.subplots(1, 1, figsize=(7,4))\n",
    "axs.hist(merged_df['followers'], bins=50, color=\"C2\")\n",
    "\n",
    "axs.set_title(\"Distribution of `followers`\")\n",
    "axs.set_yscale(\"log\")\n",
    "\n",
    "plt.show()"
   ]
  },
  {
   "cell_type": "markdown",
   "metadata": {},
   "source": [
    "## 4.7 - Number of Other Accounts Following (`followers`)"
   ]
  },
  {
   "cell_type": "code",
   "execution_count": 96,
   "metadata": {},
   "outputs": [
    {
     "data": {
      "text/plain": [
       "count    3.624894e+06\n",
       "mean     1.744430e+06\n",
       "std      9.483849e+06\n",
       "min      0.000000e+00\n",
       "25%      1.140000e+03\n",
       "50%      1.138500e+04\n",
       "75%      5.856000e+04\n",
       "max      1.335241e+08\n",
       "Name: followers, dtype: float64"
      ]
     },
     "execution_count": 96,
     "metadata": {},
     "output_type": "execute_result"
    }
   ],
   "source": [
    "merged_df['followers'].describe()"
   ]
  },
  {
   "cell_type": "code",
   "execution_count": 81,
   "metadata": {},
   "outputs": [
    {
     "data": {
      "image/png": "[encoded data removed]",
      "text/plain": [
       "<Figure size 700x400 with 1 Axes>"
      ]
     },
     "metadata": {},
     "output_type": "display_data"
    }
   ],
   "source": [
    "fig, axs = plt.subplots(1, 1, figsize=(7,4))\n",
    "axs.hist(merged_df['following'], bins=50, color=\"C3\")\n",
    "\n",
    "axs.set_title(\"Distribution of `following`\")\n",
    "axs.set_yscale(\"log\")\n",
    "\n",
    "plt.show()"
   ]
  },
  {
   "cell_type": "markdown",
   "metadata": {},
   "source": [
    "## 4.8 - Number of Update Actions (`updates`)"
   ]
  },
  {
   "cell_type": "code",
   "execution_count": null,
   "metadata": {},
   "outputs": [],
   "source": [
    "#"
   ]
  },
  {
   "cell_type": "markdown",
   "metadata": {},
   "source": [
    "## 4.9 - Retweet (`is_retweet`)"
   ]
  },
  {
   "cell_type": "code",
   "execution_count": null,
   "metadata": {},
   "outputs": [],
   "source": [
    "#"
   ]
  },
  {
   "cell_type": "markdown",
   "metadata": {},
   "source": [
    "## 4.10 - Account Category (`account_category`)"
   ]
  },
  {
   "cell_type": "code",
   "execution_count": null,
   "metadata": {},
   "outputs": [],
   "source": [
    "#"
   ]
  },
  {
   "cell_type": "markdown",
   "metadata": {},
   "source": [
    "## 4.11 - Tweet ID (`tweet_id`)"
   ]
  },
  {
   "cell_type": "code",
   "execution_count": null,
   "metadata": {},
   "outputs": [],
   "source": [
    "#"
   ]
  },
  {
   "cell_type": "markdown",
   "metadata": {},
   "source": [
    "## 4.12 - First URL from within Tweet Content (`tco1_step1`)"
   ]
  },
  {
   "cell_type": "code",
   "execution_count": null,
   "metadata": {},
   "outputs": [],
   "source": [
    "#"
   ]
  },
  {
   "cell_type": "markdown",
   "metadata": {},
   "source": [
    "## 4.13 - Data Source (`data_source`)"
   ]
  },
  {
   "cell_type": "code",
   "execution_count": null,
   "metadata": {},
   "outputs": [],
   "source": [
    "#"
   ]
  },
  {
   "cell_type": "markdown",
   "metadata": {},
   "source": [
    "## 4.X - Retweet (Alternate) (`is_retweet_alt`)\n",
    "\n",
    "Probably deleting this feature so not giving it a section number :-|"
   ]
  },
  {
   "cell_type": "code",
   "execution_count": null,
   "metadata": {},
   "outputs": [],
   "source": [
    "#"
   ]
  },
  {
   "cell_type": "markdown",
   "metadata": {},
   "source": [
    "## 4.14 - Tweet Has URL (`has_url`)"
   ]
  },
  {
   "cell_type": "code",
   "execution_count": null,
   "metadata": {},
   "outputs": [],
   "source": [
    "#"
   ]
  },
  {
   "cell_type": "markdown",
   "metadata": {},
   "source": [
    "## 4.15 - Emoji Text (`emoji_text`)"
   ]
  },
  {
   "cell_type": "code",
   "execution_count": null,
   "metadata": {},
   "outputs": [],
   "source": [
    "#"
   ]
  },
  {
   "cell_type": "markdown",
   "metadata": {},
   "source": [
    "## 4.16 - Number of Emoji (`emoji_count`)"
   ]
  },
  {
   "cell_type": "code",
   "execution_count": null,
   "metadata": {},
   "outputs": [],
   "source": [
    "#"
   ]
  },
  {
   "cell_type": "markdown",
   "metadata": {},
   "source": [
    "## 4.17 - Publish Date of Tweet (`publish_date`)"
   ]
  },
  {
   "cell_type": "code",
   "execution_count": 87,
   "metadata": {},
   "outputs": [
    {
     "name": "stdout",
     "output_type": "stream",
     "text": [
      "TIMELINE: 2013-01-01 00:01 to 2017-12-30 23:57\n"
     ]
    }
   ],
   "source": [
    "# determine timeline of tweets\n",
    "min_time = merged_df['publish_date'].min()\n",
    "max_time = merged_df['publish_date'].max()\n",
    "\n",
    "print(f\"TIMELINE: {min_time:%Y-%m-%d %H:%M} to {max_time:%Y-%m-%d %H:%M}\")"
   ]
  },
  {
   "cell_type": "markdown",
   "metadata": {},
   "source": [
    "# 5 - Features (Composite Analysis)"
   ]
  },
  {
   "cell_type": "markdown",
   "metadata": {},
   "source": [
    "## 5.1 - Following Ratio"
   ]
  },
  {
   "cell_type": "code",
   "execution_count": 94,
   "metadata": {},
   "outputs": [
    {
     "data": {
      "text/plain": [
       "count    3.616702e+06\n",
       "mean              inf\n",
       "std               NaN\n",
       "min      0.000000e+00\n",
       "25%      1.617438e-02\n",
       "50%      3.907731e-01\n",
       "75%      9.406593e-01\n",
       "max               inf\n",
       "dtype: float64"
      ]
     },
     "execution_count": 94,
     "metadata": {},
     "output_type": "execute_result"
    }
   ],
   "source": [
    "#TODO - handle zero-valued features in this calc\n",
    "following_ratio: pd.Series = merged_df['following'] / merged_df['followers']\n",
    "\n",
    "following_ratio.describe()"
   ]
  },
  {
   "cell_type": "code",
   "execution_count": null,
   "metadata": {},
   "outputs": [],
   "source": [
    "# todo - visualize"
   ]
  },
  {
   "cell_type": "markdown",
   "metadata": {},
   "source": [
    "## 5.2 - Average Tweets per Author\n",
    "\n",
    "Note this is not representative of the entire population of Tweets, only of our dataset's sample of tweets/authors."
   ]
  },
  {
   "cell_type": "code",
   "execution_count": 106,
   "metadata": {},
   "outputs": [
    {
     "name": "stdout",
     "output_type": "stream",
     "text": [
      "Average tweets per author (in dataset):\t25.5 tweets/author\n"
     ]
    }
   ],
   "source": [
    "avg_tweets_per_author: float = len(merged_df.index) / merged_df['author'].nunique()\n",
    "\n",
    "print(f\"Average tweets per author (in dataset):\\t{avg_tweets_per_author:0.1f} tweets/author\")"
   ]
  }
 ],
 "metadata": {
  "kernelspec": {
   "display_name": "Python 3.10.8 ('capstone_env')",
   "language": "python",
   "name": "python3"
  },
  "language_info": {
   "codemirror_mode": {
    "name": "ipython",
    "version": 3
   },
   "file_extension": ".py",
   "mimetype": "text/x-python",
   "name": "python",
   "nbconvert_exporter": "python",
   "pygments_lexer": "ipython3",
   "version": "3.10.8"
  },
  "vscode": {
   "interpreter": {
    "hash": "2709f604237a04264ecc775f88c78ac45228a864edc8e08ce0d33e6ed578a355"
   }
  }
 },
 "nbformat": 4,
 "nbformat_minor": 4
}
