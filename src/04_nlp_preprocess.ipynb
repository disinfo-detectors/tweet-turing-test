{
 "cells": [
  {
   "cell_type": "markdown",
   "metadata": {},
   "source": [
    "# Tweet Turing Test: Detecting Disinformation on Twitter  \n",
    "\n",
    "|          | Group #2 - Disinformation Detectors                     |\n",
    "|---------:|---------------------------------------------------------|\n",
    "| Members  | John Johnson, Katy Matulay, Justin Minnion, Jared Rubin |\n",
    "| Notebook | `04_modelA_nlp_preprocess.ipynb`                        |\n",
    "| Purpose  | NLP-specific preprocessing for Model A                  |\n",
    "\n",
    "(todo: description)"
   ]
  },
  {
   "cell_type": "markdown",
   "metadata": {},
   "source": [
    "# 1 - Setup"
   ]
  },
  {
   "cell_type": "code",
   "execution_count": 1,
   "metadata": {
    "execution": {
     "iopub.execute_input": "2023-02-12T22:17:09.299129Z",
     "iopub.status.busy": "2023-02-12T22:17:09.297948Z",
     "iopub.status.idle": "2023-02-12T22:17:09.306927Z",
     "shell.execute_reply": "2023-02-12T22:17:09.306025Z",
     "shell.execute_reply.started": "2023-02-12T22:17:09.299098Z"
    },
    "tags": []
   },
   "outputs": [],
   "source": [
    "# imports from Python standard library\n",
    "\n",
    "# imports requiring installation\n",
    "#   connection to Google Cloud Storage\n",
    "from google.cloud import storage            # pip install google-cloud-storage\n",
    "from google.oauth2 import service_account   # pip install google-auth\n",
    "\n",
    "#  data science packages\n",
    "import numpy as np                          # pip install numpy\n",
    "import pandas as pd                         # pip install pandas"
   ]
  },
  {
   "cell_type": "code",
   "execution_count": 2,
   "metadata": {
    "execution": {
     "iopub.execute_input": "2023-02-12T22:17:10.931399Z",
     "iopub.status.busy": "2023-02-12T22:17:10.930692Z",
     "iopub.status.idle": "2023-02-12T22:17:10.938921Z",
     "shell.execute_reply": "2023-02-12T22:17:10.938099Z",
     "shell.execute_reply.started": "2023-02-12T22:17:10.931363Z"
    },
    "tags": []
   },
   "outputs": [],
   "source": [
    "# imports from tweet_turing.py\n",
    "import tweet_turing as tur      # note - different import approach from prior notebooks\n",
    "\n",
    "# imports from tweet_turing_paths.py\n",
    "from tweet_turing_paths import local_data_paths, local_snapshot_paths, gcp_data_paths, \\\n",
    "    gcp_snapshot_paths, gcp_project_name, gcp_bucket_name, gcp_key_file"
   ]
  },
  {
   "cell_type": "code",
   "execution_count": 3,
   "metadata": {
    "execution": {
     "iopub.execute_input": "2023-02-12T22:17:11.776866Z",
     "iopub.status.busy": "2023-02-12T22:17:11.776003Z",
     "iopub.status.idle": "2023-02-12T22:17:11.780400Z",
     "shell.execute_reply": "2023-02-12T22:17:11.779458Z",
     "shell.execute_reply.started": "2023-02-12T22:17:11.776831Z"
    },
    "tags": []
   },
   "outputs": [],
   "source": [
    "# pandas options\n",
    "pd.set_option('display.max_colwidth', None)"
   ]
  },
  {
   "cell_type": "markdown",
   "metadata": {},
   "source": [
    "## Local or Cloud?\n",
    "\n",
    "Decide here whether to run notebook with local data or GCP bucket data\n",
    " - if the working directory of this notebook has a \"../data/\" folder with data loaded (e.g. working on local computer or have data files loaded to a cloud VM) then use the \"local files\" option and comment out the \"gcp bucket files\" option\n",
    " - if this notebook is being run from a GCP VM (preferrably in the `us-central1` location) then use the \"gcp bucket files\" option and comment out the \"local files\" option"
   ]
  },
  {
   "cell_type": "code",
   "execution_count": 4,
   "metadata": {
    "execution": {
     "iopub.execute_input": "2023-02-12T22:17:13.922178Z",
     "iopub.status.busy": "2023-02-12T22:17:13.921301Z",
     "iopub.status.idle": "2023-02-12T22:17:13.926801Z",
     "shell.execute_reply": "2023-02-12T22:17:13.925910Z",
     "shell.execute_reply.started": "2023-02-12T22:17:13.922142Z"
    },
    "tags": []
   },
   "outputs": [],
   "source": [
    "# option: local files\n",
    "#local_or_cloud: str = \"local\"   # comment/uncomment this line or next\n",
    "\n",
    "# option: gcp bucket files\n",
    "local_or_cloud: str = \"cloud\"   # comment/uncomment this line or previous\n",
    "\n",
    "# don't comment/uncomment for remainder of cell\n",
    "if (local_or_cloud == \"local\"):\n",
    "    data_paths = local_data_paths\n",
    "    snapshot_paths = local_snapshot_paths\n",
    "elif (local_or_cloud == \"cloud\"):\n",
    "    data_paths = gcp_data_paths\n",
    "    snapshot_paths = gcp_snapshot_paths\n",
    "else:\n",
    "    raise ValueError(\"Variable 'local_or_cloud' can only take on one of two values, 'local' or 'cloud'.\")\n",
    "    # subsequent cells will not do this final \"else\" check"
   ]
  },
  {
   "cell_type": "code",
   "execution_count": 5,
   "metadata": {
    "execution": {
     "iopub.execute_input": "2023-02-12T22:17:14.278105Z",
     "iopub.status.busy": "2023-02-12T22:17:14.277221Z",
     "iopub.status.idle": "2023-02-12T22:17:14.457555Z",
     "shell.execute_reply": "2023-02-12T22:17:14.456747Z",
     "shell.execute_reply.started": "2023-02-12T22:17:14.278071Z"
    },
    "tags": []
   },
   "outputs": [],
   "source": [
    "# this cell only needs to run its code if local_or_cloud==\"cloud\"\n",
    "#   (though it is harmless if run when local_or_cloud==\"local\")\n",
    "gcp_storage_client: storage.Client = None\n",
    "gcp_bucket: storage.Bucket = None\n",
    "\n",
    "if (local_or_cloud == \"cloud\"):\n",
    "    #gcp_storage_client = tur.get_gcp_storage_client(project_name=gcp_project_name, key_file=gcp_key_file)\n",
    "    gcp_storage_client = tur.get_gcp_storage_client(project_name=gcp_project_name)\n",
    "    gcp_bucket = tur.get_gcp_bucket(storage_client=gcp_storage_client, bucket_name=gcp_bucket_name)"
   ]
  },
  {
   "cell_type": "markdown",
   "metadata": {},
   "source": [
    "# 2 - Load Dataset\n",
    "\n",
    "Core dataset, as prepared by prior notebook `03_eda.ipynb`, will be loaded as \"`df_full`\"."
   ]
  },
  {
   "cell_type": "code",
   "execution_count": 10,
   "metadata": {
    "execution": {
     "iopub.execute_input": "2023-02-12T22:02:10.958437Z",
     "iopub.status.busy": "2023-02-12T22:02:10.957730Z",
     "iopub.status.idle": "2023-02-12T22:02:21.203006Z",
     "shell.execute_reply": "2023-02-12T22:02:21.202133Z",
     "shell.execute_reply.started": "2023-02-12T22:02:10.958403Z"
    },
    "tags": []
   },
   "outputs": [],
   "source": [
    "# note this cell requires package `pyarrow` to be installed in environment\n",
    "parq_filename: str = \"data_after_03_eda.parquet.gz\"\n",
    "parq_path: str = f\"{snapshot_paths['parq_snapshot']}{parq_filename}\"\n",
    "\n",
    "if (local_or_cloud == \"local\"):\n",
    "    df_full = pd.read_parquet(parq_path, engine='pyarrow')\n",
    "elif (local_or_cloud == \"cloud\"):\n",
    "    df_full = tur.get_gcp_object_from_parq_as_df(bucket=gcp_bucket, object_name=parq_path)"
   ]
  },
  {
   "cell_type": "markdown",
   "metadata": {},
   "source": [
    "# 3 - Filter and Subset Data\n",
    "\n",
    "Data subset will be created as simply \"`df`\" for brevity."
   ]
  },
  {
   "cell_type": "markdown",
   "metadata": {},
   "source": [
    "## 3.1 Create filtered subset"
   ]
  },
  {
   "cell_type": "code",
   "execution_count": 13,
   "metadata": {
    "execution": {
     "iopub.execute_input": "2023-02-12T22:06:08.132243Z",
     "iopub.status.busy": "2023-02-12T22:06:08.131293Z",
     "iopub.status.idle": "2023-02-12T22:06:09.218037Z",
     "shell.execute_reply": "2023-02-12T22:06:09.217237Z",
     "shell.execute_reply.started": "2023-02-12T22:06:08.132206Z"
    }
   },
   "outputs": [],
   "source": [
    "# filter for english language only\n",
    "df_full = df_full.loc[df_full['language'] == 'en']"
   ]
  },
  {
   "cell_type": "code",
   "execution_count": 14,
   "metadata": {
    "execution": {
     "iopub.execute_input": "2023-02-12T22:06:57.455568Z",
     "iopub.status.busy": "2023-02-12T22:06:57.454717Z",
     "iopub.status.idle": "2023-02-12T22:06:58.315986Z",
     "shell.execute_reply": "2023-02-12T22:06:58.315192Z",
     "shell.execute_reply.started": "2023-02-12T22:06:57.455534Z"
    }
   },
   "outputs": [],
   "source": [
    "# subset parameters\n",
    "sample_fraction = 0.10  # within range (0.0, 1.0)\n",
    "random_seed = 3         # for reproducability, and \"the number of the counting shall be three\"\n",
    "\n",
    "# generate sample\n",
    "df = df_full.sample(frac=sample_fraction, random_state=random_seed).copy()    # using .copy() for clean-ish copy"
   ]
  },
  {
   "cell_type": "code",
   "execution_count": 15,
   "metadata": {
    "execution": {
     "iopub.execute_input": "2023-02-12T22:07:04.833908Z",
     "iopub.status.busy": "2023-02-12T22:07:04.833066Z",
     "iopub.status.idle": "2023-02-12T22:07:06.998001Z",
     "shell.execute_reply": "2023-02-12T22:07:06.997030Z",
     "shell.execute_reply.started": "2023-02-12T22:07:04.833869Z"
    }
   },
   "outputs": [
    {
     "name": "stdout",
     "output_type": "stream",
     "text": [
      "Full dataframe size:\t    2.74 GB\n",
      "Sampled dataframe size:\t    0.27 GB\n",
      "\n",
      "Full dataframe rows:\t  3,623,140\n",
      "Sampled dataframe rows:\t    362,314\n",
      "\n",
      "Full df class split:\t['58.4%', '41.6%']\n",
      "Sampled df class split:\t['58.4%', '41.6%']\n",
      "\n"
     ]
    }
   ],
   "source": [
    "BYTES_PER_GIGABYTE = 10**9  # using IEC-recommended conversion; https://en.wikipedia.org/wiki/Gigabyte#Base_10_(decimal)\n",
    "\n",
    "df_full_size_gb = df_full.memory_usage(deep=True).sum() / BYTES_PER_GIGABYTE\n",
    "df_size_gb = df.memory_usage(deep=True).sum() / BYTES_PER_GIGABYTE\n",
    "\n",
    "print(f\"Full dataframe size:\\t{df_full_size_gb:8.2f} GB\")\n",
    "print(f\"Sampled dataframe size:\\t{df_size_gb:8.2f} GB\\n\")\n",
    "\n",
    "print(f\"Full dataframe rows:\\t{len(df_full.index):>11,}\")\n",
    "print(f\"Sampled dataframe rows:\\t{len(df.index):>11,}\\n\")\n",
    "\n",
    "class_split_full = [f\"{x*100:0.1f}%\" for x in df_full['class'].value_counts().div(len(df_full.index)).tolist()]\n",
    "class_split_samp = [f\"{x*100:0.1f}%\" for x in df['class'].value_counts().div(len(df.index)).tolist()]\n",
    "\n",
    "print(f\"Full df class split:\\t{class_split_full}\")\n",
    "print(f\"Sampled df class split:\\t{class_split_samp}\\n\")\n"
   ]
  },
  {
   "cell_type": "code",
   "execution_count": 16,
   "metadata": {
    "execution": {
     "iopub.execute_input": "2023-02-12T22:11:38.742658Z",
     "iopub.status.busy": "2023-02-12T22:11:38.742302Z",
     "iopub.status.idle": "2023-02-12T22:11:46.059112Z",
     "shell.execute_reply": "2023-02-12T22:11:46.058331Z",
     "shell.execute_reply.started": "2023-02-12T22:11:38.742630Z"
    }
   },
   "outputs": [],
   "source": [
    "# save a copy of sampled df so above steps don't need to be repeated everytime\n",
    "# note this cell requires package `pyarrow` to be installed in environment\n",
    "parq_filename: str = \"data_sample_ten_percent.parquet.gz\"\n",
    "parq_path: str = f\"{snapshot_paths['parq_snapshot']}{parq_filename}\"\n",
    "\n",
    "if (local_or_cloud == \"local\"):\n",
    "    df.to_parquet(parq_path, engine='pyarrow', index=False, compression='gzip')\n",
    "elif (local_or_cloud == \"cloud\"):\n",
    "    tur.set_gcp_object_from_df_as_parq(bucket=gcp_bucket, object_name=parq_path, df=df)"
   ]
  },
  {
   "cell_type": "markdown",
   "metadata": {},
   "source": [
    "## 3.2 - Reload subset (already filtered)"
   ]
  },
  {
   "cell_type": "code",
   "execution_count": 6,
   "metadata": {
    "execution": {
     "iopub.execute_input": "2023-02-12T22:17:19.330736Z",
     "iopub.status.busy": "2023-02-12T22:17:19.329981Z",
     "iopub.status.idle": "2023-02-12T22:17:20.634076Z",
     "shell.execute_reply": "2023-02-12T22:17:20.633120Z",
     "shell.execute_reply.started": "2023-02-12T22:17:19.330698Z"
    },
    "tags": []
   },
   "outputs": [],
   "source": [
    "# reload the sampled data\n",
    "# note this cell requires package `pyarrow` to be installed in environment\n",
    "parq_filename: str = \"data_sample_ten_percent.parquet.gz\"\n",
    "parq_path: str = f\"{snapshot_paths['parq_snapshot']}{parq_filename}\"\n",
    "\n",
    "if (local_or_cloud == \"local\"):\n",
    "    df = pd.read_parquet(parq_path, engine='pyarrow')\n",
    "elif (local_or_cloud == \"cloud\"):\n",
    "    df = tur.get_gcp_object_from_parq_as_df(bucket=gcp_bucket, object_name=parq_path)"
   ]
  },
  {
   "cell_type": "markdown",
   "metadata": {},
   "source": [
    "# 4 - NLP Preprocess"
   ]
  },
  {
   "cell_type": "markdown",
   "metadata": {},
   "source": [
    "## 4.1 - Convert emoji characters *in situ* to their natural language equivalent"
   ]
  },
  {
   "cell_type": "code",
   "execution_count": 12,
   "metadata": {
    "execution": {
     "iopub.execute_input": "2023-02-12T22:18:29.901485Z",
     "iopub.status.busy": "2023-02-12T22:18:29.900724Z",
     "iopub.status.idle": "2023-02-12T22:18:29.909155Z",
     "shell.execute_reply": "2023-02-12T22:18:29.908297Z",
     "shell.execute_reply.started": "2023-02-12T22:18:29.901452Z"
    },
    "tags": []
   },
   "outputs": [
    {
     "data": {
      "text/plain": [
       "[\"I bet you didn't know that :person raising hand:, :person raising hand:\\u200d♂️, and :person raising hand:\\u200d♀️ are three different emojis.\"]"
      ]
     },
     "execution_count": 12,
     "metadata": {},
     "output_type": "execute_result"
    }
   ],
   "source": [
    "# sanity check of function\n",
    "test_text = \"I bet you didn't know that 🙋, 🙋‍♂️, and 🙋‍♀️ are three different emojis.\"\n",
    "test_text_df = pd.DataFrame([[test_text]], columns=['content'])\n",
    "\n",
    "# apply function\n",
    "test_text_df.apply(lambda row: tur.convert_emoji_text(row, enclosing_char=':'), axis='columns').tolist()"
   ]
  },
  {
   "cell_type": "code",
   "execution_count": 19,
   "metadata": {
    "execution": {
     "iopub.execute_input": "2023-02-12T22:30:11.203159Z",
     "iopub.status.busy": "2023-02-12T22:30:11.202496Z",
     "iopub.status.idle": "2023-02-12T22:30:11.207993Z",
     "shell.execute_reply": "2023-02-12T22:30:11.207192Z",
     "shell.execute_reply.started": "2023-02-12T22:30:11.203125Z"
    },
    "tags": []
   },
   "outputs": [],
   "source": [
    "def selective_convert_emoji_text(tweet_series: pd.Series, enclosing_char: str = \":\") -> str:\n",
    "    \"\"\"Selectively applies the tur.convert_emoji_text(...) function.\n",
    "        When a row's `emoji_text` value is > 0, apply function to `content`.\n",
    "        Otherwise, return the original `content` string.\"\"\"\n",
    "    if (tweet_series['emoji_count'] > 0):\n",
    "        return tur.convert_emoji_text(tweet_series, enclosing_char)\n",
    "    else:\n",
    "        return tweet_series['content']"
   ]
  },
  {
   "cell_type": "code",
   "execution_count": 20,
   "metadata": {
    "execution": {
     "iopub.execute_input": "2023-02-12T22:30:14.954748Z",
     "iopub.status.busy": "2023-02-12T22:30:14.954136Z",
     "iopub.status.idle": "2023-02-12T22:30:30.740137Z",
     "shell.execute_reply": "2023-02-12T22:30:30.739114Z",
     "shell.execute_reply.started": "2023-02-12T22:30:14.954715Z"
    },
    "tags": []
   },
   "outputs": [],
   "source": [
    "df['content_demoji'] = df.apply(lambda row: selective_convert_emoji_text(row), axis='columns')"
   ]
  },
  {
   "cell_type": "code",
   "execution_count": 21,
   "metadata": {
    "execution": {
     "iopub.execute_input": "2023-02-12T22:30:33.779066Z",
     "iopub.status.busy": "2023-02-12T22:30:33.778417Z",
     "iopub.status.idle": "2023-02-12T22:30:33.958059Z",
     "shell.execute_reply": "2023-02-12T22:30:33.957327Z",
     "shell.execute_reply.started": "2023-02-12T22:30:33.779033Z"
    },
    "tags": []
   },
   "outputs": [
    {
     "data": {
      "text/html": [
       "<div>\n",
       "<style scoped>\n",
       "    .dataframe tbody tr th:only-of-type {\n",
       "        vertical-align: middle;\n",
       "    }\n",
       "\n",
       "    .dataframe tbody tr th {\n",
       "        vertical-align: top;\n",
       "    }\n",
       "\n",
       "    .dataframe thead th {\n",
       "        text-align: right;\n",
       "    }\n",
       "</style>\n",
       "<table border=\"1\" class=\"dataframe\">\n",
       "  <thead>\n",
       "    <tr style=\"text-align: right;\">\n",
       "      <th></th>\n",
       "      <th>content</th>\n",
       "      <th>content_demoji</th>\n",
       "    </tr>\n",
       "  </thead>\n",
       "  <tbody>\n",
       "    <tr>\n",
       "      <th>112513</th>\n",
       "      <td>A new display at our @amhistorymuseum explores Hispanic advertising through the story of Selena: https://t.co/iS6NqzvjSL 📷: Al Rendon #HHM https://t.co/3xXYgPLVsY</td>\n",
       "      <td>A new display at our @amhistorymuseum explores Hispanic advertising through the story of Selena: https://t.co/iS6NqzvjSL :camera:: Al Rendon #HHM https://t.co/3xXYgPLVsY</td>\n",
       "    </tr>\n",
       "    <tr>\n",
       "      <th>158232</th>\n",
       "      <td>@maraantonoff @WomenInThoracic @WomenSurgeons @Inspire_WIS @LoggheMD @susieQP8 @LisaBrownMD @EADavidMD @wtspres Love it Mara ❤️</td>\n",
       "      <td>@maraantonoff @WomenInThoracic @WomenSurgeons @Inspire_WIS @LoggheMD @susieQP8 @LisaBrownMD @EADavidMD @wtspres Love it Mara :red heart:</td>\n",
       "    </tr>\n",
       "    <tr>\n",
       "      <th>74125</th>\n",
       "      <td>@GyanMano here is the poster for Rocky Handsome. Do not forget to watch the teaser on the 20th 🙂 @IAmAzure https://t.co/t9snvhV1BB</td>\n",
       "      <td>@GyanMano here is the poster for Rocky Handsome. Do not forget to watch the teaser on the 20th :slightly smiling face: @IAmAzure https://t.co/t9snvhV1BB</td>\n",
       "    </tr>\n",
       "    <tr>\n",
       "      <th>169657</th>\n",
       "      <td>.@marcale_lotts12 EasyMoneyBigga @AutumnElla1 Autumn @ItsmeCelesteP Celeste @JustinTense_ Justin @meeeeechhhh_ ❤️⚓️ http://t.co/nT7MmBfWin</td>\n",
       "      <td>.@marcale_lotts12 EasyMoneyBigga @AutumnElla1 Autumn @ItsmeCelesteP Celeste @JustinTense_ Justin @meeeeechhhh_ :red heart::anchor:️ http://t.co/nT7MmBfWin</td>\n",
       "    </tr>\n",
       "    <tr>\n",
       "      <th>176550</th>\n",
       "      <td>Filmed my first Minecraft Pocket Edition video with @RageElixir today!! Parkour on your phone = 😡😡😡</td>\n",
       "      <td>Filmed my first Minecraft Pocket Edition video with @RageElixir today!! Parkour on your phone = :pouting face::pouting face::pouting face:</td>\n",
       "    </tr>\n",
       "    <tr>\n",
       "      <th>338934</th>\n",
       "      <td>Wake up! https://t.co/nzyuMCLFB5</td>\n",
       "      <td>Wake up! https://t.co/nzyuMCLFB5</td>\n",
       "    </tr>\n",
       "    <tr>\n",
       "      <th>26831</th>\n",
       "      <td>#kah SICK! Islamic “Refugees” Have Started Flying a New Flag And It’s BAD https://t.co/v83wzqy6KJ #ka https://t.co/BlLDk82njj</td>\n",
       "      <td>#kah SICK! Islamic “Refugees” Have Started Flying a New Flag And It’s BAD https://t.co/v83wzqy6KJ #ka https://t.co/BlLDk82njj</td>\n",
       "    </tr>\n",
       "    <tr>\n",
       "      <th>189723</th>\n",
       "      <td>Bob Quinn on the Matthew Stafford extension: \"We're in the early stages... It takes two sides to do a deal.\" Quinn likes Stafford a lot.</td>\n",
       "      <td>Bob Quinn on the Matthew Stafford extension: \"We're in the early stages... It takes two sides to do a deal.\" Quinn likes Stafford a lot.</td>\n",
       "    </tr>\n",
       "    <tr>\n",
       "      <th>240824</th>\n",
       "      <td>The inner sanctum #MyBedroomIn3Words</td>\n",
       "      <td>The inner sanctum #MyBedroomIn3Words</td>\n",
       "    </tr>\n",
       "    <tr>\n",
       "      <th>149182</th>\n",
       "      <td>Why, yes, I'd like that endangered rhino with a side of arugula salad.   #ThingsNotToDoAtTheZoo</td>\n",
       "      <td>Why, yes, I'd like that endangered rhino with a side of arugula salad.   #ThingsNotToDoAtTheZoo</td>\n",
       "    </tr>\n",
       "  </tbody>\n",
       "</table>\n",
       "</div>"
      ],
      "text/plain": [
       "                                                                                                                                                                   content  \\\n",
       "112513  A new display at our @amhistorymuseum explores Hispanic advertising through the story of Selena: https://t.co/iS6NqzvjSL 📷: Al Rendon #HHM https://t.co/3xXYgPLVsY   \n",
       "158232                                     @maraantonoff @WomenInThoracic @WomenSurgeons @Inspire_WIS @LoggheMD @susieQP8 @LisaBrownMD @EADavidMD @wtspres Love it Mara ❤️   \n",
       "74125                                   @GyanMano here is the poster for Rocky Handsome. Do not forget to watch the teaser on the 20th 🙂 @IAmAzure https://t.co/t9snvhV1BB   \n",
       "169657                          .@marcale_lotts12 EasyMoneyBigga @AutumnElla1 Autumn @ItsmeCelesteP Celeste @JustinTense_ Justin @meeeeechhhh_ ❤️⚓️ http://t.co/nT7MmBfWin   \n",
       "176550                                                                 Filmed my first Minecraft Pocket Edition video with @RageElixir today!! Parkour on your phone = 😡😡😡   \n",
       "338934                                                                                                                                    Wake up! https://t.co/nzyuMCLFB5   \n",
       "26831                                        #kah SICK! Islamic “Refugees” Have Started Flying a New Flag And It’s BAD https://t.co/v83wzqy6KJ #ka https://t.co/BlLDk82njj   \n",
       "189723                            Bob Quinn on the Matthew Stafford extension: \"We're in the early stages... It takes two sides to do a deal.\" Quinn likes Stafford a lot.   \n",
       "240824                                                                                                                                The inner sanctum #MyBedroomIn3Words   \n",
       "149182                                                                     Why, yes, I'd like that endangered rhino with a side of arugula salad.   #ThingsNotToDoAtTheZoo   \n",
       "\n",
       "                                                                                                                                                                   content_demoji  \n",
       "112513  A new display at our @amhistorymuseum explores Hispanic advertising through the story of Selena: https://t.co/iS6NqzvjSL :camera:: Al Rendon #HHM https://t.co/3xXYgPLVsY  \n",
       "158232                                   @maraantonoff @WomenInThoracic @WomenSurgeons @Inspire_WIS @LoggheMD @susieQP8 @LisaBrownMD @EADavidMD @wtspres Love it Mara :red heart:  \n",
       "74125                    @GyanMano here is the poster for Rocky Handsome. Do not forget to watch the teaser on the 20th :slightly smiling face: @IAmAzure https://t.co/t9snvhV1BB  \n",
       "169657                 .@marcale_lotts12 EasyMoneyBigga @AutumnElla1 Autumn @ItsmeCelesteP Celeste @JustinTense_ Justin @meeeeechhhh_ :red heart::anchor:️ http://t.co/nT7MmBfWin  \n",
       "176550                                 Filmed my first Minecraft Pocket Edition video with @RageElixir today!! Parkour on your phone = :pouting face::pouting face::pouting face:  \n",
       "338934                                                                                                                                           Wake up! https://t.co/nzyuMCLFB5  \n",
       "26831                                               #kah SICK! Islamic “Refugees” Have Started Flying a New Flag And It’s BAD https://t.co/v83wzqy6KJ #ka https://t.co/BlLDk82njj  \n",
       "189723                                   Bob Quinn on the Matthew Stafford extension: \"We're in the early stages... It takes two sides to do a deal.\" Quinn likes Stafford a lot.  \n",
       "240824                                                                                                                                       The inner sanctum #MyBedroomIn3Words  \n",
       "149182                                                                            Why, yes, I'd like that endangered rhino with a side of arugula salad.   #ThingsNotToDoAtTheZoo  "
      ]
     },
     "execution_count": 21,
     "metadata": {},
     "output_type": "execute_result"
    }
   ],
   "source": [
    "# check output\n",
    "pd.concat([\n",
    "    df.loc[df['emoji_count'] > 0, ['content', 'content_demoji']].sample(5),\n",
    "    df.loc[df['emoji_count'] == 0, ['content', 'content_demoji']].sample(5)\n",
    "])"
   ]
  },
  {
   "cell_type": "markdown",
   "metadata": {},
   "source": [
    "## 4.2 - Create column containing tweet text with all emoji characters removed"
   ]
  },
  {
   "cell_type": "code",
   "execution_count": 33,
   "metadata": {
    "execution": {
     "iopub.execute_input": "2023-02-12T22:47:14.701761Z",
     "iopub.status.busy": "2023-02-12T22:47:14.700728Z",
     "iopub.status.idle": "2023-02-12T22:47:14.709531Z",
     "shell.execute_reply": "2023-02-12T22:47:14.708796Z",
     "shell.execute_reply.started": "2023-02-12T22:47:14.701719Z"
    }
   },
   "outputs": [
    {
     "data": {
      "text/plain": [
       "[\"I bet you didn't know that , , and  are three different emojis.\"]"
      ]
     },
     "execution_count": 33,
     "metadata": {},
     "output_type": "execute_result"
    }
   ],
   "source": [
    "# sanity check of function\n",
    "test_text = \"I bet you didn't know that 🙋, 🙋‍♂️, and 🙋‍♀️ are three different emojis.\"\n",
    "test_text_df = pd.DataFrame([[test_text]], columns=['content'])\n",
    "\n",
    "# apply function\n",
    "test_text_df.apply(lambda row: tur.remove_emoji_text(row), axis='columns').tolist()"
   ]
  },
  {
   "cell_type": "code",
   "execution_count": 29,
   "metadata": {
    "execution": {
     "iopub.execute_input": "2023-02-12T22:37:47.081549Z",
     "iopub.status.busy": "2023-02-12T22:37:47.081195Z",
     "iopub.status.idle": "2023-02-12T22:37:47.086416Z",
     "shell.execute_reply": "2023-02-12T22:37:47.085522Z",
     "shell.execute_reply.started": "2023-02-12T22:37:47.081518Z"
    },
    "tags": []
   },
   "outputs": [],
   "source": [
    "def selective_remove_emoji_text(tweet_series: pd.Series) -> str:\n",
    "    \"\"\"Selectively applies the tur.remove_emoji_text(...) function.\n",
    "        When a row's `emoji_text` value is > 0, apply function to `content`.\n",
    "        Otherwise, return the original `content` string.\"\"\"\n",
    "    if (tweet_series['emoji_count'] > 0):\n",
    "        return tur.remove_emoji_text(tweet_series)\n",
    "    else:\n",
    "        return tweet_series['content']"
   ]
  },
  {
   "cell_type": "code",
   "execution_count": 30,
   "metadata": {
    "execution": {
     "iopub.execute_input": "2023-02-12T22:37:49.101694Z",
     "iopub.status.busy": "2023-02-12T22:37:49.100958Z",
     "iopub.status.idle": "2023-02-12T22:38:04.791395Z",
     "shell.execute_reply": "2023-02-12T22:38:04.790616Z",
     "shell.execute_reply.started": "2023-02-12T22:37:49.101649Z"
    },
    "tags": []
   },
   "outputs": [],
   "source": [
    "# make a column with the text but no emojis\n",
    "df['content_no_emoji'] = df.apply(lambda row: selective_remove_emoji_text(row), axis='columns')"
   ]
  },
  {
   "cell_type": "code",
   "execution_count": 31,
   "metadata": {
    "execution": {
     "iopub.execute_input": "2023-02-12T22:38:42.056557Z",
     "iopub.status.busy": "2023-02-12T22:38:42.056189Z",
     "iopub.status.idle": "2023-02-12T22:38:42.276148Z",
     "shell.execute_reply": "2023-02-12T22:38:42.275333Z",
     "shell.execute_reply.started": "2023-02-12T22:38:42.056527Z"
    },
    "tags": []
   },
   "outputs": [
    {
     "data": {
      "text/html": [
       "<div>\n",
       "<style scoped>\n",
       "    .dataframe tbody tr th:only-of-type {\n",
       "        vertical-align: middle;\n",
       "    }\n",
       "\n",
       "    .dataframe tbody tr th {\n",
       "        vertical-align: top;\n",
       "    }\n",
       "\n",
       "    .dataframe thead th {\n",
       "        text-align: right;\n",
       "    }\n",
       "</style>\n",
       "<table border=\"1\" class=\"dataframe\">\n",
       "  <thead>\n",
       "    <tr style=\"text-align: right;\">\n",
       "      <th></th>\n",
       "      <th>content</th>\n",
       "      <th>content_no_emoji</th>\n",
       "    </tr>\n",
       "  </thead>\n",
       "  <tbody>\n",
       "    <tr>\n",
       "      <th>223028</th>\n",
       "      <td>RT @badman_og: Here for this📌 https://t.co/WCG9VSyDNh</td>\n",
       "      <td>RT @badman_og: Here for this https://t.co/WCG9VSyDNh</td>\n",
       "    </tr>\n",
       "    <tr>\n",
       "      <th>13315</th>\n",
       "      <td>'@zubovnik  ❤❤❤ Sexy Russians known how to ride bikes.  ❤❤❤'</td>\n",
       "      <td>'@zubovnik   Sexy Russians known how to ride bikes.  '</td>\n",
       "    </tr>\n",
       "    <tr>\n",
       "      <th>30391</th>\n",
       "      <td>@CurfewUKMUSIC @mtvex @talithaminnis @ShelbyBilingham I really don't know bro.. They'll deffo be repeats through the week! 👊</td>\n",
       "      <td>@CurfewUKMUSIC @mtvex @talithaminnis @ShelbyBilingham I really don't know bro.. They'll deffo be repeats through the week!</td>\n",
       "    </tr>\n",
       "    <tr>\n",
       "      <th>75237</th>\n",
       "      <td>RT @FaZe_Rain: You are truly the best. Thank you so much for 5 Million Subscribers. ❤️💧</td>\n",
       "      <td>RT @FaZe_Rain: You are truly the best. Thank you so much for 5 Million Subscribers.</td>\n",
       "    </tr>\n",
       "    <tr>\n",
       "      <th>330919</th>\n",
       "      <td>We apparently show compassion as a country—by gutting programs for the needy 🙄\n",
       "\n",
       "#FeedTheChildren https://t.co/x5pJmTuy4x</td>\n",
       "      <td>We apparently show compassion as a country—by gutting programs for the needy \\n\\n#FeedTheChildren https://t.co/x5pJmTuy4x</td>\n",
       "    </tr>\n",
       "    <tr>\n",
       "      <th>305439</th>\n",
       "      <td>Listening to the #Indy 911 scanner is like a sixth sense for me. I can hear things even when the dispatcher mumbles</td>\n",
       "      <td>Listening to the #Indy 911 scanner is like a sixth sense for me. I can hear things even when the dispatcher mumbles</td>\n",
       "    </tr>\n",
       "    <tr>\n",
       "      <th>128261</th>\n",
       "      <td>.@realisticstud29 RealisticLove @Terrijyl Tj @fonr_yfollowrs ??? @realtalkVEEZY Veezus @SportsDPT Alex http://t.co/9VDpi18wa9</td>\n",
       "      <td>.@realisticstud29 RealisticLove @Terrijyl Tj @fonr_yfollowrs ??? @realtalkVEEZY Veezus @SportsDPT Alex http://t.co/9VDpi18wa9</td>\n",
       "    </tr>\n",
       "    <tr>\n",
       "      <th>179913</th>\n",
       "      <td>Help for a new candidate? Hello all.I am currently in the beginning steps of running for school board in Minnesota. I'm really excited to a…</td>\n",
       "      <td>Help for a new candidate? Hello all.I am currently in the beginning steps of running for school board in Minnesota. I'm really excited to a…</td>\n",
       "    </tr>\n",
       "    <tr>\n",
       "      <th>90572</th>\n",
       "      <td>Nearly all Americans reset their clocks this past weekend. The history and reasoning behind this practice is here: http://t.co/wZHLH1Ycay</td>\n",
       "      <td>Nearly all Americans reset their clocks this past weekend. The history and reasoning behind this practice is here: http://t.co/wZHLH1Ycay</td>\n",
       "    </tr>\n",
       "    <tr>\n",
       "      <th>358045</th>\n",
       "      <td>@omeraziz12 listened to your debate with @SamHarrisOrg, you make the claim that Iran does not punish apostacy. What is your basis for that?</td>\n",
       "      <td>@omeraziz12 listened to your debate with @SamHarrisOrg, you make the claim that Iran does not punish apostacy. What is your basis for that?</td>\n",
       "    </tr>\n",
       "  </tbody>\n",
       "</table>\n",
       "</div>"
      ],
      "text/plain": [
       "                                                                                                                                             content  \\\n",
       "223028                                                                                         RT @badman_og: Here for this📌 https://t.co/WCG9VSyDNh   \n",
       "13315                                                                                   '@zubovnik  ❤❤❤ Sexy Russians known how to ride bikes.  ❤❤❤'   \n",
       "30391                   @CurfewUKMUSIC @mtvex @talithaminnis @ShelbyBilingham I really don't know bro.. They'll deffo be repeats through the week! 👊   \n",
       "75237                                                        RT @FaZe_Rain: You are truly the best. Thank you so much for 5 Million Subscribers. ❤️💧   \n",
       "330919                      We apparently show compassion as a country—by gutting programs for the needy 🙄\n",
       "\n",
       "#FeedTheChildren https://t.co/x5pJmTuy4x   \n",
       "305439                           Listening to the #Indy 911 scanner is like a sixth sense for me. I can hear things even when the dispatcher mumbles   \n",
       "128261                 .@realisticstud29 RealisticLove @Terrijyl Tj @fonr_yfollowrs ??? @realtalkVEEZY Veezus @SportsDPT Alex http://t.co/9VDpi18wa9   \n",
       "179913  Help for a new candidate? Hello all.I am currently in the beginning steps of running for school board in Minnesota. I'm really excited to a…   \n",
       "90572      Nearly all Americans reset their clocks this past weekend. The history and reasoning behind this practice is here: http://t.co/wZHLH1Ycay   \n",
       "358045   @omeraziz12 listened to your debate with @SamHarrisOrg, you make the claim that Iran does not punish apostacy. What is your basis for that?   \n",
       "\n",
       "                                                                                                                                    content_no_emoji  \n",
       "223028                                                                                          RT @badman_og: Here for this https://t.co/WCG9VSyDNh  \n",
       "13315                                                                                         '@zubovnik   Sexy Russians known how to ride bikes.  '  \n",
       "30391                    @CurfewUKMUSIC @mtvex @talithaminnis @ShelbyBilingham I really don't know bro.. They'll deffo be repeats through the week!   \n",
       "75237                                                           RT @FaZe_Rain: You are truly the best. Thank you so much for 5 Million Subscribers.   \n",
       "330919                     We apparently show compassion as a country—by gutting programs for the needy \\n\\n#FeedTheChildren https://t.co/x5pJmTuy4x  \n",
       "305439                           Listening to the #Indy 911 scanner is like a sixth sense for me. I can hear things even when the dispatcher mumbles  \n",
       "128261                 .@realisticstud29 RealisticLove @Terrijyl Tj @fonr_yfollowrs ??? @realtalkVEEZY Veezus @SportsDPT Alex http://t.co/9VDpi18wa9  \n",
       "179913  Help for a new candidate? Hello all.I am currently in the beginning steps of running for school board in Minnesota. I'm really excited to a…  \n",
       "90572      Nearly all Americans reset their clocks this past weekend. The history and reasoning behind this practice is here: http://t.co/wZHLH1Ycay  \n",
       "358045   @omeraziz12 listened to your debate with @SamHarrisOrg, you make the claim that Iran does not punish apostacy. What is your basis for that?  "
      ]
     },
     "execution_count": 31,
     "metadata": {},
     "output_type": "execute_result"
    }
   ],
   "source": [
    "# check output\n",
    "pd.concat([\n",
    "    df.loc[df['emoji_count'] > 0, ['content', 'content_no_emoji']].sample(5),\n",
    "    df.loc[df['emoji_count'] == 0, ['content', 'content_no_emoji']].sample(5)\n",
    "])"
   ]
  },
  {
   "cell_type": "markdown",
   "metadata": {},
   "source": [
    "# 5 - Export NLP-preprocessed dataset"
   ]
  },
  {
   "cell_type": "code",
   "execution_count": 32,
   "metadata": {
    "execution": {
     "iopub.execute_input": "2023-02-12T22:41:01.059616Z",
     "iopub.status.busy": "2023-02-12T22:41:01.058481Z",
     "iopub.status.idle": "2023-02-12T22:41:14.314146Z",
     "shell.execute_reply": "2023-02-12T22:41:14.313386Z",
     "shell.execute_reply.started": "2023-02-12T22:41:01.059576Z"
    },
    "tags": []
   },
   "outputs": [],
   "source": [
    "# save a copy of sampled df so above steps don't need to be repeated everytime\n",
    "# note this cell requires package `pyarrow` to be installed in environment\n",
    "parq_filename: str = \"data_sample_ten_percent_NLP_preprocessed.parquet.gz\"\n",
    "parq_path: str = f\"{snapshot_paths['parq_snapshot']}{parq_filename}\"\n",
    "\n",
    "if (local_or_cloud == \"local\"):\n",
    "    df.to_parquet(parq_path, engine='pyarrow', index=False, compression='gzip')\n",
    "elif (local_or_cloud == \"cloud\"):\n",
    "    tur.set_gcp_object_from_df_as_parq(bucket=gcp_bucket, object_name=parq_path, df=df)"
   ]
  }
 ],
 "metadata": {
  "environment": {
   "kernel": "python3",
   "name": "tf2-gpu.2-11.m103",
   "type": "gcloud",
   "uri": "gcr.io/deeplearning-platform-release/tf2-gpu.2-11:m103"
  },
  "kernelspec": {
   "display_name": "Python 3 (ipykernel)",
   "language": "python",
   "name": "python3"
  },
  "language_info": {
   "codemirror_mode": {
    "name": "ipython",
    "version": 3
   },
   "file_extension": ".py",
   "mimetype": "text/x-python",
   "name": "python",
   "nbconvert_exporter": "python",
   "pygments_lexer": "ipython3",
   "version": "3.7.12"
  },
  "vscode": {
   "interpreter": {
    "hash": "65a6dd32d71ed4a2e5ac9ab3f52d3aeee49f01a00467a63b19dc274a1d27154b"
   }
  }
 },
 "nbformat": 4,
 "nbformat_minor": 4
}
