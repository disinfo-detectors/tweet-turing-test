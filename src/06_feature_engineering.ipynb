{
  "cells": [
    {
      "cell_type": "markdown",
      "metadata": {
        "id": "C_GbDG4q-sBe"
      },
      "source": [
        "# Tweet Turing Test: Detecting Disinformation on Twitter  \n",
        "\n",
        "|          | Group #2 - Disinformation Detectors                     |\n",
        "|---------:|---------------------------------------------------------|\n",
        "| Members  | John Johnson, Katy Matulay, Justin Minnion, Jared Rubin |\n",
        "| Notebook | `06_feature_engineering.ipynb`                        |\n",
        "| Purpose  | Feature Engineering for ML models                |\n",
        "\n",
        "(todo: description)"
      ]
    },
    {
      "cell_type": "markdown",
      "metadata": {
        "id": "IDQTY8j_-sBi"
      },
      "source": [
        "# 1 - Setup"
      ]
    },
    {
      "cell_type": "code",
      "execution_count": null,
      "metadata": {
        "id": "zzSINVAB-sBi"
      },
      "outputs": [],
      "source": [
        "# imports from Python standard library\n",
        "\n",
        "# imports requiring installation\n",
        "#   connection to Google Cloud Storage\n",
        "from google.cloud import storage            # pip install google-cloud-storage\n",
        "from google.oauth2 import service_account   # pip install google-auth\n",
        "\n",
        "#  data science packages\n",
        "import numpy as np                          # pip install numpy\n",
        "import pandas as pd                         # pip install pandas"
      ]
    },
    {
      "cell_type": "code",
      "execution_count": null,
      "metadata": {
        "colab": {
          "base_uri": "https://localhost:8080/"
        },
        "id": "NjPqfMreAZeL",
        "outputId": "13209826-11ae-400c-affa-4ac29683e862"
      },
      "outputs": [
        {
          "output_type": "stream",
          "name": "stdout",
          "text": [
            "Looking in indexes: https://pypi.org/simple, https://us-python.pkg.dev/colab-wheels/public/simple/\n",
            "Collecting demoji\n",
            "  Downloading demoji-1.1.0-py3-none-any.whl (42 kB)\n",
            "\u001b[2K     \u001b[90m━━━━━━━━━━━━━━━━━━━━━━━━━━━━━━━━━━━━━━━━\u001b[0m \u001b[32m42.9/42.9 KB\u001b[0m \u001b[31m1.9 MB/s\u001b[0m eta \u001b[36m0:00:00\u001b[0m\n",
            "\u001b[?25hInstalling collected packages: demoji\n",
            "Successfully installed demoji-1.1.0\n"
          ]
        }
      ],
      "source": [
        "!pip install demoji\n",
        "import pandas as pd \n",
        "import os\n",
        "import numpy as np\n",
        "import matplotlib.pyplot as plt\n",
        "import demoji\n",
        "import seaborn as sns\n",
        "import nltk\n",
        "from datetime import date\n",
        "import regex as re\n",
        "import pyarrow"
      ]
    },
    {
      "cell_type": "code",
      "execution_count": null,
      "metadata": {
        "colab": {
          "base_uri": "https://localhost:8080/"
        },
        "id": "m6dyYmht_hZu",
        "outputId": "0d7e294e-6b81-4b0b-d1ab-158d8d5ce262"
      },
      "outputs": [
        {
          "output_type": "stream",
          "name": "stdout",
          "text": [
            "Mounted at /content/gdrive\n"
          ]
        }
      ],
      "source": [
        "#Colab Specific workflow - remove for github\n",
        "from google.colab import drive\n",
        "\n",
        "drive.mount('/content/gdrive')"
      ]
    },
    {
      "cell_type": "code",
      "execution_count": null,
      "metadata": {
        "id": "CobCwwik-sBk"
      },
      "outputs": [],
      "source": [
        "# pandas options\n",
        "pd.set_option('display.max_colwidth', None)"
      ]
    },
    {
      "cell_type": "markdown",
      "metadata": {
        "id": "SJJJh8x1-sBk"
      },
      "source": [
        "## Local or Cloud?\n",
        "\n",
        "Decide here whether to run notebook with local data or GCP bucket data\n",
        " - if the working directory of this notebook has a \"../data/\" folder with data loaded (e.g. working on local computer or have data files loaded to a cloud VM) then use the \"local files\" option and comment out the \"gcp bucket files\" option\n",
        " - if this notebook is being run from a GCP VM (preferrably in the `us-central1` location) then use the \"gcp bucket files\" option and comment out the \"local files\" option"
      ]
    },
    {
      "cell_type": "code",
      "execution_count": null,
      "metadata": {
        "id": "_KvlnbAV-sBk"
      },
      "outputs": [],
      "source": [
        "# option: local files\n",
        "local_or_cloud: str = \"local\"   # comment/uncomment this line or next\n",
        "\n",
        "# option: gcp bucket files\n",
        "#local_or_cloud: str = \"cloud\"   # comment/uncomment this line or previous\n",
        "\n",
        "# don't comment/uncomment for remainder of cell\n",
        "if (local_or_cloud == \"local\"):\n",
        "    data_paths = local_data_paths\n",
        "    snapshot_paths = local_snapshot_paths\n",
        "elif (local_or_cloud == \"cloud\"):\n",
        "    data_paths = gcp_data_paths\n",
        "    snapshot_paths = gcp_snapshot_paths\n",
        "else:\n",
        "    raise ValueError(\"Variable 'local_or_cloud' can only take on one of two values, 'local' or 'cloud'.\")\n",
        "    # subsequent cells will not do this final \"else\" check"
      ]
    },
    {
      "cell_type": "code",
      "execution_count": null,
      "metadata": {
        "id": "aH-uzY0S-sBl"
      },
      "outputs": [],
      "source": [
        "# this cell only needs to run its code if local_or_cloud==\"cloud\"\n",
        "#   (though it is harmless if run when local_or_cloud==\"local\")\n",
        "gcp_storage_client: storage.Client = None\n",
        "gcp_bucket: storage.Bucket = None\n",
        "\n",
        "if (local_or_cloud == \"cloud\"):\n",
        "    gcp_storage_client = tur.get_gcp_storage_client(project_name=gcp_project_name, key_file=gcp_key_file)\n",
        "    gcp_bucket = tur.get_gcp_bucket(storage_client=gcp_storage_client, bucket_name=gcp_bucket_name)"
      ]
    },
    {
      "cell_type": "markdown",
      "metadata": {
        "id": "zdhkKA-6-sBm"
      },
      "source": [
        "## 2 - Load EDA Export Dataset\n",
        "\n",
        "Sampled dataset, as prepared by prior notebook `04_nlp_preprocess.ipynb`, will be loaded as \"`data`\".\n",
        "Full dataset, as prepared by `03_eda.ipynb`, will be loaded as \"`df`\"."
      ]
    },
    {
      "cell_type": "code",
      "execution_count": null,
      "metadata": {
        "id": "btq4HW8J_-A9"
      },
      "outputs": [],
      "source": [
        "#Colab Specific workflow - remove for github\n",
        "\n",
        "#Google Drive url for data file\n",
        "file_folder = '/content/gdrive/MyDrive/Grad School/DSCI592/data/'"
      ]
    },
    {
      "cell_type": "markdown",
      "source": [
        "#### 10% Sampled Dataset"
      ],
      "metadata": {
        "id": "KDEd_bkpMNzk"
      }
    },
    {
      "cell_type": "code",
      "source": [
        "#Colab Specific workflow - remove for github\n",
        "\n",
        "#Read in the parquet file of the 10% sample dataset\n",
        "data = pd.read_parquet(file_folder+'2data_sample_ten_percent.parquet.gz')\n",
        "#data = pd.read_parquet('/content/gdrive/MyDrive/Grad School/DSCI592/data/2data_sample_ten_percent.parquet.gz')"
      ],
      "metadata": {
        "id": "EWvJdY0FXv92"
      },
      "execution_count": null,
      "outputs": []
    },
    {
      "cell_type": "markdown",
      "source": [
        "#### Full dataset"
      ],
      "metadata": {
        "id": "Umu5VmJOMQMd"
      }
    },
    {
      "cell_type": "code",
      "source": [
        "#Colab Specific workflow - remove for github\n",
        "\n",
        "#complete dataset is df\n",
        "df = pd.read_parquet(file_folder +'data_after_03_eda.parquet.gz')"
      ],
      "metadata": {
        "id": "klxfNRhhREaS"
      },
      "execution_count": null,
      "outputs": []
    },
    {
      "cell_type": "code",
      "execution_count": null,
      "metadata": {
        "colab": {
          "base_uri": "https://localhost:8080/"
        },
        "id": "ohcKDfPED40c",
        "outputId": "9864bd98-fa83-492d-db8a-5432f86b26aa"
      },
      "outputs": [
        {
          "output_type": "execute_result",
          "data": {
            "text/plain": [
              "Index(['external_author_id', 'author', 'content', 'region', 'language',\n",
              "       'following', 'followers', 'updates', 'post_type', 'is_retweet',\n",
              "       'account_category', 'tweet_id', 'tco1_step1', 'data_source', 'has_url',\n",
              "       'emoji_text', 'emoji_count', 'publish_date', 'class', 'following_ratio',\n",
              "       'class_numeric', 'RUS_lett_count'],\n",
              "      dtype='object')"
            ]
          },
          "metadata": {},
          "execution_count": 6
        }
      ],
      "source": [
        "data.columns"
      ]
    },
    {
      "cell_type": "markdown",
      "source": [
        "## 3 - Feature Engineering"
      ],
      "metadata": {
        "id": "FQolwD7hV5jW"
      }
    },
    {
      "cell_type": "markdown",
      "source": [
        "#### 3a) Binary Emoji Features:\n",
        "Emoji text will be used to derive binary features for the Top 7 Troll emojis that don't appear in the Verified User Top 10."
      ],
      "metadata": {
        "id": "GeHZsVoLWBx1"
      }
    },
    {
      "cell_type": "code",
      "source": [
        "#Convert emoji_text to string object in order to use regex\n",
        "data['emoji_text']=data['emoji_text'].astype(str)\n",
        "data.dtypes"
      ],
      "metadata": {
        "colab": {
          "base_uri": "https://localhost:8080/"
        },
        "id": "OuiAN3TkO3Ky",
        "outputId": "ffcdb856-d7fb-442c-c8e9-937339e512c0"
      },
      "execution_count": null,
      "outputs": [
        {
          "output_type": "execute_result",
          "data": {
            "text/plain": [
              "external_author_id                 string\n",
              "author                             string\n",
              "content                            string\n",
              "region                             string\n",
              "language                         category\n",
              "following                          uint64\n",
              "followers                          uint64\n",
              "updates                            uint64\n",
              "post_type                        category\n",
              "is_retweet                        float64\n",
              "account_category                 category\n",
              "tweet_id                           string\n",
              "tco1_step1                         string\n",
              "data_source                      category\n",
              "has_url                             int64\n",
              "emoji_text                         object\n",
              "emoji_count                         int64\n",
              "publish_date          datetime64[ns, UTC]\n",
              "class                            category\n",
              "following_ratio                   float64\n",
              "class_numeric                        int8\n",
              "RUS_lett_count                      int64\n",
              "dtype: object"
            ]
          },
          "metadata": {},
          "execution_count": 9
        }
      ]
    },
    {
      "cell_type": "code",
      "source": [
        "#confirm string\n",
        "data[data['emoji_count']>0]['emoji_text'][:8]"
      ],
      "metadata": {
        "colab": {
          "base_uri": "https://localhost:8080/"
        },
        "id": "SWQqXkOLPALV",
        "outputId": "6cc2f365-379d-4bf1-fba6-db11b4b6f52d"
      },
      "execution_count": null,
      "outputs": [
        {
          "output_type": "execute_result",
          "data": {
            "text/plain": [
              "24                                                           ['tornado' 'flexed biceps']\n",
              "48                                                  ['face with open mouth' 'thumbs up']\n",
              "79                                                                 ['red question mark']\n",
              "94                                                                              ['bear']\n",
              "106    ['thumbs up' 'flag: United States' 'flag: United States'\\n 'flag: United States']\n",
              "112                                                                   ['hundred points']\n",
              "113                                                                       ['check mark']\n",
              "165                                                                            ['skull']\n",
              "Name: emoji_text, dtype: object"
            ]
          },
          "metadata": {},
          "execution_count": 12
        }
      ]
    },
    {
      "cell_type": "code",
      "source": [
        "#Create small sample to test regex\n",
        "emoji_test=data[data['emoji_count']>0][:10]\n",
        "\n",
        "emoji_test['emoji_text']"
      ],
      "metadata": {
        "id": "JZwsIGG-H2Kg",
        "colab": {
          "base_uri": "https://localhost:8080/"
        },
        "outputId": "40ecf512-4fd5-4dac-dd5b-4bd4b5d25a6d"
      },
      "execution_count": null,
      "outputs": [
        {
          "output_type": "execute_result",
          "data": {
            "text/plain": [
              "24                                                           ['tornado' 'flexed biceps']\n",
              "48                                                  ['face with open mouth' 'thumbs up']\n",
              "79                                                                 ['red question mark']\n",
              "94                                                                              ['bear']\n",
              "106    ['thumbs up' 'flag: United States' 'flag: United States'\\n 'flag: United States']\n",
              "112                                                                   ['hundred points']\n",
              "113                                                                       ['check mark']\n",
              "165                                                                            ['skull']\n",
              "173                                    ['evergreen tree' 'fish' 'evergreen tree' 'deer']\n",
              "183                                                                      ['soccer ball']\n",
              "Name: emoji_text, dtype: object"
            ]
          },
          "metadata": {},
          "execution_count": 55
        }
      ]
    },
    {
      "cell_type": "code",
      "source": [
        "emoji_test['emoji_flagUS'] = emoji_test.emoji_text.apply(lambda x: 1 if re.findall('flag: United States',x) else 0)\n",
        "emoji_test['emoji_police'] = emoji_test.emoji_text.apply(lambda x: 1 if re.findall('police car light',x) else 0)\n",
        "emoji_test['emoji_check']= emoji_test.emoji_text.apply(lambda x: 1 if re.findall('check mark',x) else 0)\n",
        "emoji_test['emoji_exclamation'] = emoji_test.emoji_text.apply(lambda x: 1 if re.findall('double exclamation mark',x) else 0)  \n",
        "emoji_test['emoji_fist'] = emoji_test.emoji_text.apply(lambda x: 1 if re.findall('raised fist',x) else 0)  \n",
        "emoji_test['emoji_collision'] = emoji_test.emoji_text.apply(lambda x: 1 if re.findall('collision',x) else 0) \n",
        "emoji_test['emoji_prohibited'] = emoji_test.emoji_text.apply(lambda x: 1 if re.findall('prohibited',x) else 0) "
      ],
      "metadata": {
        "id": "xF-an7vjJR1_"
      },
      "execution_count": null,
      "outputs": []
    },
    {
      "cell_type": "code",
      "source": [
        "emoji_test['emoji_troll']=emoji_test.emoji_text.apply(lambda x: 1 if re.findall('flag: United States',x) \n",
        "or re.findall('police car light',x)\n",
        "or re.findall('check mark',x)\n",
        "or re.findall('double exclamation mark',x)\n",
        "or re.findall('raised fist',x) \n",
        "or re.findall('collision',x)\n",
        "or re.findall('prohibited',x) else 0)"
      ],
      "metadata": {
        "id": "RJ-cIdj5Y_Ug"
      },
      "execution_count": null,
      "outputs": []
    },
    {
      "cell_type": "code",
      "source": [
        "emoji_test['emoji_troll2']= emoji_test.emoji_text.apply(lambda x: 1 if re.findall(r'flag: United States|check mark|police car light| double exclamation mark|raised fist|collision|prohibited', x) else 0)"
      ],
      "metadata": {
        "id": "dWNvscXHaAu7"
      },
      "execution_count": null,
      "outputs": []
    },
    {
      "cell_type": "code",
      "source": [
        "emoji_test['emoji_troll2']"
      ],
      "metadata": {
        "colab": {
          "base_uri": "https://localhost:8080/"
        },
        "id": "9vujPn9UZHpN",
        "outputId": "2b845eab-169d-48cc-c268-8120d8cad6ef"
      },
      "execution_count": null,
      "outputs": [
        {
          "output_type": "execute_result",
          "data": {
            "text/plain": [
              "24     0\n",
              "48     0\n",
              "79     0\n",
              "94     0\n",
              "106    1\n",
              "112    0\n",
              "113    1\n",
              "165    0\n",
              "173    0\n",
              "183    0\n",
              "Name: emoji_troll2, dtype: int64"
            ]
          },
          "metadata": {},
          "execution_count": 73
        }
      ]
    },
    {
      "cell_type": "markdown",
      "source": [
        "#### Pre-process Emojis Sub-sampled dataset"
      ],
      "metadata": {
        "id": "jPgrFXaVGCBw"
      }
    },
    {
      "cell_type": "code",
      "source": [
        "troll_emojis= ['flag: United States','police car light','check mark','double exclamation mark','raised fist','collision','prohibited']"
      ],
      "metadata": {
        "id": "S7VgZGLgGDtc"
      },
      "execution_count": null,
      "outputs": []
    },
    {
      "cell_type": "code",
      "source": [
        "data['emoji_flagUS'] = data.emoji_text.apply(lambda x: 1 if re.findall('flag: United States',x) else 0)\n",
        "data['emoji_police'] = data.emoji_text.apply(lambda x: 1 if re.findall('police car light',x) else 0)\n",
        "data['emoji_check']= data.emoji_text.apply(lambda x: 1 if re.findall('check mark',x) else 0)\n",
        "data['emoji_exclamation'] = data.emoji_text.apply(lambda x: 1 if re.findall('double exclamation mark',x) else 0)  \n",
        "data['emoji_fist'] = data.emoji_text.apply(lambda x: 1 if re.findall('raised fist',x) else 0)  \n",
        "data['emoji_collision'] = data.emoji_text.apply(lambda x: 1 if re.findall('collision',x) else 0) \n",
        "data['emoji_prohibited'] = data.emoji_text.apply(lambda x: 1 if re.findall('prohibited',x) else 0) "
      ],
      "metadata": {
        "id": "sTrW7QwkS2-r"
      },
      "execution_count": null,
      "outputs": []
    },
    {
      "cell_type": "code",
      "source": [
        "#validate\n",
        "data['emoji_flagUS'].value_counts()\n",
        "data['emoji_check'].value_counts()\n",
        "data['emoji_exclamation'].value_counts()\n",
        "data['emoji_fist'].value_counts()\n",
        "data['emoji_prohibited'].value_counts()\n",
        "data['emoji_police'].value_counts()\n",
        "data['emoji_collision'].value_counts()"
      ],
      "metadata": {
        "colab": {
          "base_uri": "https://localhost:8080/"
        },
        "id": "9GuCxxVOTxXf",
        "outputId": "3a257b51-5a59-4be9-869e-e5454db65015"
      },
      "execution_count": null,
      "outputs": [
        {
          "output_type": "execute_result",
          "data": {
            "text/plain": [
              "0    362190\n",
              "1       124\n",
              "Name: emoji_collision, dtype: int64"
            ]
          },
          "metadata": {},
          "execution_count": 22
        }
      ]
    },
    {
      "cell_type": "code",
      "source": [
        "#export to parquet file\n",
        "import pyarrow\n",
        "parq_path = '/content/gdrive/MyDrive/Grad School/DSCI592/data/data_sample_ten_percent_emojis.parquet.gz'\n",
        "data.to_parquet(parq_path, engine='pyarrow', index=False, compression='gzip')"
      ],
      "metadata": {
        "id": "iubLua9mTMbm"
      },
      "execution_count": null,
      "outputs": []
    },
    {
      "cell_type": "markdown",
      "source": [
        "#### Pre-process emojis on entire dataset"
      ],
      "metadata": {
        "id": "hpeoYYe0UdaD"
      }
    },
    {
      "cell_type": "code",
      "source": [
        "#Convert emoji_text to string object in order to use regex\n",
        "df['emoji_text']=df['emoji_text'].astype(str)\n",
        "df.dtypes"
      ],
      "metadata": {
        "colab": {
          "base_uri": "https://localhost:8080/"
        },
        "id": "vj8JHOBpUnyv",
        "outputId": "5e47d661-e88d-4802-b052-404a8e38b4c8"
      },
      "execution_count": null,
      "outputs": [
        {
          "output_type": "execute_result",
          "data": {
            "text/plain": [
              "external_author_id                 string\n",
              "author                             string\n",
              "content                            string\n",
              "region                             string\n",
              "language                         category\n",
              "following                          uint64\n",
              "followers                          uint64\n",
              "updates                            uint64\n",
              "post_type                        category\n",
              "is_retweet                        float64\n",
              "account_category                 category\n",
              "tweet_id                           string\n",
              "tco1_step1                         string\n",
              "data_source                      category\n",
              "has_url                             int64\n",
              "emoji_text                         object\n",
              "emoji_count                         int64\n",
              "publish_date          datetime64[ns, UTC]\n",
              "class                            category\n",
              "following_ratio                   float64\n",
              "class_numeric                        int8\n",
              "RUS_lett_count                      int64\n",
              "dtype: object"
            ]
          },
          "metadata": {},
          "execution_count": 25
        }
      ]
    },
    {
      "cell_type": "code",
      "source": [
        "#validate string\n",
        "df[df['emoji_count']>0]['emoji_text'][:3]\n"
      ],
      "metadata": {
        "colab": {
          "base_uri": "https://localhost:8080/"
        },
        "id": "Yu7KU48AU6kB",
        "outputId": "56b97179-a075-408b-eacc-dd988aa9a607"
      },
      "execution_count": null,
      "outputs": [
        {
          "output_type": "execute_result",
          "data": {
            "text/plain": [
              "4                ['flag: United States']\n",
              "6     ['honeybee' 'honeybee' 'honeybee']\n",
              "16             ['red heart' 'red heart']\n",
              "Name: emoji_text, dtype: object"
            ]
          },
          "metadata": {},
          "execution_count": 26
        }
      ]
    },
    {
      "cell_type": "code",
      "source": [
        "df['emoji_flagUS'] = df.emoji_text.apply(lambda x: 1 if re.findall('flag: United States',x) else 0)\n",
        "df['emoji_police'] = df.emoji_text.apply(lambda x: 1 if re.findall('police car light',x) else 0)\n",
        "df['emoji_check']= df.emoji_text.apply(lambda x: 1 if re.findall('check mark',x) else 0)\n",
        "df['emoji_exclamation'] = df.emoji_text.apply(lambda x: 1 if re.findall('double exclamation mark',x) else 0)  \n",
        "df['emoji_fist'] = df.emoji_text.apply(lambda x: 1 if re.findall('raised fist',x) else 0)  \n",
        "df['emoji_collision'] = df.emoji_text.apply(lambda x: 1 if re.findall('collision',x) else 0) \n",
        "df['emoji_prohibited'] = df.emoji_text.apply(lambda x: 1 if re.findall('prohibited',x) else 0) "
      ],
      "metadata": {
        "id": "71QgH6i5UdKn"
      },
      "execution_count": null,
      "outputs": []
    },
    {
      "cell_type": "code",
      "source": [
        "#Export as 03_eda_w_emojis\n",
        "parq_path = '/content/gdrive/MyDrive/Grad School/DSCI592/data/data_after_03_eda_emojis.parquet.gz'\n",
        "df.to_parquet(parq_path, engine='pyarrow', index=False, compression='gzip')"
      ],
      "metadata": {
        "id": "ltIXX94DU2LE"
      },
      "execution_count": null,
      "outputs": []
    },
    {
      "cell_type": "markdown",
      "source": [
        "#### Import df2 with emoji encoding part 1"
      ],
      "metadata": {
        "id": "3UJRpGJVlOMO"
      }
    },
    {
      "cell_type": "code",
      "source": [
        "#import\n",
        "#df with emoji binary encoding\n",
        "df2 =pd.read_parquet(file_folder +'data_after_03_eda_emojis.parquet.gz')"
      ],
      "metadata": {
        "id": "UwbQ6t40XbKi"
      },
      "execution_count": null,
      "outputs": []
    },
    {
      "cell_type": "code",
      "source": [
        "#validate\n",
        "print('\\n emoji_flagUS \\n',df2['emoji_flagUS'].value_counts(),\n",
        "'\\n emoji_check \\n',df2['emoji_check'].value_counts(),\n",
        "'\\n emoji_exclamation \\n',df2['emoji_exclamation'].value_counts(),\n",
        "'\\n emoji_fist \\n',df2['emoji_fist'].value_counts(),\n",
        "'\\n emoji_prohibited \\n', df2['emoji_prohibited'].value_counts(), \n",
        "'\\n emoji_police \\n', df2['emoji_police'].value_counts(), \n",
        " '\\n emoji_collision \\n', df2['emoji_collision'].value_counts())"
      ],
      "metadata": {
        "colab": {
          "base_uri": "https://localhost:8080/"
        },
        "id": "dwZbXoSWVwiP",
        "outputId": "9c35ce2f-c5a8-4c2e-daf9-3803f7d6f5b9"
      },
      "execution_count": null,
      "outputs": [
        {
          "output_type": "stream",
          "name": "stdout",
          "text": [
            "\n",
            " emoji_flagUS \n",
            " 0    3619887\n",
            "1       5007\n",
            "Name: emoji_flagUS, dtype: int64 \n",
            " emoji_check \n",
            " 0    3622092\n",
            "1       2802\n",
            "Name: emoji_check, dtype: int64 \n",
            " emoji_exclamation \n",
            " 0    3622609\n",
            "1       2285\n",
            "Name: emoji_exclamation, dtype: int64 \n",
            " emoji_fist \n",
            " 0    3622107\n",
            "1       2787\n",
            "Name: emoji_fist, dtype: int64 \n",
            " emoji_prohibited \n",
            " 0    3624402\n",
            "1        492\n",
            "Name: emoji_prohibited, dtype: int64 \n",
            " emoji_police \n",
            " 0    3622651\n",
            "1       2243\n",
            "Name: emoji_police, dtype: int64 \n",
            " emoji_collision \n",
            " 0    3623611\n",
            "1       1283\n",
            "Name: emoji_collision, dtype: int64\n"
          ]
        }
      ]
    },
    {
      "cell_type": "code",
      "source": [
        "df2.groupby(['emoji_flagUS'])['class'].value_counts()\n"
      ],
      "metadata": {
        "colab": {
          "base_uri": "https://localhost:8080/"
        },
        "id": "8MHdkUttLued",
        "outputId": "2f860fd3-a3b1-4fb9-ac44-811ebd229d66"
      },
      "execution_count": null,
      "outputs": [
        {
          "output_type": "execute_result",
          "data": {
            "text/plain": [
              "emoji_flagUS          \n",
              "0             Troll       2112803\n",
              "              Verified    1507084\n",
              "1             Troll          4063\n",
              "              Verified        944\n",
              "Name: class, dtype: int64"
            ]
          },
          "metadata": {},
          "execution_count": 53
        }
      ]
    },
    {
      "cell_type": "code",
      "source": [
        "#df2.groupby(['class'])['emoji_count'].value_counts().median()\n",
        "more_emojis= df2[df2['emoji_count']<5]\n",
        "#more_emojis.groupby(['class']).count()\n",
        "emoji_test_flag = df2.loc[(df2['emoji_count']<5) & (df2['emoji_flagUS']==1)]\n"
      ],
      "metadata": {
        "id": "Wn-9O9LuO6as"
      },
      "execution_count": null,
      "outputs": []
    },
    {
      "cell_type": "code",
      "source": [
        "emoji_test_flag['class'].value_counts()"
      ],
      "metadata": {
        "colab": {
          "base_uri": "https://localhost:8080/"
        },
        "id": "zL37uMVjRkY3",
        "outputId": "d2b2c468-09d6-4835-fa87-18bab4a564f2"
      },
      "execution_count": null,
      "outputs": [
        {
          "output_type": "execute_result",
          "data": {
            "text/plain": [
              "Troll       3237\n",
              "Verified     859\n",
              "Name: class, dtype: int64"
            ]
          },
          "metadata": {},
          "execution_count": 51
        }
      ]
    },
    {
      "cell_type": "code",
      "source": [
        "df2['emoji_count'].value_counts().nlargest(10).plot()"
      ],
      "metadata": {
        "colab": {
          "base_uri": "https://localhost:8080/",
          "height": 294
        },
        "id": "ZlplzH7XM1Qx",
        "outputId": "d54dcbcb-d673-4804-e644-9955ff287eb4"
      },
      "execution_count": null,
      "outputs": [
        {
          "output_type": "execute_result",
          "data": {
            "text/plain": [
              "<matplotlib.axes._subplots.AxesSubplot at 0x7f987e558cd0>"
            ]
          },
          "metadata": {},
          "execution_count": 26
        },
        {
          "output_type": "display_data",
          "data": {
            "text/plain": [
              "<Figure size 432x288 with 1 Axes>"
            ],
            "image/png": "[encoded data removed]"
          },
          "metadata": {
            "needs_background": "light"
          }
        }
      ]
    },
    {
      "cell_type": "markdown",
      "source": [
        "### 3b) Composite feature for emojis\n",
        "Using the previously built emoji features, create a composite column that identifies if any of the previous emoji columns have a 1 then 1."
      ],
      "metadata": {
        "id": "B5ZqqDs0XfRo"
      }
    },
    {
      "cell_type": "code",
      "source": [
        "#re-run this cell without white space before 'double'!\n",
        "df2['emoji_troll']= df2.emoji_text.apply(lambda x: 1 if re.findall(r'flag: United States|check mark|police car light|double exclamation mark|raised fist|collision|prohibited', x) else 0)"
      ],
      "metadata": {
        "id": "IMr2RiXWZ5QT"
      },
      "execution_count": null,
      "outputs": []
    },
    {
      "cell_type": "code",
      "source": [
        "df2.groupby(['class'])['emoji_troll'].value_counts()"
      ],
      "metadata": {
        "colab": {
          "base_uri": "https://localhost:8080/"
        },
        "id": "pt3vz7GLbWHD",
        "outputId": "944abe4f-de14-4eb1-d6e0-984204098080"
      },
      "execution_count": null,
      "outputs": [
        {
          "output_type": "execute_result",
          "data": {
            "text/plain": [
              "class     emoji_troll\n",
              "Troll     0              2105581\n",
              "          1                11285\n",
              "Verified  0              1505248\n",
              "          1                 2780\n",
              "Name: emoji_troll, dtype: int64"
            ]
          },
          "metadata": {},
          "execution_count": 89
        }
      ]
    },
    {
      "cell_type": "code",
      "source": [
        "#Export as 03_eda_w_emojis2\n",
        "parq_path = '/content/gdrive/MyDrive/Grad School/DSCI592/data/data_after_03_eda_emojis2.parquet.gz'\n",
        "df2.to_parquet(parq_path, engine='pyarrow', index=False, compression='gzip')"
      ],
      "metadata": {
        "id": "fyVmlUhMcTHe"
      },
      "execution_count": null,
      "outputs": []
    },
    {
      "cell_type": "markdown",
      "source": [
        "#### Import df3 with both emoji encodings"
      ],
      "metadata": {
        "id": "t9yITFcynr85"
      }
    },
    {
      "cell_type": "code",
      "source": [
        "#import\n",
        "#df with emoji binary encoding and composite column\n",
        "df3 = pd.read_parquet(file_folder +'data_after_03_eda_emojis2.parquet.gz')"
      ],
      "metadata": {
        "id": "4kAiN_laYNPS"
      },
      "execution_count": null,
      "outputs": []
    },
    {
      "cell_type": "markdown",
      "source": [
        "#### 3c) Region\n",
        "Breaking out region into a binary category for Unknown location. Imputing nulls as Unknown. If null or unknown then 1 else 0."
      ],
      "metadata": {
        "id": "AJWOFKl-fR1H"
      }
    },
    {
      "cell_type": "code",
      "source": [
        "#fill na with \"Unknown\"\n",
        "df3['region'] = df3['region'].fillna('Unknown')"
      ],
      "metadata": {
        "id": "t_PyCyrTfM0-"
      },
      "execution_count": null,
      "outputs": []
    },
    {
      "cell_type": "code",
      "source": [
        "df3['region'].value_counts()"
      ],
      "metadata": {
        "colab": {
          "base_uri": "https://localhost:8080/"
        },
        "id": "FqwKgI2Wif_u",
        "outputId": "ff5a3780-910b-4ea2-a199-a9068a691fb7"
      },
      "execution_count": null,
      "outputs": [
        {
          "output_type": "execute_result",
          "data": {
            "text/plain": [
              "United States                     1906588\n",
              "Unknown                            421147\n",
              "Washington, DC                      95828\n",
              "New York, NY                        67175\n",
              "United Kingdom                      26881\n",
              "                                   ...   \n",
              "Stade Jean-Bouin, Paris                 1\n",
              "Bergen County, New Jersey, USA          1\n",
              "Fort Smith, AR                          1\n",
              "BOS, MA ➡️ DSM, IA ➡️ TPA, FL           1\n",
              "Dijon, France                           1\n",
              "Name: region, Length: 35446, dtype: Int64"
            ]
          },
          "metadata": {},
          "execution_count": 11
        }
      ]
    },
    {
      "cell_type": "code",
      "source": [
        "#examine class ratios of Unknown region\n",
        "df_unknown= df3.loc[df3['region'] =='Unknown',['class']]\n",
        "df_unknown['class'].value_counts()"
      ],
      "metadata": {
        "colab": {
          "base_uri": "https://localhost:8080/"
        },
        "id": "Zq36FoZNlxNM",
        "outputId": "f0e05577-c749-41a4-cb3c-e546d5169eaf"
      },
      "execution_count": null,
      "outputs": [
        {
          "output_type": "execute_result",
          "data": {
            "text/plain": [
              "Troll       242089\n",
              "Verified    179058\n",
              "Name: class, dtype: int64"
            ]
          },
          "metadata": {},
          "execution_count": 12
        }
      ]
    },
    {
      "cell_type": "code",
      "source": [
        "#create new feature 'unknown_location' using 1 if region = 'Unknown' else 0\n",
        "df3['unknown_location']= df3['region'].apply(lambda x: 1 if x =='Unknown' else 0)\n",
        "df3['unknown_location'].value_counts()"
      ],
      "metadata": {
        "colab": {
          "base_uri": "https://localhost:8080/"
        },
        "id": "iUqvhBGWm3Eo",
        "outputId": "7f783e0b-9cc1-4967-b583-48ab90e76836"
      },
      "execution_count": null,
      "outputs": [
        {
          "output_type": "execute_result",
          "data": {
            "text/plain": [
              "0    3203747\n",
              "1     421147\n",
              "Name: unknown_location, dtype: int64"
            ]
          },
          "metadata": {},
          "execution_count": 13
        }
      ]
    },
    {
      "cell_type": "markdown",
      "source": [
        "#### 3d) Multi_Author: \n",
        "Users that have multiple `Author` entries (i.e. usernames) for each `External_author_id` field essentially have changed their usernames on a single account. If a user has > 1 author name the binary feature will be positive (1) else 0.\n"
      ],
      "metadata": {
        "id": "YBC-f9V_2JKn"
      }
    },
    {
      "cell_type": "code",
      "source": [
        "print('Unique author names:',df3['author'].nunique())\n",
        "print('Unique author ID#:', df3['external_author_id'].nunique())\n"
      ],
      "metadata": {
        "colab": {
          "base_uri": "https://localhost:8080/"
        },
        "id": "cpfk9YkvqoTc",
        "outputId": "3f39b454-ac38-4818-e86f-a87fc58019eb"
      },
      "execution_count": null,
      "outputs": [
        {
          "output_type": "stream",
          "name": "stdout",
          "text": [
            "Unique author names: 142270\n",
            "Unique author ID#: 141959\n",
            "Authors with more than one name per ID 311\n"
          ]
        }
      ]
    },
    {
      "cell_type": "code",
      "source": [
        "#Extract the authors with > 1 author name per external author id\n",
        "multi= df3.groupby('external_author_id')['author'].nunique().nlargest(42)\n",
        "print(multi)\n",
        "multi_authors = multi.index\n",
        "print(multi_authors)"
      ],
      "metadata": {
        "colab": {
          "base_uri": "https://localhost:8080/"
        },
        "id": "pEwro8hFZWfs",
        "outputId": "2f87bb04-12d7-4ea8-f0c0-aa8cb5efc244"
      },
      "execution_count": null,
      "outputs": [
        {
          "output_type": "stream",
          "name": "stdout",
          "text": [
            "external_author_id\n",
            "889000000000000000    59\n",
            "895000000000000000    42\n",
            "753000000000000000    27\n",
            "890000000000000000    21\n",
            "868000000000000000    19\n",
            "898000000000000000    17\n",
            "751000000000000000    16\n",
            "892000000000000000    16\n",
            "891000000000000000    14\n",
            "866000000000000000    13\n",
            "867000000000000000    13\n",
            "844000000000000000     9\n",
            "843000000000000000     7\n",
            "871000000000000000     7\n",
            "893000000000000000     7\n",
            "854000000000000000     6\n",
            "837000000000000000     5\n",
            "838000000000000000     5\n",
            "839000000000000000     5\n",
            "731000000000000000     4\n",
            "750000000000000000     3\n",
            "802000000000000000     3\n",
            "816000000000000000     3\n",
            "853000000000000000     3\n",
            "865000000000000000     3\n",
            "870000000000000000     3\n",
            "901000000000000000     3\n",
            "2753146444             2\n",
            "2912754262             2\n",
            "4224912857             2\n",
            "44278933               2\n",
            "703000000000000000     2\n",
            "704000000000000000     2\n",
            "719000000000000000     2\n",
            "762000000000000000     2\n",
            "804000000000000000     2\n",
            "831000000000000000     2\n",
            "846000000000000000     2\n",
            "888000000000000000     2\n",
            "902000000000000000     2\n",
            "904000000000000000     2\n",
            "906000000000000000     2\n",
            "Name: author, dtype: int64\n",
            "Index(['889000000000000000', '895000000000000000', '753000000000000000',\n",
            "       '890000000000000000', '868000000000000000', '898000000000000000',\n",
            "       '751000000000000000', '892000000000000000', '891000000000000000',\n",
            "       '866000000000000000', '867000000000000000', '844000000000000000',\n",
            "       '843000000000000000', '871000000000000000', '893000000000000000',\n",
            "       '854000000000000000', '837000000000000000', '838000000000000000',\n",
            "       '839000000000000000', '731000000000000000', '750000000000000000',\n",
            "       '802000000000000000', '816000000000000000', '853000000000000000',\n",
            "       '865000000000000000', '870000000000000000', '901000000000000000',\n",
            "       '2753146444', '2912754262', '4224912857', '44278933',\n",
            "       '703000000000000000', '704000000000000000', '719000000000000000',\n",
            "       '762000000000000000', '804000000000000000', '831000000000000000',\n",
            "       '846000000000000000', '888000000000000000', '902000000000000000',\n",
            "       '904000000000000000', '906000000000000000'],\n",
            "      dtype='object', name='external_author_id')\n"
          ]
        }
      ]
    },
    {
      "cell_type": "code",
      "source": [
        "#show user with most author names\n",
        "df3[df3['external_author_id']=='889000000000000000']['author'].unique()"
      ],
      "metadata": {
        "colab": {
          "base_uri": "https://localhost:8080/"
        },
        "id": "Nxk-MRm8xehN",
        "outputId": "9d101400-5d84-4c71-937b-34c592ebc5e0"
      },
      "execution_count": null,
      "outputs": [
        {
          "output_type": "execute_result",
          "data": {
            "text/plain": [
              "<StringArray>\n",
              "[     'ABBYLOPTRT',     'ABISADMASST',      'ADALESTRTM',    'ADELIINESTRT',\n",
              "      'ADELISTRTT',       'ADLEESTTT',       'ADLEESWOD',      'AGNESMLTRT',\n",
              "      'AGNESSTRYT',       'ALAXXATRT',    'ALBELITATRTS',     'ALEMICHLESS',\n",
              "      'ALESISTRTT',       'AMBAASTRT',      'AMBBERTHTT',        'AMYYSSTS',\n",
              "      'ANEELSSTRT',     'APRIILDTRUT',    'RACHLEESTRMT',      'REBEESLYSS',\n",
              "       'RELIISTRT',       'SAVAJENAT',    'SCARLEESTRUT', 'SCARLETTHOWAR15',\n",
              "       'SEREESSTT',      'SKYYLASRRT',      'TAYYSSTRUT',       'THAASLITT',\n",
              "       'TRINITTXS',      'VIOLAASTRT',       'AVEERTEST',         'BAAILST',\n",
              "       'BAMBISMUT',     'BEELLASTRTT',       'BONIIISTP',      'BROOZLEETR',\n",
              "       'CARREDTRT',     'CHHOLESSSTR',      'CHISTISSST',       'DANNIILST',\n",
              "       'ELLISSTRT',     'EMILLLYSTRU',       'EVASSLTRT',       'HARERETRT',\n",
              "      'HAYDELYYST',       'JAAMISSTR',       'KAYYLYSST',       'LAREELIZT',\n",
              "        'LILYYTYY',       'LOSSDAYTR',      'LUSCBELYST',      'MADIADATRT',\n",
              " 'MAKAYLABUTLER13',    'MANDDSYSGOSS',    'MARLENIZZTRT',     'MORRGASSSTR',\n",
              "        'NATTATRT',       'PARKISALN',       'PIPERTRTR']\n",
              "Length: 59, dtype: string"
            ]
          },
          "metadata": {},
          "execution_count": 123
        }
      ]
    },
    {
      "cell_type": "code",
      "source": [
        "len(multi_authors)"
      ],
      "metadata": {
        "colab": {
          "base_uri": "https://localhost:8080/"
        },
        "id": "9U37QJhc0MX5",
        "outputId": "2e605319-0fc6-4fa2-b977-c90beec4edaf"
      },
      "execution_count": null,
      "outputs": [
        {
          "output_type": "execute_result",
          "data": {
            "text/plain": [
              "41"
            ]
          },
          "metadata": {},
          "execution_count": 15
        }
      ]
    },
    {
      "cell_type": "code",
      "source": [
        "#save as pandas dataframe and export as csv\n",
        "multi_author_df = pd.DataFrame(multi_authors, columns=['ID'])\n",
        "multi_author_df.to_csv('/content/gdrive/MyDrive/Grad School/DSCI592/data/multi_author_df.csv', index=False)"
      ],
      "metadata": {
        "id": "aYFm7ha46Tom"
      },
      "execution_count": null,
      "outputs": []
    },
    {
      "cell_type": "code",
      "source": [
        "#create new feature column that represents if user has multi usernames (1) else 0\n",
        "df3['multi_authors']= df3['external_author_id'].apply(lambda x: 1 if x in multi_authors else 0 )"
      ],
      "metadata": {
        "id": "1YPGg6-dv4Zw"
      },
      "execution_count": null,
      "outputs": []
    },
    {
      "cell_type": "code",
      "source": [
        "df3['multi_authors'].value_counts()"
      ],
      "metadata": {
        "colab": {
          "base_uri": "https://localhost:8080/"
        },
        "id": "AaXh3bCJfsoo",
        "outputId": "550d66cd-f074-4d30-d118-d6f5fb96707e"
      },
      "execution_count": null,
      "outputs": [
        {
          "output_type": "execute_result",
          "data": {
            "text/plain": [
              "0    3346597\n",
              "1     278297\n",
              "Name: multi_authors, dtype: int64"
            ]
          },
          "metadata": {},
          "execution_count": 60
        }
      ]
    },
    {
      "cell_type": "code",
      "source": [
        "df3.groupby('class')['multi_authors'].value_counts()"
      ],
      "metadata": {
        "colab": {
          "base_uri": "https://localhost:8080/"
        },
        "id": "iFIMUJDwW_Sa",
        "outputId": "d52c555f-0915-4e4d-d0d1-6a588253ce85"
      },
      "execution_count": null,
      "outputs": [
        {
          "output_type": "execute_result",
          "data": {
            "text/plain": [
              "class     multi_authors\n",
              "Troll     0                1838572\n",
              "          1                 278294\n",
              "Verified  0                1508025\n",
              "          1                      3\n",
              "Name: multi_authors, dtype: int64"
            ]
          },
          "metadata": {},
          "execution_count": 61
        }
      ]
    },
    {
      "cell_type": "code",
      "source": [
        "df3[df3['external_author_id']=='44278933']['author'].value_counts()"
      ],
      "metadata": {
        "colab": {
          "base_uri": "https://localhost:8080/"
        },
        "id": "3Y_t4oerXiLx",
        "outputId": "e9ef80e0-ea8b-4fa9-e182-e5663adf678e"
      },
      "execution_count": null,
      "outputs": [
        {
          "output_type": "execute_result",
          "data": {
            "text/plain": [
              "theon9citizen    2\n",
              "tocsg            1\n",
              "Name: author, dtype: Int64"
            ]
          },
          "metadata": {},
          "execution_count": 66
        }
      ]
    },
    {
      "cell_type": "code",
      "source": [
        "#Export as 06_data_engineered1\n",
        "parq_path = '/content/gdrive/MyDrive/Grad School/DSCI592/data/06data_engineered_all.parquet.gz'\n",
        "df3.to_parquet(parq_path, engine='pyarrow', index=False, compression='gzip')"
      ],
      "metadata": {
        "id": "WZXVl_qjBvdZ"
      },
      "execution_count": null,
      "outputs": []
    },
    {
      "cell_type": "markdown",
      "source": [
        "### 3c. Addl Features tbd."
      ],
      "metadata": {
        "id": "SA7VAfz7hVeX"
      }
    },
    {
      "cell_type": "code",
      "source": [
        "df3['emoji_count'].nlargest(25)"
      ],
      "metadata": {
        "colab": {
          "base_uri": "https://localhost:8080/"
        },
        "id": "jj68iOrJhcWP",
        "outputId": "8176e0bc-82d4-4913-b287-ef53bf55f865"
      },
      "execution_count": null,
      "outputs": [
        {
          "output_type": "execute_result",
          "data": {
            "text/plain": [
              "2902076    121\n",
              "1094396    118\n",
              "1084372    116\n",
              "2685330    116\n",
              "1101196    108\n",
              "1094400    107\n",
              "3323722    105\n",
              "3117295     93\n",
              "3150359     93\n",
              "3076323     87\n",
              "1093775     85\n",
              "1085610     72\n",
              "2894921     70\n",
              "2717717     68\n",
              "2795004     66\n",
              "1079250     61\n",
              "2877942     58\n",
              "34496       57\n",
              "176550      57\n",
              "600437      57\n",
              "750656      57\n",
              "836875      57\n",
              "858575      57\n",
              "907445      57\n",
              "919066      57\n",
              "Name: emoji_count, dtype: int64"
            ]
          },
          "metadata": {},
          "execution_count": 79
        }
      ]
    },
    {
      "cell_type": "code",
      "source": [
        "df3.groupby('class')['emoji_count'].nlargest(15)"
      ],
      "metadata": {
        "colab": {
          "base_uri": "https://localhost:8080/"
        },
        "id": "0q_S1EoFiaq8",
        "outputId": "841e3ff0-7a21-4ea7-ec5f-58fa9c3e9ac8"
      },
      "execution_count": null,
      "outputs": [
        {
          "output_type": "execute_result",
          "data": {
            "text/plain": [
              "class            \n",
              "Troll     1094396    118\n",
              "          1084372    116\n",
              "          1101196    108\n",
              "          1094400    107\n",
              "          1093775     85\n",
              "          1085610     72\n",
              "          1079250     61\n",
              "          34496       57\n",
              "          176550      57\n",
              "          600437      57\n",
              "          750656      57\n",
              "          836875      57\n",
              "          858575      57\n",
              "          907445      57\n",
              "          919066      57\n",
              "Verified  2902076    121\n",
              "          2685330    116\n",
              "          3323722    105\n",
              "          3117295     93\n",
              "          3150359     93\n",
              "          3076323     87\n",
              "          2894921     70\n",
              "          2717717     68\n",
              "          2795004     66\n",
              "          2877942     58\n",
              "          3574021     57\n",
              "          2846044     51\n",
              "          3506514     48\n",
              "          3530381     48\n",
              "          2794217     47\n",
              "Name: emoji_count, dtype: int64"
            ]
          },
          "metadata": {},
          "execution_count": 80
        }
      ]
    },
    {
      "cell_type": "code",
      "source": [
        "df3.loc[1094396]"
      ],
      "metadata": {
        "colab": {
          "base_uri": "https://localhost:8080/"
        },
        "id": "CUv-Cy_Hii_f",
        "outputId": "5374e005-ea56-49fb-8834-46b85c3c42be"
      },
      "execution_count": null,
      "outputs": [
        {
          "output_type": "execute_result",
          "data": {
            "text/plain": [
              "external_author_id                                                                                                                                                                                                                                                                                                                                                                                                                                                                                                                                                                                                                                                                                                                                                                                                                                                                                                                                                                                                                                                                                                                                                                                                                                                                                                                                                                                                                                                                                                                                                                                                                                                                                                                                                     743167000000000000\n",
              "author                                                                                                                                                                                                                                                                                                                                                                                                                                                                                                                                                                                                                                                                                                                                                                                                                                                                                                                                                                                                                                                                                                                                                                                                                                                                                                                                                                                                                                                                                                                                                                                                                                                                                                                                                                    COVFEFENATIONUS\n",
              "content                                                                                                                                                                                                                                                                                                                                                                                                                                                                                                                                                                                                                                                                                                                                                                                                                                                                                                                                                                                                                                                                                                                                                                                                                                                                                                                                                                                                                                                                                                                                                                                          Hillary is a giant piece of 💩💩💩💩💩💩💩💩💩💩💩💩💩💩💩💩💩💩💩💩💩💩💩💩💩💩💩💩💩💩💩💩💩💩💩💩💩💩💩💩💩💩💩💩💩💩💩💩💩💩💩💩💩💩💩💩💩💩💩💩💩💩💩💩💩💩💩💩💩💩💩💩💩💩💩💩💩💩💩💩💩💩💩💩💩💩💩💩💩💩💩💩💩💩💩💩💩💩💩💩💩💩💩💩💩💩💩💩💩💩💩💩💩💩💩💩💩💩#280characters https://t.co/0IA93DG4i9\n",
              "region                                                                                                                                                                                                                                                                                                                                                                                                                                                                                                                                                                                                                                                                                                                                                                                                                                                                                                                                                                                                                                                                                                                                                                                                                                                                                                                                                                                                                                                                                                                                                                                                                                                                                                                                                                      United States\n",
              "language                                                                                                                                                                                                                                                                                                                                                                                                                                                                                                                                                                                                                                                                                                                                                                                                                                                                                                                                                                                                                                                                                                                                                                                                                                                                                                                                                                                                                                                                                                                                                                                                                                                                                                                                                                               en\n",
              "following                                                                                                                                                                                                                                                                                                                                                                                                                                                                                                                                                                                                                                                                                                                                                                                                                                                                                                                                                                                                                                                                                                                                                                                                                                                                                                                                                                                                                                                                                                                                                                                                                                                                                                                                                                             246\n",
              "followers                                                                                                                                                                                                                                                                                                                                                                                                                                                                                                                                                                                                                                                                                                                                                                                                                                                                                                                                                                                                                                                                                                                                                                                                                                                                                                                                                                                                                                                                                                                                                                                                                                                                                                                                                                            2076\n",
              "updates                                                                                                                                                                                                                                                                                                                                                                                                                                                                                                                                                                                                                                                                                                                                                                                                                                                                                                                                                                                                                                                                                                                                                                                                                                                                                                                                                                                                                                                                                                                                                                                                                                                                                                                                                                            142005\n",
              "post_type                                                                                                                                                                                                                                                                                                                                                                                                                                                                                                                                                                                                                                                                                                                                                                                                                                                                                                                                                                                                                                                                                                                                                                                                                                                                                                                                                                                                                                                                                                                                                                                                                                                                                                                                                                         RETWEET\n",
              "is_retweet                                                                                                                                                                                                                                                                                                                                                                                                                                                                                                                                                                                                                                                                                                                                                                                                                                                                                                                                                                                                                                                                                                                                                                                                                                                                                                                                                                                                                                                                                                                                                                                                                                                                                                                                                                            1.0\n",
              "account_category                                                                                                                                                                                                                                                                                                                                                                                                                                                                                                                                                                                                                                                                                                                                                                                                                                                                                                                                                                                                                                                                                                                                                                                                                                                                                                                                                                                                                                                                                                                                                                                                                                                                                                                                                               RightTroll\n",
              "tweet_id                                                                                                                                                                                                                                                                                                                                                                                                                                                                                                                                                                                                                                                                                                                                                                                                                                                                                                                                                                                                                                                                                                                                                                                                                                                                                                                                                                                                                                                                                                                                                                                                                                                                                                                                                               928548111584129024\n",
              "tco1_step1                                                                                                                                                                                                                                                                                                                                                                                                                                                                                                                                                                                                                                                                                                                                                                                                                                                                                                                                                                                                                                                                                                                                                                                                                                                                                                                                                                                                                                                                                                                                                                                                                                                                                                                 https://twitter.com/MEL2AUSA/status/928104499750866945/photo/1\n",
              "data_source                                                                                                                                                                                                                                                                                                                                                                                                                                                                                                                                                                                                                                                                                                                                                                                                                                                                                                                                                                                                                                                                                                                                                                                                                                                                                                                                                                                                                                                                                                                                                                                                                                                                                                                                                                         Troll\n",
              "has_url                                                                                                                                                                                                                                                                                                                                                                                                                                                                                                                                                                                                                                                                                                                                                                                                                                                                                                                                                                                                                                                                                                                                                                                                                                                                                                                                                                                                                                                                                                                                                                                                                                                                                                                                                                                 1\n",
              "emoji_text            ['pile of poo' 'pile of poo' 'pile of poo' 'pile of poo' 'pile of poo'\\n 'pile of poo' 'pile of poo' 'pile of poo' 'pile of poo' 'pile of poo'\\n 'pile of poo' 'pile of poo' 'pile of poo' 'pile of poo' 'pile of poo'\\n 'pile of poo' 'pile of poo' 'pile of poo' 'pile of poo' 'pile of poo'\\n 'pile of poo' 'pile of poo' 'pile of poo' 'pile of poo' 'pile of poo'\\n 'pile of poo' 'pile of poo' 'pile of poo' 'pile of poo' 'pile of poo'\\n 'pile of poo' 'pile of poo' 'pile of poo' 'pile of poo' 'pile of poo'\\n 'pile of poo' 'pile of poo' 'pile of poo' 'pile of poo' 'pile of poo'\\n 'pile of poo' 'pile of poo' 'pile of poo' 'pile of poo' 'pile of poo'\\n 'pile of poo' 'pile of poo' 'pile of poo' 'pile of poo' 'pile of poo'\\n 'pile of poo' 'pile of poo' 'pile of poo' 'pile of poo' 'pile of poo'\\n 'pile of poo' 'pile of poo' 'pile of poo' 'pile of poo' 'pile of poo'\\n 'pile of poo' 'pile of poo' 'pile of poo' 'pile of poo' 'pile of poo'\\n 'pile of poo' 'pile of poo' 'pile of poo' 'pile of poo' 'pile of poo'\\n 'pile of poo' 'pile of poo' 'pile of poo' 'pile of poo' 'pile of poo'\\n 'pile of poo' 'pile of poo' 'pile of poo' 'pile of poo' 'pile of poo'\\n 'pile of poo' 'pile of poo' 'pile of poo' 'pile of poo' 'pile of poo'\\n 'pile of poo' 'pile of poo' 'pile of poo' 'pile of poo' 'pile of poo'\\n 'pile of poo' 'pile of poo' 'pile of poo' 'pile of poo' 'pile of poo'\\n 'pile of poo' 'pile of poo' 'pile of poo' 'pile of poo' 'pile of poo'\\n 'pile of poo' 'pile of poo' 'pile of poo' 'pile of poo' 'pile of poo'\\n 'pile of poo' 'pile of poo' 'pile of poo' 'pile of poo' 'pile of poo'\\n 'pile of poo' 'pile of poo' 'pile of poo' 'pile of poo' 'pile of poo'\\n 'pile of poo' 'pile of poo' 'pile of poo']\n",
              "emoji_count                                                                                                                                                                                                                                                                                                                                                                                                                                                                                                                                                                                                                                                                                                                                                                                                                                                                                                                                                                                                                                                                                                                                                                                                                                                                                                                                                                                                                                                                                                                                                                                                                                                                                                                                                                           118\n",
              "publish_date                                                                                                                                                                                                                                                                                                                                                                                                                                                                                                                                                                                                                                                                                                                                                                                                                                                                                                                                                                                                                                                                                                                                                                                                                                                                                                                                                                                                                                                                                                                                                                                                                                                                                                                                                    2017-11-09 09:01:00+00:00\n",
              "class                                                                                                                                                                                                                                                                                                                                                                                                                                                                                                                                                                                                                                                                                                                                                                                                                                                                                                                                                                                                                                                                                                                                                                                                                                                                                                                                                                                                                                                                                                                                                                                                                                                                                                                                                                               Troll\n",
              "following_ratio                                                                                                                                                                                                                                                                                                                                                                                                                                                                                                                                                                                                                                                                                                                                                                                                                                                                                                                                                                                                                                                                                                                                                                                                                                                                                                                                                                                                                                                                                                                                                                                                                                                                                                                                                                   0.11844\n",
              "class_numeric                                                                                                                                                                                                                                                                                                                                                                                                                                                                                                                                                                                                                                                                                                                                                                                                                                                                                                                                                                                                                                                                                                                                                                                                                                                                                                                                                                                                                                                                                                                                                                                                                                                                                                                                                                           1\n",
              "RUS_lett_count                                                                                                                                                                                                                                                                                                                                                                                                                                                                                                                                                                                                                                                                                                                                                                                                                                                                                                                                                                                                                                                                                                                                                                                                                                                                                                                                                                                                                                                                                                                                                                                                                                                                                                                                                                          0\n",
              "emoji_flagUS                                                                                                                                                                                                                                                                                                                                                                                                                                                                                                                                                                                                                                                                                                                                                                                                                                                                                                                                                                                                                                                                                                                                                                                                                                                                                                                                                                                                                                                                                                                                                                                                                                                                                                                                                                            0\n",
              "emoji_police                                                                                                                                                                                                                                                                                                                                                                                                                                                                                                                                                                                                                                                                                                                                                                                                                                                                                                                                                                                                                                                                                                                                                                                                                                                                                                                                                                                                                                                                                                                                                                                                                                                                                                                                                                            0\n",
              "emoji_check                                                                                                                                                                                                                                                                                                                                                                                                                                                                                                                                                                                                                                                                                                                                                                                                                                                                                                                                                                                                                                                                                                                                                                                                                                                                                                                                                                                                                                                                                                                                                                                                                                                                                                                                                                             0\n",
              "emoji_exclamation                                                                                                                                                                                                                                                                                                                                                                                                                                                                                                                                                                                                                                                                                                                                                                                                                                                                                                                                                                                                                                                                                                                                                                                                                                                                                                                                                                                                                                                                                                                                                                                                                                                                                                                                                                       0\n",
              "emoji_fist                                                                                                                                                                                                                                                                                                                                                                                                                                                                                                                                                                                                                                                                                                                                                                                                                                                                                                                                                                                                                                                                                                                                                                                                                                                                                                                                                                                                                                                                                                                                                                                                                                                                                                                                                                              0\n",
              "emoji_collision                                                                                                                                                                                                                                                                                                                                                                                                                                                                                                                                                                                                                                                                                                                                                                                                                                                                                                                                                                                                                                                                                                                                                                                                                                                                                                                                                                                                                                                                                                                                                                                                                                                                                                                                                                         0\n",
              "emoji_prohibited                                                                                                                                                                                                                                                                                                                                                                                                                                                                                                                                                                                                                                                                                                                                                                                                                                                                                                                                                                                                                                                                                                                                                                                                                                                                                                                                                                                                                                                                                                                                                                                                                                                                                                                                                                        0\n",
              "emoji_troll                                                                                                                                                                                                                                                                                                                                                                                                                                                                                                                                                                                                                                                                                                                                                                                                                                                                                                                                                                                                                                                                                                                                                                                                                                                                                                                                                                                                                                                                                                                                                                                                                                                                                                                                                                             0\n",
              "unknown_location                                                                                                                                                                                                                                                                                                                                                                                                                                                                                                                                                                                                                                                                                                                                                                                                                                                                                                                                                                                                                                                                                                                                                                                                                                                                                                                                                                                                                                                                                                                                                                                                                                                                                                                                                                        0\n",
              "multi_authors                                                                                                                                                                                                                                                                                                                                                                                                                                                                                                                                                                                                                                                                                                                                                                                                                                                                                                                                                                                                                                                                                                                                                                                                                                                                                                                                                                                                                                                                                                                                                                                                                                                                                                                                                                           0\n",
              "Name: 1094396, dtype: object"
            ]
          },
          "metadata": {},
          "execution_count": 86
        }
      ]
    },
    {
      "cell_type": "markdown",
      "source": [
        "### 4 Refining dataset for English Only Model"
      ],
      "metadata": {
        "id": "W9WeJOYRXYrk"
      }
    },
    {
      "cell_type": "code",
      "source": [
        "len(df3)"
      ],
      "metadata": {
        "colab": {
          "base_uri": "https://localhost:8080/"
        },
        "id": "Gj_ALwo3gecy",
        "outputId": "4744c9ce-1240-4874-9e5c-41c514f23fec"
      },
      "execution_count": null,
      "outputs": [
        {
          "output_type": "execute_result",
          "data": {
            "text/plain": [
              "3624894"
            ]
          },
          "metadata": {},
          "execution_count": 70
        }
      ]
    },
    {
      "cell_type": "code",
      "source": [
        "df3['language'].value_counts()"
      ],
      "metadata": {
        "colab": {
          "base_uri": "https://localhost:8080/"
        },
        "id": "OfTX8X5LgSMt",
        "outputId": "78a338f7-1820-435a-eed5-46b0ccb88204"
      },
      "execution_count": null,
      "outputs": [
        {
          "output_type": "execute_result",
          "data": {
            "text/plain": [
              "en     3623140\n",
              "fr         397\n",
              "tl         308\n",
              "es         304\n",
              "de         157\n",
              "nl         117\n",
              "in          83\n",
              "pt          65\n",
              "it          58\n",
              "da          56\n",
              "et          48\n",
              "ht          43\n",
              "eu          24\n",
              "ca          18\n",
              "sv          16\n",
              "no          13\n",
              "pl          12\n",
              "cy          12\n",
              "lt           4\n",
              "tr           4\n",
              "vi           4\n",
              "lv           3\n",
              "hu           2\n",
              "cs           1\n",
              "ko           1\n",
              "hi           1\n",
              "ro           1\n",
              "und          1\n",
              "zxx          1\n",
              "Name: language, dtype: int64"
            ]
          },
          "metadata": {},
          "execution_count": 68
        }
      ]
    },
    {
      "cell_type": "code",
      "source": [
        "#save as en_df for English only tweets\n",
        "en_df = df3[df3['language']=='en']\n",
        "len(en_df)"
      ],
      "metadata": {
        "colab": {
          "base_uri": "https://localhost:8080/"
        },
        "id": "lwfmwmhIgVq7",
        "outputId": "fa65eb87-f833-4bcf-df6d-82f1a0685c94"
      },
      "execution_count": null,
      "outputs": [
        {
          "output_type": "execute_result",
          "data": {
            "text/plain": [
              "3623140"
            ]
          },
          "metadata": {},
          "execution_count": 69
        }
      ]
    },
    {
      "cell_type": "code",
      "source": [
        "en_df['account_category'].value_counts()"
      ],
      "metadata": {
        "colab": {
          "base_uri": "https://localhost:8080/"
        },
        "id": "FGyRr0o6gkDz",
        "outputId": "e85a5eec-a89b-413c-b402-7352b421a340"
      },
      "execution_count": null,
      "outputs": [
        {
          "output_type": "execute_result",
          "data": {
            "text/plain": [
              "Verified_User    1470028\n",
              "RightTroll        704953\n",
              "NewsFeed          596593\n",
              "LeftTroll         422141\n",
              "HashtagGamer      236091\n",
              "Commercial        112580\n",
              "Unknown            43191\n",
              "NonEnglish         26562\n",
              "Fearmonger         11001\n",
              "Name: account_category, dtype: int64"
            ]
          },
          "metadata": {},
          "execution_count": 71
        }
      ]
    },
    {
      "cell_type": "code",
      "source": [
        "en_df=en_df[en_df['account_category']!='NonEnglish']\n",
        "len(en_df)"
      ],
      "metadata": {
        "colab": {
          "base_uri": "https://localhost:8080/"
        },
        "id": "eo7bUyQPgn4z",
        "outputId": "6db63f62-d989-49fa-f78a-bc08a630527e"
      },
      "execution_count": null,
      "outputs": [
        {
          "output_type": "execute_result",
          "data": {
            "text/plain": [
              "3596578"
            ]
          },
          "metadata": {},
          "execution_count": 72
        }
      ]
    },
    {
      "cell_type": "code",
      "source": [
        "en_df['account_category'].value_counts()"
      ],
      "metadata": {
        "colab": {
          "base_uri": "https://localhost:8080/"
        },
        "id": "Xh7zeaavgyLz",
        "outputId": "6fdffcd2-4a33-48af-b884-6ceaf8dc49cb"
      },
      "execution_count": null,
      "outputs": [
        {
          "output_type": "execute_result",
          "data": {
            "text/plain": [
              "Verified_User    1470028\n",
              "RightTroll        704953\n",
              "NewsFeed          596593\n",
              "LeftTroll         422141\n",
              "HashtagGamer      236091\n",
              "Commercial        112580\n",
              "Unknown            43191\n",
              "Fearmonger         11001\n",
              "NonEnglish             0\n",
              "Name: account_category, dtype: int64"
            ]
          },
          "metadata": {},
          "execution_count": 73
        }
      ]
    },
    {
      "cell_type": "code",
      "source": [
        "#Export as 06_data_engineered_en\n",
        "parq_path = '/content/gdrive/MyDrive/Grad School/DSCI592/data/06data_engineered_en.parquet.gz'\n",
        "en_df.to_parquet(parq_path, engine='pyarrow', index=False, compression='gzip')"
      ],
      "metadata": {
        "id": "ZyDBc065hKIF"
      },
      "execution_count": null,
      "outputs": []
    }
  ],
  "metadata": {
    "colab": {
      "provenance": []
    },
    "gpuClass": "standard",
    "kernelspec": {
      "display_name": "Python 3",
      "language": "python",
      "name": "python3"
    },
    "language_info": {
      "codemirror_mode": {
        "name": "ipython",
        "version": 3
      },
      "file_extension": ".py",
      "mimetype": "text/x-python",
      "name": "python",
      "nbconvert_exporter": "python",
      "pygments_lexer": "ipython3",
      "version": "3.8.5"
    },
    "vscode": {
      "interpreter": {
        "hash": "65a6dd32d71ed4a2e5ac9ab3f52d3aeee49f01a00467a63b19dc274a1d27154b"
      }
    }
  },
  "nbformat": 4,
  "nbformat_minor": 0
}