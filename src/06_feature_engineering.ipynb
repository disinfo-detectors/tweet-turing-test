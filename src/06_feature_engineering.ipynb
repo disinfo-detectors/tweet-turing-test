{
  "cells": [
    {
      "cell_type": "markdown",
      "metadata": {
        "id": "C_GbDG4q-sBe"
      },
      "source": [
        "# Tweet Turing Test: Detecting Disinformation on Twitter  \n",
        "\n",
        "|          | Group #2 - Disinformation Detectors                     |\n",
        "|---------:|---------------------------------------------------------|\n",
        "| Members  | John Johnson, Katy Matulay, Justin Minnion, Jared Rubin |\n",
        "| Notebook | `06_feature_engineering.ipynb`                        |\n",
        "| Purpose  | Feature Engineering for ML models                |\n",
        "\n",
        "(This notebook contains all of the new feature engineering of DSCI 592 and any additional pre-processing needed for the `07 ML Models` notebooks. Files from this notebook are exported as `06_data_full_final_en2` and `06_data_final_en2` for use in `07_MLmodels` notebooks.)"
      ]
    },
    {
      "cell_type": "markdown",
      "metadata": {
        "id": "IDQTY8j_-sBi"
      },
      "source": [
        "# 1 - Setup"
      ]
    },
    {
      "cell_type": "code",
      "execution_count": 1,
      "metadata": {
        "id": "zzSINVAB-sBi"
      },
      "outputs": [],
      "source": [
        "# imports from Python standard library\n",
        "\n",
        "# imports requiring installation\n",
        "#   connection to Google Cloud Storage\n",
        "from google.cloud import storage            # pip install google-cloud-storage\n",
        "from google.oauth2 import service_account   # pip install google-auth\n",
        "\n",
        "#  data science packages\n",
        "import numpy as np                          # pip install numpy\n",
        "import pandas as pd                         # pip install pandas"
      ]
    },
    {
      "cell_type": "code",
      "execution_count": 2,
      "metadata": {
        "colab": {
          "base_uri": "https://localhost:8080/"
        },
        "id": "NjPqfMreAZeL",
        "outputId": "e938f1ec-7a8e-4d3c-d603-41a5eafa13cf"
      },
      "outputs": [
        {
          "output_type": "stream",
          "name": "stdout",
          "text": [
            "Looking in indexes: https://pypi.org/simple, https://us-python.pkg.dev/colab-wheels/public/simple/\n",
            "Collecting demoji\n",
            "  Downloading demoji-1.1.0-py3-none-any.whl (42 kB)\n",
            "\u001b[2K     \u001b[90m━━━━━━━━━━━━━━━━━━━━━━━━━━━━━━━━━━━━━━━\u001b[0m \u001b[32m42.9/42.9 KB\u001b[0m \u001b[31m275.1 kB/s\u001b[0m eta \u001b[36m0:00:00\u001b[0m\n",
            "\u001b[?25hInstalling collected packages: demoji\n",
            "Successfully installed demoji-1.1.0\n"
          ]
        }
      ],
      "source": [
        "!pip install demoji\n",
        "import pandas as pd \n",
        "import os\n",
        "import numpy as np\n",
        "import matplotlib.pyplot as plt\n",
        "import demoji\n",
        "import seaborn as sns\n",
        "import nltk\n",
        "from datetime import date\n",
        "import regex as re\n",
        "import pyarrow"
      ]
    },
    {
      "cell_type": "code",
      "source": [
        "#text cleaning\n",
        "from string import punctuation, whitespace\n",
        "import warnings\n",
        "warnings.filterwarnings(\"ignore\")\n",
        "!pip install ftfy\n",
        "import ftfy\n",
        "from sklearn.utils import shuffle\n",
        "import gc\n",
        "import matplotlib.pyplot as plt\n"
      ],
      "metadata": {
        "colab": {
          "base_uri": "https://localhost:8080/"
        },
        "id": "4GeN8ILnm_mV",
        "outputId": "b93c3137-f247-403e-8f7c-b80663e9a7ea"
      },
      "execution_count": 3,
      "outputs": [
        {
          "output_type": "stream",
          "name": "stdout",
          "text": [
            "Looking in indexes: https://pypi.org/simple, https://us-python.pkg.dev/colab-wheels/public/simple/\n",
            "Collecting ftfy\n",
            "  Downloading ftfy-6.1.1-py3-none-any.whl (53 kB)\n",
            "\u001b[2K     \u001b[90m━━━━━━━━━━━━━━━━━━━━━━━━━━━━━━━━━━━━━━━━\u001b[0m \u001b[32m53.1/53.1 KB\u001b[0m \u001b[31m1.8 MB/s\u001b[0m eta \u001b[36m0:00:00\u001b[0m\n",
            "\u001b[?25hRequirement already satisfied: wcwidth>=0.2.5 in /usr/local/lib/python3.8/dist-packages (from ftfy) (0.2.6)\n",
            "Installing collected packages: ftfy\n",
            "Successfully installed ftfy-6.1.1\n"
          ]
        }
      ]
    },
    {
      "cell_type": "code",
      "execution_count": 4,
      "metadata": {
        "colab": {
          "base_uri": "https://localhost:8080/"
        },
        "id": "m6dyYmht_hZu",
        "outputId": "ce9dcdca-aae9-4d26-9e41-50ff22946222"
      },
      "outputs": [
        {
          "output_type": "stream",
          "name": "stdout",
          "text": [
            "Mounted at /content/gdrive\n"
          ]
        }
      ],
      "source": [
        "#Colab Specific workflow - remove for github\n",
        "from google.colab import drive\n",
        "\n",
        "drive.mount('/content/gdrive')"
      ]
    },
    {
      "cell_type": "code",
      "execution_count": 5,
      "metadata": {
        "id": "CobCwwik-sBk"
      },
      "outputs": [],
      "source": [
        "# pandas options\n",
        "pd.set_option('display.max_colwidth', None)"
      ]
    },
    {
      "cell_type": "markdown",
      "metadata": {
        "id": "SJJJh8x1-sBk"
      },
      "source": [
        "## Local or Cloud?\n",
        "\n",
        "Decide here whether to run notebook with local data or GCP bucket data\n",
        " - if the working directory of this notebook has a \"../data/\" folder with data loaded (e.g. working on local computer or have data files loaded to a cloud VM) then use the \"local files\" option and comment out the \"gcp bucket files\" option\n",
        " - if this notebook is being run from a GCP VM (preferrably in the `us-central1` location) then use the \"gcp bucket files\" option and comment out the \"local files\" option"
      ]
    },
    {
      "cell_type": "code",
      "execution_count": null,
      "metadata": {
        "id": "_KvlnbAV-sBk"
      },
      "outputs": [],
      "source": [
        "# option: local files\n",
        "local_or_cloud: str = \"local\"   # comment/uncomment this line or next\n",
        "\n",
        "# option: gcp bucket files\n",
        "#local_or_cloud: str = \"cloud\"   # comment/uncomment this line or previous\n",
        "\n",
        "# don't comment/uncomment for remainder of cell\n",
        "if (local_or_cloud == \"local\"):\n",
        "    data_paths = local_data_paths\n",
        "    snapshot_paths = local_snapshot_paths\n",
        "elif (local_or_cloud == \"cloud\"):\n",
        "    data_paths = gcp_data_paths\n",
        "    snapshot_paths = gcp_snapshot_paths\n",
        "else:\n",
        "    raise ValueError(\"Variable 'local_or_cloud' can only take on one of two values, 'local' or 'cloud'.\")\n",
        "    # subsequent cells will not do this final \"else\" check"
      ]
    },
    {
      "cell_type": "code",
      "execution_count": null,
      "metadata": {
        "id": "aH-uzY0S-sBl"
      },
      "outputs": [],
      "source": [
        "# this cell only needs to run its code if local_or_cloud==\"cloud\"\n",
        "#   (though it is harmless if run when local_or_cloud==\"local\")\n",
        "gcp_storage_client: storage.Client = None\n",
        "gcp_bucket: storage.Bucket = None\n",
        "\n",
        "if (local_or_cloud == \"cloud\"):\n",
        "    gcp_storage_client = tur.get_gcp_storage_client(project_name=gcp_project_name, key_file=gcp_key_file)\n",
        "    gcp_bucket = tur.get_gcp_bucket(storage_client=gcp_storage_client, bucket_name=gcp_bucket_name)"
      ]
    },
    {
      "cell_type": "markdown",
      "metadata": {
        "id": "zdhkKA-6-sBm"
      },
      "source": [
        "## 2 - Load EDA Export Dataset\n",
        "\n",
        "Sampled dataset, as prepared by prior notebook `04_nlp_preprocess.ipynb`, will be loaded as \"`data`\".\n",
        "Full dataset, as prepared by `03_eda.ipynb`, will be loaded as \"`df`\"."
      ]
    },
    {
      "cell_type": "code",
      "execution_count": 6,
      "metadata": {
        "id": "btq4HW8J_-A9"
      },
      "outputs": [],
      "source": [
        "#Colab Specific workflow - remove for github\n",
        "\n",
        "#Google Drive url for data file\n",
        "file_folder = '/content/gdrive/MyDrive/Grad School/DSCI592/data/'"
      ]
    },
    {
      "cell_type": "markdown",
      "source": [
        "#### 10% Sampled Dataset"
      ],
      "metadata": {
        "id": "KDEd_bkpMNzk"
      }
    },
    {
      "cell_type": "code",
      "source": [
        "#Colab Specific workflow - remove for github\n",
        "\n",
        "#Read in the parquet file of the 10% sample dataset\n",
        "data = pd.read_parquet(file_folder+'2data_sample_ten_percent.parquet.gz')\n",
        "#data = pd.read_parquet('/content/gdrive/MyDrive/Grad School/DSCI592/data/2data_sample_ten_percent.parquet.gz')"
      ],
      "metadata": {
        "id": "EWvJdY0FXv92"
      },
      "execution_count": null,
      "outputs": []
    },
    {
      "cell_type": "markdown",
      "source": [
        "#### Full dataset"
      ],
      "metadata": {
        "id": "Umu5VmJOMQMd"
      }
    },
    {
      "cell_type": "code",
      "source": [
        "#Colab Specific workflow - remove for github\n",
        "\n",
        "#complete dataset is df\n",
        "df = pd.read_parquet(file_folder +'data_after_03_eda.parquet.gz')"
      ],
      "metadata": {
        "id": "klxfNRhhREaS"
      },
      "execution_count": null,
      "outputs": []
    },
    {
      "cell_type": "code",
      "execution_count": null,
      "metadata": {
        "colab": {
          "base_uri": "https://localhost:8080/"
        },
        "id": "ohcKDfPED40c",
        "outputId": "a02b9b23-87d2-4a0b-83ad-2cfc7a28ebbe"
      },
      "outputs": [
        {
          "output_type": "execute_result",
          "data": {
            "text/plain": [
              "Index(['external_author_id', 'author', 'content', 'region', 'language',\n",
              "       'following', 'followers', 'updates', 'post_type', 'is_retweet',\n",
              "       'account_category', 'tweet_id', 'tco1_step1', 'data_source', 'has_url',\n",
              "       'emoji_text', 'emoji_count', 'publish_date', 'class', 'following_ratio',\n",
              "       'class_numeric', 'RUS_lett_count'],\n",
              "      dtype='object')"
            ]
          },
          "metadata": {},
          "execution_count": 8
        }
      ],
      "source": [
        "df.columns"
      ]
    },
    {
      "cell_type": "markdown",
      "source": [
        "## 3 - Feature Engineering"
      ],
      "metadata": {
        "id": "FQolwD7hV5jW"
      }
    },
    {
      "cell_type": "markdown",
      "source": [
        "#### 3a - Binary Emoji Features Pre-process emojis on entire dataset"
      ],
      "metadata": {
        "id": "hpeoYYe0UdaD"
      }
    },
    {
      "cell_type": "markdown",
      "source": [
        "Emoji text will be used to derive binary features for the Top 17 most frequently appearing emojis."
      ],
      "metadata": {
        "id": "QbVAg8VAT2fx"
      }
    },
    {
      "cell_type": "code",
      "source": [
        "#Convert emoji_text to string object in order to use regex\n",
        "df['emoji_text']=df['emoji_text'].astype(str)\n",
        "df.dtypes"
      ],
      "metadata": {
        "colab": {
          "base_uri": "https://localhost:8080/"
        },
        "id": "vj8JHOBpUnyv",
        "outputId": "96cd09ef-ece0-41bb-e709-44c40f981637"
      },
      "execution_count": null,
      "outputs": [
        {
          "output_type": "execute_result",
          "data": {
            "text/plain": [
              "external_author_id                 string\n",
              "author                             string\n",
              "content                            string\n",
              "region                             string\n",
              "language                         category\n",
              "following                          uint64\n",
              "followers                          uint64\n",
              "updates                            uint64\n",
              "post_type                        category\n",
              "is_retweet                        float64\n",
              "account_category                 category\n",
              "tweet_id                           string\n",
              "tco1_step1                         string\n",
              "data_source                      category\n",
              "has_url                             int64\n",
              "emoji_text                         object\n",
              "emoji_count                         int64\n",
              "publish_date          datetime64[ns, UTC]\n",
              "class                            category\n",
              "following_ratio                   float64\n",
              "class_numeric                        int8\n",
              "RUS_lett_count                      int64\n",
              "dtype: object"
            ]
          },
          "metadata": {},
          "execution_count": 9
        }
      ]
    },
    {
      "cell_type": "code",
      "source": [
        "#validate string\n",
        "df[df['emoji_count']>0]['emoji_text'][:3]\n"
      ],
      "metadata": {
        "colab": {
          "base_uri": "https://localhost:8080/"
        },
        "id": "Yu7KU48AU6kB",
        "outputId": "f9cc9df2-c500-4327-9493-dbaca491baca"
      },
      "execution_count": null,
      "outputs": [
        {
          "output_type": "execute_result",
          "data": {
            "text/plain": [
              "4                ['flag: United States']\n",
              "6     ['honeybee' 'honeybee' 'honeybee']\n",
              "16             ['red heart' 'red heart']\n",
              "Name: emoji_text, dtype: object"
            ]
          },
          "metadata": {},
          "execution_count": 10
        }
      ]
    },
    {
      "cell_type": "code",
      "source": [
        "#encode original 7 troll emojis as binary features to denote if emoji is present in text\n",
        "df['emoji_flagUS'] = df.emoji_text.apply(lambda x: 1 if re.findall('flag: United States',x) else 0)\n",
        "df['emoji_police'] = df.emoji_text.apply(lambda x: 1 if re.findall('police car light',x) else 0)\n",
        "df['emoji_check']= df.emoji_text.apply(lambda x: 1 if re.findall('check mark',x) else 0)\n",
        "df['emoji_exclamation'] = df.emoji_text.apply(lambda x: 1 if re.findall('double exclamation mark',x) else 0)  \n",
        "df['emoji_fist'] = df.emoji_text.apply(lambda x: 1 if re.findall('raised fist',x) else 0)  \n",
        "df['emoji_collision'] = df.emoji_text.apply(lambda x: 1 if re.findall('collision',x) else 0) \n",
        "df['emoji_prohibited'] = df.emoji_text.apply(lambda x: 1 if re.findall('prohibited',x) else 0) "
      ],
      "metadata": {
        "id": "71QgH6i5UdKn"
      },
      "execution_count": null,
      "outputs": []
    },
    {
      "cell_type": "code",
      "source": [
        "#additional emojis were decided to be encoded based on entire dataset emoji frequency\n",
        "df['emoji_loudcryface'] = df.emoji_text.apply(lambda x: 1 if re.findall('loudly crying face',x) else 0)\n",
        "df['emoji_smilinghearteye'] = df.emoji_text.apply(lambda  x: 1 if re.findall('smiling face with heart-eyes',x) else 0)\n",
        "df['emoji_fire'] = df.emoji_text.apply(lambda x: 1 if re.findall('fire',x) else 0)\n",
        "df['emoji_redheart']= df.emoji_text.apply(lambda x: 1 if re.findall('red heart',x) else 0)\n",
        "df['emoji_tearsjoy'] = df.emoji_text.apply(lambda  x: 1 if re.findall('face with tears of joy',x) else 0)\n",
        "df['emoji_thumbsup'] = df.emoji_text.apply(lambda  x: 1 if re.findall('thumbs up',x) else 0)\n",
        "df['emoji_claphands'] = df.emoji_text.apply(lambda  x: 1 if re.findall('clapping hands',x) else 0)\n",
        "df['emoji_blowingkiss'] = df.emoji_text.apply(lambda  x: 1 if re.findall('face blowing a kiss',x) else 0)\n",
        "df['emoji_partypop'] = df.emoji_text.apply(lambda  x: 1 if re.findall('party popper',x) else 0)\n",
        "df['emoji_raisehands'] = df.emoji_text.apply(lambda  x: 1 if re.findall('raising hands',x) else 0)"
      ],
      "metadata": {
        "id": "kwscgYG6Q1EC"
      },
      "execution_count": null,
      "outputs": []
    },
    {
      "cell_type": "code",
      "source": [
        "#Export as 03_eda_w_emojis\n",
        "parq_path = '/content/gdrive/MyDrive/Grad School/DSCI592/data/data_after_03_eda_emojis.parquet.gz'\n",
        "df.to_parquet(parq_path, engine='pyarrow', index=False, compression='gzip')"
      ],
      "metadata": {
        "id": "ltIXX94DU2LE"
      },
      "execution_count": null,
      "outputs": []
    },
    {
      "cell_type": "markdown",
      "source": [
        "#### Import df2 with emoji encoding part 1"
      ],
      "metadata": {
        "id": "3UJRpGJVlOMO"
      }
    },
    {
      "cell_type": "code",
      "source": [
        "#import\n",
        "#df with emoji binary encoding\n",
        "df2 =pd.read_parquet(file_folder +'data_after_03_eda_emojis.parquet.gz')"
      ],
      "metadata": {
        "id": "UwbQ6t40XbKi"
      },
      "execution_count": null,
      "outputs": []
    },
    {
      "cell_type": "code",
      "source": [
        "#validate\n",
        "print('\\n emoji_flagUS \\n',df2['emoji_flagUS'].value_counts(),\n",
        "'\\n emoji_check \\n',df2['emoji_check'].value_counts(),\n",
        "'\\n emoji_exclamation \\n',df2['emoji_exclamation'].value_counts(),\n",
        "'\\n emoji_fist \\n',df2['emoji_fist'].value_counts(),\n",
        "'\\n emoji_prohibited \\n', df2['emoji_prohibited'].value_counts(), \n",
        "'\\n emoji_police \\n', df2['emoji_police'].value_counts(), \n",
        " '\\n emoji_collision \\n', df2['emoji_collision'].value_counts())"
      ],
      "metadata": {
        "colab": {
          "base_uri": "https://localhost:8080/"
        },
        "id": "dwZbXoSWVwiP",
        "outputId": "9c35ce2f-c5a8-4c2e-daf9-3803f7d6f5b9"
      },
      "execution_count": null,
      "outputs": [
        {
          "output_type": "stream",
          "name": "stdout",
          "text": [
            "\n",
            " emoji_flagUS \n",
            " 0    3619887\n",
            "1       5007\n",
            "Name: emoji_flagUS, dtype: int64 \n",
            " emoji_check \n",
            " 0    3622092\n",
            "1       2802\n",
            "Name: emoji_check, dtype: int64 \n",
            " emoji_exclamation \n",
            " 0    3622609\n",
            "1       2285\n",
            "Name: emoji_exclamation, dtype: int64 \n",
            " emoji_fist \n",
            " 0    3622107\n",
            "1       2787\n",
            "Name: emoji_fist, dtype: int64 \n",
            " emoji_prohibited \n",
            " 0    3624402\n",
            "1        492\n",
            "Name: emoji_prohibited, dtype: int64 \n",
            " emoji_police \n",
            " 0    3622651\n",
            "1       2243\n",
            "Name: emoji_police, dtype: int64 \n",
            " emoji_collision \n",
            " 0    3623611\n",
            "1       1283\n",
            "Name: emoji_collision, dtype: int64\n"
          ]
        }
      ]
    },
    {
      "cell_type": "code",
      "source": [
        "df2.groupby(['emoji_flagUS'])['class'].value_counts()\n"
      ],
      "metadata": {
        "colab": {
          "base_uri": "https://localhost:8080/"
        },
        "id": "8MHdkUttLued",
        "outputId": "08ca0c26-f727-452b-cfa0-54464496eee1"
      },
      "execution_count": null,
      "outputs": [
        {
          "output_type": "execute_result",
          "data": {
            "text/plain": [
              "emoji_flagUS          \n",
              "0             Troll       2112803\n",
              "              Verified    1507084\n",
              "1             Troll          4063\n",
              "              Verified        944\n",
              "Name: class, dtype: int64"
            ]
          },
          "metadata": {},
          "execution_count": 15
        }
      ]
    },
    {
      "cell_type": "markdown",
      "source": [
        "### 3b - Composite feature for emojis (no longer used in model)\n",
        "Using the previously built troll emoji features, create a composite column that identifies if any of the previous emoji columns have a 1 then 1.\n",
        "* We later decided to exclude this feature as it could indicate data leakage, but are retaining it here for reference"
      ],
      "metadata": {
        "id": "B5ZqqDs0XfRo"
      }
    },
    {
      "cell_type": "code",
      "source": [
        "#re-run this cell without white space before 'double'!\n",
        "df2['emoji_troll']= df2.emoji_text.apply(lambda x: 1 if re.findall(r'flag: United States|check mark|police car light|double exclamation mark|raised fist|collision|prohibited', x) else 0)"
      ],
      "metadata": {
        "id": "IMr2RiXWZ5QT"
      },
      "execution_count": null,
      "outputs": []
    },
    {
      "cell_type": "code",
      "source": [
        "#before typo fixed\n",
        "df2.groupby(['class'])['emoji_troll'].value_counts()"
      ],
      "metadata": {
        "colab": {
          "base_uri": "https://localhost:8080/"
        },
        "id": "pt3vz7GLbWHD",
        "outputId": "944abe4f-de14-4eb1-d6e0-984204098080"
      },
      "execution_count": null,
      "outputs": [
        {
          "output_type": "execute_result",
          "data": {
            "text/plain": [
              "class     emoji_troll\n",
              "Troll     0              2105581\n",
              "          1                11285\n",
              "Verified  0              1505248\n",
              "          1                 2780\n",
              "Name: emoji_troll, dtype: int64"
            ]
          },
          "metadata": {},
          "execution_count": 89
        }
      ]
    },
    {
      "cell_type": "code",
      "source": [
        "df2.groupby(['class'])['emoji_troll'].value_counts()"
      ],
      "metadata": {
        "colab": {
          "base_uri": "https://localhost:8080/"
        },
        "id": "RO4rMSp8Y5pL",
        "outputId": "fe523fa4-37bd-4083-9c8f-09b2a6198552"
      },
      "execution_count": null,
      "outputs": [
        {
          "output_type": "execute_result",
          "data": {
            "text/plain": [
              "class     emoji_troll\n",
              "Troll     0              2103823\n",
              "          1                13043\n",
              "Verified  0              1505019\n",
              "          1                 3009\n",
              "Name: emoji_troll, dtype: int64"
            ]
          },
          "metadata": {},
          "execution_count": 23
        }
      ]
    },
    {
      "cell_type": "code",
      "source": [
        "#Export as 03_eda_w_emojis2\n",
        "parq_path = '/content/gdrive/MyDrive/Grad School/DSCI592/data/data_after_03_eda_emojis2.parquet.gz'\n",
        "df2.to_parquet(parq_path, engine='pyarrow', index=False, compression='gzip')"
      ],
      "metadata": {
        "id": "fyVmlUhMcTHe"
      },
      "execution_count": null,
      "outputs": []
    },
    {
      "cell_type": "markdown",
      "source": [
        "#### Import df3 with both emoji encodings"
      ],
      "metadata": {
        "id": "t9yITFcynr85"
      }
    },
    {
      "cell_type": "code",
      "source": [
        "#import same df2 as df3, since deleting the composite feature\n",
        "#df with emoji binary encoding\n",
        "df3 =pd.read_parquet(file_folder +'data_after_03_eda_emojis.parquet.gz')"
      ],
      "metadata": {
        "id": "Kekz8XgXTYcp"
      },
      "execution_count": null,
      "outputs": []
    },
    {
      "cell_type": "code",
      "source": [
        "#import (old)\n",
        "#df with emoji binary encoding and composite column\n",
        "#df3 = pd.read_parquet(file_folder +'data_after_03_eda_emojis2.parquet.gz')"
      ],
      "metadata": {
        "id": "4kAiN_laYNPS"
      },
      "execution_count": null,
      "outputs": []
    },
    {
      "cell_type": "markdown",
      "source": [
        "### 3c - Region\n",
        "Breaking out region into a binary category for Unknown location. Imputing nulls as Unknown. If null or unknown then 1 else 0."
      ],
      "metadata": {
        "id": "AJWOFKl-fR1H"
      }
    },
    {
      "cell_type": "markdown",
      "source": [
        "Imputing nulls as \"Unknown\" to match with existing category"
      ],
      "metadata": {
        "id": "DUD-XnajmWj5"
      }
    },
    {
      "cell_type": "code",
      "source": [
        "#fill na with \"Unknown\"\n",
        "df3['region'] = df3['region'].fillna('Unknown')"
      ],
      "metadata": {
        "id": "t_PyCyrTfM0-"
      },
      "execution_count": null,
      "outputs": []
    },
    {
      "cell_type": "markdown",
      "source": [
        "#### Encoding the top 15 regions\n",
        "Encoding the top 15 regions will cover ~75% of the dataset"
      ],
      "metadata": {
        "id": "8WZKnf8KZd5I"
      }
    },
    {
      "cell_type": "code",
      "source": [
        "df3['region'].value_counts().nlargest(15).sum()/df3['region'].value_counts().sum()"
      ],
      "metadata": {
        "colab": {
          "base_uri": "https://localhost:8080/"
        },
        "id": "FqwKgI2Wif_u",
        "outputId": "fa6d47a2-8a75-432a-9194-5cdc04fc46cf"
      },
      "execution_count": null,
      "outputs": [
        {
          "output_type": "execute_result",
          "data": {
            "text/plain": [
              "0.7478337297587184"
            ]
          },
          "metadata": {},
          "execution_count": 55
        }
      ]
    },
    {
      "cell_type": "code",
      "source": [
        "df3['region'].value_counts().nlargest(15)"
      ],
      "metadata": {
        "colab": {
          "base_uri": "https://localhost:8080/"
        },
        "id": "o30U6giCZhbl",
        "outputId": "fe9deea8-8ef1-40cb-d2da-30b83a57252d"
      },
      "execution_count": null,
      "outputs": [
        {
          "output_type": "execute_result",
          "data": {
            "text/plain": [
              "United States             1906588\n",
              "Unknown                    421147\n",
              "Washington, DC              95828\n",
              "New York, NY                67175\n",
              "United Kingdom              26881\n",
              "Washington, D.C.            26340\n",
              "Los Angeles, CA             21664\n",
              "Boston, MA                  21310\n",
              "London                      20968\n",
              "New York and the World      19368\n",
              "New York City               18992\n",
              "Pale Blue Dot               17583\n",
              "Atlanta, GA                 16580\n",
              "Australia                   15804\n",
              "Global                      14590\n",
              "Name: region, dtype: Int64"
            ]
          },
          "metadata": {},
          "execution_count": 56
        }
      ]
    },
    {
      "cell_type": "code",
      "source": [
        "#examine class ratios of Unknown region\n",
        "df_unknown= df3.loc[df3['region'] =='Unknown',['class']]\n",
        "df_unknown['class'].value_counts()"
      ],
      "metadata": {
        "colab": {
          "base_uri": "https://localhost:8080/"
        },
        "id": "Zq36FoZNlxNM",
        "outputId": "7f6a2748-092a-44e8-ac91-68f6434694b7"
      },
      "execution_count": null,
      "outputs": [
        {
          "output_type": "execute_result",
          "data": {
            "text/plain": [
              "Troll       242089\n",
              "Verified    179058\n",
              "Name: class, dtype: int64"
            ]
          },
          "metadata": {},
          "execution_count": 9
        }
      ]
    },
    {
      "cell_type": "code",
      "source": [
        "df_United_States = df3.loc[df3['region'] =='United States', ['class']]\n",
        "df_United_States['class'].value_counts()"
      ],
      "metadata": {
        "colab": {
          "base_uri": "https://localhost:8080/"
        },
        "id": "O-Qf6DRWTxCJ",
        "outputId": "57c5b416-e884-4d22-c190-cabc35bd5b52"
      },
      "execution_count": null,
      "outputs": [
        {
          "output_type": "execute_result",
          "data": {
            "text/plain": [
              "Troll       1844450\n",
              "Verified      62138\n",
              "Name: class, dtype: int64"
            ]
          },
          "metadata": {},
          "execution_count": 20
        }
      ]
    },
    {
      "cell_type": "code",
      "source": [
        "df3.loc[df3['region']=='New York, NY',['class']].value_counts()"
      ],
      "metadata": {
        "colab": {
          "base_uri": "https://localhost:8080/"
        },
        "id": "i5eLhUMEUCiv",
        "outputId": "6b5df9ef-9d25-42ee-e68f-991ab5b9125d"
      },
      "execution_count": null,
      "outputs": [
        {
          "output_type": "execute_result",
          "data": {
            "text/plain": [
              "class   \n",
              "Verified    67175\n",
              "Troll           0\n",
              "dtype: int64"
            ]
          },
          "metadata": {},
          "execution_count": 24
        }
      ]
    },
    {
      "cell_type": "markdown",
      "source": [
        "##### Extract the list of regions and clean up duplicate regions"
      ],
      "metadata": {
        "id": "FNHmh2pAmMdO"
      }
    },
    {
      "cell_type": "code",
      "source": [
        "#extract the list of names of top 15 regions and clean up to use proper column names\n",
        "regions=df3['region'].value_counts().nlargest(15)\n",
        "regions_top15 = regions.index\n",
        "print(regions_top15)"
      ],
      "metadata": {
        "colab": {
          "base_uri": "https://localhost:8080/"
        },
        "id": "cMjlahkGZ5wQ",
        "outputId": "f4d09e9a-5c19-4c44-d1ba-81eeadea2b06"
      },
      "execution_count": null,
      "outputs": [
        {
          "output_type": "stream",
          "name": "stdout",
          "text": [
            "Index(['United States', 'Unknown', 'Washington, DC', 'New York, NY',\n",
            "       'United Kingdom', 'Washington, D.C.', 'Los Angeles, CA', 'Boston, MA',\n",
            "       'London', 'New York and the World', 'New York City', 'Pale Blue Dot',\n",
            "       'Atlanta, GA', 'Australia', 'Global'],\n",
            "      dtype='object')\n"
          ]
        }
      ]
    },
    {
      "cell_type": "code",
      "source": [
        "#REGEX to clean up region names into column names\n",
        "regions_fixed = []\n",
        "for s in regions_top15:\n",
        "  s = re.sub(r\"\\s+\", '_', s)  ##remove whitespace, replace with \"_\"\n",
        "  s = re.sub(r\",\", \"\", s)     ## removes \",\"\n",
        "  s = re.sub(r\"\\.\",\"\",s)       ## removes \".\"\n",
        "  regions_fixed.append('region_'+s)\n",
        "  #print(s)\n",
        "#print(regions_top15)\n",
        "print(regions_fixed)"
      ],
      "metadata": {
        "colab": {
          "base_uri": "https://localhost:8080/"
        },
        "id": "Z5quP_PvipTM",
        "outputId": "d57da82e-5387-4d1d-aa1f-f8be1f3775d7"
      },
      "execution_count": null,
      "outputs": [
        {
          "output_type": "stream",
          "name": "stdout",
          "text": [
            "['region_United_States', 'region_Unknown', 'region_Washington_DC', 'region_New_York_NY', 'region_United_Kingdom', 'region_Washington_DC', 'region_Los_Angeles_CA', 'region_Boston_MA', 'region_London', 'region_New_York_and_the_World', 'region_New_York_City', 'region_Pale_Blue_Dot', 'region_Atlanta_GA', 'region_Australia', 'region_Global']\n"
          ]
        }
      ]
    },
    {
      "cell_type": "markdown",
      "source": [
        "We will create 15 new columns to represent the regions as binary features, one column `region_All_Other` will be a catchall for any value not in the top 15."
      ],
      "metadata": {
        "id": "6XS8JGv1iyzM"
      }
    },
    {
      "cell_type": "code",
      "source": [
        "'''iterate through list of top 15 regions, use regex to format the column names, \n",
        "then lambda function to determine if region column contains value in list then 1 else 0'''\n",
        "\n",
        "for i in regions_top15:\n",
        "    s = re.sub(r\"\\s+\", '_', i)  ##remove whitespace, replace with \"_\"\n",
        "    #print(s)\n",
        "    s = re.sub(r\",\", \"\", s)     ## removes \",\"\n",
        "   # print(s)\n",
        "    s = re.sub(r\"\\.\",\"\",s)       ## removes \".\"\n",
        "    s= 'region_'+s\n",
        "   # print(s)\n",
        "    df3[s] = df3['region'].apply(lambda x: 1 if x==i else 0)\n",
        "\n",
        "#fix issues with the dupe Washington DC entries not combining\n",
        "df3 = df3.drop(columns = 'region_Washington_DC', axis =1)\n",
        "\n",
        "#add col for Wash DC using both region formats\n",
        "df3['region_Washington_DC']= df3['region'].apply(lambda x: 1 if x in ('Washington, D.C.','Washington, DC') else 0)\n",
        "\n",
        "#add col as catchall for all other regions\n",
        "df3['region_All_Other']= df3['region'].apply(lambda x: 1 if x not in regions_top15 else 0)\n"
      ],
      "metadata": {
        "id": "JJdrwE78eBxF"
      },
      "execution_count": null,
      "outputs": []
    },
    {
      "cell_type": "code",
      "source": [
        "df3.columns"
      ],
      "metadata": {
        "colab": {
          "base_uri": "https://localhost:8080/"
        },
        "id": "ax93EHYVnRts",
        "outputId": "15823f73-bea6-40c1-d117-3789581a7590"
      },
      "execution_count": null,
      "outputs": [
        {
          "output_type": "execute_result",
          "data": {
            "text/plain": [
              "Index(['external_author_id', 'author', 'content', 'region', 'language',\n",
              "       'following', 'followers', 'updates', 'post_type', 'is_retweet',\n",
              "       'account_category', 'tweet_id', 'tco1_step1', 'data_source', 'has_url',\n",
              "       'emoji_text', 'emoji_count', 'publish_date', 'class', 'following_ratio',\n",
              "       'class_numeric', 'RUS_lett_count', 'emoji_flagUS', 'emoji_police',\n",
              "       'emoji_check', 'emoji_exclamation', 'emoji_fist', 'emoji_collision',\n",
              "       'emoji_prohibited', 'emoji_loudcryface', 'emoji_smilinghearteye',\n",
              "       'emoji_fire', 'emoji_redheart', 'emoji_tearsjoy', 'emoji_thumbsup',\n",
              "       'emoji_claphands', 'emoji_blowingkiss', 'emoji_partypop',\n",
              "       'emoji_raisehands', 'region_United_States', 'region_Unknown',\n",
              "       'region_New_York_NY', 'region_United_Kingdom', 'region_Los_Angeles_CA',\n",
              "       'region_Boston_MA', 'region_London', 'region_New_York_and_the_World',\n",
              "       'region_New_York_City', 'region_Pale_Blue_Dot', 'region_Atlanta_GA',\n",
              "       'region_Australia', 'region_Global', 'region_Washington_DC',\n",
              "       'region_All_Other'],\n",
              "      dtype='object')"
            ]
          },
          "metadata": {},
          "execution_count": 14
        }
      ]
    },
    {
      "cell_type": "code",
      "source": [
        "df3['region_Washington_DC'].value_counts()"
      ],
      "metadata": {
        "colab": {
          "base_uri": "https://localhost:8080/"
        },
        "id": "vquqjphkg-di",
        "outputId": "750de436-ab04-4311-ac52-2a66e4d7e8f0"
      },
      "execution_count": null,
      "outputs": [
        {
          "output_type": "execute_result",
          "data": {
            "text/plain": [
              "0    3502726\n",
              "1     122168\n",
              "Name: region_Washington_DC, dtype: int64"
            ]
          },
          "metadata": {},
          "execution_count": 15
        }
      ]
    },
    {
      "cell_type": "code",
      "source": [
        "df3['region_All_Other'].value_counts()"
      ],
      "metadata": {
        "colab": {
          "base_uri": "https://localhost:8080/"
        },
        "id": "DwkhHbVMhfr0",
        "outputId": "91c29c2c-a1fd-40ca-8f22-fcc6a7ffde44"
      },
      "execution_count": null,
      "outputs": [
        {
          "output_type": "execute_result",
          "data": {
            "text/plain": [
              "0    2710818\n",
              "1     914076\n",
              "Name: region_All_Other, dtype: int64"
            ]
          },
          "metadata": {},
          "execution_count": 16
        }
      ]
    },
    {
      "cell_type": "markdown",
      "source": [
        "### 3d - Multi_Author: \n",
        "Users that have multiple `Author` entries (i.e. usernames) for each `External_author_id` field essentially have changed their usernames on a single account. If a user has > 1 author name the binary feature will be positive (1) else 0.\n"
      ],
      "metadata": {
        "id": "YBC-f9V_2JKn"
      }
    },
    {
      "cell_type": "code",
      "source": [
        "print('Unique author names:',df3['author'].nunique())\n",
        "print('Unique author ID#:', df3['external_author_id'].nunique())\n"
      ],
      "metadata": {
        "colab": {
          "base_uri": "https://localhost:8080/"
        },
        "id": "cpfk9YkvqoTc",
        "outputId": "4a2c437c-c322-442c-8024-b0a8c0b0fefa"
      },
      "execution_count": null,
      "outputs": [
        {
          "output_type": "stream",
          "name": "stdout",
          "text": [
            "Unique author names: 142270\n",
            "Unique author ID#: 141959\n"
          ]
        }
      ]
    },
    {
      "cell_type": "code",
      "source": [
        "#Extract the authors with > 1 author name per external author id\n",
        "multi= df3.groupby('external_author_id')['author'].nunique().nlargest(42)\n",
        "print(multi)\n",
        "multi_authors = multi.index\n",
        "print(len(multi_authors))"
      ],
      "metadata": {
        "colab": {
          "base_uri": "https://localhost:8080/"
        },
        "id": "pEwro8hFZWfs",
        "outputId": "96d075d6-0956-4e50-d80c-160e840daf24"
      },
      "execution_count": null,
      "outputs": [
        {
          "output_type": "stream",
          "name": "stdout",
          "text": [
            "external_author_id\n",
            "889000000000000000    59\n",
            "895000000000000000    42\n",
            "753000000000000000    27\n",
            "890000000000000000    21\n",
            "868000000000000000    19\n",
            "898000000000000000    17\n",
            "751000000000000000    16\n",
            "892000000000000000    16\n",
            "891000000000000000    14\n",
            "866000000000000000    13\n",
            "867000000000000000    13\n",
            "844000000000000000     9\n",
            "843000000000000000     7\n",
            "871000000000000000     7\n",
            "893000000000000000     7\n",
            "854000000000000000     6\n",
            "837000000000000000     5\n",
            "838000000000000000     5\n",
            "839000000000000000     5\n",
            "731000000000000000     4\n",
            "750000000000000000     3\n",
            "802000000000000000     3\n",
            "816000000000000000     3\n",
            "853000000000000000     3\n",
            "865000000000000000     3\n",
            "870000000000000000     3\n",
            "901000000000000000     3\n",
            "2753146444             2\n",
            "2912754262             2\n",
            "4224912857             2\n",
            "44278933               2\n",
            "703000000000000000     2\n",
            "704000000000000000     2\n",
            "719000000000000000     2\n",
            "762000000000000000     2\n",
            "804000000000000000     2\n",
            "831000000000000000     2\n",
            "846000000000000000     2\n",
            "888000000000000000     2\n",
            "902000000000000000     2\n",
            "904000000000000000     2\n",
            "906000000000000000     2\n",
            "Name: author, dtype: int64\n",
            "42\n"
          ]
        }
      ]
    },
    {
      "cell_type": "code",
      "source": [
        "#show user with most author names\n",
        "df3[df3['external_author_id']=='889000000000000000']['author'].unique()"
      ],
      "metadata": {
        "colab": {
          "base_uri": "https://localhost:8080/"
        },
        "id": "Nxk-MRm8xehN",
        "outputId": "9d101400-5d84-4c71-937b-34c592ebc5e0"
      },
      "execution_count": null,
      "outputs": [
        {
          "output_type": "execute_result",
          "data": {
            "text/plain": [
              "<StringArray>\n",
              "[     'ABBYLOPTRT',     'ABISADMASST',      'ADALESTRTM',    'ADELIINESTRT',\n",
              "      'ADELISTRTT',       'ADLEESTTT',       'ADLEESWOD',      'AGNESMLTRT',\n",
              "      'AGNESSTRYT',       'ALAXXATRT',    'ALBELITATRTS',     'ALEMICHLESS',\n",
              "      'ALESISTRTT',       'AMBAASTRT',      'AMBBERTHTT',        'AMYYSSTS',\n",
              "      'ANEELSSTRT',     'APRIILDTRUT',    'RACHLEESTRMT',      'REBEESLYSS',\n",
              "       'RELIISTRT',       'SAVAJENAT',    'SCARLEESTRUT', 'SCARLETTHOWAR15',\n",
              "       'SEREESSTT',      'SKYYLASRRT',      'TAYYSSTRUT',       'THAASLITT',\n",
              "       'TRINITTXS',      'VIOLAASTRT',       'AVEERTEST',         'BAAILST',\n",
              "       'BAMBISMUT',     'BEELLASTRTT',       'BONIIISTP',      'BROOZLEETR',\n",
              "       'CARREDTRT',     'CHHOLESSSTR',      'CHISTISSST',       'DANNIILST',\n",
              "       'ELLISSTRT',     'EMILLLYSTRU',       'EVASSLTRT',       'HARERETRT',\n",
              "      'HAYDELYYST',       'JAAMISSTR',       'KAYYLYSST',       'LAREELIZT',\n",
              "        'LILYYTYY',       'LOSSDAYTR',      'LUSCBELYST',      'MADIADATRT',\n",
              " 'MAKAYLABUTLER13',    'MANDDSYSGOSS',    'MARLENIZZTRT',     'MORRGASSSTR',\n",
              "        'NATTATRT',       'PARKISALN',       'PIPERTRTR']\n",
              "Length: 59, dtype: string"
            ]
          },
          "metadata": {},
          "execution_count": 123
        }
      ]
    },
    {
      "cell_type": "code",
      "source": [
        "#save as pandas dataframe and export as csv\n",
        "multi_author_df = pd.DataFrame(multi_authors)\n",
        "multi_author_df.to_csv('/content/gdrive/MyDrive/Grad School/DSCI592/data/multi_author_df.csv', index=False)"
      ],
      "metadata": {
        "id": "aYFm7ha46Tom"
      },
      "execution_count": null,
      "outputs": []
    },
    {
      "cell_type": "code",
      "source": [
        "#import multi_author_df to list\n",
        "multi_author_df = pd.read_csv('/content/gdrive/MyDrive/Grad School/DSCI592/data/multi_author_df.csv')\n",
        "multi_author_df.head()"
      ],
      "metadata": {
        "colab": {
          "base_uri": "https://localhost:8080/",
          "height": 206
        },
        "id": "OIrPucQhnozJ",
        "outputId": "e56e15e7-74d3-47ef-bbbd-3fdb4da39f55"
      },
      "execution_count": null,
      "outputs": [
        {
          "output_type": "execute_result",
          "data": {
            "text/plain": [
              "   external_author_id\n",
              "0  889000000000000000\n",
              "1  895000000000000000\n",
              "2  753000000000000000\n",
              "3  890000000000000000\n",
              "4  868000000000000000"
            ],
            "text/html": [
              "\n",
              "  <div id=\"df-08362316-e7dc-4dc0-a89e-d404e4d3024f\">\n",
              "    <div class=\"colab-df-container\">\n",
              "      <div>\n",
              "<style scoped>\n",
              "    .dataframe tbody tr th:only-of-type {\n",
              "        vertical-align: middle;\n",
              "    }\n",
              "\n",
              "    .dataframe tbody tr th {\n",
              "        vertical-align: top;\n",
              "    }\n",
              "\n",
              "    .dataframe thead th {\n",
              "        text-align: right;\n",
              "    }\n",
              "</style>\n",
              "<table border=\"1\" class=\"dataframe\">\n",
              "  <thead>\n",
              "    <tr style=\"text-align: right;\">\n",
              "      <th></th>\n",
              "      <th>external_author_id</th>\n",
              "    </tr>\n",
              "  </thead>\n",
              "  <tbody>\n",
              "    <tr>\n",
              "      <th>0</th>\n",
              "      <td>889000000000000000</td>\n",
              "    </tr>\n",
              "    <tr>\n",
              "      <th>1</th>\n",
              "      <td>895000000000000000</td>\n",
              "    </tr>\n",
              "    <tr>\n",
              "      <th>2</th>\n",
              "      <td>753000000000000000</td>\n",
              "    </tr>\n",
              "    <tr>\n",
              "      <th>3</th>\n",
              "      <td>890000000000000000</td>\n",
              "    </tr>\n",
              "    <tr>\n",
              "      <th>4</th>\n",
              "      <td>868000000000000000</td>\n",
              "    </tr>\n",
              "  </tbody>\n",
              "</table>\n",
              "</div>\n",
              "      <button class=\"colab-df-convert\" onclick=\"convertToInteractive('df-08362316-e7dc-4dc0-a89e-d404e4d3024f')\"\n",
              "              title=\"Convert this dataframe to an interactive table.\"\n",
              "              style=\"display:none;\">\n",
              "        \n",
              "  <svg xmlns=\"http://www.w3.org/2000/svg\" height=\"24px\"viewBox=\"0 0 24 24\"\n",
              "       width=\"24px\">\n",
              "    <path d=\"M0 0h24v24H0V0z\" fill=\"none\"/>\n",
              "    <path d=\"M18.56 5.44l.94 2.06.94-2.06 2.06-.94-2.06-.94-.94-2.06-.94 2.06-2.06.94zm-11 1L8.5 8.5l.94-2.06 2.06-.94-2.06-.94L8.5 2.5l-.94 2.06-2.06.94zm10 10l.94 2.06.94-2.06 2.06-.94-2.06-.94-.94-2.06-.94 2.06-2.06.94z\"/><path d=\"M17.41 7.96l-1.37-1.37c-.4-.4-.92-.59-1.43-.59-.52 0-1.04.2-1.43.59L10.3 9.45l-7.72 7.72c-.78.78-.78 2.05 0 2.83L4 21.41c.39.39.9.59 1.41.59.51 0 1.02-.2 1.41-.59l7.78-7.78 2.81-2.81c.8-.78.8-2.07 0-2.86zM5.41 20L4 18.59l7.72-7.72 1.47 1.35L5.41 20z\"/>\n",
              "  </svg>\n",
              "      </button>\n",
              "      \n",
              "  <style>\n",
              "    .colab-df-container {\n",
              "      display:flex;\n",
              "      flex-wrap:wrap;\n",
              "      gap: 12px;\n",
              "    }\n",
              "\n",
              "    .colab-df-convert {\n",
              "      background-color: #E8F0FE;\n",
              "      border: none;\n",
              "      border-radius: 50%;\n",
              "      cursor: pointer;\n",
              "      display: none;\n",
              "      fill: #1967D2;\n",
              "      height: 32px;\n",
              "      padding: 0 0 0 0;\n",
              "      width: 32px;\n",
              "    }\n",
              "\n",
              "    .colab-df-convert:hover {\n",
              "      background-color: #E2EBFA;\n",
              "      box-shadow: 0px 1px 2px rgba(60, 64, 67, 0.3), 0px 1px 3px 1px rgba(60, 64, 67, 0.15);\n",
              "      fill: #174EA6;\n",
              "    }\n",
              "\n",
              "    [theme=dark] .colab-df-convert {\n",
              "      background-color: #3B4455;\n",
              "      fill: #D2E3FC;\n",
              "    }\n",
              "\n",
              "    [theme=dark] .colab-df-convert:hover {\n",
              "      background-color: #434B5C;\n",
              "      box-shadow: 0px 1px 3px 1px rgba(0, 0, 0, 0.15);\n",
              "      filter: drop-shadow(0px 1px 2px rgba(0, 0, 0, 0.3));\n",
              "      fill: #FFFFFF;\n",
              "    }\n",
              "  </style>\n",
              "\n",
              "      <script>\n",
              "        const buttonEl =\n",
              "          document.querySelector('#df-08362316-e7dc-4dc0-a89e-d404e4d3024f button.colab-df-convert');\n",
              "        buttonEl.style.display =\n",
              "          google.colab.kernel.accessAllowed ? 'block' : 'none';\n",
              "\n",
              "        async function convertToInteractive(key) {\n",
              "          const element = document.querySelector('#df-08362316-e7dc-4dc0-a89e-d404e4d3024f');\n",
              "          const dataTable =\n",
              "            await google.colab.kernel.invokeFunction('convertToInteractive',\n",
              "                                                     [key], {});\n",
              "          if (!dataTable) return;\n",
              "\n",
              "          const docLinkHtml = 'Like what you see? Visit the ' +\n",
              "            '<a target=\"_blank\" href=https://colab.research.google.com/notebooks/data_table.ipynb>data table notebook</a>'\n",
              "            + ' to learn more about interactive tables.';\n",
              "          element.innerHTML = '';\n",
              "          dataTable['output_type'] = 'display_data';\n",
              "          await google.colab.output.renderOutput(dataTable, element);\n",
              "          const docLink = document.createElement('div');\n",
              "          docLink.innerHTML = docLinkHtml;\n",
              "          element.appendChild(docLink);\n",
              "        }\n",
              "      </script>\n",
              "    </div>\n",
              "  </div>\n",
              "  "
            ]
          },
          "metadata": {},
          "execution_count": 27
        }
      ]
    },
    {
      "cell_type": "code",
      "source": [
        "#create new feature column that represents if user has multi usernames (1) else 0\n",
        "df3['multi_authors']= df3['external_author_id'].apply(lambda x: 1 if x in multi_authors else 0 )"
      ],
      "metadata": {
        "id": "1YPGg6-dv4Zw"
      },
      "execution_count": null,
      "outputs": []
    },
    {
      "cell_type": "code",
      "source": [
        "df3['multi_authors'].value_counts()"
      ],
      "metadata": {
        "colab": {
          "base_uri": "https://localhost:8080/"
        },
        "id": "AaXh3bCJfsoo",
        "outputId": "550d66cd-f074-4d30-d118-d6f5fb96707e"
      },
      "execution_count": null,
      "outputs": [
        {
          "output_type": "execute_result",
          "data": {
            "text/plain": [
              "0    3346597\n",
              "1     278297\n",
              "Name: multi_authors, dtype: int64"
            ]
          },
          "metadata": {},
          "execution_count": 60
        }
      ]
    },
    {
      "cell_type": "code",
      "source": [
        "df3.groupby('class')['multi_authors'].value_counts()"
      ],
      "metadata": {
        "colab": {
          "base_uri": "https://localhost:8080/"
        },
        "id": "iFIMUJDwW_Sa",
        "outputId": "0edcef6e-3b8c-4a91-f838-380a061c5bb2"
      },
      "execution_count": null,
      "outputs": [
        {
          "output_type": "execute_result",
          "data": {
            "text/plain": [
              "class     multi_authors\n",
              "Troll     0                1838572\n",
              "          1                 278294\n",
              "Verified  0                1508025\n",
              "          1                      3\n",
              "Name: multi_authors, dtype: int64"
            ]
          },
          "metadata": {},
          "execution_count": 32
        }
      ]
    },
    {
      "cell_type": "code",
      "source": [
        "df3[df3['external_author_id']=='44278933']['author'].value_counts()"
      ],
      "metadata": {
        "colab": {
          "base_uri": "https://localhost:8080/"
        },
        "id": "3Y_t4oerXiLx",
        "outputId": "e9ef80e0-ea8b-4fa9-e182-e5663adf678e"
      },
      "execution_count": null,
      "outputs": [
        {
          "output_type": "execute_result",
          "data": {
            "text/plain": [
              "theon9citizen    2\n",
              "tocsg            1\n",
              "Name: author, dtype: Int64"
            ]
          },
          "metadata": {},
          "execution_count": 66
        }
      ]
    },
    {
      "cell_type": "code",
      "source": [
        "#Export as 06_data_engineered_all\n",
        "#parq_path = '/content/gdrive/MyDrive/Grad School/DSCI592/data/06data_engineered_all.parquet.gz'\n",
        "#df3.to_parquet(parq_path, engine='pyarrow', index=False, compression='gzip')"
      ],
      "metadata": {
        "id": "WZXVl_qjBvdZ"
      },
      "execution_count": null,
      "outputs": []
    },
    {
      "cell_type": "code",
      "source": [
        "#Export as 06_data_engineered_all2 (after region addition)\n",
        "parq_path = '/content/gdrive/MyDrive/Grad School/DSCI592/data/06data_engineered_all2.parquet.gz'\n",
        "df3.to_parquet(parq_path, engine='pyarrow', index=False, compression='gzip')"
      ],
      "metadata": {
        "id": "KcUqOuc4o0CZ"
      },
      "execution_count": null,
      "outputs": []
    },
    {
      "cell_type": "markdown",
      "source": [
        "### 3e - Tweet Context: Quantifiable Text Features"
      ],
      "metadata": {
        "id": "qOVY0B3xz_ML"
      }
    },
    {
      "cell_type": "markdown",
      "source": [
        "The goal of these features are to examine the frequency of punctuation and other features of the tweet such as number of hashtags, dashes, commas, word length, etc.."
      ],
      "metadata": {
        "id": "2iueu5k0w7xy"
      }
    },
    {
      "cell_type": "code",
      "source": [
        "#load previous df3\n",
        "df3 = pd.read_parquet('/content/gdrive/MyDrive/Grad School/DSCI592/data/06data_engineered_all.parquet.gz')"
      ],
      "metadata": {
        "id": "p871yD0O0aFm"
      },
      "execution_count": null,
      "outputs": []
    },
    {
      "cell_type": "markdown",
      "source": [
        "#### 3e- 1: Use of Dashes"
      ],
      "metadata": {
        "id": "0uZzYt4A1jfo"
      }
    },
    {
      "cell_type": "markdown",
      "source": [
        "**Hypothesis tested:** Russian speakers use dashes more often than English speakers"
      ],
      "metadata": {
        "id": "13omF3gArvDX"
      }
    },
    {
      "cell_type": "markdown",
      "source": [
        "Creating a test_df3 to use for all text based features as the lambda functions take time to run"
      ],
      "metadata": {
        "id": "2sh-01_TssKN"
      }
    },
    {
      "cell_type": "code",
      "source": [
        "#testing df with even split of class\n",
        "test_df3 = df3.groupby('class', group_keys=False).apply(lambda x: x.sample(5, random_state = 42))"
      ],
      "metadata": {
        "id": "E3-usYVF7j3-"
      },
      "execution_count": null,
      "outputs": []
    },
    {
      "cell_type": "code",
      "source": [
        "test_df3[['content','author','class','is_retweet','post_type']]"
      ],
      "metadata": {
        "colab": {
          "base_uri": "https://localhost:8080/",
          "height": 545
        },
        "id": "QrQgyAeFqSGr",
        "outputId": "e6e73b0b-2bdb-4abd-89f6-190d32e47ba9"
      },
      "execution_count": null,
      "outputs": [
        {
          "output_type": "execute_result",
          "data": {
            "text/plain": [
              "                                                                                                                                     content  \\\n",
              "1647686                 Trump DOJ Ignores Deadline, Says It Needs More Time To Find Nonexistent Wiretapping Evidence https://t.co/Pj1gy4uEZ5   \n",
              "1084378                       Obama staffer @JonFavs spent 4 years in the White House after posting this on Facebook https://t.co/pwhuFLaN3K   \n",
              "375591                                                      EU envoy blasts EU’s ‘lack of vision’ on migration https://t.co/8ingIVWvNr #news   \n",
              "554657                White supremacist wanted to recruit racists for Times Square slaughter https://t.co/tn3s3Hryka https://t.co/MuUY2THF4a   \n",
              "301777                                                       Spurs’ Leonard back at practice https://t.co/YdaMIyoQzS https://t.co/UKEPCIar0q   \n",
              "2138287           @wookiesncream Great question! Yes, candles of any size are allowed in your carry-on bags. Good to go in checked bags too!   \n",
              "3590320        RT @Braves: Dan Uggla puts the #Braves on the board with a bang. Check out this 3-run shot in the 7th: http://t.co/Q5ShWB5Bta   \n",
              "2765677                           @Orbit_MOUVAA it was an overkill smg he picked wrong class and didn't even kill with it so it's irrelevant   \n",
              "2503731  Without maternal mortality numbers, we lack a roadmap to prevent women from dying:  https://t.co/QsX4HNc8u5 https://t.co/z1ObzVTULF   \n",
              "3127369  RT @PPA_Live: Congrats to Pete Wootton of @DennisUK – winner of the PPA Great Leap Forward Award #PPAAwards https://t.co/AQZqwXa9ns   \n",
              "\n",
              "                  author     class  is_retweet   post_type  \n",
              "1647686        JASSSCOTT     Troll         1.0     RETWEET  \n",
              "1084378  COVFEFENATIONUS     Troll         1.0     RETWEET  \n",
              "375591      SEATTLE_POST     Troll         0.0         NaN  \n",
              "554657       TODAYNYCITY     Troll         0.0         NaN  \n",
              "301777    SANANTOTOPNEWS     Troll         0.0         NaN  \n",
              "2138287           AskTSA  Verified         0.0  replied_to  \n",
              "3590320     FOXNashville  Verified         1.0   retweeted  \n",
              "2765677          Hawqeh_  Verified         0.0  replied_to  \n",
              "2503731       propublica  Verified         0.0         NaN  \n",
              "3127369        PaulLomax  Verified         1.0   retweeted  "
            ],
            "text/html": [
              "\n",
              "  <div id=\"df-732810e9-c37a-4513-8b94-2f4e70483175\">\n",
              "    <div class=\"colab-df-container\">\n",
              "      <div>\n",
              "<style scoped>\n",
              "    .dataframe tbody tr th:only-of-type {\n",
              "        vertical-align: middle;\n",
              "    }\n",
              "\n",
              "    .dataframe tbody tr th {\n",
              "        vertical-align: top;\n",
              "    }\n",
              "\n",
              "    .dataframe thead th {\n",
              "        text-align: right;\n",
              "    }\n",
              "</style>\n",
              "<table border=\"1\" class=\"dataframe\">\n",
              "  <thead>\n",
              "    <tr style=\"text-align: right;\">\n",
              "      <th></th>\n",
              "      <th>content</th>\n",
              "      <th>author</th>\n",
              "      <th>class</th>\n",
              "      <th>is_retweet</th>\n",
              "      <th>post_type</th>\n",
              "    </tr>\n",
              "  </thead>\n",
              "  <tbody>\n",
              "    <tr>\n",
              "      <th>1647686</th>\n",
              "      <td>Trump DOJ Ignores Deadline, Says It Needs More Time To Find Nonexistent Wiretapping Evidence https://t.co/Pj1gy4uEZ5</td>\n",
              "      <td>JASSSCOTT</td>\n",
              "      <td>Troll</td>\n",
              "      <td>1.0</td>\n",
              "      <td>RETWEET</td>\n",
              "    </tr>\n",
              "    <tr>\n",
              "      <th>1084378</th>\n",
              "      <td>Obama staffer @JonFavs spent 4 years in the White House after posting this on Facebook https://t.co/pwhuFLaN3K</td>\n",
              "      <td>COVFEFENATIONUS</td>\n",
              "      <td>Troll</td>\n",
              "      <td>1.0</td>\n",
              "      <td>RETWEET</td>\n",
              "    </tr>\n",
              "    <tr>\n",
              "      <th>375591</th>\n",
              "      <td>EU envoy blasts EU’s ‘lack of vision’ on migration https://t.co/8ingIVWvNr #news</td>\n",
              "      <td>SEATTLE_POST</td>\n",
              "      <td>Troll</td>\n",
              "      <td>0.0</td>\n",
              "      <td>NaN</td>\n",
              "    </tr>\n",
              "    <tr>\n",
              "      <th>554657</th>\n",
              "      <td>White supremacist wanted to recruit racists for Times Square slaughter https://t.co/tn3s3Hryka https://t.co/MuUY2THF4a</td>\n",
              "      <td>TODAYNYCITY</td>\n",
              "      <td>Troll</td>\n",
              "      <td>0.0</td>\n",
              "      <td>NaN</td>\n",
              "    </tr>\n",
              "    <tr>\n",
              "      <th>301777</th>\n",
              "      <td>Spurs’ Leonard back at practice https://t.co/YdaMIyoQzS https://t.co/UKEPCIar0q</td>\n",
              "      <td>SANANTOTOPNEWS</td>\n",
              "      <td>Troll</td>\n",
              "      <td>0.0</td>\n",
              "      <td>NaN</td>\n",
              "    </tr>\n",
              "    <tr>\n",
              "      <th>2138287</th>\n",
              "      <td>@wookiesncream Great question! Yes, candles of any size are allowed in your carry-on bags. Good to go in checked bags too!</td>\n",
              "      <td>AskTSA</td>\n",
              "      <td>Verified</td>\n",
              "      <td>0.0</td>\n",
              "      <td>replied_to</td>\n",
              "    </tr>\n",
              "    <tr>\n",
              "      <th>3590320</th>\n",
              "      <td>RT @Braves: Dan Uggla puts the #Braves on the board with a bang. Check out this 3-run shot in the 7th: http://t.co/Q5ShWB5Bta</td>\n",
              "      <td>FOXNashville</td>\n",
              "      <td>Verified</td>\n",
              "      <td>1.0</td>\n",
              "      <td>retweeted</td>\n",
              "    </tr>\n",
              "    <tr>\n",
              "      <th>2765677</th>\n",
              "      <td>@Orbit_MOUVAA it was an overkill smg he picked wrong class and didn't even kill with it so it's irrelevant</td>\n",
              "      <td>Hawqeh_</td>\n",
              "      <td>Verified</td>\n",
              "      <td>0.0</td>\n",
              "      <td>replied_to</td>\n",
              "    </tr>\n",
              "    <tr>\n",
              "      <th>2503731</th>\n",
              "      <td>Without maternal mortality numbers, we lack a roadmap to prevent women from dying:  https://t.co/QsX4HNc8u5 https://t.co/z1ObzVTULF</td>\n",
              "      <td>propublica</td>\n",
              "      <td>Verified</td>\n",
              "      <td>0.0</td>\n",
              "      <td>NaN</td>\n",
              "    </tr>\n",
              "    <tr>\n",
              "      <th>3127369</th>\n",
              "      <td>RT @PPA_Live: Congrats to Pete Wootton of @DennisUK – winner of the PPA Great Leap Forward Award #PPAAwards https://t.co/AQZqwXa9ns</td>\n",
              "      <td>PaulLomax</td>\n",
              "      <td>Verified</td>\n",
              "      <td>1.0</td>\n",
              "      <td>retweeted</td>\n",
              "    </tr>\n",
              "  </tbody>\n",
              "</table>\n",
              "</div>\n",
              "      <button class=\"colab-df-convert\" onclick=\"convertToInteractive('df-732810e9-c37a-4513-8b94-2f4e70483175')\"\n",
              "              title=\"Convert this dataframe to an interactive table.\"\n",
              "              style=\"display:none;\">\n",
              "        \n",
              "  <svg xmlns=\"http://www.w3.org/2000/svg\" height=\"24px\"viewBox=\"0 0 24 24\"\n",
              "       width=\"24px\">\n",
              "    <path d=\"M0 0h24v24H0V0z\" fill=\"none\"/>\n",
              "    <path d=\"M18.56 5.44l.94 2.06.94-2.06 2.06-.94-2.06-.94-.94-2.06-.94 2.06-2.06.94zm-11 1L8.5 8.5l.94-2.06 2.06-.94-2.06-.94L8.5 2.5l-.94 2.06-2.06.94zm10 10l.94 2.06.94-2.06 2.06-.94-2.06-.94-.94-2.06-.94 2.06-2.06.94z\"/><path d=\"M17.41 7.96l-1.37-1.37c-.4-.4-.92-.59-1.43-.59-.52 0-1.04.2-1.43.59L10.3 9.45l-7.72 7.72c-.78.78-.78 2.05 0 2.83L4 21.41c.39.39.9.59 1.41.59.51 0 1.02-.2 1.41-.59l7.78-7.78 2.81-2.81c.8-.78.8-2.07 0-2.86zM5.41 20L4 18.59l7.72-7.72 1.47 1.35L5.41 20z\"/>\n",
              "  </svg>\n",
              "      </button>\n",
              "      \n",
              "  <style>\n",
              "    .colab-df-container {\n",
              "      display:flex;\n",
              "      flex-wrap:wrap;\n",
              "      gap: 12px;\n",
              "    }\n",
              "\n",
              "    .colab-df-convert {\n",
              "      background-color: #E8F0FE;\n",
              "      border: none;\n",
              "      border-radius: 50%;\n",
              "      cursor: pointer;\n",
              "      display: none;\n",
              "      fill: #1967D2;\n",
              "      height: 32px;\n",
              "      padding: 0 0 0 0;\n",
              "      width: 32px;\n",
              "    }\n",
              "\n",
              "    .colab-df-convert:hover {\n",
              "      background-color: #E2EBFA;\n",
              "      box-shadow: 0px 1px 2px rgba(60, 64, 67, 0.3), 0px 1px 3px 1px rgba(60, 64, 67, 0.15);\n",
              "      fill: #174EA6;\n",
              "    }\n",
              "\n",
              "    [theme=dark] .colab-df-convert {\n",
              "      background-color: #3B4455;\n",
              "      fill: #D2E3FC;\n",
              "    }\n",
              "\n",
              "    [theme=dark] .colab-df-convert:hover {\n",
              "      background-color: #434B5C;\n",
              "      box-shadow: 0px 1px 3px 1px rgba(0, 0, 0, 0.15);\n",
              "      filter: drop-shadow(0px 1px 2px rgba(0, 0, 0, 0.3));\n",
              "      fill: #FFFFFF;\n",
              "    }\n",
              "  </style>\n",
              "\n",
              "      <script>\n",
              "        const buttonEl =\n",
              "          document.querySelector('#df-732810e9-c37a-4513-8b94-2f4e70483175 button.colab-df-convert');\n",
              "        buttonEl.style.display =\n",
              "          google.colab.kernel.accessAllowed ? 'block' : 'none';\n",
              "\n",
              "        async function convertToInteractive(key) {\n",
              "          const element = document.querySelector('#df-732810e9-c37a-4513-8b94-2f4e70483175');\n",
              "          const dataTable =\n",
              "            await google.colab.kernel.invokeFunction('convertToInteractive',\n",
              "                                                     [key], {});\n",
              "          if (!dataTable) return;\n",
              "\n",
              "          const docLinkHtml = 'Like what you see? Visit the ' +\n",
              "            '<a target=\"_blank\" href=https://colab.research.google.com/notebooks/data_table.ipynb>data table notebook</a>'\n",
              "            + ' to learn more about interactive tables.';\n",
              "          element.innerHTML = '';\n",
              "          dataTable['output_type'] = 'display_data';\n",
              "          await google.colab.output.renderOutput(dataTable, element);\n",
              "          const docLink = document.createElement('div');\n",
              "          docLink.innerHTML = docLinkHtml;\n",
              "          element.appendChild(docLink);\n",
              "        }\n",
              "      </script>\n",
              "    </div>\n",
              "  </div>\n",
              "  "
            ]
          },
          "metadata": {},
          "execution_count": 36
        }
      ]
    },
    {
      "cell_type": "code",
      "source": [
        "#gather list of dashes (adapted from https://www.kaggle.com/code/mathemilda/part-2-feature-engineering)\n",
        "dashes = [chr(int(d, 16)) for d in ['058A', '05BE', '1400', '1806', '2010', '2011',\\\n",
        "          '2012', '2013', '2014', '2015', '2053', '207B', '208B', '2212', '2E17', \\\n",
        "          '2E1A', '2E3A', '2E3B', '2E40', '2E5D', '301C', '3030', '30A0', 'FE31', \\\n",
        "          'FE32', 'FE58', 'FE63', 'FF0D', '10EAD']]\n",
        "dashes_compiled = re.compile('[' + ''.join(dashes) + ']+', flags = re.UNICODE)"
      ],
      "metadata": {
        "id": "4yMc1QC81Ncr"
      },
      "execution_count": null,
      "outputs": []
    },
    {
      "cell_type": "code",
      "source": [
        "#compile list of dash unicode characters as a regex string\n",
        "dashes_compiled"
      ],
      "metadata": {
        "colab": {
          "base_uri": "https://localhost:8080/"
        },
        "id": "C6adlYyn1eht",
        "outputId": "794d76d7-8b87-409c-a945-b8295772b0f7"
      },
      "execution_count": null,
      "outputs": [
        {
          "output_type": "execute_result",
          "data": {
            "text/plain": [
              "regex.Regex('[֊־᐀᠆‐‑‒–—―⁓⁻₋−⸗⸚⸺⸻⹀\\u2e5d〜〰゠︱︲﹘﹣－\\U00010ead]+', flags=regex.V0)"
            ]
          },
          "metadata": {},
          "execution_count": 38
        }
      ]
    },
    {
      "cell_type": "code",
      "source": [
        "''' The following function replaces dashes with a uniform '-' character and then counts the occurences of said character.\n",
        "    Returns the number of dashes used in text '''\n",
        "    \n",
        "def dash_counter(s):\n",
        "  s = ftfy.fix_text(s)\n",
        "  s = re.sub(dashes_compiled, '-',s)\n",
        "  num_dashes = len(re.findall('-',s))\n",
        "  return num_dashes"
      ],
      "metadata": {
        "id": "ez9d0PMsqWx1"
      },
      "execution_count": null,
      "outputs": []
    },
    {
      "cell_type": "code",
      "source": [
        "test_df3['num_dashes']= test_df3['content'].apply(dash_counter)"
      ],
      "metadata": {
        "id": "xF7zTo5eq6OC"
      },
      "execution_count": null,
      "outputs": []
    },
    {
      "cell_type": "code",
      "source": [
        "df3['num_dashes']= df3['content'].apply(dash_counter)"
      ],
      "metadata": {
        "id": "eLuivFpTqyl9"
      },
      "execution_count": null,
      "outputs": []
    },
    {
      "cell_type": "code",
      "source": [
        "df3.groupby('class')['num_dashes'].max()"
      ],
      "metadata": {
        "colab": {
          "base_uri": "https://localhost:8080/"
        },
        "id": "yK2xTMerrS_Q",
        "outputId": "6ca58568-fa47-4bd4-a997-060b9d8755c2"
      },
      "execution_count": null,
      "outputs": [
        {
          "output_type": "execute_result",
          "data": {
            "text/plain": [
              "class\n",
              "Troll       39\n",
              "Verified    98\n",
              "Name: num_dashes, dtype: int64"
            ]
          },
          "metadata": {},
          "execution_count": 50
        }
      ]
    },
    {
      "cell_type": "code",
      "source": [
        "#Export as 06_data_engineered_all3 (after dash addition)\n",
        "parq_path = '/content/gdrive/MyDrive/Grad School/DSCI592/data/06data_engineered_all3.parquet.gz'\n",
        "df3.to_parquet(parq_path, engine='pyarrow', index=False, compression='gzip')"
      ],
      "metadata": {
        "id": "ld49QZxXsWFq"
      },
      "execution_count": null,
      "outputs": []
    },
    {
      "cell_type": "markdown",
      "source": [
        "#### 3e-2: Use of commas"
      ],
      "metadata": {
        "id": "WPgj7z23sBCQ"
      }
    },
    {
      "cell_type": "markdown",
      "source": [
        "**Hypothesis Tested:** English vs. Russian speakers will have a distinctly different frequency of comma usage"
      ],
      "metadata": {
        "id": "1VT5hIs4sIbD"
      }
    },
    {
      "cell_type": "code",
      "source": [
        "'''The following function counts the number of commas used in text, returns the number'''\n",
        "\n",
        "def comma_counter(s):\n",
        "  num_commas = len(re.findall(',',s))\n",
        "  return num_commas"
      ],
      "metadata": {
        "id": "YZAH7mgXsn1z"
      },
      "execution_count": null,
      "outputs": []
    },
    {
      "cell_type": "code",
      "source": [
        "test_df3['num_commas']= test_df3['content'].apply(comma_counter)"
      ],
      "metadata": {
        "id": "vZmnEA7EtdkF"
      },
      "execution_count": null,
      "outputs": []
    },
    {
      "cell_type": "code",
      "source": [
        "test_df3['num_commas'].describe()"
      ],
      "metadata": {
        "colab": {
          "base_uri": "https://localhost:8080/"
        },
        "id": "m_3P13cetlwN",
        "outputId": "22c0eada-6f13-44b2-f2e3-e01749dbe29c"
      },
      "execution_count": null,
      "outputs": [
        {
          "output_type": "execute_result",
          "data": {
            "text/plain": [
              "count    10.000000\n",
              "mean      0.300000\n",
              "std       0.483046\n",
              "min       0.000000\n",
              "25%       0.000000\n",
              "50%       0.000000\n",
              "75%       0.750000\n",
              "max       1.000000\n",
              "Name: num_commas, dtype: float64"
            ]
          },
          "metadata": {},
          "execution_count": 56
        }
      ]
    },
    {
      "cell_type": "code",
      "source": [
        "#apply function to entire dataset\n",
        "df3['num_commas']= df3['content'].apply(comma_counter)"
      ],
      "metadata": {
        "id": "S8B3rNFStlu3"
      },
      "execution_count": null,
      "outputs": []
    },
    {
      "cell_type": "code",
      "source": [
        "df3['num_commas'].describe()"
      ],
      "metadata": {
        "colab": {
          "base_uri": "https://localhost:8080/"
        },
        "id": "naqbVEjXuITB",
        "outputId": "304adc7f-7ee7-4945-d116-0635301bfbf9"
      },
      "execution_count": null,
      "outputs": [
        {
          "output_type": "execute_result",
          "data": {
            "text/plain": [
              "count    3.624894e+06\n",
              "mean     3.065676e-01\n",
              "std      6.502191e-01\n",
              "min      0.000000e+00\n",
              "25%      0.000000e+00\n",
              "50%      0.000000e+00\n",
              "75%      0.000000e+00\n",
              "max      3.000000e+01\n",
              "Name: num_commas, dtype: float64"
            ]
          },
          "metadata": {},
          "execution_count": 58
        }
      ]
    },
    {
      "cell_type": "code",
      "source": [
        "df3.groupby('class')['num_commas'].mean()"
      ],
      "metadata": {
        "colab": {
          "base_uri": "https://localhost:8080/"
        },
        "id": "mEykuFgOuOGL",
        "outputId": "1526720f-96ea-445a-a2b2-4bfb7a30453c"
      },
      "execution_count": null,
      "outputs": [
        {
          "output_type": "execute_result",
          "data": {
            "text/plain": [
              "class\n",
              "Troll       0.256020\n",
              "Verified    0.377523\n",
              "Name: num_commas, dtype: float64"
            ]
          },
          "metadata": {},
          "execution_count": 60
        }
      ]
    },
    {
      "cell_type": "code",
      "source": [
        "#Export as 06_data_engineered_all4 (after comma addition)\n",
        "parq_path = '/content/gdrive/MyDrive/Grad School/DSCI592/data/06data_engineered_all4.parquet.gz'\n",
        "df3.to_parquet(parq_path, engine='pyarrow', index=False, compression='gzip')"
      ],
      "metadata": {
        "id": "h7fMZ0I2uafa"
      },
      "execution_count": null,
      "outputs": []
    },
    {
      "cell_type": "markdown",
      "source": [
        "#### 3e-3: Number of Hashtags"
      ],
      "metadata": {
        "id": "LmLo9JM7u1D0"
      }
    },
    {
      "cell_type": "markdown",
      "source": [
        "**Hypothesis Tested:** Trolls will use more hashtags to convey short blurbs of easy to remember propaganda"
      ],
      "metadata": {
        "id": "4ffzcYGlu763"
      }
    },
    {
      "cell_type": "code",
      "source": [
        "'''The following function returns the number of hashtags per tweet'''\n",
        "\n",
        "def hashtag_counter(s):\n",
        "  s=ftfy.fix_text(s)\n",
        "  num_hashs = len(re.findall('#\\S+', s))\n",
        "  return num_hashs"
      ],
      "metadata": {
        "id": "jz-WmnaZvDod"
      },
      "execution_count": null,
      "outputs": []
    },
    {
      "cell_type": "code",
      "source": [
        "test_df3['num_hashs']= test_df3['content'].apply(hashtag_counter)"
      ],
      "metadata": {
        "id": "Abg9_FWzvVMk"
      },
      "execution_count": null,
      "outputs": []
    },
    {
      "cell_type": "code",
      "source": [
        "test_df3['num_hashs'].max()"
      ],
      "metadata": {
        "colab": {
          "base_uri": "https://localhost:8080/"
        },
        "id": "hzOCz_ouvea3",
        "outputId": "f690f85a-631a-42a9-c42d-a675c51d5572"
      },
      "execution_count": null,
      "outputs": [
        {
          "output_type": "execute_result",
          "data": {
            "text/plain": [
              "1"
            ]
          },
          "metadata": {},
          "execution_count": 67
        }
      ]
    },
    {
      "cell_type": "code",
      "source": [
        "#apply function to entire dataset\n",
        "df3['num_hashs']= df3['content'].apply(hashtag_counter)"
      ],
      "metadata": {
        "id": "IaztVqdAvifN"
      },
      "execution_count": null,
      "outputs": []
    },
    {
      "cell_type": "code",
      "source": [
        "df3['num_hashs'].describe()"
      ],
      "metadata": {
        "colab": {
          "base_uri": "https://localhost:8080/"
        },
        "id": "V6K9qDjywlbM",
        "outputId": "67d14aff-fe52-46b7-c1b3-dbd2ac2c1048"
      },
      "execution_count": null,
      "outputs": [
        {
          "output_type": "execute_result",
          "data": {
            "text/plain": [
              "count    3.624894e+06\n",
              "mean     5.760654e-01\n",
              "std      9.502834e-01\n",
              "min      0.000000e+00\n",
              "25%      0.000000e+00\n",
              "50%      0.000000e+00\n",
              "75%      1.000000e+00\n",
              "max      3.500000e+01\n",
              "Name: num_hashs, dtype: float64"
            ]
          },
          "metadata": {},
          "execution_count": 70
        }
      ]
    },
    {
      "cell_type": "code",
      "source": [
        "df3.groupby('class')['num_hashs'].mean()"
      ],
      "metadata": {
        "colab": {
          "base_uri": "https://localhost:8080/"
        },
        "id": "iBNKVd8nwrpq",
        "outputId": "6c38a250-74da-46ed-c76e-82cb2a9f6c3a"
      },
      "execution_count": null,
      "outputs": [
        {
          "output_type": "execute_result",
          "data": {
            "text/plain": [
              "class\n",
              "Troll       0.688117\n",
              "Verified    0.418775\n",
              "Name: num_hashs, dtype: float64"
            ]
          },
          "metadata": {},
          "execution_count": 72
        }
      ]
    },
    {
      "cell_type": "markdown",
      "source": [
        "Hypothesis seems to prove true based on mean number of hashtags by class."
      ],
      "metadata": {
        "id": "KAF1sQpL8F5z"
      }
    },
    {
      "cell_type": "code",
      "source": [
        "#Export as 06_data_engineered_all5 (after hashtag addition)\n",
        "parq_path = '/content/gdrive/MyDrive/Grad School/DSCI592/data/06data_engineered_all5.parquet.gz'\n",
        "df3.to_parquet(parq_path, engine='pyarrow', index=False, compression='gzip')"
      ],
      "metadata": {
        "id": "v76iX0Gkvidy"
      },
      "execution_count": null,
      "outputs": []
    },
    {
      "cell_type": "markdown",
      "source": [
        "#### 3e-4: Number of URLs"
      ],
      "metadata": {
        "id": "plNPetkjxp0y"
      }
    },
    {
      "cell_type": "markdown",
      "source": [
        "**Hypothesis Tested:** Trolls are utilizing URLs more often to spread specific messages or images"
      ],
      "metadata": {
        "id": "lYLoahONxscr"
      }
    },
    {
      "cell_type": "code",
      "source": [
        "''' The following function returns the number of URLs for a tweet'''\n",
        "\n",
        "def URL_counter(s):\n",
        "  s = ftfy.fix_text(s)\n",
        "  #num_URL = len(re.findall('https?://\\\\S+\\\\b', s))\n",
        "  num_URL = len(re.findall('http',s))  #keeping consistent with how we defined URLs in pre-processing for the has_URL field\n",
        "\n",
        "  return num_URL"
      ],
      "metadata": {
        "id": "XJilPG49x-JS"
      },
      "execution_count": null,
      "outputs": []
    },
    {
      "cell_type": "code",
      "source": [
        "test_df3['num_URL']= test_df3['content'].apply(URL_counter)"
      ],
      "metadata": {
        "id": "vTfpYLJwyMqr"
      },
      "execution_count": null,
      "outputs": []
    },
    {
      "cell_type": "code",
      "source": [
        "#tested with two diff regex, this is the original using https?://\\\\S+\\\\b\n",
        "df3['num_URL']= df3['content'].apply(URL_counter)"
      ],
      "metadata": {
        "id": "_cjJdHA_yeoe"
      },
      "execution_count": null,
      "outputs": []
    },
    {
      "cell_type": "code",
      "source": [
        "#apply revised regex function to entire dataset\n",
        "df3['num_URLs'] = df3['content'].apply(URL_counter)"
      ],
      "metadata": {
        "id": "KkssSj7i3TTB"
      },
      "execution_count": null,
      "outputs": []
    },
    {
      "cell_type": "code",
      "source": [
        "df3.groupby('class')['num_URLs'].mean()"
      ],
      "metadata": {
        "colab": {
          "base_uri": "https://localhost:8080/"
        },
        "id": "Ob8A3h_P3x4D",
        "outputId": "9454b53a-2776-450c-b302-a2824e1f7e8a"
      },
      "execution_count": null,
      "outputs": [
        {
          "output_type": "execute_result",
          "data": {
            "text/plain": [
              "class\n",
              "Troll       0.862537\n",
              "Verified    0.756347\n",
              "Name: num_URLs, dtype: float64"
            ]
          },
          "metadata": {},
          "execution_count": 101
        }
      ]
    },
    {
      "cell_type": "code",
      "source": [
        "df3.groupby('class')['num_URL'].mean()"
      ],
      "metadata": {
        "colab": {
          "base_uri": "https://localhost:8080/"
        },
        "id": "9hIBez5DzkSO",
        "outputId": "fab1bfa2-4c80-4bb4-bbde-1e1c2fff627f"
      },
      "execution_count": null,
      "outputs": [
        {
          "output_type": "execute_result",
          "data": {
            "text/plain": [
              "class\n",
              "Troll       0.862010\n",
              "Verified    0.739349\n",
              "Name: num_URL, dtype: float64"
            ]
          },
          "metadata": {},
          "execution_count": 81
        }
      ]
    },
    {
      "cell_type": "code",
      "source": [
        "df3.columns"
      ],
      "metadata": {
        "colab": {
          "base_uri": "https://localhost:8080/"
        },
        "id": "8W_X2Ags0Gip",
        "outputId": "df7b8f7b-0910-418b-d72f-62e054d02c95"
      },
      "execution_count": null,
      "outputs": [
        {
          "output_type": "execute_result",
          "data": {
            "text/plain": [
              "Index(['external_author_id', 'author', 'content', 'region', 'language',\n",
              "       'following', 'followers', 'updates', 'post_type', 'is_retweet',\n",
              "       'account_category', 'tweet_id', 'tco1_step1', 'data_source', 'has_url',\n",
              "       'emoji_text', 'emoji_count', 'publish_date', 'class', 'following_ratio',\n",
              "       'class_numeric', 'RUS_lett_count', 'emoji_flagUS', 'emoji_police',\n",
              "       'emoji_check', 'emoji_exclamation', 'emoji_fist', 'emoji_collision',\n",
              "       'emoji_prohibited', 'emoji_loudcryface', 'emoji_smilinghearteye',\n",
              "       'emoji_fire', 'emoji_redheart', 'emoji_tearsjoy', 'emoji_thumbsup',\n",
              "       'emoji_claphands', 'emoji_blowingkiss', 'emoji_partypop',\n",
              "       'emoji_raisehands', 'region_United_States', 'region_Unknown',\n",
              "       'region_New_York_NY', 'region_United_Kingdom', 'region_Los_Angeles_CA',\n",
              "       'region_Boston_MA', 'region_London', 'region_New_York_and_the_World',\n",
              "       'region_New_York_City', 'region_Pale_Blue_Dot', 'region_Atlanta_GA',\n",
              "       'region_Australia', 'region_Global', 'region_Washington_DC',\n",
              "       'region_All_Other', 'multi_authors', 'num_dashes', 'num_commas',\n",
              "       'num_hashs', 'num_URL', 'num_URLs'],\n",
              "      dtype='object')"
            ]
          },
          "metadata": {},
          "execution_count": 102
        }
      ]
    },
    {
      "cell_type": "code",
      "source": [
        "df3.groupby('has_url')['num_URLs'].min()"
      ],
      "metadata": {
        "colab": {
          "base_uri": "https://localhost:8080/"
        },
        "id": "Pp2m3eLPz_mb",
        "outputId": "35cc7f2d-9b20-4567-f2cc-c61ddbd8907e"
      },
      "execution_count": null,
      "outputs": [
        {
          "output_type": "execute_result",
          "data": {
            "text/plain": [
              "has_url\n",
              "0    0\n",
              "1    1\n",
              "Name: num_URLs, dtype: int64"
            ]
          },
          "metadata": {},
          "execution_count": 104
        }
      ]
    },
    {
      "cell_type": "code",
      "source": [
        "#test to determine mismatch\n",
        "display(df3.loc[(df3['has_url']==1) & (df3['num_URLs']==0),\n",
        "                    ['content','class']])"
      ],
      "metadata": {
        "colab": {
          "base_uri": "https://localhost:8080/",
          "height": 49
        },
        "id": "qITtNWrZ2hqV",
        "outputId": "7af51d1a-9c9e-4413-8c2c-678242aca0f5"
      },
      "execution_count": null,
      "outputs": [
        {
          "output_type": "display_data",
          "data": {
            "text/plain": [
              "Empty DataFrame\n",
              "Columns: [content, class]\n",
              "Index: []"
            ],
            "text/html": [
              "\n",
              "  <div id=\"df-d2d87dfb-c3b5-48b9-a6f8-ee5a9fc8ea46\">\n",
              "    <div class=\"colab-df-container\">\n",
              "      <div>\n",
              "<style scoped>\n",
              "    .dataframe tbody tr th:only-of-type {\n",
              "        vertical-align: middle;\n",
              "    }\n",
              "\n",
              "    .dataframe tbody tr th {\n",
              "        vertical-align: top;\n",
              "    }\n",
              "\n",
              "    .dataframe thead th {\n",
              "        text-align: right;\n",
              "    }\n",
              "</style>\n",
              "<table border=\"1\" class=\"dataframe\">\n",
              "  <thead>\n",
              "    <tr style=\"text-align: right;\">\n",
              "      <th></th>\n",
              "      <th>content</th>\n",
              "      <th>class</th>\n",
              "    </tr>\n",
              "  </thead>\n",
              "  <tbody>\n",
              "  </tbody>\n",
              "</table>\n",
              "</div>\n",
              "      <button class=\"colab-df-convert\" onclick=\"convertToInteractive('df-d2d87dfb-c3b5-48b9-a6f8-ee5a9fc8ea46')\"\n",
              "              title=\"Convert this dataframe to an interactive table.\"\n",
              "              style=\"display:none;\">\n",
              "        \n",
              "  <svg xmlns=\"http://www.w3.org/2000/svg\" height=\"24px\"viewBox=\"0 0 24 24\"\n",
              "       width=\"24px\">\n",
              "    <path d=\"M0 0h24v24H0V0z\" fill=\"none\"/>\n",
              "    <path d=\"M18.56 5.44l.94 2.06.94-2.06 2.06-.94-2.06-.94-.94-2.06-.94 2.06-2.06.94zm-11 1L8.5 8.5l.94-2.06 2.06-.94-2.06-.94L8.5 2.5l-.94 2.06-2.06.94zm10 10l.94 2.06.94-2.06 2.06-.94-2.06-.94-.94-2.06-.94 2.06-2.06.94z\"/><path d=\"M17.41 7.96l-1.37-1.37c-.4-.4-.92-.59-1.43-.59-.52 0-1.04.2-1.43.59L10.3 9.45l-7.72 7.72c-.78.78-.78 2.05 0 2.83L4 21.41c.39.39.9.59 1.41.59.51 0 1.02-.2 1.41-.59l7.78-7.78 2.81-2.81c.8-.78.8-2.07 0-2.86zM5.41 20L4 18.59l7.72-7.72 1.47 1.35L5.41 20z\"/>\n",
              "  </svg>\n",
              "      </button>\n",
              "      \n",
              "  <style>\n",
              "    .colab-df-container {\n",
              "      display:flex;\n",
              "      flex-wrap:wrap;\n",
              "      gap: 12px;\n",
              "    }\n",
              "\n",
              "    .colab-df-convert {\n",
              "      background-color: #E8F0FE;\n",
              "      border: none;\n",
              "      border-radius: 50%;\n",
              "      cursor: pointer;\n",
              "      display: none;\n",
              "      fill: #1967D2;\n",
              "      height: 32px;\n",
              "      padding: 0 0 0 0;\n",
              "      width: 32px;\n",
              "    }\n",
              "\n",
              "    .colab-df-convert:hover {\n",
              "      background-color: #E2EBFA;\n",
              "      box-shadow: 0px 1px 2px rgba(60, 64, 67, 0.3), 0px 1px 3px 1px rgba(60, 64, 67, 0.15);\n",
              "      fill: #174EA6;\n",
              "    }\n",
              "\n",
              "    [theme=dark] .colab-df-convert {\n",
              "      background-color: #3B4455;\n",
              "      fill: #D2E3FC;\n",
              "    }\n",
              "\n",
              "    [theme=dark] .colab-df-convert:hover {\n",
              "      background-color: #434B5C;\n",
              "      box-shadow: 0px 1px 3px 1px rgba(0, 0, 0, 0.15);\n",
              "      filter: drop-shadow(0px 1px 2px rgba(0, 0, 0, 0.3));\n",
              "      fill: #FFFFFF;\n",
              "    }\n",
              "  </style>\n",
              "\n",
              "      <script>\n",
              "        const buttonEl =\n",
              "          document.querySelector('#df-d2d87dfb-c3b5-48b9-a6f8-ee5a9fc8ea46 button.colab-df-convert');\n",
              "        buttonEl.style.display =\n",
              "          google.colab.kernel.accessAllowed ? 'block' : 'none';\n",
              "\n",
              "        async function convertToInteractive(key) {\n",
              "          const element = document.querySelector('#df-d2d87dfb-c3b5-48b9-a6f8-ee5a9fc8ea46');\n",
              "          const dataTable =\n",
              "            await google.colab.kernel.invokeFunction('convertToInteractive',\n",
              "                                                     [key], {});\n",
              "          if (!dataTable) return;\n",
              "\n",
              "          const docLinkHtml = 'Like what you see? Visit the ' +\n",
              "            '<a target=\"_blank\" href=https://colab.research.google.com/notebooks/data_table.ipynb>data table notebook</a>'\n",
              "            + ' to learn more about interactive tables.';\n",
              "          element.innerHTML = '';\n",
              "          dataTable['output_type'] = 'display_data';\n",
              "          await google.colab.output.renderOutput(dataTable, element);\n",
              "          const docLink = document.createElement('div');\n",
              "          docLink.innerHTML = docLinkHtml;\n",
              "          element.appendChild(docLink);\n",
              "        }\n",
              "      </script>\n",
              "    </div>\n",
              "  </div>\n",
              "  "
            ]
          },
          "metadata": {}
        }
      ]
    },
    {
      "cell_type": "code",
      "source": [
        "\n",
        "#df3[(df3['has_url']==1 & df3['num_URL]==0)]\n",
        "mismatched = np.where((df3['has_url']==1) & (df3['num_URL']==0))\n",
        "display(df3.loc[mismatched])\n"
      ],
      "metadata": {
        "colab": {
          "base_uri": "https://localhost:8080/",
          "height": 1000
        },
        "id": "uCQJXqHa1PEB",
        "outputId": "38866566-b6b3-4705-d5c9-2a471e958c77"
      },
      "execution_count": null,
      "outputs": [
        {
          "output_type": "display_data",
          "data": {
            "text/plain": [
              "        external_author_id          author  \\\n",
              "6151            1709314117     AANTIRACIST   \n",
              "6161            1709314117     AANTIRACIST   \n",
              "6542            1709314117     AANTIRACIST   \n",
              "15859           1652138929        ACEJINEV   \n",
              "16514           1652138929        ACEJINEV   \n",
              "...                    ...             ...   \n",
              "3622914            9378802         asteris   \n",
              "3623535           22264312      bluestahli   \n",
              "3623731            8318902  Rosenbergradio   \n",
              "3624237          151192336        SujataTV   \n",
              "3624822          620007630    PreetKGillMP   \n",
              "\n",
              "                                                                                                                                                 content  \\\n",
              "6151        RT @JaredWyand: Ive had death threats by HUNDREDS of #BlackLivesMatter activists this year  Ive killed 0 people  #IslamIsTheProblem  https:…   \n",
              "6161        RT @CommanderALF: #BlackLivesMatter and @ShaunKing has red-pilled people on race more than any white supremacist could ever dream. lol http…   \n",
              "6542        RT @BreakinTheBank: Beyonce lowkey was paying homage to the late great Michael Jackson ✊ #StayWoke #BlackExcellence #BlackHistoryMonth http…   \n",
              "15859                        Send those killer cops to jail!  #StopTheCops #4thPrecinctShutDown #LaquanMcDonald  #BlackLivesMatter #WeAreBlack https://…   \n",
              "16514                                                                                Here’s an artist I want to share w/u…Producer 9-0 @nine_oh https://   \n",
              "...                                                                                                                                                  ...   \n",
              "3622914     RT @iyad_elbaghdadi: Incidentally, because I'm tired of my position being misrepresented, I storified this using documented tweets: http://…   \n",
              "3623535  RT @StarSlay3r: Stopped by FiXT studios to visit  @bluestahli and @celldweller. &lt;3 these guys! Now I have even more awesome music... http:/…   \n",
              "3623731     RT @IMPACTWRESTLING: Knockouts action as @VelVelHoller w/guest manager @Rosenbergradio take on @MickieJames at #BaseBrawl in Brooklyn!\n",
              "http…   \n",
              "3624237     RT @billclinton: 20 years ago today, at the Philadelphia Freedom Festival with my hero, Nelson Mandela. Happy 4th of July to all. #TBT http…   \n",
              "3624822     RT @BritishCouncil: UK students, intern in India this August with the UK-India Education and Research Initiative (deadline 8 July): http://…   \n",
              "\n",
              "                         region language  following  followers  updates  \\\n",
              "6151              United States       en       1027        289      803   \n",
              "6161              United States       en       1222        298      815   \n",
              "6542              United States       en        611        621     1239   \n",
              "15859             United States       en       1083        417      932   \n",
              "16514             United States       en        778        910     6871   \n",
              "...                         ...      ...        ...        ...      ...   \n",
              "3622914  Thessaloniki, Yololand       en       1202      17544        7   \n",
              "3623535         Los Angeles, CA       en        198      16820        2   \n",
              "3623731      New York, New York       en       1500     356916       16   \n",
              "3624237           Cambridge, MA       en       3300       4077     2442   \n",
              "3624822     Birmingham, England       en       5082      43768       27   \n",
              "\n",
              "         post_type  is_retweet  ... region_Atlanta_GA region_Australia  \\\n",
              "6151           NaN         0.0  ...                 0                0   \n",
              "6161           NaN         0.0  ...                 0                0   \n",
              "6542           NaN         0.0  ...                 0                0   \n",
              "15859          NaN         0.0  ...                 0                0   \n",
              "16514      RETWEET         1.0  ...                 0                0   \n",
              "...            ...         ...  ...               ...              ...   \n",
              "3622914  retweeted         1.0  ...                 0                0   \n",
              "3623535  retweeted         1.0  ...                 0                0   \n",
              "3623731  retweeted         1.0  ...                 0                0   \n",
              "3624237  retweeted         1.0  ...                 0                0   \n",
              "3624822  retweeted         1.0  ...                 0                0   \n",
              "\n",
              "        region_Global region_Washington_DC  region_All_Other multi_authors  \\\n",
              "6151                0                    0                 0             0   \n",
              "6161                0                    0                 0             0   \n",
              "6542                0                    0                 0             0   \n",
              "15859               0                    0                 0             0   \n",
              "16514               0                    0                 0             0   \n",
              "...               ...                  ...               ...           ...   \n",
              "3622914             0                    0                 1             0   \n",
              "3623535             0                    0                 0             0   \n",
              "3623731             0                    0                 1             0   \n",
              "3624237             0                    0                 1             0   \n",
              "3624822             0                    0                 1             0   \n",
              "\n",
              "         num_dashes num_commas num_hashs  num_URL  \n",
              "6151              0          0         2        0  \n",
              "6161              1          0         1        0  \n",
              "6542              0          0         3        0  \n",
              "15859             0          0         5        0  \n",
              "16514             1          0         0        0  \n",
              "...             ...        ...       ...      ...  \n",
              "3622914           0          2         0        0  \n",
              "3623535           0          0         0        0  \n",
              "3623731           0          0         1        0  \n",
              "3624237           0          2         1        0  \n",
              "3624822           1          1         0        0  \n",
              "\n",
              "[20768 rows x 59 columns]"
            ],
            "text/html": [
              "\n",
              "  <div id=\"df-a6063faa-a16d-4d0d-bfd7-325ed36e743f\">\n",
              "    <div class=\"colab-df-container\">\n",
              "      <div>\n",
              "<style scoped>\n",
              "    .dataframe tbody tr th:only-of-type {\n",
              "        vertical-align: middle;\n",
              "    }\n",
              "\n",
              "    .dataframe tbody tr th {\n",
              "        vertical-align: top;\n",
              "    }\n",
              "\n",
              "    .dataframe thead th {\n",
              "        text-align: right;\n",
              "    }\n",
              "</style>\n",
              "<table border=\"1\" class=\"dataframe\">\n",
              "  <thead>\n",
              "    <tr style=\"text-align: right;\">\n",
              "      <th></th>\n",
              "      <th>external_author_id</th>\n",
              "      <th>author</th>\n",
              "      <th>content</th>\n",
              "      <th>region</th>\n",
              "      <th>language</th>\n",
              "      <th>following</th>\n",
              "      <th>followers</th>\n",
              "      <th>updates</th>\n",
              "      <th>post_type</th>\n",
              "      <th>is_retweet</th>\n",
              "      <th>...</th>\n",
              "      <th>region_Atlanta_GA</th>\n",
              "      <th>region_Australia</th>\n",
              "      <th>region_Global</th>\n",
              "      <th>region_Washington_DC</th>\n",
              "      <th>region_All_Other</th>\n",
              "      <th>multi_authors</th>\n",
              "      <th>num_dashes</th>\n",
              "      <th>num_commas</th>\n",
              "      <th>num_hashs</th>\n",
              "      <th>num_URL</th>\n",
              "    </tr>\n",
              "  </thead>\n",
              "  <tbody>\n",
              "    <tr>\n",
              "      <th>6151</th>\n",
              "      <td>1709314117</td>\n",
              "      <td>AANTIRACIST</td>\n",
              "      <td>RT @JaredWyand: Ive had death threats by HUNDREDS of #BlackLivesMatter activists this year  Ive killed 0 people  #IslamIsTheProblem  https:…</td>\n",
              "      <td>United States</td>\n",
              "      <td>en</td>\n",
              "      <td>1027</td>\n",
              "      <td>289</td>\n",
              "      <td>803</td>\n",
              "      <td>NaN</td>\n",
              "      <td>0.0</td>\n",
              "      <td>...</td>\n",
              "      <td>0</td>\n",
              "      <td>0</td>\n",
              "      <td>0</td>\n",
              "      <td>0</td>\n",
              "      <td>0</td>\n",
              "      <td>0</td>\n",
              "      <td>0</td>\n",
              "      <td>0</td>\n",
              "      <td>2</td>\n",
              "      <td>0</td>\n",
              "    </tr>\n",
              "    <tr>\n",
              "      <th>6161</th>\n",
              "      <td>1709314117</td>\n",
              "      <td>AANTIRACIST</td>\n",
              "      <td>RT @CommanderALF: #BlackLivesMatter and @ShaunKing has red-pilled people on race more than any white supremacist could ever dream. lol http…</td>\n",
              "      <td>United States</td>\n",
              "      <td>en</td>\n",
              "      <td>1222</td>\n",
              "      <td>298</td>\n",
              "      <td>815</td>\n",
              "      <td>NaN</td>\n",
              "      <td>0.0</td>\n",
              "      <td>...</td>\n",
              "      <td>0</td>\n",
              "      <td>0</td>\n",
              "      <td>0</td>\n",
              "      <td>0</td>\n",
              "      <td>0</td>\n",
              "      <td>0</td>\n",
              "      <td>1</td>\n",
              "      <td>0</td>\n",
              "      <td>1</td>\n",
              "      <td>0</td>\n",
              "    </tr>\n",
              "    <tr>\n",
              "      <th>6542</th>\n",
              "      <td>1709314117</td>\n",
              "      <td>AANTIRACIST</td>\n",
              "      <td>RT @BreakinTheBank: Beyonce lowkey was paying homage to the late great Michael Jackson ✊ #StayWoke #BlackExcellence #BlackHistoryMonth http…</td>\n",
              "      <td>United States</td>\n",
              "      <td>en</td>\n",
              "      <td>611</td>\n",
              "      <td>621</td>\n",
              "      <td>1239</td>\n",
              "      <td>NaN</td>\n",
              "      <td>0.0</td>\n",
              "      <td>...</td>\n",
              "      <td>0</td>\n",
              "      <td>0</td>\n",
              "      <td>0</td>\n",
              "      <td>0</td>\n",
              "      <td>0</td>\n",
              "      <td>0</td>\n",
              "      <td>0</td>\n",
              "      <td>0</td>\n",
              "      <td>3</td>\n",
              "      <td>0</td>\n",
              "    </tr>\n",
              "    <tr>\n",
              "      <th>15859</th>\n",
              "      <td>1652138929</td>\n",
              "      <td>ACEJINEV</td>\n",
              "      <td>Send those killer cops to jail!  #StopTheCops #4thPrecinctShutDown #LaquanMcDonald  #BlackLivesMatter #WeAreBlack https://…</td>\n",
              "      <td>United States</td>\n",
              "      <td>en</td>\n",
              "      <td>1083</td>\n",
              "      <td>417</td>\n",
              "      <td>932</td>\n",
              "      <td>NaN</td>\n",
              "      <td>0.0</td>\n",
              "      <td>...</td>\n",
              "      <td>0</td>\n",
              "      <td>0</td>\n",
              "      <td>0</td>\n",
              "      <td>0</td>\n",
              "      <td>0</td>\n",
              "      <td>0</td>\n",
              "      <td>0</td>\n",
              "      <td>0</td>\n",
              "      <td>5</td>\n",
              "      <td>0</td>\n",
              "    </tr>\n",
              "    <tr>\n",
              "      <th>16514</th>\n",
              "      <td>1652138929</td>\n",
              "      <td>ACEJINEV</td>\n",
              "      <td>Here’s an artist I want to share w/u…Producer 9-0 @nine_oh https://</td>\n",
              "      <td>United States</td>\n",
              "      <td>en</td>\n",
              "      <td>778</td>\n",
              "      <td>910</td>\n",
              "      <td>6871</td>\n",
              "      <td>RETWEET</td>\n",
              "      <td>1.0</td>\n",
              "      <td>...</td>\n",
              "      <td>0</td>\n",
              "      <td>0</td>\n",
              "      <td>0</td>\n",
              "      <td>0</td>\n",
              "      <td>0</td>\n",
              "      <td>0</td>\n",
              "      <td>1</td>\n",
              "      <td>0</td>\n",
              "      <td>0</td>\n",
              "      <td>0</td>\n",
              "    </tr>\n",
              "    <tr>\n",
              "      <th>...</th>\n",
              "      <td>...</td>\n",
              "      <td>...</td>\n",
              "      <td>...</td>\n",
              "      <td>...</td>\n",
              "      <td>...</td>\n",
              "      <td>...</td>\n",
              "      <td>...</td>\n",
              "      <td>...</td>\n",
              "      <td>...</td>\n",
              "      <td>...</td>\n",
              "      <td>...</td>\n",
              "      <td>...</td>\n",
              "      <td>...</td>\n",
              "      <td>...</td>\n",
              "      <td>...</td>\n",
              "      <td>...</td>\n",
              "      <td>...</td>\n",
              "      <td>...</td>\n",
              "      <td>...</td>\n",
              "      <td>...</td>\n",
              "      <td>...</td>\n",
              "    </tr>\n",
              "    <tr>\n",
              "      <th>3622914</th>\n",
              "      <td>9378802</td>\n",
              "      <td>asteris</td>\n",
              "      <td>RT @iyad_elbaghdadi: Incidentally, because I'm tired of my position being misrepresented, I storified this using documented tweets: http://…</td>\n",
              "      <td>Thessaloniki, Yololand</td>\n",
              "      <td>en</td>\n",
              "      <td>1202</td>\n",
              "      <td>17544</td>\n",
              "      <td>7</td>\n",
              "      <td>retweeted</td>\n",
              "      <td>1.0</td>\n",
              "      <td>...</td>\n",
              "      <td>0</td>\n",
              "      <td>0</td>\n",
              "      <td>0</td>\n",
              "      <td>0</td>\n",
              "      <td>1</td>\n",
              "      <td>0</td>\n",
              "      <td>0</td>\n",
              "      <td>2</td>\n",
              "      <td>0</td>\n",
              "      <td>0</td>\n",
              "    </tr>\n",
              "    <tr>\n",
              "      <th>3623535</th>\n",
              "      <td>22264312</td>\n",
              "      <td>bluestahli</td>\n",
              "      <td>RT @StarSlay3r: Stopped by FiXT studios to visit  @bluestahli and @celldweller. &amp;lt;3 these guys! Now I have even more awesome music... http:/…</td>\n",
              "      <td>Los Angeles, CA</td>\n",
              "      <td>en</td>\n",
              "      <td>198</td>\n",
              "      <td>16820</td>\n",
              "      <td>2</td>\n",
              "      <td>retweeted</td>\n",
              "      <td>1.0</td>\n",
              "      <td>...</td>\n",
              "      <td>0</td>\n",
              "      <td>0</td>\n",
              "      <td>0</td>\n",
              "      <td>0</td>\n",
              "      <td>0</td>\n",
              "      <td>0</td>\n",
              "      <td>0</td>\n",
              "      <td>0</td>\n",
              "      <td>0</td>\n",
              "      <td>0</td>\n",
              "    </tr>\n",
              "    <tr>\n",
              "      <th>3623731</th>\n",
              "      <td>8318902</td>\n",
              "      <td>Rosenbergradio</td>\n",
              "      <td>RT @IMPACTWRESTLING: Knockouts action as @VelVelHoller w/guest manager @Rosenbergradio take on @MickieJames at #BaseBrawl in Brooklyn!\n",
              "http…</td>\n",
              "      <td>New York, New York</td>\n",
              "      <td>en</td>\n",
              "      <td>1500</td>\n",
              "      <td>356916</td>\n",
              "      <td>16</td>\n",
              "      <td>retweeted</td>\n",
              "      <td>1.0</td>\n",
              "      <td>...</td>\n",
              "      <td>0</td>\n",
              "      <td>0</td>\n",
              "      <td>0</td>\n",
              "      <td>0</td>\n",
              "      <td>1</td>\n",
              "      <td>0</td>\n",
              "      <td>0</td>\n",
              "      <td>0</td>\n",
              "      <td>1</td>\n",
              "      <td>0</td>\n",
              "    </tr>\n",
              "    <tr>\n",
              "      <th>3624237</th>\n",
              "      <td>151192336</td>\n",
              "      <td>SujataTV</td>\n",
              "      <td>RT @billclinton: 20 years ago today, at the Philadelphia Freedom Festival with my hero, Nelson Mandela. Happy 4th of July to all. #TBT http…</td>\n",
              "      <td>Cambridge, MA</td>\n",
              "      <td>en</td>\n",
              "      <td>3300</td>\n",
              "      <td>4077</td>\n",
              "      <td>2442</td>\n",
              "      <td>retweeted</td>\n",
              "      <td>1.0</td>\n",
              "      <td>...</td>\n",
              "      <td>0</td>\n",
              "      <td>0</td>\n",
              "      <td>0</td>\n",
              "      <td>0</td>\n",
              "      <td>1</td>\n",
              "      <td>0</td>\n",
              "      <td>0</td>\n",
              "      <td>2</td>\n",
              "      <td>1</td>\n",
              "      <td>0</td>\n",
              "    </tr>\n",
              "    <tr>\n",
              "      <th>3624822</th>\n",
              "      <td>620007630</td>\n",
              "      <td>PreetKGillMP</td>\n",
              "      <td>RT @BritishCouncil: UK students, intern in India this August with the UK-India Education and Research Initiative (deadline 8 July): http://…</td>\n",
              "      <td>Birmingham, England</td>\n",
              "      <td>en</td>\n",
              "      <td>5082</td>\n",
              "      <td>43768</td>\n",
              "      <td>27</td>\n",
              "      <td>retweeted</td>\n",
              "      <td>1.0</td>\n",
              "      <td>...</td>\n",
              "      <td>0</td>\n",
              "      <td>0</td>\n",
              "      <td>0</td>\n",
              "      <td>0</td>\n",
              "      <td>1</td>\n",
              "      <td>0</td>\n",
              "      <td>1</td>\n",
              "      <td>1</td>\n",
              "      <td>0</td>\n",
              "      <td>0</td>\n",
              "    </tr>\n",
              "  </tbody>\n",
              "</table>\n",
              "<p>20768 rows × 59 columns</p>\n",
              "</div>\n",
              "      <button class=\"colab-df-convert\" onclick=\"convertToInteractive('df-a6063faa-a16d-4d0d-bfd7-325ed36e743f')\"\n",
              "              title=\"Convert this dataframe to an interactive table.\"\n",
              "              style=\"display:none;\">\n",
              "        \n",
              "  <svg xmlns=\"http://www.w3.org/2000/svg\" height=\"24px\"viewBox=\"0 0 24 24\"\n",
              "       width=\"24px\">\n",
              "    <path d=\"M0 0h24v24H0V0z\" fill=\"none\"/>\n",
              "    <path d=\"M18.56 5.44l.94 2.06.94-2.06 2.06-.94-2.06-.94-.94-2.06-.94 2.06-2.06.94zm-11 1L8.5 8.5l.94-2.06 2.06-.94-2.06-.94L8.5 2.5l-.94 2.06-2.06.94zm10 10l.94 2.06.94-2.06 2.06-.94-2.06-.94-.94-2.06-.94 2.06-2.06.94z\"/><path d=\"M17.41 7.96l-1.37-1.37c-.4-.4-.92-.59-1.43-.59-.52 0-1.04.2-1.43.59L10.3 9.45l-7.72 7.72c-.78.78-.78 2.05 0 2.83L4 21.41c.39.39.9.59 1.41.59.51 0 1.02-.2 1.41-.59l7.78-7.78 2.81-2.81c.8-.78.8-2.07 0-2.86zM5.41 20L4 18.59l7.72-7.72 1.47 1.35L5.41 20z\"/>\n",
              "  </svg>\n",
              "      </button>\n",
              "      \n",
              "  <style>\n",
              "    .colab-df-container {\n",
              "      display:flex;\n",
              "      flex-wrap:wrap;\n",
              "      gap: 12px;\n",
              "    }\n",
              "\n",
              "    .colab-df-convert {\n",
              "      background-color: #E8F0FE;\n",
              "      border: none;\n",
              "      border-radius: 50%;\n",
              "      cursor: pointer;\n",
              "      display: none;\n",
              "      fill: #1967D2;\n",
              "      height: 32px;\n",
              "      padding: 0 0 0 0;\n",
              "      width: 32px;\n",
              "    }\n",
              "\n",
              "    .colab-df-convert:hover {\n",
              "      background-color: #E2EBFA;\n",
              "      box-shadow: 0px 1px 2px rgba(60, 64, 67, 0.3), 0px 1px 3px 1px rgba(60, 64, 67, 0.15);\n",
              "      fill: #174EA6;\n",
              "    }\n",
              "\n",
              "    [theme=dark] .colab-df-convert {\n",
              "      background-color: #3B4455;\n",
              "      fill: #D2E3FC;\n",
              "    }\n",
              "\n",
              "    [theme=dark] .colab-df-convert:hover {\n",
              "      background-color: #434B5C;\n",
              "      box-shadow: 0px 1px 3px 1px rgba(0, 0, 0, 0.15);\n",
              "      filter: drop-shadow(0px 1px 2px rgba(0, 0, 0, 0.3));\n",
              "      fill: #FFFFFF;\n",
              "    }\n",
              "  </style>\n",
              "\n",
              "      <script>\n",
              "        const buttonEl =\n",
              "          document.querySelector('#df-a6063faa-a16d-4d0d-bfd7-325ed36e743f button.colab-df-convert');\n",
              "        buttonEl.style.display =\n",
              "          google.colab.kernel.accessAllowed ? 'block' : 'none';\n",
              "\n",
              "        async function convertToInteractive(key) {\n",
              "          const element = document.querySelector('#df-a6063faa-a16d-4d0d-bfd7-325ed36e743f');\n",
              "          const dataTable =\n",
              "            await google.colab.kernel.invokeFunction('convertToInteractive',\n",
              "                                                     [key], {});\n",
              "          if (!dataTable) return;\n",
              "\n",
              "          const docLinkHtml = 'Like what you see? Visit the ' +\n",
              "            '<a target=\"_blank\" href=https://colab.research.google.com/notebooks/data_table.ipynb>data table notebook</a>'\n",
              "            + ' to learn more about interactive tables.';\n",
              "          element.innerHTML = '';\n",
              "          dataTable['output_type'] = 'display_data';\n",
              "          await google.colab.output.renderOutput(dataTable, element);\n",
              "          const docLink = document.createElement('div');\n",
              "          docLink.innerHTML = docLinkHtml;\n",
              "          element.appendChild(docLink);\n",
              "        }\n",
              "      </script>\n",
              "    </div>\n",
              "  </div>\n",
              "  "
            ]
          },
          "metadata": {}
        }
      ]
    },
    {
      "cell_type": "code",
      "source": [
        "#Export as 06_data_engineered_all6 (after URL addition)\n",
        "parq_path = '/content/gdrive/MyDrive/Grad School/DSCI592/data/06data_engineered_all6.parquet.gz'\n",
        "df3.to_parquet(parq_path, engine='pyarrow', index=False, compression='gzip')"
      ],
      "metadata": {
        "id": "-4SXvRgFyjlu"
      },
      "execution_count": null,
      "outputs": []
    },
    {
      "cell_type": "markdown",
      "source": [
        "#### 3e-5: Median word length"
      ],
      "metadata": {
        "id": "xOJZNqpvxLaI"
      }
    },
    {
      "cell_type": "markdown",
      "source": [
        "**Hypothesis Tested:** Trolls differ in word usage and may have a select vocabulary approved for usage that can be differentiated based on word length"
      ],
      "metadata": {
        "id": "JbvMSafqxPcf"
      }
    },
    {
      "cell_type": "code",
      "source": [
        "''' The following function first cleans a tweet, \n",
        "adapted from https://www.kaggle.com/code/mathemilda/part-2-feature-engineering  '''\n",
        "\n",
        "def clean_text(text):\n",
        "    text =  ftfy.fix_text(text)\n",
        "    text = re.sub(r\"http\\S+\", \"\", text)  #remove links\n",
        "    text = re.sub(r\"\\n\", \" \", text)\n",
        "    text = re.sub(r\"\\'t\", \" not\", text)   # Change 't to 'not'\n",
        "    text = re.sub(r\"\\'ve\", \" have\", text) # Change 've to have\n",
        "    text = re.sub(r\"\\'re\", \" are\", text)  #Change 're to are\n",
        "    text = re.sub(r'(@.*?)[\\s]', ' ', text) # Remove @name\n",
        "    #text = re.sub(r\"$\\d+\\W+|\\b\\d+\\b|\\W+\\d+$\", \" \", text) # remove digits\n",
        "    text = re.sub(r\"[^\\w\\s\\#]\", \"\", text) #remove special characters except hashtags\n",
        "    text = text.strip(\" \")\n",
        "    text = re.sub(' +',' ', text).strip() # get rid of multiple spaces and replace with a single\n",
        "    #print(text)\n",
        "    return text\n",
        "\n",
        "''' The following function calls the clean_tweet function and then returns the median word lenght'''\n",
        "\n",
        "def median_word_len(s):\n",
        "  clean_text(s)\n",
        "  total_len = len(s)\n",
        "  words = [len(w) for w in re.findall(r'\\b\\w+\\b', s)]\n",
        "  #print(words)\n",
        "  if len(words)==0:\n",
        "    average_word = 0\n",
        "  else:\n",
        "    average_word = np.median(words)\n",
        "    return average_word\n",
        "\n",
        "\n"
      ],
      "metadata": {
        "id": "eO0AoXJAxZOW"
      },
      "execution_count": null,
      "outputs": []
    },
    {
      "cell_type": "code",
      "source": [
        "#for debugging\n",
        "median_word_len(clean_text('RT @PPA_Live: Congrats to Pete Wootton of @DennisUK – winner of the PPA Great Leap Forward Award #PPAAwards https://t.co/AQZqwXa9ns'))"
      ],
      "metadata": {
        "colab": {
          "base_uri": "https://localhost:8080/"
        },
        "id": "CiIE7nUx6pqk",
        "outputId": "b484a690-f4a5-4698-e03a-528ce99214ee"
      },
      "execution_count": null,
      "outputs": [
        {
          "output_type": "stream",
          "name": "stdout",
          "text": [
            "RT Congrats to Pete Wootton of – winner of the PPA Great Leap Forward Award #PPAAwards\n",
            "[2, 8, 2, 4, 7, 2, 6, 2, 3, 3, 5, 4, 7, 5, 9]\n"
          ]
        },
        {
          "output_type": "execute_result",
          "data": {
            "text/plain": [
              "4.0"
            ]
          },
          "metadata": {},
          "execution_count": 113
        }
      ]
    },
    {
      "cell_type": "code",
      "source": [
        "median_word_len(clean_text('RT @PPA_Live: 🥰 Congrats to Pete Wootton of @DennisUK – winner of the PPA Great Leap Forward Award #PPAAwards https://t.co/AQZqwXa9ns'))"
      ],
      "metadata": {
        "colab": {
          "base_uri": "https://localhost:8080/"
        },
        "id": "b3sYhB5Q8NCw",
        "outputId": "f034f7a9-60f6-45e9-ff8d-0742a7a57f69"
      },
      "execution_count": null,
      "outputs": [
        {
          "output_type": "execute_result",
          "data": {
            "text/plain": [
              "4.0"
            ]
          },
          "metadata": {},
          "execution_count": 11
        }
      ]
    },
    {
      "cell_type": "code",
      "source": [
        "test_df3['median_word_length']= test_df3['content'].apply(median_word_len)"
      ],
      "metadata": {
        "id": "DBgajGbn8ZIO"
      },
      "execution_count": null,
      "outputs": []
    },
    {
      "cell_type": "code",
      "source": [
        "df3['median_word_length']= df3['content'].apply(median_word_len)"
      ],
      "metadata": {
        "id": "BFrA0BlM72AE"
      },
      "execution_count": null,
      "outputs": []
    },
    {
      "cell_type": "code",
      "source": [
        "df3.groupby('class')['median_word_length'].hist()"
      ],
      "metadata": {
        "colab": {
          "base_uri": "https://localhost:8080/",
          "height": 348
        },
        "id": "-f7rKnI9_YUN",
        "outputId": "1d358a4c-a50a-42e6-f01e-e9cc93a6bcdd"
      },
      "execution_count": null,
      "outputs": [
        {
          "output_type": "execute_result",
          "data": {
            "text/plain": [
              "class\n",
              "Troll       AxesSubplot(0.125,0.125;0.775x0.755)\n",
              "Verified    AxesSubplot(0.125,0.125;0.775x0.755)\n",
              "Name: median_word_length, dtype: object"
            ]
          },
          "metadata": {},
          "execution_count": 128
        },
        {
          "output_type": "display_data",
          "data": {
            "text/plain": [
              "<Figure size 432x288 with 1 Axes>"
            ],
            "image/png": "[encoded data removed]"
          },
          "metadata": {
            "needs_background": "light"
          }
        }
      ]
    },
    {
      "cell_type": "code",
      "source": [
        "#Export as 06_data_engineered_all7 (after median_word_length addition)\n",
        "parq_path = '/content/gdrive/MyDrive/Grad School/DSCI592/data/06data_engineered_all7.parquet.gz'\n",
        "df3.to_parquet(parq_path, engine='pyarrow', index=False, compression='gzip')"
      ],
      "metadata": {
        "id": "SSGXY6Dl8vRl"
      },
      "execution_count": null,
      "outputs": []
    },
    {
      "cell_type": "markdown",
      "source": [
        "### 3e-6 Text Sentiment"
      ],
      "metadata": {
        "id": "usHvMk8UmI4S"
      }
    },
    {
      "cell_type": "markdown",
      "source": [
        "The following section utilizes vader Sentiment to extract the normalized sentiment score for the text of the tweet.\n",
        "\n",
        "**Hypothesis Tested**: Troll tweets will have more negative sentiment scores."
      ],
      "metadata": {
        "id": "2hFKdaSh8xvi"
      }
    },
    {
      "cell_type": "code",
      "source": [
        "#import latest df3 parquet file\n",
        "df3 = pd.read_parquet(file_folder +'06data_engineered_all7.parquet.gz')"
      ],
      "metadata": {
        "id": "OszCicQbfJyh"
      },
      "execution_count": null,
      "outputs": []
    },
    {
      "cell_type": "code",
      "source": [
        "#use the clean_text function to clean the tweet\n",
        "test_df3['cleaned_tweet']=test_df3['content'].apply(clean_text)"
      ],
      "metadata": {
        "id": "Ss3ykibQn6wv"
      },
      "execution_count": null,
      "outputs": []
    },
    {
      "cell_type": "code",
      "source": [
        "test_df3[['cleaned_tweet','content']]"
      ],
      "metadata": {
        "colab": {
          "base_uri": "https://localhost:8080/",
          "height": 545
        },
        "id": "RJgWzQzRn-X7",
        "outputId": "9daa4583-231c-4cee-b504-184744b0cb98"
      },
      "execution_count": null,
      "outputs": [
        {
          "output_type": "execute_result",
          "data": {
            "text/plain": [
              "                                                                                                  cleaned_tweet  \\\n",
              "1647686             Trump DOJ Ignores Deadline Says It Needs More Time To Find Nonexistent Wiretapping Evidence   \n",
              "1084378                           Obama staffer spent 4 years in the White House after posting this on Facebook   \n",
              "375591                                                    EU envoy blasts EUs lack of vision on migration #news   \n",
              "554657                                   White supremacist wanted to recruit racists for Times Square slaughter   \n",
              "301777                                                                           Spurs Leonard back at practice   \n",
              "2138287  Great question Yes candles of any size are allowed in your carryon bags Good to go in checked bags too   \n",
              "3590320              RT Dan Uggla puts the #Braves on the board with a bang Check out this 3run shot in the 7th   \n",
              "2765677           it was an overkill smg he picked wrong class and didn not even kill with it so its irrelevant   \n",
              "2503731                        Without maternal mortality numbers we lack a roadmap to prevent women from dying   \n",
              "3127369                    RT Congrats to Pete Wootton of winner of the PPA Great Leap Forward Award #PPAAwards   \n",
              "\n",
              "                                                                                                                                     content  \n",
              "1647686                 Trump DOJ Ignores Deadline, Says It Needs More Time To Find Nonexistent Wiretapping Evidence https://t.co/Pj1gy4uEZ5  \n",
              "1084378                       Obama staffer @JonFavs spent 4 years in the White House after posting this on Facebook https://t.co/pwhuFLaN3K  \n",
              "375591                                                      EU envoy blasts EU’s ‘lack of vision’ on migration https://t.co/8ingIVWvNr #news  \n",
              "554657                White supremacist wanted to recruit racists for Times Square slaughter https://t.co/tn3s3Hryka https://t.co/MuUY2THF4a  \n",
              "301777                                                       Spurs’ Leonard back at practice https://t.co/YdaMIyoQzS https://t.co/UKEPCIar0q  \n",
              "2138287           @wookiesncream Great question! Yes, candles of any size are allowed in your carry-on bags. Good to go in checked bags too!  \n",
              "3590320        RT @Braves: Dan Uggla puts the #Braves on the board with a bang. Check out this 3-run shot in the 7th: http://t.co/Q5ShWB5Bta  \n",
              "2765677                           @Orbit_MOUVAA it was an overkill smg he picked wrong class and didn't even kill with it so it's irrelevant  \n",
              "2503731  Without maternal mortality numbers, we lack a roadmap to prevent women from dying:  https://t.co/QsX4HNc8u5 https://t.co/z1ObzVTULF  \n",
              "3127369  RT @PPA_Live: Congrats to Pete Wootton of @DennisUK – winner of the PPA Great Leap Forward Award #PPAAwards https://t.co/AQZqwXa9ns  "
            ],
            "text/html": [
              "\n",
              "  <div id=\"df-d736ab7a-7497-4ac4-a970-de4e0512d9fc\">\n",
              "    <div class=\"colab-df-container\">\n",
              "      <div>\n",
              "<style scoped>\n",
              "    .dataframe tbody tr th:only-of-type {\n",
              "        vertical-align: middle;\n",
              "    }\n",
              "\n",
              "    .dataframe tbody tr th {\n",
              "        vertical-align: top;\n",
              "    }\n",
              "\n",
              "    .dataframe thead th {\n",
              "        text-align: right;\n",
              "    }\n",
              "</style>\n",
              "<table border=\"1\" class=\"dataframe\">\n",
              "  <thead>\n",
              "    <tr style=\"text-align: right;\">\n",
              "      <th></th>\n",
              "      <th>cleaned_tweet</th>\n",
              "      <th>content</th>\n",
              "    </tr>\n",
              "  </thead>\n",
              "  <tbody>\n",
              "    <tr>\n",
              "      <th>1647686</th>\n",
              "      <td>Trump DOJ Ignores Deadline Says It Needs More Time To Find Nonexistent Wiretapping Evidence</td>\n",
              "      <td>Trump DOJ Ignores Deadline, Says It Needs More Time To Find Nonexistent Wiretapping Evidence https://t.co/Pj1gy4uEZ5</td>\n",
              "    </tr>\n",
              "    <tr>\n",
              "      <th>1084378</th>\n",
              "      <td>Obama staffer spent 4 years in the White House after posting this on Facebook</td>\n",
              "      <td>Obama staffer @JonFavs spent 4 years in the White House after posting this on Facebook https://t.co/pwhuFLaN3K</td>\n",
              "    </tr>\n",
              "    <tr>\n",
              "      <th>375591</th>\n",
              "      <td>EU envoy blasts EUs lack of vision on migration #news</td>\n",
              "      <td>EU envoy blasts EU’s ‘lack of vision’ on migration https://t.co/8ingIVWvNr #news</td>\n",
              "    </tr>\n",
              "    <tr>\n",
              "      <th>554657</th>\n",
              "      <td>White supremacist wanted to recruit racists for Times Square slaughter</td>\n",
              "      <td>White supremacist wanted to recruit racists for Times Square slaughter https://t.co/tn3s3Hryka https://t.co/MuUY2THF4a</td>\n",
              "    </tr>\n",
              "    <tr>\n",
              "      <th>301777</th>\n",
              "      <td>Spurs Leonard back at practice</td>\n",
              "      <td>Spurs’ Leonard back at practice https://t.co/YdaMIyoQzS https://t.co/UKEPCIar0q</td>\n",
              "    </tr>\n",
              "    <tr>\n",
              "      <th>2138287</th>\n",
              "      <td>Great question Yes candles of any size are allowed in your carryon bags Good to go in checked bags too</td>\n",
              "      <td>@wookiesncream Great question! Yes, candles of any size are allowed in your carry-on bags. Good to go in checked bags too!</td>\n",
              "    </tr>\n",
              "    <tr>\n",
              "      <th>3590320</th>\n",
              "      <td>RT Dan Uggla puts the #Braves on the board with a bang Check out this 3run shot in the 7th</td>\n",
              "      <td>RT @Braves: Dan Uggla puts the #Braves on the board with a bang. Check out this 3-run shot in the 7th: http://t.co/Q5ShWB5Bta</td>\n",
              "    </tr>\n",
              "    <tr>\n",
              "      <th>2765677</th>\n",
              "      <td>it was an overkill smg he picked wrong class and didn not even kill with it so its irrelevant</td>\n",
              "      <td>@Orbit_MOUVAA it was an overkill smg he picked wrong class and didn't even kill with it so it's irrelevant</td>\n",
              "    </tr>\n",
              "    <tr>\n",
              "      <th>2503731</th>\n",
              "      <td>Without maternal mortality numbers we lack a roadmap to prevent women from dying</td>\n",
              "      <td>Without maternal mortality numbers, we lack a roadmap to prevent women from dying:  https://t.co/QsX4HNc8u5 https://t.co/z1ObzVTULF</td>\n",
              "    </tr>\n",
              "    <tr>\n",
              "      <th>3127369</th>\n",
              "      <td>RT Congrats to Pete Wootton of winner of the PPA Great Leap Forward Award #PPAAwards</td>\n",
              "      <td>RT @PPA_Live: Congrats to Pete Wootton of @DennisUK – winner of the PPA Great Leap Forward Award #PPAAwards https://t.co/AQZqwXa9ns</td>\n",
              "    </tr>\n",
              "  </tbody>\n",
              "</table>\n",
              "</div>\n",
              "      <button class=\"colab-df-convert\" onclick=\"convertToInteractive('df-d736ab7a-7497-4ac4-a970-de4e0512d9fc')\"\n",
              "              title=\"Convert this dataframe to an interactive table.\"\n",
              "              style=\"display:none;\">\n",
              "        \n",
              "  <svg xmlns=\"http://www.w3.org/2000/svg\" height=\"24px\"viewBox=\"0 0 24 24\"\n",
              "       width=\"24px\">\n",
              "    <path d=\"M0 0h24v24H0V0z\" fill=\"none\"/>\n",
              "    <path d=\"M18.56 5.44l.94 2.06.94-2.06 2.06-.94-2.06-.94-.94-2.06-.94 2.06-2.06.94zm-11 1L8.5 8.5l.94-2.06 2.06-.94-2.06-.94L8.5 2.5l-.94 2.06-2.06.94zm10 10l.94 2.06.94-2.06 2.06-.94-2.06-.94-.94-2.06-.94 2.06-2.06.94z\"/><path d=\"M17.41 7.96l-1.37-1.37c-.4-.4-.92-.59-1.43-.59-.52 0-1.04.2-1.43.59L10.3 9.45l-7.72 7.72c-.78.78-.78 2.05 0 2.83L4 21.41c.39.39.9.59 1.41.59.51 0 1.02-.2 1.41-.59l7.78-7.78 2.81-2.81c.8-.78.8-2.07 0-2.86zM5.41 20L4 18.59l7.72-7.72 1.47 1.35L5.41 20z\"/>\n",
              "  </svg>\n",
              "      </button>\n",
              "      \n",
              "  <style>\n",
              "    .colab-df-container {\n",
              "      display:flex;\n",
              "      flex-wrap:wrap;\n",
              "      gap: 12px;\n",
              "    }\n",
              "\n",
              "    .colab-df-convert {\n",
              "      background-color: #E8F0FE;\n",
              "      border: none;\n",
              "      border-radius: 50%;\n",
              "      cursor: pointer;\n",
              "      display: none;\n",
              "      fill: #1967D2;\n",
              "      height: 32px;\n",
              "      padding: 0 0 0 0;\n",
              "      width: 32px;\n",
              "    }\n",
              "\n",
              "    .colab-df-convert:hover {\n",
              "      background-color: #E2EBFA;\n",
              "      box-shadow: 0px 1px 2px rgba(60, 64, 67, 0.3), 0px 1px 3px 1px rgba(60, 64, 67, 0.15);\n",
              "      fill: #174EA6;\n",
              "    }\n",
              "\n",
              "    [theme=dark] .colab-df-convert {\n",
              "      background-color: #3B4455;\n",
              "      fill: #D2E3FC;\n",
              "    }\n",
              "\n",
              "    [theme=dark] .colab-df-convert:hover {\n",
              "      background-color: #434B5C;\n",
              "      box-shadow: 0px 1px 3px 1px rgba(0, 0, 0, 0.15);\n",
              "      filter: drop-shadow(0px 1px 2px rgba(0, 0, 0, 0.3));\n",
              "      fill: #FFFFFF;\n",
              "    }\n",
              "  </style>\n",
              "\n",
              "      <script>\n",
              "        const buttonEl =\n",
              "          document.querySelector('#df-d736ab7a-7497-4ac4-a970-de4e0512d9fc button.colab-df-convert');\n",
              "        buttonEl.style.display =\n",
              "          google.colab.kernel.accessAllowed ? 'block' : 'none';\n",
              "\n",
              "        async function convertToInteractive(key) {\n",
              "          const element = document.querySelector('#df-d736ab7a-7497-4ac4-a970-de4e0512d9fc');\n",
              "          const dataTable =\n",
              "            await google.colab.kernel.invokeFunction('convertToInteractive',\n",
              "                                                     [key], {});\n",
              "          if (!dataTable) return;\n",
              "\n",
              "          const docLinkHtml = 'Like what you see? Visit the ' +\n",
              "            '<a target=\"_blank\" href=https://colab.research.google.com/notebooks/data_table.ipynb>data table notebook</a>'\n",
              "            + ' to learn more about interactive tables.';\n",
              "          element.innerHTML = '';\n",
              "          dataTable['output_type'] = 'display_data';\n",
              "          await google.colab.output.renderOutput(dataTable, element);\n",
              "          const docLink = document.createElement('div');\n",
              "          docLink.innerHTML = docLinkHtml;\n",
              "          element.appendChild(docLink);\n",
              "        }\n",
              "      </script>\n",
              "    </div>\n",
              "  </div>\n",
              "  "
            ]
          },
          "metadata": {},
          "execution_count": 19
        }
      ]
    },
    {
      "cell_type": "code",
      "source": [
        "#clean tweet\n",
        "df3['cleaned_tweet'] = df3['content'].apply(clean_text)"
      ],
      "metadata": {
        "id": "7opTBaEKmgoK"
      },
      "execution_count": null,
      "outputs": []
    },
    {
      "cell_type": "code",
      "source": [
        "df3[['cleaned_tweet','content']].head()"
      ],
      "metadata": {
        "colab": {
          "base_uri": "https://localhost:8080/",
          "height": 337
        },
        "id": "xA5-dT95q1Gf",
        "outputId": "8b0017b7-6257-4816-f102-f3f9c87c7fa3"
      },
      "execution_count": null,
      "outputs": [
        {
          "output_type": "execute_result",
          "data": {
            "text/plain": [
              "                                                                                                              cleaned_tweet  \\\n",
              "0  We have a sitting Democrat US Senator on trial for corruption and you have barely heard a peep from the mainstream media   \n",
              "1         Marshawn Lynch arrives to game in antiTrump shirt Judging by his sagging pants the shirt should say Lynch vs belt   \n",
              "2      Daughter of fallen Navy Sailor delivers powerful monologue on anthem protests burns her NFL packers gear #BoycottNFL   \n",
              "3    JUST IN President Trump dedicates Presidents Cup golf tournament trophy to the people of Florida Texas and Puerto Rico   \n",
              "4                                                                   19000 RESPECTING our National Anthem #StandForOurAnthem   \n",
              "\n",
              "                                                                                                                                                        content  \n",
              "0  \"We have a sitting Democrat US Senator on trial for corruption and you've barely heard a peep from the mainstream media.\" ~ @nedryun https://t.co/gh6g0D1oiC  \n",
              "1                  Marshawn Lynch arrives to game in anti-Trump shirt. Judging by his sagging pants the shirt should say Lynch vs. belt https://t.co/mLH1i30LZZ  \n",
              "2               Daughter of fallen Navy Sailor delivers powerful monologue on anthem protests, burns her NFL packers gear.  #BoycottNFL https://t.co/qDlFBGMeag  \n",
              "3             JUST IN: President Trump dedicates Presidents Cup golf tournament trophy to the people of Florida, Texas and Puerto Rico. https://t.co/z9wVa4djAE  \n",
              "4                                                                           19,000 RESPECTING our National Anthem! #StandForOurAnthem🇺🇸 https://t.co/czutyGaMQV  "
            ],
            "text/html": [
              "\n",
              "  <div id=\"df-2b4daa64-669a-4e75-9208-c9ebc6b8ef2e\">\n",
              "    <div class=\"colab-df-container\">\n",
              "      <div>\n",
              "<style scoped>\n",
              "    .dataframe tbody tr th:only-of-type {\n",
              "        vertical-align: middle;\n",
              "    }\n",
              "\n",
              "    .dataframe tbody tr th {\n",
              "        vertical-align: top;\n",
              "    }\n",
              "\n",
              "    .dataframe thead th {\n",
              "        text-align: right;\n",
              "    }\n",
              "</style>\n",
              "<table border=\"1\" class=\"dataframe\">\n",
              "  <thead>\n",
              "    <tr style=\"text-align: right;\">\n",
              "      <th></th>\n",
              "      <th>cleaned_tweet</th>\n",
              "      <th>content</th>\n",
              "    </tr>\n",
              "  </thead>\n",
              "  <tbody>\n",
              "    <tr>\n",
              "      <th>0</th>\n",
              "      <td>We have a sitting Democrat US Senator on trial for corruption and you have barely heard a peep from the mainstream media</td>\n",
              "      <td>\"We have a sitting Democrat US Senator on trial for corruption and you've barely heard a peep from the mainstream media.\" ~ @nedryun https://t.co/gh6g0D1oiC</td>\n",
              "    </tr>\n",
              "    <tr>\n",
              "      <th>1</th>\n",
              "      <td>Marshawn Lynch arrives to game in antiTrump shirt Judging by his sagging pants the shirt should say Lynch vs belt</td>\n",
              "      <td>Marshawn Lynch arrives to game in anti-Trump shirt. Judging by his sagging pants the shirt should say Lynch vs. belt https://t.co/mLH1i30LZZ</td>\n",
              "    </tr>\n",
              "    <tr>\n",
              "      <th>2</th>\n",
              "      <td>Daughter of fallen Navy Sailor delivers powerful monologue on anthem protests burns her NFL packers gear #BoycottNFL</td>\n",
              "      <td>Daughter of fallen Navy Sailor delivers powerful monologue on anthem protests, burns her NFL packers gear.  #BoycottNFL https://t.co/qDlFBGMeag</td>\n",
              "    </tr>\n",
              "    <tr>\n",
              "      <th>3</th>\n",
              "      <td>JUST IN President Trump dedicates Presidents Cup golf tournament trophy to the people of Florida Texas and Puerto Rico</td>\n",
              "      <td>JUST IN: President Trump dedicates Presidents Cup golf tournament trophy to the people of Florida, Texas and Puerto Rico. https://t.co/z9wVa4djAE</td>\n",
              "    </tr>\n",
              "    <tr>\n",
              "      <th>4</th>\n",
              "      <td>19000 RESPECTING our National Anthem #StandForOurAnthem</td>\n",
              "      <td>19,000 RESPECTING our National Anthem! #StandForOurAnthem🇺🇸 https://t.co/czutyGaMQV</td>\n",
              "    </tr>\n",
              "  </tbody>\n",
              "</table>\n",
              "</div>\n",
              "      <button class=\"colab-df-convert\" onclick=\"convertToInteractive('df-2b4daa64-669a-4e75-9208-c9ebc6b8ef2e')\"\n",
              "              title=\"Convert this dataframe to an interactive table.\"\n",
              "              style=\"display:none;\">\n",
              "        \n",
              "  <svg xmlns=\"http://www.w3.org/2000/svg\" height=\"24px\"viewBox=\"0 0 24 24\"\n",
              "       width=\"24px\">\n",
              "    <path d=\"M0 0h24v24H0V0z\" fill=\"none\"/>\n",
              "    <path d=\"M18.56 5.44l.94 2.06.94-2.06 2.06-.94-2.06-.94-.94-2.06-.94 2.06-2.06.94zm-11 1L8.5 8.5l.94-2.06 2.06-.94-2.06-.94L8.5 2.5l-.94 2.06-2.06.94zm10 10l.94 2.06.94-2.06 2.06-.94-2.06-.94-.94-2.06-.94 2.06-2.06.94z\"/><path d=\"M17.41 7.96l-1.37-1.37c-.4-.4-.92-.59-1.43-.59-.52 0-1.04.2-1.43.59L10.3 9.45l-7.72 7.72c-.78.78-.78 2.05 0 2.83L4 21.41c.39.39.9.59 1.41.59.51 0 1.02-.2 1.41-.59l7.78-7.78 2.81-2.81c.8-.78.8-2.07 0-2.86zM5.41 20L4 18.59l7.72-7.72 1.47 1.35L5.41 20z\"/>\n",
              "  </svg>\n",
              "      </button>\n",
              "      \n",
              "  <style>\n",
              "    .colab-df-container {\n",
              "      display:flex;\n",
              "      flex-wrap:wrap;\n",
              "      gap: 12px;\n",
              "    }\n",
              "\n",
              "    .colab-df-convert {\n",
              "      background-color: #E8F0FE;\n",
              "      border: none;\n",
              "      border-radius: 50%;\n",
              "      cursor: pointer;\n",
              "      display: none;\n",
              "      fill: #1967D2;\n",
              "      height: 32px;\n",
              "      padding: 0 0 0 0;\n",
              "      width: 32px;\n",
              "    }\n",
              "\n",
              "    .colab-df-convert:hover {\n",
              "      background-color: #E2EBFA;\n",
              "      box-shadow: 0px 1px 2px rgba(60, 64, 67, 0.3), 0px 1px 3px 1px rgba(60, 64, 67, 0.15);\n",
              "      fill: #174EA6;\n",
              "    }\n",
              "\n",
              "    [theme=dark] .colab-df-convert {\n",
              "      background-color: #3B4455;\n",
              "      fill: #D2E3FC;\n",
              "    }\n",
              "\n",
              "    [theme=dark] .colab-df-convert:hover {\n",
              "      background-color: #434B5C;\n",
              "      box-shadow: 0px 1px 3px 1px rgba(0, 0, 0, 0.15);\n",
              "      filter: drop-shadow(0px 1px 2px rgba(0, 0, 0, 0.3));\n",
              "      fill: #FFFFFF;\n",
              "    }\n",
              "  </style>\n",
              "\n",
              "      <script>\n",
              "        const buttonEl =\n",
              "          document.querySelector('#df-2b4daa64-669a-4e75-9208-c9ebc6b8ef2e button.colab-df-convert');\n",
              "        buttonEl.style.display =\n",
              "          google.colab.kernel.accessAllowed ? 'block' : 'none';\n",
              "\n",
              "        async function convertToInteractive(key) {\n",
              "          const element = document.querySelector('#df-2b4daa64-669a-4e75-9208-c9ebc6b8ef2e');\n",
              "          const dataTable =\n",
              "            await google.colab.kernel.invokeFunction('convertToInteractive',\n",
              "                                                     [key], {});\n",
              "          if (!dataTable) return;\n",
              "\n",
              "          const docLinkHtml = 'Like what you see? Visit the ' +\n",
              "            '<a target=\"_blank\" href=https://colab.research.google.com/notebooks/data_table.ipynb>data table notebook</a>'\n",
              "            + ' to learn more about interactive tables.';\n",
              "          element.innerHTML = '';\n",
              "          dataTable['output_type'] = 'display_data';\n",
              "          await google.colab.output.renderOutput(dataTable, element);\n",
              "          const docLink = document.createElement('div');\n",
              "          docLink.innerHTML = docLinkHtml;\n",
              "          element.appendChild(docLink);\n",
              "        }\n",
              "      </script>\n",
              "    </div>\n",
              "  </div>\n",
              "  "
            ]
          },
          "metadata": {},
          "execution_count": 21
        }
      ]
    },
    {
      "cell_type": "code",
      "source": [
        "#Sentiment Analysis of the tweets\n",
        "\n",
        "#install vaderSentiment\n",
        "%pip install vaderSentiment\n",
        "\n",
        "from vaderSentiment.vaderSentiment import SentimentIntensityAnalyzer\n",
        "analyser = SentimentIntensityAnalyzer()"
      ],
      "metadata": {
        "colab": {
          "base_uri": "https://localhost:8080/"
        },
        "id": "lcLedMoomSVX",
        "outputId": "e1833d75-747f-40f6-ac3b-a2651921c349"
      },
      "execution_count": null,
      "outputs": [
        {
          "output_type": "stream",
          "name": "stdout",
          "text": [
            "Looking in indexes: https://pypi.org/simple, https://us-python.pkg.dev/colab-wheels/public/simple/\n",
            "Collecting vaderSentiment\n",
            "  Downloading vaderSentiment-3.3.2-py2.py3-none-any.whl (125 kB)\n",
            "\u001b[2K     \u001b[90m━━━━━━━━━━━━━━━━━━━━━━━━━━━━━━━━━━━━━━━\u001b[0m \u001b[32m126.0/126.0 KB\u001b[0m \u001b[31m7.2 MB/s\u001b[0m eta \u001b[36m0:00:00\u001b[0m\n",
            "\u001b[?25hRequirement already satisfied: requests in /usr/local/lib/python3.8/dist-packages (from vaderSentiment) (2.25.1)\n",
            "Requirement already satisfied: certifi>=2017.4.17 in /usr/local/lib/python3.8/dist-packages (from requests->vaderSentiment) (2022.12.7)\n",
            "Requirement already satisfied: chardet<5,>=3.0.2 in /usr/local/lib/python3.8/dist-packages (from requests->vaderSentiment) (4.0.0)\n",
            "Requirement already satisfied: urllib3<1.27,>=1.21.1 in /usr/local/lib/python3.8/dist-packages (from requests->vaderSentiment) (1.26.14)\n",
            "Requirement already satisfied: idna<3,>=2.5 in /usr/local/lib/python3.8/dist-packages (from requests->vaderSentiment) (2.10)\n",
            "Installing collected packages: vaderSentiment\n",
            "Successfully installed vaderSentiment-3.3.2\n"
          ]
        }
      ]
    },
    {
      "cell_type": "code",
      "source": [
        "''' The following function utilizes vaderSentiment to determine Tweet sentiment and exports the normalized compound score'''\n",
        "\n",
        "def sentiment_analyzer_scores(sentence):\n",
        "    score = analyser.polarity_scores(sentence)\n",
        "    compound = score['compound']\n",
        "    return compound"
      ],
      "metadata": {
        "id": "-ThNDLMKmfK7"
      },
      "execution_count": null,
      "outputs": []
    },
    {
      "cell_type": "code",
      "source": [
        "test_df3['sentiment']=test_df3['cleaned_tweet'].apply(sentiment_analyzer_scores)"
      ],
      "metadata": {
        "id": "JIfnbFASrBdt"
      },
      "execution_count": null,
      "outputs": []
    },
    {
      "cell_type": "code",
      "source": [
        "#testing function before adding the compound score selection\n",
        "test_df3[['sentiment','cleaned_tweet']].head()"
      ],
      "metadata": {
        "colab": {
          "base_uri": "https://localhost:8080/",
          "height": 302
        },
        "id": "oAgRnFE-rLNW",
        "outputId": "22153917-eb4d-41af-da0c-46a25f5e45fc"
      },
      "execution_count": null,
      "outputs": [
        {
          "output_type": "execute_result",
          "data": {
            "text/plain": [
              "                                                               sentiment  \\\n",
              "1647686    {'neg': 0.139, 'neu': 0.861, 'pos': 0.0, 'compound': -0.2732}   \n",
              "1084378            {'neg': 0.0, 'neu': 1.0, 'pos': 0.0, 'compound': 0.0}   \n",
              "375591    {'neg': 0.187, 'neu': 0.65, 'pos': 0.163, 'compound': -0.0772}   \n",
              "554657   {'neg': 0.269, 'neu': 0.615, 'pos': 0.115, 'compound': -0.4588}   \n",
              "301777             {'neg': 0.0, 'neu': 1.0, 'pos': 0.0, 'compound': 0.0}   \n",
              "\n",
              "                                                                                       cleaned_tweet  \n",
              "1647686  Trump DOJ Ignores Deadline Says It Needs More Time To Find Nonexistent Wiretapping Evidence  \n",
              "1084378                Obama staffer spent 4 years in the White House after posting this on Facebook  \n",
              "375591                                         EU envoy blasts EUs lack of vision on migration #news  \n",
              "554657                        White supremacist wanted to recruit racists for Times Square slaughter  \n",
              "301777                                                                Spurs Leonard back at practice  "
            ],
            "text/html": [
              "\n",
              "  <div id=\"df-1c013c25-2ed3-446a-8ebd-d9de9de78817\">\n",
              "    <div class=\"colab-df-container\">\n",
              "      <div>\n",
              "<style scoped>\n",
              "    .dataframe tbody tr th:only-of-type {\n",
              "        vertical-align: middle;\n",
              "    }\n",
              "\n",
              "    .dataframe tbody tr th {\n",
              "        vertical-align: top;\n",
              "    }\n",
              "\n",
              "    .dataframe thead th {\n",
              "        text-align: right;\n",
              "    }\n",
              "</style>\n",
              "<table border=\"1\" class=\"dataframe\">\n",
              "  <thead>\n",
              "    <tr style=\"text-align: right;\">\n",
              "      <th></th>\n",
              "      <th>sentiment</th>\n",
              "      <th>cleaned_tweet</th>\n",
              "    </tr>\n",
              "  </thead>\n",
              "  <tbody>\n",
              "    <tr>\n",
              "      <th>1647686</th>\n",
              "      <td>{'neg': 0.139, 'neu': 0.861, 'pos': 0.0, 'compound': -0.2732}</td>\n",
              "      <td>Trump DOJ Ignores Deadline Says It Needs More Time To Find Nonexistent Wiretapping Evidence</td>\n",
              "    </tr>\n",
              "    <tr>\n",
              "      <th>1084378</th>\n",
              "      <td>{'neg': 0.0, 'neu': 1.0, 'pos': 0.0, 'compound': 0.0}</td>\n",
              "      <td>Obama staffer spent 4 years in the White House after posting this on Facebook</td>\n",
              "    </tr>\n",
              "    <tr>\n",
              "      <th>375591</th>\n",
              "      <td>{'neg': 0.187, 'neu': 0.65, 'pos': 0.163, 'compound': -0.0772}</td>\n",
              "      <td>EU envoy blasts EUs lack of vision on migration #news</td>\n",
              "    </tr>\n",
              "    <tr>\n",
              "      <th>554657</th>\n",
              "      <td>{'neg': 0.269, 'neu': 0.615, 'pos': 0.115, 'compound': -0.4588}</td>\n",
              "      <td>White supremacist wanted to recruit racists for Times Square slaughter</td>\n",
              "    </tr>\n",
              "    <tr>\n",
              "      <th>301777</th>\n",
              "      <td>{'neg': 0.0, 'neu': 1.0, 'pos': 0.0, 'compound': 0.0}</td>\n",
              "      <td>Spurs Leonard back at practice</td>\n",
              "    </tr>\n",
              "  </tbody>\n",
              "</table>\n",
              "</div>\n",
              "      <button class=\"colab-df-convert\" onclick=\"convertToInteractive('df-1c013c25-2ed3-446a-8ebd-d9de9de78817')\"\n",
              "              title=\"Convert this dataframe to an interactive table.\"\n",
              "              style=\"display:none;\">\n",
              "        \n",
              "  <svg xmlns=\"http://www.w3.org/2000/svg\" height=\"24px\"viewBox=\"0 0 24 24\"\n",
              "       width=\"24px\">\n",
              "    <path d=\"M0 0h24v24H0V0z\" fill=\"none\"/>\n",
              "    <path d=\"M18.56 5.44l.94 2.06.94-2.06 2.06-.94-2.06-.94-.94-2.06-.94 2.06-2.06.94zm-11 1L8.5 8.5l.94-2.06 2.06-.94-2.06-.94L8.5 2.5l-.94 2.06-2.06.94zm10 10l.94 2.06.94-2.06 2.06-.94-2.06-.94-.94-2.06-.94 2.06-2.06.94z\"/><path d=\"M17.41 7.96l-1.37-1.37c-.4-.4-.92-.59-1.43-.59-.52 0-1.04.2-1.43.59L10.3 9.45l-7.72 7.72c-.78.78-.78 2.05 0 2.83L4 21.41c.39.39.9.59 1.41.59.51 0 1.02-.2 1.41-.59l7.78-7.78 2.81-2.81c.8-.78.8-2.07 0-2.86zM5.41 20L4 18.59l7.72-7.72 1.47 1.35L5.41 20z\"/>\n",
              "  </svg>\n",
              "      </button>\n",
              "      \n",
              "  <style>\n",
              "    .colab-df-container {\n",
              "      display:flex;\n",
              "      flex-wrap:wrap;\n",
              "      gap: 12px;\n",
              "    }\n",
              "\n",
              "    .colab-df-convert {\n",
              "      background-color: #E8F0FE;\n",
              "      border: none;\n",
              "      border-radius: 50%;\n",
              "      cursor: pointer;\n",
              "      display: none;\n",
              "      fill: #1967D2;\n",
              "      height: 32px;\n",
              "      padding: 0 0 0 0;\n",
              "      width: 32px;\n",
              "    }\n",
              "\n",
              "    .colab-df-convert:hover {\n",
              "      background-color: #E2EBFA;\n",
              "      box-shadow: 0px 1px 2px rgba(60, 64, 67, 0.3), 0px 1px 3px 1px rgba(60, 64, 67, 0.15);\n",
              "      fill: #174EA6;\n",
              "    }\n",
              "\n",
              "    [theme=dark] .colab-df-convert {\n",
              "      background-color: #3B4455;\n",
              "      fill: #D2E3FC;\n",
              "    }\n",
              "\n",
              "    [theme=dark] .colab-df-convert:hover {\n",
              "      background-color: #434B5C;\n",
              "      box-shadow: 0px 1px 3px 1px rgba(0, 0, 0, 0.15);\n",
              "      filter: drop-shadow(0px 1px 2px rgba(0, 0, 0, 0.3));\n",
              "      fill: #FFFFFF;\n",
              "    }\n",
              "  </style>\n",
              "\n",
              "      <script>\n",
              "        const buttonEl =\n",
              "          document.querySelector('#df-1c013c25-2ed3-446a-8ebd-d9de9de78817 button.colab-df-convert');\n",
              "        buttonEl.style.display =\n",
              "          google.colab.kernel.accessAllowed ? 'block' : 'none';\n",
              "\n",
              "        async function convertToInteractive(key) {\n",
              "          const element = document.querySelector('#df-1c013c25-2ed3-446a-8ebd-d9de9de78817');\n",
              "          const dataTable =\n",
              "            await google.colab.kernel.invokeFunction('convertToInteractive',\n",
              "                                                     [key], {});\n",
              "          if (!dataTable) return;\n",
              "\n",
              "          const docLinkHtml = 'Like what you see? Visit the ' +\n",
              "            '<a target=\"_blank\" href=https://colab.research.google.com/notebooks/data_table.ipynb>data table notebook</a>'\n",
              "            + ' to learn more about interactive tables.';\n",
              "          element.innerHTML = '';\n",
              "          dataTable['output_type'] = 'display_data';\n",
              "          await google.colab.output.renderOutput(dataTable, element);\n",
              "          const docLink = document.createElement('div');\n",
              "          docLink.innerHTML = docLinkHtml;\n",
              "          element.appendChild(docLink);\n",
              "        }\n",
              "      </script>\n",
              "    </div>\n",
              "  </div>\n",
              "  "
            ]
          },
          "metadata": {},
          "execution_count": 27
        }
      ]
    },
    {
      "cell_type": "code",
      "source": [
        "#testing function after adding the compound score return\n",
        "test_df3[['sentiment','cleaned_tweet']].head()"
      ],
      "metadata": {
        "colab": {
          "base_uri": "https://localhost:8080/",
          "height": 206
        },
        "id": "Q4ihHe2tsoEX",
        "outputId": "eab414a4-5b5e-4a95-cffe-ab62cfc2c883"
      },
      "execution_count": null,
      "outputs": [
        {
          "output_type": "execute_result",
          "data": {
            "text/plain": [
              "         sentiment  \\\n",
              "1647686    -0.2732   \n",
              "1084378     0.0000   \n",
              "375591     -0.0772   \n",
              "554657     -0.4588   \n",
              "301777      0.0000   \n",
              "\n",
              "                                                                                       cleaned_tweet  \n",
              "1647686  Trump DOJ Ignores Deadline Says It Needs More Time To Find Nonexistent Wiretapping Evidence  \n",
              "1084378                Obama staffer spent 4 years in the White House after posting this on Facebook  \n",
              "375591                                         EU envoy blasts EUs lack of vision on migration #news  \n",
              "554657                        White supremacist wanted to recruit racists for Times Square slaughter  \n",
              "301777                                                                Spurs Leonard back at practice  "
            ],
            "text/html": [
              "\n",
              "  <div id=\"df-081ed85a-9132-48a5-b240-7517b980afaa\">\n",
              "    <div class=\"colab-df-container\">\n",
              "      <div>\n",
              "<style scoped>\n",
              "    .dataframe tbody tr th:only-of-type {\n",
              "        vertical-align: middle;\n",
              "    }\n",
              "\n",
              "    .dataframe tbody tr th {\n",
              "        vertical-align: top;\n",
              "    }\n",
              "\n",
              "    .dataframe thead th {\n",
              "        text-align: right;\n",
              "    }\n",
              "</style>\n",
              "<table border=\"1\" class=\"dataframe\">\n",
              "  <thead>\n",
              "    <tr style=\"text-align: right;\">\n",
              "      <th></th>\n",
              "      <th>sentiment</th>\n",
              "      <th>cleaned_tweet</th>\n",
              "    </tr>\n",
              "  </thead>\n",
              "  <tbody>\n",
              "    <tr>\n",
              "      <th>1647686</th>\n",
              "      <td>-0.2732</td>\n",
              "      <td>Trump DOJ Ignores Deadline Says It Needs More Time To Find Nonexistent Wiretapping Evidence</td>\n",
              "    </tr>\n",
              "    <tr>\n",
              "      <th>1084378</th>\n",
              "      <td>0.0000</td>\n",
              "      <td>Obama staffer spent 4 years in the White House after posting this on Facebook</td>\n",
              "    </tr>\n",
              "    <tr>\n",
              "      <th>375591</th>\n",
              "      <td>-0.0772</td>\n",
              "      <td>EU envoy blasts EUs lack of vision on migration #news</td>\n",
              "    </tr>\n",
              "    <tr>\n",
              "      <th>554657</th>\n",
              "      <td>-0.4588</td>\n",
              "      <td>White supremacist wanted to recruit racists for Times Square slaughter</td>\n",
              "    </tr>\n",
              "    <tr>\n",
              "      <th>301777</th>\n",
              "      <td>0.0000</td>\n",
              "      <td>Spurs Leonard back at practice</td>\n",
              "    </tr>\n",
              "  </tbody>\n",
              "</table>\n",
              "</div>\n",
              "      <button class=\"colab-df-convert\" onclick=\"convertToInteractive('df-081ed85a-9132-48a5-b240-7517b980afaa')\"\n",
              "              title=\"Convert this dataframe to an interactive table.\"\n",
              "              style=\"display:none;\">\n",
              "        \n",
              "  <svg xmlns=\"http://www.w3.org/2000/svg\" height=\"24px\"viewBox=\"0 0 24 24\"\n",
              "       width=\"24px\">\n",
              "    <path d=\"M0 0h24v24H0V0z\" fill=\"none\"/>\n",
              "    <path d=\"M18.56 5.44l.94 2.06.94-2.06 2.06-.94-2.06-.94-.94-2.06-.94 2.06-2.06.94zm-11 1L8.5 8.5l.94-2.06 2.06-.94-2.06-.94L8.5 2.5l-.94 2.06-2.06.94zm10 10l.94 2.06.94-2.06 2.06-.94-2.06-.94-.94-2.06-.94 2.06-2.06.94z\"/><path d=\"M17.41 7.96l-1.37-1.37c-.4-.4-.92-.59-1.43-.59-.52 0-1.04.2-1.43.59L10.3 9.45l-7.72 7.72c-.78.78-.78 2.05 0 2.83L4 21.41c.39.39.9.59 1.41.59.51 0 1.02-.2 1.41-.59l7.78-7.78 2.81-2.81c.8-.78.8-2.07 0-2.86zM5.41 20L4 18.59l7.72-7.72 1.47 1.35L5.41 20z\"/>\n",
              "  </svg>\n",
              "      </button>\n",
              "      \n",
              "  <style>\n",
              "    .colab-df-container {\n",
              "      display:flex;\n",
              "      flex-wrap:wrap;\n",
              "      gap: 12px;\n",
              "    }\n",
              "\n",
              "    .colab-df-convert {\n",
              "      background-color: #E8F0FE;\n",
              "      border: none;\n",
              "      border-radius: 50%;\n",
              "      cursor: pointer;\n",
              "      display: none;\n",
              "      fill: #1967D2;\n",
              "      height: 32px;\n",
              "      padding: 0 0 0 0;\n",
              "      width: 32px;\n",
              "    }\n",
              "\n",
              "    .colab-df-convert:hover {\n",
              "      background-color: #E2EBFA;\n",
              "      box-shadow: 0px 1px 2px rgba(60, 64, 67, 0.3), 0px 1px 3px 1px rgba(60, 64, 67, 0.15);\n",
              "      fill: #174EA6;\n",
              "    }\n",
              "\n",
              "    [theme=dark] .colab-df-convert {\n",
              "      background-color: #3B4455;\n",
              "      fill: #D2E3FC;\n",
              "    }\n",
              "\n",
              "    [theme=dark] .colab-df-convert:hover {\n",
              "      background-color: #434B5C;\n",
              "      box-shadow: 0px 1px 3px 1px rgba(0, 0, 0, 0.15);\n",
              "      filter: drop-shadow(0px 1px 2px rgba(0, 0, 0, 0.3));\n",
              "      fill: #FFFFFF;\n",
              "    }\n",
              "  </style>\n",
              "\n",
              "      <script>\n",
              "        const buttonEl =\n",
              "          document.querySelector('#df-081ed85a-9132-48a5-b240-7517b980afaa button.colab-df-convert');\n",
              "        buttonEl.style.display =\n",
              "          google.colab.kernel.accessAllowed ? 'block' : 'none';\n",
              "\n",
              "        async function convertToInteractive(key) {\n",
              "          const element = document.querySelector('#df-081ed85a-9132-48a5-b240-7517b980afaa');\n",
              "          const dataTable =\n",
              "            await google.colab.kernel.invokeFunction('convertToInteractive',\n",
              "                                                     [key], {});\n",
              "          if (!dataTable) return;\n",
              "\n",
              "          const docLinkHtml = 'Like what you see? Visit the ' +\n",
              "            '<a target=\"_blank\" href=https://colab.research.google.com/notebooks/data_table.ipynb>data table notebook</a>'\n",
              "            + ' to learn more about interactive tables.';\n",
              "          element.innerHTML = '';\n",
              "          dataTable['output_type'] = 'display_data';\n",
              "          await google.colab.output.renderOutput(dataTable, element);\n",
              "          const docLink = document.createElement('div');\n",
              "          docLink.innerHTML = docLinkHtml;\n",
              "          element.appendChild(docLink);\n",
              "        }\n",
              "      </script>\n",
              "    </div>\n",
              "  </div>\n",
              "  "
            ]
          },
          "metadata": {},
          "execution_count": 33
        }
      ]
    },
    {
      "cell_type": "code",
      "source": [
        "df3['sentiment']= df3['cleaned_tweet'].apply(sentiment_analyzer_scores)"
      ],
      "metadata": {
        "id": "Y6lzD07rrBfZ"
      },
      "execution_count": null,
      "outputs": []
    },
    {
      "cell_type": "code",
      "source": [
        "df3[['sentiment','cleaned_tweet']].head()"
      ],
      "metadata": {
        "colab": {
          "base_uri": "https://localhost:8080/",
          "height": 206
        },
        "id": "N147J3kVudu6",
        "outputId": "9df7c350-7fa6-4a29-cd7c-7e280e405481"
      },
      "execution_count": null,
      "outputs": [
        {
          "output_type": "execute_result",
          "data": {
            "text/plain": [
              "   sentiment  \\\n",
              "0     0.0000   \n",
              "1     0.0000   \n",
              "2    -0.1531   \n",
              "3     0.0000   \n",
              "4     0.6037   \n",
              "\n",
              "                                                                                                              cleaned_tweet  \n",
              "0  We have a sitting Democrat US Senator on trial for corruption and you have barely heard a peep from the mainstream media  \n",
              "1         Marshawn Lynch arrives to game in antiTrump shirt Judging by his sagging pants the shirt should say Lynch vs belt  \n",
              "2      Daughter of fallen Navy Sailor delivers powerful monologue on anthem protests burns her NFL packers gear #BoycottNFL  \n",
              "3    JUST IN President Trump dedicates Presidents Cup golf tournament trophy to the people of Florida Texas and Puerto Rico  \n",
              "4                                                                   19000 RESPECTING our National Anthem #StandForOurAnthem  "
            ],
            "text/html": [
              "\n",
              "  <div id=\"df-08402fc7-9c77-48a7-95d8-929e005f8255\">\n",
              "    <div class=\"colab-df-container\">\n",
              "      <div>\n",
              "<style scoped>\n",
              "    .dataframe tbody tr th:only-of-type {\n",
              "        vertical-align: middle;\n",
              "    }\n",
              "\n",
              "    .dataframe tbody tr th {\n",
              "        vertical-align: top;\n",
              "    }\n",
              "\n",
              "    .dataframe thead th {\n",
              "        text-align: right;\n",
              "    }\n",
              "</style>\n",
              "<table border=\"1\" class=\"dataframe\">\n",
              "  <thead>\n",
              "    <tr style=\"text-align: right;\">\n",
              "      <th></th>\n",
              "      <th>sentiment</th>\n",
              "      <th>cleaned_tweet</th>\n",
              "    </tr>\n",
              "  </thead>\n",
              "  <tbody>\n",
              "    <tr>\n",
              "      <th>0</th>\n",
              "      <td>0.0000</td>\n",
              "      <td>We have a sitting Democrat US Senator on trial for corruption and you have barely heard a peep from the mainstream media</td>\n",
              "    </tr>\n",
              "    <tr>\n",
              "      <th>1</th>\n",
              "      <td>0.0000</td>\n",
              "      <td>Marshawn Lynch arrives to game in antiTrump shirt Judging by his sagging pants the shirt should say Lynch vs belt</td>\n",
              "    </tr>\n",
              "    <tr>\n",
              "      <th>2</th>\n",
              "      <td>-0.1531</td>\n",
              "      <td>Daughter of fallen Navy Sailor delivers powerful monologue on anthem protests burns her NFL packers gear #BoycottNFL</td>\n",
              "    </tr>\n",
              "    <tr>\n",
              "      <th>3</th>\n",
              "      <td>0.0000</td>\n",
              "      <td>JUST IN President Trump dedicates Presidents Cup golf tournament trophy to the people of Florida Texas and Puerto Rico</td>\n",
              "    </tr>\n",
              "    <tr>\n",
              "      <th>4</th>\n",
              "      <td>0.6037</td>\n",
              "      <td>19000 RESPECTING our National Anthem #StandForOurAnthem</td>\n",
              "    </tr>\n",
              "  </tbody>\n",
              "</table>\n",
              "</div>\n",
              "      <button class=\"colab-df-convert\" onclick=\"convertToInteractive('df-08402fc7-9c77-48a7-95d8-929e005f8255')\"\n",
              "              title=\"Convert this dataframe to an interactive table.\"\n",
              "              style=\"display:none;\">\n",
              "        \n",
              "  <svg xmlns=\"http://www.w3.org/2000/svg\" height=\"24px\"viewBox=\"0 0 24 24\"\n",
              "       width=\"24px\">\n",
              "    <path d=\"M0 0h24v24H0V0z\" fill=\"none\"/>\n",
              "    <path d=\"M18.56 5.44l.94 2.06.94-2.06 2.06-.94-2.06-.94-.94-2.06-.94 2.06-2.06.94zm-11 1L8.5 8.5l.94-2.06 2.06-.94-2.06-.94L8.5 2.5l-.94 2.06-2.06.94zm10 10l.94 2.06.94-2.06 2.06-.94-2.06-.94-.94-2.06-.94 2.06-2.06.94z\"/><path d=\"M17.41 7.96l-1.37-1.37c-.4-.4-.92-.59-1.43-.59-.52 0-1.04.2-1.43.59L10.3 9.45l-7.72 7.72c-.78.78-.78 2.05 0 2.83L4 21.41c.39.39.9.59 1.41.59.51 0 1.02-.2 1.41-.59l7.78-7.78 2.81-2.81c.8-.78.8-2.07 0-2.86zM5.41 20L4 18.59l7.72-7.72 1.47 1.35L5.41 20z\"/>\n",
              "  </svg>\n",
              "      </button>\n",
              "      \n",
              "  <style>\n",
              "    .colab-df-container {\n",
              "      display:flex;\n",
              "      flex-wrap:wrap;\n",
              "      gap: 12px;\n",
              "    }\n",
              "\n",
              "    .colab-df-convert {\n",
              "      background-color: #E8F0FE;\n",
              "      border: none;\n",
              "      border-radius: 50%;\n",
              "      cursor: pointer;\n",
              "      display: none;\n",
              "      fill: #1967D2;\n",
              "      height: 32px;\n",
              "      padding: 0 0 0 0;\n",
              "      width: 32px;\n",
              "    }\n",
              "\n",
              "    .colab-df-convert:hover {\n",
              "      background-color: #E2EBFA;\n",
              "      box-shadow: 0px 1px 2px rgba(60, 64, 67, 0.3), 0px 1px 3px 1px rgba(60, 64, 67, 0.15);\n",
              "      fill: #174EA6;\n",
              "    }\n",
              "\n",
              "    [theme=dark] .colab-df-convert {\n",
              "      background-color: #3B4455;\n",
              "      fill: #D2E3FC;\n",
              "    }\n",
              "\n",
              "    [theme=dark] .colab-df-convert:hover {\n",
              "      background-color: #434B5C;\n",
              "      box-shadow: 0px 1px 3px 1px rgba(0, 0, 0, 0.15);\n",
              "      filter: drop-shadow(0px 1px 2px rgba(0, 0, 0, 0.3));\n",
              "      fill: #FFFFFF;\n",
              "    }\n",
              "  </style>\n",
              "\n",
              "      <script>\n",
              "        const buttonEl =\n",
              "          document.querySelector('#df-08402fc7-9c77-48a7-95d8-929e005f8255 button.colab-df-convert');\n",
              "        buttonEl.style.display =\n",
              "          google.colab.kernel.accessAllowed ? 'block' : 'none';\n",
              "\n",
              "        async function convertToInteractive(key) {\n",
              "          const element = document.querySelector('#df-08402fc7-9c77-48a7-95d8-929e005f8255');\n",
              "          const dataTable =\n",
              "            await google.colab.kernel.invokeFunction('convertToInteractive',\n",
              "                                                     [key], {});\n",
              "          if (!dataTable) return;\n",
              "\n",
              "          const docLinkHtml = 'Like what you see? Visit the ' +\n",
              "            '<a target=\"_blank\" href=https://colab.research.google.com/notebooks/data_table.ipynb>data table notebook</a>'\n",
              "            + ' to learn more about interactive tables.';\n",
              "          element.innerHTML = '';\n",
              "          dataTable['output_type'] = 'display_data';\n",
              "          await google.colab.output.renderOutput(dataTable, element);\n",
              "          const docLink = document.createElement('div');\n",
              "          docLink.innerHTML = docLinkHtml;\n",
              "          element.appendChild(docLink);\n",
              "        }\n",
              "      </script>\n",
              "    </div>\n",
              "  </div>\n",
              "  "
            ]
          },
          "metadata": {},
          "execution_count": 35
        }
      ]
    },
    {
      "cell_type": "markdown",
      "source": [
        "### 3e-7 Sentiment of Emojis"
      ],
      "metadata": {
        "id": "tYfIVUQXppeB"
      }
    },
    {
      "cell_type": "markdown",
      "source": [
        "**Hypothesis tested:** Emoji sentiment should match tweet sentiment"
      ],
      "metadata": {
        "id": "wSXj9LRb9XRB"
      }
    },
    {
      "cell_type": "code",
      "source": [
        "#Sentiment analysis of the isolated emoji_text\n",
        "df3['emoji_text']=df3['emoji_text'].astype(str)"
      ],
      "metadata": {
        "id": "k4LJmylcpskG"
      },
      "execution_count": null,
      "outputs": []
    },
    {
      "cell_type": "code",
      "source": [
        "df3['emoji_sentiment']= df3['emoji_text'].apply(sentiment_analyzer_scores)"
      ],
      "metadata": {
        "id": "5Wzz5sD0tFcH"
      },
      "execution_count": null,
      "outputs": []
    },
    {
      "cell_type": "code",
      "source": [
        "df3[['emoji_sentiment','emoji_text','sentiment']].head(8)"
      ],
      "metadata": {
        "colab": {
          "base_uri": "https://localhost:8080/",
          "height": 300
        },
        "id": "V6A5l4ahp2c8",
        "outputId": "e39e7026-77fb-4434-e07d-014214c9e947"
      },
      "execution_count": null,
      "outputs": [
        {
          "output_type": "execute_result",
          "data": {
            "text/plain": [
              "   emoji_sentiment                          emoji_text  sentiment\n",
              "0           0.0000                                  []     0.0000\n",
              "1           0.0000                                  []     0.0000\n",
              "2           0.0000                                  []    -0.1531\n",
              "3           0.0000                                  []     0.0000\n",
              "4           0.4215             ['flag: United States']     0.6037\n",
              "5           0.0000                                  []     0.4404\n",
              "6           0.0000  ['honeybee' 'honeybee' 'honeybee']     0.0000\n",
              "7           0.0000                                  []     0.6487"
            ],
            "text/html": [
              "\n",
              "  <div id=\"df-b7945e27-7eed-4df1-9f87-ebcc5a10c38e\">\n",
              "    <div class=\"colab-df-container\">\n",
              "      <div>\n",
              "<style scoped>\n",
              "    .dataframe tbody tr th:only-of-type {\n",
              "        vertical-align: middle;\n",
              "    }\n",
              "\n",
              "    .dataframe tbody tr th {\n",
              "        vertical-align: top;\n",
              "    }\n",
              "\n",
              "    .dataframe thead th {\n",
              "        text-align: right;\n",
              "    }\n",
              "</style>\n",
              "<table border=\"1\" class=\"dataframe\">\n",
              "  <thead>\n",
              "    <tr style=\"text-align: right;\">\n",
              "      <th></th>\n",
              "      <th>emoji_sentiment</th>\n",
              "      <th>emoji_text</th>\n",
              "      <th>sentiment</th>\n",
              "    </tr>\n",
              "  </thead>\n",
              "  <tbody>\n",
              "    <tr>\n",
              "      <th>0</th>\n",
              "      <td>0.0000</td>\n",
              "      <td>[]</td>\n",
              "      <td>0.0000</td>\n",
              "    </tr>\n",
              "    <tr>\n",
              "      <th>1</th>\n",
              "      <td>0.0000</td>\n",
              "      <td>[]</td>\n",
              "      <td>0.0000</td>\n",
              "    </tr>\n",
              "    <tr>\n",
              "      <th>2</th>\n",
              "      <td>0.0000</td>\n",
              "      <td>[]</td>\n",
              "      <td>-0.1531</td>\n",
              "    </tr>\n",
              "    <tr>\n",
              "      <th>3</th>\n",
              "      <td>0.0000</td>\n",
              "      <td>[]</td>\n",
              "      <td>0.0000</td>\n",
              "    </tr>\n",
              "    <tr>\n",
              "      <th>4</th>\n",
              "      <td>0.4215</td>\n",
              "      <td>['flag: United States']</td>\n",
              "      <td>0.6037</td>\n",
              "    </tr>\n",
              "    <tr>\n",
              "      <th>5</th>\n",
              "      <td>0.0000</td>\n",
              "      <td>[]</td>\n",
              "      <td>0.4404</td>\n",
              "    </tr>\n",
              "    <tr>\n",
              "      <th>6</th>\n",
              "      <td>0.0000</td>\n",
              "      <td>['honeybee' 'honeybee' 'honeybee']</td>\n",
              "      <td>0.0000</td>\n",
              "    </tr>\n",
              "    <tr>\n",
              "      <th>7</th>\n",
              "      <td>0.0000</td>\n",
              "      <td>[]</td>\n",
              "      <td>0.6487</td>\n",
              "    </tr>\n",
              "  </tbody>\n",
              "</table>\n",
              "</div>\n",
              "      <button class=\"colab-df-convert\" onclick=\"convertToInteractive('df-b7945e27-7eed-4df1-9f87-ebcc5a10c38e')\"\n",
              "              title=\"Convert this dataframe to an interactive table.\"\n",
              "              style=\"display:none;\">\n",
              "        \n",
              "  <svg xmlns=\"http://www.w3.org/2000/svg\" height=\"24px\"viewBox=\"0 0 24 24\"\n",
              "       width=\"24px\">\n",
              "    <path d=\"M0 0h24v24H0V0z\" fill=\"none\"/>\n",
              "    <path d=\"M18.56 5.44l.94 2.06.94-2.06 2.06-.94-2.06-.94-.94-2.06-.94 2.06-2.06.94zm-11 1L8.5 8.5l.94-2.06 2.06-.94-2.06-.94L8.5 2.5l-.94 2.06-2.06.94zm10 10l.94 2.06.94-2.06 2.06-.94-2.06-.94-.94-2.06-.94 2.06-2.06.94z\"/><path d=\"M17.41 7.96l-1.37-1.37c-.4-.4-.92-.59-1.43-.59-.52 0-1.04.2-1.43.59L10.3 9.45l-7.72 7.72c-.78.78-.78 2.05 0 2.83L4 21.41c.39.39.9.59 1.41.59.51 0 1.02-.2 1.41-.59l7.78-7.78 2.81-2.81c.8-.78.8-2.07 0-2.86zM5.41 20L4 18.59l7.72-7.72 1.47 1.35L5.41 20z\"/>\n",
              "  </svg>\n",
              "      </button>\n",
              "      \n",
              "  <style>\n",
              "    .colab-df-container {\n",
              "      display:flex;\n",
              "      flex-wrap:wrap;\n",
              "      gap: 12px;\n",
              "    }\n",
              "\n",
              "    .colab-df-convert {\n",
              "      background-color: #E8F0FE;\n",
              "      border: none;\n",
              "      border-radius: 50%;\n",
              "      cursor: pointer;\n",
              "      display: none;\n",
              "      fill: #1967D2;\n",
              "      height: 32px;\n",
              "      padding: 0 0 0 0;\n",
              "      width: 32px;\n",
              "    }\n",
              "\n",
              "    .colab-df-convert:hover {\n",
              "      background-color: #E2EBFA;\n",
              "      box-shadow: 0px 1px 2px rgba(60, 64, 67, 0.3), 0px 1px 3px 1px rgba(60, 64, 67, 0.15);\n",
              "      fill: #174EA6;\n",
              "    }\n",
              "\n",
              "    [theme=dark] .colab-df-convert {\n",
              "      background-color: #3B4455;\n",
              "      fill: #D2E3FC;\n",
              "    }\n",
              "\n",
              "    [theme=dark] .colab-df-convert:hover {\n",
              "      background-color: #434B5C;\n",
              "      box-shadow: 0px 1px 3px 1px rgba(0, 0, 0, 0.15);\n",
              "      filter: drop-shadow(0px 1px 2px rgba(0, 0, 0, 0.3));\n",
              "      fill: #FFFFFF;\n",
              "    }\n",
              "  </style>\n",
              "\n",
              "      <script>\n",
              "        const buttonEl =\n",
              "          document.querySelector('#df-b7945e27-7eed-4df1-9f87-ebcc5a10c38e button.colab-df-convert');\n",
              "        buttonEl.style.display =\n",
              "          google.colab.kernel.accessAllowed ? 'block' : 'none';\n",
              "\n",
              "        async function convertToInteractive(key) {\n",
              "          const element = document.querySelector('#df-b7945e27-7eed-4df1-9f87-ebcc5a10c38e');\n",
              "          const dataTable =\n",
              "            await google.colab.kernel.invokeFunction('convertToInteractive',\n",
              "                                                     [key], {});\n",
              "          if (!dataTable) return;\n",
              "\n",
              "          const docLinkHtml = 'Like what you see? Visit the ' +\n",
              "            '<a target=\"_blank\" href=https://colab.research.google.com/notebooks/data_table.ipynb>data table notebook</a>'\n",
              "            + ' to learn more about interactive tables.';\n",
              "          element.innerHTML = '';\n",
              "          dataTable['output_type'] = 'display_data';\n",
              "          await google.colab.output.renderOutput(dataTable, element);\n",
              "          const docLink = document.createElement('div');\n",
              "          docLink.innerHTML = docLinkHtml;\n",
              "          element.appendChild(docLink);\n",
              "        }\n",
              "      </script>\n",
              "    </div>\n",
              "  </div>\n",
              "  "
            ]
          },
          "metadata": {},
          "execution_count": 40
        }
      ]
    },
    {
      "cell_type": "markdown",
      "source": [
        "### 3e-8 Tweet Length"
      ],
      "metadata": {
        "id": "JmV1uik4vU7c"
      }
    },
    {
      "cell_type": "markdown",
      "source": [
        "Utilizing the cleaned tweet field to determine true tweet text length."
      ],
      "metadata": {
        "id": "S--P0GEm9sRS"
      }
    },
    {
      "cell_type": "code",
      "source": [
        "test_df3['tweet_length']= test_df3['cleaned_tweet'].apply(lambda x: len(x))"
      ],
      "metadata": {
        "id": "DLMDM-B7vi_X"
      },
      "execution_count": null,
      "outputs": []
    },
    {
      "cell_type": "code",
      "source": [
        "test_df3[['tweet_length','cleaned_tweet']].head()"
      ],
      "metadata": {
        "colab": {
          "base_uri": "https://localhost:8080/",
          "height": 206
        },
        "id": "3NQr_qdewiS2",
        "outputId": "65aa499c-d292-4aa3-cf59-4405ea787ba7"
      },
      "execution_count": null,
      "outputs": [
        {
          "output_type": "execute_result",
          "data": {
            "text/plain": [
              "         tweet_length  \\\n",
              "1647686            91   \n",
              "1084378            77   \n",
              "375591             53   \n",
              "554657             70   \n",
              "301777             30   \n",
              "\n",
              "                                                                                       cleaned_tweet  \n",
              "1647686  Trump DOJ Ignores Deadline Says It Needs More Time To Find Nonexistent Wiretapping Evidence  \n",
              "1084378                Obama staffer spent 4 years in the White House after posting this on Facebook  \n",
              "375591                                         EU envoy blasts EUs lack of vision on migration #news  \n",
              "554657                        White supremacist wanted to recruit racists for Times Square slaughter  \n",
              "301777                                                                Spurs Leonard back at practice  "
            ],
            "text/html": [
              "\n",
              "  <div id=\"df-0532b1d0-e103-4001-97ba-eb9db5dd4c87\">\n",
              "    <div class=\"colab-df-container\">\n",
              "      <div>\n",
              "<style scoped>\n",
              "    .dataframe tbody tr th:only-of-type {\n",
              "        vertical-align: middle;\n",
              "    }\n",
              "\n",
              "    .dataframe tbody tr th {\n",
              "        vertical-align: top;\n",
              "    }\n",
              "\n",
              "    .dataframe thead th {\n",
              "        text-align: right;\n",
              "    }\n",
              "</style>\n",
              "<table border=\"1\" class=\"dataframe\">\n",
              "  <thead>\n",
              "    <tr style=\"text-align: right;\">\n",
              "      <th></th>\n",
              "      <th>tweet_length</th>\n",
              "      <th>cleaned_tweet</th>\n",
              "    </tr>\n",
              "  </thead>\n",
              "  <tbody>\n",
              "    <tr>\n",
              "      <th>1647686</th>\n",
              "      <td>91</td>\n",
              "      <td>Trump DOJ Ignores Deadline Says It Needs More Time To Find Nonexistent Wiretapping Evidence</td>\n",
              "    </tr>\n",
              "    <tr>\n",
              "      <th>1084378</th>\n",
              "      <td>77</td>\n",
              "      <td>Obama staffer spent 4 years in the White House after posting this on Facebook</td>\n",
              "    </tr>\n",
              "    <tr>\n",
              "      <th>375591</th>\n",
              "      <td>53</td>\n",
              "      <td>EU envoy blasts EUs lack of vision on migration #news</td>\n",
              "    </tr>\n",
              "    <tr>\n",
              "      <th>554657</th>\n",
              "      <td>70</td>\n",
              "      <td>White supremacist wanted to recruit racists for Times Square slaughter</td>\n",
              "    </tr>\n",
              "    <tr>\n",
              "      <th>301777</th>\n",
              "      <td>30</td>\n",
              "      <td>Spurs Leonard back at practice</td>\n",
              "    </tr>\n",
              "  </tbody>\n",
              "</table>\n",
              "</div>\n",
              "      <button class=\"colab-df-convert\" onclick=\"convertToInteractive('df-0532b1d0-e103-4001-97ba-eb9db5dd4c87')\"\n",
              "              title=\"Convert this dataframe to an interactive table.\"\n",
              "              style=\"display:none;\">\n",
              "        \n",
              "  <svg xmlns=\"http://www.w3.org/2000/svg\" height=\"24px\"viewBox=\"0 0 24 24\"\n",
              "       width=\"24px\">\n",
              "    <path d=\"M0 0h24v24H0V0z\" fill=\"none\"/>\n",
              "    <path d=\"M18.56 5.44l.94 2.06.94-2.06 2.06-.94-2.06-.94-.94-2.06-.94 2.06-2.06.94zm-11 1L8.5 8.5l.94-2.06 2.06-.94-2.06-.94L8.5 2.5l-.94 2.06-2.06.94zm10 10l.94 2.06.94-2.06 2.06-.94-2.06-.94-.94-2.06-.94 2.06-2.06.94z\"/><path d=\"M17.41 7.96l-1.37-1.37c-.4-.4-.92-.59-1.43-.59-.52 0-1.04.2-1.43.59L10.3 9.45l-7.72 7.72c-.78.78-.78 2.05 0 2.83L4 21.41c.39.39.9.59 1.41.59.51 0 1.02-.2 1.41-.59l7.78-7.78 2.81-2.81c.8-.78.8-2.07 0-2.86zM5.41 20L4 18.59l7.72-7.72 1.47 1.35L5.41 20z\"/>\n",
              "  </svg>\n",
              "      </button>\n",
              "      \n",
              "  <style>\n",
              "    .colab-df-container {\n",
              "      display:flex;\n",
              "      flex-wrap:wrap;\n",
              "      gap: 12px;\n",
              "    }\n",
              "\n",
              "    .colab-df-convert {\n",
              "      background-color: #E8F0FE;\n",
              "      border: none;\n",
              "      border-radius: 50%;\n",
              "      cursor: pointer;\n",
              "      display: none;\n",
              "      fill: #1967D2;\n",
              "      height: 32px;\n",
              "      padding: 0 0 0 0;\n",
              "      width: 32px;\n",
              "    }\n",
              "\n",
              "    .colab-df-convert:hover {\n",
              "      background-color: #E2EBFA;\n",
              "      box-shadow: 0px 1px 2px rgba(60, 64, 67, 0.3), 0px 1px 3px 1px rgba(60, 64, 67, 0.15);\n",
              "      fill: #174EA6;\n",
              "    }\n",
              "\n",
              "    [theme=dark] .colab-df-convert {\n",
              "      background-color: #3B4455;\n",
              "      fill: #D2E3FC;\n",
              "    }\n",
              "\n",
              "    [theme=dark] .colab-df-convert:hover {\n",
              "      background-color: #434B5C;\n",
              "      box-shadow: 0px 1px 3px 1px rgba(0, 0, 0, 0.15);\n",
              "      filter: drop-shadow(0px 1px 2px rgba(0, 0, 0, 0.3));\n",
              "      fill: #FFFFFF;\n",
              "    }\n",
              "  </style>\n",
              "\n",
              "      <script>\n",
              "        const buttonEl =\n",
              "          document.querySelector('#df-0532b1d0-e103-4001-97ba-eb9db5dd4c87 button.colab-df-convert');\n",
              "        buttonEl.style.display =\n",
              "          google.colab.kernel.accessAllowed ? 'block' : 'none';\n",
              "\n",
              "        async function convertToInteractive(key) {\n",
              "          const element = document.querySelector('#df-0532b1d0-e103-4001-97ba-eb9db5dd4c87');\n",
              "          const dataTable =\n",
              "            await google.colab.kernel.invokeFunction('convertToInteractive',\n",
              "                                                     [key], {});\n",
              "          if (!dataTable) return;\n",
              "\n",
              "          const docLinkHtml = 'Like what you see? Visit the ' +\n",
              "            '<a target=\"_blank\" href=https://colab.research.google.com/notebooks/data_table.ipynb>data table notebook</a>'\n",
              "            + ' to learn more about interactive tables.';\n",
              "          element.innerHTML = '';\n",
              "          dataTable['output_type'] = 'display_data';\n",
              "          await google.colab.output.renderOutput(dataTable, element);\n",
              "          const docLink = document.createElement('div');\n",
              "          docLink.innerHTML = docLinkHtml;\n",
              "          element.appendChild(docLink);\n",
              "        }\n",
              "      </script>\n",
              "    </div>\n",
              "  </div>\n",
              "  "
            ]
          },
          "metadata": {},
          "execution_count": 51
        }
      ]
    },
    {
      "cell_type": "code",
      "source": [
        "df3['tweet_length']=df3['cleaned_tweet'].apply(lambda x: len(x))"
      ],
      "metadata": {
        "id": "PMnBB_K3vXTj"
      },
      "execution_count": null,
      "outputs": []
    },
    {
      "cell_type": "code",
      "source": [
        "df3[['tweet_length','median_word_length','cleaned_tweet','class']].head()"
      ],
      "metadata": {
        "colab": {
          "base_uri": "https://localhost:8080/",
          "height": 319
        },
        "id": "6Ozt90j3wyTl",
        "outputId": "dc3259b1-4ba7-4792-9eb4-274c8c5cb1c9"
      },
      "execution_count": null,
      "outputs": [
        {
          "output_type": "execute_result",
          "data": {
            "text/plain": [
              "   tweet_length  median_word_length  \\\n",
              "0           120                 4.0   \n",
              "1           113                 5.0   \n",
              "2           116                 6.0   \n",
              "3           118                 5.0   \n",
              "4            55                 5.0   \n",
              "\n",
              "                                                                                                              cleaned_tweet  \\\n",
              "0  We have a sitting Democrat US Senator on trial for corruption and you have barely heard a peep from the mainstream media   \n",
              "1         Marshawn Lynch arrives to game in antiTrump shirt Judging by his sagging pants the shirt should say Lynch vs belt   \n",
              "2      Daughter of fallen Navy Sailor delivers powerful monologue on anthem protests burns her NFL packers gear #BoycottNFL   \n",
              "3    JUST IN President Trump dedicates Presidents Cup golf tournament trophy to the people of Florida Texas and Puerto Rico   \n",
              "4                                                                   19000 RESPECTING our National Anthem #StandForOurAnthem   \n",
              "\n",
              "   class  \n",
              "0  Troll  \n",
              "1  Troll  \n",
              "2  Troll  \n",
              "3  Troll  \n",
              "4  Troll  "
            ],
            "text/html": [
              "\n",
              "  <div id=\"df-a50950cf-4754-40af-8835-1078aaae619a\">\n",
              "    <div class=\"colab-df-container\">\n",
              "      <div>\n",
              "<style scoped>\n",
              "    .dataframe tbody tr th:only-of-type {\n",
              "        vertical-align: middle;\n",
              "    }\n",
              "\n",
              "    .dataframe tbody tr th {\n",
              "        vertical-align: top;\n",
              "    }\n",
              "\n",
              "    .dataframe thead th {\n",
              "        text-align: right;\n",
              "    }\n",
              "</style>\n",
              "<table border=\"1\" class=\"dataframe\">\n",
              "  <thead>\n",
              "    <tr style=\"text-align: right;\">\n",
              "      <th></th>\n",
              "      <th>tweet_length</th>\n",
              "      <th>median_word_length</th>\n",
              "      <th>cleaned_tweet</th>\n",
              "      <th>class</th>\n",
              "    </tr>\n",
              "  </thead>\n",
              "  <tbody>\n",
              "    <tr>\n",
              "      <th>0</th>\n",
              "      <td>120</td>\n",
              "      <td>4.0</td>\n",
              "      <td>We have a sitting Democrat US Senator on trial for corruption and you have barely heard a peep from the mainstream media</td>\n",
              "      <td>Troll</td>\n",
              "    </tr>\n",
              "    <tr>\n",
              "      <th>1</th>\n",
              "      <td>113</td>\n",
              "      <td>5.0</td>\n",
              "      <td>Marshawn Lynch arrives to game in antiTrump shirt Judging by his sagging pants the shirt should say Lynch vs belt</td>\n",
              "      <td>Troll</td>\n",
              "    </tr>\n",
              "    <tr>\n",
              "      <th>2</th>\n",
              "      <td>116</td>\n",
              "      <td>6.0</td>\n",
              "      <td>Daughter of fallen Navy Sailor delivers powerful monologue on anthem protests burns her NFL packers gear #BoycottNFL</td>\n",
              "      <td>Troll</td>\n",
              "    </tr>\n",
              "    <tr>\n",
              "      <th>3</th>\n",
              "      <td>118</td>\n",
              "      <td>5.0</td>\n",
              "      <td>JUST IN President Trump dedicates Presidents Cup golf tournament trophy to the people of Florida Texas and Puerto Rico</td>\n",
              "      <td>Troll</td>\n",
              "    </tr>\n",
              "    <tr>\n",
              "      <th>4</th>\n",
              "      <td>55</td>\n",
              "      <td>5.0</td>\n",
              "      <td>19000 RESPECTING our National Anthem #StandForOurAnthem</td>\n",
              "      <td>Troll</td>\n",
              "    </tr>\n",
              "  </tbody>\n",
              "</table>\n",
              "</div>\n",
              "      <button class=\"colab-df-convert\" onclick=\"convertToInteractive('df-a50950cf-4754-40af-8835-1078aaae619a')\"\n",
              "              title=\"Convert this dataframe to an interactive table.\"\n",
              "              style=\"display:none;\">\n",
              "        \n",
              "  <svg xmlns=\"http://www.w3.org/2000/svg\" height=\"24px\"viewBox=\"0 0 24 24\"\n",
              "       width=\"24px\">\n",
              "    <path d=\"M0 0h24v24H0V0z\" fill=\"none\"/>\n",
              "    <path d=\"M18.56 5.44l.94 2.06.94-2.06 2.06-.94-2.06-.94-.94-2.06-.94 2.06-2.06.94zm-11 1L8.5 8.5l.94-2.06 2.06-.94-2.06-.94L8.5 2.5l-.94 2.06-2.06.94zm10 10l.94 2.06.94-2.06 2.06-.94-2.06-.94-.94-2.06-.94 2.06-2.06.94z\"/><path d=\"M17.41 7.96l-1.37-1.37c-.4-.4-.92-.59-1.43-.59-.52 0-1.04.2-1.43.59L10.3 9.45l-7.72 7.72c-.78.78-.78 2.05 0 2.83L4 21.41c.39.39.9.59 1.41.59.51 0 1.02-.2 1.41-.59l7.78-7.78 2.81-2.81c.8-.78.8-2.07 0-2.86zM5.41 20L4 18.59l7.72-7.72 1.47 1.35L5.41 20z\"/>\n",
              "  </svg>\n",
              "      </button>\n",
              "      \n",
              "  <style>\n",
              "    .colab-df-container {\n",
              "      display:flex;\n",
              "      flex-wrap:wrap;\n",
              "      gap: 12px;\n",
              "    }\n",
              "\n",
              "    .colab-df-convert {\n",
              "      background-color: #E8F0FE;\n",
              "      border: none;\n",
              "      border-radius: 50%;\n",
              "      cursor: pointer;\n",
              "      display: none;\n",
              "      fill: #1967D2;\n",
              "      height: 32px;\n",
              "      padding: 0 0 0 0;\n",
              "      width: 32px;\n",
              "    }\n",
              "\n",
              "    .colab-df-convert:hover {\n",
              "      background-color: #E2EBFA;\n",
              "      box-shadow: 0px 1px 2px rgba(60, 64, 67, 0.3), 0px 1px 3px 1px rgba(60, 64, 67, 0.15);\n",
              "      fill: #174EA6;\n",
              "    }\n",
              "\n",
              "    [theme=dark] .colab-df-convert {\n",
              "      background-color: #3B4455;\n",
              "      fill: #D2E3FC;\n",
              "    }\n",
              "\n",
              "    [theme=dark] .colab-df-convert:hover {\n",
              "      background-color: #434B5C;\n",
              "      box-shadow: 0px 1px 3px 1px rgba(0, 0, 0, 0.15);\n",
              "      filter: drop-shadow(0px 1px 2px rgba(0, 0, 0, 0.3));\n",
              "      fill: #FFFFFF;\n",
              "    }\n",
              "  </style>\n",
              "\n",
              "      <script>\n",
              "        const buttonEl =\n",
              "          document.querySelector('#df-a50950cf-4754-40af-8835-1078aaae619a button.colab-df-convert');\n",
              "        buttonEl.style.display =\n",
              "          google.colab.kernel.accessAllowed ? 'block' : 'none';\n",
              "\n",
              "        async function convertToInteractive(key) {\n",
              "          const element = document.querySelector('#df-a50950cf-4754-40af-8835-1078aaae619a');\n",
              "          const dataTable =\n",
              "            await google.colab.kernel.invokeFunction('convertToInteractive',\n",
              "                                                     [key], {});\n",
              "          if (!dataTable) return;\n",
              "\n",
              "          const docLinkHtml = 'Like what you see? Visit the ' +\n",
              "            '<a target=\"_blank\" href=https://colab.research.google.com/notebooks/data_table.ipynb>data table notebook</a>'\n",
              "            + ' to learn more about interactive tables.';\n",
              "          element.innerHTML = '';\n",
              "          dataTable['output_type'] = 'display_data';\n",
              "          await google.colab.output.renderOutput(dataTable, element);\n",
              "          const docLink = document.createElement('div');\n",
              "          docLink.innerHTML = docLinkHtml;\n",
              "          element.appendChild(docLink);\n",
              "        }\n",
              "      </script>\n",
              "    </div>\n",
              "  </div>\n",
              "  "
            ]
          },
          "metadata": {},
          "execution_count": 55
        }
      ]
    },
    {
      "cell_type": "code",
      "source": [
        "#Export as 06_data_engineered_all8 (after sentiment and tweet length addition)\n",
        "parq_path = '/content/gdrive/MyDrive/Grad School/DSCI592/data/06data_engineered_all8.parquet.gz'\n",
        "df3.to_parquet(parq_path, engine='pyarrow', index=False, compression='gzip')"
      ],
      "metadata": {
        "id": "SvxhSqMZuXfT"
      },
      "execution_count": null,
      "outputs": []
    },
    {
      "cell_type": "markdown",
      "source": [
        "### 4 English Tweet Subset"
      ],
      "metadata": {
        "id": "IjPFzT9phDy2"
      }
    },
    {
      "cell_type": "markdown",
      "source": [
        "The basis of this project is to examine English language tweets, so we will filter out to our best ability any tweets not labeled as English from the Troll data. "
      ],
      "metadata": {
        "id": "BWa7uwPt9zCT"
      }
    },
    {
      "cell_type": "code",
      "source": [
        "len(df3)"
      ],
      "metadata": {
        "colab": {
          "base_uri": "https://localhost:8080/"
        },
        "id": "Gj_ALwo3gecy",
        "outputId": "4744c9ce-1240-4874-9e5c-41c514f23fec"
      },
      "execution_count": null,
      "outputs": [
        {
          "output_type": "execute_result",
          "data": {
            "text/plain": [
              "3624894"
            ]
          },
          "metadata": {},
          "execution_count": 70
        }
      ]
    },
    {
      "cell_type": "code",
      "source": [
        "df3['language'].value_counts()"
      ],
      "metadata": {
        "colab": {
          "base_uri": "https://localhost:8080/"
        },
        "id": "OfTX8X5LgSMt",
        "outputId": "a51c1a09-cc82-433f-f9b1-0fa27bb54d04"
      },
      "execution_count": null,
      "outputs": [
        {
          "output_type": "execute_result",
          "data": {
            "text/plain": [
              "en     3623140\n",
              "fr         397\n",
              "tl         308\n",
              "es         304\n",
              "de         157\n",
              "nl         117\n",
              "in          83\n",
              "pt          65\n",
              "it          58\n",
              "da          56\n",
              "et          48\n",
              "ht          43\n",
              "eu          24\n",
              "ca          18\n",
              "sv          16\n",
              "no          13\n",
              "pl          12\n",
              "cy          12\n",
              "lt           4\n",
              "tr           4\n",
              "vi           4\n",
              "lv           3\n",
              "hu           2\n",
              "cs           1\n",
              "ko           1\n",
              "hi           1\n",
              "ro           1\n",
              "und          1\n",
              "zxx          1\n",
              "Name: language, dtype: int64"
            ]
          },
          "metadata": {},
          "execution_count": 19
        }
      ]
    },
    {
      "cell_type": "code",
      "source": [
        "#save as en_df for English only tweets\n",
        "en_df = df3[df3['language']=='en']\n",
        "len(en_df)"
      ],
      "metadata": {
        "colab": {
          "base_uri": "https://localhost:8080/"
        },
        "id": "lwfmwmhIgVq7",
        "outputId": "935dbdf7-ae47-4d40-b3c1-27e848999fc6"
      },
      "execution_count": null,
      "outputs": [
        {
          "output_type": "execute_result",
          "data": {
            "text/plain": [
              "3623140"
            ]
          },
          "metadata": {},
          "execution_count": 56
        }
      ]
    },
    {
      "cell_type": "code",
      "source": [
        "en_df['account_category'].value_counts()"
      ],
      "metadata": {
        "colab": {
          "base_uri": "https://localhost:8080/"
        },
        "id": "FGyRr0o6gkDz",
        "outputId": "e85a5eec-a89b-413c-b402-7352b421a340"
      },
      "execution_count": null,
      "outputs": [
        {
          "output_type": "execute_result",
          "data": {
            "text/plain": [
              "Verified_User    1470028\n",
              "RightTroll        704953\n",
              "NewsFeed          596593\n",
              "LeftTroll         422141\n",
              "HashtagGamer      236091\n",
              "Commercial        112580\n",
              "Unknown            43191\n",
              "NonEnglish         26562\n",
              "Fearmonger         11001\n",
              "Name: account_category, dtype: int64"
            ]
          },
          "metadata": {},
          "execution_count": 71
        }
      ]
    },
    {
      "cell_type": "code",
      "source": [
        "#filter out the identified NON_ENGLISH tweets\n",
        "en_df=en_df[en_df['account_category']!='NonEnglish']\n",
        "len(en_df)"
      ],
      "metadata": {
        "colab": {
          "base_uri": "https://localhost:8080/"
        },
        "id": "eo7bUyQPgn4z",
        "outputId": "f1b56b0d-2803-4e00-f08c-3d542d9a0d6b"
      },
      "execution_count": null,
      "outputs": [
        {
          "output_type": "execute_result",
          "data": {
            "text/plain": [
              "3596578"
            ]
          },
          "metadata": {},
          "execution_count": 57
        }
      ]
    },
    {
      "cell_type": "code",
      "source": [
        "en_df['account_category'].value_counts()"
      ],
      "metadata": {
        "colab": {
          "base_uri": "https://localhost:8080/"
        },
        "id": "Xh7zeaavgyLz",
        "outputId": "d0a007c1-13df-41fd-e2b0-f81a7eb8e86b"
      },
      "execution_count": null,
      "outputs": [
        {
          "output_type": "execute_result",
          "data": {
            "text/plain": [
              "Verified_User    1470028\n",
              "RightTroll        704953\n",
              "NewsFeed          596593\n",
              "LeftTroll         422141\n",
              "HashtagGamer      236091\n",
              "Commercial        112580\n",
              "Unknown            43191\n",
              "Fearmonger         11001\n",
              "NonEnglish             0\n",
              "Name: account_category, dtype: int64"
            ]
          },
          "metadata": {},
          "execution_count": 22
        }
      ]
    },
    {
      "cell_type": "code",
      "source": [
        "#Export as 06_data_engineered_en (original)\n",
        "#parq_path = '/content/gdrive/MyDrive/Grad School/DSCI592/data/06data_engineered_en.parquet.gz'\n",
        "#en_df.to_parquet(parq_path, engine='pyarrow', index=False, compression='gzip')"
      ],
      "metadata": {
        "id": "ZyDBc065hKIF"
      },
      "execution_count": null,
      "outputs": []
    },
    {
      "cell_type": "code",
      "source": [
        "#Export as 06_data_engineered_en2 (new features 2/27)\n",
        "parq_path = '/content/gdrive/MyDrive/Grad School/DSCI592/data/06data_engineered_en2.parquet.gz'\n",
        "en_df.to_parquet(parq_path, engine='pyarrow', index=False, compression='gzip')"
      ],
      "metadata": {
        "id": "J00P-eEMAS0X"
      },
      "execution_count": null,
      "outputs": []
    },
    {
      "cell_type": "markdown",
      "source": [
        "### 5 Feature Selection for ML Model (Numeric, Binary, Categorical, Ordinal)"
      ],
      "metadata": {
        "id": "b5Hvi0LtA3Nc"
      }
    },
    {
      "cell_type": "code",
      "source": [
        "#load en dataframe\n",
        "\n",
        "#en_df = pd.read_parquet('/content/gdrive/MyDrive/Grad School/DSCI592/data/06data_engineered_en.parquet.gz')\n",
        "en_df = pd.read_parquet('/content/gdrive/MyDrive/Grad School/DSCI592/data/06data_engineered_en2.parquet.gz')"
      ],
      "metadata": {
        "id": "9tRJqAKJBHqU"
      },
      "execution_count": 18,
      "outputs": []
    },
    {
      "cell_type": "code",
      "source": [
        "en_df.shape"
      ],
      "metadata": {
        "colab": {
          "base_uri": "https://localhost:8080/"
        },
        "id": "uflfQ_pVx5di",
        "outputId": "1049bf39-3e0d-43d1-a54b-8c91054db698"
      },
      "execution_count": null,
      "outputs": [
        {
          "output_type": "execute_result",
          "data": {
            "text/plain": [
              "(3596578, 65)"
            ]
          },
          "metadata": {},
          "execution_count": 62
        }
      ]
    },
    {
      "cell_type": "code",
      "source": [
        "pd.set_option('display.max_rows', 66)\n",
        "en_df.dtypes"
      ],
      "metadata": {
        "colab": {
          "base_uri": "https://localhost:8080/"
        },
        "id": "O24CVVmexsJl",
        "outputId": "bbad371c-4ac4-42e7-bf3e-f84866651893"
      },
      "execution_count": null,
      "outputs": [
        {
          "output_type": "execute_result",
          "data": {
            "text/plain": [
              "external_author_id                            string\n",
              "author                                        string\n",
              "content                                       string\n",
              "region                                        string\n",
              "language                                    category\n",
              "following                                     uint64\n",
              "followers                                     uint64\n",
              "updates                                       uint64\n",
              "post_type                                   category\n",
              "is_retweet                                   float64\n",
              "account_category                            category\n",
              "tweet_id                                      string\n",
              "tco1_step1                                    string\n",
              "data_source                                 category\n",
              "has_url                                        int64\n",
              "emoji_text                                    object\n",
              "emoji_count                                    int64\n",
              "publish_date                     datetime64[ns, UTC]\n",
              "class                                       category\n",
              "following_ratio                              float64\n",
              "class_numeric                                   int8\n",
              "RUS_lett_count                                 int64\n",
              "emoji_flagUS                                   int64\n",
              "emoji_police                                   int64\n",
              "emoji_check                                    int64\n",
              "emoji_exclamation                              int64\n",
              "emoji_fist                                     int64\n",
              "emoji_collision                                int64\n",
              "emoji_prohibited                               int64\n",
              "emoji_loudcryface                              int64\n",
              "emoji_smilinghearteye                          int64\n",
              "emoji_fire                                     int64\n",
              "emoji_redheart                                 int64\n",
              "emoji_tearsjoy                                 int64\n",
              "emoji_thumbsup                                 int64\n",
              "emoji_claphands                                int64\n",
              "emoji_blowingkiss                              int64\n",
              "emoji_partypop                                 int64\n",
              "emoji_raisehands                               int64\n",
              "region_United_States                           int64\n",
              "region_Unknown                                 int64\n",
              "region_New_York_NY                             int64\n",
              "region_United_Kingdom                          int64\n",
              "region_Los_Angeles_CA                          int64\n",
              "region_Boston_MA                               int64\n",
              "region_London                                  int64\n",
              "region_New_York_and_the_World                  int64\n",
              "region_New_York_City                           int64\n",
              "region_Pale_Blue_Dot                           int64\n",
              "region_Atlanta_GA                              int64\n",
              "region_Australia                               int64\n",
              "region_Global                                  int64\n",
              "region_Washington_DC                           int64\n",
              "region_All_Other                               int64\n",
              "multi_authors                                  int64\n",
              "num_dashes                                     int64\n",
              "num_commas                                     int64\n",
              "num_hashs                                      int64\n",
              "num_URL                                        int64\n",
              "num_URLs                                       int64\n",
              "median_word_length                           float64\n",
              "cleaned_tweet                                 object\n",
              "sentiment                                    float64\n",
              "emoji_sentiment                              float64\n",
              "tweet_length                                   int64\n",
              "dtype: object"
            ]
          },
          "metadata": {},
          "execution_count": 63
        }
      ]
    },
    {
      "cell_type": "markdown",
      "source": [
        "#### Validate no nulls"
      ],
      "metadata": {
        "id": "9VS44HbgG9bc"
      }
    },
    {
      "cell_type": "code",
      "source": [
        "#validate no nulls\n",
        "en_df.isnull().sum().nlargest()"
      ],
      "metadata": {
        "colab": {
          "base_uri": "https://localhost:8080/"
        },
        "id": "Ln3av1F5FhNd",
        "outputId": "b59853ea-b1b0-413f-ef1a-3f304373c1db"
      },
      "execution_count": 19,
      "outputs": [
        {
          "output_type": "execute_result",
          "data": {
            "text/plain": [
              "post_type             2077530\n",
              "tco1_step1            1422736\n",
              "median_word_length         22\n",
              "external_author_id          0\n",
              "author                      0\n",
              "dtype: int64"
            ]
          },
          "metadata": {},
          "execution_count": 19
        }
      ]
    },
    {
      "cell_type": "markdown",
      "source": [
        "Some tweets apparently had no words. Rather than revising the earlier function, we will just impute these as zeros."
      ],
      "metadata": {
        "id": "_JfMnKWH-ztF"
      }
    },
    {
      "cell_type": "code",
      "source": [
        "en_df[en_df['median_word_length'].isnull()]"
      ],
      "metadata": {
        "colab": {
          "base_uri": "https://localhost:8080/",
          "height": 1000
        },
        "id": "zrB2Zm0yGaOk",
        "outputId": "5ad78659-b452-46d5-e4f3-6d2ca51a0a55"
      },
      "execution_count": 20,
      "outputs": [
        {
          "output_type": "execute_result",
          "data": {
            "text/plain": [
              "        external_author_id          author  \\\n",
              "47425           1652987412    ALECMOOOOODY   \n",
              "71544           1679279490   AMELIEBALDWIN   \n",
              "599411          1658440730    TRAVISRESPEK   \n",
              "754465          1658420976       BAOBAEHAM   \n",
              "908603          1627699074      CANNONSHER   \n",
              "1053172         1711063908  COOKIIIEEESSSS   \n",
              "1241270         1693655748    DEBRA_STERN_   \n",
              "1335822         1662453998     ERRIVVVVERS   \n",
              "1404564         1645969141      FIGHTM_D_B   \n",
              "1523611         1720981580   HUNTERODDDDOM   \n",
              "1610872         1706657124  JANELPERKINSON   \n",
              "1611597         1716228906      JANI_S_JAC   \n",
              "1614836         1716228906      JANI_S_JAC   \n",
              "1614980         1716228906      JANI_S_JAC   \n",
              "1617567         1716228906      JANI_S_JAC   \n",
              "1669851         2882331822     JENN_ABRAMS   \n",
              "1693433         1594887416  JERY_ROBERTSYO   \n",
              "1750895         1659753702   KARENPARKER93   \n",
              "1760064         2532611755       KATHIEMRR   \n",
              "1809583         1612106972      LILJORDAMN   \n",
              "1976114         1856828959       OGDEANDRE   \n",
              "2047973         1617939218       PAULINETT   \n",
              "\n",
              "                                                                                                                               content  \\\n",
              "47425                                                                                                                              ���   \n",
              "71544    .  · 　  　 ˚ 　　　　　　　　 ✵   　 ˚ ·  　　 　　　  · 　　　  . 　　　       　 ✵ 　 　 ✵ 　 ˚     　　  . 　 ˚ 　　 ✦  　 　  *    *   　　       　·  ·   *   \n",
              "599411                                                                                                                               �   \n",
              "754465                                                                                                                      ����������   \n",
              "908603                                                                                                                               �   \n",
              "1053172                                                                                                                     ����������   \n",
              "1241270                                                                                                                            ���   \n",
              "1335822                                                                                                                     ����������   \n",
              "1404564                                                                                                                     ����������   \n",
              "1523611                                                                                                                      .........   \n",
              "1610872                                                                                                                     ����������   \n",
              "1611597                                                                                                                              �   \n",
              "1614836                                                                                                                              \"   \n",
              "1614980                                                                                                                    ✨✨✨✨✨✨ ����   \n",
              "1617567                                                                                                   😭😭😭😭😭😭😭😭😭😭😭😭😭😭😭😭😭😭😭😭😭😭😭😭😭😭😭😭   \n",
              "1669851                                                                                                                             ��   \n",
              "1693433                                                                                                                   ������������   \n",
              "1750895                                                                                                                            😜👍🏻   \n",
              "1760064                                                                                                                            ...   \n",
              "1809583                                                                                                                              �   \n",
              "1976114                                                                                                                              �   \n",
              "2047973                                                                                                                   ������������   \n",
              "\n",
              "                region language  following  followers  updates post_type  \\\n",
              "47425    United States       en        526        878     4512   RETWEET   \n",
              "71544    United States       en       2352       2712    24442   RETWEET   \n",
              "599411   United States       en        932        820     1940   RETWEET   \n",
              "754465   United States       en       1244        582     1236   RETWEET   \n",
              "908603   United States       en       2470       2836    10830   RETWEET   \n",
              "1053172  United States       en       1145        404     1284   RETWEET   \n",
              "1241270  United States       en        198         74      387       NaN   \n",
              "1335822  United States       en       1196        534     1203   RETWEET   \n",
              "1404564  United States       en       1047        425     1446   RETWEET   \n",
              "1523611  United States       en       2003       2725     2061   RETWEET   \n",
              "1610872  United States       en       1276        676     1318   RETWEET   \n",
              "1611597  United States       en        569        867     3840   RETWEET   \n",
              "1614836  United States       en        739        213      912       NaN   \n",
              "1614980  United States       en        566        859     4238   RETWEET   \n",
              "1617567  United States       en        554        829     6343   RETWEET   \n",
              "1669851  United States       en       9511      38360    12421       NaN   \n",
              "1693433  United States       en        460        339      886   RETWEET   \n",
              "1750895  United States       en        834       1316     4985   RETWEET   \n",
              "1760064  United States       en       3253       3291     4532       NaN   \n",
              "1809583  United States       en        597        711     3795   RETWEET   \n",
              "1976114  United States       en        415        762     2073   RETWEET   \n",
              "2047973  United States       en        490        436     1222   RETWEET   \n",
              "\n",
              "         is_retweet  ... num_dashes num_commas num_hashs num_URL  num_URLs  \\\n",
              "47425           1.0  ...          0          0         0       0         0   \n",
              "71544           1.0  ...          0          0         0       0         0   \n",
              "599411          1.0  ...          0          0         0       0         0   \n",
              "754465          1.0  ...          0          0         0       0         0   \n",
              "908603          1.0  ...          0          0         0       0         0   \n",
              "1053172         1.0  ...          0          0         0       0         0   \n",
              "1241270         0.0  ...          0          0         0       0         0   \n",
              "1335822         1.0  ...          0          0         0       0         0   \n",
              "1404564         1.0  ...          0          0         0       0         0   \n",
              "1523611         1.0  ...          0          0         0       0         0   \n",
              "1610872         1.0  ...          0          0         0       0         0   \n",
              "1611597         1.0  ...          0          0         0       0         0   \n",
              "1614836         0.0  ...          0          0         0       0         0   \n",
              "1614980         1.0  ...          0          0         0       0         0   \n",
              "1617567         1.0  ...          0          0         0       0         0   \n",
              "1669851         0.0  ...          0          0         0       0         0   \n",
              "1693433         1.0  ...          0          0         0       0         0   \n",
              "1750895         1.0  ...          0          0         0       0         0   \n",
              "1760064         0.0  ...          0          0         0       0         0   \n",
              "1809583         1.0  ...          0          0         0       0         0   \n",
              "1976114         1.0  ...          0          0         0       0         0   \n",
              "2047973         1.0  ...          0          0         0       0         0   \n",
              "\n",
              "        median_word_length  cleaned_tweet sentiment emoji_sentiment  \\\n",
              "47425                  NaN                      0.0          0.0000   \n",
              "71544                  NaN                      0.0          0.0000   \n",
              "599411                 NaN                      0.0          0.0000   \n",
              "754465                 NaN                      0.0          0.0000   \n",
              "908603                 NaN                      0.0          0.0000   \n",
              "1053172                NaN                      0.0          0.0000   \n",
              "1241270                NaN                      0.0          0.0000   \n",
              "1335822                NaN                      0.0          0.0000   \n",
              "1404564                NaN                      0.0          0.0000   \n",
              "1523611                NaN                      0.0          0.0000   \n",
              "1610872                NaN                      0.0          0.0000   \n",
              "1611597                NaN                      0.0          0.0000   \n",
              "1614836                NaN                      0.0          0.0000   \n",
              "1614980                NaN                      0.0          0.8957   \n",
              "1617567                NaN                      0.0         -0.9978   \n",
              "1669851                NaN                      0.0          0.0000   \n",
              "1693433                NaN                      0.0          0.0000   \n",
              "1750895                NaN                      0.0          0.0000   \n",
              "1760064                NaN                      0.0          0.0000   \n",
              "1809583                NaN                      0.0          0.0000   \n",
              "1976114                NaN                      0.0          0.0000   \n",
              "2047973                NaN                      0.0          0.0000   \n",
              "\n",
              "         tweet_length  \n",
              "47425               0  \n",
              "71544               0  \n",
              "599411              0  \n",
              "754465              0  \n",
              "908603              0  \n",
              "1053172             0  \n",
              "1241270             0  \n",
              "1335822             0  \n",
              "1404564             0  \n",
              "1523611             0  \n",
              "1610872             0  \n",
              "1611597             0  \n",
              "1614836             0  \n",
              "1614980             0  \n",
              "1617567             0  \n",
              "1669851             0  \n",
              "1693433             0  \n",
              "1750895             0  \n",
              "1760064             0  \n",
              "1809583             0  \n",
              "1976114             0  \n",
              "2047973             0  \n",
              "\n",
              "[22 rows x 65 columns]"
            ],
            "text/html": [
              "\n",
              "  <div id=\"df-fedee1de-c314-4bcc-a1ca-9d02689c3afb\">\n",
              "    <div class=\"colab-df-container\">\n",
              "      <div>\n",
              "<style scoped>\n",
              "    .dataframe tbody tr th:only-of-type {\n",
              "        vertical-align: middle;\n",
              "    }\n",
              "\n",
              "    .dataframe tbody tr th {\n",
              "        vertical-align: top;\n",
              "    }\n",
              "\n",
              "    .dataframe thead th {\n",
              "        text-align: right;\n",
              "    }\n",
              "</style>\n",
              "<table border=\"1\" class=\"dataframe\">\n",
              "  <thead>\n",
              "    <tr style=\"text-align: right;\">\n",
              "      <th></th>\n",
              "      <th>external_author_id</th>\n",
              "      <th>author</th>\n",
              "      <th>content</th>\n",
              "      <th>region</th>\n",
              "      <th>language</th>\n",
              "      <th>following</th>\n",
              "      <th>followers</th>\n",
              "      <th>updates</th>\n",
              "      <th>post_type</th>\n",
              "      <th>is_retweet</th>\n",
              "      <th>...</th>\n",
              "      <th>num_dashes</th>\n",
              "      <th>num_commas</th>\n",
              "      <th>num_hashs</th>\n",
              "      <th>num_URL</th>\n",
              "      <th>num_URLs</th>\n",
              "      <th>median_word_length</th>\n",
              "      <th>cleaned_tweet</th>\n",
              "      <th>sentiment</th>\n",
              "      <th>emoji_sentiment</th>\n",
              "      <th>tweet_length</th>\n",
              "    </tr>\n",
              "  </thead>\n",
              "  <tbody>\n",
              "    <tr>\n",
              "      <th>47425</th>\n",
              "      <td>1652987412</td>\n",
              "      <td>ALECMOOOOODY</td>\n",
              "      <td>���</td>\n",
              "      <td>United States</td>\n",
              "      <td>en</td>\n",
              "      <td>526</td>\n",
              "      <td>878</td>\n",
              "      <td>4512</td>\n",
              "      <td>RETWEET</td>\n",
              "      <td>1.0</td>\n",
              "      <td>...</td>\n",
              "      <td>0</td>\n",
              "      <td>0</td>\n",
              "      <td>0</td>\n",
              "      <td>0</td>\n",
              "      <td>0</td>\n",
              "      <td>NaN</td>\n",
              "      <td></td>\n",
              "      <td>0.0</td>\n",
              "      <td>0.0000</td>\n",
              "      <td>0</td>\n",
              "    </tr>\n",
              "    <tr>\n",
              "      <th>71544</th>\n",
              "      <td>1679279490</td>\n",
              "      <td>AMELIEBALDWIN</td>\n",
              "      <td>.  · 　  　 ˚ 　　　　　　　　 ✵   　 ˚ ·  　　 　　　  · 　　　  . 　　　       　 ✵ 　 　 ✵ 　 ˚     　　  . 　 ˚ 　　 ✦  　 　  *    *   　　       　·  ·   *</td>\n",
              "      <td>United States</td>\n",
              "      <td>en</td>\n",
              "      <td>2352</td>\n",
              "      <td>2712</td>\n",
              "      <td>24442</td>\n",
              "      <td>RETWEET</td>\n",
              "      <td>1.0</td>\n",
              "      <td>...</td>\n",
              "      <td>0</td>\n",
              "      <td>0</td>\n",
              "      <td>0</td>\n",
              "      <td>0</td>\n",
              "      <td>0</td>\n",
              "      <td>NaN</td>\n",
              "      <td></td>\n",
              "      <td>0.0</td>\n",
              "      <td>0.0000</td>\n",
              "      <td>0</td>\n",
              "    </tr>\n",
              "    <tr>\n",
              "      <th>599411</th>\n",
              "      <td>1658440730</td>\n",
              "      <td>TRAVISRESPEK</td>\n",
              "      <td>�</td>\n",
              "      <td>United States</td>\n",
              "      <td>en</td>\n",
              "      <td>932</td>\n",
              "      <td>820</td>\n",
              "      <td>1940</td>\n",
              "      <td>RETWEET</td>\n",
              "      <td>1.0</td>\n",
              "      <td>...</td>\n",
              "      <td>0</td>\n",
              "      <td>0</td>\n",
              "      <td>0</td>\n",
              "      <td>0</td>\n",
              "      <td>0</td>\n",
              "      <td>NaN</td>\n",
              "      <td></td>\n",
              "      <td>0.0</td>\n",
              "      <td>0.0000</td>\n",
              "      <td>0</td>\n",
              "    </tr>\n",
              "    <tr>\n",
              "      <th>754465</th>\n",
              "      <td>1658420976</td>\n",
              "      <td>BAOBAEHAM</td>\n",
              "      <td>����������</td>\n",
              "      <td>United States</td>\n",
              "      <td>en</td>\n",
              "      <td>1244</td>\n",
              "      <td>582</td>\n",
              "      <td>1236</td>\n",
              "      <td>RETWEET</td>\n",
              "      <td>1.0</td>\n",
              "      <td>...</td>\n",
              "      <td>0</td>\n",
              "      <td>0</td>\n",
              "      <td>0</td>\n",
              "      <td>0</td>\n",
              "      <td>0</td>\n",
              "      <td>NaN</td>\n",
              "      <td></td>\n",
              "      <td>0.0</td>\n",
              "      <td>0.0000</td>\n",
              "      <td>0</td>\n",
              "    </tr>\n",
              "    <tr>\n",
              "      <th>908603</th>\n",
              "      <td>1627699074</td>\n",
              "      <td>CANNONSHER</td>\n",
              "      <td>�</td>\n",
              "      <td>United States</td>\n",
              "      <td>en</td>\n",
              "      <td>2470</td>\n",
              "      <td>2836</td>\n",
              "      <td>10830</td>\n",
              "      <td>RETWEET</td>\n",
              "      <td>1.0</td>\n",
              "      <td>...</td>\n",
              "      <td>0</td>\n",
              "      <td>0</td>\n",
              "      <td>0</td>\n",
              "      <td>0</td>\n",
              "      <td>0</td>\n",
              "      <td>NaN</td>\n",
              "      <td></td>\n",
              "      <td>0.0</td>\n",
              "      <td>0.0000</td>\n",
              "      <td>0</td>\n",
              "    </tr>\n",
              "    <tr>\n",
              "      <th>1053172</th>\n",
              "      <td>1711063908</td>\n",
              "      <td>COOKIIIEEESSSS</td>\n",
              "      <td>����������</td>\n",
              "      <td>United States</td>\n",
              "      <td>en</td>\n",
              "      <td>1145</td>\n",
              "      <td>404</td>\n",
              "      <td>1284</td>\n",
              "      <td>RETWEET</td>\n",
              "      <td>1.0</td>\n",
              "      <td>...</td>\n",
              "      <td>0</td>\n",
              "      <td>0</td>\n",
              "      <td>0</td>\n",
              "      <td>0</td>\n",
              "      <td>0</td>\n",
              "      <td>NaN</td>\n",
              "      <td></td>\n",
              "      <td>0.0</td>\n",
              "      <td>0.0000</td>\n",
              "      <td>0</td>\n",
              "    </tr>\n",
              "    <tr>\n",
              "      <th>1241270</th>\n",
              "      <td>1693655748</td>\n",
              "      <td>DEBRA_STERN_</td>\n",
              "      <td>���</td>\n",
              "      <td>United States</td>\n",
              "      <td>en</td>\n",
              "      <td>198</td>\n",
              "      <td>74</td>\n",
              "      <td>387</td>\n",
              "      <td>NaN</td>\n",
              "      <td>0.0</td>\n",
              "      <td>...</td>\n",
              "      <td>0</td>\n",
              "      <td>0</td>\n",
              "      <td>0</td>\n",
              "      <td>0</td>\n",
              "      <td>0</td>\n",
              "      <td>NaN</td>\n",
              "      <td></td>\n",
              "      <td>0.0</td>\n",
              "      <td>0.0000</td>\n",
              "      <td>0</td>\n",
              "    </tr>\n",
              "    <tr>\n",
              "      <th>1335822</th>\n",
              "      <td>1662453998</td>\n",
              "      <td>ERRIVVVVERS</td>\n",
              "      <td>����������</td>\n",
              "      <td>United States</td>\n",
              "      <td>en</td>\n",
              "      <td>1196</td>\n",
              "      <td>534</td>\n",
              "      <td>1203</td>\n",
              "      <td>RETWEET</td>\n",
              "      <td>1.0</td>\n",
              "      <td>...</td>\n",
              "      <td>0</td>\n",
              "      <td>0</td>\n",
              "      <td>0</td>\n",
              "      <td>0</td>\n",
              "      <td>0</td>\n",
              "      <td>NaN</td>\n",
              "      <td></td>\n",
              "      <td>0.0</td>\n",
              "      <td>0.0000</td>\n",
              "      <td>0</td>\n",
              "    </tr>\n",
              "    <tr>\n",
              "      <th>1404564</th>\n",
              "      <td>1645969141</td>\n",
              "      <td>FIGHTM_D_B</td>\n",
              "      <td>����������</td>\n",
              "      <td>United States</td>\n",
              "      <td>en</td>\n",
              "      <td>1047</td>\n",
              "      <td>425</td>\n",
              "      <td>1446</td>\n",
              "      <td>RETWEET</td>\n",
              "      <td>1.0</td>\n",
              "      <td>...</td>\n",
              "      <td>0</td>\n",
              "      <td>0</td>\n",
              "      <td>0</td>\n",
              "      <td>0</td>\n",
              "      <td>0</td>\n",
              "      <td>NaN</td>\n",
              "      <td></td>\n",
              "      <td>0.0</td>\n",
              "      <td>0.0000</td>\n",
              "      <td>0</td>\n",
              "    </tr>\n",
              "    <tr>\n",
              "      <th>1523611</th>\n",
              "      <td>1720981580</td>\n",
              "      <td>HUNTERODDDDOM</td>\n",
              "      <td>.........</td>\n",
              "      <td>United States</td>\n",
              "      <td>en</td>\n",
              "      <td>2003</td>\n",
              "      <td>2725</td>\n",
              "      <td>2061</td>\n",
              "      <td>RETWEET</td>\n",
              "      <td>1.0</td>\n",
              "      <td>...</td>\n",
              "      <td>0</td>\n",
              "      <td>0</td>\n",
              "      <td>0</td>\n",
              "      <td>0</td>\n",
              "      <td>0</td>\n",
              "      <td>NaN</td>\n",
              "      <td></td>\n",
              "      <td>0.0</td>\n",
              "      <td>0.0000</td>\n",
              "      <td>0</td>\n",
              "    </tr>\n",
              "    <tr>\n",
              "      <th>1610872</th>\n",
              "      <td>1706657124</td>\n",
              "      <td>JANELPERKINSON</td>\n",
              "      <td>����������</td>\n",
              "      <td>United States</td>\n",
              "      <td>en</td>\n",
              "      <td>1276</td>\n",
              "      <td>676</td>\n",
              "      <td>1318</td>\n",
              "      <td>RETWEET</td>\n",
              "      <td>1.0</td>\n",
              "      <td>...</td>\n",
              "      <td>0</td>\n",
              "      <td>0</td>\n",
              "      <td>0</td>\n",
              "      <td>0</td>\n",
              "      <td>0</td>\n",
              "      <td>NaN</td>\n",
              "      <td></td>\n",
              "      <td>0.0</td>\n",
              "      <td>0.0000</td>\n",
              "      <td>0</td>\n",
              "    </tr>\n",
              "    <tr>\n",
              "      <th>1611597</th>\n",
              "      <td>1716228906</td>\n",
              "      <td>JANI_S_JAC</td>\n",
              "      <td>�</td>\n",
              "      <td>United States</td>\n",
              "      <td>en</td>\n",
              "      <td>569</td>\n",
              "      <td>867</td>\n",
              "      <td>3840</td>\n",
              "      <td>RETWEET</td>\n",
              "      <td>1.0</td>\n",
              "      <td>...</td>\n",
              "      <td>0</td>\n",
              "      <td>0</td>\n",
              "      <td>0</td>\n",
              "      <td>0</td>\n",
              "      <td>0</td>\n",
              "      <td>NaN</td>\n",
              "      <td></td>\n",
              "      <td>0.0</td>\n",
              "      <td>0.0000</td>\n",
              "      <td>0</td>\n",
              "    </tr>\n",
              "    <tr>\n",
              "      <th>1614836</th>\n",
              "      <td>1716228906</td>\n",
              "      <td>JANI_S_JAC</td>\n",
              "      <td>\"</td>\n",
              "      <td>United States</td>\n",
              "      <td>en</td>\n",
              "      <td>739</td>\n",
              "      <td>213</td>\n",
              "      <td>912</td>\n",
              "      <td>NaN</td>\n",
              "      <td>0.0</td>\n",
              "      <td>...</td>\n",
              "      <td>0</td>\n",
              "      <td>0</td>\n",
              "      <td>0</td>\n",
              "      <td>0</td>\n",
              "      <td>0</td>\n",
              "      <td>NaN</td>\n",
              "      <td></td>\n",
              "      <td>0.0</td>\n",
              "      <td>0.0000</td>\n",
              "      <td>0</td>\n",
              "    </tr>\n",
              "    <tr>\n",
              "      <th>1614980</th>\n",
              "      <td>1716228906</td>\n",
              "      <td>JANI_S_JAC</td>\n",
              "      <td>✨✨✨✨✨✨ ����</td>\n",
              "      <td>United States</td>\n",
              "      <td>en</td>\n",
              "      <td>566</td>\n",
              "      <td>859</td>\n",
              "      <td>4238</td>\n",
              "      <td>RETWEET</td>\n",
              "      <td>1.0</td>\n",
              "      <td>...</td>\n",
              "      <td>0</td>\n",
              "      <td>0</td>\n",
              "      <td>0</td>\n",
              "      <td>0</td>\n",
              "      <td>0</td>\n",
              "      <td>NaN</td>\n",
              "      <td></td>\n",
              "      <td>0.0</td>\n",
              "      <td>0.8957</td>\n",
              "      <td>0</td>\n",
              "    </tr>\n",
              "    <tr>\n",
              "      <th>1617567</th>\n",
              "      <td>1716228906</td>\n",
              "      <td>JANI_S_JAC</td>\n",
              "      <td>😭😭😭😭😭😭😭😭😭😭😭😭😭😭😭😭😭😭😭😭😭😭😭😭😭😭😭😭</td>\n",
              "      <td>United States</td>\n",
              "      <td>en</td>\n",
              "      <td>554</td>\n",
              "      <td>829</td>\n",
              "      <td>6343</td>\n",
              "      <td>RETWEET</td>\n",
              "      <td>1.0</td>\n",
              "      <td>...</td>\n",
              "      <td>0</td>\n",
              "      <td>0</td>\n",
              "      <td>0</td>\n",
              "      <td>0</td>\n",
              "      <td>0</td>\n",
              "      <td>NaN</td>\n",
              "      <td></td>\n",
              "      <td>0.0</td>\n",
              "      <td>-0.9978</td>\n",
              "      <td>0</td>\n",
              "    </tr>\n",
              "    <tr>\n",
              "      <th>1669851</th>\n",
              "      <td>2882331822</td>\n",
              "      <td>JENN_ABRAMS</td>\n",
              "      <td>��</td>\n",
              "      <td>United States</td>\n",
              "      <td>en</td>\n",
              "      <td>9511</td>\n",
              "      <td>38360</td>\n",
              "      <td>12421</td>\n",
              "      <td>NaN</td>\n",
              "      <td>0.0</td>\n",
              "      <td>...</td>\n",
              "      <td>0</td>\n",
              "      <td>0</td>\n",
              "      <td>0</td>\n",
              "      <td>0</td>\n",
              "      <td>0</td>\n",
              "      <td>NaN</td>\n",
              "      <td></td>\n",
              "      <td>0.0</td>\n",
              "      <td>0.0000</td>\n",
              "      <td>0</td>\n",
              "    </tr>\n",
              "    <tr>\n",
              "      <th>1693433</th>\n",
              "      <td>1594887416</td>\n",
              "      <td>JERY_ROBERTSYO</td>\n",
              "      <td>������������</td>\n",
              "      <td>United States</td>\n",
              "      <td>en</td>\n",
              "      <td>460</td>\n",
              "      <td>339</td>\n",
              "      <td>886</td>\n",
              "      <td>RETWEET</td>\n",
              "      <td>1.0</td>\n",
              "      <td>...</td>\n",
              "      <td>0</td>\n",
              "      <td>0</td>\n",
              "      <td>0</td>\n",
              "      <td>0</td>\n",
              "      <td>0</td>\n",
              "      <td>NaN</td>\n",
              "      <td></td>\n",
              "      <td>0.0</td>\n",
              "      <td>0.0000</td>\n",
              "      <td>0</td>\n",
              "    </tr>\n",
              "    <tr>\n",
              "      <th>1750895</th>\n",
              "      <td>1659753702</td>\n",
              "      <td>KARENPARKER93</td>\n",
              "      <td>😜👍🏻</td>\n",
              "      <td>United States</td>\n",
              "      <td>en</td>\n",
              "      <td>834</td>\n",
              "      <td>1316</td>\n",
              "      <td>4985</td>\n",
              "      <td>RETWEET</td>\n",
              "      <td>1.0</td>\n",
              "      <td>...</td>\n",
              "      <td>0</td>\n",
              "      <td>0</td>\n",
              "      <td>0</td>\n",
              "      <td>0</td>\n",
              "      <td>0</td>\n",
              "      <td>NaN</td>\n",
              "      <td></td>\n",
              "      <td>0.0</td>\n",
              "      <td>0.0000</td>\n",
              "      <td>0</td>\n",
              "    </tr>\n",
              "    <tr>\n",
              "      <th>1760064</th>\n",
              "      <td>2532611755</td>\n",
              "      <td>KATHIEMRR</td>\n",
              "      <td>...</td>\n",
              "      <td>United States</td>\n",
              "      <td>en</td>\n",
              "      <td>3253</td>\n",
              "      <td>3291</td>\n",
              "      <td>4532</td>\n",
              "      <td>NaN</td>\n",
              "      <td>0.0</td>\n",
              "      <td>...</td>\n",
              "      <td>0</td>\n",
              "      <td>0</td>\n",
              "      <td>0</td>\n",
              "      <td>0</td>\n",
              "      <td>0</td>\n",
              "      <td>NaN</td>\n",
              "      <td></td>\n",
              "      <td>0.0</td>\n",
              "      <td>0.0000</td>\n",
              "      <td>0</td>\n",
              "    </tr>\n",
              "    <tr>\n",
              "      <th>1809583</th>\n",
              "      <td>1612106972</td>\n",
              "      <td>LILJORDAMN</td>\n",
              "      <td>�</td>\n",
              "      <td>United States</td>\n",
              "      <td>en</td>\n",
              "      <td>597</td>\n",
              "      <td>711</td>\n",
              "      <td>3795</td>\n",
              "      <td>RETWEET</td>\n",
              "      <td>1.0</td>\n",
              "      <td>...</td>\n",
              "      <td>0</td>\n",
              "      <td>0</td>\n",
              "      <td>0</td>\n",
              "      <td>0</td>\n",
              "      <td>0</td>\n",
              "      <td>NaN</td>\n",
              "      <td></td>\n",
              "      <td>0.0</td>\n",
              "      <td>0.0000</td>\n",
              "      <td>0</td>\n",
              "    </tr>\n",
              "    <tr>\n",
              "      <th>1976114</th>\n",
              "      <td>1856828959</td>\n",
              "      <td>OGDEANDRE</td>\n",
              "      <td>�</td>\n",
              "      <td>United States</td>\n",
              "      <td>en</td>\n",
              "      <td>415</td>\n",
              "      <td>762</td>\n",
              "      <td>2073</td>\n",
              "      <td>RETWEET</td>\n",
              "      <td>1.0</td>\n",
              "      <td>...</td>\n",
              "      <td>0</td>\n",
              "      <td>0</td>\n",
              "      <td>0</td>\n",
              "      <td>0</td>\n",
              "      <td>0</td>\n",
              "      <td>NaN</td>\n",
              "      <td></td>\n",
              "      <td>0.0</td>\n",
              "      <td>0.0000</td>\n",
              "      <td>0</td>\n",
              "    </tr>\n",
              "    <tr>\n",
              "      <th>2047973</th>\n",
              "      <td>1617939218</td>\n",
              "      <td>PAULINETT</td>\n",
              "      <td>������������</td>\n",
              "      <td>United States</td>\n",
              "      <td>en</td>\n",
              "      <td>490</td>\n",
              "      <td>436</td>\n",
              "      <td>1222</td>\n",
              "      <td>RETWEET</td>\n",
              "      <td>1.0</td>\n",
              "      <td>...</td>\n",
              "      <td>0</td>\n",
              "      <td>0</td>\n",
              "      <td>0</td>\n",
              "      <td>0</td>\n",
              "      <td>0</td>\n",
              "      <td>NaN</td>\n",
              "      <td></td>\n",
              "      <td>0.0</td>\n",
              "      <td>0.0000</td>\n",
              "      <td>0</td>\n",
              "    </tr>\n",
              "  </tbody>\n",
              "</table>\n",
              "<p>22 rows × 65 columns</p>\n",
              "</div>\n",
              "      <button class=\"colab-df-convert\" onclick=\"convertToInteractive('df-fedee1de-c314-4bcc-a1ca-9d02689c3afb')\"\n",
              "              title=\"Convert this dataframe to an interactive table.\"\n",
              "              style=\"display:none;\">\n",
              "        \n",
              "  <svg xmlns=\"http://www.w3.org/2000/svg\" height=\"24px\"viewBox=\"0 0 24 24\"\n",
              "       width=\"24px\">\n",
              "    <path d=\"M0 0h24v24H0V0z\" fill=\"none\"/>\n",
              "    <path d=\"M18.56 5.44l.94 2.06.94-2.06 2.06-.94-2.06-.94-.94-2.06-.94 2.06-2.06.94zm-11 1L8.5 8.5l.94-2.06 2.06-.94-2.06-.94L8.5 2.5l-.94 2.06-2.06.94zm10 10l.94 2.06.94-2.06 2.06-.94-2.06-.94-.94-2.06-.94 2.06-2.06.94z\"/><path d=\"M17.41 7.96l-1.37-1.37c-.4-.4-.92-.59-1.43-.59-.52 0-1.04.2-1.43.59L10.3 9.45l-7.72 7.72c-.78.78-.78 2.05 0 2.83L4 21.41c.39.39.9.59 1.41.59.51 0 1.02-.2 1.41-.59l7.78-7.78 2.81-2.81c.8-.78.8-2.07 0-2.86zM5.41 20L4 18.59l7.72-7.72 1.47 1.35L5.41 20z\"/>\n",
              "  </svg>\n",
              "      </button>\n",
              "      \n",
              "  <style>\n",
              "    .colab-df-container {\n",
              "      display:flex;\n",
              "      flex-wrap:wrap;\n",
              "      gap: 12px;\n",
              "    }\n",
              "\n",
              "    .colab-df-convert {\n",
              "      background-color: #E8F0FE;\n",
              "      border: none;\n",
              "      border-radius: 50%;\n",
              "      cursor: pointer;\n",
              "      display: none;\n",
              "      fill: #1967D2;\n",
              "      height: 32px;\n",
              "      padding: 0 0 0 0;\n",
              "      width: 32px;\n",
              "    }\n",
              "\n",
              "    .colab-df-convert:hover {\n",
              "      background-color: #E2EBFA;\n",
              "      box-shadow: 0px 1px 2px rgba(60, 64, 67, 0.3), 0px 1px 3px 1px rgba(60, 64, 67, 0.15);\n",
              "      fill: #174EA6;\n",
              "    }\n",
              "\n",
              "    [theme=dark] .colab-df-convert {\n",
              "      background-color: #3B4455;\n",
              "      fill: #D2E3FC;\n",
              "    }\n",
              "\n",
              "    [theme=dark] .colab-df-convert:hover {\n",
              "      background-color: #434B5C;\n",
              "      box-shadow: 0px 1px 3px 1px rgba(0, 0, 0, 0.15);\n",
              "      filter: drop-shadow(0px 1px 2px rgba(0, 0, 0, 0.3));\n",
              "      fill: #FFFFFF;\n",
              "    }\n",
              "  </style>\n",
              "\n",
              "      <script>\n",
              "        const buttonEl =\n",
              "          document.querySelector('#df-fedee1de-c314-4bcc-a1ca-9d02689c3afb button.colab-df-convert');\n",
              "        buttonEl.style.display =\n",
              "          google.colab.kernel.accessAllowed ? 'block' : 'none';\n",
              "\n",
              "        async function convertToInteractive(key) {\n",
              "          const element = document.querySelector('#df-fedee1de-c314-4bcc-a1ca-9d02689c3afb');\n",
              "          const dataTable =\n",
              "            await google.colab.kernel.invokeFunction('convertToInteractive',\n",
              "                                                     [key], {});\n",
              "          if (!dataTable) return;\n",
              "\n",
              "          const docLinkHtml = 'Like what you see? Visit the ' +\n",
              "            '<a target=\"_blank\" href=https://colab.research.google.com/notebooks/data_table.ipynb>data table notebook</a>'\n",
              "            + ' to learn more about interactive tables.';\n",
              "          element.innerHTML = '';\n",
              "          dataTable['output_type'] = 'display_data';\n",
              "          await google.colab.output.renderOutput(dataTable, element);\n",
              "          const docLink = document.createElement('div');\n",
              "          docLink.innerHTML = docLinkHtml;\n",
              "          element.appendChild(docLink);\n",
              "        }\n",
              "      </script>\n",
              "    </div>\n",
              "  </div>\n",
              "  "
            ]
          },
          "metadata": {},
          "execution_count": 20
        }
      ]
    },
    {
      "cell_type": "code",
      "source": [
        "en_df['median_word_length']= en_df['median_word_length'].fillna(0)"
      ],
      "metadata": {
        "id": "qaSgnfvwF4OR"
      },
      "execution_count": 21,
      "outputs": []
    },
    {
      "cell_type": "code",
      "source": [
        "en_df.isnull().sum().nlargest()"
      ],
      "metadata": {
        "colab": {
          "base_uri": "https://localhost:8080/"
        },
        "id": "hIdQ9tY4Gp7w",
        "outputId": "f76a1d26-3154-4c95-8ffc-45abea788145"
      },
      "execution_count": 23,
      "outputs": [
        {
          "output_type": "execute_result",
          "data": {
            "text/plain": [
              "post_type             2077530\n",
              "tco1_step1            1422736\n",
              "external_author_id          0\n",
              "author                      0\n",
              "content                     0\n",
              "dtype: int64"
            ]
          },
          "metadata": {},
          "execution_count": 23
        }
      ]
    },
    {
      "cell_type": "code",
      "source": [
        "en_df.dtypes"
      ],
      "metadata": {
        "colab": {
          "base_uri": "https://localhost:8080/"
        },
        "id": "hFla_ZAIBaaj",
        "outputId": "4664ef73-acbe-4599-9320-d5fa653dbd60"
      },
      "execution_count": null,
      "outputs": [
        {
          "output_type": "execute_result",
          "data": {
            "text/plain": [
              "external_author_id                    string\n",
              "author                                string\n",
              "content                               string\n",
              "region                                string\n",
              "language                            category\n",
              "following                             uint64\n",
              "followers                             uint64\n",
              "updates                               uint64\n",
              "post_type                           category\n",
              "is_retweet                           float64\n",
              "account_category                    category\n",
              "tweet_id                              string\n",
              "tco1_step1                            string\n",
              "data_source                         category\n",
              "has_url                                int64\n",
              "emoji_text                            object\n",
              "emoji_count                            int64\n",
              "publish_date             datetime64[ns, UTC]\n",
              "class                               category\n",
              "following_ratio                      float64\n",
              "class_numeric                           int8\n",
              "RUS_lett_count                         int64\n",
              "emoji_flagUS                           int64\n",
              "emoji_police                           int64\n",
              "emoji_check                            int64\n",
              "emoji_exclamation                      int64\n",
              "emoji_fist                             int64\n",
              "emoji_collision                        int64\n",
              "emoji_prohibited                       int64\n",
              "emoji_loudcryface                      int64\n",
              "emoji_smilinghearteye                  int64\n",
              "emoji_fire                             int64\n",
              "emoji_redheart                         int64\n",
              "emoji_tearsjoy                         int64\n",
              "emoji_thumbsup                         int64\n",
              "emoji_claphands                        int64\n",
              "emoji_blowingkiss                      int64\n",
              "emoji_partypop                         int64\n",
              "emoji_raisehands                       int64\n",
              "emoji_troll                            int64\n",
              "unknown_location                       int64\n",
              "multi_authors                          int64\n",
              "dtype: object"
            ]
          },
          "metadata": {},
          "execution_count": 24
        }
      ]
    },
    {
      "cell_type": "code",
      "source": [
        "en_df.describe()"
      ],
      "metadata": {
        "colab": {
          "base_uri": "https://localhost:8080/",
          "height": 428
        },
        "id": "REfm6RYwAgDP",
        "outputId": "bec1d2bd-f67d-4b8c-f5a5-938b10e45499"
      },
      "execution_count": 24,
      "outputs": [
        {
          "output_type": "execute_result",
          "data": {
            "text/plain": [
              "          following     followers       updates    is_retweet       has_url  \\\n",
              "count  3.596578e+06  3.596578e+06  3.596578e+06  3.596578e+06  3.596578e+06   \n",
              "mean   5.654078e+03  1.757067e+06  6.811728e+03  3.294159e-01  6.234440e-01   \n",
              "std    3.317921e+04  9.517599e+06  1.951992e+04  4.700012e-01  4.845221e-01   \n",
              "min    0.000000e+00  0.000000e+00  0.000000e+00  0.000000e+00  0.000000e+00   \n",
              "25%    4.730000e+02  1.182000e+03  9.000000e+00  0.000000e+00  0.000000e+00   \n",
              "50%    1.437000e+03  1.155800e+04  1.080000e+03  0.000000e+00  1.000000e+00   \n",
              "75%    4.583000e+03  5.991400e+04  6.258750e+03  1.000000e+00  1.000000e+00   \n",
              "max    4.095338e+06  1.335241e+08  5.732199e+06  1.000000e+00  1.000000e+00   \n",
              "\n",
              "        emoji_count  following_ratio  class_numeric  RUS_lett_count  \\\n",
              "count  3.596578e+06     3.596578e+06   3.596578e+06    3.596578e+06   \n",
              "mean   6.553869e-02     8.943565e-01   5.811925e-01    8.285654e-04   \n",
              "std    5.532249e-01     4.822668e+00   4.933638e-01    1.179797e-01   \n",
              "min    0.000000e+00     0.000000e+00   0.000000e+00    0.000000e+00   \n",
              "25%    0.000000e+00     1.525934e-02   0.000000e+00    0.000000e+00   \n",
              "50%    0.000000e+00     3.860762e-01   1.000000e+00    0.000000e+00   \n",
              "75%    0.000000e+00     9.348404e-01   1.000000e+00    0.000000e+00   \n",
              "max    1.210000e+02     1.010000e+03   1.000000e+00    9.900000e+01   \n",
              "\n",
              "       emoji_flagUS  ...  multi_authors    num_dashes    num_commas  \\\n",
              "count  3.596578e+06  ...   3.596578e+06  3.596578e+06  3.596578e+06   \n",
              "mean   1.385484e-03  ...   7.659336e-02  1.861900e-01  3.066637e-01   \n",
              "std    3.719630e-02  ...   2.659452e-01  5.267582e-01  6.501866e-01   \n",
              "min    0.000000e+00  ...   0.000000e+00  0.000000e+00  0.000000e+00   \n",
              "25%    0.000000e+00  ...   0.000000e+00  0.000000e+00  0.000000e+00   \n",
              "50%    0.000000e+00  ...   0.000000e+00  0.000000e+00  0.000000e+00   \n",
              "75%    0.000000e+00  ...   0.000000e+00  0.000000e+00  0.000000e+00   \n",
              "max    1.000000e+00  ...   1.000000e+00  9.800000e+01  3.000000e+01   \n",
              "\n",
              "          num_hashs       num_URL      num_URLs  median_word_length  \\\n",
              "count  3.596578e+06  3.596578e+06  3.596578e+06        3.596578e+06   \n",
              "mean   5.755610e-01  8.084090e-01  8.158450e-01        4.453307e+00   \n",
              "std    9.480190e-01  7.384369e-01  7.375958e-01        1.118236e+00   \n",
              "min    0.000000e+00  0.000000e+00  0.000000e+00        0.000000e+00   \n",
              "25%    0.000000e+00  0.000000e+00  0.000000e+00        4.000000e+00   \n",
              "50%    0.000000e+00  1.000000e+00  1.000000e+00        4.000000e+00   \n",
              "75%    1.000000e+00  1.000000e+00  1.000000e+00        5.000000e+00   \n",
              "max    3.500000e+01  6.000000e+00  6.000000e+00        3.900000e+01   \n",
              "\n",
              "          sentiment  emoji_sentiment  tweet_length  \n",
              "count  3.596578e+06     3.596578e+06  3.596578e+06  \n",
              "mean   3.818250e-02     6.281107e-03  7.410807e+01  \n",
              "std    4.309973e-01     7.519496e-02  3.121427e+01  \n",
              "min   -9.945000e-01    -9.997000e-01  0.000000e+00  \n",
              "25%   -2.373000e-01     0.000000e+00  5.300000e+01  \n",
              "50%    0.000000e+00     0.000000e+00  7.100000e+01  \n",
              "75%    3.818000e-01     0.000000e+00  9.600000e+01  \n",
              "max    9.991000e-01     9.998000e-01  2.940000e+02  \n",
              "\n",
              "[8 rows x 51 columns]"
            ],
            "text/html": [
              "\n",
              "  <div id=\"df-349c685c-2f41-4065-990c-5451a8ecb0ea\">\n",
              "    <div class=\"colab-df-container\">\n",
              "      <div>\n",
              "<style scoped>\n",
              "    .dataframe tbody tr th:only-of-type {\n",
              "        vertical-align: middle;\n",
              "    }\n",
              "\n",
              "    .dataframe tbody tr th {\n",
              "        vertical-align: top;\n",
              "    }\n",
              "\n",
              "    .dataframe thead th {\n",
              "        text-align: right;\n",
              "    }\n",
              "</style>\n",
              "<table border=\"1\" class=\"dataframe\">\n",
              "  <thead>\n",
              "    <tr style=\"text-align: right;\">\n",
              "      <th></th>\n",
              "      <th>following</th>\n",
              "      <th>followers</th>\n",
              "      <th>updates</th>\n",
              "      <th>is_retweet</th>\n",
              "      <th>has_url</th>\n",
              "      <th>emoji_count</th>\n",
              "      <th>following_ratio</th>\n",
              "      <th>class_numeric</th>\n",
              "      <th>RUS_lett_count</th>\n",
              "      <th>emoji_flagUS</th>\n",
              "      <th>...</th>\n",
              "      <th>multi_authors</th>\n",
              "      <th>num_dashes</th>\n",
              "      <th>num_commas</th>\n",
              "      <th>num_hashs</th>\n",
              "      <th>num_URL</th>\n",
              "      <th>num_URLs</th>\n",
              "      <th>median_word_length</th>\n",
              "      <th>sentiment</th>\n",
              "      <th>emoji_sentiment</th>\n",
              "      <th>tweet_length</th>\n",
              "    </tr>\n",
              "  </thead>\n",
              "  <tbody>\n",
              "    <tr>\n",
              "      <th>count</th>\n",
              "      <td>3.596578e+06</td>\n",
              "      <td>3.596578e+06</td>\n",
              "      <td>3.596578e+06</td>\n",
              "      <td>3.596578e+06</td>\n",
              "      <td>3.596578e+06</td>\n",
              "      <td>3.596578e+06</td>\n",
              "      <td>3.596578e+06</td>\n",
              "      <td>3.596578e+06</td>\n",
              "      <td>3.596578e+06</td>\n",
              "      <td>3.596578e+06</td>\n",
              "      <td>...</td>\n",
              "      <td>3.596578e+06</td>\n",
              "      <td>3.596578e+06</td>\n",
              "      <td>3.596578e+06</td>\n",
              "      <td>3.596578e+06</td>\n",
              "      <td>3.596578e+06</td>\n",
              "      <td>3.596578e+06</td>\n",
              "      <td>3.596578e+06</td>\n",
              "      <td>3.596578e+06</td>\n",
              "      <td>3.596578e+06</td>\n",
              "      <td>3.596578e+06</td>\n",
              "    </tr>\n",
              "    <tr>\n",
              "      <th>mean</th>\n",
              "      <td>5.654078e+03</td>\n",
              "      <td>1.757067e+06</td>\n",
              "      <td>6.811728e+03</td>\n",
              "      <td>3.294159e-01</td>\n",
              "      <td>6.234440e-01</td>\n",
              "      <td>6.553869e-02</td>\n",
              "      <td>8.943565e-01</td>\n",
              "      <td>5.811925e-01</td>\n",
              "      <td>8.285654e-04</td>\n",
              "      <td>1.385484e-03</td>\n",
              "      <td>...</td>\n",
              "      <td>7.659336e-02</td>\n",
              "      <td>1.861900e-01</td>\n",
              "      <td>3.066637e-01</td>\n",
              "      <td>5.755610e-01</td>\n",
              "      <td>8.084090e-01</td>\n",
              "      <td>8.158450e-01</td>\n",
              "      <td>4.453307e+00</td>\n",
              "      <td>3.818250e-02</td>\n",
              "      <td>6.281107e-03</td>\n",
              "      <td>7.410807e+01</td>\n",
              "    </tr>\n",
              "    <tr>\n",
              "      <th>std</th>\n",
              "      <td>3.317921e+04</td>\n",
              "      <td>9.517599e+06</td>\n",
              "      <td>1.951992e+04</td>\n",
              "      <td>4.700012e-01</td>\n",
              "      <td>4.845221e-01</td>\n",
              "      <td>5.532249e-01</td>\n",
              "      <td>4.822668e+00</td>\n",
              "      <td>4.933638e-01</td>\n",
              "      <td>1.179797e-01</td>\n",
              "      <td>3.719630e-02</td>\n",
              "      <td>...</td>\n",
              "      <td>2.659452e-01</td>\n",
              "      <td>5.267582e-01</td>\n",
              "      <td>6.501866e-01</td>\n",
              "      <td>9.480190e-01</td>\n",
              "      <td>7.384369e-01</td>\n",
              "      <td>7.375958e-01</td>\n",
              "      <td>1.118236e+00</td>\n",
              "      <td>4.309973e-01</td>\n",
              "      <td>7.519496e-02</td>\n",
              "      <td>3.121427e+01</td>\n",
              "    </tr>\n",
              "    <tr>\n",
              "      <th>min</th>\n",
              "      <td>0.000000e+00</td>\n",
              "      <td>0.000000e+00</td>\n",
              "      <td>0.000000e+00</td>\n",
              "      <td>0.000000e+00</td>\n",
              "      <td>0.000000e+00</td>\n",
              "      <td>0.000000e+00</td>\n",
              "      <td>0.000000e+00</td>\n",
              "      <td>0.000000e+00</td>\n",
              "      <td>0.000000e+00</td>\n",
              "      <td>0.000000e+00</td>\n",
              "      <td>...</td>\n",
              "      <td>0.000000e+00</td>\n",
              "      <td>0.000000e+00</td>\n",
              "      <td>0.000000e+00</td>\n",
              "      <td>0.000000e+00</td>\n",
              "      <td>0.000000e+00</td>\n",
              "      <td>0.000000e+00</td>\n",
              "      <td>0.000000e+00</td>\n",
              "      <td>-9.945000e-01</td>\n",
              "      <td>-9.997000e-01</td>\n",
              "      <td>0.000000e+00</td>\n",
              "    </tr>\n",
              "    <tr>\n",
              "      <th>25%</th>\n",
              "      <td>4.730000e+02</td>\n",
              "      <td>1.182000e+03</td>\n",
              "      <td>9.000000e+00</td>\n",
              "      <td>0.000000e+00</td>\n",
              "      <td>0.000000e+00</td>\n",
              "      <td>0.000000e+00</td>\n",
              "      <td>1.525934e-02</td>\n",
              "      <td>0.000000e+00</td>\n",
              "      <td>0.000000e+00</td>\n",
              "      <td>0.000000e+00</td>\n",
              "      <td>...</td>\n",
              "      <td>0.000000e+00</td>\n",
              "      <td>0.000000e+00</td>\n",
              "      <td>0.000000e+00</td>\n",
              "      <td>0.000000e+00</td>\n",
              "      <td>0.000000e+00</td>\n",
              "      <td>0.000000e+00</td>\n",
              "      <td>4.000000e+00</td>\n",
              "      <td>-2.373000e-01</td>\n",
              "      <td>0.000000e+00</td>\n",
              "      <td>5.300000e+01</td>\n",
              "    </tr>\n",
              "    <tr>\n",
              "      <th>50%</th>\n",
              "      <td>1.437000e+03</td>\n",
              "      <td>1.155800e+04</td>\n",
              "      <td>1.080000e+03</td>\n",
              "      <td>0.000000e+00</td>\n",
              "      <td>1.000000e+00</td>\n",
              "      <td>0.000000e+00</td>\n",
              "      <td>3.860762e-01</td>\n",
              "      <td>1.000000e+00</td>\n",
              "      <td>0.000000e+00</td>\n",
              "      <td>0.000000e+00</td>\n",
              "      <td>...</td>\n",
              "      <td>0.000000e+00</td>\n",
              "      <td>0.000000e+00</td>\n",
              "      <td>0.000000e+00</td>\n",
              "      <td>0.000000e+00</td>\n",
              "      <td>1.000000e+00</td>\n",
              "      <td>1.000000e+00</td>\n",
              "      <td>4.000000e+00</td>\n",
              "      <td>0.000000e+00</td>\n",
              "      <td>0.000000e+00</td>\n",
              "      <td>7.100000e+01</td>\n",
              "    </tr>\n",
              "    <tr>\n",
              "      <th>75%</th>\n",
              "      <td>4.583000e+03</td>\n",
              "      <td>5.991400e+04</td>\n",
              "      <td>6.258750e+03</td>\n",
              "      <td>1.000000e+00</td>\n",
              "      <td>1.000000e+00</td>\n",
              "      <td>0.000000e+00</td>\n",
              "      <td>9.348404e-01</td>\n",
              "      <td>1.000000e+00</td>\n",
              "      <td>0.000000e+00</td>\n",
              "      <td>0.000000e+00</td>\n",
              "      <td>...</td>\n",
              "      <td>0.000000e+00</td>\n",
              "      <td>0.000000e+00</td>\n",
              "      <td>0.000000e+00</td>\n",
              "      <td>1.000000e+00</td>\n",
              "      <td>1.000000e+00</td>\n",
              "      <td>1.000000e+00</td>\n",
              "      <td>5.000000e+00</td>\n",
              "      <td>3.818000e-01</td>\n",
              "      <td>0.000000e+00</td>\n",
              "      <td>9.600000e+01</td>\n",
              "    </tr>\n",
              "    <tr>\n",
              "      <th>max</th>\n",
              "      <td>4.095338e+06</td>\n",
              "      <td>1.335241e+08</td>\n",
              "      <td>5.732199e+06</td>\n",
              "      <td>1.000000e+00</td>\n",
              "      <td>1.000000e+00</td>\n",
              "      <td>1.210000e+02</td>\n",
              "      <td>1.010000e+03</td>\n",
              "      <td>1.000000e+00</td>\n",
              "      <td>9.900000e+01</td>\n",
              "      <td>1.000000e+00</td>\n",
              "      <td>...</td>\n",
              "      <td>1.000000e+00</td>\n",
              "      <td>9.800000e+01</td>\n",
              "      <td>3.000000e+01</td>\n",
              "      <td>3.500000e+01</td>\n",
              "      <td>6.000000e+00</td>\n",
              "      <td>6.000000e+00</td>\n",
              "      <td>3.900000e+01</td>\n",
              "      <td>9.991000e-01</td>\n",
              "      <td>9.998000e-01</td>\n",
              "      <td>2.940000e+02</td>\n",
              "    </tr>\n",
              "  </tbody>\n",
              "</table>\n",
              "<p>8 rows × 51 columns</p>\n",
              "</div>\n",
              "      <button class=\"colab-df-convert\" onclick=\"convertToInteractive('df-349c685c-2f41-4065-990c-5451a8ecb0ea')\"\n",
              "              title=\"Convert this dataframe to an interactive table.\"\n",
              "              style=\"display:none;\">\n",
              "        \n",
              "  <svg xmlns=\"http://www.w3.org/2000/svg\" height=\"24px\"viewBox=\"0 0 24 24\"\n",
              "       width=\"24px\">\n",
              "    <path d=\"M0 0h24v24H0V0z\" fill=\"none\"/>\n",
              "    <path d=\"M18.56 5.44l.94 2.06.94-2.06 2.06-.94-2.06-.94-.94-2.06-.94 2.06-2.06.94zm-11 1L8.5 8.5l.94-2.06 2.06-.94-2.06-.94L8.5 2.5l-.94 2.06-2.06.94zm10 10l.94 2.06.94-2.06 2.06-.94-2.06-.94-.94-2.06-.94 2.06-2.06.94z\"/><path d=\"M17.41 7.96l-1.37-1.37c-.4-.4-.92-.59-1.43-.59-.52 0-1.04.2-1.43.59L10.3 9.45l-7.72 7.72c-.78.78-.78 2.05 0 2.83L4 21.41c.39.39.9.59 1.41.59.51 0 1.02-.2 1.41-.59l7.78-7.78 2.81-2.81c.8-.78.8-2.07 0-2.86zM5.41 20L4 18.59l7.72-7.72 1.47 1.35L5.41 20z\"/>\n",
              "  </svg>\n",
              "      </button>\n",
              "      \n",
              "  <style>\n",
              "    .colab-df-container {\n",
              "      display:flex;\n",
              "      flex-wrap:wrap;\n",
              "      gap: 12px;\n",
              "    }\n",
              "\n",
              "    .colab-df-convert {\n",
              "      background-color: #E8F0FE;\n",
              "      border: none;\n",
              "      border-radius: 50%;\n",
              "      cursor: pointer;\n",
              "      display: none;\n",
              "      fill: #1967D2;\n",
              "      height: 32px;\n",
              "      padding: 0 0 0 0;\n",
              "      width: 32px;\n",
              "    }\n",
              "\n",
              "    .colab-df-convert:hover {\n",
              "      background-color: #E2EBFA;\n",
              "      box-shadow: 0px 1px 2px rgba(60, 64, 67, 0.3), 0px 1px 3px 1px rgba(60, 64, 67, 0.15);\n",
              "      fill: #174EA6;\n",
              "    }\n",
              "\n",
              "    [theme=dark] .colab-df-convert {\n",
              "      background-color: #3B4455;\n",
              "      fill: #D2E3FC;\n",
              "    }\n",
              "\n",
              "    [theme=dark] .colab-df-convert:hover {\n",
              "      background-color: #434B5C;\n",
              "      box-shadow: 0px 1px 3px 1px rgba(0, 0, 0, 0.15);\n",
              "      filter: drop-shadow(0px 1px 2px rgba(0, 0, 0, 0.3));\n",
              "      fill: #FFFFFF;\n",
              "    }\n",
              "  </style>\n",
              "\n",
              "      <script>\n",
              "        const buttonEl =\n",
              "          document.querySelector('#df-349c685c-2f41-4065-990c-5451a8ecb0ea button.colab-df-convert');\n",
              "        buttonEl.style.display =\n",
              "          google.colab.kernel.accessAllowed ? 'block' : 'none';\n",
              "\n",
              "        async function convertToInteractive(key) {\n",
              "          const element = document.querySelector('#df-349c685c-2f41-4065-990c-5451a8ecb0ea');\n",
              "          const dataTable =\n",
              "            await google.colab.kernel.invokeFunction('convertToInteractive',\n",
              "                                                     [key], {});\n",
              "          if (!dataTable) return;\n",
              "\n",
              "          const docLinkHtml = 'Like what you see? Visit the ' +\n",
              "            '<a target=\"_blank\" href=https://colab.research.google.com/notebooks/data_table.ipynb>data table notebook</a>'\n",
              "            + ' to learn more about interactive tables.';\n",
              "          element.innerHTML = '';\n",
              "          dataTable['output_type'] = 'display_data';\n",
              "          await google.colab.output.renderOutput(dataTable, element);\n",
              "          const docLink = document.createElement('div');\n",
              "          docLink.innerHTML = docLinkHtml;\n",
              "          element.appendChild(docLink);\n",
              "        }\n",
              "      </script>\n",
              "    </div>\n",
              "  </div>\n",
              "  "
            ]
          },
          "metadata": {},
          "execution_count": 24
        }
      ]
    },
    {
      "cell_type": "code",
      "source": [
        "#convert updates to int64\n",
        "en_df['updates']= en_df['updates'].astype(int)\n",
        "en_df['is_retweet']=en_df['is_retweet'].astype(int)\n",
        "en_df['followers']= en_df['followers'].astype(int)\n",
        "en_df['following']= en_df['following'].astype(int)"
      ],
      "metadata": {
        "id": "AhlbdjtVCcxr"
      },
      "execution_count": 25,
      "outputs": []
    },
    {
      "cell_type": "code",
      "source": [
        "#drop the old num_URL column\n",
        "en_df = en_df.drop(columns = 'num_URL', axis= 1)"
      ],
      "metadata": {
        "id": "4MKDUV9fCncr"
      },
      "execution_count": 26,
      "outputs": []
    },
    {
      "cell_type": "markdown",
      "source": [
        "### Columns to keep"
      ],
      "metadata": {
        "id": "nTJlIS_bo4ld"
      }
    },
    {
      "cell_type": "code",
      "source": [
        "#determine column types to keep\n",
        "target = ['class_numeric']\n",
        "columns_without_target = list(en_df[en_df.columns.difference(target)])\n",
        "\n",
        "num_attribs = list(en_df[columns_without_target].select_dtypes(include=['int64','float64']).columns)\n",
        "\n",
        "#cat_attribs = list(en_df[columns_without_target].select_dtypes(include=['object']).columns)  -- there are no cat atrributes\n",
        "\n",
        "target_column = en_df['class_numeric']"
      ],
      "metadata": {
        "id": "f2YBHHFDBmN0"
      },
      "execution_count": 27,
      "outputs": []
    },
    {
      "cell_type": "code",
      "source": [
        "#remove columns not being used\n",
        "columns_to_drop = list(en_df[en_df.columns.difference(num_attribs)])\n",
        "columns_to_drop.remove('class_numeric')\n",
        "columns_to_drop"
      ],
      "metadata": {
        "colab": {
          "base_uri": "https://localhost:8080/"
        },
        "id": "DYJ5tEdVBqRY",
        "outputId": "7ca5cfc2-4065-417d-f0e9-6d429b014403"
      },
      "execution_count": 28,
      "outputs": [
        {
          "output_type": "execute_result",
          "data": {
            "text/plain": [
              "['account_category',\n",
              " 'author',\n",
              " 'class',\n",
              " 'cleaned_tweet',\n",
              " 'content',\n",
              " 'data_source',\n",
              " 'emoji_text',\n",
              " 'external_author_id',\n",
              " 'language',\n",
              " 'post_type',\n",
              " 'publish_date',\n",
              " 'region',\n",
              " 'tco1_step1',\n",
              " 'tweet_id']"
            ]
          },
          "metadata": {},
          "execution_count": 28
        }
      ]
    },
    {
      "cell_type": "code",
      "source": [
        "#retain the cleaned tweet, author and ID for use later in Multi_modal\n",
        "cols_for_later = columns_to_drop.copy()\n",
        "cols_for_later.remove('external_author_id')\n",
        "cols_for_later.remove('tweet_id')\n",
        "cols_for_later.remove('author')\n",
        "cols_for_later.remove('cleaned_tweet')  #retained for multi-modal ML w/ BERT\n",
        "cols_for_later"
      ],
      "metadata": {
        "colab": {
          "base_uri": "https://localhost:8080/"
        },
        "id": "nTbZhtote6_d",
        "outputId": "32adb1bf-d972-4f7c-98dc-081b3a43e442"
      },
      "execution_count": 29,
      "outputs": [
        {
          "output_type": "execute_result",
          "data": {
            "text/plain": [
              "['account_category',\n",
              " 'class',\n",
              " 'content',\n",
              " 'data_source',\n",
              " 'emoji_text',\n",
              " 'language',\n",
              " 'post_type',\n",
              " 'publish_date',\n",
              " 'region',\n",
              " 'tco1_step1']"
            ]
          },
          "metadata": {},
          "execution_count": 29
        }
      ]
    },
    {
      "cell_type": "code",
      "source": [
        "full_final_df = en_df.drop(columns= cols_for_later, axis =1)\n",
        "full_final_df.columns"
      ],
      "metadata": {
        "colab": {
          "base_uri": "https://localhost:8080/"
        },
        "id": "tC1WSTDBfw8K",
        "outputId": "89cd4884-f130-4b57-84ba-28e9b5fce599"
      },
      "execution_count": 30,
      "outputs": [
        {
          "output_type": "execute_result",
          "data": {
            "text/plain": [
              "Index(['external_author_id', 'author', 'following', 'followers', 'updates',\n",
              "       'is_retweet', 'tweet_id', 'has_url', 'emoji_count', 'following_ratio',\n",
              "       'class_numeric', 'RUS_lett_count', 'emoji_flagUS', 'emoji_police',\n",
              "       'emoji_check', 'emoji_exclamation', 'emoji_fist', 'emoji_collision',\n",
              "       'emoji_prohibited', 'emoji_loudcryface', 'emoji_smilinghearteye',\n",
              "       'emoji_fire', 'emoji_redheart', 'emoji_tearsjoy', 'emoji_thumbsup',\n",
              "       'emoji_claphands', 'emoji_blowingkiss', 'emoji_partypop',\n",
              "       'emoji_raisehands', 'region_United_States', 'region_Unknown',\n",
              "       'region_New_York_NY', 'region_United_Kingdom', 'region_Los_Angeles_CA',\n",
              "       'region_Boston_MA', 'region_London', 'region_New_York_and_the_World',\n",
              "       'region_New_York_City', 'region_Pale_Blue_Dot', 'region_Atlanta_GA',\n",
              "       'region_Australia', 'region_Global', 'region_Washington_DC',\n",
              "       'region_All_Other', 'multi_authors', 'num_dashes', 'num_commas',\n",
              "       'num_hashs', 'num_URLs', 'median_word_length', 'cleaned_tweet',\n",
              "       'sentiment', 'emoji_sentiment', 'tweet_length'],\n",
              "      dtype='object')"
            ]
          },
          "metadata": {},
          "execution_count": 30
        }
      ]
    },
    {
      "cell_type": "code",
      "source": [
        "#export final_df for use in 07_ML_models NB as 06data_full_final_en.parquet.gz\n",
        "#parq_path = '/content/gdrive/MyDrive/Grad School/DSCI592/data/06data_full_final_en.parquet.gz'\n",
        "#full_final_df.to_parquet(parq_path, engine='pyarrow', index=False, compression='gzip')"
      ],
      "metadata": {
        "id": "NotbH4-ZgHWp"
      },
      "execution_count": null,
      "outputs": []
    },
    {
      "cell_type": "code",
      "source": [
        "#export final_df for use in 07_ML_models and 08Multi_modal NBs as 06data_full_final_en2.parquet.gz (updated 2/27)\n",
        "parq_path = '/content/gdrive/MyDrive/Grad School/DSCI592/data/06data_full_final_en2.parquet.gz'\n",
        "full_final_df.to_parquet(parq_path, engine='pyarrow', index=False, compression='gzip')"
      ],
      "metadata": {
        "id": "FfL0pM4XB2dK"
      },
      "execution_count": 31,
      "outputs": []
    },
    {
      "cell_type": "markdown",
      "source": [
        "Final_df for 07 ML Models retains only numeric and target features"
      ],
      "metadata": {
        "id": "qWvXSJVE_bcb"
      }
    },
    {
      "cell_type": "code",
      "source": [
        "final_df = en_df.drop(columns = columns_to_drop, axis =1)\n",
        "final_df.columns"
      ],
      "metadata": {
        "colab": {
          "base_uri": "https://localhost:8080/"
        },
        "id": "9mAi_zY3SpeE",
        "outputId": "7a88ac61-05ff-4133-cdc3-bad65fa20ca3"
      },
      "execution_count": 32,
      "outputs": [
        {
          "output_type": "execute_result",
          "data": {
            "text/plain": [
              "Index(['following', 'followers', 'updates', 'is_retweet', 'has_url',\n",
              "       'emoji_count', 'following_ratio', 'class_numeric', 'RUS_lett_count',\n",
              "       'emoji_flagUS', 'emoji_police', 'emoji_check', 'emoji_exclamation',\n",
              "       'emoji_fist', 'emoji_collision', 'emoji_prohibited',\n",
              "       'emoji_loudcryface', 'emoji_smilinghearteye', 'emoji_fire',\n",
              "       'emoji_redheart', 'emoji_tearsjoy', 'emoji_thumbsup', 'emoji_claphands',\n",
              "       'emoji_blowingkiss', 'emoji_partypop', 'emoji_raisehands',\n",
              "       'region_United_States', 'region_Unknown', 'region_New_York_NY',\n",
              "       'region_United_Kingdom', 'region_Los_Angeles_CA', 'region_Boston_MA',\n",
              "       'region_London', 'region_New_York_and_the_World',\n",
              "       'region_New_York_City', 'region_Pale_Blue_Dot', 'region_Atlanta_GA',\n",
              "       'region_Australia', 'region_Global', 'region_Washington_DC',\n",
              "       'region_All_Other', 'multi_authors', 'num_dashes', 'num_commas',\n",
              "       'num_hashs', 'num_URLs', 'median_word_length', 'sentiment',\n",
              "       'emoji_sentiment', 'tweet_length'],\n",
              "      dtype='object')"
            ]
          },
          "metadata": {},
          "execution_count": 32
        }
      ]
    },
    {
      "cell_type": "code",
      "source": [
        "#export final_df for use in 07_ML_models NB as 06data_final_en2.parquet.gz (updated 2/27 features)\n",
        "parq_path = '/content/gdrive/MyDrive/Grad School/DSCI592/data/06data_final_en2.parquet.gz'\n",
        "final_df.to_parquet(parq_path, engine='pyarrow', index=False, compression='gzip')"
      ],
      "metadata": {
        "id": "QU_CN2vCCGS0"
      },
      "execution_count": 35,
      "outputs": []
    },
    {
      "cell_type": "code",
      "source": [
        "#final_df = en_df.drop(columns = columns_to_drop, axis =1)\n",
        "#final_df.columns"
      ],
      "metadata": {
        "colab": {
          "base_uri": "https://localhost:8080/"
        },
        "id": "n-edreGpB-PZ",
        "outputId": "888f63fd-a5eb-4c4c-88fc-4d5b64a0e3e0"
      },
      "execution_count": null,
      "outputs": [
        {
          "output_type": "execute_result",
          "data": {
            "text/plain": [
              "Index(['following', 'followers', 'updates', 'is_retweet', 'has_url',\n",
              "       'emoji_count', 'following_ratio', 'class_numeric', 'RUS_lett_count',\n",
              "       'emoji_flagUS', 'emoji_police', 'emoji_check', 'emoji_exclamation',\n",
              "       'emoji_fist', 'emoji_collision', 'emoji_prohibited',\n",
              "       'emoji_loudcryface', 'emoji_smilinghearteye', 'emoji_fire',\n",
              "       'emoji_redheart', 'emoji_tearsjoy', 'emoji_thumbsup', 'emoji_claphands',\n",
              "       'emoji_blowingkiss', 'emoji_partypop', 'emoji_raisehands',\n",
              "       'region_United_States', 'region_Unknown', 'region_New_York_NY',\n",
              "       'region_United_Kingdom', 'region_Los_Angeles_CA', 'region_Boston_MA',\n",
              "       'region_London', 'region_New_York_and_the_World',\n",
              "       'region_New_York_City', 'region_Pale_Blue_Dot', 'region_Atlanta_GA',\n",
              "       'region_Australia', 'region_Global', 'region_Washington_DC',\n",
              "       'region_All_Other', 'multi_authors', 'num_dashes', 'num_commas',\n",
              "       'num_hashs', 'num_URL', 'num_URLs', 'median_word_length'],\n",
              "      dtype='object')"
            ]
          },
          "metadata": {},
          "execution_count": 141
        }
      ]
    },
    {
      "cell_type": "code",
      "source": [
        "#export final_df for use in 07_ML_models NB as 06data_final_en.parquet.gz\n",
        "#parq_path = '/content/gdrive/MyDrive/Grad School/DSCI592/data/06data_final_en.parquet.gz'\n",
        "#final_df.to_parquet(parq_path, engine='pyarrow', index=False, compression='gzip')"
      ],
      "metadata": {
        "id": "iO-LAqzUCGme"
      },
      "execution_count": null,
      "outputs": []
    },
    {
      "cell_type": "code",
      "source": [
        "final_df.shape"
      ],
      "metadata": {
        "colab": {
          "base_uri": "https://localhost:8080/"
        },
        "id": "T-8OdpeeCO6g",
        "outputId": "a335f423-32cb-4c4b-d9c5-9f763b86b360"
      },
      "execution_count": 34,
      "outputs": [
        {
          "output_type": "execute_result",
          "data": {
            "text/plain": [
              "(3596578, 50)"
            ]
          },
          "metadata": {},
          "execution_count": 34
        }
      ]
    }
  ],
  "metadata": {
    "colab": {
      "provenance": [],
      "machine_shape": "hm"
    },
    "gpuClass": "standard",
    "kernelspec": {
      "display_name": "Python 3",
      "language": "python",
      "name": "python3"
    },
    "language_info": {
      "codemirror_mode": {
        "name": "ipython",
        "version": 3
      },
      "file_extension": ".py",
      "mimetype": "text/x-python",
      "name": "python",
      "nbconvert_exporter": "python",
      "pygments_lexer": "ipython3",
      "version": "3.8.5"
    },
    "vscode": {
      "interpreter": {
        "hash": "65a6dd32d71ed4a2e5ac9ab3f52d3aeee49f01a00467a63b19dc274a1d27154b"
      }
    }
  },
  "nbformat": 4,
  "nbformat_minor": 0
}