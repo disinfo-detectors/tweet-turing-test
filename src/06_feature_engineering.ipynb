{
  "cells": [
    {
      "cell_type": "markdown",
      "metadata": {
        "id": "C_GbDG4q-sBe"
      },
      "source": [
        "# Tweet Turing Test: Detecting Disinformation on Twitter  \n",
        "\n",
        "|          | Group #2 - Disinformation Detectors                     |\n",
        "|---------:|---------------------------------------------------------|\n",
        "| Members  | John Johnson, Katy Matulay, Justin Minnion, Jared Rubin |\n",
        "| Notebook | `06_feature_engineering.ipynb`                        |\n",
        "| Purpose  | Feature Engineering for ML models                |\n",
        "\n",
        "(todo: description)"
      ]
    },
    {
      "cell_type": "markdown",
      "metadata": {
        "id": "IDQTY8j_-sBi"
      },
      "source": [
        "# 1 - Setup"
      ]
    },
    {
      "cell_type": "code",
      "execution_count": 2,
      "metadata": {
        "id": "zzSINVAB-sBi"
      },
      "outputs": [],
      "source": [
        "# imports from Python standard library\n",
        "\n",
        "# imports requiring installation\n",
        "#   connection to Google Cloud Storage\n",
        "from google.cloud import storage            # pip install google-cloud-storage\n",
        "from google.oauth2 import service_account   # pip install google-auth\n",
        "\n",
        "#  data science packages\n",
        "import numpy as np                          # pip install numpy\n",
        "import pandas as pd                         # pip install pandas"
      ]
    },
    {
      "cell_type": "code",
      "execution_count": 3,
      "metadata": {
        "colab": {
          "base_uri": "https://localhost:8080/"
        },
        "id": "NjPqfMreAZeL",
        "outputId": "d07b9f7b-f783-4bd3-9fd0-38e28114a523"
      },
      "outputs": [
        {
          "output_type": "stream",
          "name": "stdout",
          "text": [
            "Looking in indexes: https://pypi.org/simple, https://us-python.pkg.dev/colab-wheels/public/simple/\n",
            "Requirement already satisfied: demoji in /usr/local/lib/python3.8/dist-packages (1.1.0)\n"
          ]
        }
      ],
      "source": [
        "!pip install demoji\n",
        "import pandas as pd \n",
        "import os\n",
        "import numpy as np\n",
        "import matplotlib.pyplot as plt\n",
        "import demoji\n",
        "import seaborn as sns\n",
        "import nltk\n",
        "from datetime import date\n",
        "import regex as re\n",
        "import pyarrow"
      ]
    },
    {
      "cell_type": "code",
      "execution_count": 4,
      "metadata": {
        "colab": {
          "base_uri": "https://localhost:8080/"
        },
        "id": "m6dyYmht_hZu",
        "outputId": "73cd8d52-55a8-4a02-961c-8dd8bc2778eb"
      },
      "outputs": [
        {
          "output_type": "stream",
          "name": "stdout",
          "text": [
            "Drive already mounted at /content/gdrive; to attempt to forcibly remount, call drive.mount(\"/content/gdrive\", force_remount=True).\n"
          ]
        }
      ],
      "source": [
        "#Colab Specific workflow - remove for github\n",
        "from google.colab import drive\n",
        "\n",
        "drive.mount('/content/gdrive')"
      ]
    },
    {
      "cell_type": "code",
      "execution_count": 5,
      "metadata": {
        "id": "CobCwwik-sBk"
      },
      "outputs": [],
      "source": [
        "# pandas options\n",
        "pd.set_option('display.max_colwidth', None)"
      ]
    },
    {
      "cell_type": "markdown",
      "metadata": {
        "id": "SJJJh8x1-sBk"
      },
      "source": [
        "## Local or Cloud?\n",
        "\n",
        "Decide here whether to run notebook with local data or GCP bucket data\n",
        " - if the working directory of this notebook has a \"../data/\" folder with data loaded (e.g. working on local computer or have data files loaded to a cloud VM) then use the \"local files\" option and comment out the \"gcp bucket files\" option\n",
        " - if this notebook is being run from a GCP VM (preferrably in the `us-central1` location) then use the \"gcp bucket files\" option and comment out the \"local files\" option"
      ]
    },
    {
      "cell_type": "code",
      "execution_count": null,
      "metadata": {
        "id": "_KvlnbAV-sBk"
      },
      "outputs": [],
      "source": [
        "# option: local files\n",
        "local_or_cloud: str = \"local\"   # comment/uncomment this line or next\n",
        "\n",
        "# option: gcp bucket files\n",
        "#local_or_cloud: str = \"cloud\"   # comment/uncomment this line or previous\n",
        "\n",
        "# don't comment/uncomment for remainder of cell\n",
        "if (local_or_cloud == \"local\"):\n",
        "    data_paths = local_data_paths\n",
        "    snapshot_paths = local_snapshot_paths\n",
        "elif (local_or_cloud == \"cloud\"):\n",
        "    data_paths = gcp_data_paths\n",
        "    snapshot_paths = gcp_snapshot_paths\n",
        "else:\n",
        "    raise ValueError(\"Variable 'local_or_cloud' can only take on one of two values, 'local' or 'cloud'.\")\n",
        "    # subsequent cells will not do this final \"else\" check"
      ]
    },
    {
      "cell_type": "code",
      "execution_count": null,
      "metadata": {
        "id": "aH-uzY0S-sBl"
      },
      "outputs": [],
      "source": [
        "# this cell only needs to run its code if local_or_cloud==\"cloud\"\n",
        "#   (though it is harmless if run when local_or_cloud==\"local\")\n",
        "gcp_storage_client: storage.Client = None\n",
        "gcp_bucket: storage.Bucket = None\n",
        "\n",
        "if (local_or_cloud == \"cloud\"):\n",
        "    gcp_storage_client = tur.get_gcp_storage_client(project_name=gcp_project_name, key_file=gcp_key_file)\n",
        "    gcp_bucket = tur.get_gcp_bucket(storage_client=gcp_storage_client, bucket_name=gcp_bucket_name)"
      ]
    },
    {
      "cell_type": "markdown",
      "metadata": {
        "id": "zdhkKA-6-sBm"
      },
      "source": [
        "## 2 - Load EDA Export Dataset\n",
        "\n",
        "Sampled dataset, as prepared by prior notebook `04_nlp_preprocess.ipynb`, will be loaded as \"`data`\".\n",
        "Full dataset, as prepared by `03_eda.ipynb`, will be loaded as \"`df`\"."
      ]
    },
    {
      "cell_type": "code",
      "execution_count": 6,
      "metadata": {
        "id": "btq4HW8J_-A9"
      },
      "outputs": [],
      "source": [
        "#Colab Specific workflow - remove for github\n",
        "\n",
        "#Google Drive url for data file\n",
        "file_folder = '/content/gdrive/MyDrive/Grad School/DSCI592/data/'"
      ]
    },
    {
      "cell_type": "markdown",
      "source": [
        "#### 10% Sampled Dataset"
      ],
      "metadata": {
        "id": "KDEd_bkpMNzk"
      }
    },
    {
      "cell_type": "code",
      "source": [
        "#Colab Specific workflow - remove for github\n",
        "\n",
        "#Read in the parquet file of the 10% sample dataset\n",
        "data = pd.read_parquet(file_folder+'2data_sample_ten_percent.parquet.gz')\n",
        "#data = pd.read_parquet('/content/gdrive/MyDrive/Grad School/DSCI592/data/2data_sample_ten_percent.parquet.gz')"
      ],
      "metadata": {
        "id": "EWvJdY0FXv92"
      },
      "execution_count": null,
      "outputs": []
    },
    {
      "cell_type": "markdown",
      "source": [
        "#### Full dataset"
      ],
      "metadata": {
        "id": "Umu5VmJOMQMd"
      }
    },
    {
      "cell_type": "code",
      "source": [
        "#Colab Specific workflow - remove for github\n",
        "\n",
        "#complete dataset is df\n",
        "df = pd.read_parquet(file_folder +'data_after_03_eda.parquet.gz')"
      ],
      "metadata": {
        "id": "klxfNRhhREaS"
      },
      "execution_count": 6,
      "outputs": []
    },
    {
      "cell_type": "code",
      "execution_count": null,
      "metadata": {
        "colab": {
          "base_uri": "https://localhost:8080/"
        },
        "id": "ohcKDfPED40c",
        "outputId": "9864bd98-fa83-492d-db8a-5432f86b26aa"
      },
      "outputs": [
        {
          "output_type": "execute_result",
          "data": {
            "text/plain": [
              "Index(['external_author_id', 'author', 'content', 'region', 'language',\n",
              "       'following', 'followers', 'updates', 'post_type', 'is_retweet',\n",
              "       'account_category', 'tweet_id', 'tco1_step1', 'data_source', 'has_url',\n",
              "       'emoji_text', 'emoji_count', 'publish_date', 'class', 'following_ratio',\n",
              "       'class_numeric', 'RUS_lett_count'],\n",
              "      dtype='object')"
            ]
          },
          "metadata": {},
          "execution_count": 6
        }
      ],
      "source": [
        "data.columns"
      ]
    },
    {
      "cell_type": "markdown",
      "source": [
        "## 3 - Feature Engineering"
      ],
      "metadata": {
        "id": "FQolwD7hV5jW"
      }
    },
    {
      "cell_type": "markdown",
      "source": [
        "#### 3a - Binary Emoji Features:\n"
      ],
      "metadata": {
        "id": "GeHZsVoLWBx1"
      }
    },
    {
      "cell_type": "markdown",
      "source": [
        "Emoji text will be used to derive binary features for the Top 17 most frequently appearing emojis."
      ],
      "metadata": {
        "id": "QbVAg8VAT2fx"
      }
    },
    {
      "cell_type": "code",
      "source": [
        "#Convert emoji_text to string object in order to use regex\n",
        "data['emoji_text']=data['emoji_text'].astype(str)\n",
        "data.dtypes"
      ],
      "metadata": {
        "colab": {
          "base_uri": "https://localhost:8080/"
        },
        "id": "OuiAN3TkO3Ky",
        "outputId": "ffcdb856-d7fb-442c-c8e9-937339e512c0"
      },
      "execution_count": null,
      "outputs": [
        {
          "output_type": "execute_result",
          "data": {
            "text/plain": [
              "external_author_id                 string\n",
              "author                             string\n",
              "content                            string\n",
              "region                             string\n",
              "language                         category\n",
              "following                          uint64\n",
              "followers                          uint64\n",
              "updates                            uint64\n",
              "post_type                        category\n",
              "is_retweet                        float64\n",
              "account_category                 category\n",
              "tweet_id                           string\n",
              "tco1_step1                         string\n",
              "data_source                      category\n",
              "has_url                             int64\n",
              "emoji_text                         object\n",
              "emoji_count                         int64\n",
              "publish_date          datetime64[ns, UTC]\n",
              "class                            category\n",
              "following_ratio                   float64\n",
              "class_numeric                        int8\n",
              "RUS_lett_count                      int64\n",
              "dtype: object"
            ]
          },
          "metadata": {},
          "execution_count": 9
        }
      ]
    },
    {
      "cell_type": "code",
      "source": [
        "#confirm string\n",
        "data[data['emoji_count']>0]['emoji_text'][:8]"
      ],
      "metadata": {
        "colab": {
          "base_uri": "https://localhost:8080/"
        },
        "id": "SWQqXkOLPALV",
        "outputId": "6cc2f365-379d-4bf1-fba6-db11b4b6f52d"
      },
      "execution_count": null,
      "outputs": [
        {
          "output_type": "execute_result",
          "data": {
            "text/plain": [
              "24                                                           ['tornado' 'flexed biceps']\n",
              "48                                                  ['face with open mouth' 'thumbs up']\n",
              "79                                                                 ['red question mark']\n",
              "94                                                                              ['bear']\n",
              "106    ['thumbs up' 'flag: United States' 'flag: United States'\\n 'flag: United States']\n",
              "112                                                                   ['hundred points']\n",
              "113                                                                       ['check mark']\n",
              "165                                                                            ['skull']\n",
              "Name: emoji_text, dtype: object"
            ]
          },
          "metadata": {},
          "execution_count": 12
        }
      ]
    },
    {
      "cell_type": "code",
      "source": [
        "#Create small sample to test regex\n",
        "emoji_test=data[data['emoji_count']>0][:10]\n",
        "\n",
        "emoji_test['emoji_text']"
      ],
      "metadata": {
        "id": "JZwsIGG-H2Kg",
        "colab": {
          "base_uri": "https://localhost:8080/"
        },
        "outputId": "40ecf512-4fd5-4dac-dd5b-4bd4b5d25a6d"
      },
      "execution_count": null,
      "outputs": [
        {
          "output_type": "execute_result",
          "data": {
            "text/plain": [
              "24                                                           ['tornado' 'flexed biceps']\n",
              "48                                                  ['face with open mouth' 'thumbs up']\n",
              "79                                                                 ['red question mark']\n",
              "94                                                                              ['bear']\n",
              "106    ['thumbs up' 'flag: United States' 'flag: United States'\\n 'flag: United States']\n",
              "112                                                                   ['hundred points']\n",
              "113                                                                       ['check mark']\n",
              "165                                                                            ['skull']\n",
              "173                                    ['evergreen tree' 'fish' 'evergreen tree' 'deer']\n",
              "183                                                                      ['soccer ball']\n",
              "Name: emoji_text, dtype: object"
            ]
          },
          "metadata": {},
          "execution_count": 55
        }
      ]
    },
    {
      "cell_type": "code",
      "source": [
        "emoji_test['emoji_flagUS'] = emoji_test.emoji_text.apply(lambda x: 1 if re.findall('flag: United States',x) else 0)\n",
        "emoji_test['emoji_police'] = emoji_test.emoji_text.apply(lambda x: 1 if re.findall('police car light',x) else 0)\n",
        "emoji_test['emoji_check']= emoji_test.emoji_text.apply(lambda x: 1 if re.findall('check mark',x) else 0)\n",
        "emoji_test['emoji_exclamation'] = emoji_test.emoji_text.apply(lambda x: 1 if re.findall('double exclamation mark',x) else 0)  \n",
        "emoji_test['emoji_fist'] = emoji_test.emoji_text.apply(lambda x: 1 if re.findall('raised fist',x) else 0)  \n",
        "emoji_test['emoji_collision'] = emoji_test.emoji_text.apply(lambda x: 1 if re.findall('collision',x) else 0) \n",
        "emoji_test['emoji_prohibited'] = emoji_test.emoji_text.apply(lambda x: 1 if re.findall('prohibited',x) else 0) "
      ],
      "metadata": {
        "id": "xF-an7vjJR1_"
      },
      "execution_count": null,
      "outputs": []
    },
    {
      "cell_type": "code",
      "source": [
        "emoji_test['emoji_troll']=emoji_test.emoji_text.apply(lambda x: 1 if re.findall('flag: United States',x) \n",
        "or re.findall('police car light',x)\n",
        "or re.findall('check mark',x)\n",
        "or re.findall('double exclamation mark',x)\n",
        "or re.findall('raised fist',x) \n",
        "or re.findall('collision',x)\n",
        "or re.findall('prohibited',x) else 0)"
      ],
      "metadata": {
        "id": "RJ-cIdj5Y_Ug"
      },
      "execution_count": null,
      "outputs": []
    },
    {
      "cell_type": "code",
      "source": [
        "emoji_test['emoji_troll2']= emoji_test.emoji_text.apply(lambda x: 1 if re.findall(r'flag: United States|check mark|police car light| double exclamation mark|raised fist|collision|prohibited', x) else 0)"
      ],
      "metadata": {
        "id": "dWNvscXHaAu7"
      },
      "execution_count": null,
      "outputs": []
    },
    {
      "cell_type": "code",
      "source": [
        "emoji_test['emoji_troll2']"
      ],
      "metadata": {
        "colab": {
          "base_uri": "https://localhost:8080/"
        },
        "id": "9vujPn9UZHpN",
        "outputId": "2b845eab-169d-48cc-c268-8120d8cad6ef"
      },
      "execution_count": null,
      "outputs": [
        {
          "output_type": "execute_result",
          "data": {
            "text/plain": [
              "24     0\n",
              "48     0\n",
              "79     0\n",
              "94     0\n",
              "106    1\n",
              "112    0\n",
              "113    1\n",
              "165    0\n",
              "173    0\n",
              "183    0\n",
              "Name: emoji_troll2, dtype: int64"
            ]
          },
          "metadata": {},
          "execution_count": 73
        }
      ]
    },
    {
      "cell_type": "markdown",
      "source": [
        "#### Pre-process Emojis Sub-sampled dataset"
      ],
      "metadata": {
        "id": "jPgrFXaVGCBw"
      }
    },
    {
      "cell_type": "code",
      "source": [
        "troll_emojis= ['flag: United States','police car light','check mark','double exclamation mark','raised fist','collision','prohibited']"
      ],
      "metadata": {
        "id": "S7VgZGLgGDtc"
      },
      "execution_count": null,
      "outputs": []
    },
    {
      "cell_type": "code",
      "source": [
        "data['emoji_flagUS'] = data.emoji_text.apply(lambda x: 1 if re.findall('flag: United States',x) else 0)\n",
        "data['emoji_police'] = data.emoji_text.apply(lambda x: 1 if re.findall('police car light',x) else 0)\n",
        "data['emoji_check']= data.emoji_text.apply(lambda x: 1 if re.findall('check mark',x) else 0)\n",
        "data['emoji_exclamation'] = data.emoji_text.apply(lambda x: 1 if re.findall('double exclamation mark',x) else 0)  \n",
        "data['emoji_fist'] = data.emoji_text.apply(lambda x: 1 if re.findall('raised fist',x) else 0)  \n",
        "data['emoji_collision'] = data.emoji_text.apply(lambda x: 1 if re.findall('collision',x) else 0) \n",
        "data['emoji_prohibited'] = data.emoji_text.apply(lambda x: 1 if re.findall('prohibited',x) else 0) "
      ],
      "metadata": {
        "id": "sTrW7QwkS2-r"
      },
      "execution_count": null,
      "outputs": []
    },
    {
      "cell_type": "code",
      "source": [
        "#validate\n",
        "data['emoji_flagUS'].value_counts()\n",
        "data['emoji_check'].value_counts()\n",
        "data['emoji_exclamation'].value_counts()\n",
        "data['emoji_fist'].value_counts()\n",
        "data['emoji_prohibited'].value_counts()\n",
        "data['emoji_police'].value_counts()\n",
        "data['emoji_collision'].value_counts()"
      ],
      "metadata": {
        "colab": {
          "base_uri": "https://localhost:8080/"
        },
        "id": "9GuCxxVOTxXf",
        "outputId": "3a257b51-5a59-4be9-869e-e5454db65015"
      },
      "execution_count": null,
      "outputs": [
        {
          "output_type": "execute_result",
          "data": {
            "text/plain": [
              "0    362190\n",
              "1       124\n",
              "Name: emoji_collision, dtype: int64"
            ]
          },
          "metadata": {},
          "execution_count": 22
        }
      ]
    },
    {
      "cell_type": "code",
      "source": [
        "#export to parquet file\n",
        "import pyarrow\n",
        "parq_path = '/content/gdrive/MyDrive/Grad School/DSCI592/data/data_sample_ten_percent_emojis.parquet.gz'\n",
        "data.to_parquet(parq_path, engine='pyarrow', index=False, compression='gzip')"
      ],
      "metadata": {
        "id": "iubLua9mTMbm"
      },
      "execution_count": null,
      "outputs": []
    },
    {
      "cell_type": "markdown",
      "source": [
        "#### 3a - Binary Emoji Features Pre-process emojis on entire dataset"
      ],
      "metadata": {
        "id": "hpeoYYe0UdaD"
      }
    },
    {
      "cell_type": "code",
      "source": [
        "#Convert emoji_text to string object in order to use regex\n",
        "df['emoji_text']=df['emoji_text'].astype(str)\n",
        "df.dtypes"
      ],
      "metadata": {
        "colab": {
          "base_uri": "https://localhost:8080/"
        },
        "id": "vj8JHOBpUnyv",
        "outputId": "d20ae4bb-8901-471e-87ce-c1c3b4e5e56f"
      },
      "execution_count": 7,
      "outputs": [
        {
          "output_type": "execute_result",
          "data": {
            "text/plain": [
              "external_author_id                 string\n",
              "author                             string\n",
              "content                            string\n",
              "region                             string\n",
              "language                         category\n",
              "following                          uint64\n",
              "followers                          uint64\n",
              "updates                            uint64\n",
              "post_type                        category\n",
              "is_retweet                        float64\n",
              "account_category                 category\n",
              "tweet_id                           string\n",
              "tco1_step1                         string\n",
              "data_source                      category\n",
              "has_url                             int64\n",
              "emoji_text                         object\n",
              "emoji_count                         int64\n",
              "publish_date          datetime64[ns, UTC]\n",
              "class                            category\n",
              "following_ratio                   float64\n",
              "class_numeric                        int8\n",
              "RUS_lett_count                      int64\n",
              "dtype: object"
            ]
          },
          "metadata": {},
          "execution_count": 7
        }
      ]
    },
    {
      "cell_type": "code",
      "source": [
        "#validate string\n",
        "df[df['emoji_count']>0]['emoji_text'][:3]\n"
      ],
      "metadata": {
        "colab": {
          "base_uri": "https://localhost:8080/"
        },
        "id": "Yu7KU48AU6kB",
        "outputId": "3784d03e-2071-4c01-8b3f-5ae1209b3365"
      },
      "execution_count": 8,
      "outputs": [
        {
          "output_type": "execute_result",
          "data": {
            "text/plain": [
              "4                ['flag: United States']\n",
              "6     ['honeybee' 'honeybee' 'honeybee']\n",
              "16             ['red heart' 'red heart']\n",
              "Name: emoji_text, dtype: object"
            ]
          },
          "metadata": {},
          "execution_count": 8
        }
      ]
    },
    {
      "cell_type": "code",
      "source": [
        "df['emoji_flagUS'] = df.emoji_text.apply(lambda x: 1 if re.findall('flag: United States',x) else 0)\n",
        "df['emoji_police'] = df.emoji_text.apply(lambda x: 1 if re.findall('police car light',x) else 0)\n",
        "df['emoji_check']= df.emoji_text.apply(lambda x: 1 if re.findall('check mark',x) else 0)\n",
        "df['emoji_exclamation'] = df.emoji_text.apply(lambda x: 1 if re.findall('double exclamation mark',x) else 0)  \n",
        "df['emoji_fist'] = df.emoji_text.apply(lambda x: 1 if re.findall('raised fist',x) else 0)  \n",
        "df['emoji_collision'] = df.emoji_text.apply(lambda x: 1 if re.findall('collision',x) else 0) \n",
        "df['emoji_prohibited'] = df.emoji_text.apply(lambda x: 1 if re.findall('prohibited',x) else 0) "
      ],
      "metadata": {
        "id": "71QgH6i5UdKn"
      },
      "execution_count": 9,
      "outputs": []
    },
    {
      "cell_type": "code",
      "source": [
        "#additional emojis were decided to be encoded based on entire dataset emoji frequency\n",
        "df['emoji_loudcryface'] = df.emoji_text.apply(lambda x: 1 if re.findall('loudly crying face',x) else 0)\n",
        "df['emoji_smilinghearteye'] = df.emoji_text.apply(lambda  x: 1 if re.findall('smiling face with heart eyes',x) else 0)\n",
        "df['emoji_fire'] = df.emoji_text.apply(lambda x: 1 if re.findall('fire',x) else 0)\n",
        "df['emoji_redheart']= df.emoji_text.apply(lambda x: 1 if re.findall('red heart',x) else 0)\n",
        "df['emoji_tearsjoy'] = df.emoji_text.apply(lambda  x: 1 if re.findall('face with tears of joy',x) else 0)\n",
        "df['emoji_thumbsup'] = df.emoji_text.apply(lambda  x: 1 if re.findall('thumbs up',x) else 0)\n",
        "df['emoji_claphands'] = df.emoji_text.apply(lambda  x: 1 if re.findall('clapping hands',x) else 0)\n",
        "df['emoji_blowingkiss'] = df.emoji_text.apply(lambda  x: 1 if re.findall('face blowing a kiss',x) else 0)\n",
        "df['emoji_partypop'] = df.emoji_text.apply(lambda  x: 1 if re.findall('party popper',x) else 0)\n",
        "df['emoji_raisehands'] = df.emoji_text.apply(lambda  x: 1 if re.findall('raising hands',x) else 0)"
      ],
      "metadata": {
        "id": "kwscgYG6Q1EC"
      },
      "execution_count": 10,
      "outputs": []
    },
    {
      "cell_type": "code",
      "source": [
        "#Export as 03_eda_w_emojis\n",
        "parq_path = '/content/gdrive/MyDrive/Grad School/DSCI592/data/data_after_03_eda_emojis.parquet.gz'\n",
        "df.to_parquet(parq_path, engine='pyarrow', index=False, compression='gzip')"
      ],
      "metadata": {
        "id": "ltIXX94DU2LE"
      },
      "execution_count": 14,
      "outputs": []
    },
    {
      "cell_type": "markdown",
      "source": [
        "#### Import df2 with emoji encoding part 1"
      ],
      "metadata": {
        "id": "3UJRpGJVlOMO"
      }
    },
    {
      "cell_type": "code",
      "source": [
        "#import\n",
        "#df with emoji binary encoding\n",
        "df2 =pd.read_parquet(file_folder +'data_after_03_eda_emojis.parquet.gz')"
      ],
      "metadata": {
        "id": "UwbQ6t40XbKi"
      },
      "execution_count": 15,
      "outputs": []
    },
    {
      "cell_type": "code",
      "source": [
        "#validate\n",
        "print('\\n emoji_flagUS \\n',df2['emoji_flagUS'].value_counts(),\n",
        "'\\n emoji_check \\n',df2['emoji_check'].value_counts(),\n",
        "'\\n emoji_exclamation \\n',df2['emoji_exclamation'].value_counts(),\n",
        "'\\n emoji_fist \\n',df2['emoji_fist'].value_counts(),\n",
        "'\\n emoji_prohibited \\n', df2['emoji_prohibited'].value_counts(), \n",
        "'\\n emoji_police \\n', df2['emoji_police'].value_counts(), \n",
        " '\\n emoji_collision \\n', df2['emoji_collision'].value_counts())"
      ],
      "metadata": {
        "colab": {
          "base_uri": "https://localhost:8080/"
        },
        "id": "dwZbXoSWVwiP",
        "outputId": "9c35ce2f-c5a8-4c2e-daf9-3803f7d6f5b9"
      },
      "execution_count": null,
      "outputs": [
        {
          "output_type": "stream",
          "name": "stdout",
          "text": [
            "\n",
            " emoji_flagUS \n",
            " 0    3619887\n",
            "1       5007\n",
            "Name: emoji_flagUS, dtype: int64 \n",
            " emoji_check \n",
            " 0    3622092\n",
            "1       2802\n",
            "Name: emoji_check, dtype: int64 \n",
            " emoji_exclamation \n",
            " 0    3622609\n",
            "1       2285\n",
            "Name: emoji_exclamation, dtype: int64 \n",
            " emoji_fist \n",
            " 0    3622107\n",
            "1       2787\n",
            "Name: emoji_fist, dtype: int64 \n",
            " emoji_prohibited \n",
            " 0    3624402\n",
            "1        492\n",
            "Name: emoji_prohibited, dtype: int64 \n",
            " emoji_police \n",
            " 0    3622651\n",
            "1       2243\n",
            "Name: emoji_police, dtype: int64 \n",
            " emoji_collision \n",
            " 0    3623611\n",
            "1       1283\n",
            "Name: emoji_collision, dtype: int64\n"
          ]
        }
      ]
    },
    {
      "cell_type": "code",
      "source": [
        "df2.groupby(['emoji_flagUS'])['class'].value_counts()\n"
      ],
      "metadata": {
        "colab": {
          "base_uri": "https://localhost:8080/"
        },
        "id": "8MHdkUttLued",
        "outputId": "2b19d614-d980-4527-d9d4-b0549f4f02e6"
      },
      "execution_count": 21,
      "outputs": [
        {
          "output_type": "execute_result",
          "data": {
            "text/plain": [
              "emoji_flagUS          \n",
              "0             Troll       2112803\n",
              "              Verified    1507084\n",
              "1             Troll          4063\n",
              "              Verified        944\n",
              "Name: class, dtype: int64"
            ]
          },
          "metadata": {},
          "execution_count": 21
        }
      ]
    },
    {
      "cell_type": "code",
      "source": [
        "#df2.groupby(['class'])['emoji_count'].value_counts().median()\n",
        "more_emojis= df2[df2['emoji_count']<5]\n",
        "#more_emojis.groupby(['class']).count()\n",
        "emoji_test_flag = df2.loc[(df2['emoji_count']<5) & (df2['emoji_flagUS']==1)]\n"
      ],
      "metadata": {
        "id": "Wn-9O9LuO6as"
      },
      "execution_count": null,
      "outputs": []
    },
    {
      "cell_type": "code",
      "source": [
        "emoji_test_flag['class'].value_counts()"
      ],
      "metadata": {
        "colab": {
          "base_uri": "https://localhost:8080/"
        },
        "id": "zL37uMVjRkY3",
        "outputId": "d2b2c468-09d6-4835-fa87-18bab4a564f2"
      },
      "execution_count": null,
      "outputs": [
        {
          "output_type": "execute_result",
          "data": {
            "text/plain": [
              "Troll       3237\n",
              "Verified     859\n",
              "Name: class, dtype: int64"
            ]
          },
          "metadata": {},
          "execution_count": 51
        }
      ]
    },
    {
      "cell_type": "code",
      "source": [
        "df2['emoji_count'].value_counts().nlargest(10).plot()"
      ],
      "metadata": {
        "colab": {
          "base_uri": "https://localhost:8080/",
          "height": 294
        },
        "id": "ZlplzH7XM1Qx",
        "outputId": "d54dcbcb-d673-4804-e644-9955ff287eb4"
      },
      "execution_count": null,
      "outputs": [
        {
          "output_type": "execute_result",
          "data": {
            "text/plain": [
              "<matplotlib.axes._subplots.AxesSubplot at 0x7f987e558cd0>"
            ]
          },
          "metadata": {},
          "execution_count": 26
        },
        {
          "output_type": "display_data",
          "data": {
            "text/plain": [
              "<Figure size 432x288 with 1 Axes>"
            ],
            "image/png": "[encoded data removed]"
          },
          "metadata": {
            "needs_background": "light"
          }
        }
      ]
    },
    {
      "cell_type": "markdown",
      "source": [
        "### 3b - Composite feature for emojis\n",
        "Using the previously built emoji features, create a composite column that identifies if any of the previous emoji columns have a 1 then 1."
      ],
      "metadata": {
        "id": "B5ZqqDs0XfRo"
      }
    },
    {
      "cell_type": "code",
      "source": [
        "#re-run this cell without white space before 'double'!\n",
        "df2['emoji_troll']= df2.emoji_text.apply(lambda x: 1 if re.findall(r'flag: United States|check mark|police car light|double exclamation mark|raised fist|collision|prohibited', x) else 0)"
      ],
      "metadata": {
        "id": "IMr2RiXWZ5QT"
      },
      "execution_count": 22,
      "outputs": []
    },
    {
      "cell_type": "code",
      "source": [
        "#before typo fixed\n",
        "df2.groupby(['class'])['emoji_troll'].value_counts()"
      ],
      "metadata": {
        "colab": {
          "base_uri": "https://localhost:8080/"
        },
        "id": "pt3vz7GLbWHD",
        "outputId": "944abe4f-de14-4eb1-d6e0-984204098080"
      },
      "execution_count": null,
      "outputs": [
        {
          "output_type": "execute_result",
          "data": {
            "text/plain": [
              "class     emoji_troll\n",
              "Troll     0              2105581\n",
              "          1                11285\n",
              "Verified  0              1505248\n",
              "          1                 2780\n",
              "Name: emoji_troll, dtype: int64"
            ]
          },
          "metadata": {},
          "execution_count": 89
        }
      ]
    },
    {
      "cell_type": "code",
      "source": [
        "df2.groupby(['class'])['emoji_troll'].value_counts()"
      ],
      "metadata": {
        "colab": {
          "base_uri": "https://localhost:8080/"
        },
        "id": "RO4rMSp8Y5pL",
        "outputId": "fe523fa4-37bd-4083-9c8f-09b2a6198552"
      },
      "execution_count": 23,
      "outputs": [
        {
          "output_type": "execute_result",
          "data": {
            "text/plain": [
              "class     emoji_troll\n",
              "Troll     0              2103823\n",
              "          1                13043\n",
              "Verified  0              1505019\n",
              "          1                 3009\n",
              "Name: emoji_troll, dtype: int64"
            ]
          },
          "metadata": {},
          "execution_count": 23
        }
      ]
    },
    {
      "cell_type": "code",
      "source": [
        "#Export as 03_eda_w_emojis2\n",
        "parq_path = '/content/gdrive/MyDrive/Grad School/DSCI592/data/data_after_03_eda_emojis2.parquet.gz'\n",
        "df2.to_parquet(parq_path, engine='pyarrow', index=False, compression='gzip')"
      ],
      "metadata": {
        "id": "fyVmlUhMcTHe"
      },
      "execution_count": 24,
      "outputs": []
    },
    {
      "cell_type": "markdown",
      "source": [
        "#### Import df3 with both emoji encodings"
      ],
      "metadata": {
        "id": "t9yITFcynr85"
      }
    },
    {
      "cell_type": "code",
      "source": [
        "#import\n",
        "#df with emoji binary encoding and composite column\n",
        "df3 = pd.read_parquet(file_folder +'data_after_03_eda_emojis2.parquet.gz')"
      ],
      "metadata": {
        "id": "4kAiN_laYNPS"
      },
      "execution_count": 7,
      "outputs": []
    },
    {
      "cell_type": "markdown",
      "source": [
        "### 3c - Region\n",
        "Breaking out region into a binary category for Unknown location. Imputing nulls as Unknown. If null or unknown then 1 else 0."
      ],
      "metadata": {
        "id": "AJWOFKl-fR1H"
      }
    },
    {
      "cell_type": "code",
      "source": [
        "#fill na with \"Unknown\"\n",
        "df3['region'] = df3['region'].fillna('Unknown')"
      ],
      "metadata": {
        "id": "t_PyCyrTfM0-"
      },
      "execution_count": 8,
      "outputs": []
    },
    {
      "cell_type": "code",
      "source": [
        "df3['region'].value_counts()"
      ],
      "metadata": {
        "colab": {
          "base_uri": "https://localhost:8080/"
        },
        "id": "FqwKgI2Wif_u",
        "outputId": "703fcd96-dd0d-43a8-99c1-8bf9ca22377c"
      },
      "execution_count": 9,
      "outputs": [
        {
          "output_type": "execute_result",
          "data": {
            "text/plain": [
              "United States                     1906588\n",
              "Unknown                            421147\n",
              "Washington, DC                      95828\n",
              "New York, NY                        67175\n",
              "United Kingdom                      26881\n",
              "                                   ...   \n",
              "Stade Jean-Bouin, Paris                 1\n",
              "Bergen County, New Jersey, USA          1\n",
              "Fort Smith, AR                          1\n",
              "BOS, MA ➡️ DSM, IA ➡️ TPA, FL           1\n",
              "Dijon, France                           1\n",
              "Name: region, Length: 35446, dtype: Int64"
            ]
          },
          "metadata": {},
          "execution_count": 9
        }
      ]
    },
    {
      "cell_type": "code",
      "source": [
        "#examine class ratios of Unknown region\n",
        "df_unknown= df3.loc[df3['region'] =='Unknown',['class']]\n",
        "df_unknown['class'].value_counts()"
      ],
      "metadata": {
        "colab": {
          "base_uri": "https://localhost:8080/"
        },
        "id": "Zq36FoZNlxNM",
        "outputId": "68b1f6e0-b86a-458e-cf48-449a260ee9ab"
      },
      "execution_count": 10,
      "outputs": [
        {
          "output_type": "execute_result",
          "data": {
            "text/plain": [
              "Troll       242089\n",
              "Verified    179058\n",
              "Name: class, dtype: int64"
            ]
          },
          "metadata": {},
          "execution_count": 10
        }
      ]
    },
    {
      "cell_type": "code",
      "source": [
        "#create new feature 'unknown_location' using 1 if region = 'Unknown' else 0\n",
        "df3['unknown_location']= df3['region'].apply(lambda x: 1 if x =='Unknown' else 0)\n",
        "df3['unknown_location'].value_counts()"
      ],
      "metadata": {
        "colab": {
          "base_uri": "https://localhost:8080/"
        },
        "id": "iUqvhBGWm3Eo",
        "outputId": "35901529-ceb8-43c2-fbab-2add293622ad"
      },
      "execution_count": 11,
      "outputs": [
        {
          "output_type": "execute_result",
          "data": {
            "text/plain": [
              "0    3203747\n",
              "1     421147\n",
              "Name: unknown_location, dtype: int64"
            ]
          },
          "metadata": {},
          "execution_count": 11
        }
      ]
    },
    {
      "cell_type": "markdown",
      "source": [
        "### 3d - Multi_Author: \n",
        "Users that have multiple `Author` entries (i.e. usernames) for each `External_author_id` field essentially have changed their usernames on a single account. If a user has > 1 author name the binary feature will be positive (1) else 0.\n"
      ],
      "metadata": {
        "id": "YBC-f9V_2JKn"
      }
    },
    {
      "cell_type": "code",
      "source": [
        "print('Unique author names:',df3['author'].nunique())\n",
        "print('Unique author ID#:', df3['external_author_id'].nunique())\n"
      ],
      "metadata": {
        "colab": {
          "base_uri": "https://localhost:8080/"
        },
        "id": "cpfk9YkvqoTc",
        "outputId": "4a2c437c-c322-442c-8024-b0a8c0b0fefa"
      },
      "execution_count": 12,
      "outputs": [
        {
          "output_type": "stream",
          "name": "stdout",
          "text": [
            "Unique author names: 142270\n",
            "Unique author ID#: 141959\n"
          ]
        }
      ]
    },
    {
      "cell_type": "code",
      "source": [
        "#Extract the authors with > 1 author name per external author id\n",
        "multi= df3.groupby('external_author_id')['author'].nunique().nlargest(42)\n",
        "print(multi)\n",
        "multi_authors = multi.index\n",
        "print(len(multi_authors))"
      ],
      "metadata": {
        "colab": {
          "base_uri": "https://localhost:8080/"
        },
        "id": "pEwro8hFZWfs",
        "outputId": "6193caa5-08b0-4a9a-f728-4ec8aa9570b3"
      },
      "execution_count": 13,
      "outputs": [
        {
          "output_type": "stream",
          "name": "stdout",
          "text": [
            "external_author_id\n",
            "889000000000000000    59\n",
            "895000000000000000    42\n",
            "753000000000000000    27\n",
            "890000000000000000    21\n",
            "868000000000000000    19\n",
            "898000000000000000    17\n",
            "751000000000000000    16\n",
            "892000000000000000    16\n",
            "891000000000000000    14\n",
            "866000000000000000    13\n",
            "867000000000000000    13\n",
            "844000000000000000     9\n",
            "843000000000000000     7\n",
            "871000000000000000     7\n",
            "893000000000000000     7\n",
            "854000000000000000     6\n",
            "837000000000000000     5\n",
            "838000000000000000     5\n",
            "839000000000000000     5\n",
            "731000000000000000     4\n",
            "750000000000000000     3\n",
            "802000000000000000     3\n",
            "816000000000000000     3\n",
            "853000000000000000     3\n",
            "865000000000000000     3\n",
            "870000000000000000     3\n",
            "901000000000000000     3\n",
            "2753146444             2\n",
            "2912754262             2\n",
            "4224912857             2\n",
            "44278933               2\n",
            "703000000000000000     2\n",
            "704000000000000000     2\n",
            "719000000000000000     2\n",
            "762000000000000000     2\n",
            "804000000000000000     2\n",
            "831000000000000000     2\n",
            "846000000000000000     2\n",
            "888000000000000000     2\n",
            "902000000000000000     2\n",
            "904000000000000000     2\n",
            "906000000000000000     2\n",
            "Name: author, dtype: int64\n",
            "42\n"
          ]
        }
      ]
    },
    {
      "cell_type": "code",
      "source": [
        "#show user with most author names\n",
        "df3[df3['external_author_id']=='889000000000000000']['author'].unique()"
      ],
      "metadata": {
        "colab": {
          "base_uri": "https://localhost:8080/"
        },
        "id": "Nxk-MRm8xehN",
        "outputId": "9d101400-5d84-4c71-937b-34c592ebc5e0"
      },
      "execution_count": null,
      "outputs": [
        {
          "output_type": "execute_result",
          "data": {
            "text/plain": [
              "<StringArray>\n",
              "[     'ABBYLOPTRT',     'ABISADMASST',      'ADALESTRTM',    'ADELIINESTRT',\n",
              "      'ADELISTRTT',       'ADLEESTTT',       'ADLEESWOD',      'AGNESMLTRT',\n",
              "      'AGNESSTRYT',       'ALAXXATRT',    'ALBELITATRTS',     'ALEMICHLESS',\n",
              "      'ALESISTRTT',       'AMBAASTRT',      'AMBBERTHTT',        'AMYYSSTS',\n",
              "      'ANEELSSTRT',     'APRIILDTRUT',    'RACHLEESTRMT',      'REBEESLYSS',\n",
              "       'RELIISTRT',       'SAVAJENAT',    'SCARLEESTRUT', 'SCARLETTHOWAR15',\n",
              "       'SEREESSTT',      'SKYYLASRRT',      'TAYYSSTRUT',       'THAASLITT',\n",
              "       'TRINITTXS',      'VIOLAASTRT',       'AVEERTEST',         'BAAILST',\n",
              "       'BAMBISMUT',     'BEELLASTRTT',       'BONIIISTP',      'BROOZLEETR',\n",
              "       'CARREDTRT',     'CHHOLESSSTR',      'CHISTISSST',       'DANNIILST',\n",
              "       'ELLISSTRT',     'EMILLLYSTRU',       'EVASSLTRT',       'HARERETRT',\n",
              "      'HAYDELYYST',       'JAAMISSTR',       'KAYYLYSST',       'LAREELIZT',\n",
              "        'LILYYTYY',       'LOSSDAYTR',      'LUSCBELYST',      'MADIADATRT',\n",
              " 'MAKAYLABUTLER13',    'MANDDSYSGOSS',    'MARLENIZZTRT',     'MORRGASSSTR',\n",
              "        'NATTATRT',       'PARKISALN',       'PIPERTRTR']\n",
              "Length: 59, dtype: string"
            ]
          },
          "metadata": {},
          "execution_count": 123
        }
      ]
    },
    {
      "cell_type": "code",
      "source": [
        "#save as pandas dataframe and export as csv\n",
        "multi_author_df = pd.DataFrame(multi_authors, columns=['ID'])\n",
        "multi_author_df.to_csv('/content/gdrive/MyDrive/Grad School/DSCI592/data/multi_author_df.csv', index=False)"
      ],
      "metadata": {
        "id": "aYFm7ha46Tom"
      },
      "execution_count": 14,
      "outputs": []
    },
    {
      "cell_type": "code",
      "source": [
        "#create new feature column that represents if user has multi usernames (1) else 0\n",
        "df3['multi_authors']= df3['external_author_id'].apply(lambda x: 1 if x in multi_authors else 0 )"
      ],
      "metadata": {
        "id": "1YPGg6-dv4Zw"
      },
      "execution_count": 15,
      "outputs": []
    },
    {
      "cell_type": "code",
      "source": [
        "df3['multi_authors'].value_counts()"
      ],
      "metadata": {
        "colab": {
          "base_uri": "https://localhost:8080/"
        },
        "id": "AaXh3bCJfsoo",
        "outputId": "550d66cd-f074-4d30-d118-d6f5fb96707e"
      },
      "execution_count": null,
      "outputs": [
        {
          "output_type": "execute_result",
          "data": {
            "text/plain": [
              "0    3346597\n",
              "1     278297\n",
              "Name: multi_authors, dtype: int64"
            ]
          },
          "metadata": {},
          "execution_count": 60
        }
      ]
    },
    {
      "cell_type": "code",
      "source": [
        "df3.groupby('class')['multi_authors'].value_counts()"
      ],
      "metadata": {
        "colab": {
          "base_uri": "https://localhost:8080/"
        },
        "id": "iFIMUJDwW_Sa",
        "outputId": "064870ef-71ec-4803-bfe5-5c2ad35f56e6"
      },
      "execution_count": 17,
      "outputs": [
        {
          "output_type": "execute_result",
          "data": {
            "text/plain": [
              "class     multi_authors\n",
              "Troll     0                1838572\n",
              "          1                 278294\n",
              "Verified  0                1508025\n",
              "          1                      3\n",
              "Name: multi_authors, dtype: int64"
            ]
          },
          "metadata": {},
          "execution_count": 17
        }
      ]
    },
    {
      "cell_type": "code",
      "source": [
        "df3[df3['external_author_id']=='44278933']['author'].value_counts()"
      ],
      "metadata": {
        "colab": {
          "base_uri": "https://localhost:8080/"
        },
        "id": "3Y_t4oerXiLx",
        "outputId": "e9ef80e0-ea8b-4fa9-e182-e5663adf678e"
      },
      "execution_count": null,
      "outputs": [
        {
          "output_type": "execute_result",
          "data": {
            "text/plain": [
              "theon9citizen    2\n",
              "tocsg            1\n",
              "Name: author, dtype: Int64"
            ]
          },
          "metadata": {},
          "execution_count": 66
        }
      ]
    },
    {
      "cell_type": "code",
      "source": [
        "#Export as 06_data_engineered1\n",
        "parq_path = '/content/gdrive/MyDrive/Grad School/DSCI592/data/06data_engineered_all.parquet.gz'\n",
        "df3.to_parquet(parq_path, engine='pyarrow', index=False, compression='gzip')"
      ],
      "metadata": {
        "id": "WZXVl_qjBvdZ"
      },
      "execution_count": 18,
      "outputs": []
    },
    {
      "cell_type": "markdown",
      "source": [
        "### 3e - Tweet Context: Quantifiable Text Features"
      ],
      "metadata": {
        "id": "qOVY0B3xz_ML"
      }
    },
    {
      "cell_type": "code",
      "source": [
        "from string import punctuation, whitespace\n",
        "import warnings\n",
        "warnings.filterwarnings(\"ignore\")\n",
        "!pip install ftfy\n",
        "import ftfy\n",
        "from sklearn.utils import shuffle\n",
        "import gc\n",
        "import matplotlib.pyplot as plt\n",
        "!pip install multiprocess\n",
        "import multiprocess as mp\n",
        "from sklearn.feature_selection import mutual_info_classif"
      ],
      "metadata": {
        "colab": {
          "base_uri": "https://localhost:8080/"
        },
        "id": "Flj290WT0tZx",
        "outputId": "851ed876-fe5f-4e85-bcc1-d4e5ab1d65a8"
      },
      "execution_count": 7,
      "outputs": [
        {
          "output_type": "stream",
          "name": "stdout",
          "text": [
            "Looking in indexes: https://pypi.org/simple, https://us-python.pkg.dev/colab-wheels/public/simple/\n",
            "Requirement already satisfied: ftfy in /usr/local/lib/python3.8/dist-packages (6.1.1)\n",
            "Requirement already satisfied: wcwidth>=0.2.5 in /usr/local/lib/python3.8/dist-packages (from ftfy) (0.2.6)\n",
            "Looking in indexes: https://pypi.org/simple, https://us-python.pkg.dev/colab-wheels/public/simple/\n",
            "Collecting multiprocess\n",
            "  Downloading multiprocess-0.70.14-py38-none-any.whl (132 kB)\n",
            "\u001b[2K     \u001b[90m━━━━━━━━━━━━━━━━━━━━━━━━━━━━━━━━━━━━━━━\u001b[0m \u001b[32m132.0/132.0 KB\u001b[0m \u001b[31m4.2 MB/s\u001b[0m eta \u001b[36m0:00:00\u001b[0m\n",
            "\u001b[?25hRequirement already satisfied: dill>=0.3.6 in /usr/local/lib/python3.8/dist-packages (from multiprocess) (0.3.6)\n",
            "Installing collected packages: multiprocess\n",
            "Successfully installed multiprocess-0.70.14\n"
          ]
        }
      ]
    },
    {
      "cell_type": "code",
      "source": [
        "#load previous df3\n",
        "df3 = pd.read_parquet('/content/gdrive/MyDrive/Grad School/DSCI592/data/06data_engineered_all.parquet.gz')"
      ],
      "metadata": {
        "id": "p871yD0O0aFm"
      },
      "execution_count": 5,
      "outputs": []
    },
    {
      "cell_type": "markdown",
      "source": [
        "#### 3e- 1: Use of Dashes"
      ],
      "metadata": {
        "id": "0uZzYt4A1jfo"
      }
    },
    {
      "cell_type": "code",
      "source": [
        "test_df3 = df3.groupby('class', group_keys=False).apply(lambda x: x.sample(5, random_state = 42))"
      ],
      "metadata": {
        "id": "E3-usYVF7j3-"
      },
      "execution_count": 16,
      "outputs": []
    },
    {
      "cell_type": "code",
      "source": [
        "test_df3[['content','author','class','is_retweet','post_type']]"
      ],
      "metadata": {
        "colab": {
          "base_uri": "https://localhost:8080/",
          "height": 772
        },
        "id": "S5yTdLzG7_eL",
        "outputId": "08242907-1d3d-48ba-e57f-3dc4396cc0e9"
      },
      "execution_count": 20,
      "outputs": [
        {
          "output_type": "execute_result",
          "data": {
            "text/plain": [
              "                                                                                                                                     content  \\\n",
              "1647686                 Trump DOJ Ignores Deadline, Says It Needs More Time To Find Nonexistent Wiretapping Evidence https://t.co/Pj1gy4uEZ5   \n",
              "1084378                       Obama staffer @JonFavs spent 4 years in the White House after posting this on Facebook https://t.co/pwhuFLaN3K   \n",
              "375591                                                      EU envoy blasts EU’s ‘lack of vision’ on migration https://t.co/8ingIVWvNr #news   \n",
              "554657                White supremacist wanted to recruit racists for Times Square slaughter https://t.co/tn3s3Hryka https://t.co/MuUY2THF4a   \n",
              "301777                                                       Spurs’ Leonard back at practice https://t.co/YdaMIyoQzS https://t.co/UKEPCIar0q   \n",
              "2138287           @wookiesncream Great question! Yes, candles of any size are allowed in your carry-on bags. Good to go in checked bags too!   \n",
              "3590320        RT @Braves: Dan Uggla puts the #Braves on the board with a bang. Check out this 3-run shot in the 7th: http://t.co/Q5ShWB5Bta   \n",
              "2765677                           @Orbit_MOUVAA it was an overkill smg he picked wrong class and didn't even kill with it so it's irrelevant   \n",
              "2503731  Without maternal mortality numbers, we lack a roadmap to prevent women from dying:  https://t.co/QsX4HNc8u5 https://t.co/z1ObzVTULF   \n",
              "3127369  RT @PPA_Live: Congrats to Pete Wootton of @DennisUK – winner of the PPA Great Leap Forward Award #PPAAwards https://t.co/AQZqwXa9ns   \n",
              "\n",
              "                  author     class  is_retweet   post_type  \n",
              "1647686        JASSSCOTT     Troll         1.0     RETWEET  \n",
              "1084378  COVFEFENATIONUS     Troll         1.0     RETWEET  \n",
              "375591      SEATTLE_POST     Troll         0.0         NaN  \n",
              "554657       TODAYNYCITY     Troll         0.0         NaN  \n",
              "301777    SANANTOTOPNEWS     Troll         0.0         NaN  \n",
              "2138287           AskTSA  Verified         0.0  replied_to  \n",
              "3590320     FOXNashville  Verified         1.0   retweeted  \n",
              "2765677          Hawqeh_  Verified         0.0  replied_to  \n",
              "2503731       propublica  Verified         0.0         NaN  \n",
              "3127369        PaulLomax  Verified         1.0   retweeted  "
            ],
            "text/html": [
              "\n",
              "  <div id=\"df-b48a4ebd-77f2-40a6-80cb-da55c61aff09\">\n",
              "    <div class=\"colab-df-container\">\n",
              "      <div>\n",
              "<style scoped>\n",
              "    .dataframe tbody tr th:only-of-type {\n",
              "        vertical-align: middle;\n",
              "    }\n",
              "\n",
              "    .dataframe tbody tr th {\n",
              "        vertical-align: top;\n",
              "    }\n",
              "\n",
              "    .dataframe thead th {\n",
              "        text-align: right;\n",
              "    }\n",
              "</style>\n",
              "<table border=\"1\" class=\"dataframe\">\n",
              "  <thead>\n",
              "    <tr style=\"text-align: right;\">\n",
              "      <th></th>\n",
              "      <th>content</th>\n",
              "      <th>author</th>\n",
              "      <th>class</th>\n",
              "      <th>is_retweet</th>\n",
              "      <th>post_type</th>\n",
              "    </tr>\n",
              "  </thead>\n",
              "  <tbody>\n",
              "    <tr>\n",
              "      <th>1647686</th>\n",
              "      <td>Trump DOJ Ignores Deadline, Says It Needs More Time To Find Nonexistent Wiretapping Evidence https://t.co/Pj1gy4uEZ5</td>\n",
              "      <td>JASSSCOTT</td>\n",
              "      <td>Troll</td>\n",
              "      <td>1.0</td>\n",
              "      <td>RETWEET</td>\n",
              "    </tr>\n",
              "    <tr>\n",
              "      <th>1084378</th>\n",
              "      <td>Obama staffer @JonFavs spent 4 years in the White House after posting this on Facebook https://t.co/pwhuFLaN3K</td>\n",
              "      <td>COVFEFENATIONUS</td>\n",
              "      <td>Troll</td>\n",
              "      <td>1.0</td>\n",
              "      <td>RETWEET</td>\n",
              "    </tr>\n",
              "    <tr>\n",
              "      <th>375591</th>\n",
              "      <td>EU envoy blasts EU’s ‘lack of vision’ on migration https://t.co/8ingIVWvNr #news</td>\n",
              "      <td>SEATTLE_POST</td>\n",
              "      <td>Troll</td>\n",
              "      <td>0.0</td>\n",
              "      <td>NaN</td>\n",
              "    </tr>\n",
              "    <tr>\n",
              "      <th>554657</th>\n",
              "      <td>White supremacist wanted to recruit racists for Times Square slaughter https://t.co/tn3s3Hryka https://t.co/MuUY2THF4a</td>\n",
              "      <td>TODAYNYCITY</td>\n",
              "      <td>Troll</td>\n",
              "      <td>0.0</td>\n",
              "      <td>NaN</td>\n",
              "    </tr>\n",
              "    <tr>\n",
              "      <th>301777</th>\n",
              "      <td>Spurs’ Leonard back at practice https://t.co/YdaMIyoQzS https://t.co/UKEPCIar0q</td>\n",
              "      <td>SANANTOTOPNEWS</td>\n",
              "      <td>Troll</td>\n",
              "      <td>0.0</td>\n",
              "      <td>NaN</td>\n",
              "    </tr>\n",
              "    <tr>\n",
              "      <th>2138287</th>\n",
              "      <td>@wookiesncream Great question! Yes, candles of any size are allowed in your carry-on bags. Good to go in checked bags too!</td>\n",
              "      <td>AskTSA</td>\n",
              "      <td>Verified</td>\n",
              "      <td>0.0</td>\n",
              "      <td>replied_to</td>\n",
              "    </tr>\n",
              "    <tr>\n",
              "      <th>3590320</th>\n",
              "      <td>RT @Braves: Dan Uggla puts the #Braves on the board with a bang. Check out this 3-run shot in the 7th: http://t.co/Q5ShWB5Bta</td>\n",
              "      <td>FOXNashville</td>\n",
              "      <td>Verified</td>\n",
              "      <td>1.0</td>\n",
              "      <td>retweeted</td>\n",
              "    </tr>\n",
              "    <tr>\n",
              "      <th>2765677</th>\n",
              "      <td>@Orbit_MOUVAA it was an overkill smg he picked wrong class and didn't even kill with it so it's irrelevant</td>\n",
              "      <td>Hawqeh_</td>\n",
              "      <td>Verified</td>\n",
              "      <td>0.0</td>\n",
              "      <td>replied_to</td>\n",
              "    </tr>\n",
              "    <tr>\n",
              "      <th>2503731</th>\n",
              "      <td>Without maternal mortality numbers, we lack a roadmap to prevent women from dying:  https://t.co/QsX4HNc8u5 https://t.co/z1ObzVTULF</td>\n",
              "      <td>propublica</td>\n",
              "      <td>Verified</td>\n",
              "      <td>0.0</td>\n",
              "      <td>NaN</td>\n",
              "    </tr>\n",
              "    <tr>\n",
              "      <th>3127369</th>\n",
              "      <td>RT @PPA_Live: Congrats to Pete Wootton of @DennisUK – winner of the PPA Great Leap Forward Award #PPAAwards https://t.co/AQZqwXa9ns</td>\n",
              "      <td>PaulLomax</td>\n",
              "      <td>Verified</td>\n",
              "      <td>1.0</td>\n",
              "      <td>retweeted</td>\n",
              "    </tr>\n",
              "  </tbody>\n",
              "</table>\n",
              "</div>\n",
              "      <button class=\"colab-df-convert\" onclick=\"convertToInteractive('df-b48a4ebd-77f2-40a6-80cb-da55c61aff09')\"\n",
              "              title=\"Convert this dataframe to an interactive table.\"\n",
              "              style=\"display:none;\">\n",
              "        \n",
              "  <svg xmlns=\"http://www.w3.org/2000/svg\" height=\"24px\"viewBox=\"0 0 24 24\"\n",
              "       width=\"24px\">\n",
              "    <path d=\"M0 0h24v24H0V0z\" fill=\"none\"/>\n",
              "    <path d=\"M18.56 5.44l.94 2.06.94-2.06 2.06-.94-2.06-.94-.94-2.06-.94 2.06-2.06.94zm-11 1L8.5 8.5l.94-2.06 2.06-.94-2.06-.94L8.5 2.5l-.94 2.06-2.06.94zm10 10l.94 2.06.94-2.06 2.06-.94-2.06-.94-.94-2.06-.94 2.06-2.06.94z\"/><path d=\"M17.41 7.96l-1.37-1.37c-.4-.4-.92-.59-1.43-.59-.52 0-1.04.2-1.43.59L10.3 9.45l-7.72 7.72c-.78.78-.78 2.05 0 2.83L4 21.41c.39.39.9.59 1.41.59.51 0 1.02-.2 1.41-.59l7.78-7.78 2.81-2.81c.8-.78.8-2.07 0-2.86zM5.41 20L4 18.59l7.72-7.72 1.47 1.35L5.41 20z\"/>\n",
              "  </svg>\n",
              "      </button>\n",
              "      \n",
              "  <style>\n",
              "    .colab-df-container {\n",
              "      display:flex;\n",
              "      flex-wrap:wrap;\n",
              "      gap: 12px;\n",
              "    }\n",
              "\n",
              "    .colab-df-convert {\n",
              "      background-color: #E8F0FE;\n",
              "      border: none;\n",
              "      border-radius: 50%;\n",
              "      cursor: pointer;\n",
              "      display: none;\n",
              "      fill: #1967D2;\n",
              "      height: 32px;\n",
              "      padding: 0 0 0 0;\n",
              "      width: 32px;\n",
              "    }\n",
              "\n",
              "    .colab-df-convert:hover {\n",
              "      background-color: #E2EBFA;\n",
              "      box-shadow: 0px 1px 2px rgba(60, 64, 67, 0.3), 0px 1px 3px 1px rgba(60, 64, 67, 0.15);\n",
              "      fill: #174EA6;\n",
              "    }\n",
              "\n",
              "    [theme=dark] .colab-df-convert {\n",
              "      background-color: #3B4455;\n",
              "      fill: #D2E3FC;\n",
              "    }\n",
              "\n",
              "    [theme=dark] .colab-df-convert:hover {\n",
              "      background-color: #434B5C;\n",
              "      box-shadow: 0px 1px 3px 1px rgba(0, 0, 0, 0.15);\n",
              "      filter: drop-shadow(0px 1px 2px rgba(0, 0, 0, 0.3));\n",
              "      fill: #FFFFFF;\n",
              "    }\n",
              "  </style>\n",
              "\n",
              "      <script>\n",
              "        const buttonEl =\n",
              "          document.querySelector('#df-b48a4ebd-77f2-40a6-80cb-da55c61aff09 button.colab-df-convert');\n",
              "        buttonEl.style.display =\n",
              "          google.colab.kernel.accessAllowed ? 'block' : 'none';\n",
              "\n",
              "        async function convertToInteractive(key) {\n",
              "          const element = document.querySelector('#df-b48a4ebd-77f2-40a6-80cb-da55c61aff09');\n",
              "          const dataTable =\n",
              "            await google.colab.kernel.invokeFunction('convertToInteractive',\n",
              "                                                     [key], {});\n",
              "          if (!dataTable) return;\n",
              "\n",
              "          const docLinkHtml = 'Like what you see? Visit the ' +\n",
              "            '<a target=\"_blank\" href=https://colab.research.google.com/notebooks/data_table.ipynb>data table notebook</a>'\n",
              "            + ' to learn more about interactive tables.';\n",
              "          element.innerHTML = '';\n",
              "          dataTable['output_type'] = 'display_data';\n",
              "          await google.colab.output.renderOutput(dataTable, element);\n",
              "          const docLink = document.createElement('div');\n",
              "          docLink.innerHTML = docLinkHtml;\n",
              "          element.appendChild(docLink);\n",
              "        }\n",
              "      </script>\n",
              "    </div>\n",
              "  </div>\n",
              "  "
            ]
          },
          "metadata": {},
          "execution_count": 20
        }
      ]
    },
    {
      "cell_type": "code",
      "source": [
        "#gather list of dashes (adapted from https://www.kaggle.com/code/mathemilda/part-2-feature-engineering)\n",
        "dashes = [chr(int(d, 16)) for d in ['058A', '05BE', '1400', '1806', '2010', '2011',\\\n",
        "          '2012', '2013', '2014', '2015', '2053', '207B', '208B', '2212', '2E17', \\\n",
        "          '2E1A', '2E3A', '2E3B', '2E40', '2E5D', '301C', '3030', '30A0', 'FE31', \\\n",
        "          'FE32', 'FE58', 'FE63', 'FF0D', '10EAD']]\n",
        "dashes_compiled = re.compile('[' + ''.join(dashes) + ']+', flags = re.UNICODE)"
      ],
      "metadata": {
        "id": "4yMc1QC81Ncr"
      },
      "execution_count": 8,
      "outputs": []
    },
    {
      "cell_type": "code",
      "source": [
        "#compile list of dash unicode characters as a regex string\n",
        "dashes_compiled"
      ],
      "metadata": {
        "colab": {
          "base_uri": "https://localhost:8080/"
        },
        "id": "C6adlYyn1eht",
        "outputId": "5e1d7da4-422f-4c19-f194-6a10d5c725e0"
      },
      "execution_count": 10,
      "outputs": [
        {
          "output_type": "execute_result",
          "data": {
            "text/plain": [
              "regex.Regex('[֊־᐀᠆‐‑‒–—―⁓⁻₋−⸗⸚⸺⸻⹀\\u2e5d〜〰゠︱︲﹘﹣－\\U00010ead]+', flags=regex.V0)"
            ]
          },
          "metadata": {},
          "execution_count": 10
        }
      ]
    },
    {
      "cell_type": "code",
      "source": [
        "#credit to https://www.kaggle.com/code/mathemilda/part-2-feature-engineering\n",
        "def cleaning_and_counts(s):\n",
        "    s = ftfy.fix_text(s)\n",
        "    s = re.sub(dashes_compiled, '-', s)\n",
        "    url_n = len(re.findall('https?://\\\\S+\\\\b', s))\n",
        "    s = re.sub('https?://\\\\S+\\\\b', '', s)\n",
        "    hasht_n = len(re.findall('#\\S+', s))\n",
        "    s = re.sub('#\\S+', '', s)\n",
        "    handle_n = len(re.findall('@([a-z0-9_]{1,15})\\\\b', s))\n",
        "    s = re.sub('@([a-z0-9_]{1,15})\\\\b', '', s)\n",
        "    exl_n = len(re.findall('!', s))\n",
        "    s = re.sub('pic\\\\.twitter\\\\.com/\\\\w+\\\\b', '', s)\n",
        "    s = re.sub('\\\\s+', ' ', s) #reducing multiple whitespaces to one\n",
        "    s = s.lstrip(whitespace+punctuation+'\\xa0'+chr(8230))\n",
        "    s = s.rstrip(whitespace+'\\xa0')\n",
        "    l=''\n",
        "    emoji_and_such = 0\n",
        "    for ch in s:\n",
        "        if ord(ch) < 8204:\n",
        "            l += ch\n",
        "        else:\n",
        "            emoji_and_such += 1\n",
        "    comma_n = len(re.findall(',', s))\n",
        "    dash_n = len(re.findall('-', s)) # dropped spaces around the dash\n",
        "    a_an_n = len(re.findall(r'\\b[Aa]n?\\b', s))\n",
        "    the_n = len(re.findall(r'\\b[Tt]he\\b', s))\n",
        "    # reduce a number of repeated symbols to no more than 2 \n",
        "    l = re.sub(r'(.)\\1\\1+', r'\\1\\1', l)\n",
        "    length = len(l)\n",
        "    words = [len(w) for w in re.findall(r'\\b\\w+\\b', l)]\n",
        "    if len(words)==0:\n",
        "        average_word = 0\n",
        "    else:\n",
        "        average_word = np.median(words)\n",
        "    return l, url_n, hasht_n, handle_n, emoji_and_such\\\n",
        "        , exl_n, comma_n, dash_n\\\n",
        "        , a_an_n, the_n, length, average_word"
      ],
      "metadata": {
        "id": "_QO7RErJ69bd"
      },
      "execution_count": 11,
      "outputs": []
    },
    {
      "cell_type": "code",
      "source": [
        "test_df3['tuple']= test_df3['content'].apply(cleaning_and_counts)"
      ],
      "metadata": {
        "id": "pLY0YKOj-3K4"
      },
      "execution_count": 21,
      "outputs": []
    },
    {
      "cell_type": "code",
      "source": [
        "test_df3[['tuple','content']]"
      ],
      "metadata": {
        "colab": {
          "base_uri": "https://localhost:8080/",
          "height": 719
        },
        "id": "6NjHGdOdAThw",
        "outputId": "42648713-f679-4113-b428-7637932588c9"
      },
      "execution_count": 22,
      "outputs": [
        {
          "output_type": "execute_result",
          "data": {
            "text/plain": [
              "                                                                                                                                                      tuple  \\\n",
              "1647686                  (Trump DOJ Ignores Deadline, Says It Needs More Time To Find Nonexistent Wiretapping Evidence, 1, 0, 0, 0, 0, 1, 0, 0, 0, 92, 4.5)   \n",
              "1084378                        (Obama staffer @JonFavs spent 4 years in the White House after posting this on Facebook, 1, 0, 0, 0, 0, 0, 0, 0, 1, 86, 5.0)   \n",
              "375591                                                             (EU envoy blasts EU's 'lack of vision' on migration, 1, 1, 0, 0, 0, 0, 0, 0, 0, 50, 3.0)   \n",
              "554657                                         (White supremacist wanted to recruit racists for Times Square slaughter, 2, 0, 0, 0, 0, 0, 0, 0, 0, 70, 6.0)   \n",
              "301777                                                                                (Spurs' Leonard back at practice, 2, 0, 0, 0, 0, 0, 0, 0, 0, 31, 5.0)   \n",
              "2138287  (Great question! Yes, candles of any size are allowed in your carry-on bags. Good to go in checked bags too!, 0, 0, 1, 0, 2, 1, 1, 0, 0, 107, 4.0)   \n",
              "3590320                (RT @Braves: Dan Uggla puts the on the board with a bang. Check out this 3-run shot in the 7th:, 1, 1, 0, 0, 0, 0, 1, 1, 3, 94, 3.0)   \n",
              "2765677    (Orbit_MOUVAA it was an overkill smg he picked wrong class and didn't even kill with it so it's irrelevant, 0, 0, 0, 0, 0, 0, 0, 1, 0, 105, 3.0)   \n",
              "2503731                            (Without maternal mortality numbers, we lack a roadmap to prevent women from dying:, 2, 0, 0, 0, 0, 1, 0, 1, 0, 82, 5.0)   \n",
              "3127369              (RT @PPA_Live: Congrats to Pete Wootton of @DennisUK - winner of the PPA Great Leap Forward Award, 1, 1, 0, 0, 0, 0, 1, 0, 1, 96, 4.5)   \n",
              "\n",
              "                                                                                                                                     content  \n",
              "1647686                 Trump DOJ Ignores Deadline, Says It Needs More Time To Find Nonexistent Wiretapping Evidence https://t.co/Pj1gy4uEZ5  \n",
              "1084378                       Obama staffer @JonFavs spent 4 years in the White House after posting this on Facebook https://t.co/pwhuFLaN3K  \n",
              "375591                                                      EU envoy blasts EU’s ‘lack of vision’ on migration https://t.co/8ingIVWvNr #news  \n",
              "554657                White supremacist wanted to recruit racists for Times Square slaughter https://t.co/tn3s3Hryka https://t.co/MuUY2THF4a  \n",
              "301777                                                       Spurs’ Leonard back at practice https://t.co/YdaMIyoQzS https://t.co/UKEPCIar0q  \n",
              "2138287           @wookiesncream Great question! Yes, candles of any size are allowed in your carry-on bags. Good to go in checked bags too!  \n",
              "3590320        RT @Braves: Dan Uggla puts the #Braves on the board with a bang. Check out this 3-run shot in the 7th: http://t.co/Q5ShWB5Bta  \n",
              "2765677                           @Orbit_MOUVAA it was an overkill smg he picked wrong class and didn't even kill with it so it's irrelevant  \n",
              "2503731  Without maternal mortality numbers, we lack a roadmap to prevent women from dying:  https://t.co/QsX4HNc8u5 https://t.co/z1ObzVTULF  \n",
              "3127369  RT @PPA_Live: Congrats to Pete Wootton of @DennisUK – winner of the PPA Great Leap Forward Award #PPAAwards https://t.co/AQZqwXa9ns  "
            ],
            "text/html": [
              "\n",
              "  <div id=\"df-7d5cf48c-8eac-4ce5-99dd-2c1ae7d72379\">\n",
              "    <div class=\"colab-df-container\">\n",
              "      <div>\n",
              "<style scoped>\n",
              "    .dataframe tbody tr th:only-of-type {\n",
              "        vertical-align: middle;\n",
              "    }\n",
              "\n",
              "    .dataframe tbody tr th {\n",
              "        vertical-align: top;\n",
              "    }\n",
              "\n",
              "    .dataframe thead th {\n",
              "        text-align: right;\n",
              "    }\n",
              "</style>\n",
              "<table border=\"1\" class=\"dataframe\">\n",
              "  <thead>\n",
              "    <tr style=\"text-align: right;\">\n",
              "      <th></th>\n",
              "      <th>tuple</th>\n",
              "      <th>content</th>\n",
              "    </tr>\n",
              "  </thead>\n",
              "  <tbody>\n",
              "    <tr>\n",
              "      <th>1647686</th>\n",
              "      <td>(Trump DOJ Ignores Deadline, Says It Needs More Time To Find Nonexistent Wiretapping Evidence, 1, 0, 0, 0, 0, 1, 0, 0, 0, 92, 4.5)</td>\n",
              "      <td>Trump DOJ Ignores Deadline, Says It Needs More Time To Find Nonexistent Wiretapping Evidence https://t.co/Pj1gy4uEZ5</td>\n",
              "    </tr>\n",
              "    <tr>\n",
              "      <th>1084378</th>\n",
              "      <td>(Obama staffer @JonFavs spent 4 years in the White House after posting this on Facebook, 1, 0, 0, 0, 0, 0, 0, 0, 1, 86, 5.0)</td>\n",
              "      <td>Obama staffer @JonFavs spent 4 years in the White House after posting this on Facebook https://t.co/pwhuFLaN3K</td>\n",
              "    </tr>\n",
              "    <tr>\n",
              "      <th>375591</th>\n",
              "      <td>(EU envoy blasts EU's 'lack of vision' on migration, 1, 1, 0, 0, 0, 0, 0, 0, 0, 50, 3.0)</td>\n",
              "      <td>EU envoy blasts EU’s ‘lack of vision’ on migration https://t.co/8ingIVWvNr #news</td>\n",
              "    </tr>\n",
              "    <tr>\n",
              "      <th>554657</th>\n",
              "      <td>(White supremacist wanted to recruit racists for Times Square slaughter, 2, 0, 0, 0, 0, 0, 0, 0, 0, 70, 6.0)</td>\n",
              "      <td>White supremacist wanted to recruit racists for Times Square slaughter https://t.co/tn3s3Hryka https://t.co/MuUY2THF4a</td>\n",
              "    </tr>\n",
              "    <tr>\n",
              "      <th>301777</th>\n",
              "      <td>(Spurs' Leonard back at practice, 2, 0, 0, 0, 0, 0, 0, 0, 0, 31, 5.0)</td>\n",
              "      <td>Spurs’ Leonard back at practice https://t.co/YdaMIyoQzS https://t.co/UKEPCIar0q</td>\n",
              "    </tr>\n",
              "    <tr>\n",
              "      <th>2138287</th>\n",
              "      <td>(Great question! Yes, candles of any size are allowed in your carry-on bags. Good to go in checked bags too!, 0, 0, 1, 0, 2, 1, 1, 0, 0, 107, 4.0)</td>\n",
              "      <td>@wookiesncream Great question! Yes, candles of any size are allowed in your carry-on bags. Good to go in checked bags too!</td>\n",
              "    </tr>\n",
              "    <tr>\n",
              "      <th>3590320</th>\n",
              "      <td>(RT @Braves: Dan Uggla puts the on the board with a bang. Check out this 3-run shot in the 7th:, 1, 1, 0, 0, 0, 0, 1, 1, 3, 94, 3.0)</td>\n",
              "      <td>RT @Braves: Dan Uggla puts the #Braves on the board with a bang. Check out this 3-run shot in the 7th: http://t.co/Q5ShWB5Bta</td>\n",
              "    </tr>\n",
              "    <tr>\n",
              "      <th>2765677</th>\n",
              "      <td>(Orbit_MOUVAA it was an overkill smg he picked wrong class and didn't even kill with it so it's irrelevant, 0, 0, 0, 0, 0, 0, 0, 1, 0, 105, 3.0)</td>\n",
              "      <td>@Orbit_MOUVAA it was an overkill smg he picked wrong class and didn't even kill with it so it's irrelevant</td>\n",
              "    </tr>\n",
              "    <tr>\n",
              "      <th>2503731</th>\n",
              "      <td>(Without maternal mortality numbers, we lack a roadmap to prevent women from dying:, 2, 0, 0, 0, 0, 1, 0, 1, 0, 82, 5.0)</td>\n",
              "      <td>Without maternal mortality numbers, we lack a roadmap to prevent women from dying:  https://t.co/QsX4HNc8u5 https://t.co/z1ObzVTULF</td>\n",
              "    </tr>\n",
              "    <tr>\n",
              "      <th>3127369</th>\n",
              "      <td>(RT @PPA_Live: Congrats to Pete Wootton of @DennisUK - winner of the PPA Great Leap Forward Award, 1, 1, 0, 0, 0, 0, 1, 0, 1, 96, 4.5)</td>\n",
              "      <td>RT @PPA_Live: Congrats to Pete Wootton of @DennisUK – winner of the PPA Great Leap Forward Award #PPAAwards https://t.co/AQZqwXa9ns</td>\n",
              "    </tr>\n",
              "  </tbody>\n",
              "</table>\n",
              "</div>\n",
              "      <button class=\"colab-df-convert\" onclick=\"convertToInteractive('df-7d5cf48c-8eac-4ce5-99dd-2c1ae7d72379')\"\n",
              "              title=\"Convert this dataframe to an interactive table.\"\n",
              "              style=\"display:none;\">\n",
              "        \n",
              "  <svg xmlns=\"http://www.w3.org/2000/svg\" height=\"24px\"viewBox=\"0 0 24 24\"\n",
              "       width=\"24px\">\n",
              "    <path d=\"M0 0h24v24H0V0z\" fill=\"none\"/>\n",
              "    <path d=\"M18.56 5.44l.94 2.06.94-2.06 2.06-.94-2.06-.94-.94-2.06-.94 2.06-2.06.94zm-11 1L8.5 8.5l.94-2.06 2.06-.94-2.06-.94L8.5 2.5l-.94 2.06-2.06.94zm10 10l.94 2.06.94-2.06 2.06-.94-2.06-.94-.94-2.06-.94 2.06-2.06.94z\"/><path d=\"M17.41 7.96l-1.37-1.37c-.4-.4-.92-.59-1.43-.59-.52 0-1.04.2-1.43.59L10.3 9.45l-7.72 7.72c-.78.78-.78 2.05 0 2.83L4 21.41c.39.39.9.59 1.41.59.51 0 1.02-.2 1.41-.59l7.78-7.78 2.81-2.81c.8-.78.8-2.07 0-2.86zM5.41 20L4 18.59l7.72-7.72 1.47 1.35L5.41 20z\"/>\n",
              "  </svg>\n",
              "      </button>\n",
              "      \n",
              "  <style>\n",
              "    .colab-df-container {\n",
              "      display:flex;\n",
              "      flex-wrap:wrap;\n",
              "      gap: 12px;\n",
              "    }\n",
              "\n",
              "    .colab-df-convert {\n",
              "      background-color: #E8F0FE;\n",
              "      border: none;\n",
              "      border-radius: 50%;\n",
              "      cursor: pointer;\n",
              "      display: none;\n",
              "      fill: #1967D2;\n",
              "      height: 32px;\n",
              "      padding: 0 0 0 0;\n",
              "      width: 32px;\n",
              "    }\n",
              "\n",
              "    .colab-df-convert:hover {\n",
              "      background-color: #E2EBFA;\n",
              "      box-shadow: 0px 1px 2px rgba(60, 64, 67, 0.3), 0px 1px 3px 1px rgba(60, 64, 67, 0.15);\n",
              "      fill: #174EA6;\n",
              "    }\n",
              "\n",
              "    [theme=dark] .colab-df-convert {\n",
              "      background-color: #3B4455;\n",
              "      fill: #D2E3FC;\n",
              "    }\n",
              "\n",
              "    [theme=dark] .colab-df-convert:hover {\n",
              "      background-color: #434B5C;\n",
              "      box-shadow: 0px 1px 3px 1px rgba(0, 0, 0, 0.15);\n",
              "      filter: drop-shadow(0px 1px 2px rgba(0, 0, 0, 0.3));\n",
              "      fill: #FFFFFF;\n",
              "    }\n",
              "  </style>\n",
              "\n",
              "      <script>\n",
              "        const buttonEl =\n",
              "          document.querySelector('#df-7d5cf48c-8eac-4ce5-99dd-2c1ae7d72379 button.colab-df-convert');\n",
              "        buttonEl.style.display =\n",
              "          google.colab.kernel.accessAllowed ? 'block' : 'none';\n",
              "\n",
              "        async function convertToInteractive(key) {\n",
              "          const element = document.querySelector('#df-7d5cf48c-8eac-4ce5-99dd-2c1ae7d72379');\n",
              "          const dataTable =\n",
              "            await google.colab.kernel.invokeFunction('convertToInteractive',\n",
              "                                                     [key], {});\n",
              "          if (!dataTable) return;\n",
              "\n",
              "          const docLinkHtml = 'Like what you see? Visit the ' +\n",
              "            '<a target=\"_blank\" href=https://colab.research.google.com/notebooks/data_table.ipynb>data table notebook</a>'\n",
              "            + ' to learn more about interactive tables.';\n",
              "          element.innerHTML = '';\n",
              "          dataTable['output_type'] = 'display_data';\n",
              "          await google.colab.output.renderOutput(dataTable, element);\n",
              "          const docLink = document.createElement('div');\n",
              "          docLink.innerHTML = docLinkHtml;\n",
              "          element.appendChild(docLink);\n",
              "        }\n",
              "      </script>\n",
              "    </div>\n",
              "  </div>\n",
              "  "
            ]
          },
          "metadata": {},
          "execution_count": 22
        }
      ]
    },
    {
      "cell_type": "code",
      "source": [
        "def clean_text(text):\n",
        "    text = re.sub(r\"http\\S+\", \"\", text)\n",
        "    text = re.sub(r\"\\n\", \" \", text)\n",
        "    text = re.sub(r\"\\'t\", \" not\", text) # Change 't to 'not'\n",
        "    text = re.sub(r'(@.*?)[\\s]', ' ', text) # Remove @name\n",
        "    #text = re.sub(r\"$\\d+\\W+|\\b\\d+\\b|\\W+\\d+$\", \" \", text) # remove digits\n",
        "    #text = re.sub(r\"[^\\w\\s\\#]\", \"\", text) #remove special characters except hashtags\n",
        "    text = text.strip(\" \")\n",
        "    text = re.sub(' +',' ', text).strip() # get rid of multiple spaces and replace with a single\n",
        "    return text"
      ],
      "metadata": {
        "id": "UCqK_8G9Bm5I"
      },
      "execution_count": 28,
      "outputs": []
    },
    {
      "cell_type": "code",
      "source": [
        "test_df3['cleaned_tweet']= test_df3['content'].apply(clean_text)"
      ],
      "metadata": {
        "id": "KLHgzPthBopt"
      },
      "execution_count": 29,
      "outputs": []
    },
    {
      "cell_type": "code",
      "source": [
        "test_df3[['cleaned_tweet','content','class']]"
      ],
      "metadata": {
        "colab": {
          "base_uri": "https://localhost:8080/",
          "height": 719
        },
        "id": "aEDTrnDUBuo1",
        "outputId": "eaf28c37-6259-4c67-a294-92e6e68dd867"
      },
      "execution_count": 30,
      "outputs": [
        {
          "output_type": "execute_result",
          "data": {
            "text/plain": [
              "                                                                                                       cleaned_tweet  \\\n",
              "1647686                 Trump DOJ Ignores Deadline, Says It Needs More Time To Find Nonexistent Wiretapping Evidence   \n",
              "1084378                                Obama staffer spent 4 years in the White House after posting this on Facebook   \n",
              "375591                                                      EU envoy blasts EU’s ‘lack of vision’ on migration #news   \n",
              "554657                                        White supremacist wanted to recruit racists for Times Square slaughter   \n",
              "301777                                                                               Spurs’ Leonard back at practice   \n",
              "2138287  Great question! Yes, candles of any size are allowed in your carry-on bags. Good to go in checked bags too!   \n",
              "3590320                RT Dan Uggla puts the #Braves on the board with a bang. Check out this 3-run shot in the 7th:   \n",
              "2765677               it was an overkill smg he picked wrong class and didn not even kill with it so it's irrelevant   \n",
              "2503731                           Without maternal mortality numbers, we lack a roadmap to prevent women from dying:   \n",
              "3127369                       RT Congrats to Pete Wootton of – winner of the PPA Great Leap Forward Award #PPAAwards   \n",
              "\n",
              "                                                                                                                                     content  \\\n",
              "1647686                 Trump DOJ Ignores Deadline, Says It Needs More Time To Find Nonexistent Wiretapping Evidence https://t.co/Pj1gy4uEZ5   \n",
              "1084378                       Obama staffer @JonFavs spent 4 years in the White House after posting this on Facebook https://t.co/pwhuFLaN3K   \n",
              "375591                                                      EU envoy blasts EU’s ‘lack of vision’ on migration https://t.co/8ingIVWvNr #news   \n",
              "554657                White supremacist wanted to recruit racists for Times Square slaughter https://t.co/tn3s3Hryka https://t.co/MuUY2THF4a   \n",
              "301777                                                       Spurs’ Leonard back at practice https://t.co/YdaMIyoQzS https://t.co/UKEPCIar0q   \n",
              "2138287           @wookiesncream Great question! Yes, candles of any size are allowed in your carry-on bags. Good to go in checked bags too!   \n",
              "3590320        RT @Braves: Dan Uggla puts the #Braves on the board with a bang. Check out this 3-run shot in the 7th: http://t.co/Q5ShWB5Bta   \n",
              "2765677                           @Orbit_MOUVAA it was an overkill smg he picked wrong class and didn't even kill with it so it's irrelevant   \n",
              "2503731  Without maternal mortality numbers, we lack a roadmap to prevent women from dying:  https://t.co/QsX4HNc8u5 https://t.co/z1ObzVTULF   \n",
              "3127369  RT @PPA_Live: Congrats to Pete Wootton of @DennisUK – winner of the PPA Great Leap Forward Award #PPAAwards https://t.co/AQZqwXa9ns   \n",
              "\n",
              "            class  \n",
              "1647686     Troll  \n",
              "1084378     Troll  \n",
              "375591      Troll  \n",
              "554657      Troll  \n",
              "301777      Troll  \n",
              "2138287  Verified  \n",
              "3590320  Verified  \n",
              "2765677  Verified  \n",
              "2503731  Verified  \n",
              "3127369  Verified  "
            ],
            "text/html": [
              "\n",
              "  <div id=\"df-04738162-c78d-4270-88ea-b4d5cf55014b\">\n",
              "    <div class=\"colab-df-container\">\n",
              "      <div>\n",
              "<style scoped>\n",
              "    .dataframe tbody tr th:only-of-type {\n",
              "        vertical-align: middle;\n",
              "    }\n",
              "\n",
              "    .dataframe tbody tr th {\n",
              "        vertical-align: top;\n",
              "    }\n",
              "\n",
              "    .dataframe thead th {\n",
              "        text-align: right;\n",
              "    }\n",
              "</style>\n",
              "<table border=\"1\" class=\"dataframe\">\n",
              "  <thead>\n",
              "    <tr style=\"text-align: right;\">\n",
              "      <th></th>\n",
              "      <th>cleaned_tweet</th>\n",
              "      <th>content</th>\n",
              "      <th>class</th>\n",
              "    </tr>\n",
              "  </thead>\n",
              "  <tbody>\n",
              "    <tr>\n",
              "      <th>1647686</th>\n",
              "      <td>Trump DOJ Ignores Deadline, Says It Needs More Time To Find Nonexistent Wiretapping Evidence</td>\n",
              "      <td>Trump DOJ Ignores Deadline, Says It Needs More Time To Find Nonexistent Wiretapping Evidence https://t.co/Pj1gy4uEZ5</td>\n",
              "      <td>Troll</td>\n",
              "    </tr>\n",
              "    <tr>\n",
              "      <th>1084378</th>\n",
              "      <td>Obama staffer spent 4 years in the White House after posting this on Facebook</td>\n",
              "      <td>Obama staffer @JonFavs spent 4 years in the White House after posting this on Facebook https://t.co/pwhuFLaN3K</td>\n",
              "      <td>Troll</td>\n",
              "    </tr>\n",
              "    <tr>\n",
              "      <th>375591</th>\n",
              "      <td>EU envoy blasts EU’s ‘lack of vision’ on migration #news</td>\n",
              "      <td>EU envoy blasts EU’s ‘lack of vision’ on migration https://t.co/8ingIVWvNr #news</td>\n",
              "      <td>Troll</td>\n",
              "    </tr>\n",
              "    <tr>\n",
              "      <th>554657</th>\n",
              "      <td>White supremacist wanted to recruit racists for Times Square slaughter</td>\n",
              "      <td>White supremacist wanted to recruit racists for Times Square slaughter https://t.co/tn3s3Hryka https://t.co/MuUY2THF4a</td>\n",
              "      <td>Troll</td>\n",
              "    </tr>\n",
              "    <tr>\n",
              "      <th>301777</th>\n",
              "      <td>Spurs’ Leonard back at practice</td>\n",
              "      <td>Spurs’ Leonard back at practice https://t.co/YdaMIyoQzS https://t.co/UKEPCIar0q</td>\n",
              "      <td>Troll</td>\n",
              "    </tr>\n",
              "    <tr>\n",
              "      <th>2138287</th>\n",
              "      <td>Great question! Yes, candles of any size are allowed in your carry-on bags. Good to go in checked bags too!</td>\n",
              "      <td>@wookiesncream Great question! Yes, candles of any size are allowed in your carry-on bags. Good to go in checked bags too!</td>\n",
              "      <td>Verified</td>\n",
              "    </tr>\n",
              "    <tr>\n",
              "      <th>3590320</th>\n",
              "      <td>RT Dan Uggla puts the #Braves on the board with a bang. Check out this 3-run shot in the 7th:</td>\n",
              "      <td>RT @Braves: Dan Uggla puts the #Braves on the board with a bang. Check out this 3-run shot in the 7th: http://t.co/Q5ShWB5Bta</td>\n",
              "      <td>Verified</td>\n",
              "    </tr>\n",
              "    <tr>\n",
              "      <th>2765677</th>\n",
              "      <td>it was an overkill smg he picked wrong class and didn not even kill with it so it's irrelevant</td>\n",
              "      <td>@Orbit_MOUVAA it was an overkill smg he picked wrong class and didn't even kill with it so it's irrelevant</td>\n",
              "      <td>Verified</td>\n",
              "    </tr>\n",
              "    <tr>\n",
              "      <th>2503731</th>\n",
              "      <td>Without maternal mortality numbers, we lack a roadmap to prevent women from dying:</td>\n",
              "      <td>Without maternal mortality numbers, we lack a roadmap to prevent women from dying:  https://t.co/QsX4HNc8u5 https://t.co/z1ObzVTULF</td>\n",
              "      <td>Verified</td>\n",
              "    </tr>\n",
              "    <tr>\n",
              "      <th>3127369</th>\n",
              "      <td>RT Congrats to Pete Wootton of – winner of the PPA Great Leap Forward Award #PPAAwards</td>\n",
              "      <td>RT @PPA_Live: Congrats to Pete Wootton of @DennisUK – winner of the PPA Great Leap Forward Award #PPAAwards https://t.co/AQZqwXa9ns</td>\n",
              "      <td>Verified</td>\n",
              "    </tr>\n",
              "  </tbody>\n",
              "</table>\n",
              "</div>\n",
              "      <button class=\"colab-df-convert\" onclick=\"convertToInteractive('df-04738162-c78d-4270-88ea-b4d5cf55014b')\"\n",
              "              title=\"Convert this dataframe to an interactive table.\"\n",
              "              style=\"display:none;\">\n",
              "        \n",
              "  <svg xmlns=\"http://www.w3.org/2000/svg\" height=\"24px\"viewBox=\"0 0 24 24\"\n",
              "       width=\"24px\">\n",
              "    <path d=\"M0 0h24v24H0V0z\" fill=\"none\"/>\n",
              "    <path d=\"M18.56 5.44l.94 2.06.94-2.06 2.06-.94-2.06-.94-.94-2.06-.94 2.06-2.06.94zm-11 1L8.5 8.5l.94-2.06 2.06-.94-2.06-.94L8.5 2.5l-.94 2.06-2.06.94zm10 10l.94 2.06.94-2.06 2.06-.94-2.06-.94-.94-2.06-.94 2.06-2.06.94z\"/><path d=\"M17.41 7.96l-1.37-1.37c-.4-.4-.92-.59-1.43-.59-.52 0-1.04.2-1.43.59L10.3 9.45l-7.72 7.72c-.78.78-.78 2.05 0 2.83L4 21.41c.39.39.9.59 1.41.59.51 0 1.02-.2 1.41-.59l7.78-7.78 2.81-2.81c.8-.78.8-2.07 0-2.86zM5.41 20L4 18.59l7.72-7.72 1.47 1.35L5.41 20z\"/>\n",
              "  </svg>\n",
              "      </button>\n",
              "      \n",
              "  <style>\n",
              "    .colab-df-container {\n",
              "      display:flex;\n",
              "      flex-wrap:wrap;\n",
              "      gap: 12px;\n",
              "    }\n",
              "\n",
              "    .colab-df-convert {\n",
              "      background-color: #E8F0FE;\n",
              "      border: none;\n",
              "      border-radius: 50%;\n",
              "      cursor: pointer;\n",
              "      display: none;\n",
              "      fill: #1967D2;\n",
              "      height: 32px;\n",
              "      padding: 0 0 0 0;\n",
              "      width: 32px;\n",
              "    }\n",
              "\n",
              "    .colab-df-convert:hover {\n",
              "      background-color: #E2EBFA;\n",
              "      box-shadow: 0px 1px 2px rgba(60, 64, 67, 0.3), 0px 1px 3px 1px rgba(60, 64, 67, 0.15);\n",
              "      fill: #174EA6;\n",
              "    }\n",
              "\n",
              "    [theme=dark] .colab-df-convert {\n",
              "      background-color: #3B4455;\n",
              "      fill: #D2E3FC;\n",
              "    }\n",
              "\n",
              "    [theme=dark] .colab-df-convert:hover {\n",
              "      background-color: #434B5C;\n",
              "      box-shadow: 0px 1px 3px 1px rgba(0, 0, 0, 0.15);\n",
              "      filter: drop-shadow(0px 1px 2px rgba(0, 0, 0, 0.3));\n",
              "      fill: #FFFFFF;\n",
              "    }\n",
              "  </style>\n",
              "\n",
              "      <script>\n",
              "        const buttonEl =\n",
              "          document.querySelector('#df-04738162-c78d-4270-88ea-b4d5cf55014b button.colab-df-convert');\n",
              "        buttonEl.style.display =\n",
              "          google.colab.kernel.accessAllowed ? 'block' : 'none';\n",
              "\n",
              "        async function convertToInteractive(key) {\n",
              "          const element = document.querySelector('#df-04738162-c78d-4270-88ea-b4d5cf55014b');\n",
              "          const dataTable =\n",
              "            await google.colab.kernel.invokeFunction('convertToInteractive',\n",
              "                                                     [key], {});\n",
              "          if (!dataTable) return;\n",
              "\n",
              "          const docLinkHtml = 'Like what you see? Visit the ' +\n",
              "            '<a target=\"_blank\" href=https://colab.research.google.com/notebooks/data_table.ipynb>data table notebook</a>'\n",
              "            + ' to learn more about interactive tables.';\n",
              "          element.innerHTML = '';\n",
              "          dataTable['output_type'] = 'display_data';\n",
              "          await google.colab.output.renderOutput(dataTable, element);\n",
              "          const docLink = document.createElement('div');\n",
              "          docLink.innerHTML = docLinkHtml;\n",
              "          element.appendChild(docLink);\n",
              "        }\n",
              "      </script>\n",
              "    </div>\n",
              "  </div>\n",
              "  "
            ]
          },
          "metadata": {},
          "execution_count": 30
        }
      ]
    },
    {
      "cell_type": "code",
      "source": [
        " text = '@RTBOby 500 bucks for #penguins tickets is 4 more than I allow https://www.5tickets.com'\n",
        " text = re.sub(r\"$\\d+\\W+|\\b\\d+\\b|\\W+\\d+$\", \" \", text) # remove digits\n",
        " text"
      ],
      "metadata": {
        "colab": {
          "base_uri": "https://localhost:8080/",
          "height": 35
        },
        "id": "htYY3KnFCk90",
        "outputId": "34a52101-ba6c-45f3-c085-ee35c07b6f08"
      },
      "execution_count": 27,
      "outputs": [
        {
          "output_type": "execute_result",
          "data": {
            "text/plain": [
              "'@RTBOby   bucks for #penguins tickets is   more than I allow https://www.5tickets.com'"
            ],
            "application/vnd.google.colaboratory.intrinsic+json": {
              "type": "string"
            }
          },
          "metadata": {},
          "execution_count": 27
        }
      ]
    },
    {
      "cell_type": "markdown",
      "source": [
        "### 4 Subset for English Only Model"
      ],
      "metadata": {
        "id": "W9WeJOYRXYrk"
      }
    },
    {
      "cell_type": "code",
      "source": [
        "len(df3)"
      ],
      "metadata": {
        "colab": {
          "base_uri": "https://localhost:8080/"
        },
        "id": "Gj_ALwo3gecy",
        "outputId": "4744c9ce-1240-4874-9e5c-41c514f23fec"
      },
      "execution_count": null,
      "outputs": [
        {
          "output_type": "execute_result",
          "data": {
            "text/plain": [
              "3624894"
            ]
          },
          "metadata": {},
          "execution_count": 70
        }
      ]
    },
    {
      "cell_type": "code",
      "source": [
        "df3['language'].value_counts()"
      ],
      "metadata": {
        "colab": {
          "base_uri": "https://localhost:8080/"
        },
        "id": "OfTX8X5LgSMt",
        "outputId": "a51c1a09-cc82-433f-f9b1-0fa27bb54d04"
      },
      "execution_count": 19,
      "outputs": [
        {
          "output_type": "execute_result",
          "data": {
            "text/plain": [
              "en     3623140\n",
              "fr         397\n",
              "tl         308\n",
              "es         304\n",
              "de         157\n",
              "nl         117\n",
              "in          83\n",
              "pt          65\n",
              "it          58\n",
              "da          56\n",
              "et          48\n",
              "ht          43\n",
              "eu          24\n",
              "ca          18\n",
              "sv          16\n",
              "no          13\n",
              "pl          12\n",
              "cy          12\n",
              "lt           4\n",
              "tr           4\n",
              "vi           4\n",
              "lv           3\n",
              "hu           2\n",
              "cs           1\n",
              "ko           1\n",
              "hi           1\n",
              "ro           1\n",
              "und          1\n",
              "zxx          1\n",
              "Name: language, dtype: int64"
            ]
          },
          "metadata": {},
          "execution_count": 19
        }
      ]
    },
    {
      "cell_type": "code",
      "source": [
        "#save as en_df for English only tweets\n",
        "en_df = df3[df3['language']=='en']\n",
        "len(en_df)"
      ],
      "metadata": {
        "colab": {
          "base_uri": "https://localhost:8080/"
        },
        "id": "lwfmwmhIgVq7",
        "outputId": "b00281aa-e57e-42e6-8887-a6e65700f294"
      },
      "execution_count": 20,
      "outputs": [
        {
          "output_type": "execute_result",
          "data": {
            "text/plain": [
              "3623140"
            ]
          },
          "metadata": {},
          "execution_count": 20
        }
      ]
    },
    {
      "cell_type": "code",
      "source": [
        "en_df['account_category'].value_counts()"
      ],
      "metadata": {
        "colab": {
          "base_uri": "https://localhost:8080/"
        },
        "id": "FGyRr0o6gkDz",
        "outputId": "e85a5eec-a89b-413c-b402-7352b421a340"
      },
      "execution_count": null,
      "outputs": [
        {
          "output_type": "execute_result",
          "data": {
            "text/plain": [
              "Verified_User    1470028\n",
              "RightTroll        704953\n",
              "NewsFeed          596593\n",
              "LeftTroll         422141\n",
              "HashtagGamer      236091\n",
              "Commercial        112580\n",
              "Unknown            43191\n",
              "NonEnglish         26562\n",
              "Fearmonger         11001\n",
              "Name: account_category, dtype: int64"
            ]
          },
          "metadata": {},
          "execution_count": 71
        }
      ]
    },
    {
      "cell_type": "code",
      "source": [
        "en_df=en_df[en_df['account_category']!='NonEnglish']\n",
        "len(en_df)"
      ],
      "metadata": {
        "colab": {
          "base_uri": "https://localhost:8080/"
        },
        "id": "eo7bUyQPgn4z",
        "outputId": "699b1965-f645-446c-bf27-38825a0c11f9"
      },
      "execution_count": 21,
      "outputs": [
        {
          "output_type": "execute_result",
          "data": {
            "text/plain": [
              "3596578"
            ]
          },
          "metadata": {},
          "execution_count": 21
        }
      ]
    },
    {
      "cell_type": "code",
      "source": [
        "en_df['account_category'].value_counts()"
      ],
      "metadata": {
        "colab": {
          "base_uri": "https://localhost:8080/"
        },
        "id": "Xh7zeaavgyLz",
        "outputId": "d0a007c1-13df-41fd-e2b0-f81a7eb8e86b"
      },
      "execution_count": 22,
      "outputs": [
        {
          "output_type": "execute_result",
          "data": {
            "text/plain": [
              "Verified_User    1470028\n",
              "RightTroll        704953\n",
              "NewsFeed          596593\n",
              "LeftTroll         422141\n",
              "HashtagGamer      236091\n",
              "Commercial        112580\n",
              "Unknown            43191\n",
              "Fearmonger         11001\n",
              "NonEnglish             0\n",
              "Name: account_category, dtype: int64"
            ]
          },
          "metadata": {},
          "execution_count": 22
        }
      ]
    },
    {
      "cell_type": "code",
      "source": [
        "#Export as 06_data_engineered_en\n",
        "parq_path = '/content/gdrive/MyDrive/Grad School/DSCI592/data/06data_engineered_en.parquet.gz'\n",
        "en_df.to_parquet(parq_path, engine='pyarrow', index=False, compression='gzip')"
      ],
      "metadata": {
        "id": "ZyDBc065hKIF"
      },
      "execution_count": 23,
      "outputs": []
    },
    {
      "cell_type": "markdown",
      "source": [
        "### 5 Feature Selection for ML Model (Numeric, Binary, Categorical, Ordinal)"
      ],
      "metadata": {
        "id": "b5Hvi0LtA3Nc"
      }
    },
    {
      "cell_type": "code",
      "source": [
        "#load en dataframe\n",
        "en_df = pd.read_parquet('/content/gdrive/MyDrive/Grad School/DSCI592/data/06data_engineered_en.parquet.gz')"
      ],
      "metadata": {
        "id": "9tRJqAKJBHqU"
      },
      "execution_count": 5,
      "outputs": []
    },
    {
      "cell_type": "code",
      "source": [
        "en_df.dtypes"
      ],
      "metadata": {
        "colab": {
          "base_uri": "https://localhost:8080/"
        },
        "id": "hFla_ZAIBaaj",
        "outputId": "4664ef73-acbe-4599-9320-d5fa653dbd60"
      },
      "execution_count": 24,
      "outputs": [
        {
          "output_type": "execute_result",
          "data": {
            "text/plain": [
              "external_author_id                    string\n",
              "author                                string\n",
              "content                               string\n",
              "region                                string\n",
              "language                            category\n",
              "following                             uint64\n",
              "followers                             uint64\n",
              "updates                               uint64\n",
              "post_type                           category\n",
              "is_retweet                           float64\n",
              "account_category                    category\n",
              "tweet_id                              string\n",
              "tco1_step1                            string\n",
              "data_source                         category\n",
              "has_url                                int64\n",
              "emoji_text                            object\n",
              "emoji_count                            int64\n",
              "publish_date             datetime64[ns, UTC]\n",
              "class                               category\n",
              "following_ratio                      float64\n",
              "class_numeric                           int8\n",
              "RUS_lett_count                         int64\n",
              "emoji_flagUS                           int64\n",
              "emoji_police                           int64\n",
              "emoji_check                            int64\n",
              "emoji_exclamation                      int64\n",
              "emoji_fist                             int64\n",
              "emoji_collision                        int64\n",
              "emoji_prohibited                       int64\n",
              "emoji_loudcryface                      int64\n",
              "emoji_smilinghearteye                  int64\n",
              "emoji_fire                             int64\n",
              "emoji_redheart                         int64\n",
              "emoji_tearsjoy                         int64\n",
              "emoji_thumbsup                         int64\n",
              "emoji_claphands                        int64\n",
              "emoji_blowingkiss                      int64\n",
              "emoji_partypop                         int64\n",
              "emoji_raisehands                       int64\n",
              "emoji_troll                            int64\n",
              "unknown_location                       int64\n",
              "multi_authors                          int64\n",
              "dtype: object"
            ]
          },
          "metadata": {},
          "execution_count": 24
        }
      ]
    },
    {
      "cell_type": "code",
      "source": [
        "#convert updates to int64\n",
        "en_df['updates']= en_df['updates'].astype(int)\n",
        "en_df['is_retweet']=en_df['is_retweet'].astype(int)"
      ],
      "metadata": {
        "id": "AhlbdjtVCcxr"
      },
      "execution_count": 25,
      "outputs": []
    },
    {
      "cell_type": "code",
      "source": [
        "en_df.dtypes"
      ],
      "metadata": {
        "colab": {
          "base_uri": "https://localhost:8080/"
        },
        "id": "4MKDUV9fCncr",
        "outputId": "3cd9c5cb-a140-4cb1-c032-105fa86f4410"
      },
      "execution_count": 26,
      "outputs": [
        {
          "output_type": "execute_result",
          "data": {
            "text/plain": [
              "external_author_id                    string\n",
              "author                                string\n",
              "content                               string\n",
              "region                                string\n",
              "language                            category\n",
              "following                             uint64\n",
              "followers                             uint64\n",
              "updates                                int64\n",
              "post_type                           category\n",
              "is_retweet                             int64\n",
              "account_category                    category\n",
              "tweet_id                              string\n",
              "tco1_step1                            string\n",
              "data_source                         category\n",
              "has_url                                int64\n",
              "emoji_text                            object\n",
              "emoji_count                            int64\n",
              "publish_date             datetime64[ns, UTC]\n",
              "class                               category\n",
              "following_ratio                      float64\n",
              "class_numeric                           int8\n",
              "RUS_lett_count                         int64\n",
              "emoji_flagUS                           int64\n",
              "emoji_police                           int64\n",
              "emoji_check                            int64\n",
              "emoji_exclamation                      int64\n",
              "emoji_fist                             int64\n",
              "emoji_collision                        int64\n",
              "emoji_prohibited                       int64\n",
              "emoji_loudcryface                      int64\n",
              "emoji_smilinghearteye                  int64\n",
              "emoji_fire                             int64\n",
              "emoji_redheart                         int64\n",
              "emoji_tearsjoy                         int64\n",
              "emoji_thumbsup                         int64\n",
              "emoji_claphands                        int64\n",
              "emoji_blowingkiss                      int64\n",
              "emoji_partypop                         int64\n",
              "emoji_raisehands                       int64\n",
              "emoji_troll                            int64\n",
              "unknown_location                       int64\n",
              "multi_authors                          int64\n",
              "dtype: object"
            ]
          },
          "metadata": {},
          "execution_count": 26
        }
      ]
    },
    {
      "cell_type": "code",
      "source": [
        "#determine column types to keep\n",
        "target = ['class_numeric']\n",
        "columns_without_target = list(en_df[en_df.columns.difference(target)])\n",
        "num_attribs = list(en_df[columns_without_target].select_dtypes(include=['int64','float64']).columns)\n",
        "#cat_attribs = list(en_df[columns_without_target].select_dtypes(include=['object']).columns)\n",
        "target_column = en_df['class_numeric']"
      ],
      "metadata": {
        "id": "f2YBHHFDBmN0"
      },
      "execution_count": 27,
      "outputs": []
    },
    {
      "cell_type": "code",
      "source": [
        "#remove columns not being used\n",
        "columns_to_drop = list(en_df[en_df.columns.difference(num_attribs)])\n",
        "columns_to_drop.remove('class_numeric')\n",
        "columns_to_drop"
      ],
      "metadata": {
        "colab": {
          "base_uri": "https://localhost:8080/"
        },
        "id": "DYJ5tEdVBqRY",
        "outputId": "e52225c5-5902-4755-c3a9-e7f4e6cd425d"
      },
      "execution_count": 39,
      "outputs": [
        {
          "output_type": "execute_result",
          "data": {
            "text/plain": [
              "['account_category',\n",
              " 'author',\n",
              " 'class',\n",
              " 'content',\n",
              " 'data_source',\n",
              " 'emoji_text',\n",
              " 'external_author_id',\n",
              " 'followers',\n",
              " 'following',\n",
              " 'language',\n",
              " 'post_type',\n",
              " 'publish_date',\n",
              " 'region',\n",
              " 'tco1_step1',\n",
              " 'tweet_id']"
            ]
          },
          "metadata": {},
          "execution_count": 39
        }
      ]
    },
    {
      "cell_type": "code",
      "source": [
        "#retain the author and ID for use later\n",
        "cols_for_later = columns_to_drop\n",
        "cols_for_later.remove('external_author_id')\n",
        "cols_for_later.remove('tweet_id')\n",
        "cols_for_later.remove('author')\n",
        "cols_for_later"
      ],
      "metadata": {
        "colab": {
          "base_uri": "https://localhost:8080/"
        },
        "id": "nTbZhtote6_d",
        "outputId": "4cf6b40c-10ce-4449-8f04-b1fddee26d12"
      },
      "execution_count": 36,
      "outputs": [
        {
          "output_type": "execute_result",
          "data": {
            "text/plain": [
              "['account_category',\n",
              " 'class',\n",
              " 'content',\n",
              " 'data_source',\n",
              " 'emoji_text',\n",
              " 'followers',\n",
              " 'following',\n",
              " 'language',\n",
              " 'post_type',\n",
              " 'publish_date',\n",
              " 'region',\n",
              " 'tco1_step1']"
            ]
          },
          "metadata": {},
          "execution_count": 36
        }
      ]
    },
    {
      "cell_type": "code",
      "source": [
        "full_final_df = en_df.drop(columns= cols_for_later, axis =1)\n",
        "full_final_df.columns"
      ],
      "metadata": {
        "colab": {
          "base_uri": "https://localhost:8080/"
        },
        "id": "tC1WSTDBfw8K",
        "outputId": "5c78f95f-e025-44f3-fa88-011fe8047eec"
      },
      "execution_count": 37,
      "outputs": [
        {
          "output_type": "execute_result",
          "data": {
            "text/plain": [
              "Index(['external_author_id', 'author', 'updates', 'is_retweet', 'tweet_id',\n",
              "       'has_url', 'emoji_count', 'following_ratio', 'class_numeric',\n",
              "       'RUS_lett_count', 'emoji_flagUS', 'emoji_police', 'emoji_check',\n",
              "       'emoji_exclamation', 'emoji_fist', 'emoji_collision',\n",
              "       'emoji_prohibited', 'emoji_loudcryface', 'emoji_smilinghearteye',\n",
              "       'emoji_fire', 'emoji_redheart', 'emoji_tearsjoy', 'emoji_thumbsup',\n",
              "       'emoji_claphands', 'emoji_blowingkiss', 'emoji_partypop',\n",
              "       'emoji_raisehands', 'emoji_troll', 'unknown_location', 'multi_authors'],\n",
              "      dtype='object')"
            ]
          },
          "metadata": {},
          "execution_count": 37
        }
      ]
    },
    {
      "cell_type": "code",
      "source": [
        "#export final_df for use in 07_ML_models NB as 06data_final_en.parquet.gz\n",
        "parq_path = '/content/gdrive/MyDrive/Grad School/DSCI592/data/06data_full_final_en.parquet.gz'\n",
        "full_final_df.to_parquet(parq_path, engine='pyarrow', index=False, compression='gzip')"
      ],
      "metadata": {
        "id": "NotbH4-ZgHWp"
      },
      "execution_count": 41,
      "outputs": []
    },
    {
      "cell_type": "code",
      "source": [
        "final_df = en_df.drop(columns = columns_to_drop, axis =1)\n",
        "final_df.columns"
      ],
      "metadata": {
        "colab": {
          "base_uri": "https://localhost:8080/"
        },
        "id": "9mAi_zY3SpeE",
        "outputId": "07c9390c-3f00-4f72-b2bd-cd2be255a09d"
      },
      "execution_count": 40,
      "outputs": [
        {
          "output_type": "execute_result",
          "data": {
            "text/plain": [
              "Index(['updates', 'is_retweet', 'has_url', 'emoji_count', 'following_ratio',\n",
              "       'class_numeric', 'RUS_lett_count', 'emoji_flagUS', 'emoji_police',\n",
              "       'emoji_check', 'emoji_exclamation', 'emoji_fist', 'emoji_collision',\n",
              "       'emoji_prohibited', 'emoji_loudcryface', 'emoji_smilinghearteye',\n",
              "       'emoji_fire', 'emoji_redheart', 'emoji_tearsjoy', 'emoji_thumbsup',\n",
              "       'emoji_claphands', 'emoji_blowingkiss', 'emoji_partypop',\n",
              "       'emoji_raisehands', 'emoji_troll', 'unknown_location', 'multi_authors'],\n",
              "      dtype='object')"
            ]
          },
          "metadata": {},
          "execution_count": 40
        }
      ]
    },
    {
      "cell_type": "code",
      "source": [
        "#export final_df for use in 07_ML_models NB as 06data_final_en.parquet.gz\n",
        "parq_path = '/content/gdrive/MyDrive/Grad School/DSCI592/data/06data_final_en.parquet.gz'\n",
        "final_df.to_parquet(parq_path, engine='pyarrow', index=False, compression='gzip')"
      ],
      "metadata": {
        "id": "iO-LAqzUCGme"
      },
      "execution_count": 42,
      "outputs": []
    }
  ],
  "metadata": {
    "colab": {
      "provenance": [],
      "collapsed_sections": [
        "GeHZsVoLWBx1",
        "jPgrFXaVGCBw"
      ]
    },
    "gpuClass": "standard",
    "kernelspec": {
      "display_name": "Python 3",
      "language": "python",
      "name": "python3"
    },
    "language_info": {
      "codemirror_mode": {
        "name": "ipython",
        "version": 3
      },
      "file_extension": ".py",
      "mimetype": "text/x-python",
      "name": "python",
      "nbconvert_exporter": "python",
      "pygments_lexer": "ipython3",
      "version": "3.8.5"
    },
    "vscode": {
      "interpreter": {
        "hash": "65a6dd32d71ed4a2e5ac9ab3f52d3aeee49f01a00467a63b19dc274a1d27154b"
      }
    }
  },
  "nbformat": 4,
  "nbformat_minor": 0
}