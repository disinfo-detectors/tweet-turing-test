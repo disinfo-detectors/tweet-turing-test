{
  "nbformat": 4,
  "nbformat_minor": 0,
  "metadata": {
    "colab": {
      "provenance": []
    },
    "kernelspec": {
      "name": "python3",
      "display_name": "Python 3"
    },
    "language_info": {
      "name": "python"
    }
  },
  "cells": [
    {
      "cell_type": "markdown",
      "source": [
        "# Tweet Turing Test: Detecting Disinformation on Twitter  \n",
        "\n",
        "|          | Group #2 - Disinformation Detectors                     |\n",
        "|---------:|---------------------------------------------------------|\n",
        "| Members  | John Johnson, Katy Matulay, Justin Minnion, Jared Rubin |\n",
        "| Notebook | `07_MLmodels.ipynb`                        |\n",
        "| Purpose  | ML models                |\n",
        "\n",
        "(todo: description)"
      ],
      "metadata": {
        "id": "g7VHtVUuc0vp"
      }
    },
    {
      "cell_type": "markdown",
      "source": [
        "# 1 - Setup"
      ],
      "metadata": {
        "id": "4lOLSYwfc7sR"
      }
    },
    {
      "cell_type": "code",
      "execution_count": 1,
      "metadata": {
        "id": "5D7WCy1Ncr4J"
      },
      "outputs": [],
      "source": [
        "# imports from Python standard library\n",
        "\n",
        "# imports requiring installation\n",
        "#   connection to Google Cloud Storage\n",
        "from google.cloud import storage            # pip install google-cloud-storage\n",
        "from google.oauth2 import service_account   # pip install google-auth\n",
        "\n",
        "#  data science packages\n",
        "import numpy as np                          # pip install numpy\n",
        "import pandas as pd                         # pip install pandas"
      ]
    },
    {
      "cell_type": "code",
      "source": [
        "!pip install demoji\n",
        "import pandas as pd \n",
        "import os\n",
        "import numpy as np\n",
        "import matplotlib.pyplot as plt\n",
        "import demoji\n",
        "import seaborn as sns\n",
        "import nltk\n",
        "from datetime import date\n",
        "import regex as re\n",
        "import pyarrow"
      ],
      "metadata": {
        "colab": {
          "base_uri": "https://localhost:8080/"
        },
        "id": "A-mF29Z6c-GM",
        "outputId": "9df1d287-a7d3-4e8d-d4f2-5f17699e6847"
      },
      "execution_count": 2,
      "outputs": [
        {
          "output_type": "stream",
          "name": "stdout",
          "text": [
            "Looking in indexes: https://pypi.org/simple, https://us-python.pkg.dev/colab-wheels/public/simple/\n",
            "Collecting demoji\n",
            "  Downloading demoji-1.1.0-py3-none-any.whl (42 kB)\n",
            "\u001b[2K     \u001b[90m━━━━━━━━━━━━━━━━━━━━━━━━━━━━━━━━━━━━━━━━\u001b[0m \u001b[32m42.9/42.9 KB\u001b[0m \u001b[31m1.3 MB/s\u001b[0m eta \u001b[36m0:00:00\u001b[0m\n",
            "\u001b[?25hInstalling collected packages: demoji\n",
            "Successfully installed demoji-1.1.0\n"
          ]
        }
      ]
    },
    {
      "cell_type": "code",
      "source": [
        "#pipeline\n",
        "from sklearn.model_selection import train_test_split\n",
        "from sklearn.pipeline import Pipeline\n",
        "from sklearn.compose import make_column_transformer\n",
        "from sklearn.preprocessing import StandardScaler\n",
        "from sklearn.preprocessing import MinMaxScaler, RobustScaler\n",
        "from sklearn.preprocessing import OneHotEncoder\n",
        "from sklearn.compose import ColumnTransformer\n",
        "from sklearn.feature_extraction.text import CountVectorizer, TfidfVectorizer, TfidfTransformer\n",
        "#models\n",
        "from sklearn.dummy import DummyClassifier\n",
        "from sklearn.linear_model import LogisticRegression\n",
        "from sklearn.tree import DecisionTreeClassifier\n",
        "from sklearn.neighbors import KNeighborsClassifier\n",
        "from sklearn.svm import SVC\n",
        "from xgboost import XGBClassifier\n",
        "#evaluation metrics\n",
        "from sklearn.metrics import precision_score, recall_score, f1_score\n",
        "from sklearn.metrics import accuracy_score\n",
        "from sklearn.metrics import confusion_matrix, plot_confusion_matrix\n",
        "from sklearn.metrics import precision_score, recall_score\n",
        "from sklearn.metrics import f1_score\n",
        "from sklearn.metrics import precision_recall_curve, plot_precision_recall_curve\n",
        "from sklearn.metrics import roc_auc_score, plot_roc_curve\n",
        "from sklearn.model_selection import GridSearchCV\n",
        "# feature selection\n",
        "from sklearn.feature_selection import SelectFromModel\n",
        "from sklearn.feature_selection import f_classif\n",
        "\n",
        "%matplotlib inline"
      ],
      "metadata": {
        "id": "W_fO2AQQ0FdN"
      },
      "execution_count": 145,
      "outputs": []
    },
    {
      "cell_type": "code",
      "source": [
        "#Colab Specific workflow - remove for github\n",
        "from google.colab import drive\n",
        "\n",
        "drive.mount('/content/gdrive')"
      ],
      "metadata": {
        "colab": {
          "base_uri": "https://localhost:8080/"
        },
        "id": "RNwYHRxNdBQK",
        "outputId": "dfee02c5-a8bb-48c3-e07b-476360cf97ca"
      },
      "execution_count": 3,
      "outputs": [
        {
          "output_type": "stream",
          "name": "stdout",
          "text": [
            "Mounted at /content/gdrive\n"
          ]
        }
      ]
    },
    {
      "cell_type": "code",
      "source": [
        "# pandas options\n",
        "pd.set_option('display.max_colwidth', None)"
      ],
      "metadata": {
        "id": "CtEBu2cudEi4"
      },
      "execution_count": 4,
      "outputs": []
    },
    {
      "cell_type": "markdown",
      "source": [
        "## Local or Cloud?\n",
        "\n",
        "Decide here whether to run notebook with local data or GCP bucket data\n",
        " - if the working directory of this notebook has a \"../data/\" folder with data loaded (e.g. working on local computer or have data files loaded to a cloud VM) then use the \"local files\" option and comment out the \"gcp bucket files\" option\n",
        " - if this notebook is being run from a GCP VM (preferrably in the `us-central1` location) then use the \"gcp bucket files\" option and comment out the \"local files\" option"
      ],
      "metadata": {
        "id": "lkA4sJnhdKkD"
      }
    },
    {
      "cell_type": "code",
      "source": [
        "# option: local files\n",
        "local_or_cloud: str = \"local\"   # comment/uncomment this line or next\n",
        "\n",
        "# option: gcp bucket files\n",
        "#local_or_cloud: str = \"cloud\"   # comment/uncomment this line or previous\n",
        "\n",
        "# don't comment/uncomment for remainder of cell\n",
        "if (local_or_cloud == \"local\"):\n",
        "    data_paths = local_data_paths\n",
        "    snapshot_paths = local_snapshot_paths\n",
        "elif (local_or_cloud == \"cloud\"):\n",
        "    data_paths = gcp_data_paths\n",
        "    snapshot_paths = gcp_snapshot_paths\n",
        "else:\n",
        "    raise ValueError(\"Variable 'local_or_cloud' can only take on one of two values, 'local' or 'cloud'.\")\n",
        "    # subsequent cells will not do this final \"else\" check"
      ],
      "metadata": {
        "id": "RpUtpbuvdK_r"
      },
      "execution_count": null,
      "outputs": []
    },
    {
      "cell_type": "code",
      "source": [
        "# this cell only needs to run its code if local_or_cloud==\"cloud\"\n",
        "#   (though it is harmless if run when local_or_cloud==\"local\")\n",
        "gcp_storage_client: storage.Client = None\n",
        "gcp_bucket: storage.Bucket = None\n",
        "\n",
        "if (local_or_cloud == \"cloud\"):\n",
        "    gcp_storage_client = tur.get_gcp_storage_client(project_name=gcp_project_name, key_file=gcp_key_file)\n",
        "    gcp_bucket = tur.get_gcp_bucket(storage_client=gcp_storage_client, bucket_name=gcp_bucket_name)"
      ],
      "metadata": {
        "id": "ow-lSZGCdOH5"
      },
      "execution_count": null,
      "outputs": []
    },
    {
      "cell_type": "markdown",
      "source": [
        "## Load 06_Feature_Engineering Dataset English Tweets Only\n",
        "\n",
        "Full dataset, as prepared by `06_feature_engineering.ipynb`, will be loaded as \"`df`\"."
      ],
      "metadata": {
        "id": "bhGjNCUEdQlx"
      }
    },
    {
      "cell_type": "code",
      "source": [
        "#Colab Specific workflow - remove for github\n",
        "\n",
        "#Google Drive url for data file\n",
        "file_folder = '/content/gdrive/MyDrive/Grad School/DSCI592/data/'"
      ],
      "metadata": {
        "id": "97Z1egMLdaXb"
      },
      "execution_count": 5,
      "outputs": []
    },
    {
      "cell_type": "code",
      "source": [
        "df= pd.read_parquet(file_folder + '06data_final_en.parquet.gz')"
      ],
      "metadata": {
        "id": "AV3Yby12dhJD"
      },
      "execution_count": 9,
      "outputs": []
    },
    {
      "cell_type": "code",
      "source": [
        "df.columns"
      ],
      "metadata": {
        "colab": {
          "base_uri": "https://localhost:8080/"
        },
        "id": "NQjo5JIXdos6",
        "outputId": "56434e7d-30f4-4a19-ffb9-d219ffa0b520"
      },
      "execution_count": 10,
      "outputs": [
        {
          "output_type": "execute_result",
          "data": {
            "text/plain": [
              "Index(['updates', 'is_retweet', 'has_url', 'emoji_count', 'following_ratio',\n",
              "       'class_numeric', 'RUS_lett_count', 'emoji_flagUS', 'emoji_police',\n",
              "       'emoji_check', 'emoji_exclamation', 'emoji_fist', 'emoji_collision',\n",
              "       'emoji_prohibited', 'emoji_troll', 'unknown_location', 'multi_authors'],\n",
              "      dtype='object')"
            ]
          },
          "metadata": {},
          "execution_count": 10
        }
      ]
    },
    {
      "cell_type": "code",
      "source": [
        "df['is_retweet']=df['is_retweet'].astype(int)"
      ],
      "metadata": {
        "id": "MrzI5d35U7p1"
      },
      "execution_count": 12,
      "outputs": []
    },
    {
      "cell_type": "markdown",
      "source": [
        "## 2 - Downsampling and Test Train Split"
      ],
      "metadata": {
        "id": "zTd9il6pl3at"
      }
    },
    {
      "cell_type": "markdown",
      "source": [
        "50/50 Split Sub-Sample"
      ],
      "metadata": {
        "id": "m8OWnio_CMkF"
      }
    },
    {
      "cell_type": "code",
      "source": [
        "df_sample100k = df.groupby('class_numeric', group_keys=False).apply(lambda x: x.sample(50000, random_state = 42))"
      ],
      "metadata": {
        "id": "bPfMgrhFVs8Y"
      },
      "execution_count": 14,
      "outputs": []
    },
    {
      "cell_type": "code",
      "source": [
        "df_sample100k['class_numeric'].value_counts().div(len(df_sample100k.index))"
      ],
      "metadata": {
        "colab": {
          "base_uri": "https://localhost:8080/"
        },
        "id": "VUAcHmop7LLm",
        "outputId": "49b5da3f-5781-4961-8d11-333e815c0c50"
      },
      "execution_count": 17,
      "outputs": [
        {
          "output_type": "execute_result",
          "data": {
            "text/plain": [
              "0    0.5\n",
              "1    0.5\n",
              "Name: class_numeric, dtype: float64"
            ]
          },
          "metadata": {},
          "execution_count": 17
        }
      ]
    },
    {
      "cell_type": "code",
      "source": [
        "BYTES_PER_GIGABYTE = 10**9  # using IEC-recommended conversion; https://en.wikipedia.org/wiki/Gigabyte#Base_10_(decimal)\n",
        "\n",
        "df_full_size_gb = df.memory_usage(deep=True).sum() / BYTES_PER_GIGABYTE\n",
        "df_size_gb = df_sample100k.memory_usage(deep=True).sum() / BYTES_PER_GIGABYTE\n",
        "\n",
        "print(f\"Full dataframe size:\\t{df_full_size_gb:8.2f} GB\")\n",
        "print(f\"Sampled dataframe size:\\t{df_size_gb:8.2f} GB\\n\")\n",
        "\n",
        "print(f\"Full dataframe rows:\\t{len(df.index):>11,}\")\n",
        "print(f\"Sampled dataframe rows:\\t{len(df_sample100k.index):>11,}\\n\")\n",
        "\n",
        "class_split_full = [f\"{x*100:0.1f}%\" for x in df['class_numeric'].value_counts().div(len(df.index)).tolist()]\n",
        "class_split_samp = [f\"{x*100:0.1f}%\" for x in df_sample100k['class_numeric'].value_counts().div(len(df_sample100k.index)).tolist()]\n",
        "\n",
        "print(f\"Full df class split:\\t{class_split_full}\")\n",
        "print(f\"Sampled df class split:\\t{class_split_samp}\\n\")"
      ],
      "metadata": {
        "colab": {
          "base_uri": "https://localhost:8080/"
        },
        "id": "b3NRc2Tur6Gx",
        "outputId": "c6a8fad5-7c55-46c0-b75b-035019fee054"
      },
      "execution_count": 18,
      "outputs": [
        {
          "output_type": "stream",
          "name": "stdout",
          "text": [
            "Full dataframe size:\t    0.46 GB\n",
            "Sampled dataframe size:\t    0.01 GB\n",
            "\n",
            "Full dataframe rows:\t  3,596,578\n",
            "Sampled dataframe rows:\t    100,000\n",
            "\n",
            "Full df class split:\t['58.1%', '41.9%']\n",
            "Sampled df class split:\t['50.0%', '50.0%']\n",
            "\n"
          ]
        }
      ]
    },
    {
      "cell_type": "markdown",
      "source": [
        "Random Sub-sample\n"
      ],
      "metadata": {
        "id": "CqZNIwIgCQCs"
      }
    },
    {
      "cell_type": "code",
      "source": [
        "# subset parameters\n",
        "sample_fraction = 0.10  # within range (0.0, 1.0)\n",
        "random_seed = 3         # for reproducability, and \"the number of the counting shall be three\"\n",
        "\n",
        "# generate sample\n",
        "df_sample10pct = df.sample(frac=sample_fraction, random_state=random_seed).copy()"
      ],
      "metadata": {
        "id": "6no2yFJbCTXv"
      },
      "execution_count": null,
      "outputs": []
    },
    {
      "cell_type": "code",
      "source": [
        "df_sample10pct['class_numeric'].value_counts().div(len(df_sample10pct.index))"
      ],
      "metadata": {
        "id": "afSTCDctCh5O"
      },
      "execution_count": null,
      "outputs": []
    },
    {
      "cell_type": "code",
      "source": [
        "target = ['class_numeric']\n",
        "columns_without_target = list(df_sample100k[df_sample100k.columns.difference(target)])\n",
        "x_df = df_sample100k[columns_without_target]\n",
        "y_df = df_sample100k['class_numeric']"
      ],
      "metadata": {
        "id": "tVrVmrOvZfcF"
      },
      "execution_count": 20,
      "outputs": []
    },
    {
      "cell_type": "code",
      "source": [
        "BYTES_PER_GIGABYTE = 10**9  # using IEC-recommended conversion; https://en.wikipedia.org/wiki/Gigabyte#Base_10_(decimal)\n",
        "\n",
        "df_full_size_gb = df.memory_usage(deep=True).sum() / BYTES_PER_GIGABYTE\n",
        "df_size_gb = df_sample10pct.memory_usage(deep=True).sum() / BYTES_PER_GIGABYTE\n",
        "\n",
        "print(f\"Full dataframe size:\\t{df_full_size_gb:8.2f} GB\")\n",
        "print(f\"Sampled dataframe size:\\t{df_size_gb:8.2f} GB\\n\")\n",
        "\n",
        "print(f\"Full dataframe rows:\\t{len(df.index):>11,}\")\n",
        "print(f\"Sampled dataframe rows:\\t{len(df_sample10pct.index):>11,}\\n\")\n",
        "\n",
        "class_split_full = [f\"{x*100:0.1f}%\" for x in df['class_numeric'].value_counts().div(len(df.index)).tolist()]\n",
        "class_split_samp = [f\"{x*100:0.1f}%\" for x in df_sample10pct['class_numeric'].value_counts().div(len(df_sample10pct.index)).tolist()]\n",
        "\n",
        "print(f\"Full df class split:\\t{class_split_full}\")\n",
        "print(f\"Sampled df class split:\\t{class_split_samp}\\n\")"
      ],
      "metadata": {
        "id": "MPUKGV19Cp8q"
      },
      "execution_count": null,
      "outputs": []
    },
    {
      "cell_type": "code",
      "source": [
        "#with stratify\n",
        "x_train, x_test, y_train, y_test = train_test_split(x_df, y_df, test_size=0.2, shuffle= True, stratify= y_df, random_state=46) "
      ],
      "metadata": {
        "id": "sUsVKPxzZz93"
      },
      "execution_count": 139,
      "outputs": []
    },
    {
      "cell_type": "code",
      "source": [
        "#without stratify\n",
        "x_train, x_test, y_train, y_test = train_test_split(x_df, y_df, test_size=0.2, shuffle= True, random_state=46) "
      ],
      "metadata": {
        "id": "NaRIBLWm1rvO"
      },
      "execution_count": 83,
      "outputs": []
    },
    {
      "cell_type": "code",
      "source": [
        "x_train.shape"
      ],
      "metadata": {
        "colab": {
          "base_uri": "https://localhost:8080/"
        },
        "id": "w2RTesIOaQBo",
        "outputId": "c17e5b7e-4617-417b-be38-4d2828f82a4e"
      },
      "execution_count": 79,
      "outputs": [
        {
          "output_type": "execute_result",
          "data": {
            "text/plain": [
              "(80000, 16)"
            ]
          },
          "metadata": {},
          "execution_count": 79
        }
      ]
    },
    {
      "cell_type": "code",
      "source": [
        "x_train.describe()"
      ],
      "metadata": {
        "colab": {
          "base_uri": "https://localhost:8080/",
          "height": 364
        },
        "id": "qlKT-e5zdObq",
        "outputId": "bef3d9a6-3a7e-4bf3-d48d-4695cc5502de"
      },
      "execution_count": 34,
      "outputs": [
        {
          "output_type": "execute_result",
          "data": {
            "text/plain": [
              "       RUS_lett_count   emoji_check  emoji_collision   emoji_count  \\\n",
              "count    80000.000000  80000.000000     80000.000000  80000.000000   \n",
              "mean         0.001775      0.000687         0.000325      0.071688   \n",
              "std          0.316027      0.026211         0.018025      0.580993   \n",
              "min          0.000000      0.000000         0.000000      0.000000   \n",
              "25%          0.000000      0.000000         0.000000      0.000000   \n",
              "50%          0.000000      0.000000         0.000000      0.000000   \n",
              "75%          0.000000      0.000000         0.000000      0.000000   \n",
              "max         88.000000      1.000000         1.000000     57.000000   \n",
              "\n",
              "       emoji_exclamation    emoji_fist  emoji_flagUS  emoji_police  \\\n",
              "count       80000.000000  80000.000000  80000.000000  80000.000000   \n",
              "mean            0.000588      0.000675      0.001463      0.000638   \n",
              "std             0.024231      0.025972      0.038215      0.025241   \n",
              "min             0.000000      0.000000      0.000000      0.000000   \n",
              "25%             0.000000      0.000000      0.000000      0.000000   \n",
              "50%             0.000000      0.000000      0.000000      0.000000   \n",
              "75%             0.000000      0.000000      0.000000      0.000000   \n",
              "max             1.000000      1.000000      1.000000      1.000000   \n",
              "\n",
              "       emoji_prohibited   emoji_troll  following_ratio       has_url  \\\n",
              "count      80000.000000  80000.000000     80000.000000  80000.000000   \n",
              "mean           0.000112      0.003762         0.761135      0.619125   \n",
              "std            0.010606      0.061224         3.092489      0.485605   \n",
              "min            0.000000      0.000000         0.000000      0.000000   \n",
              "25%            0.000000      0.000000         0.007722      0.000000   \n",
              "50%            0.000000      0.000000         0.263332      1.000000   \n",
              "75%            0.000000      0.000000         0.875049      1.000000   \n",
              "max            1.000000      1.000000       321.333333      1.000000   \n",
              "\n",
              "         is_retweet  multi_authors  unknown_location       updates  \n",
              "count  80000.000000   80000.000000      80000.000000  8.000000e+04  \n",
              "mean       0.316937       0.064550          0.112287  6.006338e+03  \n",
              "std        0.465286       0.245732          0.315722  1.937644e+04  \n",
              "min        0.000000       0.000000          0.000000  0.000000e+00  \n",
              "25%        0.000000       0.000000          0.000000  5.000000e+00  \n",
              "50%        0.000000       0.000000          0.000000  4.110000e+02  \n",
              "75%        1.000000       0.000000          0.000000  4.974000e+03  \n",
              "max        1.000000       1.000000          1.000000  3.062703e+06  "
            ],
            "text/html": [
              "\n",
              "  <div id=\"df-08299cbe-c0d1-4b55-95cd-f069a0ad3bc4\">\n",
              "    <div class=\"colab-df-container\">\n",
              "      <div>\n",
              "<style scoped>\n",
              "    .dataframe tbody tr th:only-of-type {\n",
              "        vertical-align: middle;\n",
              "    }\n",
              "\n",
              "    .dataframe tbody tr th {\n",
              "        vertical-align: top;\n",
              "    }\n",
              "\n",
              "    .dataframe thead th {\n",
              "        text-align: right;\n",
              "    }\n",
              "</style>\n",
              "<table border=\"1\" class=\"dataframe\">\n",
              "  <thead>\n",
              "    <tr style=\"text-align: right;\">\n",
              "      <th></th>\n",
              "      <th>RUS_lett_count</th>\n",
              "      <th>emoji_check</th>\n",
              "      <th>emoji_collision</th>\n",
              "      <th>emoji_count</th>\n",
              "      <th>emoji_exclamation</th>\n",
              "      <th>emoji_fist</th>\n",
              "      <th>emoji_flagUS</th>\n",
              "      <th>emoji_police</th>\n",
              "      <th>emoji_prohibited</th>\n",
              "      <th>emoji_troll</th>\n",
              "      <th>following_ratio</th>\n",
              "      <th>has_url</th>\n",
              "      <th>is_retweet</th>\n",
              "      <th>multi_authors</th>\n",
              "      <th>unknown_location</th>\n",
              "      <th>updates</th>\n",
              "    </tr>\n",
              "  </thead>\n",
              "  <tbody>\n",
              "    <tr>\n",
              "      <th>count</th>\n",
              "      <td>80000.000000</td>\n",
              "      <td>80000.000000</td>\n",
              "      <td>80000.000000</td>\n",
              "      <td>80000.000000</td>\n",
              "      <td>80000.000000</td>\n",
              "      <td>80000.000000</td>\n",
              "      <td>80000.000000</td>\n",
              "      <td>80000.000000</td>\n",
              "      <td>80000.000000</td>\n",
              "      <td>80000.000000</td>\n",
              "      <td>80000.000000</td>\n",
              "      <td>80000.000000</td>\n",
              "      <td>80000.000000</td>\n",
              "      <td>80000.000000</td>\n",
              "      <td>80000.000000</td>\n",
              "      <td>8.000000e+04</td>\n",
              "    </tr>\n",
              "    <tr>\n",
              "      <th>mean</th>\n",
              "      <td>0.001775</td>\n",
              "      <td>0.000687</td>\n",
              "      <td>0.000325</td>\n",
              "      <td>0.071688</td>\n",
              "      <td>0.000588</td>\n",
              "      <td>0.000675</td>\n",
              "      <td>0.001463</td>\n",
              "      <td>0.000638</td>\n",
              "      <td>0.000112</td>\n",
              "      <td>0.003762</td>\n",
              "      <td>0.761135</td>\n",
              "      <td>0.619125</td>\n",
              "      <td>0.316937</td>\n",
              "      <td>0.064550</td>\n",
              "      <td>0.112287</td>\n",
              "      <td>6.006338e+03</td>\n",
              "    </tr>\n",
              "    <tr>\n",
              "      <th>std</th>\n",
              "      <td>0.316027</td>\n",
              "      <td>0.026211</td>\n",
              "      <td>0.018025</td>\n",
              "      <td>0.580993</td>\n",
              "      <td>0.024231</td>\n",
              "      <td>0.025972</td>\n",
              "      <td>0.038215</td>\n",
              "      <td>0.025241</td>\n",
              "      <td>0.010606</td>\n",
              "      <td>0.061224</td>\n",
              "      <td>3.092489</td>\n",
              "      <td>0.485605</td>\n",
              "      <td>0.465286</td>\n",
              "      <td>0.245732</td>\n",
              "      <td>0.315722</td>\n",
              "      <td>1.937644e+04</td>\n",
              "    </tr>\n",
              "    <tr>\n",
              "      <th>min</th>\n",
              "      <td>0.000000</td>\n",
              "      <td>0.000000</td>\n",
              "      <td>0.000000</td>\n",
              "      <td>0.000000</td>\n",
              "      <td>0.000000</td>\n",
              "      <td>0.000000</td>\n",
              "      <td>0.000000</td>\n",
              "      <td>0.000000</td>\n",
              "      <td>0.000000</td>\n",
              "      <td>0.000000</td>\n",
              "      <td>0.000000</td>\n",
              "      <td>0.000000</td>\n",
              "      <td>0.000000</td>\n",
              "      <td>0.000000</td>\n",
              "      <td>0.000000</td>\n",
              "      <td>0.000000e+00</td>\n",
              "    </tr>\n",
              "    <tr>\n",
              "      <th>25%</th>\n",
              "      <td>0.000000</td>\n",
              "      <td>0.000000</td>\n",
              "      <td>0.000000</td>\n",
              "      <td>0.000000</td>\n",
              "      <td>0.000000</td>\n",
              "      <td>0.000000</td>\n",
              "      <td>0.000000</td>\n",
              "      <td>0.000000</td>\n",
              "      <td>0.000000</td>\n",
              "      <td>0.000000</td>\n",
              "      <td>0.007722</td>\n",
              "      <td>0.000000</td>\n",
              "      <td>0.000000</td>\n",
              "      <td>0.000000</td>\n",
              "      <td>0.000000</td>\n",
              "      <td>5.000000e+00</td>\n",
              "    </tr>\n",
              "    <tr>\n",
              "      <th>50%</th>\n",
              "      <td>0.000000</td>\n",
              "      <td>0.000000</td>\n",
              "      <td>0.000000</td>\n",
              "      <td>0.000000</td>\n",
              "      <td>0.000000</td>\n",
              "      <td>0.000000</td>\n",
              "      <td>0.000000</td>\n",
              "      <td>0.000000</td>\n",
              "      <td>0.000000</td>\n",
              "      <td>0.000000</td>\n",
              "      <td>0.263332</td>\n",
              "      <td>1.000000</td>\n",
              "      <td>0.000000</td>\n",
              "      <td>0.000000</td>\n",
              "      <td>0.000000</td>\n",
              "      <td>4.110000e+02</td>\n",
              "    </tr>\n",
              "    <tr>\n",
              "      <th>75%</th>\n",
              "      <td>0.000000</td>\n",
              "      <td>0.000000</td>\n",
              "      <td>0.000000</td>\n",
              "      <td>0.000000</td>\n",
              "      <td>0.000000</td>\n",
              "      <td>0.000000</td>\n",
              "      <td>0.000000</td>\n",
              "      <td>0.000000</td>\n",
              "      <td>0.000000</td>\n",
              "      <td>0.000000</td>\n",
              "      <td>0.875049</td>\n",
              "      <td>1.000000</td>\n",
              "      <td>1.000000</td>\n",
              "      <td>0.000000</td>\n",
              "      <td>0.000000</td>\n",
              "      <td>4.974000e+03</td>\n",
              "    </tr>\n",
              "    <tr>\n",
              "      <th>max</th>\n",
              "      <td>88.000000</td>\n",
              "      <td>1.000000</td>\n",
              "      <td>1.000000</td>\n",
              "      <td>57.000000</td>\n",
              "      <td>1.000000</td>\n",
              "      <td>1.000000</td>\n",
              "      <td>1.000000</td>\n",
              "      <td>1.000000</td>\n",
              "      <td>1.000000</td>\n",
              "      <td>1.000000</td>\n",
              "      <td>321.333333</td>\n",
              "      <td>1.000000</td>\n",
              "      <td>1.000000</td>\n",
              "      <td>1.000000</td>\n",
              "      <td>1.000000</td>\n",
              "      <td>3.062703e+06</td>\n",
              "    </tr>\n",
              "  </tbody>\n",
              "</table>\n",
              "</div>\n",
              "      <button class=\"colab-df-convert\" onclick=\"convertToInteractive('df-08299cbe-c0d1-4b55-95cd-f069a0ad3bc4')\"\n",
              "              title=\"Convert this dataframe to an interactive table.\"\n",
              "              style=\"display:none;\">\n",
              "        \n",
              "  <svg xmlns=\"http://www.w3.org/2000/svg\" height=\"24px\"viewBox=\"0 0 24 24\"\n",
              "       width=\"24px\">\n",
              "    <path d=\"M0 0h24v24H0V0z\" fill=\"none\"/>\n",
              "    <path d=\"M18.56 5.44l.94 2.06.94-2.06 2.06-.94-2.06-.94-.94-2.06-.94 2.06-2.06.94zm-11 1L8.5 8.5l.94-2.06 2.06-.94-2.06-.94L8.5 2.5l-.94 2.06-2.06.94zm10 10l.94 2.06.94-2.06 2.06-.94-2.06-.94-.94-2.06-.94 2.06-2.06.94z\"/><path d=\"M17.41 7.96l-1.37-1.37c-.4-.4-.92-.59-1.43-.59-.52 0-1.04.2-1.43.59L10.3 9.45l-7.72 7.72c-.78.78-.78 2.05 0 2.83L4 21.41c.39.39.9.59 1.41.59.51 0 1.02-.2 1.41-.59l7.78-7.78 2.81-2.81c.8-.78.8-2.07 0-2.86zM5.41 20L4 18.59l7.72-7.72 1.47 1.35L5.41 20z\"/>\n",
              "  </svg>\n",
              "      </button>\n",
              "      \n",
              "  <style>\n",
              "    .colab-df-container {\n",
              "      display:flex;\n",
              "      flex-wrap:wrap;\n",
              "      gap: 12px;\n",
              "    }\n",
              "\n",
              "    .colab-df-convert {\n",
              "      background-color: #E8F0FE;\n",
              "      border: none;\n",
              "      border-radius: 50%;\n",
              "      cursor: pointer;\n",
              "      display: none;\n",
              "      fill: #1967D2;\n",
              "      height: 32px;\n",
              "      padding: 0 0 0 0;\n",
              "      width: 32px;\n",
              "    }\n",
              "\n",
              "    .colab-df-convert:hover {\n",
              "      background-color: #E2EBFA;\n",
              "      box-shadow: 0px 1px 2px rgba(60, 64, 67, 0.3), 0px 1px 3px 1px rgba(60, 64, 67, 0.15);\n",
              "      fill: #174EA6;\n",
              "    }\n",
              "\n",
              "    [theme=dark] .colab-df-convert {\n",
              "      background-color: #3B4455;\n",
              "      fill: #D2E3FC;\n",
              "    }\n",
              "\n",
              "    [theme=dark] .colab-df-convert:hover {\n",
              "      background-color: #434B5C;\n",
              "      box-shadow: 0px 1px 3px 1px rgba(0, 0, 0, 0.15);\n",
              "      filter: drop-shadow(0px 1px 2px rgba(0, 0, 0, 0.3));\n",
              "      fill: #FFFFFF;\n",
              "    }\n",
              "  </style>\n",
              "\n",
              "      <script>\n",
              "        const buttonEl =\n",
              "          document.querySelector('#df-08299cbe-c0d1-4b55-95cd-f069a0ad3bc4 button.colab-df-convert');\n",
              "        buttonEl.style.display =\n",
              "          google.colab.kernel.accessAllowed ? 'block' : 'none';\n",
              "\n",
              "        async function convertToInteractive(key) {\n",
              "          const element = document.querySelector('#df-08299cbe-c0d1-4b55-95cd-f069a0ad3bc4');\n",
              "          const dataTable =\n",
              "            await google.colab.kernel.invokeFunction('convertToInteractive',\n",
              "                                                     [key], {});\n",
              "          if (!dataTable) return;\n",
              "\n",
              "          const docLinkHtml = 'Like what you see? Visit the ' +\n",
              "            '<a target=\"_blank\" href=https://colab.research.google.com/notebooks/data_table.ipynb>data table notebook</a>'\n",
              "            + ' to learn more about interactive tables.';\n",
              "          element.innerHTML = '';\n",
              "          dataTable['output_type'] = 'display_data';\n",
              "          await google.colab.output.renderOutput(dataTable, element);\n",
              "          const docLink = document.createElement('div');\n",
              "          docLink.innerHTML = docLinkHtml;\n",
              "          element.appendChild(docLink);\n",
              "        }\n",
              "      </script>\n",
              "    </div>\n",
              "  </div>\n",
              "  "
            ]
          },
          "metadata": {},
          "execution_count": 34
        }
      ]
    },
    {
      "cell_type": "markdown",
      "source": [
        "### 3- Sklearn Pipelines"
      ],
      "metadata": {
        "id": "vvPofhAyAqBM"
      }
    },
    {
      "cell_type": "markdown",
      "source": [
        "Min Max Scaler Pipeline "
      ],
      "metadata": {
        "id": "X5ep7lPR2vkV"
      }
    },
    {
      "cell_type": "code",
      "source": [
        "#create pipeline to use MinMax Scaler\n",
        "full_pipeline = make_column_transformer(\n",
        "    (MinMaxScaler(), columns_without_target),\n",
        "    remainder='passthrough', verbose_feature_names_out=False,\n",
        "        sparse_threshold=0)"
      ],
      "metadata": {
        "id": "qt3tQDN3cx21"
      },
      "execution_count": 62,
      "outputs": []
    },
    {
      "cell_type": "code",
      "source": [
        "#apply fit_transform on x_train\n",
        "x_train = pd.DataFrame(full_pipeline.fit_transform(x_train),columns=full_pipeline.get_feature_names_out())"
      ],
      "metadata": {
        "id": "f7q8iylpdE1I"
      },
      "execution_count": 100,
      "outputs": []
    },
    {
      "cell_type": "code",
      "source": [
        "x_train.describe()"
      ],
      "metadata": {
        "colab": {
          "base_uri": "https://localhost:8080/",
          "height": 364
        },
        "id": "uOr4TiSJd65F",
        "outputId": "6869c01b-ef24-4c54-eda9-a35df16529ac"
      },
      "execution_count": 101,
      "outputs": [
        {
          "output_type": "execute_result",
          "data": {
            "text/plain": [
              "       RUS_lett_count   emoji_check  emoji_collision   emoji_count  \\\n",
              "count    80000.000000  80000.000000     80000.000000  80000.000000   \n",
              "mean         0.000020      0.000687         0.000325      0.001258   \n",
              "std          0.003591      0.026211         0.018025      0.010193   \n",
              "min          0.000000      0.000000         0.000000      0.000000   \n",
              "25%          0.000000      0.000000         0.000000      0.000000   \n",
              "50%          0.000000      0.000000         0.000000      0.000000   \n",
              "75%          0.000000      0.000000         0.000000      0.000000   \n",
              "max          1.000000      1.000000         1.000000      1.000000   \n",
              "\n",
              "       emoji_exclamation    emoji_fist  emoji_flagUS  emoji_police  \\\n",
              "count       80000.000000  80000.000000  80000.000000  80000.000000   \n",
              "mean            0.000588      0.000675      0.001463      0.000637   \n",
              "std             0.024231      0.025972      0.038215      0.025241   \n",
              "min             0.000000      0.000000      0.000000      0.000000   \n",
              "25%             0.000000      0.000000      0.000000      0.000000   \n",
              "50%             0.000000      0.000000      0.000000      0.000000   \n",
              "75%             0.000000      0.000000      0.000000      0.000000   \n",
              "max             1.000000      1.000000      1.000000      1.000000   \n",
              "\n",
              "       emoji_prohibited   emoji_troll  following_ratio       has_url  \\\n",
              "count      80000.000000  80000.000000     80000.000000  80000.000000   \n",
              "mean           0.000112      0.003762         0.002369      0.619125   \n",
              "std            0.010606      0.061224         0.009624      0.485605   \n",
              "min            0.000000      0.000000         0.000000      0.000000   \n",
              "25%            0.000000      0.000000         0.000024      0.000000   \n",
              "50%            0.000000      0.000000         0.000819      1.000000   \n",
              "75%            0.000000      0.000000         0.002723      1.000000   \n",
              "max            1.000000      1.000000         1.000000      1.000000   \n",
              "\n",
              "         is_retweet  multi_authors  unknown_location       updates  \n",
              "count  80000.000000   80000.000000      80000.000000  80000.000000  \n",
              "mean       0.316937       0.064550          0.112287      0.001961  \n",
              "std        0.465286       0.245732          0.315722      0.006327  \n",
              "min        0.000000       0.000000          0.000000      0.000000  \n",
              "25%        0.000000       0.000000          0.000000      0.000002  \n",
              "50%        0.000000       0.000000          0.000000      0.000134  \n",
              "75%        1.000000       0.000000          0.000000      0.001624  \n",
              "max        1.000000       1.000000          1.000000      1.000000  "
            ],
            "text/html": [
              "\n",
              "  <div id=\"df-a5402ad6-00e1-4ab6-aa2b-10c4b4d22674\">\n",
              "    <div class=\"colab-df-container\">\n",
              "      <div>\n",
              "<style scoped>\n",
              "    .dataframe tbody tr th:only-of-type {\n",
              "        vertical-align: middle;\n",
              "    }\n",
              "\n",
              "    .dataframe tbody tr th {\n",
              "        vertical-align: top;\n",
              "    }\n",
              "\n",
              "    .dataframe thead th {\n",
              "        text-align: right;\n",
              "    }\n",
              "</style>\n",
              "<table border=\"1\" class=\"dataframe\">\n",
              "  <thead>\n",
              "    <tr style=\"text-align: right;\">\n",
              "      <th></th>\n",
              "      <th>RUS_lett_count</th>\n",
              "      <th>emoji_check</th>\n",
              "      <th>emoji_collision</th>\n",
              "      <th>emoji_count</th>\n",
              "      <th>emoji_exclamation</th>\n",
              "      <th>emoji_fist</th>\n",
              "      <th>emoji_flagUS</th>\n",
              "      <th>emoji_police</th>\n",
              "      <th>emoji_prohibited</th>\n",
              "      <th>emoji_troll</th>\n",
              "      <th>following_ratio</th>\n",
              "      <th>has_url</th>\n",
              "      <th>is_retweet</th>\n",
              "      <th>multi_authors</th>\n",
              "      <th>unknown_location</th>\n",
              "      <th>updates</th>\n",
              "    </tr>\n",
              "  </thead>\n",
              "  <tbody>\n",
              "    <tr>\n",
              "      <th>count</th>\n",
              "      <td>80000.000000</td>\n",
              "      <td>80000.000000</td>\n",
              "      <td>80000.000000</td>\n",
              "      <td>80000.000000</td>\n",
              "      <td>80000.000000</td>\n",
              "      <td>80000.000000</td>\n",
              "      <td>80000.000000</td>\n",
              "      <td>80000.000000</td>\n",
              "      <td>80000.000000</td>\n",
              "      <td>80000.000000</td>\n",
              "      <td>80000.000000</td>\n",
              "      <td>80000.000000</td>\n",
              "      <td>80000.000000</td>\n",
              "      <td>80000.000000</td>\n",
              "      <td>80000.000000</td>\n",
              "      <td>80000.000000</td>\n",
              "    </tr>\n",
              "    <tr>\n",
              "      <th>mean</th>\n",
              "      <td>0.000020</td>\n",
              "      <td>0.000687</td>\n",
              "      <td>0.000325</td>\n",
              "      <td>0.001258</td>\n",
              "      <td>0.000588</td>\n",
              "      <td>0.000675</td>\n",
              "      <td>0.001463</td>\n",
              "      <td>0.000637</td>\n",
              "      <td>0.000112</td>\n",
              "      <td>0.003762</td>\n",
              "      <td>0.002369</td>\n",
              "      <td>0.619125</td>\n",
              "      <td>0.316937</td>\n",
              "      <td>0.064550</td>\n",
              "      <td>0.112287</td>\n",
              "      <td>0.001961</td>\n",
              "    </tr>\n",
              "    <tr>\n",
              "      <th>std</th>\n",
              "      <td>0.003591</td>\n",
              "      <td>0.026211</td>\n",
              "      <td>0.018025</td>\n",
              "      <td>0.010193</td>\n",
              "      <td>0.024231</td>\n",
              "      <td>0.025972</td>\n",
              "      <td>0.038215</td>\n",
              "      <td>0.025241</td>\n",
              "      <td>0.010606</td>\n",
              "      <td>0.061224</td>\n",
              "      <td>0.009624</td>\n",
              "      <td>0.485605</td>\n",
              "      <td>0.465286</td>\n",
              "      <td>0.245732</td>\n",
              "      <td>0.315722</td>\n",
              "      <td>0.006327</td>\n",
              "    </tr>\n",
              "    <tr>\n",
              "      <th>min</th>\n",
              "      <td>0.000000</td>\n",
              "      <td>0.000000</td>\n",
              "      <td>0.000000</td>\n",
              "      <td>0.000000</td>\n",
              "      <td>0.000000</td>\n",
              "      <td>0.000000</td>\n",
              "      <td>0.000000</td>\n",
              "      <td>0.000000</td>\n",
              "      <td>0.000000</td>\n",
              "      <td>0.000000</td>\n",
              "      <td>0.000000</td>\n",
              "      <td>0.000000</td>\n",
              "      <td>0.000000</td>\n",
              "      <td>0.000000</td>\n",
              "      <td>0.000000</td>\n",
              "      <td>0.000000</td>\n",
              "    </tr>\n",
              "    <tr>\n",
              "      <th>25%</th>\n",
              "      <td>0.000000</td>\n",
              "      <td>0.000000</td>\n",
              "      <td>0.000000</td>\n",
              "      <td>0.000000</td>\n",
              "      <td>0.000000</td>\n",
              "      <td>0.000000</td>\n",
              "      <td>0.000000</td>\n",
              "      <td>0.000000</td>\n",
              "      <td>0.000000</td>\n",
              "      <td>0.000000</td>\n",
              "      <td>0.000024</td>\n",
              "      <td>0.000000</td>\n",
              "      <td>0.000000</td>\n",
              "      <td>0.000000</td>\n",
              "      <td>0.000000</td>\n",
              "      <td>0.000002</td>\n",
              "    </tr>\n",
              "    <tr>\n",
              "      <th>50%</th>\n",
              "      <td>0.000000</td>\n",
              "      <td>0.000000</td>\n",
              "      <td>0.000000</td>\n",
              "      <td>0.000000</td>\n",
              "      <td>0.000000</td>\n",
              "      <td>0.000000</td>\n",
              "      <td>0.000000</td>\n",
              "      <td>0.000000</td>\n",
              "      <td>0.000000</td>\n",
              "      <td>0.000000</td>\n",
              "      <td>0.000819</td>\n",
              "      <td>1.000000</td>\n",
              "      <td>0.000000</td>\n",
              "      <td>0.000000</td>\n",
              "      <td>0.000000</td>\n",
              "      <td>0.000134</td>\n",
              "    </tr>\n",
              "    <tr>\n",
              "      <th>75%</th>\n",
              "      <td>0.000000</td>\n",
              "      <td>0.000000</td>\n",
              "      <td>0.000000</td>\n",
              "      <td>0.000000</td>\n",
              "      <td>0.000000</td>\n",
              "      <td>0.000000</td>\n",
              "      <td>0.000000</td>\n",
              "      <td>0.000000</td>\n",
              "      <td>0.000000</td>\n",
              "      <td>0.000000</td>\n",
              "      <td>0.002723</td>\n",
              "      <td>1.000000</td>\n",
              "      <td>1.000000</td>\n",
              "      <td>0.000000</td>\n",
              "      <td>0.000000</td>\n",
              "      <td>0.001624</td>\n",
              "    </tr>\n",
              "    <tr>\n",
              "      <th>max</th>\n",
              "      <td>1.000000</td>\n",
              "      <td>1.000000</td>\n",
              "      <td>1.000000</td>\n",
              "      <td>1.000000</td>\n",
              "      <td>1.000000</td>\n",
              "      <td>1.000000</td>\n",
              "      <td>1.000000</td>\n",
              "      <td>1.000000</td>\n",
              "      <td>1.000000</td>\n",
              "      <td>1.000000</td>\n",
              "      <td>1.000000</td>\n",
              "      <td>1.000000</td>\n",
              "      <td>1.000000</td>\n",
              "      <td>1.000000</td>\n",
              "      <td>1.000000</td>\n",
              "      <td>1.000000</td>\n",
              "    </tr>\n",
              "  </tbody>\n",
              "</table>\n",
              "</div>\n",
              "      <button class=\"colab-df-convert\" onclick=\"convertToInteractive('df-a5402ad6-00e1-4ab6-aa2b-10c4b4d22674')\"\n",
              "              title=\"Convert this dataframe to an interactive table.\"\n",
              "              style=\"display:none;\">\n",
              "        \n",
              "  <svg xmlns=\"http://www.w3.org/2000/svg\" height=\"24px\"viewBox=\"0 0 24 24\"\n",
              "       width=\"24px\">\n",
              "    <path d=\"M0 0h24v24H0V0z\" fill=\"none\"/>\n",
              "    <path d=\"M18.56 5.44l.94 2.06.94-2.06 2.06-.94-2.06-.94-.94-2.06-.94 2.06-2.06.94zm-11 1L8.5 8.5l.94-2.06 2.06-.94-2.06-.94L8.5 2.5l-.94 2.06-2.06.94zm10 10l.94 2.06.94-2.06 2.06-.94-2.06-.94-.94-2.06-.94 2.06-2.06.94z\"/><path d=\"M17.41 7.96l-1.37-1.37c-.4-.4-.92-.59-1.43-.59-.52 0-1.04.2-1.43.59L10.3 9.45l-7.72 7.72c-.78.78-.78 2.05 0 2.83L4 21.41c.39.39.9.59 1.41.59.51 0 1.02-.2 1.41-.59l7.78-7.78 2.81-2.81c.8-.78.8-2.07 0-2.86zM5.41 20L4 18.59l7.72-7.72 1.47 1.35L5.41 20z\"/>\n",
              "  </svg>\n",
              "      </button>\n",
              "      \n",
              "  <style>\n",
              "    .colab-df-container {\n",
              "      display:flex;\n",
              "      flex-wrap:wrap;\n",
              "      gap: 12px;\n",
              "    }\n",
              "\n",
              "    .colab-df-convert {\n",
              "      background-color: #E8F0FE;\n",
              "      border: none;\n",
              "      border-radius: 50%;\n",
              "      cursor: pointer;\n",
              "      display: none;\n",
              "      fill: #1967D2;\n",
              "      height: 32px;\n",
              "      padding: 0 0 0 0;\n",
              "      width: 32px;\n",
              "    }\n",
              "\n",
              "    .colab-df-convert:hover {\n",
              "      background-color: #E2EBFA;\n",
              "      box-shadow: 0px 1px 2px rgba(60, 64, 67, 0.3), 0px 1px 3px 1px rgba(60, 64, 67, 0.15);\n",
              "      fill: #174EA6;\n",
              "    }\n",
              "\n",
              "    [theme=dark] .colab-df-convert {\n",
              "      background-color: #3B4455;\n",
              "      fill: #D2E3FC;\n",
              "    }\n",
              "\n",
              "    [theme=dark] .colab-df-convert:hover {\n",
              "      background-color: #434B5C;\n",
              "      box-shadow: 0px 1px 3px 1px rgba(0, 0, 0, 0.15);\n",
              "      filter: drop-shadow(0px 1px 2px rgba(0, 0, 0, 0.3));\n",
              "      fill: #FFFFFF;\n",
              "    }\n",
              "  </style>\n",
              "\n",
              "      <script>\n",
              "        const buttonEl =\n",
              "          document.querySelector('#df-a5402ad6-00e1-4ab6-aa2b-10c4b4d22674 button.colab-df-convert');\n",
              "        buttonEl.style.display =\n",
              "          google.colab.kernel.accessAllowed ? 'block' : 'none';\n",
              "\n",
              "        async function convertToInteractive(key) {\n",
              "          const element = document.querySelector('#df-a5402ad6-00e1-4ab6-aa2b-10c4b4d22674');\n",
              "          const dataTable =\n",
              "            await google.colab.kernel.invokeFunction('convertToInteractive',\n",
              "                                                     [key], {});\n",
              "          if (!dataTable) return;\n",
              "\n",
              "          const docLinkHtml = 'Like what you see? Visit the ' +\n",
              "            '<a target=\"_blank\" href=https://colab.research.google.com/notebooks/data_table.ipynb>data table notebook</a>'\n",
              "            + ' to learn more about interactive tables.';\n",
              "          element.innerHTML = '';\n",
              "          dataTable['output_type'] = 'display_data';\n",
              "          await google.colab.output.renderOutput(dataTable, element);\n",
              "          const docLink = document.createElement('div');\n",
              "          docLink.innerHTML = docLinkHtml;\n",
              "          element.appendChild(docLink);\n",
              "        }\n",
              "      </script>\n",
              "    </div>\n",
              "  </div>\n",
              "  "
            ]
          },
          "metadata": {},
          "execution_count": 101
        }
      ]
    },
    {
      "cell_type": "code",
      "source": [
        "#transform x_test\n",
        "x_test = pd.DataFrame(full_pipeline.transform(x_test), columns= full_pipeline.get_feature_names_out())"
      ],
      "metadata": {
        "id": "yPYC_Q-9dJwv"
      },
      "execution_count": 102,
      "outputs": []
    },
    {
      "cell_type": "markdown",
      "source": [
        "StandardScaler Pipeline"
      ],
      "metadata": {
        "id": "kl2oc1i22x8-"
      }
    },
    {
      "cell_type": "code",
      "source": [
        "#alt pipeline for StandardScaler\n",
        "full_pipeline2 = make_column_transformer(\n",
        "    (StandardScaler(), columns_without_target),\n",
        "    remainder='passthrough', verbose_feature_names_out=False,\n",
        "        sparse_threshold=0)"
      ],
      "metadata": {
        "id": "Vp0SlmNZ2cU9"
      },
      "execution_count": 112,
      "outputs": []
    },
    {
      "cell_type": "code",
      "source": [
        "#apply fit_transform on x_train\n",
        "x_train = pd.DataFrame(full_pipeline2.fit_transform(x_train),columns=full_pipeline2.get_feature_names_out())"
      ],
      "metadata": {
        "id": "tR7_1nhh2nnR"
      },
      "execution_count": 140,
      "outputs": []
    },
    {
      "cell_type": "code",
      "source": [
        "#transform x_test\n",
        "x_test = pd.DataFrame(full_pipeline2.transform(x_test), columns= full_pipeline2.get_feature_names_out())"
      ],
      "metadata": {
        "id": "bSm7pCQs2u0f"
      },
      "execution_count": 141,
      "outputs": []
    },
    {
      "cell_type": "code",
      "source": [
        "x_train.describe()"
      ],
      "metadata": {
        "colab": {
          "base_uri": "https://localhost:8080/",
          "height": 451
        },
        "id": "VW3Q_SrI4Zz_",
        "outputId": "02736f59-8180-4477-ad64-dbfe2d9346d5"
      },
      "execution_count": 115,
      "outputs": [
        {
          "output_type": "execute_result",
          "data": {
            "text/plain": [
              "       RUS_lett_count   emoji_check  emoji_collision   emoji_count  \\\n",
              "count    8.000000e+04  8.000000e+04     8.000000e+04  8.000000e+04   \n",
              "mean     5.595524e-18  4.440892e-18    -1.865175e-18 -1.394440e-17   \n",
              "std      1.000006e+00  1.000006e+00     1.000006e+00  1.000006e+00   \n",
              "min     -5.616643e-03 -2.622924e-02    -1.803069e-02 -1.233887e-01   \n",
              "25%     -5.616643e-03 -2.622924e-02    -1.803069e-02 -1.233887e-01   \n",
              "50%     -5.616643e-03 -2.622924e-02    -1.803069e-02 -1.233887e-01   \n",
              "75%     -5.616643e-03 -2.622924e-02    -1.803069e-02 -1.233887e-01   \n",
              "max      2.784533e+02  3.812539e+01     5.546101e+01  9.798515e+01   \n",
              "\n",
              "       emoji_exclamation    emoji_fist  emoji_flagUS  emoji_police  \\\n",
              "count       8.000000e+04  8.000000e+04  8.000000e+04  8.000000e+04   \n",
              "mean        5.861978e-18 -3.907985e-18 -1.403322e-17 -2.380318e-17   \n",
              "std         1.000006e+00  1.000006e+00  1.000006e+00  1.000006e+00   \n",
              "min        -2.424552e-02 -2.598954e-02 -3.827064e-02 -2.525681e-02   \n",
              "25%        -2.424552e-02 -2.598954e-02 -3.827064e-02 -2.525681e-02   \n",
              "50%        -2.424552e-02 -2.598954e-02 -3.827064e-02 -2.525681e-02   \n",
              "75%        -2.424552e-02 -2.598954e-02 -3.827064e-02 -2.525681e-02   \n",
              "max         4.124473e+01  3.847703e+01  2.612969e+01  3.959328e+01   \n",
              "\n",
              "       emoji_prohibited   emoji_troll  following_ratio       has_url  \\\n",
              "count      8.000000e+04  8.000000e+04     8.000000e+04  8.000000e+04   \n",
              "mean      -8.881784e-19  2.167155e-17    -5.195844e-17 -9.290346e-17   \n",
              "std        1.000006e+00  1.000006e+00     1.000006e+00  1.000006e+00   \n",
              "min       -1.060720e-02 -6.145494e-02    -2.461254e-01 -1.274964e+00   \n",
              "25%       -1.060720e-02 -6.145494e-02    -2.436284e-01 -1.274964e+00   \n",
              "50%       -1.060720e-02 -6.145494e-02    -1.609729e-01  7.843358e-01   \n",
              "75%       -1.060720e-02 -6.145494e-02     3.683576e-02  7.843358e-01   \n",
              "max        9.427560e+01  1.627208e+01     1.036622e+02  7.843358e-01   \n",
              "\n",
              "         is_retweet  multi_authors  unknown_location       updates  \n",
              "count  8.000000e+04   8.000000e+04      8.000000e+04  8.000000e+04  \n",
              "mean   4.356515e-17   9.965362e-17      1.714184e-17 -4.600764e-17  \n",
              "std    1.000006e+00   1.000006e+00      1.000006e+00  1.000006e+00  \n",
              "min   -6.811717e-01  -2.626865e-01     -3.556555e-01 -3.099834e-01  \n",
              "25%   -6.811717e-01  -2.626865e-01     -3.556555e-01 -3.097253e-01  \n",
              "50%   -6.811717e-01  -2.626865e-01     -3.556555e-01 -2.887719e-01  \n",
              "75%    1.468059e+00  -2.626865e-01     -3.556555e-01 -5.327833e-02  \n",
              "max    1.468059e+00   3.806818e+00      2.811710e+00  1.577542e+02  "
            ],
            "text/html": [
              "\n",
              "  <div id=\"df-e6082c05-c70b-4e4c-b8e3-8d4becebd918\">\n",
              "    <div class=\"colab-df-container\">\n",
              "      <div>\n",
              "<style scoped>\n",
              "    .dataframe tbody tr th:only-of-type {\n",
              "        vertical-align: middle;\n",
              "    }\n",
              "\n",
              "    .dataframe tbody tr th {\n",
              "        vertical-align: top;\n",
              "    }\n",
              "\n",
              "    .dataframe thead th {\n",
              "        text-align: right;\n",
              "    }\n",
              "</style>\n",
              "<table border=\"1\" class=\"dataframe\">\n",
              "  <thead>\n",
              "    <tr style=\"text-align: right;\">\n",
              "      <th></th>\n",
              "      <th>RUS_lett_count</th>\n",
              "      <th>emoji_check</th>\n",
              "      <th>emoji_collision</th>\n",
              "      <th>emoji_count</th>\n",
              "      <th>emoji_exclamation</th>\n",
              "      <th>emoji_fist</th>\n",
              "      <th>emoji_flagUS</th>\n",
              "      <th>emoji_police</th>\n",
              "      <th>emoji_prohibited</th>\n",
              "      <th>emoji_troll</th>\n",
              "      <th>following_ratio</th>\n",
              "      <th>has_url</th>\n",
              "      <th>is_retweet</th>\n",
              "      <th>multi_authors</th>\n",
              "      <th>unknown_location</th>\n",
              "      <th>updates</th>\n",
              "    </tr>\n",
              "  </thead>\n",
              "  <tbody>\n",
              "    <tr>\n",
              "      <th>count</th>\n",
              "      <td>8.000000e+04</td>\n",
              "      <td>8.000000e+04</td>\n",
              "      <td>8.000000e+04</td>\n",
              "      <td>8.000000e+04</td>\n",
              "      <td>8.000000e+04</td>\n",
              "      <td>8.000000e+04</td>\n",
              "      <td>8.000000e+04</td>\n",
              "      <td>8.000000e+04</td>\n",
              "      <td>8.000000e+04</td>\n",
              "      <td>8.000000e+04</td>\n",
              "      <td>8.000000e+04</td>\n",
              "      <td>8.000000e+04</td>\n",
              "      <td>8.000000e+04</td>\n",
              "      <td>8.000000e+04</td>\n",
              "      <td>8.000000e+04</td>\n",
              "      <td>8.000000e+04</td>\n",
              "    </tr>\n",
              "    <tr>\n",
              "      <th>mean</th>\n",
              "      <td>5.595524e-18</td>\n",
              "      <td>4.440892e-18</td>\n",
              "      <td>-1.865175e-18</td>\n",
              "      <td>-1.394440e-17</td>\n",
              "      <td>5.861978e-18</td>\n",
              "      <td>-3.907985e-18</td>\n",
              "      <td>-1.403322e-17</td>\n",
              "      <td>-2.380318e-17</td>\n",
              "      <td>-8.881784e-19</td>\n",
              "      <td>2.167155e-17</td>\n",
              "      <td>-5.195844e-17</td>\n",
              "      <td>-9.290346e-17</td>\n",
              "      <td>4.356515e-17</td>\n",
              "      <td>9.965362e-17</td>\n",
              "      <td>1.714184e-17</td>\n",
              "      <td>-4.600764e-17</td>\n",
              "    </tr>\n",
              "    <tr>\n",
              "      <th>std</th>\n",
              "      <td>1.000006e+00</td>\n",
              "      <td>1.000006e+00</td>\n",
              "      <td>1.000006e+00</td>\n",
              "      <td>1.000006e+00</td>\n",
              "      <td>1.000006e+00</td>\n",
              "      <td>1.000006e+00</td>\n",
              "      <td>1.000006e+00</td>\n",
              "      <td>1.000006e+00</td>\n",
              "      <td>1.000006e+00</td>\n",
              "      <td>1.000006e+00</td>\n",
              "      <td>1.000006e+00</td>\n",
              "      <td>1.000006e+00</td>\n",
              "      <td>1.000006e+00</td>\n",
              "      <td>1.000006e+00</td>\n",
              "      <td>1.000006e+00</td>\n",
              "      <td>1.000006e+00</td>\n",
              "    </tr>\n",
              "    <tr>\n",
              "      <th>min</th>\n",
              "      <td>-5.616643e-03</td>\n",
              "      <td>-2.622924e-02</td>\n",
              "      <td>-1.803069e-02</td>\n",
              "      <td>-1.233887e-01</td>\n",
              "      <td>-2.424552e-02</td>\n",
              "      <td>-2.598954e-02</td>\n",
              "      <td>-3.827064e-02</td>\n",
              "      <td>-2.525681e-02</td>\n",
              "      <td>-1.060720e-02</td>\n",
              "      <td>-6.145494e-02</td>\n",
              "      <td>-2.461254e-01</td>\n",
              "      <td>-1.274964e+00</td>\n",
              "      <td>-6.811717e-01</td>\n",
              "      <td>-2.626865e-01</td>\n",
              "      <td>-3.556555e-01</td>\n",
              "      <td>-3.099834e-01</td>\n",
              "    </tr>\n",
              "    <tr>\n",
              "      <th>25%</th>\n",
              "      <td>-5.616643e-03</td>\n",
              "      <td>-2.622924e-02</td>\n",
              "      <td>-1.803069e-02</td>\n",
              "      <td>-1.233887e-01</td>\n",
              "      <td>-2.424552e-02</td>\n",
              "      <td>-2.598954e-02</td>\n",
              "      <td>-3.827064e-02</td>\n",
              "      <td>-2.525681e-02</td>\n",
              "      <td>-1.060720e-02</td>\n",
              "      <td>-6.145494e-02</td>\n",
              "      <td>-2.436284e-01</td>\n",
              "      <td>-1.274964e+00</td>\n",
              "      <td>-6.811717e-01</td>\n",
              "      <td>-2.626865e-01</td>\n",
              "      <td>-3.556555e-01</td>\n",
              "      <td>-3.097253e-01</td>\n",
              "    </tr>\n",
              "    <tr>\n",
              "      <th>50%</th>\n",
              "      <td>-5.616643e-03</td>\n",
              "      <td>-2.622924e-02</td>\n",
              "      <td>-1.803069e-02</td>\n",
              "      <td>-1.233887e-01</td>\n",
              "      <td>-2.424552e-02</td>\n",
              "      <td>-2.598954e-02</td>\n",
              "      <td>-3.827064e-02</td>\n",
              "      <td>-2.525681e-02</td>\n",
              "      <td>-1.060720e-02</td>\n",
              "      <td>-6.145494e-02</td>\n",
              "      <td>-1.609729e-01</td>\n",
              "      <td>7.843358e-01</td>\n",
              "      <td>-6.811717e-01</td>\n",
              "      <td>-2.626865e-01</td>\n",
              "      <td>-3.556555e-01</td>\n",
              "      <td>-2.887719e-01</td>\n",
              "    </tr>\n",
              "    <tr>\n",
              "      <th>75%</th>\n",
              "      <td>-5.616643e-03</td>\n",
              "      <td>-2.622924e-02</td>\n",
              "      <td>-1.803069e-02</td>\n",
              "      <td>-1.233887e-01</td>\n",
              "      <td>-2.424552e-02</td>\n",
              "      <td>-2.598954e-02</td>\n",
              "      <td>-3.827064e-02</td>\n",
              "      <td>-2.525681e-02</td>\n",
              "      <td>-1.060720e-02</td>\n",
              "      <td>-6.145494e-02</td>\n",
              "      <td>3.683576e-02</td>\n",
              "      <td>7.843358e-01</td>\n",
              "      <td>1.468059e+00</td>\n",
              "      <td>-2.626865e-01</td>\n",
              "      <td>-3.556555e-01</td>\n",
              "      <td>-5.327833e-02</td>\n",
              "    </tr>\n",
              "    <tr>\n",
              "      <th>max</th>\n",
              "      <td>2.784533e+02</td>\n",
              "      <td>3.812539e+01</td>\n",
              "      <td>5.546101e+01</td>\n",
              "      <td>9.798515e+01</td>\n",
              "      <td>4.124473e+01</td>\n",
              "      <td>3.847703e+01</td>\n",
              "      <td>2.612969e+01</td>\n",
              "      <td>3.959328e+01</td>\n",
              "      <td>9.427560e+01</td>\n",
              "      <td>1.627208e+01</td>\n",
              "      <td>1.036622e+02</td>\n",
              "      <td>7.843358e-01</td>\n",
              "      <td>1.468059e+00</td>\n",
              "      <td>3.806818e+00</td>\n",
              "      <td>2.811710e+00</td>\n",
              "      <td>1.577542e+02</td>\n",
              "    </tr>\n",
              "  </tbody>\n",
              "</table>\n",
              "</div>\n",
              "      <button class=\"colab-df-convert\" onclick=\"convertToInteractive('df-e6082c05-c70b-4e4c-b8e3-8d4becebd918')\"\n",
              "              title=\"Convert this dataframe to an interactive table.\"\n",
              "              style=\"display:none;\">\n",
              "        \n",
              "  <svg xmlns=\"http://www.w3.org/2000/svg\" height=\"24px\"viewBox=\"0 0 24 24\"\n",
              "       width=\"24px\">\n",
              "    <path d=\"M0 0h24v24H0V0z\" fill=\"none\"/>\n",
              "    <path d=\"M18.56 5.44l.94 2.06.94-2.06 2.06-.94-2.06-.94-.94-2.06-.94 2.06-2.06.94zm-11 1L8.5 8.5l.94-2.06 2.06-.94-2.06-.94L8.5 2.5l-.94 2.06-2.06.94zm10 10l.94 2.06.94-2.06 2.06-.94-2.06-.94-.94-2.06-.94 2.06-2.06.94z\"/><path d=\"M17.41 7.96l-1.37-1.37c-.4-.4-.92-.59-1.43-.59-.52 0-1.04.2-1.43.59L10.3 9.45l-7.72 7.72c-.78.78-.78 2.05 0 2.83L4 21.41c.39.39.9.59 1.41.59.51 0 1.02-.2 1.41-.59l7.78-7.78 2.81-2.81c.8-.78.8-2.07 0-2.86zM5.41 20L4 18.59l7.72-7.72 1.47 1.35L5.41 20z\"/>\n",
              "  </svg>\n",
              "      </button>\n",
              "      \n",
              "  <style>\n",
              "    .colab-df-container {\n",
              "      display:flex;\n",
              "      flex-wrap:wrap;\n",
              "      gap: 12px;\n",
              "    }\n",
              "\n",
              "    .colab-df-convert {\n",
              "      background-color: #E8F0FE;\n",
              "      border: none;\n",
              "      border-radius: 50%;\n",
              "      cursor: pointer;\n",
              "      display: none;\n",
              "      fill: #1967D2;\n",
              "      height: 32px;\n",
              "      padding: 0 0 0 0;\n",
              "      width: 32px;\n",
              "    }\n",
              "\n",
              "    .colab-df-convert:hover {\n",
              "      background-color: #E2EBFA;\n",
              "      box-shadow: 0px 1px 2px rgba(60, 64, 67, 0.3), 0px 1px 3px 1px rgba(60, 64, 67, 0.15);\n",
              "      fill: #174EA6;\n",
              "    }\n",
              "\n",
              "    [theme=dark] .colab-df-convert {\n",
              "      background-color: #3B4455;\n",
              "      fill: #D2E3FC;\n",
              "    }\n",
              "\n",
              "    [theme=dark] .colab-df-convert:hover {\n",
              "      background-color: #434B5C;\n",
              "      box-shadow: 0px 1px 3px 1px rgba(0, 0, 0, 0.15);\n",
              "      filter: drop-shadow(0px 1px 2px rgba(0, 0, 0, 0.3));\n",
              "      fill: #FFFFFF;\n",
              "    }\n",
              "  </style>\n",
              "\n",
              "      <script>\n",
              "        const buttonEl =\n",
              "          document.querySelector('#df-e6082c05-c70b-4e4c-b8e3-8d4becebd918 button.colab-df-convert');\n",
              "        buttonEl.style.display =\n",
              "          google.colab.kernel.accessAllowed ? 'block' : 'none';\n",
              "\n",
              "        async function convertToInteractive(key) {\n",
              "          const element = document.querySelector('#df-e6082c05-c70b-4e4c-b8e3-8d4becebd918');\n",
              "          const dataTable =\n",
              "            await google.colab.kernel.invokeFunction('convertToInteractive',\n",
              "                                                     [key], {});\n",
              "          if (!dataTable) return;\n",
              "\n",
              "          const docLinkHtml = 'Like what you see? Visit the ' +\n",
              "            '<a target=\"_blank\" href=https://colab.research.google.com/notebooks/data_table.ipynb>data table notebook</a>'\n",
              "            + ' to learn more about interactive tables.';\n",
              "          element.innerHTML = '';\n",
              "          dataTable['output_type'] = 'display_data';\n",
              "          await google.colab.output.renderOutput(dataTable, element);\n",
              "          const docLink = document.createElement('div');\n",
              "          docLink.innerHTML = docLinkHtml;\n",
              "          element.appendChild(docLink);\n",
              "        }\n",
              "      </script>\n",
              "    </div>\n",
              "  </div>\n",
              "  "
            ]
          },
          "metadata": {},
          "execution_count": 115
        }
      ]
    },
    {
      "cell_type": "code",
      "source": [
        "x_train.head()"
      ],
      "metadata": {
        "colab": {
          "base_uri": "https://localhost:8080/",
          "height": 270
        },
        "id": "Zu19h8Rn5tb-",
        "outputId": "ba4798a9-008e-4833-c239-ccbca0c389c0"
      },
      "execution_count": 128,
      "outputs": [
        {
          "output_type": "execute_result",
          "data": {
            "text/plain": [
              "   RUS_lett_count  emoji_check  emoji_collision  emoji_count  \\\n",
              "0       -0.005617    -0.026229        -0.018031    -0.123389   \n",
              "1       -0.005617    -0.026229        -0.018031    -0.123389   \n",
              "2       -0.005617    -0.026229        -0.018031    -0.123389   \n",
              "3       -0.005617    -0.026229        -0.018031    -0.123389   \n",
              "4       -0.005617    -0.026229        -0.018031    -0.123389   \n",
              "\n",
              "   emoji_exclamation  emoji_fist  emoji_flagUS  emoji_police  \\\n",
              "0          -0.024246    -0.02599     -0.038271     -0.025257   \n",
              "1          -0.024246    -0.02599     -0.038271     -0.025257   \n",
              "2          -0.024246    -0.02599     -0.038271     -0.025257   \n",
              "3          -0.024246    -0.02599     -0.038271     -0.025257   \n",
              "4          -0.024246    -0.02599     -0.038271     -0.025257   \n",
              "\n",
              "   emoji_prohibited  emoji_troll  following_ratio   has_url  is_retweet  \\\n",
              "0         -0.010607    -0.061455         0.029182 -1.274964   -0.681172   \n",
              "1         -0.010607    -0.061455         0.720301  0.784336   -0.681172   \n",
              "2         -0.010607    -0.061455        -0.076785 -1.274964   -0.681172   \n",
              "3         -0.010607    -0.061455         0.016778 -1.274964    1.468059   \n",
              "4         -0.010607    -0.061455        -0.100183  0.784336   -0.681172   \n",
              "\n",
              "   multi_authors  unknown_location   updates  \n",
              "0      -0.262687         -0.355656  0.319032  \n",
              "1       3.806818         -0.355656 -0.281598  \n",
              "2      -0.262687         -0.355656 -0.309983  \n",
              "3      -0.262687         -0.355656 -0.220338  \n",
              "4      -0.262687         -0.355656  0.152643  "
            ],
            "text/html": [
              "\n",
              "  <div id=\"df-e2028ed8-8d5e-4b3d-add3-52dd3a80581b\">\n",
              "    <div class=\"colab-df-container\">\n",
              "      <div>\n",
              "<style scoped>\n",
              "    .dataframe tbody tr th:only-of-type {\n",
              "        vertical-align: middle;\n",
              "    }\n",
              "\n",
              "    .dataframe tbody tr th {\n",
              "        vertical-align: top;\n",
              "    }\n",
              "\n",
              "    .dataframe thead th {\n",
              "        text-align: right;\n",
              "    }\n",
              "</style>\n",
              "<table border=\"1\" class=\"dataframe\">\n",
              "  <thead>\n",
              "    <tr style=\"text-align: right;\">\n",
              "      <th></th>\n",
              "      <th>RUS_lett_count</th>\n",
              "      <th>emoji_check</th>\n",
              "      <th>emoji_collision</th>\n",
              "      <th>emoji_count</th>\n",
              "      <th>emoji_exclamation</th>\n",
              "      <th>emoji_fist</th>\n",
              "      <th>emoji_flagUS</th>\n",
              "      <th>emoji_police</th>\n",
              "      <th>emoji_prohibited</th>\n",
              "      <th>emoji_troll</th>\n",
              "      <th>following_ratio</th>\n",
              "      <th>has_url</th>\n",
              "      <th>is_retweet</th>\n",
              "      <th>multi_authors</th>\n",
              "      <th>unknown_location</th>\n",
              "      <th>updates</th>\n",
              "    </tr>\n",
              "  </thead>\n",
              "  <tbody>\n",
              "    <tr>\n",
              "      <th>0</th>\n",
              "      <td>-0.005617</td>\n",
              "      <td>-0.026229</td>\n",
              "      <td>-0.018031</td>\n",
              "      <td>-0.123389</td>\n",
              "      <td>-0.024246</td>\n",
              "      <td>-0.02599</td>\n",
              "      <td>-0.038271</td>\n",
              "      <td>-0.025257</td>\n",
              "      <td>-0.010607</td>\n",
              "      <td>-0.061455</td>\n",
              "      <td>0.029182</td>\n",
              "      <td>-1.274964</td>\n",
              "      <td>-0.681172</td>\n",
              "      <td>-0.262687</td>\n",
              "      <td>-0.355656</td>\n",
              "      <td>0.319032</td>\n",
              "    </tr>\n",
              "    <tr>\n",
              "      <th>1</th>\n",
              "      <td>-0.005617</td>\n",
              "      <td>-0.026229</td>\n",
              "      <td>-0.018031</td>\n",
              "      <td>-0.123389</td>\n",
              "      <td>-0.024246</td>\n",
              "      <td>-0.02599</td>\n",
              "      <td>-0.038271</td>\n",
              "      <td>-0.025257</td>\n",
              "      <td>-0.010607</td>\n",
              "      <td>-0.061455</td>\n",
              "      <td>0.720301</td>\n",
              "      <td>0.784336</td>\n",
              "      <td>-0.681172</td>\n",
              "      <td>3.806818</td>\n",
              "      <td>-0.355656</td>\n",
              "      <td>-0.281598</td>\n",
              "    </tr>\n",
              "    <tr>\n",
              "      <th>2</th>\n",
              "      <td>-0.005617</td>\n",
              "      <td>-0.026229</td>\n",
              "      <td>-0.018031</td>\n",
              "      <td>-0.123389</td>\n",
              "      <td>-0.024246</td>\n",
              "      <td>-0.02599</td>\n",
              "      <td>-0.038271</td>\n",
              "      <td>-0.025257</td>\n",
              "      <td>-0.010607</td>\n",
              "      <td>-0.061455</td>\n",
              "      <td>-0.076785</td>\n",
              "      <td>-1.274964</td>\n",
              "      <td>-0.681172</td>\n",
              "      <td>-0.262687</td>\n",
              "      <td>-0.355656</td>\n",
              "      <td>-0.309983</td>\n",
              "    </tr>\n",
              "    <tr>\n",
              "      <th>3</th>\n",
              "      <td>-0.005617</td>\n",
              "      <td>-0.026229</td>\n",
              "      <td>-0.018031</td>\n",
              "      <td>-0.123389</td>\n",
              "      <td>-0.024246</td>\n",
              "      <td>-0.02599</td>\n",
              "      <td>-0.038271</td>\n",
              "      <td>-0.025257</td>\n",
              "      <td>-0.010607</td>\n",
              "      <td>-0.061455</td>\n",
              "      <td>0.016778</td>\n",
              "      <td>-1.274964</td>\n",
              "      <td>1.468059</td>\n",
              "      <td>-0.262687</td>\n",
              "      <td>-0.355656</td>\n",
              "      <td>-0.220338</td>\n",
              "    </tr>\n",
              "    <tr>\n",
              "      <th>4</th>\n",
              "      <td>-0.005617</td>\n",
              "      <td>-0.026229</td>\n",
              "      <td>-0.018031</td>\n",
              "      <td>-0.123389</td>\n",
              "      <td>-0.024246</td>\n",
              "      <td>-0.02599</td>\n",
              "      <td>-0.038271</td>\n",
              "      <td>-0.025257</td>\n",
              "      <td>-0.010607</td>\n",
              "      <td>-0.061455</td>\n",
              "      <td>-0.100183</td>\n",
              "      <td>0.784336</td>\n",
              "      <td>-0.681172</td>\n",
              "      <td>-0.262687</td>\n",
              "      <td>-0.355656</td>\n",
              "      <td>0.152643</td>\n",
              "    </tr>\n",
              "  </tbody>\n",
              "</table>\n",
              "</div>\n",
              "      <button class=\"colab-df-convert\" onclick=\"convertToInteractive('df-e2028ed8-8d5e-4b3d-add3-52dd3a80581b')\"\n",
              "              title=\"Convert this dataframe to an interactive table.\"\n",
              "              style=\"display:none;\">\n",
              "        \n",
              "  <svg xmlns=\"http://www.w3.org/2000/svg\" height=\"24px\"viewBox=\"0 0 24 24\"\n",
              "       width=\"24px\">\n",
              "    <path d=\"M0 0h24v24H0V0z\" fill=\"none\"/>\n",
              "    <path d=\"M18.56 5.44l.94 2.06.94-2.06 2.06-.94-2.06-.94-.94-2.06-.94 2.06-2.06.94zm-11 1L8.5 8.5l.94-2.06 2.06-.94-2.06-.94L8.5 2.5l-.94 2.06-2.06.94zm10 10l.94 2.06.94-2.06 2.06-.94-2.06-.94-.94-2.06-.94 2.06-2.06.94z\"/><path d=\"M17.41 7.96l-1.37-1.37c-.4-.4-.92-.59-1.43-.59-.52 0-1.04.2-1.43.59L10.3 9.45l-7.72 7.72c-.78.78-.78 2.05 0 2.83L4 21.41c.39.39.9.59 1.41.59.51 0 1.02-.2 1.41-.59l7.78-7.78 2.81-2.81c.8-.78.8-2.07 0-2.86zM5.41 20L4 18.59l7.72-7.72 1.47 1.35L5.41 20z\"/>\n",
              "  </svg>\n",
              "      </button>\n",
              "      \n",
              "  <style>\n",
              "    .colab-df-container {\n",
              "      display:flex;\n",
              "      flex-wrap:wrap;\n",
              "      gap: 12px;\n",
              "    }\n",
              "\n",
              "    .colab-df-convert {\n",
              "      background-color: #E8F0FE;\n",
              "      border: none;\n",
              "      border-radius: 50%;\n",
              "      cursor: pointer;\n",
              "      display: none;\n",
              "      fill: #1967D2;\n",
              "      height: 32px;\n",
              "      padding: 0 0 0 0;\n",
              "      width: 32px;\n",
              "    }\n",
              "\n",
              "    .colab-df-convert:hover {\n",
              "      background-color: #E2EBFA;\n",
              "      box-shadow: 0px 1px 2px rgba(60, 64, 67, 0.3), 0px 1px 3px 1px rgba(60, 64, 67, 0.15);\n",
              "      fill: #174EA6;\n",
              "    }\n",
              "\n",
              "    [theme=dark] .colab-df-convert {\n",
              "      background-color: #3B4455;\n",
              "      fill: #D2E3FC;\n",
              "    }\n",
              "\n",
              "    [theme=dark] .colab-df-convert:hover {\n",
              "      background-color: #434B5C;\n",
              "      box-shadow: 0px 1px 3px 1px rgba(0, 0, 0, 0.15);\n",
              "      filter: drop-shadow(0px 1px 2px rgba(0, 0, 0, 0.3));\n",
              "      fill: #FFFFFF;\n",
              "    }\n",
              "  </style>\n",
              "\n",
              "      <script>\n",
              "        const buttonEl =\n",
              "          document.querySelector('#df-e2028ed8-8d5e-4b3d-add3-52dd3a80581b button.colab-df-convert');\n",
              "        buttonEl.style.display =\n",
              "          google.colab.kernel.accessAllowed ? 'block' : 'none';\n",
              "\n",
              "        async function convertToInteractive(key) {\n",
              "          const element = document.querySelector('#df-e2028ed8-8d5e-4b3d-add3-52dd3a80581b');\n",
              "          const dataTable =\n",
              "            await google.colab.kernel.invokeFunction('convertToInteractive',\n",
              "                                                     [key], {});\n",
              "          if (!dataTable) return;\n",
              "\n",
              "          const docLinkHtml = 'Like what you see? Visit the ' +\n",
              "            '<a target=\"_blank\" href=https://colab.research.google.com/notebooks/data_table.ipynb>data table notebook</a>'\n",
              "            + ' to learn more about interactive tables.';\n",
              "          element.innerHTML = '';\n",
              "          dataTable['output_type'] = 'display_data';\n",
              "          await google.colab.output.renderOutput(dataTable, element);\n",
              "          const docLink = document.createElement('div');\n",
              "          docLink.innerHTML = docLinkHtml;\n",
              "          element.appendChild(docLink);\n",
              "        }\n",
              "      </script>\n",
              "    </div>\n",
              "  </div>\n",
              "  "
            ]
          },
          "metadata": {},
          "execution_count": 128
        }
      ]
    },
    {
      "cell_type": "markdown",
      "source": [
        "### 4 - Feature Importance"
      ],
      "metadata": {
        "id": "ti5wDt3TAjUB"
      }
    },
    {
      "cell_type": "code",
      "source": [
        "#correlation heat map\n",
        "correlation_matrix_heatmap = df.corr()\n",
        "\n",
        "# remove duplicate boxes in upper triangle\n",
        "mask = np.zeros_like(correlation_matrix_heatmap)\n",
        "mask[np.triu_indices_from(mask)] = True\n",
        "\n",
        "# plot the correlation heat map to see connections amoung the dataset\n",
        "\n",
        "fig, ax = plt.subplots(figsize=(14,8))   \n",
        "ax = sns.heatmap(correlation_matrix_heatmap, \n",
        "    xticklabels = correlation_matrix_heatmap.columns, \n",
        "    yticklabels = correlation_matrix_heatmap.columns, \n",
        "    annot = True, mask = mask, cmap= 'coolwarm')"
      ],
      "metadata": {
        "colab": {
          "base_uri": "https://localhost:8080/",
          "height": 536
        },
        "id": "s1bYBNjG0ndz",
        "outputId": "d466eed7-a227-4053-a562-3605e4c48b12"
      },
      "execution_count": 61,
      "outputs": [
        {
          "output_type": "display_data",
          "data": {
            "text/plain": [
              "<Figure size 1008x576 with 2 Axes>"
            ],
            "image/png": "[encoded data removed]"
          },
          "metadata": {
            "needs_background": "light"
          }
        }
      ]
    },
    {
      "cell_type": "code",
      "source": [
        "from sklearn.feature_selection import f_classif\n",
        "f_values, p_values = f_classif(x_train, y_train)\n",
        "\n",
        "fig, ax = plt.subplots(2, 1, figsize=(12,10))\n",
        "ax[0].set_title(\"F values\")\n",
        "ax[0].plot(f_values, 'o')\n",
        "ax[1].set_title(\"p values\")\n",
        "ax[1].plot(p_values, 'o')\n",
        "ax[1].set_yscale(\"log\")\n",
        "\n",
        "ax[1].set_xticks(range(x_train.shape[1]))\n",
        "ax[1].set_xticklabels(x_train.columns, rotation=90);\n",
        "fig.tight_layout()"
      ],
      "metadata": {
        "colab": {
          "base_uri": "https://localhost:8080/",
          "height": 671
        },
        "id": "BaNqlb07eG94",
        "outputId": "b14fa8e9-2f2e-41e3-b673-bac1d56d4540"
      },
      "execution_count": 40,
      "outputs": [
        {
          "output_type": "display_data",
          "data": {
            "text/plain": [
              "<Figure size 864x720 with 2 Axes>"
            ],
            "image/png": "[encoded data removed]"
          },
          "metadata": {
            "needs_background": "light"
          }
        }
      ]
    },
    {
      "cell_type": "markdown",
      "source": [
        "## 5 Dummy Classifier"
      ],
      "metadata": {
        "id": "HF3S-729ypZX"
      }
    },
    {
      "cell_type": "code",
      "source": [
        "dummy = DummyClassifier(strategy='stratified', random_state=42)"
      ],
      "metadata": {
        "id": "8QV-BnQeymvZ"
      },
      "execution_count": 53,
      "outputs": []
    },
    {
      "cell_type": "code",
      "source": [
        "dummy.fit(x_train, y_train)\n",
        "dummy_pred = dummy.predict(x_test)\n",
        "print(\"Accuracy Score:\", accuracy_score(y_test, dummy_pred))"
      ],
      "metadata": {
        "colab": {
          "base_uri": "https://localhost:8080/"
        },
        "id": "IMxoi0pty5sN",
        "outputId": "c6860cd0-d6c7-4347-deb4-8fd4c5cfe100"
      },
      "execution_count": 54,
      "outputs": [
        {
          "output_type": "stream",
          "name": "stdout",
          "text": [
            "Accuracy Score: 0.5035\n"
          ]
        }
      ]
    },
    {
      "cell_type": "markdown",
      "source": [
        "### 5 - Logistic Regression Classifier using StandardScaler Pipeline"
      ],
      "metadata": {
        "id": "lNgXmWMmeyRX"
      }
    },
    {
      "cell_type": "code",
      "source": [
        "lr = LogisticRegression(\n",
        "    random_state=42,\n",
        "    tol=0.0001,\n",
        "    C=0.5,\n",
        "    max_iter=1e3\n",
        ")\n",
        "lr.fit(x_train, y_train)"
      ],
      "metadata": {
        "colab": {
          "base_uri": "https://localhost:8080/"
        },
        "id": "YZoVFZaoewTC",
        "outputId": "6ba285e8-f98c-48e4-fd51-b6048c338c24"
      },
      "execution_count": 116,
      "outputs": [
        {
          "output_type": "execute_result",
          "data": {
            "text/plain": [
              "LogisticRegression(C=0.5, max_iter=1000.0, random_state=42)"
            ]
          },
          "metadata": {},
          "execution_count": 116
        }
      ]
    },
    {
      "cell_type": "code",
      "source": [
        "#view how many iterations were needed\n",
        "lr.n_iter_"
      ],
      "metadata": {
        "colab": {
          "base_uri": "https://localhost:8080/"
        },
        "id": "5Dvoc-GOzzwO",
        "outputId": "15d8a9d8-2672-4fa4-905c-472ae88b0e07"
      },
      "execution_count": 117,
      "outputs": [
        {
          "output_type": "execute_result",
          "data": {
            "text/plain": [
              "array([48], dtype=int32)"
            ]
          },
          "metadata": {},
          "execution_count": 117
        }
      ]
    },
    {
      "cell_type": "code",
      "source": [
        "plot_confusion_matrix(lr, x_train, y_train)"
      ],
      "metadata": {
        "colab": {
          "base_uri": "https://localhost:8080/",
          "height": 353
        },
        "id": "5d2c24U9z242",
        "outputId": "a8414c2a-320f-48af-eb9c-08652c1debbe"
      },
      "execution_count": 118,
      "outputs": [
        {
          "output_type": "stream",
          "name": "stderr",
          "text": [
            "/usr/local/lib/python3.8/dist-packages/sklearn/utils/deprecation.py:87: FutureWarning: Function plot_confusion_matrix is deprecated; Function `plot_confusion_matrix` is deprecated in 1.0 and will be removed in 1.2. Use one of the class methods: ConfusionMatrixDisplay.from_predictions or ConfusionMatrixDisplay.from_estimator.\n",
            "  warnings.warn(msg, category=FutureWarning)\n"
          ]
        },
        {
          "output_type": "execute_result",
          "data": {
            "text/plain": [
              "<sklearn.metrics._plot.confusion_matrix.ConfusionMatrixDisplay at 0x7f814a904a60>"
            ]
          },
          "metadata": {},
          "execution_count": 118
        },
        {
          "output_type": "display_data",
          "data": {
            "text/plain": [
              "<Figure size 432x288 with 2 Axes>"
            ],
            "image/png": "[encoded data removed]"
          },
          "metadata": {
            "needs_background": "light"
          }
        }
      ]
    },
    {
      "cell_type": "code",
      "source": [
        "print(\"TRAIN Scores\")\n",
        "print(f'Accuracy score: {round(accuracy_score(y_train, lr.predict(x_train)), 3)}')\n",
        "print(f'Precision score: {round(precision_score(y_pred=lr.predict(x_train), y_true=y_train),3)}')\n",
        "print(f'Recall score: {round(recall_score(y_pred=lr.predict(x_train), y_true=y_train),3)}')\n",
        "print(f'ROC/AUC score: {round(roc_auc_score(y_train, lr.predict_proba(x_train)[:,1]),3)}')"
      ],
      "metadata": {
        "colab": {
          "base_uri": "https://localhost:8080/"
        },
        "id": "6zZmIoeCz5qW",
        "outputId": "e9e3a428-cc25-4886-946b-42f8dab8f832"
      },
      "execution_count": 119,
      "outputs": [
        {
          "output_type": "stream",
          "name": "stdout",
          "text": [
            "TRAIN Scores\n",
            "Accuracy score: 0.956\n",
            "Precision score: 0.961\n",
            "Recall score: 0.952\n",
            "ROC/AUC score: 0.987\n"
          ]
        }
      ]
    },
    {
      "cell_type": "code",
      "source": [
        "precisions, recalls, thresholds = precision_recall_curve(y_train, y_train)\n",
        "y_train_scores = lr.decision_function(x_train)"
      ],
      "metadata": {
        "id": "_8Y8SWm528SK"
      },
      "execution_count": 120,
      "outputs": []
    },
    {
      "cell_type": "code",
      "source": [
        "precisions, recalls, thresholds = precision_recall_curve(y_train, y_train_scores)"
      ],
      "metadata": {
        "id": "_iPcRHdG3Bxi"
      },
      "execution_count": 121,
      "outputs": []
    },
    {
      "cell_type": "code",
      "source": [
        "def plot_precision_recall_vs_threshold(precisions, recalls, thresholds):\n",
        "    plt.plot(thresholds, precisions[:-1], \"b--\", label=\"Precision\", linewidth=2)\n",
        "    plt.plot(thresholds, recalls[:-1], \"g-\", label=\"Recall\", linewidth=2)\n",
        "    plt.legend(loc=\"center right\", fontsize=16) \n",
        "    plt.xlabel(\"Threshold\", fontsize=16)       \n",
        "    plt.grid(True)                              \n",
        "    plt.axis([-20, 16, 0, 1])             \n",
        "\n",
        "plt.figure(figsize=(8, 4))                                                                 \n",
        "plot_precision_recall_vs_threshold(precisions, recalls, thresholds)\n",
        "\n",
        "plt.show()"
      ],
      "metadata": {
        "colab": {
          "base_uri": "https://localhost:8080/",
          "height": 288
        },
        "id": "RhkI-YtA3EBw",
        "outputId": "50282888-44fa-4d95-e55a-184806ebac3f"
      },
      "execution_count": 122,
      "outputs": [
        {
          "output_type": "display_data",
          "data": {
            "text/plain": [
              "<Figure size 576x288 with 1 Axes>"
            ],
            "image/png": "[encoded data removed]"
          },
          "metadata": {
            "needs_background": "light"
          }
        }
      ]
    },
    {
      "cell_type": "markdown",
      "source": [
        "LR Model Test Predictions"
      ],
      "metadata": {
        "id": "3RY-jMm23JZi"
      }
    },
    {
      "cell_type": "code",
      "source": [
        "#Predict on Test\n",
        "lr_predict = lr.predict(x_test)\n",
        "plot_confusion_matrix(lr, x_test, y_test)"
      ],
      "metadata": {
        "colab": {
          "base_uri": "https://localhost:8080/",
          "height": 353
        },
        "id": "ihTKKk2L3LGI",
        "outputId": "ee6bf48d-1d49-4444-ab3e-54dbbebd3dfb"
      },
      "execution_count": 123,
      "outputs": [
        {
          "output_type": "stream",
          "name": "stderr",
          "text": [
            "/usr/local/lib/python3.8/dist-packages/sklearn/utils/deprecation.py:87: FutureWarning: Function plot_confusion_matrix is deprecated; Function `plot_confusion_matrix` is deprecated in 1.0 and will be removed in 1.2. Use one of the class methods: ConfusionMatrixDisplay.from_predictions or ConfusionMatrixDisplay.from_estimator.\n",
            "  warnings.warn(msg, category=FutureWarning)\n"
          ]
        },
        {
          "output_type": "execute_result",
          "data": {
            "text/plain": [
              "<sklearn.metrics._plot.confusion_matrix.ConfusionMatrixDisplay at 0x7f80ba103100>"
            ]
          },
          "metadata": {},
          "execution_count": 123
        },
        {
          "output_type": "display_data",
          "data": {
            "text/plain": [
              "<Figure size 432x288 with 2 Axes>"
            ],
            "image/png": "[encoded data removed]"
          },
          "metadata": {
            "needs_background": "light"
          }
        }
      ]
    },
    {
      "cell_type": "code",
      "source": [
        "#get TEST Scores\n",
        "#score = lr.score(x_test,y_test)\n",
        "score = accuracy_score(y_test, lr.predict(x_test))\n",
        "#Precision score for test\n",
        "p_score = precision_score(lr_predict, y_test)\n",
        "#recall for test\n",
        "r_score = recall_score(lr_predict, y_test)\n",
        "#ROC/AUC \n",
        "roc_auc = roc_auc_score(y_test, lr.predict_proba(x_test)[:,1])\n",
        "\n",
        "print('TEST')\n",
        "print('Accuracy:',round(score,3))\n",
        "print('Precision:',round(p_score,3))\n",
        "print('Recall:',round(r_score,3))\n",
        "print('ROC/AUC:', round(roc_auc, 3))"
      ],
      "metadata": {
        "colab": {
          "base_uri": "https://localhost:8080/"
        },
        "id": "N_oW-UXp3Qe3",
        "outputId": "aaf6c831-1568-47b9-8b8c-74187c05b87b"
      },
      "execution_count": 124,
      "outputs": [
        {
          "output_type": "stream",
          "name": "stdout",
          "text": [
            "TEST\n",
            "Accuracy: 0.954\n",
            "Precision: 0.947\n",
            "Recall: 0.96\n",
            "ROC/AUC: 0.985\n"
          ]
        }
      ]
    },
    {
      "cell_type": "code",
      "source": [
        "from sklearn.metrics import classification_report\n",
        "print(classification_report(y_test,lr_predict))"
      ],
      "metadata": {
        "colab": {
          "base_uri": "https://localhost:8080/"
        },
        "id": "LNbxxF-P6eb7",
        "outputId": "ac1cd40e-d228-4bef-aa7e-fd855bb4755e"
      },
      "execution_count": 131,
      "outputs": [
        {
          "output_type": "stream",
          "name": "stdout",
          "text": [
            "              precision    recall  f1-score   support\n",
            "\n",
            "           0       0.95      0.96      0.96     10094\n",
            "           1       0.96      0.95      0.95      9906\n",
            "\n",
            "    accuracy                           0.95     20000\n",
            "   macro avg       0.95      0.95      0.95     20000\n",
            "weighted avg       0.95      0.95      0.95     20000\n",
            "\n"
          ]
        }
      ]
    },
    {
      "cell_type": "markdown",
      "source": [
        "#### Identifying Features of Importance"
      ],
      "metadata": {
        "id": "AAmCaGMY31GA"
      }
    },
    {
      "cell_type": "code",
      "source": [
        "coefs_features = list(zip(lr.coef_[0],x_train.columns))\n",
        "for i in sorted(coefs_features):\n",
        "  print(i)"
      ],
      "metadata": {
        "colab": {
          "base_uri": "https://localhost:8080/"
        },
        "id": "bjUfS5e2347q",
        "outputId": "0dee0c22-601a-4aab-f3c9-f3753270f1a8"
      },
      "execution_count": 125,
      "outputs": [
        {
          "output_type": "stream",
          "name": "stdout",
          "text": [
            "(-0.5763589937829828, 'unknown_location')\n",
            "(-0.16187451023268637, 'emoji_count')\n",
            "(-0.03767625595412224, 'emoji_prohibited')\n",
            "(-0.0194258136902476, 'emoji_police')\n",
            "(-0.01846700964353045, 'emoji_troll')\n",
            "(-0.004831610050307347, 'emoji_flagUS')\n",
            "(0.00016883639738685216, 'RUS_lett_count')\n",
            "(0.004115292428374152, 'emoji_collision')\n",
            "(0.00696397511053704, 'emoji_check')\n",
            "(0.024237449257547245, 'emoji_exclamation')\n",
            "(0.028014460339691506, 'emoji_fist')\n",
            "(0.08593401732625945, 'has_url')\n",
            "(0.24556254496703067, 'is_retweet')\n",
            "(2.542462033155453, 'multi_authors')\n",
            "(7.747971762304709, 'updates')\n",
            "(14.197149527534263, 'following_ratio')\n"
          ]
        }
      ]
    },
    {
      "cell_type": "markdown",
      "source": [
        "Most important features identified are:\n",
        "1.   Following Ratio\n",
        "2.   Updates\n",
        "3.   Multi Authors"
      ],
      "metadata": {
        "id": "51giVGrz4FI-"
      }
    },
    {
      "cell_type": "markdown",
      "source": [
        "### 6 - Decision Tree Classifier w/ StandardScaler"
      ],
      "metadata": {
        "id": "iq1_JOgR3fzf"
      }
    },
    {
      "cell_type": "code",
      "source": [
        "dt = DecisionTreeClassifier(\n",
        "    random_state=42,\n",
        "    min_samples_split=100,\n",
        "    max_depth=6\n",
        ")\n",
        "dt.fit(x_train,y_train)"
      ],
      "metadata": {
        "colab": {
          "base_uri": "https://localhost:8080/"
        },
        "id": "Li7XDiTP3kga",
        "outputId": "6429bb9b-5a1f-4be8-e25d-9edf3af9de06"
      },
      "execution_count": 126,
      "outputs": [
        {
          "output_type": "execute_result",
          "data": {
            "text/plain": [
              "DecisionTreeClassifier(max_depth=6, min_samples_split=100, random_state=42)"
            ]
          },
          "metadata": {},
          "execution_count": 126
        }
      ]
    },
    {
      "cell_type": "code",
      "source": [
        "print(\"TRAIN Scores\")\n",
        "print(f'Accuracy score: {round(accuracy_score(y_train, dt.predict(x_train)), 3)}')\n",
        "print(f'Precision score: {round(precision_score(y_pred=dt.predict(x_train), y_true=y_train),3)}')\n",
        "print(f'Recall score: {round(recall_score(y_pred=dt.predict(x_train), y_true=y_train),3)}')\n",
        "print(f'ROC/AUC score: {round(roc_auc_score(y_train, dt.predict_proba(x_train)[:,1]),3)}')"
      ],
      "metadata": {
        "colab": {
          "base_uri": "https://localhost:8080/"
        },
        "id": "ZNml7UDW3n8J",
        "outputId": "424fa703-31d9-45c4-a17a-3d767e64f6e1"
      },
      "execution_count": 127,
      "outputs": [
        {
          "output_type": "stream",
          "name": "stdout",
          "text": [
            "TRAIN Scores\n",
            "Accuracy score: 0.992\n",
            "Precision score: 0.991\n",
            "Recall score: 0.993\n",
            "ROC/AUC score: 0.998\n"
          ]
        }
      ]
    },
    {
      "cell_type": "code",
      "source": [
        "#get TEST Scores\n",
        "score = accuracy_score(y_test, dt.predict(x_test))\n",
        "#Precision score for test\n",
        "p_score = precision_score(dt.predict(x_test), y_test)\n",
        "#recall for test\n",
        "r_score = recall_score(dt.predict(x_test), y_test)\n",
        "#ROC/AUC \n",
        "roc_auc = roc_auc_score(y_test, dt.predict_proba(x_test)[:,1])\n",
        "\n",
        "print('TEST')\n",
        "print('Accuracy:',round(score,3))\n",
        "print('Precision:',round(p_score,3))\n",
        "print('Recall:',round(r_score,3))\n",
        "print('ROC/AUC:', round(roc_auc, 3))"
      ],
      "metadata": {
        "colab": {
          "base_uri": "https://localhost:8080/"
        },
        "id": "8BjixUW83tjg",
        "outputId": "d731a2ed-98fa-4b27-dc37-532d6343e3c8"
      },
      "execution_count": 97,
      "outputs": [
        {
          "output_type": "stream",
          "name": "stdout",
          "text": [
            "TEST\n",
            "Accuracy: 0.991\n",
            "Precision: 0.992\n",
            "Recall: 0.99\n",
            "ROC/AUC: 0.997\n"
          ]
        }
      ]
    },
    {
      "cell_type": "markdown",
      "source": [
        "### 7 - XGBoost Classifier using Standard Scaler"
      ],
      "metadata": {
        "id": "Y9HkNHoie3Dt"
      }
    },
    {
      "cell_type": "code",
      "source": [
        "# Init classifier\n",
        "xgb_cl = XGBClassifier()\n",
        "\n",
        "# Fit\n",
        "xgb_cl.fit(x_train, y_train)\n",
        "\n",
        "# Predict\n",
        "preds = xgb_cl.predict(x_test)\n",
        "\n",
        "# Score\n",
        "accuracy_score(y_test, preds)"
      ],
      "metadata": {
        "colab": {
          "base_uri": "https://localhost:8080/"
        },
        "id": "G-o8Gpm47sis",
        "outputId": "68f10e9b-a08c-4a63-93b1-918100021d5f"
      },
      "execution_count": 143,
      "outputs": [
        {
          "output_type": "execute_result",
          "data": {
            "text/plain": [
              "0.9917"
            ]
          },
          "metadata": {},
          "execution_count": 143
        }
      ]
    },
    {
      "cell_type": "markdown",
      "source": [
        "#### Using GridSearchCV"
      ],
      "metadata": {
        "id": "QsNVn67s8jJJ"
      }
    },
    {
      "cell_type": "code",
      "source": [
        "param_grid = {\n",
        "    \"max_depth\": [3, 4, 5, 7],\n",
        "    \"learning_rate\": [0.1, 0.01, 0.05],\n",
        "    \"gamma\": [0, 0.25, 1],\n",
        "    \"reg_lambda\": [0, 1, 10],\n",
        "    \"scale_pos_weight\": [1, 3, 5],\n",
        "    \"subsample\": [0.8],\n",
        "    \"colsample_bytree\": [0.5],\n",
        "}"
      ],
      "metadata": {
        "id": "xiB_A-AP8lrH"
      },
      "execution_count": 144,
      "outputs": []
    },
    {
      "cell_type": "code",
      "source": [
        "# Init classifier\n",
        "xgb_cl = XGBClassifier(objective=\"binary:logistic\")\n",
        "\n",
        "# Init Grid Search\n",
        "grid_cv = GridSearchCV(xgb_cl, param_grid, n_jobs=-1, cv=3, scoring=\"roc_auc\")\n",
        "\n",
        "# Fit\n",
        "_ = grid_cv.fit(x_train, y_train)"
      ],
      "metadata": {
        "id": "4SQymwvy8pC6"
      },
      "execution_count": 147,
      "outputs": []
    },
    {
      "cell_type": "code",
      "source": [
        "grid_cv.best_score_"
      ],
      "metadata": {
        "colab": {
          "base_uri": "https://localhost:8080/"
        },
        "id": "3t6VdQ9F9nO6",
        "outputId": "f5e732bd-474c-4bb4-b1b2-178bbf252cde"
      },
      "execution_count": 148,
      "outputs": [
        {
          "output_type": "execute_result",
          "data": {
            "text/plain": [
              "0.9993628579991647"
            ]
          },
          "metadata": {},
          "execution_count": 148
        }
      ]
    },
    {
      "cell_type": "code",
      "source": [
        "grid_cv.best_params_"
      ],
      "metadata": {
        "colab": {
          "base_uri": "https://localhost:8080/"
        },
        "id": "9FRYCOv29r60",
        "outputId": "d09b18e8-903a-431b-c459-97b134d63b20"
      },
      "execution_count": 149,
      "outputs": [
        {
          "output_type": "execute_result",
          "data": {
            "text/plain": [
              "{'colsample_bytree': 0.5,\n",
              " 'gamma': 0,\n",
              " 'learning_rate': 0.1,\n",
              " 'max_depth': 7,\n",
              " 'reg_lambda': 0,\n",
              " 'scale_pos_weight': 1,\n",
              " 'subsample': 0.8}"
            ]
          },
          "metadata": {},
          "execution_count": 149
        }
      ]
    },
    {
      "cell_type": "code",
      "source": [
        "#save best params to param_grid\n",
        "param_grid[\"colsample_bytree\"] = [0.5]\n",
        "param_grid[\"gamma\"]= [0]\n",
        "param_grid[\"learning_rate\"] = [0.1]\n",
        "param_grid[\"max_depth\"]= [7]\n",
        "param_grid[\"reg_lambda\"]=[0]\n",
        "param_grid[\"scale_pos_weight\"]=[1]\n",
        "param_grid[\"subsample\"]= [0.8]"
      ],
      "metadata": {
        "id": "REWmidBsV2rU"
      },
      "execution_count": 150,
      "outputs": []
    },
    {
      "cell_type": "code",
      "source": [
        "grid_cv_2 = GridSearchCV(xgb_cl, param_grid, n_jobs=-1, cv=3, scoring=\"roc_auc\")\n",
        "\n",
        "# Fit\n",
        "_ = grid_cv.fit(x_train, y_train)\n"
      ],
      "metadata": {
        "id": "9jTbvwALWlfX"
      },
      "execution_count": 154,
      "outputs": []
    },
    {
      "cell_type": "code",
      "source": [
        "grid_cv_2.best_score_"
      ],
      "metadata": {
        "colab": {
          "base_uri": "https://localhost:8080/",
          "height": 169
        },
        "id": "O2Sc_5gjXUPu",
        "outputId": "af826ba0-fa96-45b6-feca-f6a29be4322e"
      },
      "execution_count": 155,
      "outputs": [
        {
          "output_type": "error",
          "ename": "AttributeError",
          "evalue": "ignored",
          "traceback": [
            "\u001b[0;31m---------------------------------------------------------------------------\u001b[0m",
            "\u001b[0;31mAttributeError\u001b[0m                            Traceback (most recent call last)",
            "\u001b[0;32m<ipython-input-155-ba1be1dc3671>\u001b[0m in \u001b[0;36m<module>\u001b[0;34m\u001b[0m\n\u001b[0;32m----> 1\u001b[0;31m \u001b[0mgrid_cv_2\u001b[0m\u001b[0;34m.\u001b[0m\u001b[0mbest_score_\u001b[0m\u001b[0;34m\u001b[0m\u001b[0;34m\u001b[0m\u001b[0m\n\u001b[0m",
            "\u001b[0;31mAttributeError\u001b[0m: 'GridSearchCV' object has no attribute 'best_score_'"
          ]
        }
      ]
    }
  ]
}