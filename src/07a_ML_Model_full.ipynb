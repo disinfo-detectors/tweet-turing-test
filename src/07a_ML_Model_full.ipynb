{
 "cells": [
  {
   "cell_type": "markdown",
   "metadata": {
    "id": "g7VHtVUuc0vp"
   },
   "source": [
    "# Tweet Turing Test: Detecting Disinformation on Twitter  \n",
    "\n",
    "|          | Group #2 - Disinformation Detectors                     |\n",
    "|---------:|---------------------------------------------------------|\n",
    "| Members  | John Johnson, Katy Matulay, Justin Minnion, Jared Rubin |\n",
    "| Notebook | `07a_ML_Model_full.ipynb`                        |\n",
    "| Purpose  | ML models                |\n",
    "\n",
    "(This notebook contains the ML Models run against the newly created 49 features, using max possible tweets to train/test (3Million).)"
   ]
  },
  {
   "cell_type": "markdown",
   "metadata": {
    "id": "4lOLSYwfc7sR"
   },
   "source": [
    "# 1 - Setup"
   ]
  },
  {
   "cell_type": "code",
   "execution_count": 1,
   "metadata": {
    "id": "5D7WCy1Ncr4J"
   },
   "outputs": [],
   "source": [
    "# imports from Python standard library\n",
    "\n",
    "# imports requiring installation\n",
    "#   connection to Google Cloud Storage\n",
    "from google.cloud import storage            # pip install google-cloud-storage\n",
    "from google.oauth2 import service_account   # pip install google-auth\n",
    "\n",
    "#  data science packages\n",
    "import numpy as np                          # pip install numpy\n",
    "import pandas as pd                         # pip install pandas"
   ]
  },
  {
   "cell_type": "code",
   "execution_count": 2,
   "metadata": {
    "colab": {
     "base_uri": "https://localhost:8080/"
    },
    "id": "A-mF29Z6c-GM",
    "outputId": "b158d7e5-45e1-4e68-a93c-487699eba1e0"
   },
   "outputs": [
    {
     "name": "stdout",
     "output_type": "stream",
     "text": [
      "Looking in indexes: https://pypi.org/simple, https://us-python.pkg.dev/colab-wheels/public/simple/\n",
      "Collecting demoji\n",
      "  Downloading demoji-1.1.0-py3-none-any.whl (42 kB)\n",
      "\u001b[2K     \u001b[90m━━━━━━━━━━━━━━━━━━━━━━━━━━━━━━━━━━━━━━━━\u001b[0m \u001b[32m42.9/42.9 KB\u001b[0m \u001b[31m1.4 MB/s\u001b[0m eta \u001b[36m0:00:00\u001b[0m\n",
      "\u001b[?25hInstalling collected packages: demoji\n",
      "Successfully installed demoji-1.1.0\n"
     ]
    }
   ],
   "source": [
    "!pip install demoji\n",
    "import pandas as pd \n",
    "import os\n",
    "import numpy as np\n",
    "import matplotlib.pyplot as plt\n",
    "import demoji\n",
    "import seaborn as sns\n",
    "import nltk\n",
    "from datetime import date\n",
    "import regex as re\n",
    "import pyarrow"
   ]
  },
  {
   "cell_type": "code",
   "execution_count": 3,
   "metadata": {
    "id": "W_fO2AQQ0FdN"
   },
   "outputs": [],
   "source": [
    "#pipeline\n",
    "#!pip install sklearn\n",
    "from sklearn.model_selection import train_test_split\n",
    "from sklearn.pipeline import Pipeline\n",
    "from sklearn.compose import make_column_transformer\n",
    "from sklearn.preprocessing import StandardScaler\n",
    "from sklearn.preprocessing import MinMaxScaler, RobustScaler\n",
    "from sklearn.preprocessing import OneHotEncoder\n",
    "from sklearn.compose import ColumnTransformer\n",
    "from sklearn.feature_extraction.text import CountVectorizer, TfidfVectorizer, TfidfTransformer\n",
    "\n",
    "#models\n",
    "from sklearn.dummy import DummyClassifier\n",
    "from sklearn.linear_model import LogisticRegression\n",
    "from sklearn.tree import DecisionTreeClassifier\n",
    "from sklearn.neighbors import KNeighborsClassifier\n",
    "from sklearn.svm import SVC\n",
    "from xgboost import XGBClassifier\n",
    "\n",
    "#evaluation metrics\n",
    "from sklearn.metrics import precision_score, recall_score, f1_score\n",
    "from sklearn.metrics import accuracy_score\n",
    "from sklearn.metrics import confusion_matrix, ConfusionMatrixDisplay\n",
    "from sklearn.metrics import precision_score, recall_score\n",
    "from sklearn.metrics import f1_score\n",
    "from sklearn.metrics import precision_recall_curve\n",
    "from sklearn.metrics import roc_auc_score  \n",
    "from sklearn.model_selection import GridSearchCV\n",
    "from sklearn.metrics import make_scorer\n",
    "\n",
    "# feature selection\n",
    "from sklearn.feature_selection import SelectFromModel\n",
    "from sklearn.feature_selection import f_classif\n",
    "\n",
    "%matplotlib inline"
   ]
  },
  {
   "cell_type": "code",
   "execution_count": 4,
   "metadata": {
    "colab": {
     "base_uri": "https://localhost:8080/"
    },
    "id": "RNwYHRxNdBQK",
    "outputId": "2f91ed0f-b70c-4a91-8cfc-4697d7258539"
   },
   "outputs": [
    {
     "name": "stdout",
     "output_type": "stream",
     "text": [
      "Mounted at /content/gdrive\n"
     ]
    }
   ],
   "source": [
    "#Colab Specific workflow - remove for github\n",
    "from google.colab import drive\n",
    "\n",
    "drive.mount('/content/gdrive')"
   ]
  },
  {
   "cell_type": "code",
   "execution_count": 5,
   "metadata": {
    "id": "CtEBu2cudEi4"
   },
   "outputs": [],
   "source": [
    "# pandas options\n",
    "pd.set_option('display.max_colwidth', None)\n",
    "pd.set_option('display.max_columns', None)"
   ]
  },
  {
   "cell_type": "markdown",
   "metadata": {
    "id": "lkA4sJnhdKkD"
   },
   "source": [
    "## Local or Cloud?\n",
    "\n",
    "Decide here whether to run notebook with local data or GCP bucket data\n",
    " - if the working directory of this notebook has a \"../data/\" folder with data loaded (e.g. working on local computer or have data files loaded to a cloud VM) then use the \"local files\" option and comment out the \"gcp bucket files\" option\n",
    " - if this notebook is being run from a GCP VM (preferrably in the `us-central1` location) then use the \"gcp bucket files\" option and comment out the \"local files\" option"
   ]
  },
  {
   "cell_type": "code",
   "execution_count": null,
   "metadata": {
    "id": "RpUtpbuvdK_r"
   },
   "outputs": [],
   "source": [
    "# option: local files\n",
    "local_or_cloud: str = \"local\"   # comment/uncomment this line or next\n",
    "\n",
    "# option: gcp bucket files\n",
    "#local_or_cloud: str = \"cloud\"   # comment/uncomment this line or previous\n",
    "\n",
    "# don't comment/uncomment for remainder of cell\n",
    "if (local_or_cloud == \"local\"):\n",
    "    data_paths = local_data_paths\n",
    "    snapshot_paths = local_snapshot_paths\n",
    "elif (local_or_cloud == \"cloud\"):\n",
    "    data_paths = gcp_data_paths\n",
    "    snapshot_paths = gcp_snapshot_paths\n",
    "else:\n",
    "    raise ValueError(\"Variable 'local_or_cloud' can only take on one of two values, 'local' or 'cloud'.\")\n",
    "    # subsequent cells will not do this final \"else\" check"
   ]
  },
  {
   "cell_type": "code",
   "execution_count": null,
   "metadata": {
    "id": "ow-lSZGCdOH5"
   },
   "outputs": [],
   "source": [
    "# this cell only needs to run its code if local_or_cloud==\"cloud\"\n",
    "#   (though it is harmless if run when local_or_cloud==\"local\")\n",
    "gcp_storage_client: storage.Client = None\n",
    "gcp_bucket: storage.Bucket = None\n",
    "\n",
    "if (local_or_cloud == \"cloud\"):\n",
    "    gcp_storage_client = tur.get_gcp_storage_client(project_name=gcp_project_name, key_file=gcp_key_file)\n",
    "    gcp_bucket = tur.get_gcp_bucket(storage_client=gcp_storage_client, bucket_name=gcp_bucket_name)"
   ]
  },
  {
   "cell_type": "markdown",
   "metadata": {
    "id": "bhGjNCUEdQlx"
   },
   "source": [
    "## Load 06_Feature_Engineering Dataset English Tweets Only\n",
    "\n",
    "Full dataset, as prepared by `06_feature_engineering.ipynb`, will be loaded as \"`df`\"."
   ]
  },
  {
   "cell_type": "code",
   "execution_count": 47,
   "metadata": {
    "id": "97Z1egMLdaXb"
   },
   "outputs": [],
   "source": [
    "#Colab Specific workflow - remove for github\n",
    "\n",
    "#Google Drive url for data file\n",
    "file_folder = '/content/gdrive/MyDrive/Grad School/DSCI592/data/'"
   ]
  },
  {
   "cell_type": "code",
   "execution_count": 48,
   "metadata": {
    "id": "AV3Yby12dhJD"
   },
   "outputs": [],
   "source": [
    "df= pd.read_parquet(file_folder + '06data_final_en2.parquet.gz')"
   ]
  },
  {
   "cell_type": "code",
   "execution_count": null,
   "metadata": {
    "colab": {
     "base_uri": "https://localhost:8080/"
    },
    "id": "NQjo5JIXdos6",
    "outputId": "ad49cfbe-aad3-4c04-ed60-2ab3a24af9ff"
   },
   "outputs": [
    {
     "data": {
      "text/plain": [
       "Index(['following', 'followers', 'updates', 'is_retweet', 'has_url',\n",
       "       'emoji_count', 'following_ratio', 'class_numeric', 'RUS_lett_count',\n",
       "       'emoji_flagUS', 'emoji_police', 'emoji_check', 'emoji_exclamation',\n",
       "       'emoji_fist', 'emoji_collision', 'emoji_prohibited',\n",
       "       'emoji_loudcryface', 'emoji_smilinghearteye', 'emoji_fire',\n",
       "       'emoji_redheart', 'emoji_tearsjoy', 'emoji_thumbsup', 'emoji_claphands',\n",
       "       'emoji_blowingkiss', 'emoji_partypop', 'emoji_raisehands',\n",
       "       'region_United_States', 'region_Unknown', 'region_New_York_NY',\n",
       "       'region_United_Kingdom', 'region_Los_Angeles_CA', 'region_Boston_MA',\n",
       "       'region_London', 'region_New_York_and_the_World',\n",
       "       'region_New_York_City', 'region_Pale_Blue_Dot', 'region_Atlanta_GA',\n",
       "       'region_Australia', 'region_Global', 'region_Washington_DC',\n",
       "       'region_All_Other', 'multi_authors', 'num_dashes', 'num_commas',\n",
       "       'num_hashs', 'num_URLs', 'median_word_length', 'sentiment',\n",
       "       'emoji_sentiment', 'tweet_length'],\n",
       "      dtype='object')"
      ]
     },
     "execution_count": 15,
     "metadata": {},
     "output_type": "execute_result"
    }
   ],
   "source": [
    "df.columns"
   ]
  },
  {
   "cell_type": "code",
   "execution_count": 50,
   "metadata": {
    "id": "MrzI5d35U7p1"
   },
   "outputs": [],
   "source": [
    "df['is_retweet']=df['is_retweet'].astype(int)"
   ]
  },
  {
   "cell_type": "code",
   "execution_count": 51,
   "metadata": {
    "colab": {
     "base_uri": "https://localhost:8080/"
    },
    "id": "2IjlaWyUkF-J",
    "outputId": "48dfc066-9ef7-4614-857b-340b8985c90c"
   },
   "outputs": [
    {
     "data": {
      "text/plain": [
       "following                          int64\n",
       "followers                          int64\n",
       "updates                            int64\n",
       "is_retweet                         int64\n",
       "has_url                            int64\n",
       "emoji_count                        int64\n",
       "following_ratio                  float64\n",
       "class_numeric                       int8\n",
       "RUS_lett_count                     int64\n",
       "emoji_flagUS                       int64\n",
       "emoji_police                       int64\n",
       "emoji_check                        int64\n",
       "emoji_exclamation                  int64\n",
       "emoji_fist                         int64\n",
       "emoji_collision                    int64\n",
       "emoji_prohibited                   int64\n",
       "emoji_loudcryface                  int64\n",
       "emoji_smilinghearteye              int64\n",
       "emoji_fire                         int64\n",
       "emoji_redheart                     int64\n",
       "emoji_tearsjoy                     int64\n",
       "emoji_thumbsup                     int64\n",
       "emoji_claphands                    int64\n",
       "emoji_blowingkiss                  int64\n",
       "emoji_partypop                     int64\n",
       "emoji_raisehands                   int64\n",
       "region_United_States               int64\n",
       "region_Unknown                     int64\n",
       "region_New_York_NY                 int64\n",
       "region_United_Kingdom              int64\n",
       "region_Los_Angeles_CA              int64\n",
       "region_Boston_MA                   int64\n",
       "region_London                      int64\n",
       "region_New_York_and_the_World      int64\n",
       "region_New_York_City               int64\n",
       "region_Pale_Blue_Dot               int64\n",
       "region_Atlanta_GA                  int64\n",
       "region_Australia                   int64\n",
       "region_Global                      int64\n",
       "region_Washington_DC               int64\n",
       "region_All_Other                   int64\n",
       "multi_authors                      int64\n",
       "num_dashes                         int64\n",
       "num_commas                         int64\n",
       "num_hashs                          int64\n",
       "num_URLs                           int64\n",
       "median_word_length               float64\n",
       "sentiment                        float64\n",
       "emoji_sentiment                  float64\n",
       "tweet_length                       int64\n",
       "dtype: object"
      ]
     },
     "execution_count": 51,
     "metadata": {},
     "output_type": "execute_result"
    }
   ],
   "source": [
    "df.dtypes"
   ]
  },
  {
   "cell_type": "markdown",
   "metadata": {
    "id": "zTd9il6pl3at"
   },
   "source": [
    "# 2 - Downsampling and Test Train Split"
   ]
  },
  {
   "cell_type": "markdown",
   "metadata": {
    "id": "D0Yhx-RPyp0k"
   },
   "source": [
    "## 3 Million Tweet subset"
   ]
  },
  {
   "cell_type": "markdown",
   "metadata": {
    "id": "npHVtb1aAxSM"
   },
   "source": [
    "Given the total dataset size and class split, we downsampled to use 1.5 Million tweets from each class."
   ]
  },
  {
   "cell_type": "code",
   "execution_count": 9,
   "metadata": {
    "colab": {
     "base_uri": "https://localhost:8080/"
    },
    "id": "8M506_0WmDiE",
    "outputId": "81477c45-4166-448d-9c83-0083be9a3a02"
   },
   "outputs": [
    {
     "data": {
      "text/plain": [
       "1    2090304\n",
       "0    1506274\n",
       "Name: class_numeric, dtype: int64"
      ]
     },
     "execution_count": 9,
     "metadata": {},
     "output_type": "execute_result"
    }
   ],
   "source": [
    "df['class_numeric'].value_counts()"
   ]
  },
  {
   "cell_type": "code",
   "execution_count": 52,
   "metadata": {
    "id": "t0IykI6hmDhC"
   },
   "outputs": [],
   "source": [
    "df_sample3M = df.groupby('class_numeric', group_keys=False).apply(lambda x: x.sample(1500000, random_state = 42))"
   ]
  },
  {
   "cell_type": "code",
   "execution_count": 53,
   "metadata": {
    "colab": {
     "base_uri": "https://localhost:8080/"
    },
    "id": "YM6mocFGphXx",
    "outputId": "c95ccd83-9f13-49f6-8266-c7cecf9f56e9"
   },
   "outputs": [
    {
     "name": "stdout",
     "output_type": "stream",
     "text": [
      "Full dataframe size:\t    1.41 GB\n",
      "Sampled dataframe size:\t    1.20 GB\n",
      "\n",
      "Full dataframe rows:\t  3,596,578\n",
      "Sampled dataframe rows:\t  3,000,000\n",
      "\n",
      "Full df class split:\t['58.1%', '41.9%']\n",
      "Sampled df class split:\t['50.0%', '50.0%']\n",
      "\n"
     ]
    }
   ],
   "source": [
    "BYTES_PER_GIGABYTE = 10**9  # using IEC-recommended conversion; https://en.wikipedia.org/wiki/Gigabyte#Base_10_(decimal)\n",
    "\n",
    "df_full_size_gb = df.memory_usage(deep=True).sum() / BYTES_PER_GIGABYTE\n",
    "df_size_gb = df_sample1M.memory_usage(deep=True).sum() / BYTES_PER_GIGABYTE\n",
    "\n",
    "print(f\"Full dataframe size:\\t{df_full_size_gb:8.2f} GB\")\n",
    "print(f\"Sampled dataframe size:\\t{df_size_gb:8.2f} GB\\n\")\n",
    "\n",
    "print(f\"Full dataframe rows:\\t{len(df.index):>11,}\")\n",
    "print(f\"Sampled dataframe rows:\\t{len(df_sample1M.index):>11,}\\n\")\n",
    "\n",
    "class_split_full = [f\"{x*100:0.1f}%\" for x in df['class_numeric'].value_counts().div(len(df.index)).tolist()]\n",
    "class_split_samp = [f\"{x*100:0.1f}%\" for x in df_sample3M['class_numeric'].value_counts().div(len(df_sample3M.index)).tolist()]\n",
    "\n",
    "print(f\"Full df class split:\\t{class_split_full}\")\n",
    "print(f\"Sampled df class split:\\t{class_split_samp}\\n\")"
   ]
  },
  {
   "cell_type": "code",
   "execution_count": 54,
   "metadata": {
    "id": "oZgkPATwpxgJ"
   },
   "outputs": [],
   "source": [
    "target = ['class_numeric']\n",
    "columns_without_target = list(df_sample3M[df_sample3M.columns.difference(target)])\n",
    "x_df = df_sample3M[columns_without_target]\n",
    "y_df = df_sample3M['class_numeric']"
   ]
  },
  {
   "cell_type": "markdown",
   "metadata": {
    "id": "v92XoBz0lUqM"
   },
   "source": [
    "## Create train test split 80/20"
   ]
  },
  {
   "cell_type": "code",
   "execution_count": 55,
   "metadata": {
    "id": "sUsVKPxzZz93"
   },
   "outputs": [],
   "source": [
    "#with stratify\n",
    "x_train, x_test, y_train, y_test = train_test_split(x_df, y_df, test_size=0.2, shuffle= True, stratify= y_df, random_state=46) "
   ]
  },
  {
   "cell_type": "code",
   "execution_count": null,
   "metadata": {
    "id": "NaRIBLWm1rvO"
   },
   "outputs": [],
   "source": [
    "#without stratify\n",
    "#x_train, x_test, y_train, y_test = train_test_split(x_df, y_df, test_size=0.2, shuffle= True, random_state=46) "
   ]
  },
  {
   "cell_type": "code",
   "execution_count": 30,
   "metadata": {
    "colab": {
     "base_uri": "https://localhost:8080/"
    },
    "id": "w2RTesIOaQBo",
    "outputId": "acbaf7d6-e6a1-48c0-8b15-d904955022fc"
   },
   "outputs": [
    {
     "data": {
      "text/plain": [
       "(2400000, 49)"
      ]
     },
     "execution_count": 30,
     "metadata": {},
     "output_type": "execute_result"
    }
   ],
   "source": [
    "x_train.shape"
   ]
  },
  {
   "cell_type": "code",
   "execution_count": 31,
   "metadata": {
    "colab": {
     "base_uri": "https://localhost:8080/"
    },
    "id": "SPdwnamgDpEt",
    "outputId": "57e62e12-61a8-4f7b-e0a0-c2710a7f9d67"
   },
   "outputs": [
    {
     "data": {
      "text/plain": [
       "(600000, 49)"
      ]
     },
     "execution_count": 31,
     "metadata": {},
     "output_type": "execute_result"
    }
   ],
   "source": [
    "x_test.shape"
   ]
  },
  {
   "cell_type": "code",
   "execution_count": 32,
   "metadata": {
    "colab": {
     "base_uri": "https://localhost:8080/",
     "height": 398
    },
    "id": "qlKT-e5zdObq",
    "outputId": "c03a0e40-a233-46f8-d747-2c640c804e70"
   },
   "outputs": [
    {
     "data": {
      "text/html": [
       "\n",
       "  <div id=\"df-76c76207-ec2d-485d-b037-9143d82ba85f\">\n",
       "    <div class=\"colab-df-container\">\n",
       "      <div>\n",
       "<style scoped>\n",
       "    .dataframe tbody tr th:only-of-type {\n",
       "        vertical-align: middle;\n",
       "    }\n",
       "\n",
       "    .dataframe tbody tr th {\n",
       "        vertical-align: top;\n",
       "    }\n",
       "\n",
       "    .dataframe thead th {\n",
       "        text-align: right;\n",
       "    }\n",
       "</style>\n",
       "<table border=\"1\" class=\"dataframe\">\n",
       "  <thead>\n",
       "    <tr style=\"text-align: right;\">\n",
       "      <th></th>\n",
       "      <th>RUS_lett_count</th>\n",
       "      <th>emoji_blowingkiss</th>\n",
       "      <th>emoji_check</th>\n",
       "      <th>emoji_claphands</th>\n",
       "      <th>emoji_collision</th>\n",
       "      <th>emoji_count</th>\n",
       "      <th>emoji_exclamation</th>\n",
       "      <th>emoji_fire</th>\n",
       "      <th>emoji_fist</th>\n",
       "      <th>emoji_flagUS</th>\n",
       "      <th>emoji_loudcryface</th>\n",
       "      <th>emoji_partypop</th>\n",
       "      <th>emoji_police</th>\n",
       "      <th>emoji_prohibited</th>\n",
       "      <th>emoji_raisehands</th>\n",
       "      <th>emoji_redheart</th>\n",
       "      <th>emoji_sentiment</th>\n",
       "      <th>emoji_smilinghearteye</th>\n",
       "      <th>emoji_tearsjoy</th>\n",
       "      <th>emoji_thumbsup</th>\n",
       "      <th>followers</th>\n",
       "      <th>following</th>\n",
       "      <th>following_ratio</th>\n",
       "      <th>has_url</th>\n",
       "      <th>is_retweet</th>\n",
       "      <th>median_word_length</th>\n",
       "      <th>multi_authors</th>\n",
       "      <th>num_URLs</th>\n",
       "      <th>num_commas</th>\n",
       "      <th>num_dashes</th>\n",
       "      <th>num_hashs</th>\n",
       "      <th>region_All_Other</th>\n",
       "      <th>region_Atlanta_GA</th>\n",
       "      <th>region_Australia</th>\n",
       "      <th>region_Boston_MA</th>\n",
       "      <th>region_Global</th>\n",
       "      <th>region_London</th>\n",
       "      <th>region_Los_Angeles_CA</th>\n",
       "      <th>region_New_York_City</th>\n",
       "      <th>region_New_York_NY</th>\n",
       "      <th>region_New_York_and_the_World</th>\n",
       "      <th>region_Pale_Blue_Dot</th>\n",
       "      <th>region_United_Kingdom</th>\n",
       "      <th>region_United_States</th>\n",
       "      <th>region_Unknown</th>\n",
       "      <th>region_Washington_DC</th>\n",
       "      <th>sentiment</th>\n",
       "      <th>tweet_length</th>\n",
       "      <th>updates</th>\n",
       "    </tr>\n",
       "  </thead>\n",
       "  <tbody>\n",
       "    <tr>\n",
       "      <th>count</th>\n",
       "      <td>2.400000e+06</td>\n",
       "      <td>2.400000e+06</td>\n",
       "      <td>2.400000e+06</td>\n",
       "      <td>2.400000e+06</td>\n",
       "      <td>2.400000e+06</td>\n",
       "      <td>2.400000e+06</td>\n",
       "      <td>2.400000e+06</td>\n",
       "      <td>2.400000e+06</td>\n",
       "      <td>2.400000e+06</td>\n",
       "      <td>2.400000e+06</td>\n",
       "      <td>2.400000e+06</td>\n",
       "      <td>2.400000e+06</td>\n",
       "      <td>2.400000e+06</td>\n",
       "      <td>2.400000e+06</td>\n",
       "      <td>2.400000e+06</td>\n",
       "      <td>2.400000e+06</td>\n",
       "      <td>2.400000e+06</td>\n",
       "      <td>2.400000e+06</td>\n",
       "      <td>2.400000e+06</td>\n",
       "      <td>2.400000e+06</td>\n",
       "      <td>2.400000e+06</td>\n",
       "      <td>2.400000e+06</td>\n",
       "      <td>2.400000e+06</td>\n",
       "      <td>2.400000e+06</td>\n",
       "      <td>2.400000e+06</td>\n",
       "      <td>2.399985e+06</td>\n",
       "      <td>2.400000e+06</td>\n",
       "      <td>2.400000e+06</td>\n",
       "      <td>2.400000e+06</td>\n",
       "      <td>2.400000e+06</td>\n",
       "      <td>2.400000e+06</td>\n",
       "      <td>2.400000e+06</td>\n",
       "      <td>2.400000e+06</td>\n",
       "      <td>2.400000e+06</td>\n",
       "      <td>2.400000e+06</td>\n",
       "      <td>2.400000e+06</td>\n",
       "      <td>2.400000e+06</td>\n",
       "      <td>2.400000e+06</td>\n",
       "      <td>2.400000e+06</td>\n",
       "      <td>2.400000e+06</td>\n",
       "      <td>2.400000e+06</td>\n",
       "      <td>2.400000e+06</td>\n",
       "      <td>2.400000e+06</td>\n",
       "      <td>2.400000e+06</td>\n",
       "      <td>2.400000e+06</td>\n",
       "      <td>2.400000e+06</td>\n",
       "      <td>2.400000e+06</td>\n",
       "      <td>2.400000e+06</td>\n",
       "      <td>2.400000e+06</td>\n",
       "    </tr>\n",
       "    <tr>\n",
       "      <th>mean</th>\n",
       "      <td>7.462500e-04</td>\n",
       "      <td>4.500000e-04</td>\n",
       "      <td>7.300000e-04</td>\n",
       "      <td>5.670833e-04</td>\n",
       "      <td>3.566667e-04</td>\n",
       "      <td>6.940458e-02</td>\n",
       "      <td>5.645833e-04</td>\n",
       "      <td>1.016250e-03</td>\n",
       "      <td>7.050000e-04</td>\n",
       "      <td>1.289583e-03</td>\n",
       "      <td>3.962500e-04</td>\n",
       "      <td>4.558333e-04</td>\n",
       "      <td>5.729167e-04</td>\n",
       "      <td>1.200000e-04</td>\n",
       "      <td>8.329167e-04</td>\n",
       "      <td>2.339167e-03</td>\n",
       "      <td>6.700219e-03</td>\n",
       "      <td>7.541667e-04</td>\n",
       "      <td>2.216250e-03</td>\n",
       "      <td>8.916667e-04</td>\n",
       "      <td>2.100871e+06</td>\n",
       "      <td>5.922519e+03</td>\n",
       "      <td>7.870880e-01</td>\n",
       "      <td>6.203950e-01</td>\n",
       "      <td>3.162104e-01</td>\n",
       "      <td>4.413035e+00</td>\n",
       "      <td>6.583667e-02</td>\n",
       "      <td>8.076942e-01</td>\n",
       "      <td>3.168238e-01</td>\n",
       "      <td>1.910046e-01</td>\n",
       "      <td>5.536825e-01</td>\n",
       "      <td>2.989854e-01</td>\n",
       "      <td>5.457083e-03</td>\n",
       "      <td>5.254583e-03</td>\n",
       "      <td>7.100833e-03</td>\n",
       "      <td>4.846250e-03</td>\n",
       "      <td>6.953750e-03</td>\n",
       "      <td>7.188750e-03</td>\n",
       "      <td>6.281250e-03</td>\n",
       "      <td>2.226542e-02</td>\n",
       "      <td>6.429167e-03</td>\n",
       "      <td>5.849583e-03</td>\n",
       "      <td>7.405833e-03</td>\n",
       "      <td>4.609850e-01</td>\n",
       "      <td>1.144767e-01</td>\n",
       "      <td>4.052042e-02</td>\n",
       "      <td>5.281044e-02</td>\n",
       "      <td>7.487039e+01</td>\n",
       "      <td>5.920852e+03</td>\n",
       "    </tr>\n",
       "    <tr>\n",
       "      <th>std</th>\n",
       "      <td>1.214044e-01</td>\n",
       "      <td>2.120843e-02</td>\n",
       "      <td>2.700865e-02</td>\n",
       "      <td>2.380676e-02</td>\n",
       "      <td>1.888226e-02</td>\n",
       "      <td>5.687789e-01</td>\n",
       "      <td>2.375426e-02</td>\n",
       "      <td>3.186248e-02</td>\n",
       "      <td>2.654248e-02</td>\n",
       "      <td>3.588761e-02</td>\n",
       "      <td>1.990209e-02</td>\n",
       "      <td>2.134539e-02</td>\n",
       "      <td>2.392883e-02</td>\n",
       "      <td>1.095380e-02</td>\n",
       "      <td>2.884828e-02</td>\n",
       "      <td>4.830834e-02</td>\n",
       "      <td>7.755704e-02</td>\n",
       "      <td>2.745174e-02</td>\n",
       "      <td>4.702488e-02</td>\n",
       "      <td>2.984748e-02</td>\n",
       "      <td>1.039080e+07</td>\n",
       "      <td>3.604702e+04</td>\n",
       "      <td>4.730961e+00</td>\n",
       "      <td>4.852887e-01</td>\n",
       "      <td>4.649962e-01</td>\n",
       "      <td>1.094537e+00</td>\n",
       "      <td>2.479964e-01</td>\n",
       "      <td>7.335027e-01</td>\n",
       "      <td>6.583496e-01</td>\n",
       "      <td>5.334060e-01</td>\n",
       "      <td>9.316094e-01</td>\n",
       "      <td>4.578135e-01</td>\n",
       "      <td>7.367025e-02</td>\n",
       "      <td>7.229782e-02</td>\n",
       "      <td>8.396675e-02</td>\n",
       "      <td>6.944614e-02</td>\n",
       "      <td>8.309873e-02</td>\n",
       "      <td>8.448121e-02</td>\n",
       "      <td>7.900505e-02</td>\n",
       "      <td>1.475455e-01</td>\n",
       "      <td>7.992393e-02</td>\n",
       "      <td>7.625856e-02</td>\n",
       "      <td>8.573791e-02</td>\n",
       "      <td>4.984756e-01</td>\n",
       "      <td>3.183894e-01</td>\n",
       "      <td>1.971764e-01</td>\n",
       "      <td>4.306975e-01</td>\n",
       "      <td>3.136801e+01</td>\n",
       "      <td>1.910052e+04</td>\n",
       "    </tr>\n",
       "    <tr>\n",
       "      <th>min</th>\n",
       "      <td>0.000000e+00</td>\n",
       "      <td>0.000000e+00</td>\n",
       "      <td>0.000000e+00</td>\n",
       "      <td>0.000000e+00</td>\n",
       "      <td>0.000000e+00</td>\n",
       "      <td>0.000000e+00</td>\n",
       "      <td>0.000000e+00</td>\n",
       "      <td>0.000000e+00</td>\n",
       "      <td>0.000000e+00</td>\n",
       "      <td>0.000000e+00</td>\n",
       "      <td>0.000000e+00</td>\n",
       "      <td>0.000000e+00</td>\n",
       "      <td>0.000000e+00</td>\n",
       "      <td>0.000000e+00</td>\n",
       "      <td>0.000000e+00</td>\n",
       "      <td>0.000000e+00</td>\n",
       "      <td>-9.997000e-01</td>\n",
       "      <td>0.000000e+00</td>\n",
       "      <td>0.000000e+00</td>\n",
       "      <td>0.000000e+00</td>\n",
       "      <td>0.000000e+00</td>\n",
       "      <td>0.000000e+00</td>\n",
       "      <td>0.000000e+00</td>\n",
       "      <td>0.000000e+00</td>\n",
       "      <td>0.000000e+00</td>\n",
       "      <td>1.000000e+00</td>\n",
       "      <td>0.000000e+00</td>\n",
       "      <td>0.000000e+00</td>\n",
       "      <td>0.000000e+00</td>\n",
       "      <td>0.000000e+00</td>\n",
       "      <td>0.000000e+00</td>\n",
       "      <td>0.000000e+00</td>\n",
       "      <td>0.000000e+00</td>\n",
       "      <td>0.000000e+00</td>\n",
       "      <td>0.000000e+00</td>\n",
       "      <td>0.000000e+00</td>\n",
       "      <td>0.000000e+00</td>\n",
       "      <td>0.000000e+00</td>\n",
       "      <td>0.000000e+00</td>\n",
       "      <td>0.000000e+00</td>\n",
       "      <td>0.000000e+00</td>\n",
       "      <td>0.000000e+00</td>\n",
       "      <td>0.000000e+00</td>\n",
       "      <td>0.000000e+00</td>\n",
       "      <td>0.000000e+00</td>\n",
       "      <td>0.000000e+00</td>\n",
       "      <td>-9.890000e-01</td>\n",
       "      <td>0.000000e+00</td>\n",
       "      <td>0.000000e+00</td>\n",
       "    </tr>\n",
       "    <tr>\n",
       "      <th>25%</th>\n",
       "      <td>0.000000e+00</td>\n",
       "      <td>0.000000e+00</td>\n",
       "      <td>0.000000e+00</td>\n",
       "      <td>0.000000e+00</td>\n",
       "      <td>0.000000e+00</td>\n",
       "      <td>0.000000e+00</td>\n",
       "      <td>0.000000e+00</td>\n",
       "      <td>0.000000e+00</td>\n",
       "      <td>0.000000e+00</td>\n",
       "      <td>0.000000e+00</td>\n",
       "      <td>0.000000e+00</td>\n",
       "      <td>0.000000e+00</td>\n",
       "      <td>0.000000e+00</td>\n",
       "      <td>0.000000e+00</td>\n",
       "      <td>0.000000e+00</td>\n",
       "      <td>0.000000e+00</td>\n",
       "      <td>0.000000e+00</td>\n",
       "      <td>0.000000e+00</td>\n",
       "      <td>0.000000e+00</td>\n",
       "      <td>0.000000e+00</td>\n",
       "      <td>1.709000e+03</td>\n",
       "      <td>4.550000e+02</td>\n",
       "      <td>7.483137e-03</td>\n",
       "      <td>0.000000e+00</td>\n",
       "      <td>0.000000e+00</td>\n",
       "      <td>4.000000e+00</td>\n",
       "      <td>0.000000e+00</td>\n",
       "      <td>0.000000e+00</td>\n",
       "      <td>0.000000e+00</td>\n",
       "      <td>0.000000e+00</td>\n",
       "      <td>0.000000e+00</td>\n",
       "      <td>0.000000e+00</td>\n",
       "      <td>0.000000e+00</td>\n",
       "      <td>0.000000e+00</td>\n",
       "      <td>0.000000e+00</td>\n",
       "      <td>0.000000e+00</td>\n",
       "      <td>0.000000e+00</td>\n",
       "      <td>0.000000e+00</td>\n",
       "      <td>0.000000e+00</td>\n",
       "      <td>0.000000e+00</td>\n",
       "      <td>0.000000e+00</td>\n",
       "      <td>0.000000e+00</td>\n",
       "      <td>0.000000e+00</td>\n",
       "      <td>0.000000e+00</td>\n",
       "      <td>0.000000e+00</td>\n",
       "      <td>0.000000e+00</td>\n",
       "      <td>-2.023000e-01</td>\n",
       "      <td>5.300000e+01</td>\n",
       "      <td>5.000000e+00</td>\n",
       "    </tr>\n",
       "    <tr>\n",
       "      <th>50%</th>\n",
       "      <td>0.000000e+00</td>\n",
       "      <td>0.000000e+00</td>\n",
       "      <td>0.000000e+00</td>\n",
       "      <td>0.000000e+00</td>\n",
       "      <td>0.000000e+00</td>\n",
       "      <td>0.000000e+00</td>\n",
       "      <td>0.000000e+00</td>\n",
       "      <td>0.000000e+00</td>\n",
       "      <td>0.000000e+00</td>\n",
       "      <td>0.000000e+00</td>\n",
       "      <td>0.000000e+00</td>\n",
       "      <td>0.000000e+00</td>\n",
       "      <td>0.000000e+00</td>\n",
       "      <td>0.000000e+00</td>\n",
       "      <td>0.000000e+00</td>\n",
       "      <td>0.000000e+00</td>\n",
       "      <td>0.000000e+00</td>\n",
       "      <td>0.000000e+00</td>\n",
       "      <td>0.000000e+00</td>\n",
       "      <td>0.000000e+00</td>\n",
       "      <td>1.369000e+04</td>\n",
       "      <td>1.320000e+03</td>\n",
       "      <td>2.604833e-01</td>\n",
       "      <td>1.000000e+00</td>\n",
       "      <td>0.000000e+00</td>\n",
       "      <td>4.000000e+00</td>\n",
       "      <td>0.000000e+00</td>\n",
       "      <td>1.000000e+00</td>\n",
       "      <td>0.000000e+00</td>\n",
       "      <td>0.000000e+00</td>\n",
       "      <td>0.000000e+00</td>\n",
       "      <td>0.000000e+00</td>\n",
       "      <td>0.000000e+00</td>\n",
       "      <td>0.000000e+00</td>\n",
       "      <td>0.000000e+00</td>\n",
       "      <td>0.000000e+00</td>\n",
       "      <td>0.000000e+00</td>\n",
       "      <td>0.000000e+00</td>\n",
       "      <td>0.000000e+00</td>\n",
       "      <td>0.000000e+00</td>\n",
       "      <td>0.000000e+00</td>\n",
       "      <td>0.000000e+00</td>\n",
       "      <td>0.000000e+00</td>\n",
       "      <td>0.000000e+00</td>\n",
       "      <td>0.000000e+00</td>\n",
       "      <td>0.000000e+00</td>\n",
       "      <td>0.000000e+00</td>\n",
       "      <td>7.200000e+01</td>\n",
       "      <td>4.010000e+02</td>\n",
       "    </tr>\n",
       "    <tr>\n",
       "      <th>75%</th>\n",
       "      <td>0.000000e+00</td>\n",
       "      <td>0.000000e+00</td>\n",
       "      <td>0.000000e+00</td>\n",
       "      <td>0.000000e+00</td>\n",
       "      <td>0.000000e+00</td>\n",
       "      <td>0.000000e+00</td>\n",
       "      <td>0.000000e+00</td>\n",
       "      <td>0.000000e+00</td>\n",
       "      <td>0.000000e+00</td>\n",
       "      <td>0.000000e+00</td>\n",
       "      <td>0.000000e+00</td>\n",
       "      <td>0.000000e+00</td>\n",
       "      <td>0.000000e+00</td>\n",
       "      <td>0.000000e+00</td>\n",
       "      <td>0.000000e+00</td>\n",
       "      <td>0.000000e+00</td>\n",
       "      <td>0.000000e+00</td>\n",
       "      <td>0.000000e+00</td>\n",
       "      <td>0.000000e+00</td>\n",
       "      <td>0.000000e+00</td>\n",
       "      <td>8.183300e+04</td>\n",
       "      <td>4.276000e+03</td>\n",
       "      <td>8.759494e-01</td>\n",
       "      <td>1.000000e+00</td>\n",
       "      <td>1.000000e+00</td>\n",
       "      <td>5.000000e+00</td>\n",
       "      <td>0.000000e+00</td>\n",
       "      <td>1.000000e+00</td>\n",
       "      <td>0.000000e+00</td>\n",
       "      <td>0.000000e+00</td>\n",
       "      <td>1.000000e+00</td>\n",
       "      <td>1.000000e+00</td>\n",
       "      <td>0.000000e+00</td>\n",
       "      <td>0.000000e+00</td>\n",
       "      <td>0.000000e+00</td>\n",
       "      <td>0.000000e+00</td>\n",
       "      <td>0.000000e+00</td>\n",
       "      <td>0.000000e+00</td>\n",
       "      <td>0.000000e+00</td>\n",
       "      <td>0.000000e+00</td>\n",
       "      <td>0.000000e+00</td>\n",
       "      <td>0.000000e+00</td>\n",
       "      <td>0.000000e+00</td>\n",
       "      <td>1.000000e+00</td>\n",
       "      <td>0.000000e+00</td>\n",
       "      <td>0.000000e+00</td>\n",
       "      <td>4.019000e-01</td>\n",
       "      <td>9.700000e+01</td>\n",
       "      <td>4.922000e+03</td>\n",
       "    </tr>\n",
       "    <tr>\n",
       "      <th>max</th>\n",
       "      <td>9.900000e+01</td>\n",
       "      <td>1.000000e+00</td>\n",
       "      <td>1.000000e+00</td>\n",
       "      <td>1.000000e+00</td>\n",
       "      <td>1.000000e+00</td>\n",
       "      <td>1.210000e+02</td>\n",
       "      <td>1.000000e+00</td>\n",
       "      <td>1.000000e+00</td>\n",
       "      <td>1.000000e+00</td>\n",
       "      <td>1.000000e+00</td>\n",
       "      <td>1.000000e+00</td>\n",
       "      <td>1.000000e+00</td>\n",
       "      <td>1.000000e+00</td>\n",
       "      <td>1.000000e+00</td>\n",
       "      <td>1.000000e+00</td>\n",
       "      <td>1.000000e+00</td>\n",
       "      <td>9.998000e-01</td>\n",
       "      <td>1.000000e+00</td>\n",
       "      <td>1.000000e+00</td>\n",
       "      <td>1.000000e+00</td>\n",
       "      <td>1.335241e+08</td>\n",
       "      <td>4.095338e+06</td>\n",
       "      <td>1.010000e+03</td>\n",
       "      <td>1.000000e+00</td>\n",
       "      <td>1.000000e+00</td>\n",
       "      <td>3.900000e+01</td>\n",
       "      <td>1.000000e+00</td>\n",
       "      <td>6.000000e+00</td>\n",
       "      <td>3.000000e+01</td>\n",
       "      <td>9.800000e+01</td>\n",
       "      <td>3.500000e+01</td>\n",
       "      <td>1.000000e+00</td>\n",
       "      <td>1.000000e+00</td>\n",
       "      <td>1.000000e+00</td>\n",
       "      <td>1.000000e+00</td>\n",
       "      <td>1.000000e+00</td>\n",
       "      <td>1.000000e+00</td>\n",
       "      <td>1.000000e+00</td>\n",
       "      <td>1.000000e+00</td>\n",
       "      <td>1.000000e+00</td>\n",
       "      <td>1.000000e+00</td>\n",
       "      <td>1.000000e+00</td>\n",
       "      <td>1.000000e+00</td>\n",
       "      <td>1.000000e+00</td>\n",
       "      <td>1.000000e+00</td>\n",
       "      <td>1.000000e+00</td>\n",
       "      <td>9.991000e-01</td>\n",
       "      <td>2.940000e+02</td>\n",
       "      <td>3.062789e+06</td>\n",
       "    </tr>\n",
       "  </tbody>\n",
       "</table>\n",
       "</div>\n",
       "      <button class=\"colab-df-convert\" onclick=\"convertToInteractive('df-76c76207-ec2d-485d-b037-9143d82ba85f')\"\n",
       "              title=\"Convert this dataframe to an interactive table.\"\n",
       "              style=\"display:none;\">\n",
       "        \n",
       "  <svg xmlns=\"http://www.w3.org/2000/svg\" height=\"24px\"viewBox=\"0 0 24 24\"\n",
       "       width=\"24px\">\n",
       "    <path d=\"M0 0h24v24H0V0z\" fill=\"none\"/>\n",
       "    <path d=\"M18.56 5.44l.94 2.06.94-2.06 2.06-.94-2.06-.94-.94-2.06-.94 2.06-2.06.94zm-11 1L8.5 8.5l.94-2.06 2.06-.94-2.06-.94L8.5 2.5l-.94 2.06-2.06.94zm10 10l.94 2.06.94-2.06 2.06-.94-2.06-.94-.94-2.06-.94 2.06-2.06.94z\"/><path d=\"M17.41 7.96l-1.37-1.37c-.4-.4-.92-.59-1.43-.59-.52 0-1.04.2-1.43.59L10.3 9.45l-7.72 7.72c-.78.78-.78 2.05 0 2.83L4 21.41c.39.39.9.59 1.41.59.51 0 1.02-.2 1.41-.59l7.78-7.78 2.81-2.81c.8-.78.8-2.07 0-2.86zM5.41 20L4 18.59l7.72-7.72 1.47 1.35L5.41 20z\"/>\n",
       "  </svg>\n",
       "      </button>\n",
       "      \n",
       "  <style>\n",
       "    .colab-df-container {\n",
       "      display:flex;\n",
       "      flex-wrap:wrap;\n",
       "      gap: 12px;\n",
       "    }\n",
       "\n",
       "    .colab-df-convert {\n",
       "      background-color: #E8F0FE;\n",
       "      border: none;\n",
       "      border-radius: 50%;\n",
       "      cursor: pointer;\n",
       "      display: none;\n",
       "      fill: #1967D2;\n",
       "      height: 32px;\n",
       "      padding: 0 0 0 0;\n",
       "      width: 32px;\n",
       "    }\n",
       "\n",
       "    .colab-df-convert:hover {\n",
       "      background-color: #E2EBFA;\n",
       "      box-shadow: 0px 1px 2px rgba(60, 64, 67, 0.3), 0px 1px 3px 1px rgba(60, 64, 67, 0.15);\n",
       "      fill: #174EA6;\n",
       "    }\n",
       "\n",
       "    [theme=dark] .colab-df-convert {\n",
       "      background-color: #3B4455;\n",
       "      fill: #D2E3FC;\n",
       "    }\n",
       "\n",
       "    [theme=dark] .colab-df-convert:hover {\n",
       "      background-color: #434B5C;\n",
       "      box-shadow: 0px 1px 3px 1px rgba(0, 0, 0, 0.15);\n",
       "      filter: drop-shadow(0px 1px 2px rgba(0, 0, 0, 0.3));\n",
       "      fill: #FFFFFF;\n",
       "    }\n",
       "  </style>\n",
       "\n",
       "      <script>\n",
       "        const buttonEl =\n",
       "          document.querySelector('#df-76c76207-ec2d-485d-b037-9143d82ba85f button.colab-df-convert');\n",
       "        buttonEl.style.display =\n",
       "          google.colab.kernel.accessAllowed ? 'block' : 'none';\n",
       "\n",
       "        async function convertToInteractive(key) {\n",
       "          const element = document.querySelector('#df-76c76207-ec2d-485d-b037-9143d82ba85f');\n",
       "          const dataTable =\n",
       "            await google.colab.kernel.invokeFunction('convertToInteractive',\n",
       "                                                     [key], {});\n",
       "          if (!dataTable) return;\n",
       "\n",
       "          const docLinkHtml = 'Like what you see? Visit the ' +\n",
       "            '<a target=\"_blank\" href=https://colab.research.google.com/notebooks/data_table.ipynb>data table notebook</a>'\n",
       "            + ' to learn more about interactive tables.';\n",
       "          element.innerHTML = '';\n",
       "          dataTable['output_type'] = 'display_data';\n",
       "          await google.colab.output.renderOutput(dataTable, element);\n",
       "          const docLink = document.createElement('div');\n",
       "          docLink.innerHTML = docLinkHtml;\n",
       "          element.appendChild(docLink);\n",
       "        }\n",
       "      </script>\n",
       "    </div>\n",
       "  </div>\n",
       "  "
      ],
      "text/plain": [
       "       RUS_lett_count  emoji_blowingkiss   emoji_check  emoji_claphands  \\\n",
       "count    2.400000e+06       2.400000e+06  2.400000e+06     2.400000e+06   \n",
       "mean     7.462500e-04       4.500000e-04  7.300000e-04     5.670833e-04   \n",
       "std      1.214044e-01       2.120843e-02  2.700865e-02     2.380676e-02   \n",
       "min      0.000000e+00       0.000000e+00  0.000000e+00     0.000000e+00   \n",
       "25%      0.000000e+00       0.000000e+00  0.000000e+00     0.000000e+00   \n",
       "50%      0.000000e+00       0.000000e+00  0.000000e+00     0.000000e+00   \n",
       "75%      0.000000e+00       0.000000e+00  0.000000e+00     0.000000e+00   \n",
       "max      9.900000e+01       1.000000e+00  1.000000e+00     1.000000e+00   \n",
       "\n",
       "       emoji_collision   emoji_count  emoji_exclamation    emoji_fire  \\\n",
       "count     2.400000e+06  2.400000e+06       2.400000e+06  2.400000e+06   \n",
       "mean      3.566667e-04  6.940458e-02       5.645833e-04  1.016250e-03   \n",
       "std       1.888226e-02  5.687789e-01       2.375426e-02  3.186248e-02   \n",
       "min       0.000000e+00  0.000000e+00       0.000000e+00  0.000000e+00   \n",
       "25%       0.000000e+00  0.000000e+00       0.000000e+00  0.000000e+00   \n",
       "50%       0.000000e+00  0.000000e+00       0.000000e+00  0.000000e+00   \n",
       "75%       0.000000e+00  0.000000e+00       0.000000e+00  0.000000e+00   \n",
       "max       1.000000e+00  1.210000e+02       1.000000e+00  1.000000e+00   \n",
       "\n",
       "         emoji_fist  emoji_flagUS  emoji_loudcryface  emoji_partypop  \\\n",
       "count  2.400000e+06  2.400000e+06       2.400000e+06    2.400000e+06   \n",
       "mean   7.050000e-04  1.289583e-03       3.962500e-04    4.558333e-04   \n",
       "std    2.654248e-02  3.588761e-02       1.990209e-02    2.134539e-02   \n",
       "min    0.000000e+00  0.000000e+00       0.000000e+00    0.000000e+00   \n",
       "25%    0.000000e+00  0.000000e+00       0.000000e+00    0.000000e+00   \n",
       "50%    0.000000e+00  0.000000e+00       0.000000e+00    0.000000e+00   \n",
       "75%    0.000000e+00  0.000000e+00       0.000000e+00    0.000000e+00   \n",
       "max    1.000000e+00  1.000000e+00       1.000000e+00    1.000000e+00   \n",
       "\n",
       "       emoji_police  emoji_prohibited  emoji_raisehands  emoji_redheart  \\\n",
       "count  2.400000e+06      2.400000e+06      2.400000e+06    2.400000e+06   \n",
       "mean   5.729167e-04      1.200000e-04      8.329167e-04    2.339167e-03   \n",
       "std    2.392883e-02      1.095380e-02      2.884828e-02    4.830834e-02   \n",
       "min    0.000000e+00      0.000000e+00      0.000000e+00    0.000000e+00   \n",
       "25%    0.000000e+00      0.000000e+00      0.000000e+00    0.000000e+00   \n",
       "50%    0.000000e+00      0.000000e+00      0.000000e+00    0.000000e+00   \n",
       "75%    0.000000e+00      0.000000e+00      0.000000e+00    0.000000e+00   \n",
       "max    1.000000e+00      1.000000e+00      1.000000e+00    1.000000e+00   \n",
       "\n",
       "       emoji_sentiment  emoji_smilinghearteye  emoji_tearsjoy  emoji_thumbsup  \\\n",
       "count     2.400000e+06           2.400000e+06    2.400000e+06    2.400000e+06   \n",
       "mean      6.700219e-03           7.541667e-04    2.216250e-03    8.916667e-04   \n",
       "std       7.755704e-02           2.745174e-02    4.702488e-02    2.984748e-02   \n",
       "min      -9.997000e-01           0.000000e+00    0.000000e+00    0.000000e+00   \n",
       "25%       0.000000e+00           0.000000e+00    0.000000e+00    0.000000e+00   \n",
       "50%       0.000000e+00           0.000000e+00    0.000000e+00    0.000000e+00   \n",
       "75%       0.000000e+00           0.000000e+00    0.000000e+00    0.000000e+00   \n",
       "max       9.998000e-01           1.000000e+00    1.000000e+00    1.000000e+00   \n",
       "\n",
       "          followers     following  following_ratio       has_url  \\\n",
       "count  2.400000e+06  2.400000e+06     2.400000e+06  2.400000e+06   \n",
       "mean   2.100871e+06  5.922519e+03     7.870880e-01  6.203950e-01   \n",
       "std    1.039080e+07  3.604702e+04     4.730961e+00  4.852887e-01   \n",
       "min    0.000000e+00  0.000000e+00     0.000000e+00  0.000000e+00   \n",
       "25%    1.709000e+03  4.550000e+02     7.483137e-03  0.000000e+00   \n",
       "50%    1.369000e+04  1.320000e+03     2.604833e-01  1.000000e+00   \n",
       "75%    8.183300e+04  4.276000e+03     8.759494e-01  1.000000e+00   \n",
       "max    1.335241e+08  4.095338e+06     1.010000e+03  1.000000e+00   \n",
       "\n",
       "         is_retweet  median_word_length  multi_authors      num_URLs  \\\n",
       "count  2.400000e+06        2.399985e+06   2.400000e+06  2.400000e+06   \n",
       "mean   3.162104e-01        4.413035e+00   6.583667e-02  8.076942e-01   \n",
       "std    4.649962e-01        1.094537e+00   2.479964e-01  7.335027e-01   \n",
       "min    0.000000e+00        1.000000e+00   0.000000e+00  0.000000e+00   \n",
       "25%    0.000000e+00        4.000000e+00   0.000000e+00  0.000000e+00   \n",
       "50%    0.000000e+00        4.000000e+00   0.000000e+00  1.000000e+00   \n",
       "75%    1.000000e+00        5.000000e+00   0.000000e+00  1.000000e+00   \n",
       "max    1.000000e+00        3.900000e+01   1.000000e+00  6.000000e+00   \n",
       "\n",
       "         num_commas    num_dashes     num_hashs  region_All_Other  \\\n",
       "count  2.400000e+06  2.400000e+06  2.400000e+06      2.400000e+06   \n",
       "mean   3.168238e-01  1.910046e-01  5.536825e-01      2.989854e-01   \n",
       "std    6.583496e-01  5.334060e-01  9.316094e-01      4.578135e-01   \n",
       "min    0.000000e+00  0.000000e+00  0.000000e+00      0.000000e+00   \n",
       "25%    0.000000e+00  0.000000e+00  0.000000e+00      0.000000e+00   \n",
       "50%    0.000000e+00  0.000000e+00  0.000000e+00      0.000000e+00   \n",
       "75%    0.000000e+00  0.000000e+00  1.000000e+00      1.000000e+00   \n",
       "max    3.000000e+01  9.800000e+01  3.500000e+01      1.000000e+00   \n",
       "\n",
       "       region_Atlanta_GA  region_Australia  region_Boston_MA  region_Global  \\\n",
       "count       2.400000e+06      2.400000e+06      2.400000e+06   2.400000e+06   \n",
       "mean        5.457083e-03      5.254583e-03      7.100833e-03   4.846250e-03   \n",
       "std         7.367025e-02      7.229782e-02      8.396675e-02   6.944614e-02   \n",
       "min         0.000000e+00      0.000000e+00      0.000000e+00   0.000000e+00   \n",
       "25%         0.000000e+00      0.000000e+00      0.000000e+00   0.000000e+00   \n",
       "50%         0.000000e+00      0.000000e+00      0.000000e+00   0.000000e+00   \n",
       "75%         0.000000e+00      0.000000e+00      0.000000e+00   0.000000e+00   \n",
       "max         1.000000e+00      1.000000e+00      1.000000e+00   1.000000e+00   \n",
       "\n",
       "       region_London  region_Los_Angeles_CA  region_New_York_City  \\\n",
       "count   2.400000e+06           2.400000e+06          2.400000e+06   \n",
       "mean    6.953750e-03           7.188750e-03          6.281250e-03   \n",
       "std     8.309873e-02           8.448121e-02          7.900505e-02   \n",
       "min     0.000000e+00           0.000000e+00          0.000000e+00   \n",
       "25%     0.000000e+00           0.000000e+00          0.000000e+00   \n",
       "50%     0.000000e+00           0.000000e+00          0.000000e+00   \n",
       "75%     0.000000e+00           0.000000e+00          0.000000e+00   \n",
       "max     1.000000e+00           1.000000e+00          1.000000e+00   \n",
       "\n",
       "       region_New_York_NY  region_New_York_and_the_World  \\\n",
       "count        2.400000e+06                   2.400000e+06   \n",
       "mean         2.226542e-02                   6.429167e-03   \n",
       "std          1.475455e-01                   7.992393e-02   \n",
       "min          0.000000e+00                   0.000000e+00   \n",
       "25%          0.000000e+00                   0.000000e+00   \n",
       "50%          0.000000e+00                   0.000000e+00   \n",
       "75%          0.000000e+00                   0.000000e+00   \n",
       "max          1.000000e+00                   1.000000e+00   \n",
       "\n",
       "       region_Pale_Blue_Dot  region_United_Kingdom  region_United_States  \\\n",
       "count          2.400000e+06           2.400000e+06          2.400000e+06   \n",
       "mean           5.849583e-03           7.405833e-03          4.609850e-01   \n",
       "std            7.625856e-02           8.573791e-02          4.984756e-01   \n",
       "min            0.000000e+00           0.000000e+00          0.000000e+00   \n",
       "25%            0.000000e+00           0.000000e+00          0.000000e+00   \n",
       "50%            0.000000e+00           0.000000e+00          0.000000e+00   \n",
       "75%            0.000000e+00           0.000000e+00          1.000000e+00   \n",
       "max            1.000000e+00           1.000000e+00          1.000000e+00   \n",
       "\n",
       "       region_Unknown  region_Washington_DC     sentiment  tweet_length  \\\n",
       "count    2.400000e+06          2.400000e+06  2.400000e+06  2.400000e+06   \n",
       "mean     1.144767e-01          4.052042e-02  5.281044e-02  7.487039e+01   \n",
       "std      3.183894e-01          1.971764e-01  4.306975e-01  3.136801e+01   \n",
       "min      0.000000e+00          0.000000e+00 -9.890000e-01  0.000000e+00   \n",
       "25%      0.000000e+00          0.000000e+00 -2.023000e-01  5.300000e+01   \n",
       "50%      0.000000e+00          0.000000e+00  0.000000e+00  7.200000e+01   \n",
       "75%      0.000000e+00          0.000000e+00  4.019000e-01  9.700000e+01   \n",
       "max      1.000000e+00          1.000000e+00  9.991000e-01  2.940000e+02   \n",
       "\n",
       "            updates  \n",
       "count  2.400000e+06  \n",
       "mean   5.920852e+03  \n",
       "std    1.910052e+04  \n",
       "min    0.000000e+00  \n",
       "25%    5.000000e+00  \n",
       "50%    4.010000e+02  \n",
       "75%    4.922000e+03  \n",
       "max    3.062789e+06  "
      ]
     },
     "execution_count": 32,
     "metadata": {},
     "output_type": "execute_result"
    }
   ],
   "source": [
    "x_train.describe()"
   ]
  },
  {
   "cell_type": "markdown",
   "metadata": {
    "id": "vvPofhAyAqBM"
   },
   "source": [
    "# 3- Sklearn Pipelines for Normalization"
   ]
  },
  {
   "cell_type": "markdown",
   "metadata": {
    "id": "kl2oc1i22x8-"
   },
   "source": [
    "#### **StandardScaler Pipeline** (preferred)"
   ]
  },
  {
   "cell_type": "code",
   "execution_count": 56,
   "metadata": {
    "id": "Vp0SlmNZ2cU9"
   },
   "outputs": [],
   "source": [
    "#pipeline for StandardScaler\n",
    "full_pipeline2 = make_column_transformer(\n",
    "    (StandardScaler(), columns_without_target),\n",
    "    remainder='passthrough', verbose_feature_names_out=False,\n",
    "        sparse_threshold=0)"
   ]
  },
  {
   "cell_type": "code",
   "execution_count": 57,
   "metadata": {
    "id": "tR7_1nhh2nnR"
   },
   "outputs": [],
   "source": [
    "#apply fit_transform on x_train\n",
    "x_train = pd.DataFrame(full_pipeline2.fit_transform(x_train),columns=full_pipeline2.get_feature_names_out())"
   ]
  },
  {
   "cell_type": "code",
   "execution_count": 58,
   "metadata": {
    "id": "bSm7pCQs2u0f"
   },
   "outputs": [],
   "source": [
    "#transform x_test\n",
    "x_test = pd.DataFrame(full_pipeline2.transform(x_test), columns= full_pipeline2.get_feature_names_out())"
   ]
  },
  {
   "cell_type": "code",
   "execution_count": 59,
   "metadata": {
    "colab": {
     "base_uri": "https://localhost:8080/",
     "height": 451
    },
    "id": "VW3Q_SrI4Zz_",
    "outputId": "a3d7c141-83c0-4625-aa6d-69927f144194"
   },
   "outputs": [
    {
     "data": {
      "text/html": [
       "\n",
       "  <div id=\"df-9929760d-9593-4b05-b42a-6a3c561662f4\">\n",
       "    <div class=\"colab-df-container\">\n",
       "      <div>\n",
       "<style scoped>\n",
       "    .dataframe tbody tr th:only-of-type {\n",
       "        vertical-align: middle;\n",
       "    }\n",
       "\n",
       "    .dataframe tbody tr th {\n",
       "        vertical-align: top;\n",
       "    }\n",
       "\n",
       "    .dataframe thead th {\n",
       "        text-align: right;\n",
       "    }\n",
       "</style>\n",
       "<table border=\"1\" class=\"dataframe\">\n",
       "  <thead>\n",
       "    <tr style=\"text-align: right;\">\n",
       "      <th></th>\n",
       "      <th>RUS_lett_count</th>\n",
       "      <th>emoji_blowingkiss</th>\n",
       "      <th>emoji_check</th>\n",
       "      <th>emoji_claphands</th>\n",
       "      <th>emoji_collision</th>\n",
       "      <th>emoji_count</th>\n",
       "      <th>emoji_exclamation</th>\n",
       "      <th>emoji_fire</th>\n",
       "      <th>emoji_fist</th>\n",
       "      <th>emoji_flagUS</th>\n",
       "      <th>emoji_loudcryface</th>\n",
       "      <th>emoji_partypop</th>\n",
       "      <th>emoji_police</th>\n",
       "      <th>emoji_prohibited</th>\n",
       "      <th>emoji_raisehands</th>\n",
       "      <th>emoji_redheart</th>\n",
       "      <th>emoji_sentiment</th>\n",
       "      <th>emoji_smilinghearteye</th>\n",
       "      <th>emoji_tearsjoy</th>\n",
       "      <th>emoji_thumbsup</th>\n",
       "      <th>followers</th>\n",
       "      <th>following</th>\n",
       "      <th>following_ratio</th>\n",
       "      <th>has_url</th>\n",
       "      <th>is_retweet</th>\n",
       "      <th>median_word_length</th>\n",
       "      <th>multi_authors</th>\n",
       "      <th>num_URLs</th>\n",
       "      <th>num_commas</th>\n",
       "      <th>num_dashes</th>\n",
       "      <th>num_hashs</th>\n",
       "      <th>region_All_Other</th>\n",
       "      <th>region_Atlanta_GA</th>\n",
       "      <th>region_Australia</th>\n",
       "      <th>region_Boston_MA</th>\n",
       "      <th>region_Global</th>\n",
       "      <th>region_London</th>\n",
       "      <th>region_Los_Angeles_CA</th>\n",
       "      <th>region_New_York_City</th>\n",
       "      <th>region_New_York_NY</th>\n",
       "      <th>region_New_York_and_the_World</th>\n",
       "      <th>region_Pale_Blue_Dot</th>\n",
       "      <th>region_United_Kingdom</th>\n",
       "      <th>region_United_States</th>\n",
       "      <th>region_Unknown</th>\n",
       "      <th>region_Washington_DC</th>\n",
       "      <th>sentiment</th>\n",
       "      <th>tweet_length</th>\n",
       "      <th>updates</th>\n",
       "    </tr>\n",
       "  </thead>\n",
       "  <tbody>\n",
       "    <tr>\n",
       "      <th>count</th>\n",
       "      <td>2.400000e+06</td>\n",
       "      <td>2.400000e+06</td>\n",
       "      <td>2.400000e+06</td>\n",
       "      <td>2.400000e+06</td>\n",
       "      <td>2.400000e+06</td>\n",
       "      <td>2.400000e+06</td>\n",
       "      <td>2.400000e+06</td>\n",
       "      <td>2.400000e+06</td>\n",
       "      <td>2.400000e+06</td>\n",
       "      <td>2.400000e+06</td>\n",
       "      <td>2.400000e+06</td>\n",
       "      <td>2.400000e+06</td>\n",
       "      <td>2.400000e+06</td>\n",
       "      <td>2.400000e+06</td>\n",
       "      <td>2.400000e+06</td>\n",
       "      <td>2.400000e+06</td>\n",
       "      <td>2.400000e+06</td>\n",
       "      <td>2.400000e+06</td>\n",
       "      <td>2.400000e+06</td>\n",
       "      <td>2.400000e+06</td>\n",
       "      <td>2.400000e+06</td>\n",
       "      <td>2.400000e+06</td>\n",
       "      <td>2.400000e+06</td>\n",
       "      <td>2.400000e+06</td>\n",
       "      <td>2.400000e+06</td>\n",
       "      <td>2.400000e+06</td>\n",
       "      <td>2.400000e+06</td>\n",
       "      <td>2.400000e+06</td>\n",
       "      <td>2.400000e+06</td>\n",
       "      <td>2.400000e+06</td>\n",
       "      <td>2.400000e+06</td>\n",
       "      <td>2.400000e+06</td>\n",
       "      <td>2.400000e+06</td>\n",
       "      <td>2.400000e+06</td>\n",
       "      <td>2.400000e+06</td>\n",
       "      <td>2.400000e+06</td>\n",
       "      <td>2.400000e+06</td>\n",
       "      <td>2.400000e+06</td>\n",
       "      <td>2.400000e+06</td>\n",
       "      <td>2.400000e+06</td>\n",
       "      <td>2.400000e+06</td>\n",
       "      <td>2.400000e+06</td>\n",
       "      <td>2.400000e+06</td>\n",
       "      <td>2.400000e+06</td>\n",
       "      <td>2.400000e+06</td>\n",
       "      <td>2.400000e+06</td>\n",
       "      <td>2.400000e+06</td>\n",
       "      <td>2.400000e+06</td>\n",
       "      <td>2.400000e+06</td>\n",
       "    </tr>\n",
       "    <tr>\n",
       "      <th>mean</th>\n",
       "      <td>2.353673e-18</td>\n",
       "      <td>9.402849e-18</td>\n",
       "      <td>-5.838293e-18</td>\n",
       "      <td>-4.087101e-18</td>\n",
       "      <td>1.076472e-17</td>\n",
       "      <td>6.714629e-18</td>\n",
       "      <td>3.055334e-18</td>\n",
       "      <td>-1.018445e-18</td>\n",
       "      <td>-7.590965e-18</td>\n",
       "      <td>7.815970e-19</td>\n",
       "      <td>-2.193801e-18</td>\n",
       "      <td>9.734435e-18</td>\n",
       "      <td>1.509015e-17</td>\n",
       "      <td>-1.634248e-18</td>\n",
       "      <td>-1.599017e-17</td>\n",
       "      <td>-1.999290e-17</td>\n",
       "      <td>3.076354e-17</td>\n",
       "      <td>1.975309e-17</td>\n",
       "      <td>5.595524e-18</td>\n",
       "      <td>-5.785002e-18</td>\n",
       "      <td>1.200817e-17</td>\n",
       "      <td>-6.640614e-18</td>\n",
       "      <td>-1.375226e-16</td>\n",
       "      <td>-6.725879e-17</td>\n",
       "      <td>-2.093437e-17</td>\n",
       "      <td>1.727389e-16</td>\n",
       "      <td>2.926844e-17</td>\n",
       "      <td>-7.405040e-17</td>\n",
       "      <td>-1.925571e-17</td>\n",
       "      <td>-1.473784e-17</td>\n",
       "      <td>1.230838e-16</td>\n",
       "      <td>-9.180212e-17</td>\n",
       "      <td>-4.500104e-18</td>\n",
       "      <td>4.080588e-17</td>\n",
       "      <td>4.029369e-17</td>\n",
       "      <td>-3.443172e-18</td>\n",
       "      <td>4.315363e-17</td>\n",
       "      <td>3.785416e-17</td>\n",
       "      <td>5.743554e-19</td>\n",
       "      <td>-2.966812e-17</td>\n",
       "      <td>1.546615e-17</td>\n",
       "      <td>2.711905e-18</td>\n",
       "      <td>-4.666785e-17</td>\n",
       "      <td>-1.899666e-17</td>\n",
       "      <td>7.327472e-18</td>\n",
       "      <td>7.100986e-18</td>\n",
       "      <td>8.696451e-17</td>\n",
       "      <td>2.209018e-16</td>\n",
       "      <td>1.776357e-20</td>\n",
       "    </tr>\n",
       "    <tr>\n",
       "      <th>std</th>\n",
       "      <td>1.000000e+00</td>\n",
       "      <td>1.000000e+00</td>\n",
       "      <td>1.000000e+00</td>\n",
       "      <td>1.000000e+00</td>\n",
       "      <td>1.000000e+00</td>\n",
       "      <td>1.000000e+00</td>\n",
       "      <td>1.000000e+00</td>\n",
       "      <td>1.000000e+00</td>\n",
       "      <td>1.000000e+00</td>\n",
       "      <td>1.000000e+00</td>\n",
       "      <td>1.000000e+00</td>\n",
       "      <td>1.000000e+00</td>\n",
       "      <td>1.000000e+00</td>\n",
       "      <td>1.000000e+00</td>\n",
       "      <td>1.000000e+00</td>\n",
       "      <td>1.000000e+00</td>\n",
       "      <td>1.000000e+00</td>\n",
       "      <td>1.000000e+00</td>\n",
       "      <td>1.000000e+00</td>\n",
       "      <td>1.000000e+00</td>\n",
       "      <td>1.000000e+00</td>\n",
       "      <td>1.000000e+00</td>\n",
       "      <td>1.000000e+00</td>\n",
       "      <td>1.000000e+00</td>\n",
       "      <td>1.000000e+00</td>\n",
       "      <td>1.000000e+00</td>\n",
       "      <td>1.000000e+00</td>\n",
       "      <td>1.000000e+00</td>\n",
       "      <td>1.000000e+00</td>\n",
       "      <td>1.000000e+00</td>\n",
       "      <td>1.000000e+00</td>\n",
       "      <td>1.000000e+00</td>\n",
       "      <td>1.000000e+00</td>\n",
       "      <td>1.000000e+00</td>\n",
       "      <td>1.000000e+00</td>\n",
       "      <td>1.000000e+00</td>\n",
       "      <td>1.000000e+00</td>\n",
       "      <td>1.000000e+00</td>\n",
       "      <td>1.000000e+00</td>\n",
       "      <td>1.000000e+00</td>\n",
       "      <td>1.000000e+00</td>\n",
       "      <td>1.000000e+00</td>\n",
       "      <td>1.000000e+00</td>\n",
       "      <td>1.000000e+00</td>\n",
       "      <td>1.000000e+00</td>\n",
       "      <td>1.000000e+00</td>\n",
       "      <td>1.000000e+00</td>\n",
       "      <td>1.000000e+00</td>\n",
       "      <td>1.000000e+00</td>\n",
       "    </tr>\n",
       "    <tr>\n",
       "      <th>min</th>\n",
       "      <td>-6.146812e-03</td>\n",
       "      <td>-2.121798e-02</td>\n",
       "      <td>-2.702838e-02</td>\n",
       "      <td>-2.382027e-02</td>\n",
       "      <td>-1.888899e-02</td>\n",
       "      <td>-1.220239e-01</td>\n",
       "      <td>-2.376767e-02</td>\n",
       "      <td>-3.189489e-02</td>\n",
       "      <td>-2.656120e-02</td>\n",
       "      <td>-3.593395e-02</td>\n",
       "      <td>-1.990997e-02</td>\n",
       "      <td>-2.135512e-02</td>\n",
       "      <td>-2.394254e-02</td>\n",
       "      <td>-1.095511e-02</td>\n",
       "      <td>-2.887232e-02</td>\n",
       "      <td>-4.842160e-02</td>\n",
       "      <td>-1.297626e+01</td>\n",
       "      <td>-2.747246e-02</td>\n",
       "      <td>-4.712932e-02</td>\n",
       "      <td>-2.987411e-02</td>\n",
       "      <td>-2.021858e-01</td>\n",
       "      <td>-1.642999e-01</td>\n",
       "      <td>-1.663696e-01</td>\n",
       "      <td>-1.278404e+00</td>\n",
       "      <td>-6.800281e-01</td>\n",
       "      <td>-4.031658e+00</td>\n",
       "      <td>-2.654743e-01</td>\n",
       "      <td>-1.101147e+00</td>\n",
       "      <td>-4.812395e-01</td>\n",
       "      <td>-3.580849e-01</td>\n",
       "      <td>-5.943291e-01</td>\n",
       "      <td>-6.530726e-01</td>\n",
       "      <td>-7.407447e-02</td>\n",
       "      <td>-7.267971e-02</td>\n",
       "      <td>-8.456723e-02</td>\n",
       "      <td>-6.978431e-02</td>\n",
       "      <td>-8.368060e-02</td>\n",
       "      <td>-8.509290e-02</td>\n",
       "      <td>-7.950442e-02</td>\n",
       "      <td>-1.509055e-01</td>\n",
       "      <td>-8.044109e-02</td>\n",
       "      <td>-7.670725e-02</td>\n",
       "      <td>-8.637759e-02</td>\n",
       "      <td>-9.247897e-01</td>\n",
       "      <td>-3.595493e-01</td>\n",
       "      <td>-2.055034e-01</td>\n",
       "      <td>-2.418892e+00</td>\n",
       "      <td>-2.386839e+00</td>\n",
       "      <td>-3.099839e-01</td>\n",
       "    </tr>\n",
       "    <tr>\n",
       "      <th>25%</th>\n",
       "      <td>-6.146812e-03</td>\n",
       "      <td>-2.121798e-02</td>\n",
       "      <td>-2.702838e-02</td>\n",
       "      <td>-2.382027e-02</td>\n",
       "      <td>-1.888899e-02</td>\n",
       "      <td>-1.220239e-01</td>\n",
       "      <td>-2.376767e-02</td>\n",
       "      <td>-3.189489e-02</td>\n",
       "      <td>-2.656120e-02</td>\n",
       "      <td>-3.593395e-02</td>\n",
       "      <td>-1.990997e-02</td>\n",
       "      <td>-2.135512e-02</td>\n",
       "      <td>-2.394254e-02</td>\n",
       "      <td>-1.095511e-02</td>\n",
       "      <td>-2.887232e-02</td>\n",
       "      <td>-4.842160e-02</td>\n",
       "      <td>-8.639088e-02</td>\n",
       "      <td>-2.747246e-02</td>\n",
       "      <td>-4.712932e-02</td>\n",
       "      <td>-2.987411e-02</td>\n",
       "      <td>-2.020213e-01</td>\n",
       "      <td>-1.516775e-01</td>\n",
       "      <td>-1.647879e-01</td>\n",
       "      <td>-1.278404e+00</td>\n",
       "      <td>-6.800281e-01</td>\n",
       "      <td>-3.773179e-01</td>\n",
       "      <td>-2.654743e-01</td>\n",
       "      <td>-1.101147e+00</td>\n",
       "      <td>-4.812395e-01</td>\n",
       "      <td>-3.580849e-01</td>\n",
       "      <td>-5.943291e-01</td>\n",
       "      <td>-6.530726e-01</td>\n",
       "      <td>-7.407447e-02</td>\n",
       "      <td>-7.267971e-02</td>\n",
       "      <td>-8.456723e-02</td>\n",
       "      <td>-6.978431e-02</td>\n",
       "      <td>-8.368060e-02</td>\n",
       "      <td>-8.509290e-02</td>\n",
       "      <td>-7.950442e-02</td>\n",
       "      <td>-1.509055e-01</td>\n",
       "      <td>-8.044109e-02</td>\n",
       "      <td>-7.670725e-02</td>\n",
       "      <td>-8.637759e-02</td>\n",
       "      <td>-9.247897e-01</td>\n",
       "      <td>-3.595493e-01</td>\n",
       "      <td>-2.055034e-01</td>\n",
       "      <td>-5.923194e-01</td>\n",
       "      <td>-6.972197e-01</td>\n",
       "      <td>-3.097221e-01</td>\n",
       "    </tr>\n",
       "    <tr>\n",
       "      <th>50%</th>\n",
       "      <td>-6.146812e-03</td>\n",
       "      <td>-2.121798e-02</td>\n",
       "      <td>-2.702838e-02</td>\n",
       "      <td>-2.382027e-02</td>\n",
       "      <td>-1.888899e-02</td>\n",
       "      <td>-1.220239e-01</td>\n",
       "      <td>-2.376767e-02</td>\n",
       "      <td>-3.189489e-02</td>\n",
       "      <td>-2.656120e-02</td>\n",
       "      <td>-3.593395e-02</td>\n",
       "      <td>-1.990997e-02</td>\n",
       "      <td>-2.135512e-02</td>\n",
       "      <td>-2.394254e-02</td>\n",
       "      <td>-1.095511e-02</td>\n",
       "      <td>-2.887232e-02</td>\n",
       "      <td>-4.842160e-02</td>\n",
       "      <td>-8.639088e-02</td>\n",
       "      <td>-2.747246e-02</td>\n",
       "      <td>-4.712932e-02</td>\n",
       "      <td>-2.987411e-02</td>\n",
       "      <td>-2.008683e-01</td>\n",
       "      <td>-1.276810e-01</td>\n",
       "      <td>-1.113103e-01</td>\n",
       "      <td>7.822252e-01</td>\n",
       "      <td>-6.800281e-01</td>\n",
       "      <td>-3.773179e-01</td>\n",
       "      <td>-2.654743e-01</td>\n",
       "      <td>2.621747e-01</td>\n",
       "      <td>-4.812395e-01</td>\n",
       "      <td>-3.580849e-01</td>\n",
       "      <td>-5.943291e-01</td>\n",
       "      <td>-6.530726e-01</td>\n",
       "      <td>-7.407447e-02</td>\n",
       "      <td>-7.267971e-02</td>\n",
       "      <td>-8.456723e-02</td>\n",
       "      <td>-6.978431e-02</td>\n",
       "      <td>-8.368060e-02</td>\n",
       "      <td>-8.509290e-02</td>\n",
       "      <td>-7.950442e-02</td>\n",
       "      <td>-1.509055e-01</td>\n",
       "      <td>-8.044109e-02</td>\n",
       "      <td>-7.670725e-02</td>\n",
       "      <td>-8.637759e-02</td>\n",
       "      <td>-9.247897e-01</td>\n",
       "      <td>-3.595493e-01</td>\n",
       "      <td>-2.055034e-01</td>\n",
       "      <td>-1.226161e-01</td>\n",
       "      <td>-9.150702e-02</td>\n",
       "      <td>-2.889897e-01</td>\n",
       "    </tr>\n",
       "    <tr>\n",
       "      <th>75%</th>\n",
       "      <td>-6.146812e-03</td>\n",
       "      <td>-2.121798e-02</td>\n",
       "      <td>-2.702838e-02</td>\n",
       "      <td>-2.382027e-02</td>\n",
       "      <td>-1.888899e-02</td>\n",
       "      <td>-1.220239e-01</td>\n",
       "      <td>-2.376767e-02</td>\n",
       "      <td>-3.189489e-02</td>\n",
       "      <td>-2.656120e-02</td>\n",
       "      <td>-3.593395e-02</td>\n",
       "      <td>-1.990997e-02</td>\n",
       "      <td>-2.135512e-02</td>\n",
       "      <td>-2.394254e-02</td>\n",
       "      <td>-1.095511e-02</td>\n",
       "      <td>-2.887232e-02</td>\n",
       "      <td>-4.842160e-02</td>\n",
       "      <td>-8.639088e-02</td>\n",
       "      <td>-2.747246e-02</td>\n",
       "      <td>-4.712932e-02</td>\n",
       "      <td>-2.987411e-02</td>\n",
       "      <td>-1.943103e-01</td>\n",
       "      <td>-4.567700e-02</td>\n",
       "      <td>1.878295e-02</td>\n",
       "      <td>7.822252e-01</td>\n",
       "      <td>1.470528e+00</td>\n",
       "      <td>5.362672e-01</td>\n",
       "      <td>-2.654743e-01</td>\n",
       "      <td>2.621747e-01</td>\n",
       "      <td>-4.812395e-01</td>\n",
       "      <td>-3.580849e-01</td>\n",
       "      <td>4.790823e-01</td>\n",
       "      <td>1.531223e+00</td>\n",
       "      <td>-7.407447e-02</td>\n",
       "      <td>-7.267971e-02</td>\n",
       "      <td>-8.456723e-02</td>\n",
       "      <td>-6.978431e-02</td>\n",
       "      <td>-8.368060e-02</td>\n",
       "      <td>-8.509290e-02</td>\n",
       "      <td>-7.950442e-02</td>\n",
       "      <td>-1.509055e-01</td>\n",
       "      <td>-8.044109e-02</td>\n",
       "      <td>-7.670725e-02</td>\n",
       "      <td>-8.637759e-02</td>\n",
       "      <td>1.081327e+00</td>\n",
       "      <td>-3.595493e-01</td>\n",
       "      <td>-2.055034e-01</td>\n",
       "      <td>8.105215e-01</td>\n",
       "      <td>7.054834e-01</td>\n",
       "      <td>-5.229449e-02</td>\n",
       "    </tr>\n",
       "    <tr>\n",
       "      <th>max</th>\n",
       "      <td>8.154503e+02</td>\n",
       "      <td>4.712984e+01</td>\n",
       "      <td>3.699815e+01</td>\n",
       "      <td>4.198106e+01</td>\n",
       "      <td>5.294089e+01</td>\n",
       "      <td>2.126145e+02</td>\n",
       "      <td>4.207396e+01</td>\n",
       "      <td>3.135299e+01</td>\n",
       "      <td>3.764890e+01</td>\n",
       "      <td>2.782884e+01</td>\n",
       "      <td>5.022608e+01</td>\n",
       "      <td>4.682717e+01</td>\n",
       "      <td>4.176667e+01</td>\n",
       "      <td>9.128162e+01</td>\n",
       "      <td>3.463525e+01</td>\n",
       "      <td>2.065194e+01</td>\n",
       "      <td>1.280477e+01</td>\n",
       "      <td>3.640009e+01</td>\n",
       "      <td>2.121821e+01</td>\n",
       "      <td>3.347380e+01</td>\n",
       "      <td>1.264805e+01</td>\n",
       "      <td>1.134467e+02</td>\n",
       "      <td>2.133210e+02</td>\n",
       "      <td>7.822252e-01</td>\n",
       "      <td>1.470528e+00</td>\n",
       "      <td>3.159816e+01</td>\n",
       "      <td>3.766843e+00</td>\n",
       "      <td>7.078784e+00</td>\n",
       "      <td>4.508727e+01</td>\n",
       "      <td>1.833669e+02</td>\n",
       "      <td>3.697507e+01</td>\n",
       "      <td>1.531223e+00</td>\n",
       "      <td>1.349993e+01</td>\n",
       "      <td>1.375900e+01</td>\n",
       "      <td>1.182491e+01</td>\n",
       "      <td>1.432987e+01</td>\n",
       "      <td>1.195020e+01</td>\n",
       "      <td>1.175186e+01</td>\n",
       "      <td>1.257792e+01</td>\n",
       "      <td>6.626666e+00</td>\n",
       "      <td>1.243146e+01</td>\n",
       "      <td>1.303658e+01</td>\n",
       "      <td>1.157708e+01</td>\n",
       "      <td>1.081327e+00</td>\n",
       "      <td>2.781260e+00</td>\n",
       "      <td>4.866099e+00</td>\n",
       "      <td>2.197110e+00</td>\n",
       "      <td>6.985768e+00</td>\n",
       "      <td>1.600411e+02</td>\n",
       "    </tr>\n",
       "  </tbody>\n",
       "</table>\n",
       "</div>\n",
       "      <button class=\"colab-df-convert\" onclick=\"convertToInteractive('df-9929760d-9593-4b05-b42a-6a3c561662f4')\"\n",
       "              title=\"Convert this dataframe to an interactive table.\"\n",
       "              style=\"display:none;\">\n",
       "        \n",
       "  <svg xmlns=\"http://www.w3.org/2000/svg\" height=\"24px\"viewBox=\"0 0 24 24\"\n",
       "       width=\"24px\">\n",
       "    <path d=\"M0 0h24v24H0V0z\" fill=\"none\"/>\n",
       "    <path d=\"M18.56 5.44l.94 2.06.94-2.06 2.06-.94-2.06-.94-.94-2.06-.94 2.06-2.06.94zm-11 1L8.5 8.5l.94-2.06 2.06-.94-2.06-.94L8.5 2.5l-.94 2.06-2.06.94zm10 10l.94 2.06.94-2.06 2.06-.94-2.06-.94-.94-2.06-.94 2.06-2.06.94z\"/><path d=\"M17.41 7.96l-1.37-1.37c-.4-.4-.92-.59-1.43-.59-.52 0-1.04.2-1.43.59L10.3 9.45l-7.72 7.72c-.78.78-.78 2.05 0 2.83L4 21.41c.39.39.9.59 1.41.59.51 0 1.02-.2 1.41-.59l7.78-7.78 2.81-2.81c.8-.78.8-2.07 0-2.86zM5.41 20L4 18.59l7.72-7.72 1.47 1.35L5.41 20z\"/>\n",
       "  </svg>\n",
       "      </button>\n",
       "      \n",
       "  <style>\n",
       "    .colab-df-container {\n",
       "      display:flex;\n",
       "      flex-wrap:wrap;\n",
       "      gap: 12px;\n",
       "    }\n",
       "\n",
       "    .colab-df-convert {\n",
       "      background-color: #E8F0FE;\n",
       "      border: none;\n",
       "      border-radius: 50%;\n",
       "      cursor: pointer;\n",
       "      display: none;\n",
       "      fill: #1967D2;\n",
       "      height: 32px;\n",
       "      padding: 0 0 0 0;\n",
       "      width: 32px;\n",
       "    }\n",
       "\n",
       "    .colab-df-convert:hover {\n",
       "      background-color: #E2EBFA;\n",
       "      box-shadow: 0px 1px 2px rgba(60, 64, 67, 0.3), 0px 1px 3px 1px rgba(60, 64, 67, 0.15);\n",
       "      fill: #174EA6;\n",
       "    }\n",
       "\n",
       "    [theme=dark] .colab-df-convert {\n",
       "      background-color: #3B4455;\n",
       "      fill: #D2E3FC;\n",
       "    }\n",
       "\n",
       "    [theme=dark] .colab-df-convert:hover {\n",
       "      background-color: #434B5C;\n",
       "      box-shadow: 0px 1px 3px 1px rgba(0, 0, 0, 0.15);\n",
       "      filter: drop-shadow(0px 1px 2px rgba(0, 0, 0, 0.3));\n",
       "      fill: #FFFFFF;\n",
       "    }\n",
       "  </style>\n",
       "\n",
       "      <script>\n",
       "        const buttonEl =\n",
       "          document.querySelector('#df-9929760d-9593-4b05-b42a-6a3c561662f4 button.colab-df-convert');\n",
       "        buttonEl.style.display =\n",
       "          google.colab.kernel.accessAllowed ? 'block' : 'none';\n",
       "\n",
       "        async function convertToInteractive(key) {\n",
       "          const element = document.querySelector('#df-9929760d-9593-4b05-b42a-6a3c561662f4');\n",
       "          const dataTable =\n",
       "            await google.colab.kernel.invokeFunction('convertToInteractive',\n",
       "                                                     [key], {});\n",
       "          if (!dataTable) return;\n",
       "\n",
       "          const docLinkHtml = 'Like what you see? Visit the ' +\n",
       "            '<a target=\"_blank\" href=https://colab.research.google.com/notebooks/data_table.ipynb>data table notebook</a>'\n",
       "            + ' to learn more about interactive tables.';\n",
       "          element.innerHTML = '';\n",
       "          dataTable['output_type'] = 'display_data';\n",
       "          await google.colab.output.renderOutput(dataTable, element);\n",
       "          const docLink = document.createElement('div');\n",
       "          docLink.innerHTML = docLinkHtml;\n",
       "          element.appendChild(docLink);\n",
       "        }\n",
       "      </script>\n",
       "    </div>\n",
       "  </div>\n",
       "  "
      ],
      "text/plain": [
       "       RUS_lett_count  emoji_blowingkiss   emoji_check  emoji_claphands  \\\n",
       "count    2.400000e+06       2.400000e+06  2.400000e+06     2.400000e+06   \n",
       "mean     2.353673e-18       9.402849e-18 -5.838293e-18    -4.087101e-18   \n",
       "std      1.000000e+00       1.000000e+00  1.000000e+00     1.000000e+00   \n",
       "min     -6.146812e-03      -2.121798e-02 -2.702838e-02    -2.382027e-02   \n",
       "25%     -6.146812e-03      -2.121798e-02 -2.702838e-02    -2.382027e-02   \n",
       "50%     -6.146812e-03      -2.121798e-02 -2.702838e-02    -2.382027e-02   \n",
       "75%     -6.146812e-03      -2.121798e-02 -2.702838e-02    -2.382027e-02   \n",
       "max      8.154503e+02       4.712984e+01  3.699815e+01     4.198106e+01   \n",
       "\n",
       "       emoji_collision   emoji_count  emoji_exclamation    emoji_fire  \\\n",
       "count     2.400000e+06  2.400000e+06       2.400000e+06  2.400000e+06   \n",
       "mean      1.076472e-17  6.714629e-18       3.055334e-18 -1.018445e-18   \n",
       "std       1.000000e+00  1.000000e+00       1.000000e+00  1.000000e+00   \n",
       "min      -1.888899e-02 -1.220239e-01      -2.376767e-02 -3.189489e-02   \n",
       "25%      -1.888899e-02 -1.220239e-01      -2.376767e-02 -3.189489e-02   \n",
       "50%      -1.888899e-02 -1.220239e-01      -2.376767e-02 -3.189489e-02   \n",
       "75%      -1.888899e-02 -1.220239e-01      -2.376767e-02 -3.189489e-02   \n",
       "max       5.294089e+01  2.126145e+02       4.207396e+01  3.135299e+01   \n",
       "\n",
       "         emoji_fist  emoji_flagUS  emoji_loudcryface  emoji_partypop  \\\n",
       "count  2.400000e+06  2.400000e+06       2.400000e+06    2.400000e+06   \n",
       "mean  -7.590965e-18  7.815970e-19      -2.193801e-18    9.734435e-18   \n",
       "std    1.000000e+00  1.000000e+00       1.000000e+00    1.000000e+00   \n",
       "min   -2.656120e-02 -3.593395e-02      -1.990997e-02   -2.135512e-02   \n",
       "25%   -2.656120e-02 -3.593395e-02      -1.990997e-02   -2.135512e-02   \n",
       "50%   -2.656120e-02 -3.593395e-02      -1.990997e-02   -2.135512e-02   \n",
       "75%   -2.656120e-02 -3.593395e-02      -1.990997e-02   -2.135512e-02   \n",
       "max    3.764890e+01  2.782884e+01       5.022608e+01    4.682717e+01   \n",
       "\n",
       "       emoji_police  emoji_prohibited  emoji_raisehands  emoji_redheart  \\\n",
       "count  2.400000e+06      2.400000e+06      2.400000e+06    2.400000e+06   \n",
       "mean   1.509015e-17     -1.634248e-18     -1.599017e-17   -1.999290e-17   \n",
       "std    1.000000e+00      1.000000e+00      1.000000e+00    1.000000e+00   \n",
       "min   -2.394254e-02     -1.095511e-02     -2.887232e-02   -4.842160e-02   \n",
       "25%   -2.394254e-02     -1.095511e-02     -2.887232e-02   -4.842160e-02   \n",
       "50%   -2.394254e-02     -1.095511e-02     -2.887232e-02   -4.842160e-02   \n",
       "75%   -2.394254e-02     -1.095511e-02     -2.887232e-02   -4.842160e-02   \n",
       "max    4.176667e+01      9.128162e+01      3.463525e+01    2.065194e+01   \n",
       "\n",
       "       emoji_sentiment  emoji_smilinghearteye  emoji_tearsjoy  emoji_thumbsup  \\\n",
       "count     2.400000e+06           2.400000e+06    2.400000e+06    2.400000e+06   \n",
       "mean      3.076354e-17           1.975309e-17    5.595524e-18   -5.785002e-18   \n",
       "std       1.000000e+00           1.000000e+00    1.000000e+00    1.000000e+00   \n",
       "min      -1.297626e+01          -2.747246e-02   -4.712932e-02   -2.987411e-02   \n",
       "25%      -8.639088e-02          -2.747246e-02   -4.712932e-02   -2.987411e-02   \n",
       "50%      -8.639088e-02          -2.747246e-02   -4.712932e-02   -2.987411e-02   \n",
       "75%      -8.639088e-02          -2.747246e-02   -4.712932e-02   -2.987411e-02   \n",
       "max       1.280477e+01           3.640009e+01    2.121821e+01    3.347380e+01   \n",
       "\n",
       "          followers     following  following_ratio       has_url  \\\n",
       "count  2.400000e+06  2.400000e+06     2.400000e+06  2.400000e+06   \n",
       "mean   1.200817e-17 -6.640614e-18    -1.375226e-16 -6.725879e-17   \n",
       "std    1.000000e+00  1.000000e+00     1.000000e+00  1.000000e+00   \n",
       "min   -2.021858e-01 -1.642999e-01    -1.663696e-01 -1.278404e+00   \n",
       "25%   -2.020213e-01 -1.516775e-01    -1.647879e-01 -1.278404e+00   \n",
       "50%   -2.008683e-01 -1.276810e-01    -1.113103e-01  7.822252e-01   \n",
       "75%   -1.943103e-01 -4.567700e-02     1.878295e-02  7.822252e-01   \n",
       "max    1.264805e+01  1.134467e+02     2.133210e+02  7.822252e-01   \n",
       "\n",
       "         is_retweet  median_word_length  multi_authors      num_URLs  \\\n",
       "count  2.400000e+06        2.400000e+06   2.400000e+06  2.400000e+06   \n",
       "mean  -2.093437e-17        1.727389e-16   2.926844e-17 -7.405040e-17   \n",
       "std    1.000000e+00        1.000000e+00   1.000000e+00  1.000000e+00   \n",
       "min   -6.800281e-01       -4.031658e+00  -2.654743e-01 -1.101147e+00   \n",
       "25%   -6.800281e-01       -3.773179e-01  -2.654743e-01 -1.101147e+00   \n",
       "50%   -6.800281e-01       -3.773179e-01  -2.654743e-01  2.621747e-01   \n",
       "75%    1.470528e+00        5.362672e-01  -2.654743e-01  2.621747e-01   \n",
       "max    1.470528e+00        3.159816e+01   3.766843e+00  7.078784e+00   \n",
       "\n",
       "         num_commas    num_dashes     num_hashs  region_All_Other  \\\n",
       "count  2.400000e+06  2.400000e+06  2.400000e+06      2.400000e+06   \n",
       "mean  -1.925571e-17 -1.473784e-17  1.230838e-16     -9.180212e-17   \n",
       "std    1.000000e+00  1.000000e+00  1.000000e+00      1.000000e+00   \n",
       "min   -4.812395e-01 -3.580849e-01 -5.943291e-01     -6.530726e-01   \n",
       "25%   -4.812395e-01 -3.580849e-01 -5.943291e-01     -6.530726e-01   \n",
       "50%   -4.812395e-01 -3.580849e-01 -5.943291e-01     -6.530726e-01   \n",
       "75%   -4.812395e-01 -3.580849e-01  4.790823e-01      1.531223e+00   \n",
       "max    4.508727e+01  1.833669e+02  3.697507e+01      1.531223e+00   \n",
       "\n",
       "       region_Atlanta_GA  region_Australia  region_Boston_MA  region_Global  \\\n",
       "count       2.400000e+06      2.400000e+06      2.400000e+06   2.400000e+06   \n",
       "mean       -4.500104e-18      4.080588e-17      4.029369e-17  -3.443172e-18   \n",
       "std         1.000000e+00      1.000000e+00      1.000000e+00   1.000000e+00   \n",
       "min        -7.407447e-02     -7.267971e-02     -8.456723e-02  -6.978431e-02   \n",
       "25%        -7.407447e-02     -7.267971e-02     -8.456723e-02  -6.978431e-02   \n",
       "50%        -7.407447e-02     -7.267971e-02     -8.456723e-02  -6.978431e-02   \n",
       "75%        -7.407447e-02     -7.267971e-02     -8.456723e-02  -6.978431e-02   \n",
       "max         1.349993e+01      1.375900e+01      1.182491e+01   1.432987e+01   \n",
       "\n",
       "       region_London  region_Los_Angeles_CA  region_New_York_City  \\\n",
       "count   2.400000e+06           2.400000e+06          2.400000e+06   \n",
       "mean    4.315363e-17           3.785416e-17          5.743554e-19   \n",
       "std     1.000000e+00           1.000000e+00          1.000000e+00   \n",
       "min    -8.368060e-02          -8.509290e-02         -7.950442e-02   \n",
       "25%    -8.368060e-02          -8.509290e-02         -7.950442e-02   \n",
       "50%    -8.368060e-02          -8.509290e-02         -7.950442e-02   \n",
       "75%    -8.368060e-02          -8.509290e-02         -7.950442e-02   \n",
       "max     1.195020e+01           1.175186e+01          1.257792e+01   \n",
       "\n",
       "       region_New_York_NY  region_New_York_and_the_World  \\\n",
       "count        2.400000e+06                   2.400000e+06   \n",
       "mean        -2.966812e-17                   1.546615e-17   \n",
       "std          1.000000e+00                   1.000000e+00   \n",
       "min         -1.509055e-01                  -8.044109e-02   \n",
       "25%         -1.509055e-01                  -8.044109e-02   \n",
       "50%         -1.509055e-01                  -8.044109e-02   \n",
       "75%         -1.509055e-01                  -8.044109e-02   \n",
       "max          6.626666e+00                   1.243146e+01   \n",
       "\n",
       "       region_Pale_Blue_Dot  region_United_Kingdom  region_United_States  \\\n",
       "count          2.400000e+06           2.400000e+06          2.400000e+06   \n",
       "mean           2.711905e-18          -4.666785e-17         -1.899666e-17   \n",
       "std            1.000000e+00           1.000000e+00          1.000000e+00   \n",
       "min           -7.670725e-02          -8.637759e-02         -9.247897e-01   \n",
       "25%           -7.670725e-02          -8.637759e-02         -9.247897e-01   \n",
       "50%           -7.670725e-02          -8.637759e-02         -9.247897e-01   \n",
       "75%           -7.670725e-02          -8.637759e-02          1.081327e+00   \n",
       "max            1.303658e+01           1.157708e+01          1.081327e+00   \n",
       "\n",
       "       region_Unknown  region_Washington_DC     sentiment  tweet_length  \\\n",
       "count    2.400000e+06          2.400000e+06  2.400000e+06  2.400000e+06   \n",
       "mean     7.327472e-18          7.100986e-18  8.696451e-17  2.209018e-16   \n",
       "std      1.000000e+00          1.000000e+00  1.000000e+00  1.000000e+00   \n",
       "min     -3.595493e-01         -2.055034e-01 -2.418892e+00 -2.386839e+00   \n",
       "25%     -3.595493e-01         -2.055034e-01 -5.923194e-01 -6.972197e-01   \n",
       "50%     -3.595493e-01         -2.055034e-01 -1.226161e-01 -9.150702e-02   \n",
       "75%     -3.595493e-01         -2.055034e-01  8.105215e-01  7.054834e-01   \n",
       "max      2.781260e+00          4.866099e+00  2.197110e+00  6.985768e+00   \n",
       "\n",
       "            updates  \n",
       "count  2.400000e+06  \n",
       "mean   1.776357e-20  \n",
       "std    1.000000e+00  \n",
       "min   -3.099839e-01  \n",
       "25%   -3.097221e-01  \n",
       "50%   -2.889897e-01  \n",
       "75%   -5.229449e-02  \n",
       "max    1.600411e+02  "
      ]
     },
     "execution_count": 59,
     "metadata": {},
     "output_type": "execute_result"
    }
   ],
   "source": [
    "x_train.describe()"
   ]
  },
  {
   "cell_type": "markdown",
   "metadata": {
    "id": "X5ep7lPR2vkV"
   },
   "source": [
    "#### Min Max Scaler Pipeline (less preferred)\n",
    "Min max was tested but performed poorly, so it was not used for the final models"
   ]
  },
  {
   "cell_type": "code",
   "execution_count": 33,
   "metadata": {
    "id": "qt3tQDN3cx21"
   },
   "outputs": [],
   "source": [
    "#create pipeline to use MinMax Scaler\n",
    "full_pipeline = make_column_transformer(\n",
    "    (MinMaxScaler(), columns_without_target),\n",
    "    remainder='passthrough', verbose_feature_names_out=False,\n",
    "        sparse_threshold=0)"
   ]
  },
  {
   "cell_type": "code",
   "execution_count": 34,
   "metadata": {
    "id": "f7q8iylpdE1I"
   },
   "outputs": [],
   "source": [
    "#apply fit_transform on x_train\n",
    "x_train = pd.DataFrame(full_pipeline.fit_transform(x_train),columns=full_pipeline.get_feature_names_out())"
   ]
  },
  {
   "cell_type": "code",
   "execution_count": 35,
   "metadata": {
    "colab": {
     "base_uri": "https://localhost:8080/",
     "height": 364
    },
    "id": "uOr4TiSJd65F",
    "outputId": "e050de44-c7b1-467e-d1bb-d8aac2b2e79e"
   },
   "outputs": [
    {
     "data": {
      "text/html": [
       "\n",
       "  <div id=\"df-22ba2389-7811-4469-ab8c-b5664eb605dc\">\n",
       "    <div class=\"colab-df-container\">\n",
       "      <div>\n",
       "<style scoped>\n",
       "    .dataframe tbody tr th:only-of-type {\n",
       "        vertical-align: middle;\n",
       "    }\n",
       "\n",
       "    .dataframe tbody tr th {\n",
       "        vertical-align: top;\n",
       "    }\n",
       "\n",
       "    .dataframe thead th {\n",
       "        text-align: right;\n",
       "    }\n",
       "</style>\n",
       "<table border=\"1\" class=\"dataframe\">\n",
       "  <thead>\n",
       "    <tr style=\"text-align: right;\">\n",
       "      <th></th>\n",
       "      <th>RUS_lett_count</th>\n",
       "      <th>emoji_blowingkiss</th>\n",
       "      <th>emoji_check</th>\n",
       "      <th>emoji_claphands</th>\n",
       "      <th>emoji_collision</th>\n",
       "      <th>emoji_count</th>\n",
       "      <th>emoji_exclamation</th>\n",
       "      <th>emoji_fire</th>\n",
       "      <th>emoji_fist</th>\n",
       "      <th>emoji_flagUS</th>\n",
       "      <th>emoji_loudcryface</th>\n",
       "      <th>emoji_partypop</th>\n",
       "      <th>emoji_police</th>\n",
       "      <th>emoji_prohibited</th>\n",
       "      <th>emoji_raisehands</th>\n",
       "      <th>emoji_redheart</th>\n",
       "      <th>emoji_sentiment</th>\n",
       "      <th>emoji_smilinghearteye</th>\n",
       "      <th>emoji_tearsjoy</th>\n",
       "      <th>emoji_thumbsup</th>\n",
       "      <th>followers</th>\n",
       "      <th>following</th>\n",
       "      <th>following_ratio</th>\n",
       "      <th>has_url</th>\n",
       "      <th>is_retweet</th>\n",
       "      <th>median_word_length</th>\n",
       "      <th>multi_authors</th>\n",
       "      <th>num_URLs</th>\n",
       "      <th>num_commas</th>\n",
       "      <th>num_dashes</th>\n",
       "      <th>num_hashs</th>\n",
       "      <th>region_All_Other</th>\n",
       "      <th>region_Atlanta_GA</th>\n",
       "      <th>region_Australia</th>\n",
       "      <th>region_Boston_MA</th>\n",
       "      <th>region_Global</th>\n",
       "      <th>region_London</th>\n",
       "      <th>region_Los_Angeles_CA</th>\n",
       "      <th>region_New_York_City</th>\n",
       "      <th>region_New_York_NY</th>\n",
       "      <th>region_New_York_and_the_World</th>\n",
       "      <th>region_Pale_Blue_Dot</th>\n",
       "      <th>region_United_Kingdom</th>\n",
       "      <th>region_United_States</th>\n",
       "      <th>region_Unknown</th>\n",
       "      <th>region_Washington_DC</th>\n",
       "      <th>sentiment</th>\n",
       "      <th>tweet_length</th>\n",
       "      <th>updates</th>\n",
       "    </tr>\n",
       "  </thead>\n",
       "  <tbody>\n",
       "    <tr>\n",
       "      <th>count</th>\n",
       "      <td>2.400000e+06</td>\n",
       "      <td>2.400000e+06</td>\n",
       "      <td>2.400000e+06</td>\n",
       "      <td>2.400000e+06</td>\n",
       "      <td>2.400000e+06</td>\n",
       "      <td>2.400000e+06</td>\n",
       "      <td>2.400000e+06</td>\n",
       "      <td>2.400000e+06</td>\n",
       "      <td>2.400000e+06</td>\n",
       "      <td>2.400000e+06</td>\n",
       "      <td>2.400000e+06</td>\n",
       "      <td>2.400000e+06</td>\n",
       "      <td>2.400000e+06</td>\n",
       "      <td>2.400000e+06</td>\n",
       "      <td>2.400000e+06</td>\n",
       "      <td>2.400000e+06</td>\n",
       "      <td>2.400000e+06</td>\n",
       "      <td>2.400000e+06</td>\n",
       "      <td>2.400000e+06</td>\n",
       "      <td>2.400000e+06</td>\n",
       "      <td>2.400000e+06</td>\n",
       "      <td>2.400000e+06</td>\n",
       "      <td>2.400000e+06</td>\n",
       "      <td>2.400000e+06</td>\n",
       "      <td>2.400000e+06</td>\n",
       "      <td>2.399985e+06</td>\n",
       "      <td>2.400000e+06</td>\n",
       "      <td>2.400000e+06</td>\n",
       "      <td>2.400000e+06</td>\n",
       "      <td>2.400000e+06</td>\n",
       "      <td>2.400000e+06</td>\n",
       "      <td>2.400000e+06</td>\n",
       "      <td>2.400000e+06</td>\n",
       "      <td>2.400000e+06</td>\n",
       "      <td>2.400000e+06</td>\n",
       "      <td>2.400000e+06</td>\n",
       "      <td>2.400000e+06</td>\n",
       "      <td>2.400000e+06</td>\n",
       "      <td>2.400000e+06</td>\n",
       "      <td>2.400000e+06</td>\n",
       "      <td>2.400000e+06</td>\n",
       "      <td>2.400000e+06</td>\n",
       "      <td>2.400000e+06</td>\n",
       "      <td>2.400000e+06</td>\n",
       "      <td>2.400000e+06</td>\n",
       "      <td>2.400000e+06</td>\n",
       "      <td>2.400000e+06</td>\n",
       "      <td>2.400000e+06</td>\n",
       "      <td>2.400000e+06</td>\n",
       "    </tr>\n",
       "    <tr>\n",
       "      <th>mean</th>\n",
       "      <td>7.537879e-06</td>\n",
       "      <td>4.500000e-04</td>\n",
       "      <td>7.300000e-04</td>\n",
       "      <td>5.670833e-04</td>\n",
       "      <td>3.566667e-04</td>\n",
       "      <td>5.735916e-04</td>\n",
       "      <td>5.645833e-04</td>\n",
       "      <td>1.016250e-03</td>\n",
       "      <td>7.050000e-04</td>\n",
       "      <td>1.289583e-03</td>\n",
       "      <td>3.962500e-04</td>\n",
       "      <td>4.558333e-04</td>\n",
       "      <td>5.729167e-04</td>\n",
       "      <td>1.200000e-04</td>\n",
       "      <td>8.329167e-04</td>\n",
       "      <td>2.339167e-03</td>\n",
       "      <td>5.033259e-01</td>\n",
       "      <td>7.541667e-04</td>\n",
       "      <td>2.216250e-03</td>\n",
       "      <td>8.916667e-04</td>\n",
       "      <td>1.573402e-02</td>\n",
       "      <td>1.446161e-03</td>\n",
       "      <td>7.792950e-04</td>\n",
       "      <td>6.203950e-01</td>\n",
       "      <td>3.162104e-01</td>\n",
       "      <td>8.981672e-02</td>\n",
       "      <td>6.583667e-02</td>\n",
       "      <td>1.346157e-01</td>\n",
       "      <td>1.056079e-02</td>\n",
       "      <td>1.949026e-03</td>\n",
       "      <td>1.581950e-02</td>\n",
       "      <td>2.989854e-01</td>\n",
       "      <td>5.457083e-03</td>\n",
       "      <td>5.254583e-03</td>\n",
       "      <td>7.100833e-03</td>\n",
       "      <td>4.846250e-03</td>\n",
       "      <td>6.953750e-03</td>\n",
       "      <td>7.188750e-03</td>\n",
       "      <td>6.281250e-03</td>\n",
       "      <td>2.226542e-02</td>\n",
       "      <td>6.429167e-03</td>\n",
       "      <td>5.849583e-03</td>\n",
       "      <td>7.405833e-03</td>\n",
       "      <td>4.609850e-01</td>\n",
       "      <td>1.144767e-01</td>\n",
       "      <td>4.052042e-02</td>\n",
       "      <td>5.240232e-01</td>\n",
       "      <td>2.546612e-01</td>\n",
       "      <td>1.933157e-03</td>\n",
       "    </tr>\n",
       "    <tr>\n",
       "      <th>std</th>\n",
       "      <td>1.226307e-03</td>\n",
       "      <td>2.120843e-02</td>\n",
       "      <td>2.700865e-02</td>\n",
       "      <td>2.380676e-02</td>\n",
       "      <td>1.888226e-02</td>\n",
       "      <td>4.700652e-03</td>\n",
       "      <td>2.375426e-02</td>\n",
       "      <td>3.186248e-02</td>\n",
       "      <td>2.654248e-02</td>\n",
       "      <td>3.588761e-02</td>\n",
       "      <td>1.990209e-02</td>\n",
       "      <td>2.134539e-02</td>\n",
       "      <td>2.392883e-02</td>\n",
       "      <td>1.095380e-02</td>\n",
       "      <td>2.884828e-02</td>\n",
       "      <td>4.830834e-02</td>\n",
       "      <td>3.878822e-02</td>\n",
       "      <td>2.745174e-02</td>\n",
       "      <td>4.702488e-02</td>\n",
       "      <td>2.984748e-02</td>\n",
       "      <td>7.781962e-02</td>\n",
       "      <td>8.801965e-03</td>\n",
       "      <td>4.684120e-03</td>\n",
       "      <td>4.852887e-01</td>\n",
       "      <td>4.649962e-01</td>\n",
       "      <td>2.880360e-02</td>\n",
       "      <td>2.479964e-01</td>\n",
       "      <td>1.222504e-01</td>\n",
       "      <td>2.194499e-02</td>\n",
       "      <td>5.442918e-03</td>\n",
       "      <td>2.661741e-02</td>\n",
       "      <td>4.578135e-01</td>\n",
       "      <td>7.367025e-02</td>\n",
       "      <td>7.229782e-02</td>\n",
       "      <td>8.396675e-02</td>\n",
       "      <td>6.944614e-02</td>\n",
       "      <td>8.309873e-02</td>\n",
       "      <td>8.448121e-02</td>\n",
       "      <td>7.900505e-02</td>\n",
       "      <td>1.475455e-01</td>\n",
       "      <td>7.992393e-02</td>\n",
       "      <td>7.625856e-02</td>\n",
       "      <td>8.573791e-02</td>\n",
       "      <td>4.984756e-01</td>\n",
       "      <td>3.183894e-01</td>\n",
       "      <td>1.971764e-01</td>\n",
       "      <td>2.166378e-01</td>\n",
       "      <td>1.066939e-01</td>\n",
       "      <td>6.236316e-03</td>\n",
       "    </tr>\n",
       "    <tr>\n",
       "      <th>min</th>\n",
       "      <td>0.000000e+00</td>\n",
       "      <td>0.000000e+00</td>\n",
       "      <td>0.000000e+00</td>\n",
       "      <td>0.000000e+00</td>\n",
       "      <td>0.000000e+00</td>\n",
       "      <td>0.000000e+00</td>\n",
       "      <td>0.000000e+00</td>\n",
       "      <td>0.000000e+00</td>\n",
       "      <td>0.000000e+00</td>\n",
       "      <td>0.000000e+00</td>\n",
       "      <td>0.000000e+00</td>\n",
       "      <td>0.000000e+00</td>\n",
       "      <td>0.000000e+00</td>\n",
       "      <td>0.000000e+00</td>\n",
       "      <td>0.000000e+00</td>\n",
       "      <td>0.000000e+00</td>\n",
       "      <td>0.000000e+00</td>\n",
       "      <td>0.000000e+00</td>\n",
       "      <td>0.000000e+00</td>\n",
       "      <td>0.000000e+00</td>\n",
       "      <td>0.000000e+00</td>\n",
       "      <td>0.000000e+00</td>\n",
       "      <td>0.000000e+00</td>\n",
       "      <td>0.000000e+00</td>\n",
       "      <td>0.000000e+00</td>\n",
       "      <td>0.000000e+00</td>\n",
       "      <td>0.000000e+00</td>\n",
       "      <td>0.000000e+00</td>\n",
       "      <td>0.000000e+00</td>\n",
       "      <td>0.000000e+00</td>\n",
       "      <td>0.000000e+00</td>\n",
       "      <td>0.000000e+00</td>\n",
       "      <td>0.000000e+00</td>\n",
       "      <td>0.000000e+00</td>\n",
       "      <td>0.000000e+00</td>\n",
       "      <td>0.000000e+00</td>\n",
       "      <td>0.000000e+00</td>\n",
       "      <td>0.000000e+00</td>\n",
       "      <td>0.000000e+00</td>\n",
       "      <td>0.000000e+00</td>\n",
       "      <td>0.000000e+00</td>\n",
       "      <td>0.000000e+00</td>\n",
       "      <td>0.000000e+00</td>\n",
       "      <td>0.000000e+00</td>\n",
       "      <td>0.000000e+00</td>\n",
       "      <td>0.000000e+00</td>\n",
       "      <td>0.000000e+00</td>\n",
       "      <td>0.000000e+00</td>\n",
       "      <td>0.000000e+00</td>\n",
       "    </tr>\n",
       "    <tr>\n",
       "      <th>25%</th>\n",
       "      <td>0.000000e+00</td>\n",
       "      <td>0.000000e+00</td>\n",
       "      <td>0.000000e+00</td>\n",
       "      <td>0.000000e+00</td>\n",
       "      <td>0.000000e+00</td>\n",
       "      <td>0.000000e+00</td>\n",
       "      <td>0.000000e+00</td>\n",
       "      <td>0.000000e+00</td>\n",
       "      <td>0.000000e+00</td>\n",
       "      <td>0.000000e+00</td>\n",
       "      <td>0.000000e+00</td>\n",
       "      <td>0.000000e+00</td>\n",
       "      <td>0.000000e+00</td>\n",
       "      <td>0.000000e+00</td>\n",
       "      <td>0.000000e+00</td>\n",
       "      <td>0.000000e+00</td>\n",
       "      <td>4.999750e-01</td>\n",
       "      <td>0.000000e+00</td>\n",
       "      <td>0.000000e+00</td>\n",
       "      <td>0.000000e+00</td>\n",
       "      <td>1.279918e-05</td>\n",
       "      <td>1.111019e-04</td>\n",
       "      <td>7.409047e-06</td>\n",
       "      <td>0.000000e+00</td>\n",
       "      <td>0.000000e+00</td>\n",
       "      <td>7.894737e-02</td>\n",
       "      <td>0.000000e+00</td>\n",
       "      <td>0.000000e+00</td>\n",
       "      <td>0.000000e+00</td>\n",
       "      <td>0.000000e+00</td>\n",
       "      <td>0.000000e+00</td>\n",
       "      <td>0.000000e+00</td>\n",
       "      <td>0.000000e+00</td>\n",
       "      <td>0.000000e+00</td>\n",
       "      <td>0.000000e+00</td>\n",
       "      <td>0.000000e+00</td>\n",
       "      <td>0.000000e+00</td>\n",
       "      <td>0.000000e+00</td>\n",
       "      <td>0.000000e+00</td>\n",
       "      <td>0.000000e+00</td>\n",
       "      <td>0.000000e+00</td>\n",
       "      <td>0.000000e+00</td>\n",
       "      <td>0.000000e+00</td>\n",
       "      <td>0.000000e+00</td>\n",
       "      <td>0.000000e+00</td>\n",
       "      <td>0.000000e+00</td>\n",
       "      <td>3.957044e-01</td>\n",
       "      <td>1.802721e-01</td>\n",
       "      <td>1.632499e-06</td>\n",
       "    </tr>\n",
       "    <tr>\n",
       "      <th>50%</th>\n",
       "      <td>0.000000e+00</td>\n",
       "      <td>0.000000e+00</td>\n",
       "      <td>0.000000e+00</td>\n",
       "      <td>0.000000e+00</td>\n",
       "      <td>0.000000e+00</td>\n",
       "      <td>0.000000e+00</td>\n",
       "      <td>0.000000e+00</td>\n",
       "      <td>0.000000e+00</td>\n",
       "      <td>0.000000e+00</td>\n",
       "      <td>0.000000e+00</td>\n",
       "      <td>0.000000e+00</td>\n",
       "      <td>0.000000e+00</td>\n",
       "      <td>0.000000e+00</td>\n",
       "      <td>0.000000e+00</td>\n",
       "      <td>0.000000e+00</td>\n",
       "      <td>0.000000e+00</td>\n",
       "      <td>4.999750e-01</td>\n",
       "      <td>0.000000e+00</td>\n",
       "      <td>0.000000e+00</td>\n",
       "      <td>0.000000e+00</td>\n",
       "      <td>1.025283e-04</td>\n",
       "      <td>3.223177e-04</td>\n",
       "      <td>2.579043e-04</td>\n",
       "      <td>1.000000e+00</td>\n",
       "      <td>0.000000e+00</td>\n",
       "      <td>7.894737e-02</td>\n",
       "      <td>0.000000e+00</td>\n",
       "      <td>1.666667e-01</td>\n",
       "      <td>0.000000e+00</td>\n",
       "      <td>0.000000e+00</td>\n",
       "      <td>0.000000e+00</td>\n",
       "      <td>0.000000e+00</td>\n",
       "      <td>0.000000e+00</td>\n",
       "      <td>0.000000e+00</td>\n",
       "      <td>0.000000e+00</td>\n",
       "      <td>0.000000e+00</td>\n",
       "      <td>0.000000e+00</td>\n",
       "      <td>0.000000e+00</td>\n",
       "      <td>0.000000e+00</td>\n",
       "      <td>0.000000e+00</td>\n",
       "      <td>0.000000e+00</td>\n",
       "      <td>0.000000e+00</td>\n",
       "      <td>0.000000e+00</td>\n",
       "      <td>0.000000e+00</td>\n",
       "      <td>0.000000e+00</td>\n",
       "      <td>0.000000e+00</td>\n",
       "      <td>4.974599e-01</td>\n",
       "      <td>2.448980e-01</td>\n",
       "      <td>1.309264e-04</td>\n",
       "    </tr>\n",
       "    <tr>\n",
       "      <th>75%</th>\n",
       "      <td>0.000000e+00</td>\n",
       "      <td>0.000000e+00</td>\n",
       "      <td>0.000000e+00</td>\n",
       "      <td>0.000000e+00</td>\n",
       "      <td>0.000000e+00</td>\n",
       "      <td>0.000000e+00</td>\n",
       "      <td>0.000000e+00</td>\n",
       "      <td>0.000000e+00</td>\n",
       "      <td>0.000000e+00</td>\n",
       "      <td>0.000000e+00</td>\n",
       "      <td>0.000000e+00</td>\n",
       "      <td>0.000000e+00</td>\n",
       "      <td>0.000000e+00</td>\n",
       "      <td>0.000000e+00</td>\n",
       "      <td>0.000000e+00</td>\n",
       "      <td>0.000000e+00</td>\n",
       "      <td>4.999750e-01</td>\n",
       "      <td>0.000000e+00</td>\n",
       "      <td>0.000000e+00</td>\n",
       "      <td>0.000000e+00</td>\n",
       "      <td>6.128704e-04</td>\n",
       "      <td>1.044114e-03</td>\n",
       "      <td>8.672766e-04</td>\n",
       "      <td>1.000000e+00</td>\n",
       "      <td>1.000000e+00</td>\n",
       "      <td>1.052632e-01</td>\n",
       "      <td>0.000000e+00</td>\n",
       "      <td>1.666667e-01</td>\n",
       "      <td>0.000000e+00</td>\n",
       "      <td>0.000000e+00</td>\n",
       "      <td>2.857143e-02</td>\n",
       "      <td>1.000000e+00</td>\n",
       "      <td>0.000000e+00</td>\n",
       "      <td>0.000000e+00</td>\n",
       "      <td>0.000000e+00</td>\n",
       "      <td>0.000000e+00</td>\n",
       "      <td>0.000000e+00</td>\n",
       "      <td>0.000000e+00</td>\n",
       "      <td>0.000000e+00</td>\n",
       "      <td>0.000000e+00</td>\n",
       "      <td>0.000000e+00</td>\n",
       "      <td>0.000000e+00</td>\n",
       "      <td>0.000000e+00</td>\n",
       "      <td>1.000000e+00</td>\n",
       "      <td>0.000000e+00</td>\n",
       "      <td>0.000000e+00</td>\n",
       "      <td>6.996127e-01</td>\n",
       "      <td>3.299320e-01</td>\n",
       "      <td>1.607032e-03</td>\n",
       "    </tr>\n",
       "    <tr>\n",
       "      <th>max</th>\n",
       "      <td>1.000000e+00</td>\n",
       "      <td>1.000000e+00</td>\n",
       "      <td>1.000000e+00</td>\n",
       "      <td>1.000000e+00</td>\n",
       "      <td>1.000000e+00</td>\n",
       "      <td>1.000000e+00</td>\n",
       "      <td>1.000000e+00</td>\n",
       "      <td>1.000000e+00</td>\n",
       "      <td>1.000000e+00</td>\n",
       "      <td>1.000000e+00</td>\n",
       "      <td>1.000000e+00</td>\n",
       "      <td>1.000000e+00</td>\n",
       "      <td>1.000000e+00</td>\n",
       "      <td>1.000000e+00</td>\n",
       "      <td>1.000000e+00</td>\n",
       "      <td>1.000000e+00</td>\n",
       "      <td>1.000000e+00</td>\n",
       "      <td>1.000000e+00</td>\n",
       "      <td>1.000000e+00</td>\n",
       "      <td>1.000000e+00</td>\n",
       "      <td>1.000000e+00</td>\n",
       "      <td>1.000000e+00</td>\n",
       "      <td>1.000000e+00</td>\n",
       "      <td>1.000000e+00</td>\n",
       "      <td>1.000000e+00</td>\n",
       "      <td>1.000000e+00</td>\n",
       "      <td>1.000000e+00</td>\n",
       "      <td>1.000000e+00</td>\n",
       "      <td>1.000000e+00</td>\n",
       "      <td>1.000000e+00</td>\n",
       "      <td>1.000000e+00</td>\n",
       "      <td>1.000000e+00</td>\n",
       "      <td>1.000000e+00</td>\n",
       "      <td>1.000000e+00</td>\n",
       "      <td>1.000000e+00</td>\n",
       "      <td>1.000000e+00</td>\n",
       "      <td>1.000000e+00</td>\n",
       "      <td>1.000000e+00</td>\n",
       "      <td>1.000000e+00</td>\n",
       "      <td>1.000000e+00</td>\n",
       "      <td>1.000000e+00</td>\n",
       "      <td>1.000000e+00</td>\n",
       "      <td>1.000000e+00</td>\n",
       "      <td>1.000000e+00</td>\n",
       "      <td>1.000000e+00</td>\n",
       "      <td>1.000000e+00</td>\n",
       "      <td>1.000000e+00</td>\n",
       "      <td>1.000000e+00</td>\n",
       "      <td>1.000000e+00</td>\n",
       "    </tr>\n",
       "  </tbody>\n",
       "</table>\n",
       "</div>\n",
       "      <button class=\"colab-df-convert\" onclick=\"convertToInteractive('df-22ba2389-7811-4469-ab8c-b5664eb605dc')\"\n",
       "              title=\"Convert this dataframe to an interactive table.\"\n",
       "              style=\"display:none;\">\n",
       "        \n",
       "  <svg xmlns=\"http://www.w3.org/2000/svg\" height=\"24px\"viewBox=\"0 0 24 24\"\n",
       "       width=\"24px\">\n",
       "    <path d=\"M0 0h24v24H0V0z\" fill=\"none\"/>\n",
       "    <path d=\"M18.56 5.44l.94 2.06.94-2.06 2.06-.94-2.06-.94-.94-2.06-.94 2.06-2.06.94zm-11 1L8.5 8.5l.94-2.06 2.06-.94-2.06-.94L8.5 2.5l-.94 2.06-2.06.94zm10 10l.94 2.06.94-2.06 2.06-.94-2.06-.94-.94-2.06-.94 2.06-2.06.94z\"/><path d=\"M17.41 7.96l-1.37-1.37c-.4-.4-.92-.59-1.43-.59-.52 0-1.04.2-1.43.59L10.3 9.45l-7.72 7.72c-.78.78-.78 2.05 0 2.83L4 21.41c.39.39.9.59 1.41.59.51 0 1.02-.2 1.41-.59l7.78-7.78 2.81-2.81c.8-.78.8-2.07 0-2.86zM5.41 20L4 18.59l7.72-7.72 1.47 1.35L5.41 20z\"/>\n",
       "  </svg>\n",
       "      </button>\n",
       "      \n",
       "  <style>\n",
       "    .colab-df-container {\n",
       "      display:flex;\n",
       "      flex-wrap:wrap;\n",
       "      gap: 12px;\n",
       "    }\n",
       "\n",
       "    .colab-df-convert {\n",
       "      background-color: #E8F0FE;\n",
       "      border: none;\n",
       "      border-radius: 50%;\n",
       "      cursor: pointer;\n",
       "      display: none;\n",
       "      fill: #1967D2;\n",
       "      height: 32px;\n",
       "      padding: 0 0 0 0;\n",
       "      width: 32px;\n",
       "    }\n",
       "\n",
       "    .colab-df-convert:hover {\n",
       "      background-color: #E2EBFA;\n",
       "      box-shadow: 0px 1px 2px rgba(60, 64, 67, 0.3), 0px 1px 3px 1px rgba(60, 64, 67, 0.15);\n",
       "      fill: #174EA6;\n",
       "    }\n",
       "\n",
       "    [theme=dark] .colab-df-convert {\n",
       "      background-color: #3B4455;\n",
       "      fill: #D2E3FC;\n",
       "    }\n",
       "\n",
       "    [theme=dark] .colab-df-convert:hover {\n",
       "      background-color: #434B5C;\n",
       "      box-shadow: 0px 1px 3px 1px rgba(0, 0, 0, 0.15);\n",
       "      filter: drop-shadow(0px 1px 2px rgba(0, 0, 0, 0.3));\n",
       "      fill: #FFFFFF;\n",
       "    }\n",
       "  </style>\n",
       "\n",
       "      <script>\n",
       "        const buttonEl =\n",
       "          document.querySelector('#df-22ba2389-7811-4469-ab8c-b5664eb605dc button.colab-df-convert');\n",
       "        buttonEl.style.display =\n",
       "          google.colab.kernel.accessAllowed ? 'block' : 'none';\n",
       "\n",
       "        async function convertToInteractive(key) {\n",
       "          const element = document.querySelector('#df-22ba2389-7811-4469-ab8c-b5664eb605dc');\n",
       "          const dataTable =\n",
       "            await google.colab.kernel.invokeFunction('convertToInteractive',\n",
       "                                                     [key], {});\n",
       "          if (!dataTable) return;\n",
       "\n",
       "          const docLinkHtml = 'Like what you see? Visit the ' +\n",
       "            '<a target=\"_blank\" href=https://colab.research.google.com/notebooks/data_table.ipynb>data table notebook</a>'\n",
       "            + ' to learn more about interactive tables.';\n",
       "          element.innerHTML = '';\n",
       "          dataTable['output_type'] = 'display_data';\n",
       "          await google.colab.output.renderOutput(dataTable, element);\n",
       "          const docLink = document.createElement('div');\n",
       "          docLink.innerHTML = docLinkHtml;\n",
       "          element.appendChild(docLink);\n",
       "        }\n",
       "      </script>\n",
       "    </div>\n",
       "  </div>\n",
       "  "
      ],
      "text/plain": [
       "       RUS_lett_count  emoji_blowingkiss   emoji_check  emoji_claphands  \\\n",
       "count    2.400000e+06       2.400000e+06  2.400000e+06     2.400000e+06   \n",
       "mean     7.537879e-06       4.500000e-04  7.300000e-04     5.670833e-04   \n",
       "std      1.226307e-03       2.120843e-02  2.700865e-02     2.380676e-02   \n",
       "min      0.000000e+00       0.000000e+00  0.000000e+00     0.000000e+00   \n",
       "25%      0.000000e+00       0.000000e+00  0.000000e+00     0.000000e+00   \n",
       "50%      0.000000e+00       0.000000e+00  0.000000e+00     0.000000e+00   \n",
       "75%      0.000000e+00       0.000000e+00  0.000000e+00     0.000000e+00   \n",
       "max      1.000000e+00       1.000000e+00  1.000000e+00     1.000000e+00   \n",
       "\n",
       "       emoji_collision   emoji_count  emoji_exclamation    emoji_fire  \\\n",
       "count     2.400000e+06  2.400000e+06       2.400000e+06  2.400000e+06   \n",
       "mean      3.566667e-04  5.735916e-04       5.645833e-04  1.016250e-03   \n",
       "std       1.888226e-02  4.700652e-03       2.375426e-02  3.186248e-02   \n",
       "min       0.000000e+00  0.000000e+00       0.000000e+00  0.000000e+00   \n",
       "25%       0.000000e+00  0.000000e+00       0.000000e+00  0.000000e+00   \n",
       "50%       0.000000e+00  0.000000e+00       0.000000e+00  0.000000e+00   \n",
       "75%       0.000000e+00  0.000000e+00       0.000000e+00  0.000000e+00   \n",
       "max       1.000000e+00  1.000000e+00       1.000000e+00  1.000000e+00   \n",
       "\n",
       "         emoji_fist  emoji_flagUS  emoji_loudcryface  emoji_partypop  \\\n",
       "count  2.400000e+06  2.400000e+06       2.400000e+06    2.400000e+06   \n",
       "mean   7.050000e-04  1.289583e-03       3.962500e-04    4.558333e-04   \n",
       "std    2.654248e-02  3.588761e-02       1.990209e-02    2.134539e-02   \n",
       "min    0.000000e+00  0.000000e+00       0.000000e+00    0.000000e+00   \n",
       "25%    0.000000e+00  0.000000e+00       0.000000e+00    0.000000e+00   \n",
       "50%    0.000000e+00  0.000000e+00       0.000000e+00    0.000000e+00   \n",
       "75%    0.000000e+00  0.000000e+00       0.000000e+00    0.000000e+00   \n",
       "max    1.000000e+00  1.000000e+00       1.000000e+00    1.000000e+00   \n",
       "\n",
       "       emoji_police  emoji_prohibited  emoji_raisehands  emoji_redheart  \\\n",
       "count  2.400000e+06      2.400000e+06      2.400000e+06    2.400000e+06   \n",
       "mean   5.729167e-04      1.200000e-04      8.329167e-04    2.339167e-03   \n",
       "std    2.392883e-02      1.095380e-02      2.884828e-02    4.830834e-02   \n",
       "min    0.000000e+00      0.000000e+00      0.000000e+00    0.000000e+00   \n",
       "25%    0.000000e+00      0.000000e+00      0.000000e+00    0.000000e+00   \n",
       "50%    0.000000e+00      0.000000e+00      0.000000e+00    0.000000e+00   \n",
       "75%    0.000000e+00      0.000000e+00      0.000000e+00    0.000000e+00   \n",
       "max    1.000000e+00      1.000000e+00      1.000000e+00    1.000000e+00   \n",
       "\n",
       "       emoji_sentiment  emoji_smilinghearteye  emoji_tearsjoy  emoji_thumbsup  \\\n",
       "count     2.400000e+06           2.400000e+06    2.400000e+06    2.400000e+06   \n",
       "mean      5.033259e-01           7.541667e-04    2.216250e-03    8.916667e-04   \n",
       "std       3.878822e-02           2.745174e-02    4.702488e-02    2.984748e-02   \n",
       "min       0.000000e+00           0.000000e+00    0.000000e+00    0.000000e+00   \n",
       "25%       4.999750e-01           0.000000e+00    0.000000e+00    0.000000e+00   \n",
       "50%       4.999750e-01           0.000000e+00    0.000000e+00    0.000000e+00   \n",
       "75%       4.999750e-01           0.000000e+00    0.000000e+00    0.000000e+00   \n",
       "max       1.000000e+00           1.000000e+00    1.000000e+00    1.000000e+00   \n",
       "\n",
       "          followers     following  following_ratio       has_url  \\\n",
       "count  2.400000e+06  2.400000e+06     2.400000e+06  2.400000e+06   \n",
       "mean   1.573402e-02  1.446161e-03     7.792950e-04  6.203950e-01   \n",
       "std    7.781962e-02  8.801965e-03     4.684120e-03  4.852887e-01   \n",
       "min    0.000000e+00  0.000000e+00     0.000000e+00  0.000000e+00   \n",
       "25%    1.279918e-05  1.111019e-04     7.409047e-06  0.000000e+00   \n",
       "50%    1.025283e-04  3.223177e-04     2.579043e-04  1.000000e+00   \n",
       "75%    6.128704e-04  1.044114e-03     8.672766e-04  1.000000e+00   \n",
       "max    1.000000e+00  1.000000e+00     1.000000e+00  1.000000e+00   \n",
       "\n",
       "         is_retweet  median_word_length  multi_authors      num_URLs  \\\n",
       "count  2.400000e+06        2.399985e+06   2.400000e+06  2.400000e+06   \n",
       "mean   3.162104e-01        8.981672e-02   6.583667e-02  1.346157e-01   \n",
       "std    4.649962e-01        2.880360e-02   2.479964e-01  1.222504e-01   \n",
       "min    0.000000e+00        0.000000e+00   0.000000e+00  0.000000e+00   \n",
       "25%    0.000000e+00        7.894737e-02   0.000000e+00  0.000000e+00   \n",
       "50%    0.000000e+00        7.894737e-02   0.000000e+00  1.666667e-01   \n",
       "75%    1.000000e+00        1.052632e-01   0.000000e+00  1.666667e-01   \n",
       "max    1.000000e+00        1.000000e+00   1.000000e+00  1.000000e+00   \n",
       "\n",
       "         num_commas    num_dashes     num_hashs  region_All_Other  \\\n",
       "count  2.400000e+06  2.400000e+06  2.400000e+06      2.400000e+06   \n",
       "mean   1.056079e-02  1.949026e-03  1.581950e-02      2.989854e-01   \n",
       "std    2.194499e-02  5.442918e-03  2.661741e-02      4.578135e-01   \n",
       "min    0.000000e+00  0.000000e+00  0.000000e+00      0.000000e+00   \n",
       "25%    0.000000e+00  0.000000e+00  0.000000e+00      0.000000e+00   \n",
       "50%    0.000000e+00  0.000000e+00  0.000000e+00      0.000000e+00   \n",
       "75%    0.000000e+00  0.000000e+00  2.857143e-02      1.000000e+00   \n",
       "max    1.000000e+00  1.000000e+00  1.000000e+00      1.000000e+00   \n",
       "\n",
       "       region_Atlanta_GA  region_Australia  region_Boston_MA  region_Global  \\\n",
       "count       2.400000e+06      2.400000e+06      2.400000e+06   2.400000e+06   \n",
       "mean        5.457083e-03      5.254583e-03      7.100833e-03   4.846250e-03   \n",
       "std         7.367025e-02      7.229782e-02      8.396675e-02   6.944614e-02   \n",
       "min         0.000000e+00      0.000000e+00      0.000000e+00   0.000000e+00   \n",
       "25%         0.000000e+00      0.000000e+00      0.000000e+00   0.000000e+00   \n",
       "50%         0.000000e+00      0.000000e+00      0.000000e+00   0.000000e+00   \n",
       "75%         0.000000e+00      0.000000e+00      0.000000e+00   0.000000e+00   \n",
       "max         1.000000e+00      1.000000e+00      1.000000e+00   1.000000e+00   \n",
       "\n",
       "       region_London  region_Los_Angeles_CA  region_New_York_City  \\\n",
       "count   2.400000e+06           2.400000e+06          2.400000e+06   \n",
       "mean    6.953750e-03           7.188750e-03          6.281250e-03   \n",
       "std     8.309873e-02           8.448121e-02          7.900505e-02   \n",
       "min     0.000000e+00           0.000000e+00          0.000000e+00   \n",
       "25%     0.000000e+00           0.000000e+00          0.000000e+00   \n",
       "50%     0.000000e+00           0.000000e+00          0.000000e+00   \n",
       "75%     0.000000e+00           0.000000e+00          0.000000e+00   \n",
       "max     1.000000e+00           1.000000e+00          1.000000e+00   \n",
       "\n",
       "       region_New_York_NY  region_New_York_and_the_World  \\\n",
       "count        2.400000e+06                   2.400000e+06   \n",
       "mean         2.226542e-02                   6.429167e-03   \n",
       "std          1.475455e-01                   7.992393e-02   \n",
       "min          0.000000e+00                   0.000000e+00   \n",
       "25%          0.000000e+00                   0.000000e+00   \n",
       "50%          0.000000e+00                   0.000000e+00   \n",
       "75%          0.000000e+00                   0.000000e+00   \n",
       "max          1.000000e+00                   1.000000e+00   \n",
       "\n",
       "       region_Pale_Blue_Dot  region_United_Kingdom  region_United_States  \\\n",
       "count          2.400000e+06           2.400000e+06          2.400000e+06   \n",
       "mean           5.849583e-03           7.405833e-03          4.609850e-01   \n",
       "std            7.625856e-02           8.573791e-02          4.984756e-01   \n",
       "min            0.000000e+00           0.000000e+00          0.000000e+00   \n",
       "25%            0.000000e+00           0.000000e+00          0.000000e+00   \n",
       "50%            0.000000e+00           0.000000e+00          0.000000e+00   \n",
       "75%            0.000000e+00           0.000000e+00          1.000000e+00   \n",
       "max            1.000000e+00           1.000000e+00          1.000000e+00   \n",
       "\n",
       "       region_Unknown  region_Washington_DC     sentiment  tweet_length  \\\n",
       "count    2.400000e+06          2.400000e+06  2.400000e+06  2.400000e+06   \n",
       "mean     1.144767e-01          4.052042e-02  5.240232e-01  2.546612e-01   \n",
       "std      3.183894e-01          1.971764e-01  2.166378e-01  1.066939e-01   \n",
       "min      0.000000e+00          0.000000e+00  0.000000e+00  0.000000e+00   \n",
       "25%      0.000000e+00          0.000000e+00  3.957044e-01  1.802721e-01   \n",
       "50%      0.000000e+00          0.000000e+00  4.974599e-01  2.448980e-01   \n",
       "75%      0.000000e+00          0.000000e+00  6.996127e-01  3.299320e-01   \n",
       "max      1.000000e+00          1.000000e+00  1.000000e+00  1.000000e+00   \n",
       "\n",
       "            updates  \n",
       "count  2.400000e+06  \n",
       "mean   1.933157e-03  \n",
       "std    6.236316e-03  \n",
       "min    0.000000e+00  \n",
       "25%    1.632499e-06  \n",
       "50%    1.309264e-04  \n",
       "75%    1.607032e-03  \n",
       "max    1.000000e+00  "
      ]
     },
     "execution_count": 35,
     "metadata": {},
     "output_type": "execute_result"
    }
   ],
   "source": [
    "x_train.describe()"
   ]
  },
  {
   "cell_type": "code",
   "execution_count": 36,
   "metadata": {
    "id": "yPYC_Q-9dJwv"
   },
   "outputs": [],
   "source": [
    "#transform x_test\n",
    "x_test = pd.DataFrame(full_pipeline.transform(x_test), columns= full_pipeline.get_feature_names_out())"
   ]
  },
  {
   "cell_type": "markdown",
   "metadata": {
    "id": "ti5wDt3TAjUB"
   },
   "source": [
    "# 4 - Feature Importance"
   ]
  },
  {
   "cell_type": "markdown",
   "metadata": {
    "id": "61KPPhNTBWbj"
   },
   "source": [
    "Because of the high dimensionality of the dataset, we opted to split into two feature categories:\n",
    "- Account features\n",
    "- Tweet features"
   ]
  },
  {
   "cell_type": "markdown",
   "metadata": {
    "id": "dlSGYZrhEwbj"
   },
   "source": [
    "## Account Features"
   ]
  },
  {
   "cell_type": "code",
   "execution_count": 103,
   "metadata": {
    "id": "hriei_3xz6f8"
   },
   "outputs": [],
   "source": [
    "#df 1 - account features\n",
    "df_account_features = df[['class_numeric','following','followers','following_ratio','updates','multi_authors','region_United_States', 'region_Unknown', \n",
    "                         'region_New_York_NY','region_United_Kingdom', 'region_Los_Angeles_CA', 'region_Boston_MA',\n",
    "                          'region_London', 'region_New_York_and_the_World','region_New_York_City', 'region_Pale_Blue_Dot', \n",
    "                         'region_Atlanta_GA','region_Australia', 'region_Global', 'region_Washington_DC','region_All_Other']]"
   ]
  },
  {
   "cell_type": "code",
   "execution_count": 104,
   "metadata": {
    "colab": {
     "base_uri": "https://localhost:8080/",
     "height": 796
    },
    "id": "kce3Dl6d1C8k",
    "outputId": "3275f239-62a7-43fc-882b-9da4086fd381"
   },
   "outputs": [
    {
     "data": {
      "image/png": "[encoded data removed]",
      "text/plain": [
       "<Figure size 1296x864 with 2 Axes>"
      ]
     },
     "metadata": {
      "needs_background": "light"
     },
     "output_type": "display_data"
    }
   ],
   "source": [
    "#correlation heat map - account features\n",
    "\n",
    "correlation_matrix_heatmap = df_account_features.corr()\n",
    "\n",
    "# remove duplicate boxes in upper triangle\n",
    "mask = np.zeros_like(correlation_matrix_heatmap)\n",
    "mask[np.triu_indices_from(mask)] = True\n",
    "\n",
    "# plot the correlation heat map to see connections amoung the dataset\n",
    "\n",
    "fig, ax = plt.subplots(figsize=(18,12))   \n",
    "ax = sns.heatmap(correlation_matrix_heatmap, \n",
    "    xticklabels = correlation_matrix_heatmap.columns, \n",
    "    yticklabels = correlation_matrix_heatmap.columns, \n",
    "    annot = True, mask = mask, cmap= 'coolwarm', fmt='.2f')"
   ]
  },
  {
   "cell_type": "code",
   "execution_count": 101,
   "metadata": {
    "id": "dt2I_txq00aO"
   },
   "outputs": [],
   "source": [
    "#df 2 - tweet text features\n",
    "df_tweet_features = df[['is_retweet', 'has_url',\n",
    "       'emoji_count', 'class_numeric', 'RUS_lett_count',\n",
    "       'emoji_flagUS', 'emoji_police', 'emoji_check', 'emoji_exclamation',\n",
    "       'emoji_fist', 'emoji_collision', 'emoji_prohibited',\n",
    "       'emoji_loudcryface', 'emoji_smilinghearteye', 'emoji_fire',\n",
    "       'emoji_redheart', 'emoji_tearsjoy', 'emoji_thumbsup', 'emoji_claphands',\n",
    "       'emoji_blowingkiss', 'emoji_partypop', 'emoji_raisehands','num_dashes', 'num_commas',\n",
    "       'num_hashs', 'num_URLs', 'median_word_length', 'sentiment',\n",
    "       'emoji_sentiment', 'tweet_length']]"
   ]
  },
  {
   "cell_type": "code",
   "execution_count": 102,
   "metadata": {
    "colab": {
     "base_uri": "https://localhost:8080/",
     "height": 785
    },
    "id": "bTfKkqtU1PsK",
    "outputId": "379bc7ae-8cbf-4d3c-9135-21eb43aa527d"
   },
   "outputs": [
    {
     "data": {
      "image/png": "[encoded data removed]",
      "text/plain": [
       "<Figure size 1296x864 with 2 Axes>"
      ]
     },
     "metadata": {
      "needs_background": "light"
     },
     "output_type": "display_data"
    }
   ],
   "source": [
    "#correlation heat map - tweet features\n",
    "\n",
    "correlation_matrix_heatmap = df_tweet_features.corr()\n",
    "\n",
    "# remove duplicate boxes in upper triangle\n",
    "mask = np.zeros_like(correlation_matrix_heatmap)\n",
    "mask[np.triu_indices_from(mask)] = True\n",
    "\n",
    "# plot the correlation heat map to see connections amoung the dataset\n",
    "\n",
    "fig, ax = plt.subplots(figsize=(18,12))   \n",
    "ax = sns.heatmap(correlation_matrix_heatmap, \n",
    "    xticklabels = correlation_matrix_heatmap.columns, \n",
    "    yticklabels = correlation_matrix_heatmap.columns, \n",
    "    annot = True, mask = mask, cmap= 'coolwarm', fmt='.2f')"
   ]
  },
  {
   "cell_type": "code",
   "execution_count": 63,
   "metadata": {
    "colab": {
     "base_uri": "https://localhost:8080/",
     "height": 729
    },
    "id": "NSVEBpiZ13qW",
    "outputId": "d5c8f7e8-3147-4c49-db2a-cc1dd7a43d10"
   },
   "outputs": [
    {
     "data": {
      "image/png": "[encoded data removed]",
      "text/plain": [
       "<Figure size 864x720 with 2 Axes>"
      ]
     },
     "metadata": {
      "needs_background": "light"
     },
     "output_type": "display_data"
    }
   ],
   "source": [
    "# 49 features\n",
    "from sklearn.feature_selection import f_classif\n",
    "f_values, p_values = f_classif(x_train, y_train)\n",
    "\n",
    "fig, ax = plt.subplots(2, 1, figsize=(12,10))\n",
    "ax[0].set_title(\"F values\")\n",
    "ax[0].plot(f_values, 'o')\n",
    "ax[1].set_title(\"p values\")\n",
    "ax[1].plot(p_values, 'o')\n",
    "ax[1].set_yscale(\"log\")\n",
    "\n",
    "ax[1].set_xticks(range(x_train.shape[1]))\n",
    "ax[1].set_xticklabels(x_train.columns, rotation=90);\n",
    "fig.tight_layout()"
   ]
  },
  {
   "cell_type": "markdown",
   "metadata": {
    "id": "KijmVk4jMEoS"
   },
   "source": [
    "Based on the above analysis, we expect to see the following features have more influential coefficients for the Logistic Regression Model:\n",
    "- region_United_States\n",
    "- region_All_Other\n",
    "- updates\n",
    "- multi-authors\n",
    "- region_Washington_DC\n",
    "- sentiment\n",
    "- median_word_length"
   ]
  },
  {
   "cell_type": "markdown",
   "metadata": {
    "id": "WNRX1ru2Mw2r"
   },
   "source": [
    "## Dummy Classifier"
   ]
  },
  {
   "cell_type": "code",
   "execution_count": null,
   "metadata": {
    "id": "8QV-BnQeymvZ"
   },
   "outputs": [],
   "source": [
    "dummy = DummyClassifier(strategy='stratified', random_state=42)"
   ]
  },
  {
   "cell_type": "code",
   "execution_count": null,
   "metadata": {
    "colab": {
     "base_uri": "https://localhost:8080/"
    },
    "id": "IMxoi0pty5sN",
    "outputId": "eceb2e88-5a2b-4a5c-b213-2be639f85b0c"
   },
   "outputs": [
    {
     "name": "stdout",
     "output_type": "stream",
     "text": [
      "Accuracy Score: 0.5035\n"
     ]
    }
   ],
   "source": [
    "dummy.fit(x_train, y_train)\n",
    "dummy_pred = dummy.predict(x_test)\n",
    "print(\"Accuracy Score:\", accuracy_score(y_test, dummy_pred))"
   ]
  },
  {
   "cell_type": "markdown",
   "metadata": {
    "id": "lNgXmWMmeyRX"
   },
   "source": [
    "# 5 - Logistic Regression Classifier using StandardScaler Pipeline"
   ]
  },
  {
   "cell_type": "code",
   "execution_count": 65,
   "metadata": {
    "colab": {
     "base_uri": "https://localhost:8080/",
     "height": 74
    },
    "id": "YZoVFZaoewTC",
    "outputId": "9a3eceb0-2cf2-4707-8478-bb3b942c9a39"
   },
   "outputs": [
    {
     "data": {
      "text/html": [
       "<style>#sk-container-id-1 {color: black;background-color: white;}#sk-container-id-1 pre{padding: 0;}#sk-container-id-1 div.sk-toggleable {background-color: white;}#sk-container-id-1 label.sk-toggleable__label {cursor: pointer;display: block;width: 100%;margin-bottom: 0;padding: 0.3em;box-sizing: border-box;text-align: center;}#sk-container-id-1 label.sk-toggleable__label-arrow:before {content: \"▸\";float: left;margin-right: 0.25em;color: #696969;}#sk-container-id-1 label.sk-toggleable__label-arrow:hover:before {color: black;}#sk-container-id-1 div.sk-estimator:hover label.sk-toggleable__label-arrow:before {color: black;}#sk-container-id-1 div.sk-toggleable__content {max-height: 0;max-width: 0;overflow: hidden;text-align: left;background-color: #f0f8ff;}#sk-container-id-1 div.sk-toggleable__content pre {margin: 0.2em;color: black;border-radius: 0.25em;background-color: #f0f8ff;}#sk-container-id-1 input.sk-toggleable__control:checked~div.sk-toggleable__content {max-height: 200px;max-width: 100%;overflow: auto;}#sk-container-id-1 input.sk-toggleable__control:checked~label.sk-toggleable__label-arrow:before {content: \"▾\";}#sk-container-id-1 div.sk-estimator input.sk-toggleable__control:checked~label.sk-toggleable__label {background-color: #d4ebff;}#sk-container-id-1 div.sk-label input.sk-toggleable__control:checked~label.sk-toggleable__label {background-color: #d4ebff;}#sk-container-id-1 input.sk-hidden--visually {border: 0;clip: rect(1px 1px 1px 1px);clip: rect(1px, 1px, 1px, 1px);height: 1px;margin: -1px;overflow: hidden;padding: 0;position: absolute;width: 1px;}#sk-container-id-1 div.sk-estimator {font-family: monospace;background-color: #f0f8ff;border: 1px dotted black;border-radius: 0.25em;box-sizing: border-box;margin-bottom: 0.5em;}#sk-container-id-1 div.sk-estimator:hover {background-color: #d4ebff;}#sk-container-id-1 div.sk-parallel-item::after {content: \"\";width: 100%;border-bottom: 1px solid gray;flex-grow: 1;}#sk-container-id-1 div.sk-label:hover label.sk-toggleable__label {background-color: #d4ebff;}#sk-container-id-1 div.sk-serial::before {content: \"\";position: absolute;border-left: 1px solid gray;box-sizing: border-box;top: 0;bottom: 0;left: 50%;z-index: 0;}#sk-container-id-1 div.sk-serial {display: flex;flex-direction: column;align-items: center;background-color: white;padding-right: 0.2em;padding-left: 0.2em;position: relative;}#sk-container-id-1 div.sk-item {position: relative;z-index: 1;}#sk-container-id-1 div.sk-parallel {display: flex;align-items: stretch;justify-content: center;background-color: white;position: relative;}#sk-container-id-1 div.sk-item::before, #sk-container-id-1 div.sk-parallel-item::before {content: \"\";position: absolute;border-left: 1px solid gray;box-sizing: border-box;top: 0;bottom: 0;left: 50%;z-index: -1;}#sk-container-id-1 div.sk-parallel-item {display: flex;flex-direction: column;z-index: 1;position: relative;background-color: white;}#sk-container-id-1 div.sk-parallel-item:first-child::after {align-self: flex-end;width: 50%;}#sk-container-id-1 div.sk-parallel-item:last-child::after {align-self: flex-start;width: 50%;}#sk-container-id-1 div.sk-parallel-item:only-child::after {width: 0;}#sk-container-id-1 div.sk-dashed-wrapped {border: 1px dashed gray;margin: 0 0.4em 0.5em 0.4em;box-sizing: border-box;padding-bottom: 0.4em;background-color: white;}#sk-container-id-1 div.sk-label label {font-family: monospace;font-weight: bold;display: inline-block;line-height: 1.2em;}#sk-container-id-1 div.sk-label-container {text-align: center;}#sk-container-id-1 div.sk-container {/* jupyter's `normalize.less` sets `[hidden] { display: none; }` but bootstrap.min.css set `[hidden] { display: none !important; }` so we also need the `!important` here to be able to override the default hidden behavior on the sphinx rendered scikit-learn.org. See: https://github.com/scikit-learn/scikit-learn/issues/21755 */display: inline-block !important;position: relative;}#sk-container-id-1 div.sk-text-repr-fallback {display: none;}</style><div id=\"sk-container-id-1\" class=\"sk-top-container\"><div class=\"sk-text-repr-fallback\"><pre>LogisticRegression(C=0.5, max_iter=1000, random_state=42)</pre><b>In a Jupyter environment, please rerun this cell to show the HTML representation or trust the notebook. <br />On GitHub, the HTML representation is unable to render, please try loading this page with nbviewer.org.</b></div><div class=\"sk-container\" hidden><div class=\"sk-item\"><div class=\"sk-estimator sk-toggleable\"><input class=\"sk-toggleable__control sk-hidden--visually\" id=\"sk-estimator-id-1\" type=\"checkbox\" checked><label for=\"sk-estimator-id-1\" class=\"sk-toggleable__label sk-toggleable__label-arrow\">LogisticRegression</label><div class=\"sk-toggleable__content\"><pre>LogisticRegression(C=0.5, max_iter=1000, random_state=42)</pre></div></div></div></div></div>"
      ],
      "text/plain": [
       "LogisticRegression(C=0.5, max_iter=1000, random_state=42)"
      ]
     },
     "execution_count": 65,
     "metadata": {},
     "output_type": "execute_result"
    }
   ],
   "source": [
    "lr = LogisticRegression(\n",
    "    random_state=42,\n",
    "    tol=0.0001,\n",
    "    C=0.5,\n",
    "    max_iter=1000\n",
    ")\n",
    "lr.fit(x_train, y_train)"
   ]
  },
  {
   "cell_type": "code",
   "execution_count": 66,
   "metadata": {
    "colab": {
     "base_uri": "https://localhost:8080/"
    },
    "id": "5Dvoc-GOzzwO",
    "outputId": "22e27414-185d-494e-e3fb-44a308fa5532"
   },
   "outputs": [
    {
     "data": {
      "text/plain": [
       "array([431], dtype=int32)"
      ]
     },
     "execution_count": 66,
     "metadata": {},
     "output_type": "execute_result"
    }
   ],
   "source": [
    "#view how many iterations were needed\n",
    "lr.n_iter_"
   ]
  },
  {
   "cell_type": "code",
   "execution_count": 67,
   "metadata": {
    "colab": {
     "base_uri": "https://localhost:8080/"
    },
    "id": "6zZmIoeCz5qW",
    "outputId": "eaad57fe-0edb-46c8-ed3e-5a785676c22f"
   },
   "outputs": [
    {
     "name": "stdout",
     "output_type": "stream",
     "text": [
      "TRAIN Scores\n",
      "Accuracy score: 0.993\n",
      "Precision score: 0.992\n",
      "Recall score: 0.994\n",
      "ROC/AUC score: 0.999\n"
     ]
    }
   ],
   "source": [
    "print(\"TRAIN Scores\")\n",
    "print(f'Accuracy score: {round(accuracy_score(y_train, lr.predict(x_train)), 3)}')\n",
    "print(f'Precision score: {round(precision_score(y_pred=lr.predict(x_train), y_true=y_train),3)}')\n",
    "print(f'Recall score: {round(recall_score(y_pred=lr.predict(x_train), y_true=y_train),3)}')\n",
    "print(f'ROC/AUC score: {round(roc_auc_score(y_train, lr.predict_proba(x_train)[:,1]),3)}')"
   ]
  },
  {
   "cell_type": "code",
   "execution_count": 68,
   "metadata": {
    "id": "_8Y8SWm528SK"
   },
   "outputs": [],
   "source": [
    "#precisions, recalls, thresholds = precision_recall_curve(y_train, y_train)\n",
    "y_train_scores = lr.decision_function(x_train)"
   ]
  },
  {
   "cell_type": "code",
   "execution_count": 69,
   "metadata": {
    "id": "_iPcRHdG3Bxi"
   },
   "outputs": [],
   "source": [
    "precisions, recalls, thresholds = precision_recall_curve(y_train, y_train_scores)"
   ]
  },
  {
   "cell_type": "code",
   "execution_count": 70,
   "metadata": {
    "colab": {
     "base_uri": "https://localhost:8080/",
     "height": 288
    },
    "id": "RhkI-YtA3EBw",
    "outputId": "2d2df1dc-2239-4fa7-809a-56168bf91a2b"
   },
   "outputs": [
    {
     "data": {
      "image/png": "[encoded data removed]",
      "text/plain": [
       "<Figure size 576x288 with 1 Axes>"
      ]
     },
     "metadata": {
      "needs_background": "light"
     },
     "output_type": "display_data"
    }
   ],
   "source": [
    "def plot_precision_recall_vs_threshold(precisions, recalls, thresholds):\n",
    "    plt.plot(thresholds, precisions[:-1], \"b--\", label=\"Precision\", linewidth=2)\n",
    "    plt.plot(thresholds, recalls[:-1], \"g-\", label=\"Recall\", linewidth=2)\n",
    "    plt.legend(loc=\"center right\", fontsize=16) \n",
    "    plt.xlabel(\"Threshold\", fontsize=16)       \n",
    "    plt.grid(True)                              \n",
    "    plt.axis([-20, 16, 0, 1])             \n",
    "\n",
    "plt.figure(figsize=(8, 4))                                                                 \n",
    "plot_precision_recall_vs_threshold(precisions, recalls, thresholds)\n",
    "\n",
    "plt.show()"
   ]
  },
  {
   "cell_type": "markdown",
   "metadata": {
    "id": "3RY-jMm23JZi"
   },
   "source": [
    "## LR Model Test Predictions"
   ]
  },
  {
   "cell_type": "code",
   "execution_count": 71,
   "metadata": {
    "id": "ihTKKk2L3LGI"
   },
   "outputs": [],
   "source": [
    "#Predict on Test\n",
    "lr_predict = lr.predict(x_test)\n"
   ]
  },
  {
   "cell_type": "code",
   "execution_count": 87,
   "metadata": {
    "colab": {
     "base_uri": "https://localhost:8080/",
     "height": 279
    },
    "id": "taG8lfQJLpjK",
    "outputId": "1cdeaa8e-9b40-4b60-b7f5-2cc847ef9bd9"
   },
   "outputs": [
    {
     "data": {
      "image/png": "[encoded data removed]",
      "text/plain": [
       "<Figure size 432x288 with 2 Axes>"
      ]
     },
     "metadata": {
      "needs_background": "light"
     },
     "output_type": "display_data"
    }
   ],
   "source": [
    "cm = confusion_matrix(y_test, lr.predict(x_test), labels=lr.classes_)\n",
    "disp = ConfusionMatrixDisplay(confusion_matrix= cm, display_labels = lr.classes_)\n",
    "disp.plot()\n",
    "plt.show()"
   ]
  },
  {
   "cell_type": "code",
   "execution_count": 73,
   "metadata": {
    "colab": {
     "base_uri": "https://localhost:8080/"
    },
    "id": "N_oW-UXp3Qe3",
    "outputId": "8c82cbdb-2166-4d10-f573-8f855826589c"
   },
   "outputs": [
    {
     "name": "stdout",
     "output_type": "stream",
     "text": [
      "TEST\n",
      "Accuracy: 0.993\n",
      "Precision: 0.994\n",
      "Recall: 0.992\n",
      "ROC/AUC: 0.999\n"
     ]
    }
   ],
   "source": [
    "#get TEST Scores\n",
    "#score = lr.score(x_test,y_test)\n",
    "score = accuracy_score(y_test, lr.predict(x_test))\n",
    "#Precision score for test\n",
    "p_score = precision_score(lr_predict, y_test)\n",
    "#recall for test\n",
    "r_score = recall_score(lr_predict, y_test)\n",
    "#ROC/AUC \n",
    "roc_auc = roc_auc_score(y_test, lr.predict_proba(x_test)[:,1])\n",
    "\n",
    "print('TEST')\n",
    "print('Accuracy:',round(score,3))\n",
    "print('Precision:',round(p_score,3))\n",
    "print('Recall:',round(r_score,3))\n",
    "print('ROC/AUC:', round(roc_auc, 3))"
   ]
  },
  {
   "cell_type": "code",
   "execution_count": 74,
   "metadata": {
    "colab": {
     "base_uri": "https://localhost:8080/"
    },
    "id": "LNbxxF-P6eb7",
    "outputId": "4c9e2b55-9733-42ac-e143-6e0d9df5adc1"
   },
   "outputs": [
    {
     "name": "stdout",
     "output_type": "stream",
     "text": [
      "              precision    recall  f1-score   support\n",
      "\n",
      "           0       0.99      0.99      0.99    300000\n",
      "           1       0.99      0.99      0.99    300000\n",
      "\n",
      "    accuracy                           0.99    600000\n",
      "   macro avg       0.99      0.99      0.99    600000\n",
      "weighted avg       0.99      0.99      0.99    600000\n",
      "\n"
     ]
    }
   ],
   "source": [
    "from sklearn.metrics import classification_report\n",
    "print(classification_report(y_test,lr_predict))"
   ]
  },
  {
   "cell_type": "markdown",
   "metadata": {
    "id": "AAmCaGMY31GA"
   },
   "source": [
    "## Identifying Features of Importance"
   ]
  },
  {
   "cell_type": "code",
   "execution_count": 75,
   "metadata": {
    "colab": {
     "base_uri": "https://localhost:8080/"
    },
    "id": "Kd_pxRcirbEt",
    "outputId": "a02b157f-88a6-49e5-b39b-5a9231a6fb6a"
   },
   "outputs": [
    {
     "name": "stdout",
     "output_type": "stream",
     "text": [
      "(-53.49658098603033, 'followers')\n",
      "(-11.965617233077648, 'region_Los_Angeles_CA')\n",
      "(-6.076865495372532, 'region_London')\n",
      "(-3.1994142470322604, 'region_Washington_DC')\n",
      "(-2.8489740561162527, 'region_New_York_City')\n",
      "(-1.7438650699239588, 'region_All_Other')\n",
      "(-1.5372800750533062, 'region_New_York_NY')\n",
      "(-0.8146564761929983, 'region_Australia')\n",
      "(-0.7725402328445302, 'tweet_length')\n",
      "(-0.6780510495460758, 'region_Boston_MA')\n",
      "(-0.6429120365361474, 'region_Atlanta_GA')\n",
      "(-0.6151165108821504, 'sentiment')\n",
      "(-0.4110582682189374, 'region_Global')\n",
      "(-0.15844222590377277, 'num_commas')\n",
      "(-0.1496859079051956, 'num_dashes')\n",
      "(-0.12037558029812113, 'emoji_count')\n",
      "(-0.0979077268657528, 'following')\n",
      "(-0.06463710124597272, 'has_url')\n",
      "(-0.05263954549089349, 'emoji_sentiment')\n",
      "(-0.03524677872698756, 'emoji_fire')\n",
      "(-0.03390971621376461, 'emoji_collision')\n",
      "(-0.029912986152796195, 'emoji_partypop')\n",
      "(-0.022905893312482325, 'emoji_tearsjoy')\n",
      "(-0.017592971208128666, 'emoji_raisehands')\n",
      "(-0.012701931704457893, 'emoji_blowingkiss')\n",
      "(-0.008649065376606863, 'region_Pale_Blue_Dot')\n",
      "(-0.007753963440581061, 'emoji_thumbsup')\n",
      "(-0.00748369271090012, 'emoji_loudcryface')\n",
      "(-0.006245417204921702, 'emoji_check')\n",
      "(-0.005049846241272438, 'emoji_smilinghearteye')\n",
      "(0.0014784560066953634, 'emoji_prohibited')\n",
      "(0.0017884258721826568, 'emoji_claphands')\n",
      "(0.002112634964058973, 'emoji_police')\n",
      "(0.0033543840872139593, 'emoji_exclamation')\n",
      "(0.01217379405540284, 'emoji_flagUS')\n",
      "(0.012305406536677565, 'region_New_York_and_the_World')\n",
      "(0.04225120466378755, 'emoji_fist')\n",
      "(0.05294761515961618, 'emoji_redheart')\n",
      "(0.06998378966138334, 'RUS_lett_count')\n",
      "(0.47197154160116145, 'is_retweet')\n",
      "(0.5268541826548118, 'num_URLs')\n",
      "(0.6077897910882948, 'median_word_length')\n",
      "(0.7202703070069681, 'num_hashs')\n",
      "(0.8121155668344459, 'region_United_Kingdom')\n",
      "(1.2885743829813587, 'updates')\n",
      "(1.8093103576320033, 'region_Unknown')\n",
      "(3.391229730567724, 'multi_authors')\n",
      "(5.903376046514135, 'region_United_States')\n",
      "(27.113946230218595, 'following_ratio')\n"
     ]
    }
   ],
   "source": [
    "#49 features (3M dataset)\n",
    "coefs_features = list(zip(lr.coef_[0],x_train.columns))\n",
    "for i in sorted(coefs_features):\n",
    "  print(i)"
   ]
  },
  {
   "cell_type": "markdown",
   "metadata": {
    "id": "51giVGrz4FI-"
   },
   "source": [
    "Most important (positive) features identified are:\n",
    "1.   Following Ratio\n",
    "2.   United States\n",
    "3.   Multi Authors\n",
    "4.   Unknown Region\n",
    "5.   Updates\n",
    "\n",
    "Most important (negative) features identified are:\n",
    "1.   Followers\n",
    "2.   Los Angeles\n",
    "3.   London\n",
    "4.   Washington DC\n",
    "5.   NYC\n"
   ]
  },
  {
   "cell_type": "code",
   "execution_count": 100,
   "metadata": {
    "colab": {
     "base_uri": "https://localhost:8080/"
    },
    "id": "N5w-SzdZOYXv",
    "outputId": "0ce0ba6a-7f97-469f-e4c1-afb0ba933bf4"
   },
   "outputs": [
    {
     "name": "stdout",
     "output_type": "stream",
     "text": [
      "-53.5 followers\n",
      "-11.97 region_Los_Angeles_CA\n",
      "-6.08 region_London\n",
      "-3.2 region_Washington_DC\n",
      "-2.85 region_New_York_City\n",
      "-1.74 region_All_Other\n",
      "-1.54 region_New_York_NY\n",
      "-0.81 region_Australia\n",
      "-0.77 tweet_length\n",
      "-0.68 region_Boston_MA\n",
      "-0.64 region_Atlanta_GA\n",
      "-0.62 sentiment\n",
      "-0.41 region_Global\n",
      "-0.16 num_commas\n",
      "-0.15 num_dashes\n",
      "-0.12 emoji_count\n",
      "0.47 is_retweet\n",
      "0.53 num_URLs\n",
      "0.61 median_word_length\n",
      "0.72 num_hashs\n",
      "0.81 region_United_Kingdom\n",
      "1.29 updates\n",
      "1.81 region_Unknown\n",
      "3.39 multi_authors\n",
      "5.9 region_United_States\n",
      "27.11 following_ratio\n",
      "['followers', 'region_Los_Angeles_CA', 'region_London', 'region_Washington_DC', 'region_New_York_City', 'region_All_Other', 'region_New_York_NY', 'region_Australia', 'tweet_length', 'region_Boston_MA', 'region_Atlanta_GA', 'sentiment', 'region_Global', 'num_commas', 'num_dashes', 'emoji_count', 'is_retweet', 'num_URLs', 'median_word_length', 'num_hashs', 'region_United_Kingdom', 'updates', 'region_Unknown', 'multi_authors', 'region_United_States', 'following_ratio']\n",
      "26\n"
     ]
    }
   ],
   "source": [
    "#collect feature column names > 0.1 or < -0.1\n",
    "feature_cols_to_keep=[]\n",
    "coefs_features = list(zip(lr.coef_[0],x_train.columns))\n",
    "for i,j in sorted(coefs_features):\n",
    "    if i >= 0.1:\n",
    "      print(round(i,2),j)\n",
    "      feature_cols_to_keep.append(j)\n",
    "    if i<= -0.1:\n",
    "      print(round(i,2),j)\n",
    "      feature_cols_to_keep.append(j)\n",
    "print(feature_cols_to_keep)\n",
    "print(len(feature_cols_to_keep))"
   ]
  },
  {
   "cell_type": "markdown",
   "metadata": {
    "id": "iq1_JOgR3fzf"
   },
   "source": [
    "# 6 - Decision Tree Classifier w/ StandardScaler"
   ]
  },
  {
   "cell_type": "code",
   "execution_count": 76,
   "metadata": {
    "colab": {
     "base_uri": "https://localhost:8080/",
     "height": 74
    },
    "id": "Li7XDiTP3kga",
    "outputId": "5e316a34-36e2-467b-d490-861871243d94"
   },
   "outputs": [
    {
     "data": {
      "text/html": [
       "<style>#sk-container-id-2 {color: black;background-color: white;}#sk-container-id-2 pre{padding: 0;}#sk-container-id-2 div.sk-toggleable {background-color: white;}#sk-container-id-2 label.sk-toggleable__label {cursor: pointer;display: block;width: 100%;margin-bottom: 0;padding: 0.3em;box-sizing: border-box;text-align: center;}#sk-container-id-2 label.sk-toggleable__label-arrow:before {content: \"▸\";float: left;margin-right: 0.25em;color: #696969;}#sk-container-id-2 label.sk-toggleable__label-arrow:hover:before {color: black;}#sk-container-id-2 div.sk-estimator:hover label.sk-toggleable__label-arrow:before {color: black;}#sk-container-id-2 div.sk-toggleable__content {max-height: 0;max-width: 0;overflow: hidden;text-align: left;background-color: #f0f8ff;}#sk-container-id-2 div.sk-toggleable__content pre {margin: 0.2em;color: black;border-radius: 0.25em;background-color: #f0f8ff;}#sk-container-id-2 input.sk-toggleable__control:checked~div.sk-toggleable__content {max-height: 200px;max-width: 100%;overflow: auto;}#sk-container-id-2 input.sk-toggleable__control:checked~label.sk-toggleable__label-arrow:before {content: \"▾\";}#sk-container-id-2 div.sk-estimator input.sk-toggleable__control:checked~label.sk-toggleable__label {background-color: #d4ebff;}#sk-container-id-2 div.sk-label input.sk-toggleable__control:checked~label.sk-toggleable__label {background-color: #d4ebff;}#sk-container-id-2 input.sk-hidden--visually {border: 0;clip: rect(1px 1px 1px 1px);clip: rect(1px, 1px, 1px, 1px);height: 1px;margin: -1px;overflow: hidden;padding: 0;position: absolute;width: 1px;}#sk-container-id-2 div.sk-estimator {font-family: monospace;background-color: #f0f8ff;border: 1px dotted black;border-radius: 0.25em;box-sizing: border-box;margin-bottom: 0.5em;}#sk-container-id-2 div.sk-estimator:hover {background-color: #d4ebff;}#sk-container-id-2 div.sk-parallel-item::after {content: \"\";width: 100%;border-bottom: 1px solid gray;flex-grow: 1;}#sk-container-id-2 div.sk-label:hover label.sk-toggleable__label {background-color: #d4ebff;}#sk-container-id-2 div.sk-serial::before {content: \"\";position: absolute;border-left: 1px solid gray;box-sizing: border-box;top: 0;bottom: 0;left: 50%;z-index: 0;}#sk-container-id-2 div.sk-serial {display: flex;flex-direction: column;align-items: center;background-color: white;padding-right: 0.2em;padding-left: 0.2em;position: relative;}#sk-container-id-2 div.sk-item {position: relative;z-index: 1;}#sk-container-id-2 div.sk-parallel {display: flex;align-items: stretch;justify-content: center;background-color: white;position: relative;}#sk-container-id-2 div.sk-item::before, #sk-container-id-2 div.sk-parallel-item::before {content: \"\";position: absolute;border-left: 1px solid gray;box-sizing: border-box;top: 0;bottom: 0;left: 50%;z-index: -1;}#sk-container-id-2 div.sk-parallel-item {display: flex;flex-direction: column;z-index: 1;position: relative;background-color: white;}#sk-container-id-2 div.sk-parallel-item:first-child::after {align-self: flex-end;width: 50%;}#sk-container-id-2 div.sk-parallel-item:last-child::after {align-self: flex-start;width: 50%;}#sk-container-id-2 div.sk-parallel-item:only-child::after {width: 0;}#sk-container-id-2 div.sk-dashed-wrapped {border: 1px dashed gray;margin: 0 0.4em 0.5em 0.4em;box-sizing: border-box;padding-bottom: 0.4em;background-color: white;}#sk-container-id-2 div.sk-label label {font-family: monospace;font-weight: bold;display: inline-block;line-height: 1.2em;}#sk-container-id-2 div.sk-label-container {text-align: center;}#sk-container-id-2 div.sk-container {/* jupyter's `normalize.less` sets `[hidden] { display: none; }` but bootstrap.min.css set `[hidden] { display: none !important; }` so we also need the `!important` here to be able to override the default hidden behavior on the sphinx rendered scikit-learn.org. See: https://github.com/scikit-learn/scikit-learn/issues/21755 */display: inline-block !important;position: relative;}#sk-container-id-2 div.sk-text-repr-fallback {display: none;}</style><div id=\"sk-container-id-2\" class=\"sk-top-container\"><div class=\"sk-text-repr-fallback\"><pre>DecisionTreeClassifier(max_depth=6, min_samples_split=100, random_state=42)</pre><b>In a Jupyter environment, please rerun this cell to show the HTML representation or trust the notebook. <br />On GitHub, the HTML representation is unable to render, please try loading this page with nbviewer.org.</b></div><div class=\"sk-container\" hidden><div class=\"sk-item\"><div class=\"sk-estimator sk-toggleable\"><input class=\"sk-toggleable__control sk-hidden--visually\" id=\"sk-estimator-id-2\" type=\"checkbox\" checked><label for=\"sk-estimator-id-2\" class=\"sk-toggleable__label sk-toggleable__label-arrow\">DecisionTreeClassifier</label><div class=\"sk-toggleable__content\"><pre>DecisionTreeClassifier(max_depth=6, min_samples_split=100, random_state=42)</pre></div></div></div></div></div>"
      ],
      "text/plain": [
       "DecisionTreeClassifier(max_depth=6, min_samples_split=100, random_state=42)"
      ]
     },
     "execution_count": 76,
     "metadata": {},
     "output_type": "execute_result"
    }
   ],
   "source": [
    "dt = DecisionTreeClassifier(\n",
    "    random_state=42,\n",
    "    min_samples_split=100,\n",
    "    max_depth=6\n",
    ")\n",
    "dt.fit(x_train,y_train)"
   ]
  },
  {
   "cell_type": "code",
   "execution_count": 77,
   "metadata": {
    "colab": {
     "base_uri": "https://localhost:8080/"
    },
    "id": "ZNml7UDW3n8J",
    "outputId": "41116e0d-4a51-42db-bee6-ee2b2607ac60"
   },
   "outputs": [
    {
     "name": "stdout",
     "output_type": "stream",
     "text": [
      "TRAIN Scores\n",
      "Accuracy score: 0.998\n",
      "Precision score: 0.997\n",
      "Recall score: 0.999\n",
      "ROC/AUC score: 0.999\n"
     ]
    }
   ],
   "source": [
    "print(\"TRAIN Scores\")\n",
    "print(f'Accuracy score: {round(accuracy_score(y_train, dt.predict(x_train)), 3)}')\n",
    "print(f'Precision score: {round(precision_score(y_pred=dt.predict(x_train), y_true=y_train),3)}')\n",
    "print(f'Recall score: {round(recall_score(y_pred=dt.predict(x_train), y_true=y_train),3)}')\n",
    "print(f'ROC/AUC score: {round(roc_auc_score(y_train, dt.predict_proba(x_train)[:,1]),3)}')"
   ]
  },
  {
   "cell_type": "markdown",
   "metadata": {
    "id": "4W6QJj-9NtK-"
   },
   "source": [
    "## Test Scores"
   ]
  },
  {
   "cell_type": "code",
   "execution_count": 78,
   "metadata": {
    "colab": {
     "base_uri": "https://localhost:8080/"
    },
    "id": "8BjixUW83tjg",
    "outputId": "466ed95c-2902-46d9-8613-bcb863347505"
   },
   "outputs": [
    {
     "name": "stdout",
     "output_type": "stream",
     "text": [
      "TEST\n",
      "Accuracy: 0.998\n",
      "Precision: 0.999\n",
      "Recall: 0.997\n",
      "ROC/AUC: 0.999\n"
     ]
    }
   ],
   "source": [
    "#get TEST Scores\n",
    "score = accuracy_score(y_test, dt.predict(x_test))\n",
    "#Precision score for test\n",
    "p_score = precision_score(dt.predict(x_test), y_test)\n",
    "#recall for test\n",
    "r_score = recall_score(dt.predict(x_test), y_test)\n",
    "#ROC/AUC \n",
    "roc_auc = roc_auc_score(y_test, dt.predict_proba(x_test)[:,1])\n",
    "\n",
    "print('TEST')\n",
    "print('Accuracy:',round(score,3))\n",
    "print('Precision:',round(p_score,3))\n",
    "print('Recall:',round(r_score,3))\n",
    "print('ROC/AUC:', round(roc_auc, 3))"
   ]
  },
  {
   "cell_type": "markdown",
   "metadata": {
    "id": "Y9HkNHoie3Dt"
   },
   "source": [
    "# 7 - XGBoost Classifier using Standard Scaler"
   ]
  },
  {
   "cell_type": "code",
   "execution_count": 79,
   "metadata": {
    "colab": {
     "base_uri": "https://localhost:8080/"
    },
    "id": "G-o8Gpm47sis",
    "outputId": "4e602b06-a911-4754-e157-8c7f98c2dc94"
   },
   "outputs": [
    {
     "data": {
      "text/plain": [
       "0.99996"
      ]
     },
     "execution_count": 79,
     "metadata": {},
     "output_type": "execute_result"
    }
   ],
   "source": [
    "# Init classifier\n",
    "xgb_cl = XGBClassifier()\n",
    "\n",
    "# Fit\n",
    "xgb_cl.fit(x_train, y_train)\n",
    "\n",
    "# Predict\n",
    "preds = xgb_cl.predict(x_test)\n",
    "\n",
    "# Score\n",
    "accuracy_score(y_test, preds)"
   ]
  },
  {
   "cell_type": "markdown",
   "metadata": {
    "id": "74MBiu8kNxNl"
   },
   "source": [
    "## Test Scores"
   ]
  },
  {
   "cell_type": "code",
   "execution_count": 80,
   "metadata": {
    "colab": {
     "base_uri": "https://localhost:8080/"
    },
    "id": "MVXPlX59LM-I",
    "outputId": "b34c9360-fe25-4996-bc39-9d4f3b7f3fe7"
   },
   "outputs": [
    {
     "name": "stdout",
     "output_type": "stream",
     "text": [
      "TEST\n",
      "Accuracy: 0.99996\n",
      "Precision: 0.99998\n",
      "Recall: 0.999940002399904\n",
      "ROC/AUC: 0.9999600000000001\n"
     ]
    }
   ],
   "source": [
    "#get TEST Scores\n",
    "score = accuracy_score(y_test, preds)\n",
    "#Precision score for test\n",
    "p_score = precision_score(preds, y_test)\n",
    "#recall for test\n",
    "r_score = recall_score(preds, y_test)\n",
    "#ROC/AUC \n",
    "roc_auc = roc_auc_score(y_test, preds)\n",
    "\n",
    "print('TEST')\n",
    "print('Accuracy:',score)\n",
    "print('Precision:',p_score)\n",
    "print('Recall:',r_score)\n",
    "print('ROC/AUC:', roc_auc)"
   ]
  },
  {
   "cell_type": "markdown",
   "metadata": {
    "id": "QsNVn67s8jJJ"
   },
   "source": [
    "#### Using GridSearchCV"
   ]
  },
  {
   "cell_type": "code",
   "execution_count": null,
   "metadata": {
    "id": "xiB_A-AP8lrH"
   },
   "outputs": [],
   "source": [
    "param_grid = {\n",
    "    \"max_depth\": [3, 4, 5, 7],\n",
    "    \"learning_rate\": [0.1, 0.01, 0.05],\n",
    "    \"gamma\": [0, 0.25, 1],\n",
    "    \"reg_lambda\": [0, 1, 10],\n",
    "    \"scale_pos_weight\": [1, 3, 5],\n",
    "    \"subsample\": [0.8],\n",
    "    \"colsample_bytree\": [0.5],\n",
    "}"
   ]
  },
  {
   "cell_type": "code",
   "execution_count": null,
   "metadata": {
    "id": "4SQymwvy8pC6"
   },
   "outputs": [],
   "source": [
    "# Init classifier\n",
    "xgb_cl = XGBClassifier(objective=\"binary:logistic\")\n",
    "\n",
    "# Init Grid Search\n",
    "grid_cv = GridSearchCV(xgb_cl, param_grid, n_jobs=-1, cv=3, scoring=\"roc_auc\")\n",
    "\n",
    "# Fit\n",
    "_ = grid_cv.fit(x_train, y_train)"
   ]
  },
  {
   "cell_type": "code",
   "execution_count": null,
   "metadata": {
    "id": "TA7Eb5mQvjL6"
   },
   "outputs": [],
   "source": [
    "# Init classifier with multi score params\n",
    "scoring = {\"AUC\": \"roc_auc\", \"Accuracy\": make_scorer(accuracy_score)}\n",
    "xgb_cl = XGBClassifier(objective=\"binary:logistic\")\n",
    "\n",
    "# Init Grid Search\n",
    "grid_cv = GridSearchCV(xgb_cl, param_grid, n_jobs=-1, cv=3, scoring=\"roc_auc\")\n",
    "\n",
    "# Fit\n",
    "_ = grid_cv.fit(x_train, y_train)"
   ]
  },
  {
   "cell_type": "code",
   "execution_count": null,
   "metadata": {
    "colab": {
     "base_uri": "https://localhost:8080/"
    },
    "id": "3t6VdQ9F9nO6",
    "outputId": "f5e732bd-474c-4bb4-b1b2-178bbf252cde"
   },
   "outputs": [
    {
     "data": {
      "text/plain": [
       "0.9993628579991647"
      ]
     },
     "execution_count": 148,
     "metadata": {},
     "output_type": "execute_result"
    }
   ],
   "source": [
    "grid_cv.best_score_"
   ]
  },
  {
   "cell_type": "code",
   "execution_count": null,
   "metadata": {
    "colab": {
     "base_uri": "https://localhost:8080/"
    },
    "id": "9FRYCOv29r60",
    "outputId": "d09b18e8-903a-431b-c459-97b134d63b20"
   },
   "outputs": [
    {
     "data": {
      "text/plain": [
       "{'colsample_bytree': 0.5,\n",
       " 'gamma': 0,\n",
       " 'learning_rate': 0.1,\n",
       " 'max_depth': 7,\n",
       " 'reg_lambda': 0,\n",
       " 'scale_pos_weight': 1,\n",
       " 'subsample': 0.8}"
      ]
     },
     "execution_count": 149,
     "metadata": {},
     "output_type": "execute_result"
    }
   ],
   "source": [
    "grid_cv.best_params_"
   ]
  },
  {
   "cell_type": "code",
   "execution_count": null,
   "metadata": {
    "id": "REWmidBsV2rU"
   },
   "outputs": [],
   "source": [
    "#save best params to param_grid\n",
    "param_grid[\"colsample_bytree\"] = [0.5]\n",
    "param_grid[\"gamma\"]= [0]\n",
    "param_grid[\"learning_rate\"] = [0.1]\n",
    "param_grid[\"max_depth\"]= [7]\n",
    "param_grid[\"reg_lambda\"]=[0]\n",
    "param_grid[\"scale_pos_weight\"]=[1]\n",
    "param_grid[\"subsample\"]= [0.8]"
   ]
  },
  {
   "cell_type": "code",
   "execution_count": null,
   "metadata": {
    "id": "9jTbvwALWlfX"
   },
   "outputs": [],
   "source": [
    "grid_cv_2 = GridSearchCV(xgb_cl, param_grid, n_jobs=-1, cv=3, scoring=\"roc_auc\")\n",
    "\n",
    "# Fit\n",
    "_ = grid_cv.fit(x_train, y_train)\n",
    "grid_cv_2.best_score_"
   ]
  },
  {
   "cell_type": "markdown",
   "metadata": {
    "id": "u_QmMHe8pdHB"
   },
   "source": [
    "Given the extensive training time needed for GridCV and the minimal improvement in already good performance metrics, we opted to just keep the hyperparamters set in the initial model."
   ]
  },
  {
   "cell_type": "markdown",
   "metadata": {
    "id": "Ttsx1Q13O-jB"
   },
   "source": [
    "# 8 - Final Summary"
   ]
  },
  {
   "cell_type": "markdown",
   "metadata": {
    "id": "H23Q_gJmO8cb"
   },
   "source": [
    "<style type=\"text/css\">\n",
    ".tg  {border-collapse:collapse;border-spacing:0;}\n",
    ".tg td{border-color:black;border-style:solid;border-width:1px;font-family:Arial, sans-serif;font-size:14px;\n",
    "  overflow:hidden;padding:10px 5px;word-break:normal;}\n",
    ".tg th{border-color:black;border-style:solid;border-width:1px;font-family:Arial, sans-serif;font-size:14px;\n",
    "  font-weight:normal;overflow:hidden;padding:10px 5px;word-break:normal;}\n",
    ".tg .tg-z0iz{background-color:#fffc9e;text-align:left;vertical-align:top}\n",
    ".tg .tg-1wig{font-weight:bold;text-align:left;vertical-align:top}\n",
    ".tg .tg-7ivu{background-color:#fffc9e;font-weight:bold;text-align:left;vertical-align:top}\n",
    ".tg .tg-0lax{text-align:left;vertical-align:top}\n",
    "</style>\n",
    "<table class=\"tg\">\n",
    "<thead>\n",
    "  <tr>\n",
    "    <th class=\"tg-1wig\">Models/Metrics</th>\n",
    "    <th class=\"tg-1wig\">LR</th>\n",
    "    <th class=\"tg-1wig\">Decision Tree</th>\n",
    "    <th class=\"tg-7ivu\">XGBoost</th>\n",
    "  </tr>\n",
    "</thead>\n",
    "<tbody>\n",
    "  <tr>\n",
    "    <td class=\"tg-1wig\">Accuracy</td>\n",
    "    <td class=\"tg-0lax\">0.993</td>\n",
    "    <td class=\"tg-0lax\">0.998</td>\n",
    "    <td class=\"tg-z0iz\">0.999</td>\n",
    "  </tr>\n",
    "  <tr>\n",
    "    <td class=\"tg-1wig\">Precision</td>\n",
    "    <td class=\"tg-0lax\">0.994</td>\n",
    "    <td class=\"tg-0lax\">0.999</td>\n",
    "    <td class=\"tg-z0iz\">0.999</td>\n",
    "  </tr>\n",
    "  <tr>\n",
    "    <td class=\"tg-1wig\">Recall</td>\n",
    "    <td class=\"tg-0lax\">0.992</td>\n",
    "    <td class=\"tg-0lax\">0.997</td>\n",
    "    <td class=\"tg-z0iz\">0.999</td>\n",
    "  </tr>\n",
    "  <tr>\n",
    "    <td class=\"tg-1wig\">ROC/AUC</td>\n",
    "    <td class=\"tg-0lax\">0.999</td>\n",
    "    <td class=\"tg-0lax\">0.999</td>\n",
    "    <td class=\"tg-z0iz\">0.999</td>\n",
    "  </tr>\n",
    "</tbody>\n",
    "</table>"
   ]
  }
 ],
 "metadata": {
  "colab": {
   "collapsed_sections": [
    "X5ep7lPR2vkV"
   ],
   "machine_shape": "hm",
   "provenance": []
  },
  "gpuClass": "standard",
  "kernelspec": {
   "display_name": "Python 3",
   "language": "python",
   "name": "python3"
  },
  "language_info": {
   "codemirror_mode": {
    "name": "ipython",
    "version": 3
   },
   "file_extension": ".py",
   "mimetype": "text/x-python",
   "name": "python",
   "nbconvert_exporter": "python",
   "pygments_lexer": "ipython3",
   "version": "3.8.5"
  }
 },
 "nbformat": 4,
 "nbformat_minor": 1
}
