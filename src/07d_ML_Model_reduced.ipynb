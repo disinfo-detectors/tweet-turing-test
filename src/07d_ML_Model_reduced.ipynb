{
  "nbformat": 4,
  "nbformat_minor": 0,
  "metadata": {
    "colab": {
      "provenance": [],
      "collapsed_sections": [
        "X5ep7lPR2vkV"
      ],
      "machine_shape": "hm"
    },
    "kernelspec": {
      "name": "python3",
      "display_name": "Python 3"
    },
    "language_info": {
      "name": "python"
    },
    "gpuClass": "standard"
  },
  "cells": [
    {
      "cell_type": "markdown",
      "source": [
        "# Tweet Turing Test: Detecting Disinformation on Twitter  \n",
        "\n",
        "|          | Group #2 - Disinformation Detectors                     |\n",
        "|---------:|---------------------------------------------------------|\n",
        "| Members  | John Johnson, Katy Matulay, Justin Minnion, Jared Rubin |\n",
        "| Notebook | `07d_ML_Model_reduced.ipynb`                        |\n",
        "| Purpose  | ML models                |\n",
        "\n",
        "This notebook contains the ML Models run against the reduced 15 features, using max possible tweets to train/test (3Million)."
      ],
      "metadata": {
        "id": "g7VHtVUuc0vp"
      }
    },
    {
      "cell_type": "markdown",
      "source": [
        "# 1 - Setup"
      ],
      "metadata": {
        "id": "4lOLSYwfc7sR"
      }
    },
    {
      "cell_type": "code",
      "execution_count": 1,
      "metadata": {
        "id": "5D7WCy1Ncr4J"
      },
      "outputs": [],
      "source": [
        "# imports from Python standard library\n",
        "\n",
        "# imports requiring installation\n",
        "#   connection to Google Cloud Storage\n",
        "from google.cloud import storage            # pip install google-cloud-storage\n",
        "from google.oauth2 import service_account   # pip install google-auth\n",
        "\n",
        "#  data science packages\n",
        "import numpy as np                          # pip install numpy\n",
        "import pandas as pd                         # pip install pandas"
      ]
    },
    {
      "cell_type": "code",
      "source": [
        "!pip install demoji\n",
        "import pandas as pd \n",
        "import os\n",
        "import numpy as np\n",
        "import matplotlib.pyplot as plt\n",
        "import demoji\n",
        "import seaborn as sns\n",
        "import nltk\n",
        "from datetime import date\n",
        "import regex as re\n",
        "import pyarrow"
      ],
      "metadata": {
        "colab": {
          "base_uri": "https://localhost:8080/"
        },
        "id": "A-mF29Z6c-GM",
        "outputId": "ed810ba7-caf9-4ad1-b244-ec50c55a9c07"
      },
      "execution_count": 2,
      "outputs": [
        {
          "output_type": "stream",
          "name": "stdout",
          "text": [
            "Looking in indexes: https://pypi.org/simple, https://us-python.pkg.dev/colab-wheels/public/simple/\n",
            "Collecting demoji\n",
            "  Downloading demoji-1.1.0-py3-none-any.whl (42 kB)\n",
            "\u001b[2K     \u001b[90m━━━━━━━━━━━━━━━━━━━━━━━━━━━━━━━━━━━━━━━━\u001b[0m \u001b[32m42.9/42.9 KB\u001b[0m \u001b[31m1.2 MB/s\u001b[0m eta \u001b[36m0:00:00\u001b[0m\n",
            "\u001b[?25hInstalling collected packages: demoji\n",
            "Successfully installed demoji-1.1.0\n"
          ]
        }
      ]
    },
    {
      "cell_type": "code",
      "source": [
        "#pipeline\n",
        "#!pip install sklearn\n",
        "from sklearn.model_selection import train_test_split\n",
        "from sklearn.pipeline import Pipeline\n",
        "from sklearn.compose import make_column_transformer\n",
        "from sklearn.preprocessing import StandardScaler\n",
        "from sklearn.preprocessing import MinMaxScaler, RobustScaler\n",
        "from sklearn.preprocessing import OneHotEncoder\n",
        "from sklearn.compose import ColumnTransformer\n",
        "from sklearn.feature_extraction.text import CountVectorizer, TfidfVectorizer, TfidfTransformer\n",
        "\n",
        "#models\n",
        "from sklearn.dummy import DummyClassifier\n",
        "from sklearn.linear_model import LogisticRegression\n",
        "from sklearn.tree import DecisionTreeClassifier\n",
        "from sklearn.neighbors import KNeighborsClassifier\n",
        "from sklearn.svm import SVC\n",
        "from xgboost import XGBClassifier\n",
        "\n",
        "#evaluation metrics\n",
        "from sklearn.metrics import precision_score, recall_score, f1_score\n",
        "from sklearn.metrics import accuracy_score\n",
        "from sklearn.metrics import confusion_matrix, ConfusionMatrixDisplay\n",
        "from sklearn.metrics import precision_score, recall_score\n",
        "from sklearn.metrics import f1_score\n",
        "from sklearn.metrics import precision_recall_curve\n",
        "from sklearn.metrics import roc_auc_score  \n",
        "from sklearn.model_selection import GridSearchCV\n",
        "from sklearn.metrics import make_scorer\n",
        "\n",
        "# feature selection\n",
        "from sklearn.feature_selection import SelectFromModel\n",
        "from sklearn.feature_selection import f_classif\n",
        "\n",
        "%matplotlib inline"
      ],
      "metadata": {
        "id": "W_fO2AQQ0FdN"
      },
      "execution_count": 3,
      "outputs": []
    },
    {
      "cell_type": "code",
      "source": [
        "#Colab Specific workflow - remove for github\n",
        "from google.colab import drive\n",
        "\n",
        "drive.mount('/content/gdrive')"
      ],
      "metadata": {
        "colab": {
          "base_uri": "https://localhost:8080/"
        },
        "id": "RNwYHRxNdBQK",
        "outputId": "dd85453f-341f-41ce-fcfa-e72668e77464"
      },
      "execution_count": 4,
      "outputs": [
        {
          "output_type": "stream",
          "name": "stdout",
          "text": [
            "Mounted at /content/gdrive\n"
          ]
        }
      ]
    },
    {
      "cell_type": "code",
      "source": [
        "# pandas options\n",
        "pd.set_option('display.max_colwidth', None)\n",
        "pd.set_option('display.max_columns', None)"
      ],
      "metadata": {
        "id": "CtEBu2cudEi4"
      },
      "execution_count": 5,
      "outputs": []
    },
    {
      "cell_type": "markdown",
      "source": [
        "## Local or Cloud?\n",
        "\n",
        "Decide here whether to run notebook with local data or GCP bucket data\n",
        " - if the working directory of this notebook has a \"../data/\" folder with data loaded (e.g. working on local computer or have data files loaded to a cloud VM) then use the \"local files\" option and comment out the \"gcp bucket files\" option\n",
        " - if this notebook is being run from a GCP VM (preferrably in the `us-central1` location) then use the \"gcp bucket files\" option and comment out the \"local files\" option"
      ],
      "metadata": {
        "id": "lkA4sJnhdKkD"
      }
    },
    {
      "cell_type": "code",
      "source": [
        "# option: local files\n",
        "local_or_cloud: str = \"local\"   # comment/uncomment this line or next\n",
        "\n",
        "# option: gcp bucket files\n",
        "#local_or_cloud: str = \"cloud\"   # comment/uncomment this line or previous\n",
        "\n",
        "# don't comment/uncomment for remainder of cell\n",
        "if (local_or_cloud == \"local\"):\n",
        "    data_paths = local_data_paths\n",
        "    snapshot_paths = local_snapshot_paths\n",
        "elif (local_or_cloud == \"cloud\"):\n",
        "    data_paths = gcp_data_paths\n",
        "    snapshot_paths = gcp_snapshot_paths\n",
        "else:\n",
        "    raise ValueError(\"Variable 'local_or_cloud' can only take on one of two values, 'local' or 'cloud'.\")\n",
        "    # subsequent cells will not do this final \"else\" check"
      ],
      "metadata": {
        "id": "RpUtpbuvdK_r"
      },
      "execution_count": null,
      "outputs": []
    },
    {
      "cell_type": "code",
      "source": [
        "# this cell only needs to run its code if local_or_cloud==\"cloud\"\n",
        "#   (though it is harmless if run when local_or_cloud==\"local\")\n",
        "gcp_storage_client: storage.Client = None\n",
        "gcp_bucket: storage.Bucket = None\n",
        "\n",
        "if (local_or_cloud == \"cloud\"):\n",
        "    gcp_storage_client = tur.get_gcp_storage_client(project_name=gcp_project_name, key_file=gcp_key_file)\n",
        "    gcp_bucket = tur.get_gcp_bucket(storage_client=gcp_storage_client, bucket_name=gcp_bucket_name)"
      ],
      "metadata": {
        "id": "ow-lSZGCdOH5"
      },
      "execution_count": null,
      "outputs": []
    },
    {
      "cell_type": "markdown",
      "source": [
        "## Load 06_Feature_Engineering Dataset English Tweets Only\n",
        "\n",
        "Full dataset, as prepared by `06_feature_engineering.ipynb`, will be loaded as \"`df`\"."
      ],
      "metadata": {
        "id": "bhGjNCUEdQlx"
      }
    },
    {
      "cell_type": "code",
      "source": [
        "#Colab Specific workflow - remove for github\n",
        "\n",
        "#Google Drive url for data file\n",
        "file_folder = '/content/gdrive/MyDrive/Grad School/DSCI592/data/'"
      ],
      "metadata": {
        "id": "97Z1egMLdaXb"
      },
      "execution_count": 6,
      "outputs": []
    },
    {
      "cell_type": "code",
      "source": [
        "df= pd.read_parquet(file_folder + '06data_final_en2.parquet.gz')"
      ],
      "metadata": {
        "id": "AV3Yby12dhJD"
      },
      "execution_count": 7,
      "outputs": []
    },
    {
      "cell_type": "code",
      "source": [
        "df.columns"
      ],
      "metadata": {
        "colab": {
          "base_uri": "https://localhost:8080/"
        },
        "id": "NQjo5JIXdos6",
        "outputId": "8f1729b7-dfc2-47e0-e250-96a580e7116b"
      },
      "execution_count": 8,
      "outputs": [
        {
          "output_type": "execute_result",
          "data": {
            "text/plain": [
              "Index(['following', 'followers', 'updates', 'is_retweet', 'has_url',\n",
              "       'emoji_count', 'following_ratio', 'class_numeric', 'RUS_lett_count',\n",
              "       'emoji_flagUS', 'emoji_police', 'emoji_check', 'emoji_exclamation',\n",
              "       'emoji_fist', 'emoji_collision', 'emoji_prohibited',\n",
              "       'emoji_loudcryface', 'emoji_smilinghearteye', 'emoji_fire',\n",
              "       'emoji_redheart', 'emoji_tearsjoy', 'emoji_thumbsup', 'emoji_claphands',\n",
              "       'emoji_blowingkiss', 'emoji_partypop', 'emoji_raisehands',\n",
              "       'region_United_States', 'region_Unknown', 'region_New_York_NY',\n",
              "       'region_United_Kingdom', 'region_Los_Angeles_CA', 'region_Boston_MA',\n",
              "       'region_London', 'region_New_York_and_the_World',\n",
              "       'region_New_York_City', 'region_Pale_Blue_Dot', 'region_Atlanta_GA',\n",
              "       'region_Australia', 'region_Global', 'region_Washington_DC',\n",
              "       'region_All_Other', 'multi_authors', 'num_dashes', 'num_commas',\n",
              "       'num_hashs', 'num_URLs', 'median_word_length', 'sentiment',\n",
              "       'emoji_sentiment', 'tweet_length'],\n",
              "      dtype='object')"
            ]
          },
          "metadata": {},
          "execution_count": 8
        }
      ]
    },
    {
      "cell_type": "code",
      "source": [
        "df['is_retweet']=df['is_retweet'].astype(int)"
      ],
      "metadata": {
        "id": "MrzI5d35U7p1"
      },
      "execution_count": 9,
      "outputs": []
    },
    {
      "cell_type": "code",
      "source": [
        "df.dtypes"
      ],
      "metadata": {
        "colab": {
          "base_uri": "https://localhost:8080/"
        },
        "id": "2IjlaWyUkF-J",
        "outputId": "245e41fe-0457-4461-fc92-531c7c6cd925"
      },
      "execution_count": 10,
      "outputs": [
        {
          "output_type": "execute_result",
          "data": {
            "text/plain": [
              "following                          int64\n",
              "followers                          int64\n",
              "updates                            int64\n",
              "is_retweet                         int64\n",
              "has_url                            int64\n",
              "emoji_count                        int64\n",
              "following_ratio                  float64\n",
              "class_numeric                       int8\n",
              "RUS_lett_count                     int64\n",
              "emoji_flagUS                       int64\n",
              "emoji_police                       int64\n",
              "emoji_check                        int64\n",
              "emoji_exclamation                  int64\n",
              "emoji_fist                         int64\n",
              "emoji_collision                    int64\n",
              "emoji_prohibited                   int64\n",
              "emoji_loudcryface                  int64\n",
              "emoji_smilinghearteye              int64\n",
              "emoji_fire                         int64\n",
              "emoji_redheart                     int64\n",
              "emoji_tearsjoy                     int64\n",
              "emoji_thumbsup                     int64\n",
              "emoji_claphands                    int64\n",
              "emoji_blowingkiss                  int64\n",
              "emoji_partypop                     int64\n",
              "emoji_raisehands                   int64\n",
              "region_United_States               int64\n",
              "region_Unknown                     int64\n",
              "region_New_York_NY                 int64\n",
              "region_United_Kingdom              int64\n",
              "region_Los_Angeles_CA              int64\n",
              "region_Boston_MA                   int64\n",
              "region_London                      int64\n",
              "region_New_York_and_the_World      int64\n",
              "region_New_York_City               int64\n",
              "region_Pale_Blue_Dot               int64\n",
              "region_Atlanta_GA                  int64\n",
              "region_Australia                   int64\n",
              "region_Global                      int64\n",
              "region_Washington_DC               int64\n",
              "region_All_Other                   int64\n",
              "multi_authors                      int64\n",
              "num_dashes                         int64\n",
              "num_commas                         int64\n",
              "num_hashs                          int64\n",
              "num_URLs                           int64\n",
              "median_word_length               float64\n",
              "sentiment                        float64\n",
              "emoji_sentiment                  float64\n",
              "tweet_length                       int64\n",
              "dtype: object"
            ]
          },
          "metadata": {},
          "execution_count": 10
        }
      ]
    },
    {
      "cell_type": "markdown",
      "source": [
        "# 2 - Downsampling and Test Train Split"
      ],
      "metadata": {
        "id": "zTd9il6pl3at"
      }
    },
    {
      "cell_type": "markdown",
      "source": [
        "## 3 Million Tweet subset"
      ],
      "metadata": {
        "id": "D0Yhx-RPyp0k"
      }
    },
    {
      "cell_type": "markdown",
      "source": [
        "Given the total dataset size and class split, we downsampled to use 1.5 Million tweets from each class."
      ],
      "metadata": {
        "id": "npHVtb1aAxSM"
      }
    },
    {
      "cell_type": "code",
      "source": [
        "df['class_numeric'].value_counts()"
      ],
      "metadata": {
        "colab": {
          "base_uri": "https://localhost:8080/"
        },
        "id": "8M506_0WmDiE",
        "outputId": "60a20fda-cacf-4383-e90d-8346dfd401fb"
      },
      "execution_count": 10,
      "outputs": [
        {
          "output_type": "execute_result",
          "data": {
            "text/plain": [
              "1    2090304\n",
              "0    1506274\n",
              "Name: class_numeric, dtype: int64"
            ]
          },
          "metadata": {},
          "execution_count": 10
        }
      ]
    },
    {
      "cell_type": "code",
      "source": [
        "df_sample3M = df.groupby('class_numeric', group_keys=False).apply(lambda x: x.sample(1500000, random_state = 42))"
      ],
      "metadata": {
        "id": "t0IykI6hmDhC"
      },
      "execution_count": 30,
      "outputs": []
    },
    {
      "cell_type": "code",
      "source": [
        "BYTES_PER_GIGABYTE = 10**9  # using IEC-recommended conversion; https://en.wikipedia.org/wiki/Gigabyte#Base_10_(decimal)\n",
        "\n",
        "df_full_size_gb = df.memory_usage(deep=True).sum() / BYTES_PER_GIGABYTE\n",
        "df_size_gb = df_sample3M.memory_usage(deep=True).sum() / BYTES_PER_GIGABYTE\n",
        "\n",
        "print(f\"Full dataframe size:\\t{df_full_size_gb:8.2f} GB\")\n",
        "print(f\"Sampled dataframe size:\\t{df_size_gb:8.2f} GB\\n\")\n",
        "\n",
        "print(f\"Full dataframe rows:\\t{len(df.index):>11,}\")\n",
        "print(f\"Sampled dataframe rows:\\t{len(df_sample3M.index):>11,}\\n\")\n",
        "\n",
        "class_split_full = [f\"{x*100:0.1f}%\" for x in df['class_numeric'].value_counts().div(len(df.index)).tolist()]\n",
        "class_split_samp = [f\"{x*100:0.1f}%\" for x in df_sample3M['class_numeric'].value_counts().div(len(df_sample3M.index)).tolist()]\n",
        "\n",
        "print(f\"Full df class split:\\t{class_split_full}\")\n",
        "print(f\"Sampled df class split:\\t{class_split_samp}\\n\")"
      ],
      "metadata": {
        "colab": {
          "base_uri": "https://localhost:8080/"
        },
        "id": "YM6mocFGphXx",
        "outputId": "47dea5bf-6ea9-4473-83e1-ff921b4465f0"
      },
      "execution_count": 16,
      "outputs": [
        {
          "output_type": "stream",
          "name": "stdout",
          "text": [
            "Full dataframe size:\t    1.41 GB\n",
            "Sampled dataframe size:\t    1.20 GB\n",
            "\n",
            "Full dataframe rows:\t  3,596,578\n",
            "Sampled dataframe rows:\t  3,000,000\n",
            "\n",
            "Full df class split:\t['58.1%', '41.9%']\n",
            "Sampled df class split:\t['50.0%', '50.0%']\n",
            "\n"
          ]
        }
      ]
    },
    {
      "cell_type": "markdown",
      "source": [
        "#### Removing select features from dataset to reduce dimensionality based on coefficients, correlation, and f-scores:\n",
        "- followers  (retaining following ratio)\n",
        "- following  (retaining following ratio)\n",
        "- regions    (retaining Unknown region)\n",
        "- emojis     (retaining emoji count)\n",
        "- has url   (retaining num URLs)"
      ],
      "metadata": {
        "id": "ZZPu1xSHv3Ns"
      }
    },
    {
      "cell_type": "code",
      "source": [
        "df_sample3M_new =df_sample3M.drop(columns = ['following','followers','region_United_States','region_New_York_NY',\n",
        "                            'region_United_Kingdom', 'region_Los_Angeles_CA', 'region_Boston_MA',\n",
        "                            'region_London', 'region_New_York_and_the_World',\n",
        "                            'region_New_York_City', 'region_Pale_Blue_Dot', 'region_Atlanta_GA',\n",
        "                            'region_Australia', 'region_Global', 'region_Washington_DC',\n",
        "                            'region_All_Other','emoji_flagUS', 'emoji_police',\n",
        "                            'emoji_check', 'emoji_exclamation', 'emoji_fist', 'emoji_collision',\n",
        "                            'emoji_prohibited', 'emoji_loudcryface', 'emoji_smilinghearteye',\n",
        "                            'emoji_fire', 'emoji_redheart', 'emoji_tearsjoy', 'emoji_thumbsup',\n",
        "                            'emoji_claphands', 'emoji_blowingkiss', 'emoji_partypop',\n",
        "                            'emoji_raisehands','has_url'], axis =1)\n",
        "\n",
        "df_sample3M = df_sample3M_new"
      ],
      "metadata": {
        "id": "zynmhBNl1B-D"
      },
      "execution_count": 33,
      "outputs": []
    },
    {
      "cell_type": "code",
      "source": [
        "df_sample3M.columns"
      ],
      "metadata": {
        "colab": {
          "base_uri": "https://localhost:8080/"
        },
        "id": "FhWR6oio2h_C",
        "outputId": "940516d7-b91d-402d-cfb6-90625e1a4245"
      },
      "execution_count": 34,
      "outputs": [
        {
          "output_type": "execute_result",
          "data": {
            "text/plain": [
              "Index(['updates', 'is_retweet', 'emoji_count', 'following_ratio',\n",
              "       'class_numeric', 'RUS_lett_count', 'region_Unknown', 'multi_authors',\n",
              "       'num_dashes', 'num_commas', 'num_hashs', 'num_URLs',\n",
              "       'median_word_length', 'sentiment', 'emoji_sentiment', 'tweet_length'],\n",
              "      dtype='object')"
            ]
          },
          "metadata": {},
          "execution_count": 34
        }
      ]
    },
    {
      "cell_type": "code",
      "source": [
        "df_sample3M.shape"
      ],
      "metadata": {
        "colab": {
          "base_uri": "https://localhost:8080/"
        },
        "id": "JMfcHsBX1q5-",
        "outputId": "00d7e075-9819-4358-f0ed-230519db8742"
      },
      "execution_count": 37,
      "outputs": [
        {
          "output_type": "execute_result",
          "data": {
            "text/plain": [
              "(3000000, 16)"
            ]
          },
          "metadata": {},
          "execution_count": 37
        }
      ]
    },
    {
      "cell_type": "code",
      "source": [
        "target = ['class_numeric']\n",
        "columns_without_target = list(df_sample3M[df_sample3M.columns.difference(target)])\n",
        "x_df = df_sample3M[columns_without_target]\n",
        "y_df = df_sample3M['class_numeric']"
      ],
      "metadata": {
        "id": "oZgkPATwpxgJ"
      },
      "execution_count": 36,
      "outputs": []
    },
    {
      "cell_type": "markdown",
      "source": [
        "## Create train test split 80/20"
      ],
      "metadata": {
        "id": "v92XoBz0lUqM"
      }
    },
    {
      "cell_type": "code",
      "source": [
        "#with stratify\n",
        "x_train, x_test, y_train, y_test = train_test_split(x_df, y_df, test_size=0.2, shuffle= True, stratify= y_df, random_state=46) "
      ],
      "metadata": {
        "id": "sUsVKPxzZz93"
      },
      "execution_count": 38,
      "outputs": []
    },
    {
      "cell_type": "code",
      "source": [
        "#without stratify\n",
        "#x_train, x_test, y_train, y_test = train_test_split(x_df, y_df, test_size=0.2, shuffle= True, random_state=46) "
      ],
      "metadata": {
        "id": "NaRIBLWm1rvO"
      },
      "execution_count": null,
      "outputs": []
    },
    {
      "cell_type": "code",
      "source": [
        "x_train.shape"
      ],
      "metadata": {
        "colab": {
          "base_uri": "https://localhost:8080/"
        },
        "id": "w2RTesIOaQBo",
        "outputId": "0b91d476-84e2-4c86-b489-cee8e77afd6b"
      },
      "execution_count": 39,
      "outputs": [
        {
          "output_type": "execute_result",
          "data": {
            "text/plain": [
              "(2400000, 15)"
            ]
          },
          "metadata": {},
          "execution_count": 39
        }
      ]
    },
    {
      "cell_type": "code",
      "source": [
        "x_test.shape"
      ],
      "metadata": {
        "colab": {
          "base_uri": "https://localhost:8080/"
        },
        "id": "SPdwnamgDpEt",
        "outputId": "f0ee71b8-3069-4dab-d27a-25546a0d99e7"
      },
      "execution_count": 40,
      "outputs": [
        {
          "output_type": "execute_result",
          "data": {
            "text/plain": [
              "(600000, 15)"
            ]
          },
          "metadata": {},
          "execution_count": 40
        }
      ]
    },
    {
      "cell_type": "code",
      "source": [
        "x_train.describe()"
      ],
      "metadata": {
        "colab": {
          "base_uri": "https://localhost:8080/",
          "height": 399
        },
        "id": "qlKT-e5zdObq",
        "outputId": "59e82daf-6063-472d-85ed-74b3bd6fc269"
      },
      "execution_count": 41,
      "outputs": [
        {
          "output_type": "execute_result",
          "data": {
            "text/plain": [
              "       RUS_lett_count   emoji_count  emoji_sentiment  following_ratio  \\\n",
              "count    2.400000e+06  2.400000e+06     2.400000e+06     2.400000e+06   \n",
              "mean     7.462500e-04  6.940458e-02     6.700219e-03     7.870880e-01   \n",
              "std      1.214044e-01  5.687789e-01     7.755704e-02     4.730961e+00   \n",
              "min      0.000000e+00  0.000000e+00    -9.997000e-01     0.000000e+00   \n",
              "25%      0.000000e+00  0.000000e+00     0.000000e+00     7.483137e-03   \n",
              "50%      0.000000e+00  0.000000e+00     0.000000e+00     2.604833e-01   \n",
              "75%      0.000000e+00  0.000000e+00     0.000000e+00     8.759494e-01   \n",
              "max      9.900000e+01  1.210000e+02     9.998000e-01     1.010000e+03   \n",
              "\n",
              "         is_retweet  median_word_length  multi_authors      num_URLs  \\\n",
              "count  2.400000e+06        2.400000e+06   2.400000e+06  2.400000e+06   \n",
              "mean   3.162104e-01        4.413008e+00   6.583667e-02  8.076942e-01   \n",
              "std    4.649962e-01        1.094589e+00   2.479964e-01  7.335027e-01   \n",
              "min    0.000000e+00        0.000000e+00   0.000000e+00  0.000000e+00   \n",
              "25%    0.000000e+00        4.000000e+00   0.000000e+00  0.000000e+00   \n",
              "50%    0.000000e+00        4.000000e+00   0.000000e+00  1.000000e+00   \n",
              "75%    1.000000e+00        5.000000e+00   0.000000e+00  1.000000e+00   \n",
              "max    1.000000e+00        3.900000e+01   1.000000e+00  6.000000e+00   \n",
              "\n",
              "         num_commas    num_dashes     num_hashs  region_Unknown     sentiment  \\\n",
              "count  2.400000e+06  2.400000e+06  2.400000e+06    2.400000e+06  2.400000e+06   \n",
              "mean   3.168238e-01  1.910046e-01  5.536825e-01    1.144767e-01  5.281044e-02   \n",
              "std    6.583496e-01  5.334060e-01  9.316094e-01    3.183894e-01  4.306975e-01   \n",
              "min    0.000000e+00  0.000000e+00  0.000000e+00    0.000000e+00 -9.890000e-01   \n",
              "25%    0.000000e+00  0.000000e+00  0.000000e+00    0.000000e+00 -2.023000e-01   \n",
              "50%    0.000000e+00  0.000000e+00  0.000000e+00    0.000000e+00  0.000000e+00   \n",
              "75%    0.000000e+00  0.000000e+00  1.000000e+00    0.000000e+00  4.019000e-01   \n",
              "max    3.000000e+01  9.800000e+01  3.500000e+01    1.000000e+00  9.991000e-01   \n",
              "\n",
              "       tweet_length       updates  \n",
              "count  2.400000e+06  2.400000e+06  \n",
              "mean   7.487039e+01  5.920852e+03  \n",
              "std    3.136801e+01  1.910052e+04  \n",
              "min    0.000000e+00  0.000000e+00  \n",
              "25%    5.300000e+01  5.000000e+00  \n",
              "50%    7.200000e+01  4.010000e+02  \n",
              "75%    9.700000e+01  4.922000e+03  \n",
              "max    2.940000e+02  3.062789e+06  "
            ],
            "text/html": [
              "\n",
              "  <div id=\"df-9093a244-3670-4b0a-b075-485ccdc45ed9\">\n",
              "    <div class=\"colab-df-container\">\n",
              "      <div>\n",
              "<style scoped>\n",
              "    .dataframe tbody tr th:only-of-type {\n",
              "        vertical-align: middle;\n",
              "    }\n",
              "\n",
              "    .dataframe tbody tr th {\n",
              "        vertical-align: top;\n",
              "    }\n",
              "\n",
              "    .dataframe thead th {\n",
              "        text-align: right;\n",
              "    }\n",
              "</style>\n",
              "<table border=\"1\" class=\"dataframe\">\n",
              "  <thead>\n",
              "    <tr style=\"text-align: right;\">\n",
              "      <th></th>\n",
              "      <th>RUS_lett_count</th>\n",
              "      <th>emoji_count</th>\n",
              "      <th>emoji_sentiment</th>\n",
              "      <th>following_ratio</th>\n",
              "      <th>is_retweet</th>\n",
              "      <th>median_word_length</th>\n",
              "      <th>multi_authors</th>\n",
              "      <th>num_URLs</th>\n",
              "      <th>num_commas</th>\n",
              "      <th>num_dashes</th>\n",
              "      <th>num_hashs</th>\n",
              "      <th>region_Unknown</th>\n",
              "      <th>sentiment</th>\n",
              "      <th>tweet_length</th>\n",
              "      <th>updates</th>\n",
              "    </tr>\n",
              "  </thead>\n",
              "  <tbody>\n",
              "    <tr>\n",
              "      <th>count</th>\n",
              "      <td>2.400000e+06</td>\n",
              "      <td>2.400000e+06</td>\n",
              "      <td>2.400000e+06</td>\n",
              "      <td>2.400000e+06</td>\n",
              "      <td>2.400000e+06</td>\n",
              "      <td>2.400000e+06</td>\n",
              "      <td>2.400000e+06</td>\n",
              "      <td>2.400000e+06</td>\n",
              "      <td>2.400000e+06</td>\n",
              "      <td>2.400000e+06</td>\n",
              "      <td>2.400000e+06</td>\n",
              "      <td>2.400000e+06</td>\n",
              "      <td>2.400000e+06</td>\n",
              "      <td>2.400000e+06</td>\n",
              "      <td>2.400000e+06</td>\n",
              "    </tr>\n",
              "    <tr>\n",
              "      <th>mean</th>\n",
              "      <td>7.462500e-04</td>\n",
              "      <td>6.940458e-02</td>\n",
              "      <td>6.700219e-03</td>\n",
              "      <td>7.870880e-01</td>\n",
              "      <td>3.162104e-01</td>\n",
              "      <td>4.413008e+00</td>\n",
              "      <td>6.583667e-02</td>\n",
              "      <td>8.076942e-01</td>\n",
              "      <td>3.168238e-01</td>\n",
              "      <td>1.910046e-01</td>\n",
              "      <td>5.536825e-01</td>\n",
              "      <td>1.144767e-01</td>\n",
              "      <td>5.281044e-02</td>\n",
              "      <td>7.487039e+01</td>\n",
              "      <td>5.920852e+03</td>\n",
              "    </tr>\n",
              "    <tr>\n",
              "      <th>std</th>\n",
              "      <td>1.214044e-01</td>\n",
              "      <td>5.687789e-01</td>\n",
              "      <td>7.755704e-02</td>\n",
              "      <td>4.730961e+00</td>\n",
              "      <td>4.649962e-01</td>\n",
              "      <td>1.094589e+00</td>\n",
              "      <td>2.479964e-01</td>\n",
              "      <td>7.335027e-01</td>\n",
              "      <td>6.583496e-01</td>\n",
              "      <td>5.334060e-01</td>\n",
              "      <td>9.316094e-01</td>\n",
              "      <td>3.183894e-01</td>\n",
              "      <td>4.306975e-01</td>\n",
              "      <td>3.136801e+01</td>\n",
              "      <td>1.910052e+04</td>\n",
              "    </tr>\n",
              "    <tr>\n",
              "      <th>min</th>\n",
              "      <td>0.000000e+00</td>\n",
              "      <td>0.000000e+00</td>\n",
              "      <td>-9.997000e-01</td>\n",
              "      <td>0.000000e+00</td>\n",
              "      <td>0.000000e+00</td>\n",
              "      <td>0.000000e+00</td>\n",
              "      <td>0.000000e+00</td>\n",
              "      <td>0.000000e+00</td>\n",
              "      <td>0.000000e+00</td>\n",
              "      <td>0.000000e+00</td>\n",
              "      <td>0.000000e+00</td>\n",
              "      <td>0.000000e+00</td>\n",
              "      <td>-9.890000e-01</td>\n",
              "      <td>0.000000e+00</td>\n",
              "      <td>0.000000e+00</td>\n",
              "    </tr>\n",
              "    <tr>\n",
              "      <th>25%</th>\n",
              "      <td>0.000000e+00</td>\n",
              "      <td>0.000000e+00</td>\n",
              "      <td>0.000000e+00</td>\n",
              "      <td>7.483137e-03</td>\n",
              "      <td>0.000000e+00</td>\n",
              "      <td>4.000000e+00</td>\n",
              "      <td>0.000000e+00</td>\n",
              "      <td>0.000000e+00</td>\n",
              "      <td>0.000000e+00</td>\n",
              "      <td>0.000000e+00</td>\n",
              "      <td>0.000000e+00</td>\n",
              "      <td>0.000000e+00</td>\n",
              "      <td>-2.023000e-01</td>\n",
              "      <td>5.300000e+01</td>\n",
              "      <td>5.000000e+00</td>\n",
              "    </tr>\n",
              "    <tr>\n",
              "      <th>50%</th>\n",
              "      <td>0.000000e+00</td>\n",
              "      <td>0.000000e+00</td>\n",
              "      <td>0.000000e+00</td>\n",
              "      <td>2.604833e-01</td>\n",
              "      <td>0.000000e+00</td>\n",
              "      <td>4.000000e+00</td>\n",
              "      <td>0.000000e+00</td>\n",
              "      <td>1.000000e+00</td>\n",
              "      <td>0.000000e+00</td>\n",
              "      <td>0.000000e+00</td>\n",
              "      <td>0.000000e+00</td>\n",
              "      <td>0.000000e+00</td>\n",
              "      <td>0.000000e+00</td>\n",
              "      <td>7.200000e+01</td>\n",
              "      <td>4.010000e+02</td>\n",
              "    </tr>\n",
              "    <tr>\n",
              "      <th>75%</th>\n",
              "      <td>0.000000e+00</td>\n",
              "      <td>0.000000e+00</td>\n",
              "      <td>0.000000e+00</td>\n",
              "      <td>8.759494e-01</td>\n",
              "      <td>1.000000e+00</td>\n",
              "      <td>5.000000e+00</td>\n",
              "      <td>0.000000e+00</td>\n",
              "      <td>1.000000e+00</td>\n",
              "      <td>0.000000e+00</td>\n",
              "      <td>0.000000e+00</td>\n",
              "      <td>1.000000e+00</td>\n",
              "      <td>0.000000e+00</td>\n",
              "      <td>4.019000e-01</td>\n",
              "      <td>9.700000e+01</td>\n",
              "      <td>4.922000e+03</td>\n",
              "    </tr>\n",
              "    <tr>\n",
              "      <th>max</th>\n",
              "      <td>9.900000e+01</td>\n",
              "      <td>1.210000e+02</td>\n",
              "      <td>9.998000e-01</td>\n",
              "      <td>1.010000e+03</td>\n",
              "      <td>1.000000e+00</td>\n",
              "      <td>3.900000e+01</td>\n",
              "      <td>1.000000e+00</td>\n",
              "      <td>6.000000e+00</td>\n",
              "      <td>3.000000e+01</td>\n",
              "      <td>9.800000e+01</td>\n",
              "      <td>3.500000e+01</td>\n",
              "      <td>1.000000e+00</td>\n",
              "      <td>9.991000e-01</td>\n",
              "      <td>2.940000e+02</td>\n",
              "      <td>3.062789e+06</td>\n",
              "    </tr>\n",
              "  </tbody>\n",
              "</table>\n",
              "</div>\n",
              "      <button class=\"colab-df-convert\" onclick=\"convertToInteractive('df-9093a244-3670-4b0a-b075-485ccdc45ed9')\"\n",
              "              title=\"Convert this dataframe to an interactive table.\"\n",
              "              style=\"display:none;\">\n",
              "        \n",
              "  <svg xmlns=\"http://www.w3.org/2000/svg\" height=\"24px\"viewBox=\"0 0 24 24\"\n",
              "       width=\"24px\">\n",
              "    <path d=\"M0 0h24v24H0V0z\" fill=\"none\"/>\n",
              "    <path d=\"M18.56 5.44l.94 2.06.94-2.06 2.06-.94-2.06-.94-.94-2.06-.94 2.06-2.06.94zm-11 1L8.5 8.5l.94-2.06 2.06-.94-2.06-.94L8.5 2.5l-.94 2.06-2.06.94zm10 10l.94 2.06.94-2.06 2.06-.94-2.06-.94-.94-2.06-.94 2.06-2.06.94z\"/><path d=\"M17.41 7.96l-1.37-1.37c-.4-.4-.92-.59-1.43-.59-.52 0-1.04.2-1.43.59L10.3 9.45l-7.72 7.72c-.78.78-.78 2.05 0 2.83L4 21.41c.39.39.9.59 1.41.59.51 0 1.02-.2 1.41-.59l7.78-7.78 2.81-2.81c.8-.78.8-2.07 0-2.86zM5.41 20L4 18.59l7.72-7.72 1.47 1.35L5.41 20z\"/>\n",
              "  </svg>\n",
              "      </button>\n",
              "      \n",
              "  <style>\n",
              "    .colab-df-container {\n",
              "      display:flex;\n",
              "      flex-wrap:wrap;\n",
              "      gap: 12px;\n",
              "    }\n",
              "\n",
              "    .colab-df-convert {\n",
              "      background-color: #E8F0FE;\n",
              "      border: none;\n",
              "      border-radius: 50%;\n",
              "      cursor: pointer;\n",
              "      display: none;\n",
              "      fill: #1967D2;\n",
              "      height: 32px;\n",
              "      padding: 0 0 0 0;\n",
              "      width: 32px;\n",
              "    }\n",
              "\n",
              "    .colab-df-convert:hover {\n",
              "      background-color: #E2EBFA;\n",
              "      box-shadow: 0px 1px 2px rgba(60, 64, 67, 0.3), 0px 1px 3px 1px rgba(60, 64, 67, 0.15);\n",
              "      fill: #174EA6;\n",
              "    }\n",
              "\n",
              "    [theme=dark] .colab-df-convert {\n",
              "      background-color: #3B4455;\n",
              "      fill: #D2E3FC;\n",
              "    }\n",
              "\n",
              "    [theme=dark] .colab-df-convert:hover {\n",
              "      background-color: #434B5C;\n",
              "      box-shadow: 0px 1px 3px 1px rgba(0, 0, 0, 0.15);\n",
              "      filter: drop-shadow(0px 1px 2px rgba(0, 0, 0, 0.3));\n",
              "      fill: #FFFFFF;\n",
              "    }\n",
              "  </style>\n",
              "\n",
              "      <script>\n",
              "        const buttonEl =\n",
              "          document.querySelector('#df-9093a244-3670-4b0a-b075-485ccdc45ed9 button.colab-df-convert');\n",
              "        buttonEl.style.display =\n",
              "          google.colab.kernel.accessAllowed ? 'block' : 'none';\n",
              "\n",
              "        async function convertToInteractive(key) {\n",
              "          const element = document.querySelector('#df-9093a244-3670-4b0a-b075-485ccdc45ed9');\n",
              "          const dataTable =\n",
              "            await google.colab.kernel.invokeFunction('convertToInteractive',\n",
              "                                                     [key], {});\n",
              "          if (!dataTable) return;\n",
              "\n",
              "          const docLinkHtml = 'Like what you see? Visit the ' +\n",
              "            '<a target=\"_blank\" href=https://colab.research.google.com/notebooks/data_table.ipynb>data table notebook</a>'\n",
              "            + ' to learn more about interactive tables.';\n",
              "          element.innerHTML = '';\n",
              "          dataTable['output_type'] = 'display_data';\n",
              "          await google.colab.output.renderOutput(dataTable, element);\n",
              "          const docLink = document.createElement('div');\n",
              "          docLink.innerHTML = docLinkHtml;\n",
              "          element.appendChild(docLink);\n",
              "        }\n",
              "      </script>\n",
              "    </div>\n",
              "  </div>\n",
              "  "
            ]
          },
          "metadata": {},
          "execution_count": 41
        }
      ]
    },
    {
      "cell_type": "markdown",
      "source": [
        "# 3- Sklearn Pipelines for Normalization"
      ],
      "metadata": {
        "id": "vvPofhAyAqBM"
      }
    },
    {
      "cell_type": "markdown",
      "source": [
        "#### **StandardScaler Pipeline** (preferred)"
      ],
      "metadata": {
        "id": "kl2oc1i22x8-"
      }
    },
    {
      "cell_type": "code",
      "source": [
        "#pipeline for StandardScaler\n",
        "full_pipeline2 = make_column_transformer(\n",
        "    (StandardScaler(), columns_without_target),\n",
        "    remainder='passthrough', verbose_feature_names_out=False,\n",
        "        sparse_threshold=0)"
      ],
      "metadata": {
        "id": "Vp0SlmNZ2cU9"
      },
      "execution_count": 42,
      "outputs": []
    },
    {
      "cell_type": "code",
      "source": [
        "#apply fit_transform on x_train\n",
        "x_train = pd.DataFrame(full_pipeline2.fit_transform(x_train),columns=full_pipeline2.get_feature_names_out())"
      ],
      "metadata": {
        "id": "tR7_1nhh2nnR"
      },
      "execution_count": 43,
      "outputs": []
    },
    {
      "cell_type": "code",
      "source": [
        "#transform x_test\n",
        "x_test = pd.DataFrame(full_pipeline2.transform(x_test), columns= full_pipeline2.get_feature_names_out())"
      ],
      "metadata": {
        "id": "bSm7pCQs2u0f"
      },
      "execution_count": 44,
      "outputs": []
    },
    {
      "cell_type": "code",
      "source": [
        "x_train.describe()"
      ],
      "metadata": {
        "colab": {
          "base_uri": "https://localhost:8080/",
          "height": 451
        },
        "id": "VW3Q_SrI4Zz_",
        "outputId": "efd1294a-6c77-40d3-b3d8-e529acea0cca"
      },
      "execution_count": 45,
      "outputs": [
        {
          "output_type": "execute_result",
          "data": {
            "text/plain": [
              "       RUS_lett_count   emoji_count  emoji_sentiment  following_ratio  \\\n",
              "count    2.400000e+06  2.400000e+06     2.400000e+06     2.400000e+06   \n",
              "mean     2.353673e-18  6.714629e-18     3.076354e-17    -1.375226e-16   \n",
              "std      1.000000e+00  1.000000e+00     1.000000e+00     1.000000e+00   \n",
              "min     -6.146812e-03 -1.220239e-01    -1.297626e+01    -1.663696e-01   \n",
              "25%     -6.146812e-03 -1.220239e-01    -8.639088e-02    -1.647879e-01   \n",
              "50%     -6.146812e-03 -1.220239e-01    -8.639088e-02    -1.113103e-01   \n",
              "75%     -6.146812e-03 -1.220239e-01    -8.639088e-02     1.878295e-02   \n",
              "max      8.154503e+02  2.126145e+02     1.280477e+01     2.133210e+02   \n",
              "\n",
              "         is_retweet  median_word_length  multi_authors      num_URLs  \\\n",
              "count  2.400000e+06        2.400000e+06   2.400000e+06  2.400000e+06   \n",
              "mean  -2.093437e-17        1.727389e-16   2.926844e-17 -7.405040e-17   \n",
              "std    1.000000e+00        1.000000e+00   1.000000e+00  1.000000e+00   \n",
              "min   -6.800281e-01       -4.031658e+00  -2.654743e-01 -1.101147e+00   \n",
              "25%   -6.800281e-01       -3.773179e-01  -2.654743e-01 -1.101147e+00   \n",
              "50%   -6.800281e-01       -3.773179e-01  -2.654743e-01  2.621747e-01   \n",
              "75%    1.470528e+00        5.362672e-01  -2.654743e-01  2.621747e-01   \n",
              "max    1.470528e+00        3.159816e+01   3.766843e+00  7.078784e+00   \n",
              "\n",
              "         num_commas    num_dashes     num_hashs  region_Unknown     sentiment  \\\n",
              "count  2.400000e+06  2.400000e+06  2.400000e+06    2.400000e+06  2.400000e+06   \n",
              "mean  -1.925571e-17 -1.473784e-17  1.230838e-16    7.327472e-18  8.696451e-17   \n",
              "std    1.000000e+00  1.000000e+00  1.000000e+00    1.000000e+00  1.000000e+00   \n",
              "min   -4.812395e-01 -3.580849e-01 -5.943291e-01   -3.595493e-01 -2.418892e+00   \n",
              "25%   -4.812395e-01 -3.580849e-01 -5.943291e-01   -3.595493e-01 -5.923194e-01   \n",
              "50%   -4.812395e-01 -3.580849e-01 -5.943291e-01   -3.595493e-01 -1.226161e-01   \n",
              "75%   -4.812395e-01 -3.580849e-01  4.790823e-01   -3.595493e-01  8.105215e-01   \n",
              "max    4.508727e+01  1.833669e+02  3.697507e+01    2.781260e+00  2.197110e+00   \n",
              "\n",
              "       tweet_length       updates  \n",
              "count  2.400000e+06  2.400000e+06  \n",
              "mean   2.209018e-16  1.776357e-20  \n",
              "std    1.000000e+00  1.000000e+00  \n",
              "min   -2.386839e+00 -3.099839e-01  \n",
              "25%   -6.972197e-01 -3.097221e-01  \n",
              "50%   -9.150702e-02 -2.889897e-01  \n",
              "75%    7.054834e-01 -5.229449e-02  \n",
              "max    6.985768e+00  1.600411e+02  "
            ],
            "text/html": [
              "\n",
              "  <div id=\"df-e5f0da21-3fd1-411c-9e54-dd2d53bf133c\">\n",
              "    <div class=\"colab-df-container\">\n",
              "      <div>\n",
              "<style scoped>\n",
              "    .dataframe tbody tr th:only-of-type {\n",
              "        vertical-align: middle;\n",
              "    }\n",
              "\n",
              "    .dataframe tbody tr th {\n",
              "        vertical-align: top;\n",
              "    }\n",
              "\n",
              "    .dataframe thead th {\n",
              "        text-align: right;\n",
              "    }\n",
              "</style>\n",
              "<table border=\"1\" class=\"dataframe\">\n",
              "  <thead>\n",
              "    <tr style=\"text-align: right;\">\n",
              "      <th></th>\n",
              "      <th>RUS_lett_count</th>\n",
              "      <th>emoji_count</th>\n",
              "      <th>emoji_sentiment</th>\n",
              "      <th>following_ratio</th>\n",
              "      <th>is_retweet</th>\n",
              "      <th>median_word_length</th>\n",
              "      <th>multi_authors</th>\n",
              "      <th>num_URLs</th>\n",
              "      <th>num_commas</th>\n",
              "      <th>num_dashes</th>\n",
              "      <th>num_hashs</th>\n",
              "      <th>region_Unknown</th>\n",
              "      <th>sentiment</th>\n",
              "      <th>tweet_length</th>\n",
              "      <th>updates</th>\n",
              "    </tr>\n",
              "  </thead>\n",
              "  <tbody>\n",
              "    <tr>\n",
              "      <th>count</th>\n",
              "      <td>2.400000e+06</td>\n",
              "      <td>2.400000e+06</td>\n",
              "      <td>2.400000e+06</td>\n",
              "      <td>2.400000e+06</td>\n",
              "      <td>2.400000e+06</td>\n",
              "      <td>2.400000e+06</td>\n",
              "      <td>2.400000e+06</td>\n",
              "      <td>2.400000e+06</td>\n",
              "      <td>2.400000e+06</td>\n",
              "      <td>2.400000e+06</td>\n",
              "      <td>2.400000e+06</td>\n",
              "      <td>2.400000e+06</td>\n",
              "      <td>2.400000e+06</td>\n",
              "      <td>2.400000e+06</td>\n",
              "      <td>2.400000e+06</td>\n",
              "    </tr>\n",
              "    <tr>\n",
              "      <th>mean</th>\n",
              "      <td>2.353673e-18</td>\n",
              "      <td>6.714629e-18</td>\n",
              "      <td>3.076354e-17</td>\n",
              "      <td>-1.375226e-16</td>\n",
              "      <td>-2.093437e-17</td>\n",
              "      <td>1.727389e-16</td>\n",
              "      <td>2.926844e-17</td>\n",
              "      <td>-7.405040e-17</td>\n",
              "      <td>-1.925571e-17</td>\n",
              "      <td>-1.473784e-17</td>\n",
              "      <td>1.230838e-16</td>\n",
              "      <td>7.327472e-18</td>\n",
              "      <td>8.696451e-17</td>\n",
              "      <td>2.209018e-16</td>\n",
              "      <td>1.776357e-20</td>\n",
              "    </tr>\n",
              "    <tr>\n",
              "      <th>std</th>\n",
              "      <td>1.000000e+00</td>\n",
              "      <td>1.000000e+00</td>\n",
              "      <td>1.000000e+00</td>\n",
              "      <td>1.000000e+00</td>\n",
              "      <td>1.000000e+00</td>\n",
              "      <td>1.000000e+00</td>\n",
              "      <td>1.000000e+00</td>\n",
              "      <td>1.000000e+00</td>\n",
              "      <td>1.000000e+00</td>\n",
              "      <td>1.000000e+00</td>\n",
              "      <td>1.000000e+00</td>\n",
              "      <td>1.000000e+00</td>\n",
              "      <td>1.000000e+00</td>\n",
              "      <td>1.000000e+00</td>\n",
              "      <td>1.000000e+00</td>\n",
              "    </tr>\n",
              "    <tr>\n",
              "      <th>min</th>\n",
              "      <td>-6.146812e-03</td>\n",
              "      <td>-1.220239e-01</td>\n",
              "      <td>-1.297626e+01</td>\n",
              "      <td>-1.663696e-01</td>\n",
              "      <td>-6.800281e-01</td>\n",
              "      <td>-4.031658e+00</td>\n",
              "      <td>-2.654743e-01</td>\n",
              "      <td>-1.101147e+00</td>\n",
              "      <td>-4.812395e-01</td>\n",
              "      <td>-3.580849e-01</td>\n",
              "      <td>-5.943291e-01</td>\n",
              "      <td>-3.595493e-01</td>\n",
              "      <td>-2.418892e+00</td>\n",
              "      <td>-2.386839e+00</td>\n",
              "      <td>-3.099839e-01</td>\n",
              "    </tr>\n",
              "    <tr>\n",
              "      <th>25%</th>\n",
              "      <td>-6.146812e-03</td>\n",
              "      <td>-1.220239e-01</td>\n",
              "      <td>-8.639088e-02</td>\n",
              "      <td>-1.647879e-01</td>\n",
              "      <td>-6.800281e-01</td>\n",
              "      <td>-3.773179e-01</td>\n",
              "      <td>-2.654743e-01</td>\n",
              "      <td>-1.101147e+00</td>\n",
              "      <td>-4.812395e-01</td>\n",
              "      <td>-3.580849e-01</td>\n",
              "      <td>-5.943291e-01</td>\n",
              "      <td>-3.595493e-01</td>\n",
              "      <td>-5.923194e-01</td>\n",
              "      <td>-6.972197e-01</td>\n",
              "      <td>-3.097221e-01</td>\n",
              "    </tr>\n",
              "    <tr>\n",
              "      <th>50%</th>\n",
              "      <td>-6.146812e-03</td>\n",
              "      <td>-1.220239e-01</td>\n",
              "      <td>-8.639088e-02</td>\n",
              "      <td>-1.113103e-01</td>\n",
              "      <td>-6.800281e-01</td>\n",
              "      <td>-3.773179e-01</td>\n",
              "      <td>-2.654743e-01</td>\n",
              "      <td>2.621747e-01</td>\n",
              "      <td>-4.812395e-01</td>\n",
              "      <td>-3.580849e-01</td>\n",
              "      <td>-5.943291e-01</td>\n",
              "      <td>-3.595493e-01</td>\n",
              "      <td>-1.226161e-01</td>\n",
              "      <td>-9.150702e-02</td>\n",
              "      <td>-2.889897e-01</td>\n",
              "    </tr>\n",
              "    <tr>\n",
              "      <th>75%</th>\n",
              "      <td>-6.146812e-03</td>\n",
              "      <td>-1.220239e-01</td>\n",
              "      <td>-8.639088e-02</td>\n",
              "      <td>1.878295e-02</td>\n",
              "      <td>1.470528e+00</td>\n",
              "      <td>5.362672e-01</td>\n",
              "      <td>-2.654743e-01</td>\n",
              "      <td>2.621747e-01</td>\n",
              "      <td>-4.812395e-01</td>\n",
              "      <td>-3.580849e-01</td>\n",
              "      <td>4.790823e-01</td>\n",
              "      <td>-3.595493e-01</td>\n",
              "      <td>8.105215e-01</td>\n",
              "      <td>7.054834e-01</td>\n",
              "      <td>-5.229449e-02</td>\n",
              "    </tr>\n",
              "    <tr>\n",
              "      <th>max</th>\n",
              "      <td>8.154503e+02</td>\n",
              "      <td>2.126145e+02</td>\n",
              "      <td>1.280477e+01</td>\n",
              "      <td>2.133210e+02</td>\n",
              "      <td>1.470528e+00</td>\n",
              "      <td>3.159816e+01</td>\n",
              "      <td>3.766843e+00</td>\n",
              "      <td>7.078784e+00</td>\n",
              "      <td>4.508727e+01</td>\n",
              "      <td>1.833669e+02</td>\n",
              "      <td>3.697507e+01</td>\n",
              "      <td>2.781260e+00</td>\n",
              "      <td>2.197110e+00</td>\n",
              "      <td>6.985768e+00</td>\n",
              "      <td>1.600411e+02</td>\n",
              "    </tr>\n",
              "  </tbody>\n",
              "</table>\n",
              "</div>\n",
              "      <button class=\"colab-df-convert\" onclick=\"convertToInteractive('df-e5f0da21-3fd1-411c-9e54-dd2d53bf133c')\"\n",
              "              title=\"Convert this dataframe to an interactive table.\"\n",
              "              style=\"display:none;\">\n",
              "        \n",
              "  <svg xmlns=\"http://www.w3.org/2000/svg\" height=\"24px\"viewBox=\"0 0 24 24\"\n",
              "       width=\"24px\">\n",
              "    <path d=\"M0 0h24v24H0V0z\" fill=\"none\"/>\n",
              "    <path d=\"M18.56 5.44l.94 2.06.94-2.06 2.06-.94-2.06-.94-.94-2.06-.94 2.06-2.06.94zm-11 1L8.5 8.5l.94-2.06 2.06-.94-2.06-.94L8.5 2.5l-.94 2.06-2.06.94zm10 10l.94 2.06.94-2.06 2.06-.94-2.06-.94-.94-2.06-.94 2.06-2.06.94z\"/><path d=\"M17.41 7.96l-1.37-1.37c-.4-.4-.92-.59-1.43-.59-.52 0-1.04.2-1.43.59L10.3 9.45l-7.72 7.72c-.78.78-.78 2.05 0 2.83L4 21.41c.39.39.9.59 1.41.59.51 0 1.02-.2 1.41-.59l7.78-7.78 2.81-2.81c.8-.78.8-2.07 0-2.86zM5.41 20L4 18.59l7.72-7.72 1.47 1.35L5.41 20z\"/>\n",
              "  </svg>\n",
              "      </button>\n",
              "      \n",
              "  <style>\n",
              "    .colab-df-container {\n",
              "      display:flex;\n",
              "      flex-wrap:wrap;\n",
              "      gap: 12px;\n",
              "    }\n",
              "\n",
              "    .colab-df-convert {\n",
              "      background-color: #E8F0FE;\n",
              "      border: none;\n",
              "      border-radius: 50%;\n",
              "      cursor: pointer;\n",
              "      display: none;\n",
              "      fill: #1967D2;\n",
              "      height: 32px;\n",
              "      padding: 0 0 0 0;\n",
              "      width: 32px;\n",
              "    }\n",
              "\n",
              "    .colab-df-convert:hover {\n",
              "      background-color: #E2EBFA;\n",
              "      box-shadow: 0px 1px 2px rgba(60, 64, 67, 0.3), 0px 1px 3px 1px rgba(60, 64, 67, 0.15);\n",
              "      fill: #174EA6;\n",
              "    }\n",
              "\n",
              "    [theme=dark] .colab-df-convert {\n",
              "      background-color: #3B4455;\n",
              "      fill: #D2E3FC;\n",
              "    }\n",
              "\n",
              "    [theme=dark] .colab-df-convert:hover {\n",
              "      background-color: #434B5C;\n",
              "      box-shadow: 0px 1px 3px 1px rgba(0, 0, 0, 0.15);\n",
              "      filter: drop-shadow(0px 1px 2px rgba(0, 0, 0, 0.3));\n",
              "      fill: #FFFFFF;\n",
              "    }\n",
              "  </style>\n",
              "\n",
              "      <script>\n",
              "        const buttonEl =\n",
              "          document.querySelector('#df-e5f0da21-3fd1-411c-9e54-dd2d53bf133c button.colab-df-convert');\n",
              "        buttonEl.style.display =\n",
              "          google.colab.kernel.accessAllowed ? 'block' : 'none';\n",
              "\n",
              "        async function convertToInteractive(key) {\n",
              "          const element = document.querySelector('#df-e5f0da21-3fd1-411c-9e54-dd2d53bf133c');\n",
              "          const dataTable =\n",
              "            await google.colab.kernel.invokeFunction('convertToInteractive',\n",
              "                                                     [key], {});\n",
              "          if (!dataTable) return;\n",
              "\n",
              "          const docLinkHtml = 'Like what you see? Visit the ' +\n",
              "            '<a target=\"_blank\" href=https://colab.research.google.com/notebooks/data_table.ipynb>data table notebook</a>'\n",
              "            + ' to learn more about interactive tables.';\n",
              "          element.innerHTML = '';\n",
              "          dataTable['output_type'] = 'display_data';\n",
              "          await google.colab.output.renderOutput(dataTable, element);\n",
              "          const docLink = document.createElement('div');\n",
              "          docLink.innerHTML = docLinkHtml;\n",
              "          element.appendChild(docLink);\n",
              "        }\n",
              "      </script>\n",
              "    </div>\n",
              "  </div>\n",
              "  "
            ]
          },
          "metadata": {},
          "execution_count": 45
        }
      ]
    },
    {
      "cell_type": "markdown",
      "source": [
        "#### Min Max Scaler Pipeline (less preferred)\n",
        "Min max was tested but performed poorly, so it was not used for the final models"
      ],
      "metadata": {
        "id": "X5ep7lPR2vkV"
      }
    },
    {
      "cell_type": "code",
      "source": [
        "#create pipeline to use MinMax Scaler\n",
        "full_pipeline = make_column_transformer(\n",
        "    (MinMaxScaler(), columns_without_target),\n",
        "    remainder='passthrough', verbose_feature_names_out=False,\n",
        "        sparse_threshold=0)"
      ],
      "metadata": {
        "id": "qt3tQDN3cx21"
      },
      "execution_count": null,
      "outputs": []
    },
    {
      "cell_type": "code",
      "source": [
        "#apply fit_transform on x_train\n",
        "x_train = pd.DataFrame(full_pipeline.fit_transform(x_train),columns=full_pipeline.get_feature_names_out())"
      ],
      "metadata": {
        "id": "f7q8iylpdE1I"
      },
      "execution_count": null,
      "outputs": []
    },
    {
      "cell_type": "code",
      "source": [
        "x_train.describe()"
      ],
      "metadata": {
        "colab": {
          "base_uri": "https://localhost:8080/",
          "height": 364
        },
        "id": "uOr4TiSJd65F",
        "outputId": "e050de44-c7b1-467e-d1bb-d8aac2b2e79e"
      },
      "execution_count": null,
      "outputs": [
        {
          "output_type": "execute_result",
          "data": {
            "text/plain": [
              "       RUS_lett_count  emoji_blowingkiss   emoji_check  emoji_claphands  \\\n",
              "count    2.400000e+06       2.400000e+06  2.400000e+06     2.400000e+06   \n",
              "mean     7.537879e-06       4.500000e-04  7.300000e-04     5.670833e-04   \n",
              "std      1.226307e-03       2.120843e-02  2.700865e-02     2.380676e-02   \n",
              "min      0.000000e+00       0.000000e+00  0.000000e+00     0.000000e+00   \n",
              "25%      0.000000e+00       0.000000e+00  0.000000e+00     0.000000e+00   \n",
              "50%      0.000000e+00       0.000000e+00  0.000000e+00     0.000000e+00   \n",
              "75%      0.000000e+00       0.000000e+00  0.000000e+00     0.000000e+00   \n",
              "max      1.000000e+00       1.000000e+00  1.000000e+00     1.000000e+00   \n",
              "\n",
              "       emoji_collision   emoji_count  emoji_exclamation    emoji_fire  \\\n",
              "count     2.400000e+06  2.400000e+06       2.400000e+06  2.400000e+06   \n",
              "mean      3.566667e-04  5.735916e-04       5.645833e-04  1.016250e-03   \n",
              "std       1.888226e-02  4.700652e-03       2.375426e-02  3.186248e-02   \n",
              "min       0.000000e+00  0.000000e+00       0.000000e+00  0.000000e+00   \n",
              "25%       0.000000e+00  0.000000e+00       0.000000e+00  0.000000e+00   \n",
              "50%       0.000000e+00  0.000000e+00       0.000000e+00  0.000000e+00   \n",
              "75%       0.000000e+00  0.000000e+00       0.000000e+00  0.000000e+00   \n",
              "max       1.000000e+00  1.000000e+00       1.000000e+00  1.000000e+00   \n",
              "\n",
              "         emoji_fist  emoji_flagUS  emoji_loudcryface  emoji_partypop  \\\n",
              "count  2.400000e+06  2.400000e+06       2.400000e+06    2.400000e+06   \n",
              "mean   7.050000e-04  1.289583e-03       3.962500e-04    4.558333e-04   \n",
              "std    2.654248e-02  3.588761e-02       1.990209e-02    2.134539e-02   \n",
              "min    0.000000e+00  0.000000e+00       0.000000e+00    0.000000e+00   \n",
              "25%    0.000000e+00  0.000000e+00       0.000000e+00    0.000000e+00   \n",
              "50%    0.000000e+00  0.000000e+00       0.000000e+00    0.000000e+00   \n",
              "75%    0.000000e+00  0.000000e+00       0.000000e+00    0.000000e+00   \n",
              "max    1.000000e+00  1.000000e+00       1.000000e+00    1.000000e+00   \n",
              "\n",
              "       emoji_police  emoji_prohibited  emoji_raisehands  emoji_redheart  \\\n",
              "count  2.400000e+06      2.400000e+06      2.400000e+06    2.400000e+06   \n",
              "mean   5.729167e-04      1.200000e-04      8.329167e-04    2.339167e-03   \n",
              "std    2.392883e-02      1.095380e-02      2.884828e-02    4.830834e-02   \n",
              "min    0.000000e+00      0.000000e+00      0.000000e+00    0.000000e+00   \n",
              "25%    0.000000e+00      0.000000e+00      0.000000e+00    0.000000e+00   \n",
              "50%    0.000000e+00      0.000000e+00      0.000000e+00    0.000000e+00   \n",
              "75%    0.000000e+00      0.000000e+00      0.000000e+00    0.000000e+00   \n",
              "max    1.000000e+00      1.000000e+00      1.000000e+00    1.000000e+00   \n",
              "\n",
              "       emoji_sentiment  emoji_smilinghearteye  emoji_tearsjoy  emoji_thumbsup  \\\n",
              "count     2.400000e+06           2.400000e+06    2.400000e+06    2.400000e+06   \n",
              "mean      5.033259e-01           7.541667e-04    2.216250e-03    8.916667e-04   \n",
              "std       3.878822e-02           2.745174e-02    4.702488e-02    2.984748e-02   \n",
              "min       0.000000e+00           0.000000e+00    0.000000e+00    0.000000e+00   \n",
              "25%       4.999750e-01           0.000000e+00    0.000000e+00    0.000000e+00   \n",
              "50%       4.999750e-01           0.000000e+00    0.000000e+00    0.000000e+00   \n",
              "75%       4.999750e-01           0.000000e+00    0.000000e+00    0.000000e+00   \n",
              "max       1.000000e+00           1.000000e+00    1.000000e+00    1.000000e+00   \n",
              "\n",
              "          followers     following  following_ratio       has_url  \\\n",
              "count  2.400000e+06  2.400000e+06     2.400000e+06  2.400000e+06   \n",
              "mean   1.573402e-02  1.446161e-03     7.792950e-04  6.203950e-01   \n",
              "std    7.781962e-02  8.801965e-03     4.684120e-03  4.852887e-01   \n",
              "min    0.000000e+00  0.000000e+00     0.000000e+00  0.000000e+00   \n",
              "25%    1.279918e-05  1.111019e-04     7.409047e-06  0.000000e+00   \n",
              "50%    1.025283e-04  3.223177e-04     2.579043e-04  1.000000e+00   \n",
              "75%    6.128704e-04  1.044114e-03     8.672766e-04  1.000000e+00   \n",
              "max    1.000000e+00  1.000000e+00     1.000000e+00  1.000000e+00   \n",
              "\n",
              "         is_retweet  median_word_length  multi_authors      num_URLs  \\\n",
              "count  2.400000e+06        2.399985e+06   2.400000e+06  2.400000e+06   \n",
              "mean   3.162104e-01        8.981672e-02   6.583667e-02  1.346157e-01   \n",
              "std    4.649962e-01        2.880360e-02   2.479964e-01  1.222504e-01   \n",
              "min    0.000000e+00        0.000000e+00   0.000000e+00  0.000000e+00   \n",
              "25%    0.000000e+00        7.894737e-02   0.000000e+00  0.000000e+00   \n",
              "50%    0.000000e+00        7.894737e-02   0.000000e+00  1.666667e-01   \n",
              "75%    1.000000e+00        1.052632e-01   0.000000e+00  1.666667e-01   \n",
              "max    1.000000e+00        1.000000e+00   1.000000e+00  1.000000e+00   \n",
              "\n",
              "         num_commas    num_dashes     num_hashs  region_All_Other  \\\n",
              "count  2.400000e+06  2.400000e+06  2.400000e+06      2.400000e+06   \n",
              "mean   1.056079e-02  1.949026e-03  1.581950e-02      2.989854e-01   \n",
              "std    2.194499e-02  5.442918e-03  2.661741e-02      4.578135e-01   \n",
              "min    0.000000e+00  0.000000e+00  0.000000e+00      0.000000e+00   \n",
              "25%    0.000000e+00  0.000000e+00  0.000000e+00      0.000000e+00   \n",
              "50%    0.000000e+00  0.000000e+00  0.000000e+00      0.000000e+00   \n",
              "75%    0.000000e+00  0.000000e+00  2.857143e-02      1.000000e+00   \n",
              "max    1.000000e+00  1.000000e+00  1.000000e+00      1.000000e+00   \n",
              "\n",
              "       region_Atlanta_GA  region_Australia  region_Boston_MA  region_Global  \\\n",
              "count       2.400000e+06      2.400000e+06      2.400000e+06   2.400000e+06   \n",
              "mean        5.457083e-03      5.254583e-03      7.100833e-03   4.846250e-03   \n",
              "std         7.367025e-02      7.229782e-02      8.396675e-02   6.944614e-02   \n",
              "min         0.000000e+00      0.000000e+00      0.000000e+00   0.000000e+00   \n",
              "25%         0.000000e+00      0.000000e+00      0.000000e+00   0.000000e+00   \n",
              "50%         0.000000e+00      0.000000e+00      0.000000e+00   0.000000e+00   \n",
              "75%         0.000000e+00      0.000000e+00      0.000000e+00   0.000000e+00   \n",
              "max         1.000000e+00      1.000000e+00      1.000000e+00   1.000000e+00   \n",
              "\n",
              "       region_London  region_Los_Angeles_CA  region_New_York_City  \\\n",
              "count   2.400000e+06           2.400000e+06          2.400000e+06   \n",
              "mean    6.953750e-03           7.188750e-03          6.281250e-03   \n",
              "std     8.309873e-02           8.448121e-02          7.900505e-02   \n",
              "min     0.000000e+00           0.000000e+00          0.000000e+00   \n",
              "25%     0.000000e+00           0.000000e+00          0.000000e+00   \n",
              "50%     0.000000e+00           0.000000e+00          0.000000e+00   \n",
              "75%     0.000000e+00           0.000000e+00          0.000000e+00   \n",
              "max     1.000000e+00           1.000000e+00          1.000000e+00   \n",
              "\n",
              "       region_New_York_NY  region_New_York_and_the_World  \\\n",
              "count        2.400000e+06                   2.400000e+06   \n",
              "mean         2.226542e-02                   6.429167e-03   \n",
              "std          1.475455e-01                   7.992393e-02   \n",
              "min          0.000000e+00                   0.000000e+00   \n",
              "25%          0.000000e+00                   0.000000e+00   \n",
              "50%          0.000000e+00                   0.000000e+00   \n",
              "75%          0.000000e+00                   0.000000e+00   \n",
              "max          1.000000e+00                   1.000000e+00   \n",
              "\n",
              "       region_Pale_Blue_Dot  region_United_Kingdom  region_United_States  \\\n",
              "count          2.400000e+06           2.400000e+06          2.400000e+06   \n",
              "mean           5.849583e-03           7.405833e-03          4.609850e-01   \n",
              "std            7.625856e-02           8.573791e-02          4.984756e-01   \n",
              "min            0.000000e+00           0.000000e+00          0.000000e+00   \n",
              "25%            0.000000e+00           0.000000e+00          0.000000e+00   \n",
              "50%            0.000000e+00           0.000000e+00          0.000000e+00   \n",
              "75%            0.000000e+00           0.000000e+00          1.000000e+00   \n",
              "max            1.000000e+00           1.000000e+00          1.000000e+00   \n",
              "\n",
              "       region_Unknown  region_Washington_DC     sentiment  tweet_length  \\\n",
              "count    2.400000e+06          2.400000e+06  2.400000e+06  2.400000e+06   \n",
              "mean     1.144767e-01          4.052042e-02  5.240232e-01  2.546612e-01   \n",
              "std      3.183894e-01          1.971764e-01  2.166378e-01  1.066939e-01   \n",
              "min      0.000000e+00          0.000000e+00  0.000000e+00  0.000000e+00   \n",
              "25%      0.000000e+00          0.000000e+00  3.957044e-01  1.802721e-01   \n",
              "50%      0.000000e+00          0.000000e+00  4.974599e-01  2.448980e-01   \n",
              "75%      0.000000e+00          0.000000e+00  6.996127e-01  3.299320e-01   \n",
              "max      1.000000e+00          1.000000e+00  1.000000e+00  1.000000e+00   \n",
              "\n",
              "            updates  \n",
              "count  2.400000e+06  \n",
              "mean   1.933157e-03  \n",
              "std    6.236316e-03  \n",
              "min    0.000000e+00  \n",
              "25%    1.632499e-06  \n",
              "50%    1.309264e-04  \n",
              "75%    1.607032e-03  \n",
              "max    1.000000e+00  "
            ],
            "text/html": [
              "\n",
              "  <div id=\"df-22ba2389-7811-4469-ab8c-b5664eb605dc\">\n",
              "    <div class=\"colab-df-container\">\n",
              "      <div>\n",
              "<style scoped>\n",
              "    .dataframe tbody tr th:only-of-type {\n",
              "        vertical-align: middle;\n",
              "    }\n",
              "\n",
              "    .dataframe tbody tr th {\n",
              "        vertical-align: top;\n",
              "    }\n",
              "\n",
              "    .dataframe thead th {\n",
              "        text-align: right;\n",
              "    }\n",
              "</style>\n",
              "<table border=\"1\" class=\"dataframe\">\n",
              "  <thead>\n",
              "    <tr style=\"text-align: right;\">\n",
              "      <th></th>\n",
              "      <th>RUS_lett_count</th>\n",
              "      <th>emoji_blowingkiss</th>\n",
              "      <th>emoji_check</th>\n",
              "      <th>emoji_claphands</th>\n",
              "      <th>emoji_collision</th>\n",
              "      <th>emoji_count</th>\n",
              "      <th>emoji_exclamation</th>\n",
              "      <th>emoji_fire</th>\n",
              "      <th>emoji_fist</th>\n",
              "      <th>emoji_flagUS</th>\n",
              "      <th>emoji_loudcryface</th>\n",
              "      <th>emoji_partypop</th>\n",
              "      <th>emoji_police</th>\n",
              "      <th>emoji_prohibited</th>\n",
              "      <th>emoji_raisehands</th>\n",
              "      <th>emoji_redheart</th>\n",
              "      <th>emoji_sentiment</th>\n",
              "      <th>emoji_smilinghearteye</th>\n",
              "      <th>emoji_tearsjoy</th>\n",
              "      <th>emoji_thumbsup</th>\n",
              "      <th>followers</th>\n",
              "      <th>following</th>\n",
              "      <th>following_ratio</th>\n",
              "      <th>has_url</th>\n",
              "      <th>is_retweet</th>\n",
              "      <th>median_word_length</th>\n",
              "      <th>multi_authors</th>\n",
              "      <th>num_URLs</th>\n",
              "      <th>num_commas</th>\n",
              "      <th>num_dashes</th>\n",
              "      <th>num_hashs</th>\n",
              "      <th>region_All_Other</th>\n",
              "      <th>region_Atlanta_GA</th>\n",
              "      <th>region_Australia</th>\n",
              "      <th>region_Boston_MA</th>\n",
              "      <th>region_Global</th>\n",
              "      <th>region_London</th>\n",
              "      <th>region_Los_Angeles_CA</th>\n",
              "      <th>region_New_York_City</th>\n",
              "      <th>region_New_York_NY</th>\n",
              "      <th>region_New_York_and_the_World</th>\n",
              "      <th>region_Pale_Blue_Dot</th>\n",
              "      <th>region_United_Kingdom</th>\n",
              "      <th>region_United_States</th>\n",
              "      <th>region_Unknown</th>\n",
              "      <th>region_Washington_DC</th>\n",
              "      <th>sentiment</th>\n",
              "      <th>tweet_length</th>\n",
              "      <th>updates</th>\n",
              "    </tr>\n",
              "  </thead>\n",
              "  <tbody>\n",
              "    <tr>\n",
              "      <th>count</th>\n",
              "      <td>2.400000e+06</td>\n",
              "      <td>2.400000e+06</td>\n",
              "      <td>2.400000e+06</td>\n",
              "      <td>2.400000e+06</td>\n",
              "      <td>2.400000e+06</td>\n",
              "      <td>2.400000e+06</td>\n",
              "      <td>2.400000e+06</td>\n",
              "      <td>2.400000e+06</td>\n",
              "      <td>2.400000e+06</td>\n",
              "      <td>2.400000e+06</td>\n",
              "      <td>2.400000e+06</td>\n",
              "      <td>2.400000e+06</td>\n",
              "      <td>2.400000e+06</td>\n",
              "      <td>2.400000e+06</td>\n",
              "      <td>2.400000e+06</td>\n",
              "      <td>2.400000e+06</td>\n",
              "      <td>2.400000e+06</td>\n",
              "      <td>2.400000e+06</td>\n",
              "      <td>2.400000e+06</td>\n",
              "      <td>2.400000e+06</td>\n",
              "      <td>2.400000e+06</td>\n",
              "      <td>2.400000e+06</td>\n",
              "      <td>2.400000e+06</td>\n",
              "      <td>2.400000e+06</td>\n",
              "      <td>2.400000e+06</td>\n",
              "      <td>2.399985e+06</td>\n",
              "      <td>2.400000e+06</td>\n",
              "      <td>2.400000e+06</td>\n",
              "      <td>2.400000e+06</td>\n",
              "      <td>2.400000e+06</td>\n",
              "      <td>2.400000e+06</td>\n",
              "      <td>2.400000e+06</td>\n",
              "      <td>2.400000e+06</td>\n",
              "      <td>2.400000e+06</td>\n",
              "      <td>2.400000e+06</td>\n",
              "      <td>2.400000e+06</td>\n",
              "      <td>2.400000e+06</td>\n",
              "      <td>2.400000e+06</td>\n",
              "      <td>2.400000e+06</td>\n",
              "      <td>2.400000e+06</td>\n",
              "      <td>2.400000e+06</td>\n",
              "      <td>2.400000e+06</td>\n",
              "      <td>2.400000e+06</td>\n",
              "      <td>2.400000e+06</td>\n",
              "      <td>2.400000e+06</td>\n",
              "      <td>2.400000e+06</td>\n",
              "      <td>2.400000e+06</td>\n",
              "      <td>2.400000e+06</td>\n",
              "      <td>2.400000e+06</td>\n",
              "    </tr>\n",
              "    <tr>\n",
              "      <th>mean</th>\n",
              "      <td>7.537879e-06</td>\n",
              "      <td>4.500000e-04</td>\n",
              "      <td>7.300000e-04</td>\n",
              "      <td>5.670833e-04</td>\n",
              "      <td>3.566667e-04</td>\n",
              "      <td>5.735916e-04</td>\n",
              "      <td>5.645833e-04</td>\n",
              "      <td>1.016250e-03</td>\n",
              "      <td>7.050000e-04</td>\n",
              "      <td>1.289583e-03</td>\n",
              "      <td>3.962500e-04</td>\n",
              "      <td>4.558333e-04</td>\n",
              "      <td>5.729167e-04</td>\n",
              "      <td>1.200000e-04</td>\n",
              "      <td>8.329167e-04</td>\n",
              "      <td>2.339167e-03</td>\n",
              "      <td>5.033259e-01</td>\n",
              "      <td>7.541667e-04</td>\n",
              "      <td>2.216250e-03</td>\n",
              "      <td>8.916667e-04</td>\n",
              "      <td>1.573402e-02</td>\n",
              "      <td>1.446161e-03</td>\n",
              "      <td>7.792950e-04</td>\n",
              "      <td>6.203950e-01</td>\n",
              "      <td>3.162104e-01</td>\n",
              "      <td>8.981672e-02</td>\n",
              "      <td>6.583667e-02</td>\n",
              "      <td>1.346157e-01</td>\n",
              "      <td>1.056079e-02</td>\n",
              "      <td>1.949026e-03</td>\n",
              "      <td>1.581950e-02</td>\n",
              "      <td>2.989854e-01</td>\n",
              "      <td>5.457083e-03</td>\n",
              "      <td>5.254583e-03</td>\n",
              "      <td>7.100833e-03</td>\n",
              "      <td>4.846250e-03</td>\n",
              "      <td>6.953750e-03</td>\n",
              "      <td>7.188750e-03</td>\n",
              "      <td>6.281250e-03</td>\n",
              "      <td>2.226542e-02</td>\n",
              "      <td>6.429167e-03</td>\n",
              "      <td>5.849583e-03</td>\n",
              "      <td>7.405833e-03</td>\n",
              "      <td>4.609850e-01</td>\n",
              "      <td>1.144767e-01</td>\n",
              "      <td>4.052042e-02</td>\n",
              "      <td>5.240232e-01</td>\n",
              "      <td>2.546612e-01</td>\n",
              "      <td>1.933157e-03</td>\n",
              "    </tr>\n",
              "    <tr>\n",
              "      <th>std</th>\n",
              "      <td>1.226307e-03</td>\n",
              "      <td>2.120843e-02</td>\n",
              "      <td>2.700865e-02</td>\n",
              "      <td>2.380676e-02</td>\n",
              "      <td>1.888226e-02</td>\n",
              "      <td>4.700652e-03</td>\n",
              "      <td>2.375426e-02</td>\n",
              "      <td>3.186248e-02</td>\n",
              "      <td>2.654248e-02</td>\n",
              "      <td>3.588761e-02</td>\n",
              "      <td>1.990209e-02</td>\n",
              "      <td>2.134539e-02</td>\n",
              "      <td>2.392883e-02</td>\n",
              "      <td>1.095380e-02</td>\n",
              "      <td>2.884828e-02</td>\n",
              "      <td>4.830834e-02</td>\n",
              "      <td>3.878822e-02</td>\n",
              "      <td>2.745174e-02</td>\n",
              "      <td>4.702488e-02</td>\n",
              "      <td>2.984748e-02</td>\n",
              "      <td>7.781962e-02</td>\n",
              "      <td>8.801965e-03</td>\n",
              "      <td>4.684120e-03</td>\n",
              "      <td>4.852887e-01</td>\n",
              "      <td>4.649962e-01</td>\n",
              "      <td>2.880360e-02</td>\n",
              "      <td>2.479964e-01</td>\n",
              "      <td>1.222504e-01</td>\n",
              "      <td>2.194499e-02</td>\n",
              "      <td>5.442918e-03</td>\n",
              "      <td>2.661741e-02</td>\n",
              "      <td>4.578135e-01</td>\n",
              "      <td>7.367025e-02</td>\n",
              "      <td>7.229782e-02</td>\n",
              "      <td>8.396675e-02</td>\n",
              "      <td>6.944614e-02</td>\n",
              "      <td>8.309873e-02</td>\n",
              "      <td>8.448121e-02</td>\n",
              "      <td>7.900505e-02</td>\n",
              "      <td>1.475455e-01</td>\n",
              "      <td>7.992393e-02</td>\n",
              "      <td>7.625856e-02</td>\n",
              "      <td>8.573791e-02</td>\n",
              "      <td>4.984756e-01</td>\n",
              "      <td>3.183894e-01</td>\n",
              "      <td>1.971764e-01</td>\n",
              "      <td>2.166378e-01</td>\n",
              "      <td>1.066939e-01</td>\n",
              "      <td>6.236316e-03</td>\n",
              "    </tr>\n",
              "    <tr>\n",
              "      <th>min</th>\n",
              "      <td>0.000000e+00</td>\n",
              "      <td>0.000000e+00</td>\n",
              "      <td>0.000000e+00</td>\n",
              "      <td>0.000000e+00</td>\n",
              "      <td>0.000000e+00</td>\n",
              "      <td>0.000000e+00</td>\n",
              "      <td>0.000000e+00</td>\n",
              "      <td>0.000000e+00</td>\n",
              "      <td>0.000000e+00</td>\n",
              "      <td>0.000000e+00</td>\n",
              "      <td>0.000000e+00</td>\n",
              "      <td>0.000000e+00</td>\n",
              "      <td>0.000000e+00</td>\n",
              "      <td>0.000000e+00</td>\n",
              "      <td>0.000000e+00</td>\n",
              "      <td>0.000000e+00</td>\n",
              "      <td>0.000000e+00</td>\n",
              "      <td>0.000000e+00</td>\n",
              "      <td>0.000000e+00</td>\n",
              "      <td>0.000000e+00</td>\n",
              "      <td>0.000000e+00</td>\n",
              "      <td>0.000000e+00</td>\n",
              "      <td>0.000000e+00</td>\n",
              "      <td>0.000000e+00</td>\n",
              "      <td>0.000000e+00</td>\n",
              "      <td>0.000000e+00</td>\n",
              "      <td>0.000000e+00</td>\n",
              "      <td>0.000000e+00</td>\n",
              "      <td>0.000000e+00</td>\n",
              "      <td>0.000000e+00</td>\n",
              "      <td>0.000000e+00</td>\n",
              "      <td>0.000000e+00</td>\n",
              "      <td>0.000000e+00</td>\n",
              "      <td>0.000000e+00</td>\n",
              "      <td>0.000000e+00</td>\n",
              "      <td>0.000000e+00</td>\n",
              "      <td>0.000000e+00</td>\n",
              "      <td>0.000000e+00</td>\n",
              "      <td>0.000000e+00</td>\n",
              "      <td>0.000000e+00</td>\n",
              "      <td>0.000000e+00</td>\n",
              "      <td>0.000000e+00</td>\n",
              "      <td>0.000000e+00</td>\n",
              "      <td>0.000000e+00</td>\n",
              "      <td>0.000000e+00</td>\n",
              "      <td>0.000000e+00</td>\n",
              "      <td>0.000000e+00</td>\n",
              "      <td>0.000000e+00</td>\n",
              "      <td>0.000000e+00</td>\n",
              "    </tr>\n",
              "    <tr>\n",
              "      <th>25%</th>\n",
              "      <td>0.000000e+00</td>\n",
              "      <td>0.000000e+00</td>\n",
              "      <td>0.000000e+00</td>\n",
              "      <td>0.000000e+00</td>\n",
              "      <td>0.000000e+00</td>\n",
              "      <td>0.000000e+00</td>\n",
              "      <td>0.000000e+00</td>\n",
              "      <td>0.000000e+00</td>\n",
              "      <td>0.000000e+00</td>\n",
              "      <td>0.000000e+00</td>\n",
              "      <td>0.000000e+00</td>\n",
              "      <td>0.000000e+00</td>\n",
              "      <td>0.000000e+00</td>\n",
              "      <td>0.000000e+00</td>\n",
              "      <td>0.000000e+00</td>\n",
              "      <td>0.000000e+00</td>\n",
              "      <td>4.999750e-01</td>\n",
              "      <td>0.000000e+00</td>\n",
              "      <td>0.000000e+00</td>\n",
              "      <td>0.000000e+00</td>\n",
              "      <td>1.279918e-05</td>\n",
              "      <td>1.111019e-04</td>\n",
              "      <td>7.409047e-06</td>\n",
              "      <td>0.000000e+00</td>\n",
              "      <td>0.000000e+00</td>\n",
              "      <td>7.894737e-02</td>\n",
              "      <td>0.000000e+00</td>\n",
              "      <td>0.000000e+00</td>\n",
              "      <td>0.000000e+00</td>\n",
              "      <td>0.000000e+00</td>\n",
              "      <td>0.000000e+00</td>\n",
              "      <td>0.000000e+00</td>\n",
              "      <td>0.000000e+00</td>\n",
              "      <td>0.000000e+00</td>\n",
              "      <td>0.000000e+00</td>\n",
              "      <td>0.000000e+00</td>\n",
              "      <td>0.000000e+00</td>\n",
              "      <td>0.000000e+00</td>\n",
              "      <td>0.000000e+00</td>\n",
              "      <td>0.000000e+00</td>\n",
              "      <td>0.000000e+00</td>\n",
              "      <td>0.000000e+00</td>\n",
              "      <td>0.000000e+00</td>\n",
              "      <td>0.000000e+00</td>\n",
              "      <td>0.000000e+00</td>\n",
              "      <td>0.000000e+00</td>\n",
              "      <td>3.957044e-01</td>\n",
              "      <td>1.802721e-01</td>\n",
              "      <td>1.632499e-06</td>\n",
              "    </tr>\n",
              "    <tr>\n",
              "      <th>50%</th>\n",
              "      <td>0.000000e+00</td>\n",
              "      <td>0.000000e+00</td>\n",
              "      <td>0.000000e+00</td>\n",
              "      <td>0.000000e+00</td>\n",
              "      <td>0.000000e+00</td>\n",
              "      <td>0.000000e+00</td>\n",
              "      <td>0.000000e+00</td>\n",
              "      <td>0.000000e+00</td>\n",
              "      <td>0.000000e+00</td>\n",
              "      <td>0.000000e+00</td>\n",
              "      <td>0.000000e+00</td>\n",
              "      <td>0.000000e+00</td>\n",
              "      <td>0.000000e+00</td>\n",
              "      <td>0.000000e+00</td>\n",
              "      <td>0.000000e+00</td>\n",
              "      <td>0.000000e+00</td>\n",
              "      <td>4.999750e-01</td>\n",
              "      <td>0.000000e+00</td>\n",
              "      <td>0.000000e+00</td>\n",
              "      <td>0.000000e+00</td>\n",
              "      <td>1.025283e-04</td>\n",
              "      <td>3.223177e-04</td>\n",
              "      <td>2.579043e-04</td>\n",
              "      <td>1.000000e+00</td>\n",
              "      <td>0.000000e+00</td>\n",
              "      <td>7.894737e-02</td>\n",
              "      <td>0.000000e+00</td>\n",
              "      <td>1.666667e-01</td>\n",
              "      <td>0.000000e+00</td>\n",
              "      <td>0.000000e+00</td>\n",
              "      <td>0.000000e+00</td>\n",
              "      <td>0.000000e+00</td>\n",
              "      <td>0.000000e+00</td>\n",
              "      <td>0.000000e+00</td>\n",
              "      <td>0.000000e+00</td>\n",
              "      <td>0.000000e+00</td>\n",
              "      <td>0.000000e+00</td>\n",
              "      <td>0.000000e+00</td>\n",
              "      <td>0.000000e+00</td>\n",
              "      <td>0.000000e+00</td>\n",
              "      <td>0.000000e+00</td>\n",
              "      <td>0.000000e+00</td>\n",
              "      <td>0.000000e+00</td>\n",
              "      <td>0.000000e+00</td>\n",
              "      <td>0.000000e+00</td>\n",
              "      <td>0.000000e+00</td>\n",
              "      <td>4.974599e-01</td>\n",
              "      <td>2.448980e-01</td>\n",
              "      <td>1.309264e-04</td>\n",
              "    </tr>\n",
              "    <tr>\n",
              "      <th>75%</th>\n",
              "      <td>0.000000e+00</td>\n",
              "      <td>0.000000e+00</td>\n",
              "      <td>0.000000e+00</td>\n",
              "      <td>0.000000e+00</td>\n",
              "      <td>0.000000e+00</td>\n",
              "      <td>0.000000e+00</td>\n",
              "      <td>0.000000e+00</td>\n",
              "      <td>0.000000e+00</td>\n",
              "      <td>0.000000e+00</td>\n",
              "      <td>0.000000e+00</td>\n",
              "      <td>0.000000e+00</td>\n",
              "      <td>0.000000e+00</td>\n",
              "      <td>0.000000e+00</td>\n",
              "      <td>0.000000e+00</td>\n",
              "      <td>0.000000e+00</td>\n",
              "      <td>0.000000e+00</td>\n",
              "      <td>4.999750e-01</td>\n",
              "      <td>0.000000e+00</td>\n",
              "      <td>0.000000e+00</td>\n",
              "      <td>0.000000e+00</td>\n",
              "      <td>6.128704e-04</td>\n",
              "      <td>1.044114e-03</td>\n",
              "      <td>8.672766e-04</td>\n",
              "      <td>1.000000e+00</td>\n",
              "      <td>1.000000e+00</td>\n",
              "      <td>1.052632e-01</td>\n",
              "      <td>0.000000e+00</td>\n",
              "      <td>1.666667e-01</td>\n",
              "      <td>0.000000e+00</td>\n",
              "      <td>0.000000e+00</td>\n",
              "      <td>2.857143e-02</td>\n",
              "      <td>1.000000e+00</td>\n",
              "      <td>0.000000e+00</td>\n",
              "      <td>0.000000e+00</td>\n",
              "      <td>0.000000e+00</td>\n",
              "      <td>0.000000e+00</td>\n",
              "      <td>0.000000e+00</td>\n",
              "      <td>0.000000e+00</td>\n",
              "      <td>0.000000e+00</td>\n",
              "      <td>0.000000e+00</td>\n",
              "      <td>0.000000e+00</td>\n",
              "      <td>0.000000e+00</td>\n",
              "      <td>0.000000e+00</td>\n",
              "      <td>1.000000e+00</td>\n",
              "      <td>0.000000e+00</td>\n",
              "      <td>0.000000e+00</td>\n",
              "      <td>6.996127e-01</td>\n",
              "      <td>3.299320e-01</td>\n",
              "      <td>1.607032e-03</td>\n",
              "    </tr>\n",
              "    <tr>\n",
              "      <th>max</th>\n",
              "      <td>1.000000e+00</td>\n",
              "      <td>1.000000e+00</td>\n",
              "      <td>1.000000e+00</td>\n",
              "      <td>1.000000e+00</td>\n",
              "      <td>1.000000e+00</td>\n",
              "      <td>1.000000e+00</td>\n",
              "      <td>1.000000e+00</td>\n",
              "      <td>1.000000e+00</td>\n",
              "      <td>1.000000e+00</td>\n",
              "      <td>1.000000e+00</td>\n",
              "      <td>1.000000e+00</td>\n",
              "      <td>1.000000e+00</td>\n",
              "      <td>1.000000e+00</td>\n",
              "      <td>1.000000e+00</td>\n",
              "      <td>1.000000e+00</td>\n",
              "      <td>1.000000e+00</td>\n",
              "      <td>1.000000e+00</td>\n",
              "      <td>1.000000e+00</td>\n",
              "      <td>1.000000e+00</td>\n",
              "      <td>1.000000e+00</td>\n",
              "      <td>1.000000e+00</td>\n",
              "      <td>1.000000e+00</td>\n",
              "      <td>1.000000e+00</td>\n",
              "      <td>1.000000e+00</td>\n",
              "      <td>1.000000e+00</td>\n",
              "      <td>1.000000e+00</td>\n",
              "      <td>1.000000e+00</td>\n",
              "      <td>1.000000e+00</td>\n",
              "      <td>1.000000e+00</td>\n",
              "      <td>1.000000e+00</td>\n",
              "      <td>1.000000e+00</td>\n",
              "      <td>1.000000e+00</td>\n",
              "      <td>1.000000e+00</td>\n",
              "      <td>1.000000e+00</td>\n",
              "      <td>1.000000e+00</td>\n",
              "      <td>1.000000e+00</td>\n",
              "      <td>1.000000e+00</td>\n",
              "      <td>1.000000e+00</td>\n",
              "      <td>1.000000e+00</td>\n",
              "      <td>1.000000e+00</td>\n",
              "      <td>1.000000e+00</td>\n",
              "      <td>1.000000e+00</td>\n",
              "      <td>1.000000e+00</td>\n",
              "      <td>1.000000e+00</td>\n",
              "      <td>1.000000e+00</td>\n",
              "      <td>1.000000e+00</td>\n",
              "      <td>1.000000e+00</td>\n",
              "      <td>1.000000e+00</td>\n",
              "      <td>1.000000e+00</td>\n",
              "    </tr>\n",
              "  </tbody>\n",
              "</table>\n",
              "</div>\n",
              "      <button class=\"colab-df-convert\" onclick=\"convertToInteractive('df-22ba2389-7811-4469-ab8c-b5664eb605dc')\"\n",
              "              title=\"Convert this dataframe to an interactive table.\"\n",
              "              style=\"display:none;\">\n",
              "        \n",
              "  <svg xmlns=\"http://www.w3.org/2000/svg\" height=\"24px\"viewBox=\"0 0 24 24\"\n",
              "       width=\"24px\">\n",
              "    <path d=\"M0 0h24v24H0V0z\" fill=\"none\"/>\n",
              "    <path d=\"M18.56 5.44l.94 2.06.94-2.06 2.06-.94-2.06-.94-.94-2.06-.94 2.06-2.06.94zm-11 1L8.5 8.5l.94-2.06 2.06-.94-2.06-.94L8.5 2.5l-.94 2.06-2.06.94zm10 10l.94 2.06.94-2.06 2.06-.94-2.06-.94-.94-2.06-.94 2.06-2.06.94z\"/><path d=\"M17.41 7.96l-1.37-1.37c-.4-.4-.92-.59-1.43-.59-.52 0-1.04.2-1.43.59L10.3 9.45l-7.72 7.72c-.78.78-.78 2.05 0 2.83L4 21.41c.39.39.9.59 1.41.59.51 0 1.02-.2 1.41-.59l7.78-7.78 2.81-2.81c.8-.78.8-2.07 0-2.86zM5.41 20L4 18.59l7.72-7.72 1.47 1.35L5.41 20z\"/>\n",
              "  </svg>\n",
              "      </button>\n",
              "      \n",
              "  <style>\n",
              "    .colab-df-container {\n",
              "      display:flex;\n",
              "      flex-wrap:wrap;\n",
              "      gap: 12px;\n",
              "    }\n",
              "\n",
              "    .colab-df-convert {\n",
              "      background-color: #E8F0FE;\n",
              "      border: none;\n",
              "      border-radius: 50%;\n",
              "      cursor: pointer;\n",
              "      display: none;\n",
              "      fill: #1967D2;\n",
              "      height: 32px;\n",
              "      padding: 0 0 0 0;\n",
              "      width: 32px;\n",
              "    }\n",
              "\n",
              "    .colab-df-convert:hover {\n",
              "      background-color: #E2EBFA;\n",
              "      box-shadow: 0px 1px 2px rgba(60, 64, 67, 0.3), 0px 1px 3px 1px rgba(60, 64, 67, 0.15);\n",
              "      fill: #174EA6;\n",
              "    }\n",
              "\n",
              "    [theme=dark] .colab-df-convert {\n",
              "      background-color: #3B4455;\n",
              "      fill: #D2E3FC;\n",
              "    }\n",
              "\n",
              "    [theme=dark] .colab-df-convert:hover {\n",
              "      background-color: #434B5C;\n",
              "      box-shadow: 0px 1px 3px 1px rgba(0, 0, 0, 0.15);\n",
              "      filter: drop-shadow(0px 1px 2px rgba(0, 0, 0, 0.3));\n",
              "      fill: #FFFFFF;\n",
              "    }\n",
              "  </style>\n",
              "\n",
              "      <script>\n",
              "        const buttonEl =\n",
              "          document.querySelector('#df-22ba2389-7811-4469-ab8c-b5664eb605dc button.colab-df-convert');\n",
              "        buttonEl.style.display =\n",
              "          google.colab.kernel.accessAllowed ? 'block' : 'none';\n",
              "\n",
              "        async function convertToInteractive(key) {\n",
              "          const element = document.querySelector('#df-22ba2389-7811-4469-ab8c-b5664eb605dc');\n",
              "          const dataTable =\n",
              "            await google.colab.kernel.invokeFunction('convertToInteractive',\n",
              "                                                     [key], {});\n",
              "          if (!dataTable) return;\n",
              "\n",
              "          const docLinkHtml = 'Like what you see? Visit the ' +\n",
              "            '<a target=\"_blank\" href=https://colab.research.google.com/notebooks/data_table.ipynb>data table notebook</a>'\n",
              "            + ' to learn more about interactive tables.';\n",
              "          element.innerHTML = '';\n",
              "          dataTable['output_type'] = 'display_data';\n",
              "          await google.colab.output.renderOutput(dataTable, element);\n",
              "          const docLink = document.createElement('div');\n",
              "          docLink.innerHTML = docLinkHtml;\n",
              "          element.appendChild(docLink);\n",
              "        }\n",
              "      </script>\n",
              "    </div>\n",
              "  </div>\n",
              "  "
            ]
          },
          "metadata": {},
          "execution_count": 35
        }
      ]
    },
    {
      "cell_type": "code",
      "source": [
        "#transform x_test\n",
        "x_test = pd.DataFrame(full_pipeline.transform(x_test), columns= full_pipeline.get_feature_names_out())"
      ],
      "metadata": {
        "id": "yPYC_Q-9dJwv"
      },
      "execution_count": null,
      "outputs": []
    },
    {
      "cell_type": "markdown",
      "source": [
        "# 4 - Feature Importance"
      ],
      "metadata": {
        "id": "ti5wDt3TAjUB"
      }
    },
    {
      "cell_type": "code",
      "source": [
        "#correlation heat map - account features\n",
        "\n",
        "correlation_matrix_heatmap = df_sample3M.corr()\n",
        "\n",
        "# remove duplicate boxes in upper triangle\n",
        "mask = np.zeros_like(correlation_matrix_heatmap)\n",
        "mask[np.triu_indices_from(mask)] = True\n",
        "\n",
        "# plot the correlation heat map to see connections amoung the dataset\n",
        "\n",
        "fig, ax = plt.subplots(figsize=(18,12))   \n",
        "ax = sns.heatmap(correlation_matrix_heatmap, \n",
        "    xticklabels = correlation_matrix_heatmap.columns, \n",
        "    yticklabels = correlation_matrix_heatmap.columns, \n",
        "    annot = True, mask = mask, cmap= 'coolwarm', fmt='.2f')"
      ],
      "metadata": {
        "colab": {
          "base_uri": "https://localhost:8080/",
          "height": 782
        },
        "id": "kce3Dl6d1C8k",
        "outputId": "c5a7b79b-99e7-4601-e340-ac9c3c648389"
      },
      "execution_count": 46,
      "outputs": [
        {
          "output_type": "display_data",
          "data": {
            "text/plain": [
              "<Figure size 1296x864 with 2 Axes>"
            ],
            "image/png": "[encoded data removed]"
          },
          "metadata": {
            "needs_background": "light"
          }
        }
      ]
    },
    {
      "cell_type": "code",
      "source": [
        "# 15 features\n",
        "from sklearn.feature_selection import f_classif\n",
        "f_values, p_values = f_classif(x_train, y_train)\n",
        "\n",
        "fig, ax = plt.subplots(2, 1, figsize=(12,10))\n",
        "ax[0].set_title(\"F values\")\n",
        "ax[0].plot(f_values, 'o')\n",
        "ax[1].set_title(\"p values\")\n",
        "ax[1].plot(p_values, 'o')\n",
        "ax[1].set_yscale(\"log\")\n",
        "\n",
        "ax[1].set_xticks(range(x_train.shape[1]))\n",
        "ax[1].set_xticklabels(x_train.columns, rotation=90);\n",
        "fig.tight_layout()"
      ],
      "metadata": {
        "colab": {
          "base_uri": "https://localhost:8080/",
          "height": 729
        },
        "id": "NSVEBpiZ13qW",
        "outputId": "212cfc0f-0bf1-49e0-c3c9-5f3af3bc2bc8"
      },
      "execution_count": 47,
      "outputs": [
        {
          "output_type": "display_data",
          "data": {
            "text/plain": [
              "<Figure size 864x720 with 2 Axes>"
            ],
            "image/png": "[encoded data removed]"
          },
          "metadata": {
            "needs_background": "light"
          }
        }
      ]
    },
    {
      "cell_type": "markdown",
      "source": [
        "Based on the above analysis, we expect to see the following features have more influential coefficients for the Linear Regression Model:\n",
        "- updates\n",
        "- multi-authors\n",
        "- sentiment\n",
        "- median_word_length"
      ],
      "metadata": {
        "id": "KijmVk4jMEoS"
      }
    },
    {
      "cell_type": "markdown",
      "source": [
        "## Dummy Classifier"
      ],
      "metadata": {
        "id": "WNRX1ru2Mw2r"
      }
    },
    {
      "cell_type": "code",
      "source": [
        "dummy = DummyClassifier(strategy='stratified', random_state=42)"
      ],
      "metadata": {
        "id": "8QV-BnQeymvZ"
      },
      "execution_count": null,
      "outputs": []
    },
    {
      "cell_type": "code",
      "source": [
        "dummy.fit(x_train, y_train)\n",
        "dummy_pred = dummy.predict(x_test)\n",
        "print(\"Accuracy Score:\", accuracy_score(y_test, dummy_pred))"
      ],
      "metadata": {
        "colab": {
          "base_uri": "https://localhost:8080/"
        },
        "id": "IMxoi0pty5sN",
        "outputId": "eceb2e88-5a2b-4a5c-b213-2be639f85b0c"
      },
      "execution_count": null,
      "outputs": [
        {
          "output_type": "stream",
          "name": "stdout",
          "text": [
            "Accuracy Score: 0.5035\n"
          ]
        }
      ]
    },
    {
      "cell_type": "markdown",
      "source": [
        "# 5 - Logistic Regression Classifier using StandardScaler Pipeline"
      ],
      "metadata": {
        "id": "lNgXmWMmeyRX"
      }
    },
    {
      "cell_type": "code",
      "source": [
        "lr = LogisticRegression(\n",
        "    random_state=42,\n",
        "    tol=0.0001,\n",
        "    C=0.5,\n",
        "    max_iter=1000\n",
        ")\n",
        "lr.fit(x_train, y_train)"
      ],
      "metadata": {
        "colab": {
          "base_uri": "https://localhost:8080/",
          "height": 75
        },
        "id": "YZoVFZaoewTC",
        "outputId": "a415a626-bcb0-4b5c-9260-aca608896cac"
      },
      "execution_count": 48,
      "outputs": [
        {
          "output_type": "execute_result",
          "data": {
            "text/plain": [
              "LogisticRegression(C=0.5, max_iter=1000, random_state=42)"
            ],
            "text/html": [
              "<style>#sk-container-id-1 {color: black;background-color: white;}#sk-container-id-1 pre{padding: 0;}#sk-container-id-1 div.sk-toggleable {background-color: white;}#sk-container-id-1 label.sk-toggleable__label {cursor: pointer;display: block;width: 100%;margin-bottom: 0;padding: 0.3em;box-sizing: border-box;text-align: center;}#sk-container-id-1 label.sk-toggleable__label-arrow:before {content: \"▸\";float: left;margin-right: 0.25em;color: #696969;}#sk-container-id-1 label.sk-toggleable__label-arrow:hover:before {color: black;}#sk-container-id-1 div.sk-estimator:hover label.sk-toggleable__label-arrow:before {color: black;}#sk-container-id-1 div.sk-toggleable__content {max-height: 0;max-width: 0;overflow: hidden;text-align: left;background-color: #f0f8ff;}#sk-container-id-1 div.sk-toggleable__content pre {margin: 0.2em;color: black;border-radius: 0.25em;background-color: #f0f8ff;}#sk-container-id-1 input.sk-toggleable__control:checked~div.sk-toggleable__content {max-height: 200px;max-width: 100%;overflow: auto;}#sk-container-id-1 input.sk-toggleable__control:checked~label.sk-toggleable__label-arrow:before {content: \"▾\";}#sk-container-id-1 div.sk-estimator input.sk-toggleable__control:checked~label.sk-toggleable__label {background-color: #d4ebff;}#sk-container-id-1 div.sk-label input.sk-toggleable__control:checked~label.sk-toggleable__label {background-color: #d4ebff;}#sk-container-id-1 input.sk-hidden--visually {border: 0;clip: rect(1px 1px 1px 1px);clip: rect(1px, 1px, 1px, 1px);height: 1px;margin: -1px;overflow: hidden;padding: 0;position: absolute;width: 1px;}#sk-container-id-1 div.sk-estimator {font-family: monospace;background-color: #f0f8ff;border: 1px dotted black;border-radius: 0.25em;box-sizing: border-box;margin-bottom: 0.5em;}#sk-container-id-1 div.sk-estimator:hover {background-color: #d4ebff;}#sk-container-id-1 div.sk-parallel-item::after {content: \"\";width: 100%;border-bottom: 1px solid gray;flex-grow: 1;}#sk-container-id-1 div.sk-label:hover label.sk-toggleable__label {background-color: #d4ebff;}#sk-container-id-1 div.sk-serial::before {content: \"\";position: absolute;border-left: 1px solid gray;box-sizing: border-box;top: 0;bottom: 0;left: 50%;z-index: 0;}#sk-container-id-1 div.sk-serial {display: flex;flex-direction: column;align-items: center;background-color: white;padding-right: 0.2em;padding-left: 0.2em;position: relative;}#sk-container-id-1 div.sk-item {position: relative;z-index: 1;}#sk-container-id-1 div.sk-parallel {display: flex;align-items: stretch;justify-content: center;background-color: white;position: relative;}#sk-container-id-1 div.sk-item::before, #sk-container-id-1 div.sk-parallel-item::before {content: \"\";position: absolute;border-left: 1px solid gray;box-sizing: border-box;top: 0;bottom: 0;left: 50%;z-index: -1;}#sk-container-id-1 div.sk-parallel-item {display: flex;flex-direction: column;z-index: 1;position: relative;background-color: white;}#sk-container-id-1 div.sk-parallel-item:first-child::after {align-self: flex-end;width: 50%;}#sk-container-id-1 div.sk-parallel-item:last-child::after {align-self: flex-start;width: 50%;}#sk-container-id-1 div.sk-parallel-item:only-child::after {width: 0;}#sk-container-id-1 div.sk-dashed-wrapped {border: 1px dashed gray;margin: 0 0.4em 0.5em 0.4em;box-sizing: border-box;padding-bottom: 0.4em;background-color: white;}#sk-container-id-1 div.sk-label label {font-family: monospace;font-weight: bold;display: inline-block;line-height: 1.2em;}#sk-container-id-1 div.sk-label-container {text-align: center;}#sk-container-id-1 div.sk-container {/* jupyter's `normalize.less` sets `[hidden] { display: none; }` but bootstrap.min.css set `[hidden] { display: none !important; }` so we also need the `!important` here to be able to override the default hidden behavior on the sphinx rendered scikit-learn.org. See: https://github.com/scikit-learn/scikit-learn/issues/21755 */display: inline-block !important;position: relative;}#sk-container-id-1 div.sk-text-repr-fallback {display: none;}</style><div id=\"sk-container-id-1\" class=\"sk-top-container\"><div class=\"sk-text-repr-fallback\"><pre>LogisticRegression(C=0.5, max_iter=1000, random_state=42)</pre><b>In a Jupyter environment, please rerun this cell to show the HTML representation or trust the notebook. <br />On GitHub, the HTML representation is unable to render, please try loading this page with nbviewer.org.</b></div><div class=\"sk-container\" hidden><div class=\"sk-item\"><div class=\"sk-estimator sk-toggleable\"><input class=\"sk-toggleable__control sk-hidden--visually\" id=\"sk-estimator-id-1\" type=\"checkbox\" checked><label for=\"sk-estimator-id-1\" class=\"sk-toggleable__label sk-toggleable__label-arrow\">LogisticRegression</label><div class=\"sk-toggleable__content\"><pre>LogisticRegression(C=0.5, max_iter=1000, random_state=42)</pre></div></div></div></div></div>"
            ]
          },
          "metadata": {},
          "execution_count": 48
        }
      ]
    },
    {
      "cell_type": "code",
      "source": [
        "#view how many iterations were needed\n",
        "lr.n_iter_"
      ],
      "metadata": {
        "colab": {
          "base_uri": "https://localhost:8080/"
        },
        "id": "5Dvoc-GOzzwO",
        "outputId": "29b02b6c-e0ba-4796-ba2f-183ce25a5d40"
      },
      "execution_count": 49,
      "outputs": [
        {
          "output_type": "execute_result",
          "data": {
            "text/plain": [
              "array([45], dtype=int32)"
            ]
          },
          "metadata": {},
          "execution_count": 49
        }
      ]
    },
    {
      "cell_type": "code",
      "source": [
        "print(\"TRAIN Scores\")\n",
        "print(f'Accuracy score: {round(accuracy_score(y_train, lr.predict(x_train)), 3)}')\n",
        "print(f'Precision score: {round(precision_score(y_pred=lr.predict(x_train), y_true=y_train),3)}')\n",
        "print(f'Recall score: {round(recall_score(y_pred=lr.predict(x_train), y_true=y_train),3)}')\n",
        "print(f'ROC/AUC score: {round(roc_auc_score(y_train, lr.predict_proba(x_train)[:,1]),3)}')"
      ],
      "metadata": {
        "colab": {
          "base_uri": "https://localhost:8080/"
        },
        "id": "6zZmIoeCz5qW",
        "outputId": "adab61db-aafa-4c34-819a-17d133c442da"
      },
      "execution_count": 50,
      "outputs": [
        {
          "output_type": "stream",
          "name": "stdout",
          "text": [
            "TRAIN Scores\n",
            "Accuracy score: 0.956\n",
            "Precision score: 0.961\n",
            "Recall score: 0.951\n",
            "ROC/AUC score: 0.987\n"
          ]
        }
      ]
    },
    {
      "cell_type": "code",
      "source": [
        "#precisions, recalls, thresholds = precision_recall_curve(y_train, y_train)\n",
        "y_train_scores = lr.decision_function(x_train)"
      ],
      "metadata": {
        "id": "_8Y8SWm528SK"
      },
      "execution_count": 51,
      "outputs": []
    },
    {
      "cell_type": "code",
      "source": [
        "precisions, recalls, thresholds = precision_recall_curve(y_train, y_train_scores)"
      ],
      "metadata": {
        "id": "_iPcRHdG3Bxi"
      },
      "execution_count": 52,
      "outputs": []
    },
    {
      "cell_type": "code",
      "source": [
        "def plot_precision_recall_vs_threshold(precisions, recalls, thresholds):\n",
        "    plt.plot(thresholds, precisions[:-1], \"b--\", label=\"Precision\", linewidth=2)\n",
        "    plt.plot(thresholds, recalls[:-1], \"g-\", label=\"Recall\", linewidth=2)\n",
        "    plt.legend(loc=\"center right\", fontsize=16) \n",
        "    plt.xlabel(\"Threshold\", fontsize=16)       \n",
        "    plt.grid(True)                              \n",
        "    plt.axis([-20, 16, 0, 1])             \n",
        "\n",
        "plt.figure(figsize=(8, 4))                                                                 \n",
        "plot_precision_recall_vs_threshold(precisions, recalls, thresholds)\n",
        "\n",
        "plt.show()"
      ],
      "metadata": {
        "colab": {
          "base_uri": "https://localhost:8080/",
          "height": 288
        },
        "id": "RhkI-YtA3EBw",
        "outputId": "2f2af3f3-6c46-4eab-fd02-7b450058d569"
      },
      "execution_count": 53,
      "outputs": [
        {
          "output_type": "display_data",
          "data": {
            "text/plain": [
              "<Figure size 576x288 with 1 Axes>"
            ],
            "image/png": "[encoded data removed]"
          },
          "metadata": {
            "needs_background": "light"
          }
        }
      ]
    },
    {
      "cell_type": "markdown",
      "source": [
        "## LR Model Test Predictions"
      ],
      "metadata": {
        "id": "3RY-jMm23JZi"
      }
    },
    {
      "cell_type": "code",
      "source": [
        "#Predict on Test\n",
        "lr_predict = lr.predict(x_test)\n"
      ],
      "metadata": {
        "id": "ihTKKk2L3LGI"
      },
      "execution_count": 54,
      "outputs": []
    },
    {
      "cell_type": "code",
      "source": [
        "cm = confusion_matrix(y_test, lr.predict(x_test), labels=lr.classes_)\n",
        "disp = ConfusionMatrixDisplay(confusion_matrix= cm, display_labels = lr.classes_)\n",
        "disp.plot()\n",
        "plt.show()"
      ],
      "metadata": {
        "colab": {
          "base_uri": "https://localhost:8080/",
          "height": 279
        },
        "id": "taG8lfQJLpjK",
        "outputId": "2877007c-b347-4023-f243-25e72160f2cc"
      },
      "execution_count": 55,
      "outputs": [
        {
          "output_type": "display_data",
          "data": {
            "text/plain": [
              "<Figure size 432x288 with 2 Axes>"
            ],
            "image/png": "[encoded data removed]"
          },
          "metadata": {
            "needs_background": "light"
          }
        }
      ]
    },
    {
      "cell_type": "code",
      "source": [
        "#get TEST Scores\n",
        "#score = lr.score(x_test,y_test)\n",
        "score = accuracy_score(y_test, lr.predict(x_test))\n",
        "#Precision score for test\n",
        "p_score = precision_score(lr_predict, y_test)\n",
        "#recall for test\n",
        "r_score = recall_score(lr_predict, y_test)\n",
        "#ROC/AUC \n",
        "roc_auc = roc_auc_score(y_test, lr.predict_proba(x_test)[:,1])\n",
        "\n",
        "print('TEST')\n",
        "print('Accuracy:',round(score,3))\n",
        "print('Precision:',round(p_score,3))\n",
        "print('Recall:',round(r_score,3))\n",
        "print('ROC/AUC:', round(roc_auc, 3))"
      ],
      "metadata": {
        "colab": {
          "base_uri": "https://localhost:8080/"
        },
        "id": "N_oW-UXp3Qe3",
        "outputId": "084bc379-01dc-4f0b-eada-82f12303951d"
      },
      "execution_count": 56,
      "outputs": [
        {
          "output_type": "stream",
          "name": "stdout",
          "text": [
            "TEST\n",
            "Accuracy: 0.956\n",
            "Precision: 0.951\n",
            "Recall: 0.961\n",
            "ROC/AUC: 0.987\n"
          ]
        }
      ]
    },
    {
      "cell_type": "code",
      "source": [
        "from sklearn.metrics import classification_report\n",
        "print(classification_report(y_test,lr_predict))"
      ],
      "metadata": {
        "colab": {
          "base_uri": "https://localhost:8080/"
        },
        "id": "LNbxxF-P6eb7",
        "outputId": "8ad0b5c0-1f09-443c-d723-b1b303f3a9fe"
      },
      "execution_count": 57,
      "outputs": [
        {
          "output_type": "stream",
          "name": "stdout",
          "text": [
            "              precision    recall  f1-score   support\n",
            "\n",
            "           0       0.95      0.96      0.96    300000\n",
            "           1       0.96      0.95      0.96    300000\n",
            "\n",
            "    accuracy                           0.96    600000\n",
            "   macro avg       0.96      0.96      0.96    600000\n",
            "weighted avg       0.96      0.96      0.96    600000\n",
            "\n"
          ]
        }
      ]
    },
    {
      "cell_type": "markdown",
      "source": [
        "## Identifying Features of Importance"
      ],
      "metadata": {
        "id": "AAmCaGMY31GA"
      }
    },
    {
      "cell_type": "code",
      "source": [
        "#reduced features\n",
        "coefs_features = list(zip(lr.coef_[0],x_train.columns))\n",
        "for i in sorted(coefs_features):\n",
        "  print(i)"
      ],
      "metadata": {
        "colab": {
          "base_uri": "https://localhost:8080/"
        },
        "id": "MYjgjtXH55Xg",
        "outputId": "f64dd21c-2a43-4b4a-fc67-36ebee8b9d01"
      },
      "execution_count": 58,
      "outputs": [
        {
          "output_type": "stream",
          "name": "stdout",
          "text": [
            "(-0.5985448407259634, 'region_Unknown')\n",
            "(-0.35503889578594855, 'tweet_length')\n",
            "(-0.30067011383997105, 'sentiment')\n",
            "(-0.1439946243749535, 'emoji_count')\n",
            "(-0.033449045193859855, 'emoji_sentiment')\n",
            "(-0.03328077561413789, 'num_commas')\n",
            "(-0.02848510386795067, 'num_dashes')\n",
            "(0.012960931681132853, 'RUS_lett_count')\n",
            "(0.04926985808313673, 'num_URLs')\n",
            "(0.2109684645431282, 'num_hashs')\n",
            "(0.31092726025244105, 'is_retweet')\n",
            "(0.4331702154524835, 'median_word_length')\n",
            "(3.157405463817918, 'multi_authors')\n",
            "(6.509524582566509, 'updates')\n",
            "(22.809524147996886, 'following_ratio')\n"
          ]
        }
      ]
    },
    {
      "cell_type": "markdown",
      "source": [
        "Most important (positive) features identified are:\n",
        "1.   Following Ratio\n",
        "2.   Updates\n",
        "3.   Multi Authors\n",
        "4.   Median Word Length\n",
        "5.   Is retweet\n",
        "\n",
        "Most important (negative) features identified are:\n",
        "1.   Unknown Region\n",
        "2.   Tweet Length\n",
        "3.   Sentiment\n",
        "4.   Emoji Count\n",
        "5.   Punctuation\n"
      ],
      "metadata": {
        "id": "51giVGrz4FI-"
      }
    },
    {
      "cell_type": "code",
      "source": [
        "#collect feature column names > 0.1 or < -0.1\n",
        "feature_cols_to_keep=[]\n",
        "coefs_features = list(zip(lr.coef_[0],x_train.columns))\n",
        "for i,j in sorted(coefs_features):\n",
        "    if i >= 0.1:\n",
        "      print(round(i,2),j)\n",
        "      feature_cols_to_keep.append(j)\n",
        "    if i<= -0.1:\n",
        "      print(round(i,2),j)\n",
        "      feature_cols_to_keep.append(j)\n",
        "print(feature_cols_to_keep)\n",
        "print(len(feature_cols_to_keep))"
      ],
      "metadata": {
        "colab": {
          "base_uri": "https://localhost:8080/"
        },
        "id": "wapMzlC_2-Ll",
        "outputId": "6dae73e7-0526-4fb0-9bb6-a0e10efb4690"
      },
      "execution_count": 60,
      "outputs": [
        {
          "output_type": "stream",
          "name": "stdout",
          "text": [
            "-0.6 region_Unknown\n",
            "-0.36 tweet_length\n",
            "-0.3 sentiment\n",
            "-0.14 emoji_count\n",
            "0.21 num_hashs\n",
            "0.31 is_retweet\n",
            "0.43 median_word_length\n",
            "3.16 multi_authors\n",
            "6.51 updates\n",
            "22.81 following_ratio\n",
            "['region_Unknown', 'tweet_length', 'sentiment', 'emoji_count', 'num_hashs', 'is_retweet', 'median_word_length', 'multi_authors', 'updates', 'following_ratio']\n",
            "10\n"
          ]
        }
      ]
    },
    {
      "cell_type": "markdown",
      "source": [
        "# 6 - Decision Tree Classifier w/ StandardScaler"
      ],
      "metadata": {
        "id": "iq1_JOgR3fzf"
      }
    },
    {
      "cell_type": "code",
      "source": [
        "dt = DecisionTreeClassifier(\n",
        "    random_state=42,\n",
        "    min_samples_split=100,\n",
        "    max_depth=6\n",
        ")\n",
        "dt.fit(x_train,y_train)"
      ],
      "metadata": {
        "colab": {
          "base_uri": "https://localhost:8080/",
          "height": 75
        },
        "id": "Li7XDiTP3kga",
        "outputId": "57cd4dde-0eae-424b-a95c-19cf6df3f3c7"
      },
      "execution_count": 61,
      "outputs": [
        {
          "output_type": "execute_result",
          "data": {
            "text/plain": [
              "DecisionTreeClassifier(max_depth=6, min_samples_split=100, random_state=42)"
            ],
            "text/html": [
              "<style>#sk-container-id-2 {color: black;background-color: white;}#sk-container-id-2 pre{padding: 0;}#sk-container-id-2 div.sk-toggleable {background-color: white;}#sk-container-id-2 label.sk-toggleable__label {cursor: pointer;display: block;width: 100%;margin-bottom: 0;padding: 0.3em;box-sizing: border-box;text-align: center;}#sk-container-id-2 label.sk-toggleable__label-arrow:before {content: \"▸\";float: left;margin-right: 0.25em;color: #696969;}#sk-container-id-2 label.sk-toggleable__label-arrow:hover:before {color: black;}#sk-container-id-2 div.sk-estimator:hover label.sk-toggleable__label-arrow:before {color: black;}#sk-container-id-2 div.sk-toggleable__content {max-height: 0;max-width: 0;overflow: hidden;text-align: left;background-color: #f0f8ff;}#sk-container-id-2 div.sk-toggleable__content pre {margin: 0.2em;color: black;border-radius: 0.25em;background-color: #f0f8ff;}#sk-container-id-2 input.sk-toggleable__control:checked~div.sk-toggleable__content {max-height: 200px;max-width: 100%;overflow: auto;}#sk-container-id-2 input.sk-toggleable__control:checked~label.sk-toggleable__label-arrow:before {content: \"▾\";}#sk-container-id-2 div.sk-estimator input.sk-toggleable__control:checked~label.sk-toggleable__label {background-color: #d4ebff;}#sk-container-id-2 div.sk-label input.sk-toggleable__control:checked~label.sk-toggleable__label {background-color: #d4ebff;}#sk-container-id-2 input.sk-hidden--visually {border: 0;clip: rect(1px 1px 1px 1px);clip: rect(1px, 1px, 1px, 1px);height: 1px;margin: -1px;overflow: hidden;padding: 0;position: absolute;width: 1px;}#sk-container-id-2 div.sk-estimator {font-family: monospace;background-color: #f0f8ff;border: 1px dotted black;border-radius: 0.25em;box-sizing: border-box;margin-bottom: 0.5em;}#sk-container-id-2 div.sk-estimator:hover {background-color: #d4ebff;}#sk-container-id-2 div.sk-parallel-item::after {content: \"\";width: 100%;border-bottom: 1px solid gray;flex-grow: 1;}#sk-container-id-2 div.sk-label:hover label.sk-toggleable__label {background-color: #d4ebff;}#sk-container-id-2 div.sk-serial::before {content: \"\";position: absolute;border-left: 1px solid gray;box-sizing: border-box;top: 0;bottom: 0;left: 50%;z-index: 0;}#sk-container-id-2 div.sk-serial {display: flex;flex-direction: column;align-items: center;background-color: white;padding-right: 0.2em;padding-left: 0.2em;position: relative;}#sk-container-id-2 div.sk-item {position: relative;z-index: 1;}#sk-container-id-2 div.sk-parallel {display: flex;align-items: stretch;justify-content: center;background-color: white;position: relative;}#sk-container-id-2 div.sk-item::before, #sk-container-id-2 div.sk-parallel-item::before {content: \"\";position: absolute;border-left: 1px solid gray;box-sizing: border-box;top: 0;bottom: 0;left: 50%;z-index: -1;}#sk-container-id-2 div.sk-parallel-item {display: flex;flex-direction: column;z-index: 1;position: relative;background-color: white;}#sk-container-id-2 div.sk-parallel-item:first-child::after {align-self: flex-end;width: 50%;}#sk-container-id-2 div.sk-parallel-item:last-child::after {align-self: flex-start;width: 50%;}#sk-container-id-2 div.sk-parallel-item:only-child::after {width: 0;}#sk-container-id-2 div.sk-dashed-wrapped {border: 1px dashed gray;margin: 0 0.4em 0.5em 0.4em;box-sizing: border-box;padding-bottom: 0.4em;background-color: white;}#sk-container-id-2 div.sk-label label {font-family: monospace;font-weight: bold;display: inline-block;line-height: 1.2em;}#sk-container-id-2 div.sk-label-container {text-align: center;}#sk-container-id-2 div.sk-container {/* jupyter's `normalize.less` sets `[hidden] { display: none; }` but bootstrap.min.css set `[hidden] { display: none !important; }` so we also need the `!important` here to be able to override the default hidden behavior on the sphinx rendered scikit-learn.org. See: https://github.com/scikit-learn/scikit-learn/issues/21755 */display: inline-block !important;position: relative;}#sk-container-id-2 div.sk-text-repr-fallback {display: none;}</style><div id=\"sk-container-id-2\" class=\"sk-top-container\"><div class=\"sk-text-repr-fallback\"><pre>DecisionTreeClassifier(max_depth=6, min_samples_split=100, random_state=42)</pre><b>In a Jupyter environment, please rerun this cell to show the HTML representation or trust the notebook. <br />On GitHub, the HTML representation is unable to render, please try loading this page with nbviewer.org.</b></div><div class=\"sk-container\" hidden><div class=\"sk-item\"><div class=\"sk-estimator sk-toggleable\"><input class=\"sk-toggleable__control sk-hidden--visually\" id=\"sk-estimator-id-2\" type=\"checkbox\" checked><label for=\"sk-estimator-id-2\" class=\"sk-toggleable__label sk-toggleable__label-arrow\">DecisionTreeClassifier</label><div class=\"sk-toggleable__content\"><pre>DecisionTreeClassifier(max_depth=6, min_samples_split=100, random_state=42)</pre></div></div></div></div></div>"
            ]
          },
          "metadata": {},
          "execution_count": 61
        }
      ]
    },
    {
      "cell_type": "code",
      "source": [
        "print(\"TRAIN Scores\")\n",
        "print(f'Accuracy score: {round(accuracy_score(y_train, dt.predict(x_train)), 3)}')\n",
        "print(f'Precision score: {round(precision_score(y_pred=dt.predict(x_train), y_true=y_train),3)}')\n",
        "print(f'Recall score: {round(recall_score(y_pred=dt.predict(x_train), y_true=y_train),3)}')\n",
        "print(f'ROC/AUC score: {round(roc_auc_score(y_train, dt.predict_proba(x_train)[:,1]),3)}')"
      ],
      "metadata": {
        "colab": {
          "base_uri": "https://localhost:8080/"
        },
        "id": "ZNml7UDW3n8J",
        "outputId": "9b194150-cb66-47d3-8e13-863776978d69"
      },
      "execution_count": 62,
      "outputs": [
        {
          "output_type": "stream",
          "name": "stdout",
          "text": [
            "TRAIN Scores\n",
            "Accuracy score: 0.99\n",
            "Precision score: 0.992\n",
            "Recall score: 0.987\n",
            "ROC/AUC score: 0.997\n"
          ]
        }
      ]
    },
    {
      "cell_type": "markdown",
      "source": [
        "## Test Scores"
      ],
      "metadata": {
        "id": "4W6QJj-9NtK-"
      }
    },
    {
      "cell_type": "code",
      "source": [
        "#get TEST Scores\n",
        "score = accuracy_score(y_test, dt.predict(x_test))\n",
        "#Precision score for test\n",
        "p_score = precision_score(dt.predict(x_test), y_test)\n",
        "#recall for test\n",
        "r_score = recall_score(dt.predict(x_test), y_test)\n",
        "#ROC/AUC \n",
        "roc_auc = roc_auc_score(y_test, dt.predict_proba(x_test)[:,1])\n",
        "\n",
        "print('TEST')\n",
        "print('Accuracy:',round(score,3))\n",
        "print('Precision:',round(p_score,3))\n",
        "print('Recall:',round(r_score,3))\n",
        "print('ROC/AUC:', round(roc_auc, 3))"
      ],
      "metadata": {
        "colab": {
          "base_uri": "https://localhost:8080/"
        },
        "id": "8BjixUW83tjg",
        "outputId": "5aa1b519-443a-4993-a2d1-645ad21a8a66"
      },
      "execution_count": 63,
      "outputs": [
        {
          "output_type": "stream",
          "name": "stdout",
          "text": [
            "TEST\n",
            "Accuracy: 0.99\n",
            "Precision: 0.987\n",
            "Recall: 0.992\n",
            "ROC/AUC: 0.997\n"
          ]
        }
      ]
    },
    {
      "cell_type": "markdown",
      "source": [
        "# 7 - XGBoost Classifier using Standard Scaler"
      ],
      "metadata": {
        "id": "Y9HkNHoie3Dt"
      }
    },
    {
      "cell_type": "code",
      "source": [
        "# Init classifier\n",
        "xgb_cl = XGBClassifier()\n",
        "\n",
        "# Fit\n",
        "xgb_cl.fit(x_train, y_train)\n",
        "\n",
        "# Predict\n",
        "preds = xgb_cl.predict(x_test)\n",
        "\n",
        "# Score\n",
        "accuracy_score(y_test, preds)"
      ],
      "metadata": {
        "colab": {
          "base_uri": "https://localhost:8080/"
        },
        "id": "G-o8Gpm47sis",
        "outputId": "656b24df-a04f-44da-b32a-7b2725f46da7"
      },
      "execution_count": 64,
      "outputs": [
        {
          "output_type": "execute_result",
          "data": {
            "text/plain": [
              "0.9961733333333334"
            ]
          },
          "metadata": {},
          "execution_count": 64
        }
      ]
    },
    {
      "cell_type": "markdown",
      "source": [
        "## Test Scores"
      ],
      "metadata": {
        "id": "74MBiu8kNxNl"
      }
    },
    {
      "cell_type": "code",
      "source": [
        "#get TEST Scores\n",
        "score = accuracy_score(y_test, preds)\n",
        "#Precision score for test\n",
        "p_score = precision_score(preds, y_test)\n",
        "#recall for test\n",
        "r_score = recall_score(preds, y_test)\n",
        "#ROC/AUC \n",
        "roc_auc = roc_auc_score(y_test, preds)\n",
        "\n",
        "print('TEST')\n",
        "print('Accuracy:',score)\n",
        "print('Precision:',p_score)\n",
        "print('Recall:',r_score)\n",
        "print('ROC/AUC:', roc_auc)"
      ],
      "metadata": {
        "colab": {
          "base_uri": "https://localhost:8080/"
        },
        "id": "MVXPlX59LM-I",
        "outputId": "6572847b-3a94-4060-b83e-4b0e6a29ae9e"
      },
      "execution_count": 65,
      "outputs": [
        {
          "output_type": "stream",
          "name": "stdout",
          "text": [
            "TEST\n",
            "Accuracy: 0.9961733333333334\n",
            "Precision: 0.9972966666666667\n",
            "Recall: 0.9950610960708275\n",
            "ROC/AUC: 0.9961733333333334\n"
          ]
        }
      ]
    },
    {
      "cell_type": "markdown",
      "source": [
        "Given the extensive training time needed for GridCV and the minimal improvement in already good performance metrics, we opted to just keep the hyperparamters set in the initial model."
      ],
      "metadata": {
        "id": "u_QmMHe8pdHB"
      }
    },
    {
      "cell_type": "markdown",
      "source": [
        "# 8 - Final Summary"
      ],
      "metadata": {
        "id": "Ttsx1Q13O-jB"
      }
    },
    {
      "cell_type": "markdown",
      "source": [
        "<style type=\"text/css\">\n",
        ".tg  {border-collapse:collapse;border-spacing:0;}\n",
        ".tg td{border-color:black;border-style:solid;border-width:1px;font-family:Arial, sans-serif;font-size:14px;\n",
        "  overflow:hidden;padding:10px 5px;word-break:normal;}\n",
        ".tg th{border-color:black;border-style:solid;border-width:1px;font-family:Arial, sans-serif;font-size:14px;\n",
        "  font-weight:normal;overflow:hidden;padding:10px 5px;word-break:normal;}\n",
        ".tg .tg-z0iz{background-color:#fffc9e;text-align:left;vertical-align:top}\n",
        ".tg .tg-1wig{font-weight:bold;text-align:left;vertical-align:top}\n",
        ".tg .tg-7ivu{background-color:#fffc9e;font-weight:bold;text-align:left;vertical-align:top}\n",
        ".tg .tg-0lax{text-align:left;vertical-align:top}\n",
        "</style>\n",
        "<table class=\"tg\">\n",
        "<thead>\n",
        "  <tr>\n",
        "    <th class=\"tg-1wig\">Models/Metrics</th>\n",
        "    <th class=\"tg-1wig\">LR</th>\n",
        "    <th class=\"tg-1wig\">Decision Tree</th>\n",
        "    <th class=\"tg-7ivu\">XGBoost</th>\n",
        "  </tr>\n",
        "</thead>\n",
        "<tbody>\n",
        "  <tr>\n",
        "    <td class=\"tg-1wig\">Accuracy</td>\n",
        "    <td class=\"tg-0lax\">0.956</td>\n",
        "    <td class=\"tg-0lax\">0.999</td>\n",
        "    <td class=\"tg-z0iz\">0.996</td>\n",
        "  </tr>\n",
        "  <tr>\n",
        "    <td class=\"tg-1wig\">Precision</td>\n",
        "    <td class=\"tg-0lax\">0.951</td>\n",
        "    <td class=\"tg-0lax\">0.987</td>\n",
        "    <td class=\"tg-z0iz\">0.997</td>\n",
        "  </tr>\n",
        "  <tr>\n",
        "    <td class=\"tg-1wig\">Recall</td>\n",
        "    <td class=\"tg-0lax\">0.961</td>\n",
        "    <td class=\"tg-0lax\">0.992</td>\n",
        "    <td class=\"tg-z0iz\">0.995</td>\n",
        "  </tr>\n",
        "  <tr>\n",
        "    <td class=\"tg-1wig\">ROC/AUC</td>\n",
        "    <td class=\"tg-0lax\">0.987</td>\n",
        "    <td class=\"tg-0lax\">0.997</td>\n",
        "    <td class=\"tg-z0iz\">0.996</td>\n",
        "  </tr>\n",
        "</tbody>\n",
        "</table>"
      ],
      "metadata": {
        "id": "H23Q_gJmO8cb"
      }
    },
    {
      "cell_type": "code",
      "source": [],
      "metadata": {
        "id": "JGMAUZ2JBgi7"
      },
      "execution_count": null,
      "outputs": []
    }
  ]
}