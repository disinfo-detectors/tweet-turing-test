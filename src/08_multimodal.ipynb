{
 "cells": [
  {
   "attachments": {},
   "cell_type": "markdown",
   "id": "add0cef4-a4de-47c5-a9a0-e6b818d6fa2d",
   "metadata": {},
   "source": [
    "# Tweet Turing Test: Detecting Disinformation on Twitter  \n",
    "\n",
    "|          | Group #2 - Disinformation Detectors                     |\n",
    "|---------:|---------------------------------------------------------|\n",
    "| Members  | John Johnson, Katy Matulay, Justin Minnion, Jared Rubin |\n",
    "| Notebook | `05_multimodal.ipynb`                                   |\n",
    "| Purpose  | Combining tabular data with a BERT transformer.         |\n",
    "\n",
    "(todo: description)\n",
    "\n",
    "*Assumptions*  \n",
    " - The dataset being used has binary class labels following convention: 0 = authentic tweet; 1 = troll tweet\n",
    " - The execution environment has internet access (to download models from huggingface.co)\n",
    " - The execution environment has a CUDA-capable GPU available\n",
    "\n",
    "*Notes*\n",
    " - Notebook kernel must be completely restarted between runs to release reserved VRAM from the GPU.\n",
    " - Notebook contains our usual code to load dataset file from GCP bucket, but model files are always saved locally regardless of `local_or_cloud` setting.\n",
    " - Notebook is based on a [notebook by georgian-io (github.com)](https://github.com/georgian-io/Multimodal-Toolkit/blob/master/notebooks/text_w_tabular_classification.ipynb) from their [Multimodal-Toolkit repository (github.com)](https://github.com/georgian-io/Multimodal-Toolkit) and [accompanying blog post (medium.com)](https://medium.com/georgian-impact-blog/how-to-incorporate-tabular-data-with-huggingface-transformers-b70ac45fcfb4)."
   ]
  },
  {
   "cell_type": "markdown",
   "id": "bd9a7349-cf9c-461b-aebd-de5542e2ded8",
   "metadata": {},
   "source": [
    "# 1 - Setup"
   ]
  },
  {
   "cell_type": "code",
   "execution_count": 52,
   "id": "54c0673b-7027-407e-8435-e29090105df9",
   "metadata": {
    "tags": []
   },
   "outputs": [],
   "source": [
    "# imports from Python standard library\n",
    "import os\n",
    "import json\n",
    "import logging\n",
    "import pathlib\n",
    "import shutil\n",
    "import zipfile\n",
    "from dataclasses import dataclass, field\n",
    "from typing import Optional\n",
    "\n",
    "# imports requiring installation\n",
    "#   connection to Google Cloud Storage\n",
    "from google.cloud import storage            # pip install google-cloud-storage\n",
    "from google.oauth2 import service_account   # pip install google-auth\n",
    "\n",
    "#  data science packages\n",
    "import matplotlib.pyplot as plt\n",
    "import numpy as np\n",
    "import pandas as pd\n",
    "import seaborn as sns\n",
    "from pynvml import *    # for debugging\n",
    "from sklearn.metrics import auc, precision_recall_curve, roc_auc_score, f1_score, confusion_matrix, matthews_corrcoef\n",
    "from sklearn.model_selection import train_test_split\n",
    "from scipy.special import softmax   # todo: could numpy's softmax be used? might be same code underneath\n",
    "\n",
    "# 🤗 (huggingface) packages\n",
    "#import evaluate\n",
    "#from datasets import Dataset, ClassLabel\n",
    "from transformers import AutoTokenizer, AutoConfig, AutoModel, TrainingArguments, Trainer, EvalPrediction, set_seed\n",
    "\n",
    "# Georgian packages\n",
    "from multimodal_transformers.data.load_data import load_train_val_test_helper   # shhh, didn't have a leading underscore\n",
    "from multimodal_transformers.model import TabularConfig, AutoModelWithTabular"
   ]
  },
  {
   "cell_type": "code",
   "execution_count": 2,
   "id": "c7494318-b0ee-4452-80fa-c959050a6c70",
   "metadata": {
    "tags": []
   },
   "outputs": [],
   "source": [
    "# imports from tweet_turing.py\n",
    "import tweet_turing as tur      # note - different import approach from prior notebooks\n",
    "\n",
    "# imports from tweet_turing_paths.py\n",
    "from tweet_turing_paths import local_data_paths, local_snapshot_paths, gcp_data_paths, \\\n",
    "    gcp_snapshot_paths, gcp_project_name, gcp_bucket_name, gcp_key_file"
   ]
  },
  {
   "cell_type": "code",
   "execution_count": 3,
   "id": "eee18cdf-9d6c-4315-90ad-3e470718b1e9",
   "metadata": {
    "tags": []
   },
   "outputs": [],
   "source": [
    "# pandas options\n",
    "pd.set_option('display.max_colwidth', None)\n",
    "\n",
    "# sns.set_theme(context='paper', style='ticks', palette='bright', font='georgia', rc={'figure.dpi': 200})\n",
    "# twitter_colors = {\n",
    "#     'blue': r\"#1DA1F2\",     # source: https://usbrandcolors.com/twitter-colors/\n",
    "#     'black': r\"#14171A\",\n",
    "#     'dark gray': r\"#657786\",\n",
    "#     'dark blue': r\"#0f5580\" # \"blue\" with brightness changed 88% to 50%, non-standard color\n",
    "#     }"
   ]
  },
  {
   "cell_type": "markdown",
   "id": "b7124b0f-b27f-450a-ba49-f0560c5b38b6",
   "metadata": {
    "tags": []
   },
   "source": [
    "## Local or Cloud?\n",
    "\n",
    "Decide here whether to run notebook with local data or GCP bucket data\n",
    " - if the working directory of this notebook has a \"../data/\" folder with data loaded (e.g. working on local computer or have data files loaded to a cloud VM) then use the \"local files\" option and comment out the \"gcp bucket files\" option\n",
    " - if this notebook is being run from a GCP VM (preferrably in the `us-central1` location) then use the \"gcp bucket files\" option and comment out the \"local files\" option"
   ]
  },
  {
   "cell_type": "code",
   "execution_count": 4,
   "id": "0d579d5d-f289-4b49-a1aa-f72f04d503b4",
   "metadata": {
    "tags": []
   },
   "outputs": [],
   "source": [
    "# option: local files\n",
    "local_or_cloud: str = \"local\"   # comment/uncomment this line or next\n",
    "\n",
    "# option: gcp bucket files\n",
    "#local_or_cloud: str = \"cloud\"   # comment/uncomment this line or previous\n",
    "\n",
    "# don't comment/uncomment for remainder of cell\n",
    "if (local_or_cloud == \"local\"):\n",
    "    data_paths = local_data_paths\n",
    "    snapshot_paths = local_snapshot_paths\n",
    "elif (local_or_cloud == \"cloud\"):\n",
    "    data_paths = gcp_data_paths\n",
    "    snapshot_paths = gcp_snapshot_paths\n",
    "else:\n",
    "    raise ValueError(\"Variable 'local_or_cloud' can only take on one of two values, 'local' or 'cloud'.\")\n",
    "    # subsequent cells will not do this final \"else\" check"
   ]
  },
  {
   "cell_type": "code",
   "execution_count": 5,
   "id": "6b206dfc-7e39-49a1-a48d-71a4cb46e863",
   "metadata": {
    "tags": []
   },
   "outputs": [],
   "source": [
    "# this cell only needs to run its code if local_or_cloud==\"cloud\"\n",
    "#   (though it is harmless if run when local_or_cloud==\"local\")\n",
    "gcp_storage_client: storage.Client = None\n",
    "gcp_bucket: storage.Bucket = None\n",
    "\n",
    "if (local_or_cloud == \"cloud\"):\n",
    "    gcp_storage_client = tur.get_gcp_storage_client(project_name=gcp_project_name, key_file=gcp_key_file)\n",
    "    gcp_bucket = tur.get_gcp_bucket(storage_client=gcp_storage_client, bucket_name=gcp_bucket_name)"
   ]
  },
  {
   "cell_type": "code",
   "execution_count": 6,
   "id": "46318833",
   "metadata": {},
   "outputs": [],
   "source": [
    "# debug\n",
    "# from huggingface tutorial: https://huggingface.co/docs/transformers/perf_train_gpu_one#efficient-training-on-a-single-gpu\n",
    "def print_gpu_utilization():\n",
    "    nvmlInit()\n",
    "    handle = nvmlDeviceGetHandleByIndex(0)\n",
    "    info = nvmlDeviceGetMemoryInfo(handle)\n",
    "    print(f\"GPU memory occupied: {info.used//1024**2} MB.\")\n",
    "\n",
    "def print_summary(result):\n",
    "    print(f\"Time: {result.metrics['train_runtime']:.2f}\")\n",
    "    print(f\"Samples/second: {result.metrics['train_samples_per_second']:.2f}\")\n",
    "    print_gpu_utilization()"
   ]
  },
  {
   "attachments": {},
   "cell_type": "markdown",
   "id": "4fa7ee9f-857e-4c69-bd3f-803a970c3199",
   "metadata": {},
   "source": [
    "# 2 - Load Dataset\n",
    "\n",
    "Starting with the full dataset (with engineered features) from notebook **`06_feature_engineering.ipynb`**."
   ]
  },
  {
   "cell_type": "code",
   "execution_count": 7,
   "id": "47e19c3b-cab5-4e4c-a6b8-950f4c0dbc58",
   "metadata": {
    "tags": []
   },
   "outputs": [],
   "source": [
    "# note this cell requires package `pyarrow` to be installed in environment\n",
    "parq_filename: str = \"06data_full_final_en2.parquet.gz\"\n",
    "parq_path: str = f\"{snapshot_paths['parq_snapshot']}{parq_filename}\"\n",
    "\n",
    "if (local_or_cloud == \"local\"):\n",
    "    df_full = pd.read_parquet(parq_path, engine='pyarrow')\n",
    "elif (local_or_cloud == \"cloud\"):\n",
    "    df_full = tur.get_gcp_object_from_parq_as_df(bucket=gcp_bucket, object_name=parq_path)"
   ]
  },
  {
   "cell_type": "code",
   "execution_count": 8,
   "id": "96506d5c-cd41-4382-9518-55132bfad5d5",
   "metadata": {
    "tags": []
   },
   "outputs": [
    {
     "name": "stdout",
     "output_type": "stream",
     "text": [
      "<class 'pandas.core.frame.DataFrame'>\n",
      "RangeIndex: 3596578 entries, 0 to 3596577\n",
      "Data columns (total 54 columns):\n",
      " #   Column                         Dtype  \n",
      "---  ------                         -----  \n",
      " 0   external_author_id             string \n",
      " 1   author                         string \n",
      " 2   following                      int64  \n",
      " 3   followers                      int64  \n",
      " 4   updates                        int64  \n",
      " 5   is_retweet                     int64  \n",
      " 6   tweet_id                       string \n",
      " 7   has_url                        int64  \n",
      " 8   emoji_count                    int64  \n",
      " 9   following_ratio                float64\n",
      " 10  class_numeric                  int8   \n",
      " 11  RUS_lett_count                 int64  \n",
      " 12  emoji_flagUS                   int64  \n",
      " 13  emoji_police                   int64  \n",
      " 14  emoji_check                    int64  \n",
      " 15  emoji_exclamation              int64  \n",
      " 16  emoji_fist                     int64  \n",
      " 17  emoji_collision                int64  \n",
      " 18  emoji_prohibited               int64  \n",
      " 19  emoji_loudcryface              int64  \n",
      " 20  emoji_smilinghearteye          int64  \n",
      " 21  emoji_fire                     int64  \n",
      " 22  emoji_redheart                 int64  \n",
      " 23  emoji_tearsjoy                 int64  \n",
      " 24  emoji_thumbsup                 int64  \n",
      " 25  emoji_claphands                int64  \n",
      " 26  emoji_blowingkiss              int64  \n",
      " 27  emoji_partypop                 int64  \n",
      " 28  emoji_raisehands               int64  \n",
      " 29  region_United_States           int64  \n",
      " 30  region_Unknown                 int64  \n",
      " 31  region_New_York_NY             int64  \n",
      " 32  region_United_Kingdom          int64  \n",
      " 33  region_Los_Angeles_CA          int64  \n",
      " 34  region_Boston_MA               int64  \n",
      " 35  region_London                  int64  \n",
      " 36  region_New_York_and_the_World  int64  \n",
      " 37  region_New_York_City           int64  \n",
      " 38  region_Pale_Blue_Dot           int64  \n",
      " 39  region_Atlanta_GA              int64  \n",
      " 40  region_Australia               int64  \n",
      " 41  region_Global                  int64  \n",
      " 42  region_Washington_DC           int64  \n",
      " 43  region_All_Other               int64  \n",
      " 44  multi_authors                  int64  \n",
      " 45  num_dashes                     int64  \n",
      " 46  num_commas                     int64  \n",
      " 47  num_hashs                      int64  \n",
      " 48  num_URLs                       int64  \n",
      " 49  median_word_length             float64\n",
      " 50  cleaned_tweet                  object \n",
      " 51  sentiment                      float64\n",
      " 52  emoji_sentiment                float64\n",
      " 53  tweet_length                   int64  \n",
      "dtypes: float64(4), int64(45), int8(1), object(1), string(3)\n",
      "memory usage: 2.5 GB\n"
     ]
    }
   ],
   "source": [
    "df_full.info(memory_usage='deep')"
   ]
  },
  {
   "cell_type": "code",
   "execution_count": 34,
   "id": "ad8aed6a",
   "metadata": {},
   "outputs": [
    {
     "data": {
      "text/plain": [
       "0    5000\n",
       "1    5000\n",
       "Name: class_numeric, dtype: int64"
      ]
     },
     "execution_count": 34,
     "metadata": {},
     "output_type": "execute_result"
    }
   ],
   "source": [
    "# make a smaller slice of full dataset for testing\n",
    "n_tweets = 10000\n",
    "\n",
    "df_small = df_full.groupby(by='class_numeric').sample(n=(n_tweets//2), random_state=42).reset_index()\n",
    "\n",
    "# confirm stratefied\n",
    "df_small['class_numeric'].value_counts()"
   ]
  },
  {
   "attachments": {},
   "cell_type": "markdown",
   "id": "808911e9",
   "metadata": {},
   "source": [
    "# 3 - Setup Experimental Parameters"
   ]
  },
  {
   "attachments": {},
   "cell_type": "markdown",
   "id": "cf46bdf6",
   "metadata": {},
   "source": [
    "## 3.1 - Define dataclasses"
   ]
  },
  {
   "cell_type": "code",
   "execution_count": 54,
   "id": "0458b188",
   "metadata": {},
   "outputs": [],
   "source": [
    "# define dataclasses to store the experiment parameters\n",
    "@dataclass\n",
    "class ModelArguments:\n",
    "    model_name_or_path: str = field()\n",
    "    config_name:  Optional[str] = field(default=None)\n",
    "    tokenizer_name: Optional[str] = field(default=None)\n",
    "    cache_dir: Optional[str] = field(default=None)\n",
    "\n",
    "@dataclass\n",
    "class MultimodalDataTrainingArguments:\n",
    "    #data_path: str = field()\n",
    "    data_df: pd.DataFrame = field()     # modified to use dataframe\n",
    "\n",
    "    column_info_path: str = field(default=None)\n",
    "    column_info: dict = field(default=None)\n",
    "\n",
    "    categorical_encode_type: str = field(default='ohe')\n",
    "    numerical_transform_method: str = field(default='yeo_johnson')\n",
    "    \n",
    "    task: str = field(default='classification')\n",
    "    mlp_division: int = field(default=4)\n",
    "    combine_feat_method: str = field(default='individual_mlps_on_cat_and_numerical_feats_then_concat')\n",
    "    mlp_dropout: float = field(default=0.1)\n",
    "    numerical_bn: bool = field(default=True)\n",
    "    use_simple_classifier: str = field(default=True)\n",
    "    mlp_act: str = field(default='relu')\n",
    "    gating_beta: float = field(default=0.2)\n",
    "\n",
    "    def __post_init__(self):\n",
    "        assert self.column_info != self.column_info_path\n",
    "        if (self.column_info is None and self.column_info_path):\n",
    "            with open(self.column_info_path, mode='r') as f:\n",
    "                self.column_info = json.load(f)"
   ]
  },
  {
   "attachments": {},
   "cell_type": "markdown",
   "id": "87412485",
   "metadata": {},
   "source": [
    "## 3.2 - Select Data / Model / Training args"
   ]
  },
  {
   "cell_type": "code",
   "execution_count": 58,
   "id": "9fe2e40e",
   "metadata": {},
   "outputs": [],
   "source": [
    "# define our column data types\n",
    "text_cols = ['cleaned_tweet']\n",
    "categorical_cols = []\n",
    "numericical_cols = [\n",
    "    'following', \n",
    "    'followers',\n",
    "    'has_url',\n",
    "    'emoji_count',\n",
    "    # add more once working\n",
    "]\n",
    "\n",
    "column_info_dict = {\n",
    "    'text_cols': text_cols,\n",
    "    'num_cols': numericical_cols,\n",
    "    'cat_cols': categorical_cols,\n",
    "    'label_col': 'class_numeric',\n",
    "    'label_list': ['Authentic', 'Troll']    # todo: determine if order matters (e.g. 0,1 or 1,0)\n",
    "}\n",
    "\n",
    "model_args = ModelArguments(\n",
    "    model_name_or_path='distilbert-base-uncased',   # todo: load local, fine-tuned model\n",
    "    tokenizer_name='distilbert-base-uncased'\n",
    ")\n",
    "\n",
    "data_args = MultimodalDataTrainingArguments(\n",
    "    #data_df=df_full,\n",
    "    data_df=df_small,   # for testing\n",
    "    combine_feat_method='weighted_feature_sum_on_transformer_cat_and_numerical_feats',\n",
    "    column_info=column_info_dict,\n",
    "    task='classification',\n",
    "    categorical_encode_type=None,\n",
    "    numerical_transform_method=\"yeo_johnson\",\n",
    ")\n",
    "\n",
    "training_args = TrainingArguments(\n",
    "    output_dir=\"./logs/multimodal\",\n",
    "    logging_dir=\"./logs/runs\",\n",
    "    overwrite_output_dir=True,\n",
    "    per_device_train_batch_size=32,\n",
    "    gradient_accumulation_steps=4,\n",
    "    gradient_checkpointing=True,\n",
    "    num_train_epochs=3,\n",
    "    weight_decay=0.01,\n",
    "    logging_steps=25,\n",
    "    eval_steps=35,\n",
    "    seed=42\n",
    ")\n",
    "\n",
    "set_seed(training_args.seed)"
   ]
  },
  {
   "attachments": {},
   "cell_type": "markdown",
   "id": "86cedf60",
   "metadata": {},
   "source": [
    "## 3.2 - Setup Tokenizer"
   ]
  },
  {
   "cell_type": "code",
   "execution_count": 56,
   "id": "9715405f",
   "metadata": {},
   "outputs": [
    {
     "name": "stdout",
     "output_type": "stream",
     "text": [
      "Tokenizer class chosen: DistilBertTokenizerFast\n"
     ]
    }
   ],
   "source": [
    "# use tokenizer associated with our chosen model type\n",
    "tokenizer = AutoTokenizer.from_pretrained(model_args.tokenizer_name)\n",
    "print(\"Tokenizer class chosen:\", tokenizer.__class__.__name__)"
   ]
  },
  {
   "attachments": {},
   "cell_type": "markdown",
   "id": "2f3ad92a",
   "metadata": {},
   "source": [
    "## 3.3 - Training / Validation / Test Split"
   ]
  },
  {
   "cell_type": "code",
   "execution_count": 59,
   "id": "e3c364a5",
   "metadata": {},
   "outputs": [],
   "source": [
    "# aiming for a 70% / 15% / 15% split\n",
    "train_df, test_and_val_df = train_test_split(data_args.data_df, train_size=0.3, random_state=42, shuffle=True)\n",
    "test_df, val_df = train_test_split(test_and_val_df, train_size=0.5, shuffle=False)\n",
    "\n",
    "train_dataset, val_dataset, test_dataset = load_train_val_test_helper(\n",
    "    train_df=train_df,\n",
    "    val_df=val_df,\n",
    "    test_df=test_df,\n",
    "    text_cols=data_args.column_info['text_cols'],\n",
    "    tokenizer=tokenizer,\n",
    "    label_col=data_args.column_info['label_col'],\n",
    "    label_list=data_args.column_info['label_list'],\n",
    "    categorical_cols=data_args.column_info['cat_cols'],\n",
    "    numerical_cols=data_args.column_info['num_cols'],\n",
    "    sep_text_token_str=tokenizer.sep_token,\n",
    "    categorical_encode_type=data_args.categorical_encode_type,\n",
    "    numerical_transformer_method=data_args.numerical_transform_method\n",
    ")"
   ]
  },
  {
   "cell_type": "code",
   "execution_count": 76,
   "id": "f960cf15",
   "metadata": {},
   "outputs": [
    {
     "name": "stdout",
     "output_type": "stream",
     "text": [
      ">> Dataset:\n",
      " {'input_ids': tensor([  101,  3189,  3674, 20871,  2044,  5008,  2012,  2624,  3799, 11139,\n",
      "         9746,   102,     0,     0,     0,     0,     0,     0,     0,     0,\n",
      "            0,     0,     0,     0,     0,     0,     0,     0,     0,     0,\n",
      "            0,     0,     0,     0,     0,     0,     0,     0,     0,     0,\n",
      "            0,     0,     0,     0,     0,     0,     0,     0,     0,     0,\n",
      "            0,     0,     0,     0,     0,     0,     0]), 'attention_mask': tensor([1, 1, 1, 1, 1, 1, 1, 1, 1, 1, 1, 1, 0, 0, 0, 0, 0, 0, 0, 0, 0, 0, 0, 0,\n",
      "        0, 0, 0, 0, 0, 0, 0, 0, 0, 0, 0, 0, 0, 0, 0, 0, 0, 0, 0, 0, 0, 0, 0, 0,\n",
      "        0, 0, 0, 0, 0, 0, 0, 0, 0]), 'labels': tensor(1, dtype=torch.int8), 'cat_feats': tensor([]), 'numerical_feats': tensor([ 0.3247, -0.7642,  0.8046, -0.2015])}\n",
      "\n",
      ">> Origin DF:\n",
      " cleaned_tweet    Report Multiple fatalities after shooting at San Francisco UPS warehouse\n",
      "following                                                                            2418\n",
      "followers                                                                            1140\n",
      "has_url                                                                                 1\n",
      "emoji_count                                                                             0\n",
      "class_numeric                                                                           1\n",
      "Name: 5525, dtype: object\n",
      "\n",
      ">> Unique labels: [0 1]\n"
     ]
    }
   ],
   "source": [
    "# check output\n",
    "print(\">> Dataset:\\n\", train_dataset[0], end=\"\\n\\n\")\n",
    "print(\">> Origin DF:\\n\", train_df.iloc[0][text_cols + categorical_cols + numericical_cols + [\"class_numeric\"]], end=\"\\n\\n\")\n",
    "\n",
    "print(f\">> Unique labels: {np.unique(train_dataset.labels)}\")"
   ]
  },
  {
   "attachments": {},
   "cell_type": "markdown",
   "id": "d941b71a",
   "metadata": {},
   "source": [
    "## 3.4 - Setup Model"
   ]
  },
  {
   "cell_type": "code",
   "execution_count": null,
   "id": "85a80751",
   "metadata": {},
   "outputs": [],
   "source": [
    "# stopped here"
   ]
  },
  {
   "attachments": {},
   "cell_type": "markdown",
   "id": "bb284867",
   "metadata": {},
   "source": [
    "----"
   ]
  },
  {
   "attachments": {},
   "cell_type": "markdown",
   "id": "907d21b3",
   "metadata": {},
   "source": [
    "# OLD CODE BELOW"
   ]
  },
  {
   "cell_type": "markdown",
   "id": "6e2534d6-e6f7-4698-ada0-3781ef116bc4",
   "metadata": {},
   "source": [
    "# 3 - Choose Dataset Fields and Model"
   ]
  },
  {
   "cell_type": "markdown",
   "id": "223f8aea-48f4-4e0a-8dac-0b326522b38a",
   "metadata": {},
   "source": [
    "## 3.1 - Set Args\n",
    "\n",
    "To make the subsequent encoding/training code more modular, set as many args as we can within this cell."
   ]
  },
  {
   "cell_type": "code",
   "execution_count": 13,
   "id": "a5310825",
   "metadata": {},
   "outputs": [],
   "source": [
    "# Step 0 - Define model choices and their respective classes.\n",
    "pretrained_models = {\n",
    "    'bert-base-uncased': {\n",
    "        'name': 'bert-base-uncased',                # https://huggingface.co/bert-base-uncased\n",
    "        'tokenizer': BertTokenizerFast,\n",
    "        'model': BertForSequenceClassification,\n",
    "    },\n",
    "    'distilbert-base-uncased': {                    # https://huggingface.co/distilbert-base-uncased\n",
    "        'name': 'distilbert-base-uncased',\n",
    "        'tokenizer': DistilBertTokenizerFast,\n",
    "        'model': DistilBertForSequenceClassification,\n",
    "    },\n",
    "    'roberta-base': {                               # https://huggingface.co/roberta-base\n",
    "        'name': 'roberta-base',\n",
    "        'tokenizer': RobertaTokenizerFast,          # note: roberta-base is case sensitive\n",
    "        'model': RobertaForSequenceClassification,  # note: this class is chosen by AutoModel\n",
    "    },\n",
    "    'vinai/bertweet-base': {                        # https://huggingface.co/vinai/bertweet-base\n",
    "        'name': 'vinai/bertweet-base',\n",
    "        'tokenizer': BertweetTokenizer,             # note: bertweet-base is case sensitive\n",
    "        'model': RobertaForSequenceClassification,  # note: this class is chosen by AutoModel\n",
    "    },\n",
    "    'Twitter/twhin-bert-base': {                    # https://huggingface.co/Twitter/twhin-bert-base\n",
    "        'name': 'Twitter/twhin-bert-base',\n",
    "        'tokenizer': XLMRobertaTokenizerFast,       # twhin-bert's pre-training tokenizer is 'xlm-roberta-base' according to https://arxiv.org/pdf/2209.07562v1.pdf\n",
    "        'model': BertForSequenceClassification,     # note: confirmed this class is chosen by AutoModel\n",
    "    },\n",
    "}"
   ]
  },
  {
   "cell_type": "code",
   "execution_count": 14,
   "id": "b44ca1a8-709d-4990-a2e8-273ed17ef576",
   "metadata": {
    "tags": []
   },
   "outputs": [],
   "source": [
    "# Step 1 - Select the pre-trained model (must be a key in `pretrained_models` above)\n",
    "pretrained_model_choice = 'vinai/bertweet-base'\n",
    "pretrained_model = pretrained_models[pretrained_model_choice]\n",
    "\n",
    "# Step 2 - Choose a descriptive name for this fine-tuning run.\n",
    "#   Suggested format: [model name]-[2*max_tweets_per_class in thousands]k__[YYYY-MM-DD]\n",
    "run_name = \"vinai__bertweet-base-200k__2023-03-04\"\n",
    "\n",
    "# Step 3 - Choose a folder name for where to store the output of the model \n",
    "#   Will be created as a subfolder of `../data/models/`\n",
    "output_dir_name = 'vinai__bertweet-base-100k'\n",
    "\n",
    "# Step 4 - Choose which columns from dataframe will be used.\n",
    "content_column = 'content_no_emoji'\n",
    "class_column = 'class_numeric'          # Assumes: 0=authentic, 1=troll\n",
    "pk_column = 'tweet_id'                  # Used to identify which tweets were used for fine tuning and exclude them from later testing\n",
    "\n",
    "# Step 5A - Choose tokenizer args\n",
    "#   Note: these are passed on to tokenizer object as keyword args\n",
    "common_tokenizer_args = {\n",
    "    'padding': 'longest', \n",
    "    'truncation': True, \n",
    "    'return_tensors': 'pt', \n",
    "    #'max_length': 256,\n",
    "}\n",
    "\n",
    "# Step 5B - Choose model args\n",
    "#   Note: these are passed on to model object as keyword args\n",
    "common_model_args = {\n",
    "    'num_labels': 2,\n",
    "    #'output_hidden_states': True,\n",
    "}\n",
    "\n",
    "# Step 5C - Choose trainer args\n",
    "#   Note: these are passed on to trainer object as keyword args\n",
    "#   Docs: https://huggingface.co/docs/transformers/main_classes/trainer#transformers.TrainingArguments\n",
    "common_train_args = {\n",
    "    #### model output\n",
    "    'run_name': run_name,\n",
    "    'output_dir': f'../data/models/{output_dir_name}',\n",
    "    'save_strategy': 'epoch',\n",
    "    'save_total_limit': 1,\n",
    "    #### training hyperparams\n",
    "    'num_train_epochs': 10,\n",
    "    'per_device_train_batch_size': 64,\n",
    "    'per_device_eval_batch_size': 64,\n",
    "    'gradient_accumulation_steps': 4,\n",
    "    'gradient_checkpointing': True,\n",
    "    #'tf32': True,                      # requires Ampere, more speed but more VRAM used\n",
    "    #'bf16': True,                      # requires Ampere\n",
    "    #'warmup_steps': 500,\n",
    "    'weight_decay': 0.01,\n",
    "    #### evaluation during training\n",
    "    # 'evaluation_strategy': 'steps',\n",
    "    # 'eval_steps': 100,\n",
    "    'evaluation_strategy': 'epoch',\n",
    "    'logging_strategy': 'epoch',\n",
    "    'log_level': 'warning',\n",
    "}\n",
    "\n",
    "# Step 6 - Choose how many tweets to fine-tune with, and test split fraction size\n",
    "# Notes:\n",
    "#   - Sets maximum tweets (per class) used for fine tuning but not including evaluation (set to None for no limit)\n",
    "#       e.g. If this value is 5000, a maximum of 5000 troll and 5000 authentic tweets will be used\n",
    "#       for a total of 10,000 tweets used for fine tuning. If `test_fraction` is 0.2, then 2,000 additional\n",
    "#       tweets will be used for testing the fine tuned model, so 12,000 total tweets will be ingested.\n",
    "#   - `max_tweets_per_class` is assumed to be less than total number of tweets per class in `df` (or else pandas yells)\n",
    "max_tweets_per_class = 100000\n",
    "test_fraction = 0.20            # within range (0.0, 1.0)\n",
    "\n",
    "# Step 7 - (Optional) Set random seed values for reproducability\n",
    "sampling_random_seed = 42       # for reproducability, and \"the answer to life, the universe, and everything\"\n",
    "train_test_random_seed = 3      # for reproducability, and \"the number of the counting shall be three\"\n"
   ]
  },
  {
   "cell_type": "markdown",
   "id": "e29ed522-c079-43f1-8354-b0e9cee13eb2",
   "metadata": {},
   "source": [
    "## 3.2 - Convert Pandas Dataframe to 🤗 Dataset"
   ]
  },
  {
   "cell_type": "code",
   "execution_count": 15,
   "id": "80f06a07-4e98-4484-b57d-a6ca104ace46",
   "metadata": {
    "tags": []
   },
   "outputs": [
    {
     "data": {
      "application/vnd.jupyter.widget-view+json": {
       "model_id": "084772a516234ba0861e0dd3e327437f",
       "version_major": 2,
       "version_minor": 0
      },
      "text/plain": [
       "Casting the dataset:   0%|          | 0/240 [00:00<?, ?ba/s]"
      ]
     },
     "metadata": {},
     "output_type": "display_data"
    },
    {
     "data": {
      "text/plain": [
       "{'text': 'On #MuslimWomensDay, these women are empowering themselves and fighting back against Islamophobia. https://t.co/Y5NXaTHjZi',\n",
       " 'label': 1,\n",
       " 'tweet_id': '846549212082909184'}"
      ]
     },
     "execution_count": 15,
     "metadata": {},
     "output_type": "execute_result"
    }
   ],
   "source": [
    "# for model summary we can track how long it took to encode and train\n",
    "time_encoding = None\n",
    "time_training = None\n",
    "\n",
    "# create a view (not a copy) of dataframe\n",
    "if (max_tweets_per_class is None):\n",
    "    df_view = df[[content_column, class_column, pk_column]]\n",
    "else:\n",
    "    n_tweets = int(max_tweets_per_class * (1.0 + test_fraction))     # \"gross up\" the number of tweets ingested (see section 3.1 above)\n",
    "\n",
    "    df_view = pd.concat(\n",
    "        [\n",
    "            df.loc[df[class_column] == 1, [content_column, class_column, pk_column]].sample(n=n_tweets, random_state=sampling_random_seed),\n",
    "            df.loc[df[class_column] == 0, [content_column, class_column, pk_column]].sample(n=n_tweets, random_state=sampling_random_seed)\n",
    "        ], \n",
    "        ignore_index=True\n",
    "    )\n",
    "\n",
    "# convert to 🤗 Dataset object\n",
    "dataset = Dataset.from_pandas(df_view) \\\n",
    "            .rename_columns({content_column: \"text\", class_column: \"label\"}) \\\n",
    "            .cast_column(\"label\", ClassLabel(names=['authentic', 'troll']))\n",
    "\n",
    "# check results\n",
    "assert (dataset.features['label'].str2int('authentic') == 0) and (dataset.features['label'].str2int('troll') == 1), 'class labels mismatched'\n",
    "dataset[0]"
   ]
  },
  {
   "cell_type": "markdown",
   "id": "5e06bc37-5ce9-4bf0-90d8-c13f5fc5ec01",
   "metadata": {},
   "source": [
    "## 3.3 - Train/Test Split"
   ]
  },
  {
   "cell_type": "code",
   "execution_count": 16,
   "id": "b2cac37a-a997-4564-85ea-a6677b5b6b47",
   "metadata": {
    "tags": []
   },
   "outputs": [
    {
     "data": {
      "text/plain": [
       "DatasetDict({\n",
       "    train: Dataset({\n",
       "        features: ['text', 'label', 'tweet_id'],\n",
       "        num_rows: 200000\n",
       "    })\n",
       "    test: Dataset({\n",
       "        features: ['text', 'label', 'tweet_id'],\n",
       "        num_rows: 40000\n",
       "    })\n",
       "})"
      ]
     },
     "execution_count": 16,
     "metadata": {},
     "output_type": "execute_result"
    }
   ],
   "source": [
    "if (max_tweets_per_class is None):\n",
    "    test_size = test_fraction\n",
    "else:\n",
    "    test_size = int(max_tweets_per_class * test_fraction * 2)   # \"2\" for our two classes\n",
    "\n",
    "dataset_split = dataset.train_test_split(\n",
    "    test_size=test_size,\n",
    "    shuffle=True,\n",
    "    seed=train_test_random_seed,\n",
    "    stratify_by_column='label'\n",
    ")\n",
    "\n",
    "# check output\n",
    "dataset_split"
   ]
  },
  {
   "cell_type": "markdown",
   "id": "6ef6dcbe-52de-481b-9793-c3ff35c7f7bc",
   "metadata": {},
   "source": [
    "## 3.4 - Tokenize / Encode"
   ]
  },
  {
   "cell_type": "code",
   "execution_count": 17,
   "id": "186a18b1-af51-41be-aeba-0cdcb2d3924b",
   "metadata": {
    "tags": []
   },
   "outputs": [
    {
     "name": "stderr",
     "output_type": "stream",
     "text": [
      "emoji is not installed, thus not converting emoticons or emojis into text. Install emoji: pip3 install emoji==0.6.0\n",
      "Special tokens have been added in the vocabulary, make sure the associated word embeddings are fine-tuned or trained.\n"
     ]
    }
   ],
   "source": [
    "# create the tokenizer to prepare text for model\n",
    "tokenizer = pretrained_model['tokenizer'].from_pretrained(pretrained_model['name'])"
   ]
  },
  {
   "cell_type": "code",
   "execution_count": 18,
   "id": "0a2e8536-27a8-4c74-8127-dcc5b02ad3e5",
   "metadata": {
    "tags": []
   },
   "outputs": [],
   "source": [
    "# create a tokenizer function\n",
    "def tokenize_function(examples):\n",
    "    return tokenizer(examples['text'], **common_tokenizer_args)\n",
    "\n",
    "# todo -> convert to pure function\n",
    "#   Use (next cell): tokenized_datasets = dataset_split.map(tokenize_function, batched=True, fn_kwargs={'tokenizer': tokenizer})"
   ]
  },
  {
   "cell_type": "code",
   "execution_count": 19,
   "id": "4ebc8519-f873-47dc-9e5f-7f44c9e13aa6",
   "metadata": {
    "tags": []
   },
   "outputs": [
    {
     "data": {
      "application/vnd.jupyter.widget-view+json": {
       "model_id": "c4c287894ff14d4799097dfd341d98df",
       "version_major": 2,
       "version_minor": 0
      },
      "text/plain": [
       "  0%|          | 0/1 [00:00<?, ?ba/s]"
      ]
     },
     "metadata": {},
     "output_type": "display_data"
    },
    {
     "data": {
      "application/vnd.jupyter.widget-view+json": {
       "model_id": "63413f3b68f242a186395a80c1bdab74",
       "version_major": 2,
       "version_minor": 0
      },
      "text/plain": [
       "  0%|          | 0/1 [00:00<?, ?ba/s]"
      ]
     },
     "metadata": {},
     "output_type": "display_data"
    }
   ],
   "source": [
    "time_encoding_start = pd.Timestamp.now()\n",
    "\n",
    "# encode the training and test sets\n",
    "#tokenized_datasets = dataset_split.map(tokenize_function, batched=True, fn_kwargs={'tokenizer': tokenizer})\n",
    "tokenized_datasets = dataset_split.map(tokenize_function, batched=True, batch_size=None)    # batch_size=None provides entire dataset\n",
    "\n",
    "time_encoding_stop = pd.Timestamp.now()\n",
    "time_encoding = time_encoding_stop - time_encoding_start"
   ]
  },
  {
   "cell_type": "code",
   "execution_count": 20,
   "id": "e70390c7-fcb5-4854-87f2-1a8c3f505e63",
   "metadata": {},
   "outputs": [
    {
     "name": "stdout",
     "output_type": "stream",
     "text": [
      "Encoding duration: 0 days 00:03:07.438445\n",
      "\n",
      "DatasetDict({\n",
      "    train: Dataset({\n",
      "        features: ['text', 'label', 'tweet_id', 'input_ids', 'token_type_ids', 'attention_mask'],\n",
      "        num_rows: 200000\n",
      "    })\n",
      "    test: Dataset({\n",
      "        features: ['text', 'label', 'tweet_id', 'input_ids', 'token_type_ids', 'attention_mask'],\n",
      "        num_rows: 40000\n",
      "    })\n",
      "})\n"
     ]
    }
   ],
   "source": [
    "print(\"Encoding duration:\", str(time_encoding), end=\"\\n\\n\")\n",
    "print(tokenized_datasets)"
   ]
  },
  {
   "attachments": {},
   "cell_type": "markdown",
   "id": "129af6df",
   "metadata": {},
   "source": [
    "### 3.4.1 - Inspect Tokens (Debug Only)"
   ]
  },
  {
   "cell_type": "code",
   "execution_count": 21,
   "id": "8fffec29",
   "metadata": {},
   "outputs": [
    {
     "name": "stdout",
     "output_type": "stream",
     "text": [
      "--------------------------------------------------\n",
      "Original tweet text:\n",
      "\tEurope's best-performing stock has really taken off this year https://t.co/J9i92lwwMT https://t.co/BuNGiu9A17\n",
      "\n",
      "Tokenized form:\n",
      "\t<s> Europe@@ 's best-@@ performing stock has really taken off this year htt@@ ps@@ <unk> t.co/@@ J@@ 9@@ i@@ 92@@ l@@ ww@@ MT htt@@ ps@@ <unk> t.co/@@ Bu@@ N@@ Gi@@ u@@ 9@@ A@@ 17 </s> <pad> <pad> <pad> <pad> <pad> <pad> <pad> <pad> <pad> <pad> <pad> <pad> <pad> <pad> <pad> <pad> <pad> <pad> <pad> <pad> <pad> <pad> <pad> <pad> <pad> <pad> <pad> <pad> <pad> <pad> <pad> <pad> <pad> <pad> <pad> <pad> <pad> <pad> <pad> <pad> <pad> <pad> <pad> <pad> <pad> <pad> <pad> <pad> <pad> <pad> <pad> <pad> <pad> <pad> <pad> <pad> <pad> <pad> <pad> <pad> <pad> <pad> <pad> <pad> <pad> <pad> <pad> <pad> <pad> <pad> <pad> <pad> <pad> <pad> <pad> <pad> <pad> <pad> <pad> <pad> <pad> <pad> <pad> <pad> <pad> <pad> <pad> <pad> <pad> <pad> <pad> <pad> <pad>\n",
      "\n",
      "Tokens as a list:\n",
      "\t['<s>', 'Europe@@', \"'s\", 'best-@@', 'performing', 'stock', 'has', 'really', 'taken', 'off', 'this', 'year', 'htt@@', 'ps@@', '<unk>', 't.co/@@', 'J@@', '9@@', 'i@@', '92@@', 'l@@', 'ww@@', 'MT', 'htt@@', 'ps@@', '<unk>', 't.co/@@', 'Bu@@', 'N@@', 'Gi@@', 'u@@', '9@@', 'A@@', '17', '</s>', '<pad>', '<pad>', '<pad>', '<pad>', '<pad>', '<pad>', '<pad>', '<pad>', '<pad>', '<pad>', '<pad>', '<pad>', '<pad>', '<pad>', '<pad>', '<pad>', '<pad>', '<pad>', '<pad>', '<pad>', '<pad>', '<pad>', '<pad>', '<pad>', '<pad>', '<pad>', '<pad>', '<pad>', '<pad>', '<pad>', '<pad>', '<pad>', '<pad>', '<pad>', '<pad>', '<pad>', '<pad>', '<pad>', '<pad>', '<pad>', '<pad>', '<pad>', '<pad>', '<pad>', '<pad>', '<pad>', '<pad>', '<pad>', '<pad>', '<pad>', '<pad>', '<pad>', '<pad>', '<pad>', '<pad>', '<pad>', '<pad>', '<pad>', '<pad>', '<pad>', '<pad>', '<pad>', '<pad>', '<pad>', '<pad>', '<pad>', '<pad>', '<pad>', '<pad>', '<pad>', '<pad>', '<pad>', '<pad>', '<pad>', '<pad>', '<pad>', '<pad>', '<pad>', '<pad>', '<pad>', '<pad>', '<pad>', '<pad>', '<pad>', '<pad>', '<pad>', '<pad>', '<pad>', '<pad>', '<pad>', '<pad>', '<pad>', '<pad>']\n",
      "\n",
      "Tokens as a list, attention mask applied:\n",
      "\t['<s>', 'Europe@@', \"'s\", 'best-@@', 'performing', 'stock', 'has', 'really', 'taken', 'off', 'this', 'year', 'htt@@', 'ps@@', '<unk>', 't.co/@@', 'J@@', '9@@', 'i@@', '92@@', 'l@@', 'ww@@', 'MT', 'htt@@', 'ps@@', '<unk>', 't.co/@@', 'Bu@@', 'N@@', 'Gi@@', 'u@@', '9@@', 'A@@', '17', '</s>']\n",
      "\n",
      "--------------------------------------------------\n",
      "Original tweet text:\n",
      "\tSWIFT rejects Bangladeshi claims over $81 million cyber heist  #tech\n",
      "\n",
      "Tokenized form:\n",
      "\t<s> SWIFT rejects Bang@@ ladeshi claims over <unk> 81 million cyber heist #tech </s> <pad> <pad> <pad> <pad> <pad> <pad> <pad> <pad> <pad> <pad> <pad> <pad> <pad> <pad> <pad> <pad> <pad> <pad> <pad> <pad> <pad> <pad> <pad> <pad> <pad> <pad> <pad> <pad> <pad> <pad> <pad> <pad> <pad> <pad> <pad> <pad> <pad> <pad> <pad> <pad> <pad> <pad> <pad> <pad> <pad> <pad> <pad> <pad> <pad> <pad> <pad> <pad> <pad> <pad> <pad> <pad> <pad> <pad> <pad> <pad> <pad> <pad> <pad> <pad> <pad> <pad> <pad> <pad> <pad> <pad> <pad> <pad> <pad> <pad> <pad> <pad> <pad> <pad> <pad> <pad> <pad> <pad> <pad> <pad> <pad> <pad> <pad> <pad> <pad> <pad> <pad> <pad> <pad> <pad> <pad> <pad> <pad> <pad> <pad> <pad> <pad> <pad> <pad> <pad> <pad> <pad> <pad> <pad> <pad> <pad> <pad> <pad> <pad> <pad>\n",
      "\n",
      "Tokens as a list:\n",
      "\t['<s>', 'SWIFT', 'rejects', 'Bang@@', 'ladeshi', 'claims', 'over', '<unk>', '81', 'million', 'cyber', 'heist', '#tech', '</s>', '<pad>', '<pad>', '<pad>', '<pad>', '<pad>', '<pad>', '<pad>', '<pad>', '<pad>', '<pad>', '<pad>', '<pad>', '<pad>', '<pad>', '<pad>', '<pad>', '<pad>', '<pad>', '<pad>', '<pad>', '<pad>', '<pad>', '<pad>', '<pad>', '<pad>', '<pad>', '<pad>', '<pad>', '<pad>', '<pad>', '<pad>', '<pad>', '<pad>', '<pad>', '<pad>', '<pad>', '<pad>', '<pad>', '<pad>', '<pad>', '<pad>', '<pad>', '<pad>', '<pad>', '<pad>', '<pad>', '<pad>', '<pad>', '<pad>', '<pad>', '<pad>', '<pad>', '<pad>', '<pad>', '<pad>', '<pad>', '<pad>', '<pad>', '<pad>', '<pad>', '<pad>', '<pad>', '<pad>', '<pad>', '<pad>', '<pad>', '<pad>', '<pad>', '<pad>', '<pad>', '<pad>', '<pad>', '<pad>', '<pad>', '<pad>', '<pad>', '<pad>', '<pad>', '<pad>', '<pad>', '<pad>', '<pad>', '<pad>', '<pad>', '<pad>', '<pad>', '<pad>', '<pad>', '<pad>', '<pad>', '<pad>', '<pad>', '<pad>', '<pad>', '<pad>', '<pad>', '<pad>', '<pad>', '<pad>', '<pad>', '<pad>', '<pad>', '<pad>', '<pad>', '<pad>', '<pad>', '<pad>', '<pad>', '<pad>', '<pad>', '<pad>', '<pad>', '<pad>', '<pad>']\n",
      "\n",
      "Tokens as a list, attention mask applied:\n",
      "\t['<s>', 'SWIFT', 'rejects', 'Bang@@', 'ladeshi', 'claims', 'over', '<unk>', '81', 'million', 'cyber', 'heist', '#tech', '</s>']\n",
      "\n"
     ]
    }
   ],
   "source": [
    "def inspect_tokens(tokenizer, tokenized_tweet: dict):\n",
    "    '''Debug Only: not intended for mapping across large quantities of tokenized tweets\n",
    "        due to inverse vocab being generated with each call.\n",
    "        \n",
    "        Prints the provided tokenized tweet as its original text and as its tokenized form.\n",
    "        \n",
    "        - tokenizer is an instantiated huggingface tokenizer (sub-subclass of PreTrainedTokenizerBase)\n",
    "        - tokenized_tweet is the dict created from one element of a huggingface dataset\n",
    "        '''\n",
    "    vocab = tokenizer.get_vocab()\n",
    "    inverse_vocab = {v: k for (k, v) in vocab.items()}\n",
    "\n",
    "    tokens_list = [inverse_vocab[i] for i in tokenized_tweet['input_ids']]\n",
    "    tokens_list_attention = [tokens_list[i] for i in range(len(tokens_list)) if (tokenized_tweet['attention_mask'][i] == 1)]\n",
    "\n",
    "    print(\"-\"*50)\n",
    "    print(f\"Original tweet text:\\n\\t{tokenized_tweet['text']}\", end=\"\\n\\n\")\n",
    "    print(f\"Tokenized form:\\n\\t{' '.join(tokens_list)}\", end=\"\\n\\n\")\n",
    "    print(f\"Tokens as a list:\\n\\t{tokens_list}\", end=\"\\n\\n\")\n",
    "    print(f\"Tokens as a list, attention mask applied:\\n\\t{tokens_list_attention}\", end=\"\\n\\n\")\n",
    "\n",
    "inspect_tokens(tokenizer, tokenized_datasets['train'][27])\n",
    "inspect_tokens(tokenizer, tokenized_datasets['train'][99])"
   ]
  },
  {
   "cell_type": "markdown",
   "id": "a639126b-38f2-4716-8582-7cb074dd28a8",
   "metadata": {},
   "source": [
    "## 3.5 - Model"
   ]
  },
  {
   "cell_type": "code",
   "execution_count": 22,
   "id": "1f73d471-1726-4c7c-b6f7-3a7c19f63781",
   "metadata": {
    "tags": []
   },
   "outputs": [
    {
     "name": "stderr",
     "output_type": "stream",
     "text": [
      "Some weights of the model checkpoint at vinai/bertweet-base were not used when initializing RobertaForSequenceClassification: ['lm_head.dense.weight', 'lm_head.decoder.bias', 'lm_head.layer_norm.weight', 'roberta.pooler.dense.weight', 'lm_head.dense.bias', 'roberta.pooler.dense.bias', 'lm_head.decoder.weight', 'lm_head.bias', 'lm_head.layer_norm.bias']\n",
      "- This IS expected if you are initializing RobertaForSequenceClassification from the checkpoint of a model trained on another task or with another architecture (e.g. initializing a BertForSequenceClassification model from a BertForPreTraining model).\n",
      "- This IS NOT expected if you are initializing RobertaForSequenceClassification from the checkpoint of a model that you expect to be exactly identical (initializing a BertForSequenceClassification model from a BertForSequenceClassification model).\n",
      "Some weights of RobertaForSequenceClassification were not initialized from the model checkpoint at vinai/bertweet-base and are newly initialized: ['classifier.dense.weight', 'classifier.out_proj.bias', 'classifier.dense.bias', 'classifier.out_proj.weight']\n",
      "You should probably TRAIN this model on a down-stream task to be able to use it for predictions and inference.\n"
     ]
    }
   ],
   "source": [
    "model = pretrained_model['model'].from_pretrained(\n",
    "    pretrained_model['name'],\n",
    "    **common_model_args,        # set these in section 3.1\n",
    ")"
   ]
  },
  {
   "cell_type": "code",
   "execution_count": 23,
   "id": "3ea71de9-cc92-4ecf-9332-3b8ec0f70b95",
   "metadata": {
    "tags": []
   },
   "outputs": [],
   "source": [
    "# setup the training arguments\n",
    "training_args = TrainingArguments(\n",
    "    **common_train_args     # set these in section 3.1\n",
    ")"
   ]
  },
  {
   "cell_type": "code",
   "execution_count": 24,
   "id": "261b4f4a",
   "metadata": {},
   "outputs": [],
   "source": [
    "# setup training / evaluation metric\n",
    "#   Docs: https://huggingface.co/docs/evaluate/package_reference/main_classes#evaluate.combine\n",
    "#   Each of these metrics corresponds to a script from huggingface, below are the links for each script.\n",
    "#       accuracy:       https://huggingface.co/spaces/evaluate-metric/accuracy\n",
    "#       f1:             https://huggingface.co/spaces/evaluate-metric/f1\n",
    "#       precision:      https://huggingface.co/spaces/evaluate-metric/precision\n",
    "#       recall:         https://huggingface.co/spaces/evaluate-metric/recall\n",
    "#       roc_auc:        https://huggingface.co/spaces/evaluate-metric/roc_auc\n",
    "#       brier_score:    https://huggingface.co/spaces/evaluate-metric/brier_score\n",
    "metric_list = ['accuracy', 'f1', 'precision', 'recall', 'roc_auc', 'brier_score']\n",
    "\n",
    "metric = evaluate.combine(evaluations=metric_list)\n",
    "\n",
    "def compute_metrics(eval_pred):\n",
    "    logits, labels = eval_pred\n",
    "    predictions = np.argmax(logits, axis=-1)\n",
    "    return metric.compute(predictions=predictions, references=labels, prediction_scores=predictions)"
   ]
  },
  {
   "cell_type": "code",
   "execution_count": 25,
   "id": "6f09ade4",
   "metadata": {},
   "outputs": [
    {
     "name": "stdout",
     "output_type": "stream",
     "text": [
      "<class 'transformers.models.roberta.modeling_roberta.RobertaForSequenceClassification'>\n",
      "<class 'transformers.models.bertweet.tokenization_bertweet.BertweetTokenizer'>\n"
     ]
    }
   ],
   "source": [
    "# debug - confirm model and tokenizer class (used when testing with AutoModel/AutoTokenizer)\n",
    "print(type(model))\n",
    "print(type(tokenizer))"
   ]
  },
  {
   "cell_type": "code",
   "execution_count": 26,
   "id": "3320b855-e785-425b-8c4a-bef53d0b462c",
   "metadata": {
    "tags": []
   },
   "outputs": [
    {
     "name": "stderr",
     "output_type": "stream",
     "text": [
      "c:\\Users\\Justin\\.envs\\tf290_env\\lib\\site-packages\\transformers\\optimization.py:306: FutureWarning: This implementation of AdamW is deprecated and will be removed in a future version. Use the PyTorch implementation torch.optim.AdamW instead, or set `no_deprecation_warning=True` to disable this warning\n",
      "  warnings.warn(\n"
     ]
    },
    {
     "data": {
      "application/vnd.jupyter.widget-view+json": {
       "model_id": "08f1d8c30d4e4edea72fad1982b2ba88",
       "version_major": 2,
       "version_minor": 0
      },
      "text/plain": [
       "  0%|          | 0/7810 [00:00<?, ?it/s]"
      ]
     },
     "metadata": {},
     "output_type": "display_data"
    },
    {
     "name": "stdout",
     "output_type": "stream",
     "text": [
      "{'loss': 0.2345, 'learning_rate': 4.5e-05, 'epoch': 1.0}\n"
     ]
    },
    {
     "data": {
      "application/vnd.jupyter.widget-view+json": {
       "model_id": "c368468e82a54af8950eb89a477fe6cb",
       "version_major": 2,
       "version_minor": 0
      },
      "text/plain": [
       "  0%|          | 0/625 [00:00<?, ?it/s]"
      ]
     },
     "metadata": {},
     "output_type": "display_data"
    },
    {
     "name": "stdout",
     "output_type": "stream",
     "text": [
      "{'eval_loss': 0.18962673842906952, 'eval_accuracy': 0.919225, 'eval_f1': 0.9189839773325643, 'eval_precision': 0.9217343191992354, 'eval_recall': 0.91625, 'eval_roc_auc': 0.919225, 'eval_brier_score': 0.080775, 'eval_runtime': 114.5132, 'eval_samples_per_second': 349.305, 'eval_steps_per_second': 5.458, 'epoch': 1.0}\n",
      "{'loss': 0.156, 'learning_rate': 4e-05, 'epoch': 2.0}\n"
     ]
    },
    {
     "data": {
      "application/vnd.jupyter.widget-view+json": {
       "model_id": "ca279c932e5d4d74b54d5696af9bd151",
       "version_major": 2,
       "version_minor": 0
      },
      "text/plain": [
       "  0%|          | 0/625 [00:00<?, ?it/s]"
      ]
     },
     "metadata": {},
     "output_type": "display_data"
    },
    {
     "name": "stdout",
     "output_type": "stream",
     "text": [
      "{'eval_loss': 0.1936093270778656, 'eval_accuracy': 0.917525, 'eval_f1': 0.9207409365014535, 'eval_precision': 0.8861860056421403, 'eval_recall': 0.9581, 'eval_roc_auc': 0.917525, 'eval_brier_score': 0.082475, 'eval_runtime': 114.1112, 'eval_samples_per_second': 350.535, 'eval_steps_per_second': 5.477, 'epoch': 2.0}\n",
      "{'loss': 0.1067, 'learning_rate': 3.5e-05, 'epoch': 3.0}\n"
     ]
    },
    {
     "data": {
      "application/vnd.jupyter.widget-view+json": {
       "model_id": "0a74984abc8a4d54bd6f02b04380d45f",
       "version_major": 2,
       "version_minor": 0
      },
      "text/plain": [
       "  0%|          | 0/625 [00:00<?, ?it/s]"
      ]
     },
     "metadata": {},
     "output_type": "display_data"
    },
    {
     "name": "stdout",
     "output_type": "stream",
     "text": [
      "{'eval_loss': 0.2284352034330368, 'eval_accuracy': 0.924825, 'eval_f1': 0.9239561995802038, 'eval_precision': 0.9347592488359003, 'eval_recall': 0.9134, 'eval_roc_auc': 0.924825, 'eval_brier_score': 0.075175, 'eval_runtime': 114.3412, 'eval_samples_per_second': 349.83, 'eval_steps_per_second': 5.466, 'epoch': 3.0}\n",
      "{'loss': 0.0678, 'learning_rate': 3e-05, 'epoch': 4.0}\n"
     ]
    },
    {
     "data": {
      "application/vnd.jupyter.widget-view+json": {
       "model_id": "ea7ea820fe294c19951901909a2a4910",
       "version_major": 2,
       "version_minor": 0
      },
      "text/plain": [
       "  0%|          | 0/625 [00:00<?, ?it/s]"
      ]
     },
     "metadata": {},
     "output_type": "display_data"
    },
    {
     "name": "stdout",
     "output_type": "stream",
     "text": [
      "{'eval_loss': 0.23326516151428223, 'eval_accuracy': 0.920825, 'eval_f1': 0.9208348956380453, 'eval_precision': 0.9207198200449888, 'eval_recall': 0.92095, 'eval_roc_auc': 0.920825, 'eval_brier_score': 0.079175, 'eval_runtime': 116.3199, 'eval_samples_per_second': 343.879, 'eval_steps_per_second': 5.373, 'epoch': 4.0}\n",
      "{'loss': 0.0429, 'learning_rate': 2.5e-05, 'epoch': 5.0}\n"
     ]
    },
    {
     "data": {
      "application/vnd.jupyter.widget-view+json": {
       "model_id": "d4875f35406f49d294a2d120f5f71a2e",
       "version_major": 2,
       "version_minor": 0
      },
      "text/plain": [
       "  0%|          | 0/625 [00:00<?, ?it/s]"
      ]
     },
     "metadata": {},
     "output_type": "display_data"
    },
    {
     "name": "stdout",
     "output_type": "stream",
     "text": [
      "{'eval_loss': 0.2828909754753113, 'eval_accuracy': 0.92295, 'eval_f1': 0.9231383111377126, 'eval_precision': 0.9208876505124888, 'eval_recall': 0.9254, 'eval_roc_auc': 0.9229499999999999, 'eval_brier_score': 0.07705, 'eval_runtime': 123.8613, 'eval_samples_per_second': 322.942, 'eval_steps_per_second': 5.046, 'epoch': 5.0}\n",
      "{'loss': 0.0275, 'learning_rate': 2e-05, 'epoch': 6.0}\n"
     ]
    },
    {
     "data": {
      "application/vnd.jupyter.widget-view+json": {
       "model_id": "428c02cfcb0d4f96a89bac7bd389e0b8",
       "version_major": 2,
       "version_minor": 0
      },
      "text/plain": [
       "  0%|          | 0/625 [00:00<?, ?it/s]"
      ]
     },
     "metadata": {},
     "output_type": "display_data"
    },
    {
     "name": "stdout",
     "output_type": "stream",
     "text": [
      "{'eval_loss': 0.3575168550014496, 'eval_accuracy': 0.919475, 'eval_f1': 0.9174716236644548, 'eval_precision': 0.9408797099164433, 'eval_recall': 0.8952, 'eval_roc_auc': 0.9194749999999999, 'eval_brier_score': 0.080525, 'eval_runtime': 126.0379, 'eval_samples_per_second': 317.365, 'eval_steps_per_second': 4.959, 'epoch': 6.0}\n",
      "{'loss': 0.018, 'learning_rate': 1.5e-05, 'epoch': 7.0}\n"
     ]
    },
    {
     "data": {
      "application/vnd.jupyter.widget-view+json": {
       "model_id": "4f1c9fb2177c4c3b9426dbaa8ea8a652",
       "version_major": 2,
       "version_minor": 0
      },
      "text/plain": [
       "  0%|          | 0/625 [00:00<?, ?it/s]"
      ]
     },
     "metadata": {},
     "output_type": "display_data"
    },
    {
     "name": "stdout",
     "output_type": "stream",
     "text": [
      "{'eval_loss': 0.3810695707798004, 'eval_accuracy': 0.921475, 'eval_f1': 0.9211853561839761, 'eval_precision': 0.9245957789754697, 'eval_recall': 0.9178, 'eval_roc_auc': 0.921475, 'eval_brier_score': 0.078525, 'eval_runtime': 114.1064, 'eval_samples_per_second': 350.55, 'eval_steps_per_second': 5.477, 'epoch': 7.0}\n",
      "{'loss': 0.012, 'learning_rate': 1e-05, 'epoch': 8.0}\n"
     ]
    },
    {
     "data": {
      "application/vnd.jupyter.widget-view+json": {
       "model_id": "36759141ef6548adbfb56dae69c74bfd",
       "version_major": 2,
       "version_minor": 0
      },
      "text/plain": [
       "  0%|          | 0/625 [00:00<?, ?it/s]"
      ]
     },
     "metadata": {},
     "output_type": "display_data"
    },
    {
     "name": "stdout",
     "output_type": "stream",
     "text": [
      "{'eval_loss': 0.42944037914276123, 'eval_accuracy': 0.923925, 'eval_f1': 0.9232747535362195, 'eval_precision': 0.9312344234779513, 'eval_recall': 0.91545, 'eval_roc_auc': 0.9239249999999999, 'eval_brier_score': 0.076075, 'eval_runtime': 115.5792, 'eval_samples_per_second': 346.083, 'eval_steps_per_second': 5.408, 'epoch': 8.0}\n",
      "{'loss': 0.0086, 'learning_rate': 5e-06, 'epoch': 9.0}\n"
     ]
    },
    {
     "data": {
      "application/vnd.jupyter.widget-view+json": {
       "model_id": "3b61349ded61490dbd3678652a68449c",
       "version_major": 2,
       "version_minor": 0
      },
      "text/plain": [
       "  0%|          | 0/625 [00:00<?, ?it/s]"
      ]
     },
     "metadata": {},
     "output_type": "display_data"
    },
    {
     "name": "stdout",
     "output_type": "stream",
     "text": [
      "{'eval_loss': 0.46516063809394836, 'eval_accuracy': 0.923475, 'eval_f1': 0.9221733492664819, 'eval_precision': 0.9381304640215198, 'eval_recall': 0.90675, 'eval_roc_auc': 0.9234749999999999, 'eval_brier_score': 0.076525, 'eval_runtime': 118.7355, 'eval_samples_per_second': 336.883, 'eval_steps_per_second': 5.264, 'epoch': 9.0}\n",
      "{'loss': 0.0057, 'learning_rate': 0.0, 'epoch': 10.0}\n"
     ]
    },
    {
     "data": {
      "application/vnd.jupyter.widget-view+json": {
       "model_id": "90726eee369b4327b5b6b2f2a3f90e6d",
       "version_major": 2,
       "version_minor": 0
      },
      "text/plain": [
       "  0%|          | 0/625 [00:00<?, ?it/s]"
      ]
     },
     "metadata": {},
     "output_type": "display_data"
    },
    {
     "name": "stdout",
     "output_type": "stream",
     "text": [
      "{'eval_loss': 0.4810500144958496, 'eval_accuracy': 0.923875, 'eval_f1': 0.9234713111664027, 'eval_precision': 0.9283945626358078, 'eval_recall': 0.9186, 'eval_roc_auc': 0.9238750000000001, 'eval_brier_score': 0.076125, 'eval_runtime': 114.3363, 'eval_samples_per_second': 349.845, 'eval_steps_per_second': 5.466, 'epoch': 10.0}\n",
      "{'train_runtime': 20784.219, 'train_samples_per_second': 96.227, 'train_steps_per_second': 0.376, 'train_loss': 0.06797809918314486, 'epoch': 10.0}\n",
      "\n",
      "Training duration: 0 days 05:46:26.205775\n",
      "Time: 20784.22\n",
      "Samples/second: 96.23\n",
      "GPU memory occupied: 6219 MB.\n"
     ]
    }
   ],
   "source": [
    "time_training_start = pd.Timestamp.now()\n",
    "\n",
    "# setup the trainer\n",
    "#   Docs: https://huggingface.co/docs/transformers/main_classes/trainer#transformers.Trainer\n",
    "trainer = Trainer(\n",
    "    model=model,\n",
    "    args=training_args,\n",
    "    train_dataset=tokenized_datasets['train'],\n",
    "    eval_dataset=tokenized_datasets['test'],\n",
    "    compute_metrics=compute_metrics,\n",
    ")\n",
    "\n",
    "# execute the training\n",
    "result = trainer.train()\n",
    "\n",
    "time_training_stop = pd.Timestamp.now()\n",
    "time_training = time_training_stop - time_training_start\n",
    "\n",
    "print(\"\\nTraining duration:\", str(time_training), end=\"/n/n\")\n",
    "\n",
    "# debug\n",
    "print_summary(result)"
   ]
  },
  {
   "cell_type": "markdown",
   "id": "5b5a3fc9-b859-4657-b052-c111441e78ab",
   "metadata": {},
   "source": [
    "## 3.6 - Save fine-tuned model"
   ]
  },
  {
   "cell_type": "code",
   "execution_count": 27,
   "id": "96d4890f-d58f-4041-941f-45450005b4b3",
   "metadata": {},
   "outputs": [],
   "source": [
    "trainer.save_model()    # defaults to self.args.output_dir"
   ]
  },
  {
   "cell_type": "code",
   "execution_count": 28,
   "id": "d84feef2",
   "metadata": {},
   "outputs": [
    {
     "name": "stdout",
     "output_type": "stream",
     "text": [
      "Attempting to delete '../data/models/vinai__bertweet-base-100k/checkpoint-7810' ... success\n"
     ]
    }
   ],
   "source": [
    "# optional - delete checkpoint directories\n",
    "checkpoint_dirs = [\n",
    "    f\"{trainer.args.output_dir}/{directory}\"\n",
    "    for directory in os.listdir(trainer.args.output_dir)\n",
    "        if (\n",
    "            os.path.isdir(os.path.join(trainer.args.output_dir, directory))\n",
    "            and\n",
    "            directory.startswith('checkpoint')\n",
    "        )\n",
    "]\n",
    "\n",
    "for checkpoint_dir in checkpoint_dirs:\n",
    "    print(f\"Attempting to delete '{checkpoint_dir}' ...\", end='')\n",
    "    shutil.rmtree(checkpoint_dir)\n",
    "    print(f\" success\")"
   ]
  },
  {
   "cell_type": "markdown",
   "id": "4b3a9895-0c0b-4d04-b200-729fbd7ba87d",
   "metadata": {},
   "source": [
    "## 3.7 - Evaluate fine-tuned model"
   ]
  },
  {
   "cell_type": "code",
   "execution_count": 29,
   "id": "aad91a54-6809-4920-b63d-0fd396247d37",
   "metadata": {},
   "outputs": [
    {
     "data": {
      "application/vnd.jupyter.widget-view+json": {
       "model_id": "7af1dc18b5764618beb9eb9789a058eb",
       "version_major": 2,
       "version_minor": 0
      },
      "text/plain": [
       "  0%|          | 0/3125 [00:00<?, ?it/s]"
      ]
     },
     "metadata": {},
     "output_type": "display_data"
    },
    {
     "data": {
      "application/vnd.jupyter.widget-view+json": {
       "model_id": "bf44ba1fdb9b4377a0f99fcd1f78492e",
       "version_major": 2,
       "version_minor": 0
      },
      "text/plain": [
       "  0%|          | 0/625 [00:00<?, ?it/s]"
      ]
     },
     "metadata": {},
     "output_type": "display_data"
    },
    {
     "name": "stdout",
     "output_type": "stream",
     "text": [
      "Training Metrics:\n",
      " {'final_train_loss': 0.0017288337694481015, 'final_train_accuracy': 0.99956, 'final_train_f1': 0.9995599779989, 'final_train_precision': 0.9996099609960996, 'final_train_recall': 0.99951, 'final_train_roc_auc': 0.99956, 'final_train_brier_score': 0.00044, 'final_train_runtime': 570.3479, 'final_train_samples_per_second': 350.663, 'final_train_steps_per_second': 5.479, 'epoch': 10.0}\n",
      "\n",
      "Test/Eval Metrics:\n",
      " {'final_test_loss': 0.4810500144958496, 'final_test_accuracy': 0.923875, 'final_test_f1': 0.9234713111664027, 'final_test_precision': 0.9283945626358078, 'final_test_recall': 0.9186, 'final_test_roc_auc': 0.9238750000000001, 'final_test_brier_score': 0.076125, 'final_test_runtime': 115.4247, 'final_test_samples_per_second': 346.546, 'final_test_steps_per_second': 5.415, 'epoch': 10.0}\n"
     ]
    }
   ],
   "source": [
    "# if evaluating immediately after fine-tuning\n",
    "#   Note: for current step, not using separate dataset for eval/test\n",
    "train_metrics = trainer.evaluate(eval_dataset=tokenized_datasets['train'], metric_key_prefix='final_train')\n",
    "test_metrics = trainer.evaluate(eval_dataset=tokenized_datasets['test'], metric_key_prefix='final_test')\n",
    "\n",
    "print(\"Training Metrics:\\n\", train_metrics)\n",
    "print(\"\\nTest/Eval Metrics:\\n\", test_metrics)"
   ]
  },
  {
   "cell_type": "code",
   "execution_count": 30,
   "id": "618da4dc",
   "metadata": {},
   "outputs": [
    {
     "name": "stdout",
     "output_type": "stream",
     "text": [
      "Epoch:   1.0 | Training loss:  0.2345\n",
      "Epoch:   2.0 | Training loss:  0.1560\n",
      "Epoch:   3.0 | Training loss:  0.1067\n",
      "Epoch:   4.0 | Training loss:  0.0678\n",
      "Epoch:   5.0 | Training loss:  0.0429\n",
      "Epoch:   6.0 | Training loss:  0.0275\n",
      "Epoch:   7.0 | Training loss:  0.0180\n",
      "Epoch:   8.0 | Training loss:  0.0120\n",
      "Epoch:   9.0 | Training loss:  0.0086\n",
      "Epoch:  10.0 | Training loss:  0.0057\n"
     ]
    }
   ],
   "source": [
    "for log_item in trainer.state.log_history:\n",
    "    training_loss = log_item.get('loss', None)\n",
    "    if (training_loss is not None):\n",
    "        print(f\"Epoch: {log_item['epoch']:>5.1f}\", end=\" \")     # \"Epoch:   1.0 \"\n",
    "        print(f\"| Training loss: {training_loss:>7.4f}\")        # \"| Training loss:  0.1234\""
   ]
  },
  {
   "attachments": {},
   "cell_type": "markdown",
   "id": "cd52d7bb",
   "metadata": {},
   "source": [
    "## 3.8 - Output key data as JSON"
   ]
  },
  {
   "attachments": {},
   "cell_type": "markdown",
   "id": "0636eacb",
   "metadata": {},
   "source": [
    "### 3.8.1 - Model Predictions"
   ]
  },
  {
   "cell_type": "code",
   "execution_count": 31,
   "id": "d0d9958b-4320-403c-a6d4-1e5c3c5b6030",
   "metadata": {},
   "outputs": [
    {
     "data": {
      "application/vnd.jupyter.widget-view+json": {
       "model_id": "ca9940119f9c432f90ab7aad3018efca",
       "version_major": 2,
       "version_minor": 0
      },
      "text/plain": [
       "  0%|          | 0/625 [00:00<?, ?it/s]"
      ]
     },
     "metadata": {},
     "output_type": "display_data"
    }
   ],
   "source": [
    "# make predictions\n",
    "predictions = trainer.predict(tokenized_datasets['test'])\n",
    "\n",
    "# predictions output is a subclass of NamedTuple, so to save to JSON we convert to a dict first\n",
    "#   Note: according to python docs, the leading underscore is to avoid name conflicts, not as the usual \"discouraged from use\" meaning\n",
    "#   Source: https://docs.python.org/3.10/library/collections.html#collections.somenamedtuple._asdict\n",
    "predictions_dict = predictions._asdict()\n",
    "\n",
    "predictions_dict['run_name'] = run_name\n",
    "predictions_dict['predictions'] = predictions_dict['predictions'].tolist()\n",
    "predictions_dict['label_ids'] = predictions_dict['label_ids'].tolist()\n",
    "\n",
    "# sort the keys\n",
    "dict_order = ['run_name', 'metrics', 'predictions', 'label_ids']\n",
    "predictions_dict = {key: predictions_dict[key] for key in dict_order}\n",
    "\n",
    "# save predictions to `output_dir`\n",
    "predictions_filename = trainer.args.output_dir + '/predictions.json'\n",
    "with open(predictions_filename, mode='w', encoding='utf-8') as fp:\n",
    "    json.dump(predictions_dict, fp, indent=4)"
   ]
  },
  {
   "attachments": {},
   "cell_type": "markdown",
   "id": "9b3456e6",
   "metadata": {},
   "source": [
    "### 3.8.2 - Fine Tuning Parameters"
   ]
  },
  {
   "cell_type": "code",
   "execution_count": 33,
   "id": "9bd361f6",
   "metadata": {},
   "outputs": [],
   "source": [
    "# record all the fine-tuning parameters in a dict to be saved as JSON later (not used in actual fine-tuning code)\n",
    "fine_tune_params_dict = {\n",
    "    'run_name': run_name,\n",
    "    'output_dir_name': output_dir_name,\n",
    "    'content_column': content_column,\n",
    "    'class_column': class_column,\n",
    "    'pk_column': pk_column,\n",
    "    'pretrained_model': {\n",
    "        'name': pretrained_model['name'],\n",
    "        'tokenizer': pretrained_model['tokenizer'].__name__,\n",
    "        'model': pretrained_model['model'].__name__,\n",
    "    },\n",
    "    'actual_classes_used': {\n",
    "        'actual_model_class': str(type(model)),\n",
    "        'actual_token_class': str(type(tokenizer)),\n",
    "    },\n",
    "    'common_tokenizer_args': common_tokenizer_args,\n",
    "    'common_model_args': common_model_args,\n",
    "    'common_train_args': common_train_args,\n",
    "    'max_tweets_per_class': max_tweets_per_class,\n",
    "    'sampling_random_seed': sampling_random_seed,\n",
    "    'train_test_random_seed': train_test_random_seed,\n",
    "    'test_fraction': test_fraction,\n",
    "    'encoding_duration': str(time_encoding),\n",
    "    'training_duration': str(time_training),\n",
    "}\n",
    "\n",
    "# save fine tuning params to `output_dir`\n",
    "fine_tune_params_filename = trainer.args.output_dir + '/fine_tune_params.json'\n",
    "with open(fine_tune_params_filename, mode='w', encoding='utf-8') as fp:\n",
    "    json.dump(fine_tune_params_dict, fp, indent=4)"
   ]
  },
  {
   "attachments": {},
   "cell_type": "markdown",
   "id": "9eccb55f",
   "metadata": {},
   "source": [
    "### 3.8.3 - Model Metrics"
   ]
  },
  {
   "cell_type": "code",
   "execution_count": 34,
   "id": "64ce7ec0",
   "metadata": {},
   "outputs": [],
   "source": [
    "model_metrics: list = trainer.state.log_history   # same info as what is output at the end of each training epoch\n",
    "\n",
    "# save metrics to `output_dir`\n",
    "model_metrics_filename = trainer.args.output_dir + '/model_metrics.json'\n",
    "with open(model_metrics_filename, mode='w', encoding='utf-8') as fp:\n",
    "    json.dump(model_metrics, fp, indent=4)"
   ]
  },
  {
   "attachments": {},
   "cell_type": "markdown",
   "id": "6a6b46cf",
   "metadata": {},
   "source": [
    "### 3.8.4 - Tweets used for fine tuning\n",
    "\n",
    "We'll want to exclude these tweets from being used in downstream training/evaluation tasks. Each tweet has a unique `tweet_id` value, stored conceptually as a 64-bit integer but physically as a string. We noted down the `tweet_id` values in Section 3.2 so let's store them to a JSON file here."
   ]
  },
  {
   "cell_type": "code",
   "execution_count": 35,
   "id": "814254fb",
   "metadata": {},
   "outputs": [],
   "source": [
    "tweet_id_list = df_view[pk_column].to_list()\n",
    "\n",
    "fine_tune_tweet_ids_filename = trainer.args.output_dir + '/fine_tune_tweet_ids.json'\n",
    "with open(fine_tune_tweet_ids_filename, mode='w', encoding='utf-8') as fp:\n",
    "    json.dump(tweet_id_list, fp, indent=4)"
   ]
  },
  {
   "attachments": {},
   "cell_type": "markdown",
   "id": "217a5e37",
   "metadata": {},
   "source": [
    "## 3.9 - Zip Model\n",
    "\n",
    "Based on code from: https://realpython.com/python-zipfile/#creating-populating-and-extracting-your-own-zip-files"
   ]
  },
  {
   "cell_type": "code",
   "execution_count": 36,
   "id": "497fda76",
   "metadata": {},
   "outputs": [],
   "source": [
    "model_directory = \"../data/models/\"\n",
    "zip_filename = pathlib.Path(model_directory, f\"{run_name}.zip\")\n",
    "\n",
    "dir_to_zip = pathlib.Path(trainer.args.output_dir)\n",
    "\n",
    "with zipfile.ZipFile(zip_filename, mode=\"w\", compression=zipfile.ZIP_DEFLATED, compresslevel=6) as archive:\n",
    "    for file_path in dir_to_zip.rglob(\"*\"):\n",
    "        archive.write(file_path, arcname=file_path.relative_to(dir_to_zip))"
   ]
  },
  {
   "attachments": {},
   "cell_type": "markdown",
   "id": "0d6f12d5",
   "metadata": {},
   "source": [
    "# 4 - Visualize Metrics"
   ]
  },
  {
   "cell_type": "code",
   "execution_count": 37,
   "id": "b7e5d22d",
   "metadata": {},
   "outputs": [
    {
     "data": {
      "text/html": [
       "<div>\n",
       "<style scoped>\n",
       "    .dataframe tbody tr th:only-of-type {\n",
       "        vertical-align: middle;\n",
       "    }\n",
       "\n",
       "    .dataframe tbody tr th {\n",
       "        vertical-align: top;\n",
       "    }\n",
       "\n",
       "    .dataframe thead th {\n",
       "        text-align: right;\n",
       "    }\n",
       "</style>\n",
       "<table border=\"1\" class=\"dataframe\">\n",
       "  <thead>\n",
       "    <tr style=\"text-align: right;\">\n",
       "      <th></th>\n",
       "      <th>loss</th>\n",
       "      <th>learning_rate</th>\n",
       "      <th>epoch</th>\n",
       "      <th>step</th>\n",
       "      <th>eval_loss</th>\n",
       "      <th>eval_accuracy</th>\n",
       "      <th>eval_f1</th>\n",
       "      <th>eval_precision</th>\n",
       "      <th>eval_recall</th>\n",
       "      <th>eval_roc_auc</th>\n",
       "      <th>eval_brier_score</th>\n",
       "      <th>eval_runtime</th>\n",
       "      <th>eval_samples_per_second</th>\n",
       "      <th>eval_steps_per_second</th>\n",
       "    </tr>\n",
       "  </thead>\n",
       "  <tbody>\n",
       "    <tr>\n",
       "      <th>1.0</th>\n",
       "      <td>0.2345</td>\n",
       "      <td>0.000045</td>\n",
       "      <td>1.0</td>\n",
       "      <td>781</td>\n",
       "      <td>0.189627</td>\n",
       "      <td>0.919225</td>\n",
       "      <td>0.918984</td>\n",
       "      <td>0.921734</td>\n",
       "      <td>0.91625</td>\n",
       "      <td>0.919225</td>\n",
       "      <td>0.080775</td>\n",
       "      <td>114.5132</td>\n",
       "      <td>349.305</td>\n",
       "      <td>5.458</td>\n",
       "    </tr>\n",
       "    <tr>\n",
       "      <th>2.0</th>\n",
       "      <td>0.1560</td>\n",
       "      <td>0.000040</td>\n",
       "      <td>2.0</td>\n",
       "      <td>1562</td>\n",
       "      <td>0.193609</td>\n",
       "      <td>0.917525</td>\n",
       "      <td>0.920741</td>\n",
       "      <td>0.886186</td>\n",
       "      <td>0.95810</td>\n",
       "      <td>0.917525</td>\n",
       "      <td>0.082475</td>\n",
       "      <td>114.1112</td>\n",
       "      <td>350.535</td>\n",
       "      <td>5.477</td>\n",
       "    </tr>\n",
       "    <tr>\n",
       "      <th>3.0</th>\n",
       "      <td>0.1067</td>\n",
       "      <td>0.000035</td>\n",
       "      <td>3.0</td>\n",
       "      <td>2343</td>\n",
       "      <td>0.228435</td>\n",
       "      <td>0.924825</td>\n",
       "      <td>0.923956</td>\n",
       "      <td>0.934759</td>\n",
       "      <td>0.91340</td>\n",
       "      <td>0.924825</td>\n",
       "      <td>0.075175</td>\n",
       "      <td>114.3412</td>\n",
       "      <td>349.830</td>\n",
       "      <td>5.466</td>\n",
       "    </tr>\n",
       "    <tr>\n",
       "      <th>4.0</th>\n",
       "      <td>0.0678</td>\n",
       "      <td>0.000030</td>\n",
       "      <td>4.0</td>\n",
       "      <td>3124</td>\n",
       "      <td>0.233265</td>\n",
       "      <td>0.920825</td>\n",
       "      <td>0.920835</td>\n",
       "      <td>0.920720</td>\n",
       "      <td>0.92095</td>\n",
       "      <td>0.920825</td>\n",
       "      <td>0.079175</td>\n",
       "      <td>116.3199</td>\n",
       "      <td>343.879</td>\n",
       "      <td>5.373</td>\n",
       "    </tr>\n",
       "    <tr>\n",
       "      <th>5.0</th>\n",
       "      <td>0.0429</td>\n",
       "      <td>0.000025</td>\n",
       "      <td>5.0</td>\n",
       "      <td>3905</td>\n",
       "      <td>0.282891</td>\n",
       "      <td>0.922950</td>\n",
       "      <td>0.923138</td>\n",
       "      <td>0.920888</td>\n",
       "      <td>0.92540</td>\n",
       "      <td>0.922950</td>\n",
       "      <td>0.077050</td>\n",
       "      <td>123.8613</td>\n",
       "      <td>322.942</td>\n",
       "      <td>5.046</td>\n",
       "    </tr>\n",
       "    <tr>\n",
       "      <th>6.0</th>\n",
       "      <td>0.0275</td>\n",
       "      <td>0.000020</td>\n",
       "      <td>6.0</td>\n",
       "      <td>4686</td>\n",
       "      <td>0.357517</td>\n",
       "      <td>0.919475</td>\n",
       "      <td>0.917472</td>\n",
       "      <td>0.940880</td>\n",
       "      <td>0.89520</td>\n",
       "      <td>0.919475</td>\n",
       "      <td>0.080525</td>\n",
       "      <td>126.0379</td>\n",
       "      <td>317.365</td>\n",
       "      <td>4.959</td>\n",
       "    </tr>\n",
       "    <tr>\n",
       "      <th>7.0</th>\n",
       "      <td>0.0180</td>\n",
       "      <td>0.000015</td>\n",
       "      <td>7.0</td>\n",
       "      <td>5467</td>\n",
       "      <td>0.381070</td>\n",
       "      <td>0.921475</td>\n",
       "      <td>0.921185</td>\n",
       "      <td>0.924596</td>\n",
       "      <td>0.91780</td>\n",
       "      <td>0.921475</td>\n",
       "      <td>0.078525</td>\n",
       "      <td>114.1064</td>\n",
       "      <td>350.550</td>\n",
       "      <td>5.477</td>\n",
       "    </tr>\n",
       "    <tr>\n",
       "      <th>8.0</th>\n",
       "      <td>0.0120</td>\n",
       "      <td>0.000010</td>\n",
       "      <td>8.0</td>\n",
       "      <td>6248</td>\n",
       "      <td>0.429440</td>\n",
       "      <td>0.923925</td>\n",
       "      <td>0.923275</td>\n",
       "      <td>0.931234</td>\n",
       "      <td>0.91545</td>\n",
       "      <td>0.923925</td>\n",
       "      <td>0.076075</td>\n",
       "      <td>115.5792</td>\n",
       "      <td>346.083</td>\n",
       "      <td>5.408</td>\n",
       "    </tr>\n",
       "    <tr>\n",
       "      <th>9.0</th>\n",
       "      <td>0.0086</td>\n",
       "      <td>0.000005</td>\n",
       "      <td>9.0</td>\n",
       "      <td>7029</td>\n",
       "      <td>0.465161</td>\n",
       "      <td>0.923475</td>\n",
       "      <td>0.922173</td>\n",
       "      <td>0.938130</td>\n",
       "      <td>0.90675</td>\n",
       "      <td>0.923475</td>\n",
       "      <td>0.076525</td>\n",
       "      <td>118.7355</td>\n",
       "      <td>336.883</td>\n",
       "      <td>5.264</td>\n",
       "    </tr>\n",
       "    <tr>\n",
       "      <th>10.0</th>\n",
       "      <td>0.0057</td>\n",
       "      <td>0.000000</td>\n",
       "      <td>10.0</td>\n",
       "      <td>7810</td>\n",
       "      <td>0.481050</td>\n",
       "      <td>0.923875</td>\n",
       "      <td>0.923471</td>\n",
       "      <td>0.928395</td>\n",
       "      <td>0.91860</td>\n",
       "      <td>0.923875</td>\n",
       "      <td>0.076125</td>\n",
       "      <td>114.3363</td>\n",
       "      <td>349.845</td>\n",
       "      <td>5.466</td>\n",
       "    </tr>\n",
       "  </tbody>\n",
       "</table>\n",
       "</div>"
      ],
      "text/plain": [
       "        loss  learning_rate  epoch  step  eval_loss  eval_accuracy   eval_f1  \\\n",
       "1.0   0.2345       0.000045    1.0   781   0.189627       0.919225  0.918984   \n",
       "2.0   0.1560       0.000040    2.0  1562   0.193609       0.917525  0.920741   \n",
       "3.0   0.1067       0.000035    3.0  2343   0.228435       0.924825  0.923956   \n",
       "4.0   0.0678       0.000030    4.0  3124   0.233265       0.920825  0.920835   \n",
       "5.0   0.0429       0.000025    5.0  3905   0.282891       0.922950  0.923138   \n",
       "6.0   0.0275       0.000020    6.0  4686   0.357517       0.919475  0.917472   \n",
       "7.0   0.0180       0.000015    7.0  5467   0.381070       0.921475  0.921185   \n",
       "8.0   0.0120       0.000010    8.0  6248   0.429440       0.923925  0.923275   \n",
       "9.0   0.0086       0.000005    9.0  7029   0.465161       0.923475  0.922173   \n",
       "10.0  0.0057       0.000000   10.0  7810   0.481050       0.923875  0.923471   \n",
       "\n",
       "      eval_precision  eval_recall  eval_roc_auc  eval_brier_score  \\\n",
       "1.0         0.921734      0.91625      0.919225          0.080775   \n",
       "2.0         0.886186      0.95810      0.917525          0.082475   \n",
       "3.0         0.934759      0.91340      0.924825          0.075175   \n",
       "4.0         0.920720      0.92095      0.920825          0.079175   \n",
       "5.0         0.920888      0.92540      0.922950          0.077050   \n",
       "6.0         0.940880      0.89520      0.919475          0.080525   \n",
       "7.0         0.924596      0.91780      0.921475          0.078525   \n",
       "8.0         0.931234      0.91545      0.923925          0.076075   \n",
       "9.0         0.938130      0.90675      0.923475          0.076525   \n",
       "10.0        0.928395      0.91860      0.923875          0.076125   \n",
       "\n",
       "      eval_runtime  eval_samples_per_second  eval_steps_per_second  \n",
       "1.0       114.5132                  349.305                  5.458  \n",
       "2.0       114.1112                  350.535                  5.477  \n",
       "3.0       114.3412                  349.830                  5.466  \n",
       "4.0       116.3199                  343.879                  5.373  \n",
       "5.0       123.8613                  322.942                  5.046  \n",
       "6.0       126.0379                  317.365                  4.959  \n",
       "7.0       114.1064                  350.550                  5.477  \n",
       "8.0       115.5792                  346.083                  5.408  \n",
       "9.0       118.7355                  336.883                  5.264  \n",
       "10.0      114.3363                  349.845                  5.466  "
      ]
     },
     "execution_count": 37,
     "metadata": {},
     "output_type": "execute_result"
    }
   ],
   "source": [
    "# load metrics file (so this can be run without re-running training)\n",
    "# output_dir_name = \"\"    # uncomment and set if running without training\n",
    "# run_name = \"\"           # uncomment and set if running without training\n",
    "model_metrics_filename = f\"../data/models/{output_dir_name}/model_metrics.json\"\n",
    "\n",
    "model_metrics = {}\n",
    "with open(model_metrics_filename, mode='r', encoding='utf-8') as fp:\n",
    "    model_metrics = json.load(fp)\n",
    "\n",
    "# pivot metrics by epoch\n",
    "model_metrics_combined = {}\n",
    "for record in model_metrics:\n",
    "    if (model_metrics_combined.get(record['epoch'], None) is not None):\n",
    "        model_metrics_combined[record['epoch']].update(record)\n",
    "    else:\n",
    "        model_metrics_combined[record['epoch']] = record\n",
    "\n",
    "# convert to dataframe and drop columns we aren't graphing\n",
    "model_metrics_df = pd.DataFrame.from_dict(model_metrics_combined, orient='index')\n",
    "model_metrics_df.drop(columns=[\n",
    "    x_col for x_col in model_metrics_df.columns if x_col.startswith(('train_', 'final_', 'total_flos'))\n",
    "], inplace=True)\n",
    "\n",
    "model_metrics_df"
   ]
  },
  {
   "cell_type": "code",
   "execution_count": 46,
   "id": "f5bd6d09",
   "metadata": {},
   "outputs": [
    {
     "data": {
      "image/png": "[encoded data removed]",
      "text/plain": [
       "<Figure size 1000x1000 with 1 Axes>"
      ]
     },
     "metadata": {},
     "output_type": "display_data"
    }
   ],
   "source": [
    "fig, ax = plt.subplots(figsize=(5,5))\n",
    "\n",
    "# setup labels for axes and figure\n",
    "title_text = \"Model Metrics\" + f\" - '{run_name}'\" if (run_name) else \"\"\n",
    "ax.set_title(title_text, weight='bold', fontsize=10)\n",
    "ax.set_xlabel(\"Fine-tune Training Epoch\", weight='bold', fontsize=10)\n",
    "ax.set_ylabel(\"Metric Value\", weight='bold', fontsize=10)\n",
    "\n",
    "LINE_WIDTH = 1.5\n",
    "\n",
    "# plot the data\n",
    "line_metadata = {\n",
    "    'loss':\n",
    "        {'label': \"Training Loss\"},\n",
    "    'eval_loss':\n",
    "        {'label': \"Evaluation Loss\"},\n",
    "    'eval_accuracy': \n",
    "        {'label': \"Accuracy (Eval)\"},\n",
    "    'eval_f1':\n",
    "        {'label': 'F1 Score (Eval)'},\n",
    "    'eval_precision': \n",
    "        {'label': 'Precision (Eval)'},\n",
    "    'eval_recall': \n",
    "        {'label': 'Recall (Eval)'},\n",
    "    'eval_roc_auc': \n",
    "        {'label': 'ROC AUC (Eval)'},\n",
    "    'eval_brier_score': \n",
    "        {'label': 'Brier Score (Eval)'},\n",
    "}\n",
    "\n",
    "g = sns.lineplot(\n",
    "    data=model_metrics_df[['loss', 'eval_loss', 'eval_accuracy', 'eval_f1', \n",
    "        'eval_precision', 'eval_recall', 'eval_roc_auc', 'eval_brier_score']],\n",
    "    #markers=True,\n",
    "    alpha=0.7,\n",
    "    linewidth=LINE_WIDTH,\n",
    "    linestyle='solid'\n",
    ")\n",
    "\n",
    "# setup other graph formatting\n",
    "ax.set_xticks(\n",
    "    np.linspace(\n",
    "        start=int(np.ceil(model_metrics_df.index.min())),\n",
    "        stop=int(np.ceil(model_metrics_df.index.max())),\n",
    "        num=int(np.ceil(model_metrics_df.index.max())),\n",
    "        dtype='int'\n",
    "    ),\n",
    ")\n",
    "\n",
    "ax.set_ylim(0,1)\n",
    "ax.set_yticks(\n",
    "    np.linspace(\n",
    "        start=0.0, stop=1.0, num=11\n",
    "    )\n",
    ")\n",
    "\n",
    "handles, raw_labels = ax.get_legend_handles_labels()\n",
    "pretty_labels = [line_metadata[raw_label]['label'] for raw_label in raw_labels]\n",
    "ax.legend(handles, pretty_labels)\n",
    "sns.move_legend(ax, \"center left\", bbox_to_anchor=(1,0.5), fontsize=6)\n",
    "\n",
    "plt.savefig(f\"../data/models/{output_dir_name}/model_metrics.png\")\n",
    "\n",
    "plt.show()"
   ]
  }
 ],
 "metadata": {
  "environment": {
   "kernel": "python3",
   "name": "tf2-gpu.2-11.m103",
   "type": "gcloud",
   "uri": "gcr.io/deeplearning-platform-release/tf2-gpu.2-11:m103"
  },
  "kernelspec": {
   "display_name": "tf290_env",
   "language": "python",
   "name": "python3"
  },
  "language_info": {
   "codemirror_mode": {
    "name": "ipython",
    "version": 3
   },
   "file_extension": ".py",
   "mimetype": "text/x-python",
   "name": "python",
   "nbconvert_exporter": "python",
   "pygments_lexer": "ipython3",
   "version": "3.10.8"
  },
  "vscode": {
   "interpreter": {
    "hash": "65a6dd32d71ed4a2e5ac9ab3f52d3aeee49f01a00467a63b19dc274a1d27154b"
   }
  }
 },
 "nbformat": 4,
 "nbformat_minor": 5
}
