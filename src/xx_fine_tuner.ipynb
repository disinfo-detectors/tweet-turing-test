{
 "cells": [
  {
   "cell_type": "markdown",
   "id": "add0cef4-a4de-47c5-a9a0-e6b818d6fa2d",
   "metadata": {},
   "source": [
    "# Tweet Turing Test: Detecting Disinformation on Twitter  \n",
    "\n",
    "|          | Group #2 - Disinformation Detectors                     |\n",
    "|---------:|---------------------------------------------------------|\n",
    "| Members  | John Johnson, Katy Matulay, Justin Minnion, Jared Rubin |\n",
    "| Notebook | `xx_fine_tuner.ipynb`                                   |\n",
    "| Purpose  | A notebook to fine-tune BERT models.                    |\n",
    "\n",
    "(todo: description)\n",
    "\n",
    "Based on tutorial from: https://huggingface.co/docs/transformers/training"
   ]
  },
  {
   "cell_type": "markdown",
   "id": "bd9a7349-cf9c-461b-aebd-de5542e2ded8",
   "metadata": {},
   "source": [
    "# 1 - Setup"
   ]
  },
  {
   "cell_type": "code",
   "execution_count": 1,
   "id": "54c0673b-7027-407e-8435-e29090105df9",
   "metadata": {
    "tags": []
   },
   "outputs": [],
   "source": [
    "# imports from Python standard library\n",
    "import os\n",
    "\n",
    "# imports requiring installation\n",
    "#   connection to Google Cloud Storage\n",
    "from google.cloud import storage            # pip install google-cloud-storage\n",
    "from google.oauth2 import service_account   # pip install google-auth\n",
    "\n",
    "#  data science packages\n",
    "import numpy as np\n",
    "import pandas as pd\n",
    "import tensorflow as tf\n",
    "\n",
    "import evaluate\n",
    "from datasets import Dataset, ClassLabel\n",
    "from transformers import pipeline\n",
    "from transformers import AutoTokenizer, AutoModelForSequenceClassification\n",
    "from transformers import TrainingArguments, Trainer"
   ]
  },
  {
   "cell_type": "code",
   "execution_count": 2,
   "id": "c7494318-b0ee-4452-80fa-c959050a6c70",
   "metadata": {
    "tags": []
   },
   "outputs": [],
   "source": [
    "# imports from tweet_turing.py\n",
    "import tweet_turing as tur      # note - different import approach from prior notebooks\n",
    "\n",
    "# imports from tweet_turing_paths.py\n",
    "from tweet_turing_paths import local_data_paths, local_snapshot_paths, gcp_data_paths, \\\n",
    "    gcp_snapshot_paths, gcp_project_name, gcp_bucket_name, gcp_key_file"
   ]
  },
  {
   "cell_type": "code",
   "execution_count": 3,
   "id": "eee18cdf-9d6c-4315-90ad-3e470718b1e9",
   "metadata": {
    "tags": []
   },
   "outputs": [],
   "source": [
    "# pandas options\n",
    "pd.set_option('display.max_colwidth', None)"
   ]
  },
  {
   "cell_type": "markdown",
   "id": "b7124b0f-b27f-450a-ba49-f0560c5b38b6",
   "metadata": {
    "tags": []
   },
   "source": [
    "## Local or Cloud?\n",
    "\n",
    "Decide here whether to run notebook with local data or GCP bucket data\n",
    " - if the working directory of this notebook has a \"../data/\" folder with data loaded (e.g. working on local computer or have data files loaded to a cloud VM) then use the \"local files\" option and comment out the \"gcp bucket files\" option\n",
    " - if this notebook is being run from a GCP VM (preferrably in the `us-central1` location) then use the \"gcp bucket files\" option and comment out the \"local files\" option"
   ]
  },
  {
   "cell_type": "code",
   "execution_count": 4,
   "id": "0d579d5d-f289-4b49-a1aa-f72f04d503b4",
   "metadata": {
    "tags": []
   },
   "outputs": [],
   "source": [
    "# option: local files\n",
    "local_or_cloud: str = \"local\"   # comment/uncomment this line or next\n",
    "\n",
    "# option: gcp bucket files\n",
    "#local_or_cloud: str = \"cloud\"   # comment/uncomment this line or previous\n",
    "\n",
    "# don't comment/uncomment for remainder of cell\n",
    "if (local_or_cloud == \"local\"):\n",
    "    data_paths = local_data_paths\n",
    "    snapshot_paths = local_snapshot_paths\n",
    "elif (local_or_cloud == \"cloud\"):\n",
    "    data_paths = gcp_data_paths\n",
    "    snapshot_paths = gcp_snapshot_paths\n",
    "else:\n",
    "    raise ValueError(\"Variable 'local_or_cloud' can only take on one of two values, 'local' or 'cloud'.\")\n",
    "    # subsequent cells will not do this final \"else\" check"
   ]
  },
  {
   "cell_type": "code",
   "execution_count": 5,
   "id": "6b206dfc-7e39-49a1-a48d-71a4cb46e863",
   "metadata": {
    "tags": []
   },
   "outputs": [],
   "source": [
    "# this cell only needs to run its code if local_or_cloud==\"cloud\"\n",
    "#   (though it is harmless if run when local_or_cloud==\"local\")\n",
    "gcp_storage_client: storage.Client = None\n",
    "gcp_bucket: storage.Bucket = None\n",
    "\n",
    "if (local_or_cloud == \"cloud\"):\n",
    "    #gcp_storage_client = tur.get_gcp_storage_client(project_name=gcp_project_name, key_file=gcp_key_file)\n",
    "    gcp_storage_client = tur.get_gcp_storage_client(project_name=gcp_project_name)\n",
    "    gcp_bucket = tur.get_gcp_bucket(storage_client=gcp_storage_client, bucket_name=gcp_bucket_name)"
   ]
  },
  {
   "cell_type": "markdown",
   "id": "4fa7ee9f-857e-4c69-bd3f-803a970c3199",
   "metadata": {},
   "source": [
    "# 2 - Load Dataset\n",
    "\n",
    "Starting with the ten-percent sample with NLP-preprocessing completed from notebook **`04_nlp_preprocess.ipynb`**."
   ]
  },
  {
   "cell_type": "code",
   "execution_count": 6,
   "id": "47e19c3b-cab5-4e4c-a6b8-950f4c0dbc58",
   "metadata": {
    "tags": []
   },
   "outputs": [],
   "source": [
    "# note this cell requires package `pyarrow` to be installed in environment\n",
    "parq_filename: str = \"data_sample_ten_percent_NLP_preprocessed.parquet.gz\"\n",
    "parq_path: str = f\"{snapshot_paths['parq_snapshot']}{parq_filename}\"\n",
    "\n",
    "if (local_or_cloud == \"local\"):\n",
    "    df = pd.read_parquet(parq_path, engine='pyarrow')\n",
    "elif (local_or_cloud == \"cloud\"):\n",
    "    df = tur.get_gcp_object_from_parq_as_df(bucket=gcp_bucket, object_name=parq_path)"
   ]
  },
  {
   "cell_type": "code",
   "execution_count": 7,
   "id": "448511ca-787d-4dc8-90d7-8a67332bc1fb",
   "metadata": {
    "tags": []
   },
   "outputs": [
    {
     "data": {
      "text/html": [
       "<div>\n",
       "<style scoped>\n",
       "    .dataframe tbody tr th:only-of-type {\n",
       "        vertical-align: middle;\n",
       "    }\n",
       "\n",
       "    .dataframe tbody tr th {\n",
       "        vertical-align: top;\n",
       "    }\n",
       "\n",
       "    .dataframe thead th {\n",
       "        text-align: right;\n",
       "    }\n",
       "</style>\n",
       "<table border=\"1\" class=\"dataframe\">\n",
       "  <thead>\n",
       "    <tr style=\"text-align: right;\">\n",
       "      <th></th>\n",
       "      <th>external_author_id</th>\n",
       "      <th>author</th>\n",
       "      <th>content</th>\n",
       "      <th>region</th>\n",
       "      <th>language</th>\n",
       "      <th>following</th>\n",
       "      <th>followers</th>\n",
       "      <th>updates</th>\n",
       "      <th>post_type</th>\n",
       "      <th>is_retweet</th>\n",
       "      <th>...</th>\n",
       "      <th>has_url</th>\n",
       "      <th>emoji_text</th>\n",
       "      <th>emoji_count</th>\n",
       "      <th>publish_date</th>\n",
       "      <th>class</th>\n",
       "      <th>following_ratio</th>\n",
       "      <th>class_numeric</th>\n",
       "      <th>RUS_lett_count</th>\n",
       "      <th>content_demoji</th>\n",
       "      <th>content_no_emoji</th>\n",
       "    </tr>\n",
       "  </thead>\n",
       "  <tbody>\n",
       "    <tr>\n",
       "      <th>0</th>\n",
       "      <td>23785050</td>\n",
       "      <td>radiowoody</td>\n",
       "      <td>To live dangerously on Friday the 13th, we're doing the radio show from the UNLUCKIEST place on earth! The @TennesseeTitans Locker Room!</td>\n",
       "      <td>Nashville Tennessee</td>\n",
       "      <td>en</td>\n",
       "      <td>2585</td>\n",
       "      <td>5710</td>\n",
       "      <td>2</td>\n",
       "      <td>NaN</td>\n",
       "      <td>0.0</td>\n",
       "      <td>...</td>\n",
       "      <td>0</td>\n",
       "      <td>[]</td>\n",
       "      <td>0</td>\n",
       "      <td>2013-12-13 10:03:43+00:00</td>\n",
       "      <td>Verified</td>\n",
       "      <td>0.452635</td>\n",
       "      <td>0</td>\n",
       "      <td>0</td>\n",
       "      <td>To live dangerously on Friday the 13th, we're doing the radio show from the UNLUCKIEST place on earth! The @TennesseeTitans Locker Room!</td>\n",
       "      <td>To live dangerously on Friday the 13th, we're doing the radio show from the UNLUCKIEST place on earth! The @TennesseeTitans Locker Room!</td>\n",
       "    </tr>\n",
       "    <tr>\n",
       "      <th>1</th>\n",
       "      <td>59020162</td>\n",
       "      <td>matthewpouliot</td>\n",
       "      <td>@legsanity I like it. Almost like a free Gio. Pujols is still about as good of a bet as Gonzalez the rest of the way.</td>\n",
       "      <td>Florida</td>\n",
       "      <td>en</td>\n",
       "      <td>999</td>\n",
       "      <td>12637</td>\n",
       "      <td>0</td>\n",
       "      <td>replied_to</td>\n",
       "      <td>0.0</td>\n",
       "      <td>...</td>\n",
       "      <td>0</td>\n",
       "      <td>[]</td>\n",
       "      <td>0</td>\n",
       "      <td>2015-04-26 20:13:58+00:00</td>\n",
       "      <td>Verified</td>\n",
       "      <td>0.079047</td>\n",
       "      <td>0</td>\n",
       "      <td>0</td>\n",
       "      <td>@legsanity I like it. Almost like a free Gio. Pujols is still about as good of a bet as Gonzalez the rest of the way.</td>\n",
       "      <td>@legsanity I like it. Almost like a free Gio. Pujols is still about as good of a bet as Gonzalez the rest of the way.</td>\n",
       "    </tr>\n",
       "    <tr>\n",
       "      <th>2</th>\n",
       "      <td>1656024374</td>\n",
       "      <td>IMISSOBAMA</td>\n",
       "      <td>Man servants can have a good purpose as long as they come with cash and don't touch me ever.</td>\n",
       "      <td>United States</td>\n",
       "      <td>en</td>\n",
       "      <td>473</td>\n",
       "      <td>760</td>\n",
       "      <td>4122</td>\n",
       "      <td>RETWEET</td>\n",
       "      <td>1.0</td>\n",
       "      <td>...</td>\n",
       "      <td>0</td>\n",
       "      <td>[]</td>\n",
       "      <td>0</td>\n",
       "      <td>2016-12-24 13:12:00+00:00</td>\n",
       "      <td>Troll</td>\n",
       "      <td>0.621551</td>\n",
       "      <td>1</td>\n",
       "      <td>0</td>\n",
       "      <td>Man servants can have a good purpose as long as they come with cash and don't touch me ever.</td>\n",
       "      <td>Man servants can have a good purpose as long as they come with cash and don't touch me ever.</td>\n",
       "    </tr>\n",
       "  </tbody>\n",
       "</table>\n",
       "<p>3 rows × 24 columns</p>\n",
       "</div>"
      ],
      "text/plain": [
       "  external_author_id          author  \\\n",
       "0           23785050      radiowoody   \n",
       "1           59020162  matthewpouliot   \n",
       "2         1656024374      IMISSOBAMA   \n",
       "\n",
       "                                                                                                                                    content  \\\n",
       "0  To live dangerously on Friday the 13th, we're doing the radio show from the UNLUCKIEST place on earth! The @TennesseeTitans Locker Room!   \n",
       "1                     @legsanity I like it. Almost like a free Gio. Pujols is still about as good of a bet as Gonzalez the rest of the way.   \n",
       "2                                              Man servants can have a good purpose as long as they come with cash and don't touch me ever.   \n",
       "\n",
       "                region language  following  followers  updates   post_type  \\\n",
       "0  Nashville Tennessee       en       2585       5710        2         NaN   \n",
       "1              Florida       en        999      12637        0  replied_to   \n",
       "2        United States       en        473        760     4122     RETWEET   \n",
       "\n",
       "   is_retweet  ... has_url emoji_text emoji_count              publish_date  \\\n",
       "0         0.0  ...       0         []           0 2013-12-13 10:03:43+00:00   \n",
       "1         0.0  ...       0         []           0 2015-04-26 20:13:58+00:00   \n",
       "2         1.0  ...       0         []           0 2016-12-24 13:12:00+00:00   \n",
       "\n",
       "      class following_ratio  class_numeric RUS_lett_count  \\\n",
       "0  Verified        0.452635              0              0   \n",
       "1  Verified        0.079047              0              0   \n",
       "2     Troll        0.621551              1              0   \n",
       "\n",
       "                                                                                                                             content_demoji  \\\n",
       "0  To live dangerously on Friday the 13th, we're doing the radio show from the UNLUCKIEST place on earth! The @TennesseeTitans Locker Room!   \n",
       "1                     @legsanity I like it. Almost like a free Gio. Pujols is still about as good of a bet as Gonzalez the rest of the way.   \n",
       "2                                              Man servants can have a good purpose as long as they come with cash and don't touch me ever.   \n",
       "\n",
       "                                                                                                                           content_no_emoji  \n",
       "0  To live dangerously on Friday the 13th, we're doing the radio show from the UNLUCKIEST place on earth! The @TennesseeTitans Locker Room!  \n",
       "1                     @legsanity I like it. Almost like a free Gio. Pujols is still about as good of a bet as Gonzalez the rest of the way.  \n",
       "2                                              Man servants can have a good purpose as long as they come with cash and don't touch me ever.  \n",
       "\n",
       "[3 rows x 24 columns]"
      ]
     },
     "execution_count": 7,
     "metadata": {},
     "output_type": "execute_result"
    }
   ],
   "source": [
    "df.head(3)"
   ]
  },
  {
   "cell_type": "code",
   "execution_count": 8,
   "id": "96506d5c-cd41-4382-9518-55132bfad5d5",
   "metadata": {
    "tags": []
   },
   "outputs": [
    {
     "name": "stdout",
     "output_type": "stream",
     "text": [
      "<class 'pandas.core.frame.DataFrame'>\n",
      "RangeIndex: 362314 entries, 0 to 362313\n",
      "Data columns (total 24 columns):\n",
      " #   Column              Non-Null Count   Dtype              \n",
      "---  ------              --------------   -----              \n",
      " 0   external_author_id  362314 non-null  string             \n",
      " 1   author              362314 non-null  string             \n",
      " 2   content             362314 non-null  string             \n",
      " 3   region              344249 non-null  string             \n",
      " 4   language            362314 non-null  category           \n",
      " 5   following           362314 non-null  uint64             \n",
      " 6   followers           362314 non-null  uint64             \n",
      " 7   updates             362314 non-null  uint64             \n",
      " 8   post_type           154729 non-null  category           \n",
      " 9   is_retweet          362314 non-null  float64            \n",
      " 10  account_category    362314 non-null  category           \n",
      " 11  tweet_id            362314 non-null  string             \n",
      " 12  tco1_step1          219778 non-null  string             \n",
      " 13  data_source         362314 non-null  category           \n",
      " 14  has_url             362314 non-null  int64              \n",
      " 15  emoji_text          362314 non-null  object             \n",
      " 16  emoji_count         362314 non-null  int64              \n",
      " 17  publish_date        362314 non-null  datetime64[ns, UTC]\n",
      " 18  class               362314 non-null  category           \n",
      " 19  following_ratio     362314 non-null  float64            \n",
      " 20  class_numeric       362314 non-null  int8               \n",
      " 21  RUS_lett_count      362314 non-null  int64              \n",
      " 22  content_demoji      362314 non-null  object             \n",
      " 23  content_no_emoji    362314 non-null  object             \n",
      "dtypes: category(5), datetime64[ns, UTC](1), float64(2), int64(3), int8(1), object(3), string(6), uint64(3)\n",
      "memory usage: 390.4 MB\n"
     ]
    }
   ],
   "source": [
    "df.info(memory_usage='deep')"
   ]
  },
  {
   "cell_type": "code",
   "execution_count": 9,
   "id": "f9b1aca6-46d1-472d-8b33-4c830be6aa65",
   "metadata": {
    "tags": []
   },
   "outputs": [
    {
     "data": {
      "text/plain": [
       "['Verified', 'Troll']\n",
       "Categories (2, object): ['Troll', 'Verified']"
      ]
     },
     "execution_count": 9,
     "metadata": {},
     "output_type": "execute_result"
    }
   ],
   "source": [
    "df['class'].unique()"
   ]
  },
  {
   "cell_type": "code",
   "execution_count": 10,
   "id": "679eb1f2-e964-4e2c-8476-2522a5b77649",
   "metadata": {
    "tags": []
   },
   "outputs": [
    {
     "data": {
      "text/html": [
       "<div>\n",
       "<style scoped>\n",
       "    .dataframe tbody tr th:only-of-type {\n",
       "        vertical-align: middle;\n",
       "    }\n",
       "\n",
       "    .dataframe tbody tr th {\n",
       "        vertical-align: top;\n",
       "    }\n",
       "\n",
       "    .dataframe thead th {\n",
       "        text-align: right;\n",
       "    }\n",
       "</style>\n",
       "<table border=\"1\" class=\"dataframe\">\n",
       "  <thead>\n",
       "    <tr style=\"text-align: right;\">\n",
       "      <th></th>\n",
       "      <th>content</th>\n",
       "      <th>content_demoji</th>\n",
       "      <th>content_no_emoji</th>\n",
       "    </tr>\n",
       "  </thead>\n",
       "  <tbody>\n",
       "    <tr>\n",
       "      <th>362027</th>\n",
       "      <td>5 things everyone will be talking about today: http://t.co/YGDhdQ90cP \n",
       "\n",
       "Top of the list is 🍻 https://t.co/xLFTRscFeZ</td>\n",
       "      <td>5 things everyone will be talking about today: http://t.co/YGDhdQ90cP \\n\\nTop of the list is :clinking beer mugs: https://t.co/xLFTRscFeZ</td>\n",
       "      <td>5 things everyone will be talking about today: http://t.co/YGDhdQ90cP \\n\\nTop of the list is  https://t.co/xLFTRscFeZ</td>\n",
       "    </tr>\n",
       "    <tr>\n",
       "      <th>175143</th>\n",
       "      <td>RT ZakZale: 😂OMG is this real? Canadian PM💃Justin Trudeau started stuttering \"Umm Umm\" and paused for a long time … https://t.co/UjpYiuUiVd</td>\n",
       "      <td>RT ZakZale: :face with tears of joy:OMG is this real? Canadian PM:woman dancing:Justin Trudeau started stuttering \"Umm Umm\" and paused for a long time … https://t.co/UjpYiuUiVd</td>\n",
       "      <td>RT ZakZale: OMG is this real? Canadian PMJustin Trudeau started stuttering \"Umm Umm\" and paused for a long time … https://t.co/UjpYiuUiVd</td>\n",
       "    </tr>\n",
       "    <tr>\n",
       "      <th>58733</th>\n",
       "      <td>#top RT American1765: #MondayMotivation  Dear #Fatboy Kim Jong-Un, Didja see our THAAD in action?  Hmmmm 🤔 ...  Wh… https://t.co/iaan8hp6GO</td>\n",
       "      <td>#top RT American1765: #MondayMotivation  Dear #Fatboy Kim Jong-Un, Didja see our THAAD in action?  Hmmmm :thinking face: ...  Wh… https://t.co/iaan8hp6GO</td>\n",
       "      <td>#top RT American1765: #MondayMotivation  Dear #Fatboy Kim Jong-Un, Didja see our THAAD in action?  Hmmmm  ...  Wh… https://t.co/iaan8hp6GO</td>\n",
       "    </tr>\n",
       "    <tr>\n",
       "      <th>281261</th>\n",
       "      <td>It's such a huge compliment when people copy me.. thanks guys!  👍💗😘💕😉</td>\n",
       "      <td>It's such a huge compliment when people copy me.. thanks guys!  :thumbs up::growing heart::face blowing a kiss::two hearts::winking face:</td>\n",
       "      <td>It's such a huge compliment when people copy me.. thanks guys!</td>\n",
       "    </tr>\n",
       "    <tr>\n",
       "      <th>318472</th>\n",
       "      <td>The future depends on what you do today. 🙏🏻❤️ https://t.co/y0CpN3yAZX</td>\n",
       "      <td>The future depends on what you do today. :folded hands: light skin tone::red heart: https://t.co/y0CpN3yAZX</td>\n",
       "      <td>The future depends on what you do today.  https://t.co/y0CpN3yAZX</td>\n",
       "    </tr>\n",
       "  </tbody>\n",
       "</table>\n",
       "</div>"
      ],
      "text/plain": [
       "                                                                                                                                            content  \\\n",
       "362027                         5 things everyone will be talking about today: http://t.co/YGDhdQ90cP \n",
       "\n",
       "Top of the list is 🍻 https://t.co/xLFTRscFeZ   \n",
       "175143  RT ZakZale: 😂OMG is this real? Canadian PM💃Justin Trudeau started stuttering \"Umm Umm\" and paused for a long time … https://t.co/UjpYiuUiVd   \n",
       "58733   #top RT American1765: #MondayMotivation  Dear #Fatboy Kim Jong-Un, Didja see our THAAD in action?  Hmmmm 🤔 ...  Wh… https://t.co/iaan8hp6GO   \n",
       "281261                                                                        It's such a huge compliment when people copy me.. thanks guys!  👍💗😘💕😉   \n",
       "318472                                                                        The future depends on what you do today. 🙏🏻❤️ https://t.co/y0CpN3yAZX   \n",
       "\n",
       "                                                                                                                                                                          content_demoji  \\\n",
       "362027                                         5 things everyone will be talking about today: http://t.co/YGDhdQ90cP \\n\\nTop of the list is :clinking beer mugs: https://t.co/xLFTRscFeZ   \n",
       "175143  RT ZakZale: :face with tears of joy:OMG is this real? Canadian PM:woman dancing:Justin Trudeau started stuttering \"Umm Umm\" and paused for a long time … https://t.co/UjpYiuUiVd   \n",
       "58733                          #top RT American1765: #MondayMotivation  Dear #Fatboy Kim Jong-Un, Didja see our THAAD in action?  Hmmmm :thinking face: ...  Wh… https://t.co/iaan8hp6GO   \n",
       "281261                                         It's such a huge compliment when people copy me.. thanks guys!  :thumbs up::growing heart::face blowing a kiss::two hearts::winking face:   \n",
       "318472                                                                       The future depends on what you do today. :folded hands: light skin tone::red heart: https://t.co/y0CpN3yAZX   \n",
       "\n",
       "                                                                                                                                  content_no_emoji  \n",
       "362027                       5 things everyone will be talking about today: http://t.co/YGDhdQ90cP \\n\\nTop of the list is  https://t.co/xLFTRscFeZ  \n",
       "175143   RT ZakZale: OMG is this real? Canadian PMJustin Trudeau started stuttering \"Umm Umm\" and paused for a long time … https://t.co/UjpYiuUiVd  \n",
       "58733   #top RT American1765: #MondayMotivation  Dear #Fatboy Kim Jong-Un, Didja see our THAAD in action?  Hmmmm  ...  Wh… https://t.co/iaan8hp6GO  \n",
       "281261                                                                            It's such a huge compliment when people copy me.. thanks guys!    \n",
       "318472                                                                           The future depends on what you do today.  https://t.co/y0CpN3yAZX  "
      ]
     },
     "execution_count": 10,
     "metadata": {},
     "output_type": "execute_result"
    }
   ],
   "source": [
    "df.loc[df['emoji_count'] > 0, ['content', 'content_demoji', 'content_no_emoji']].sample(5)"
   ]
  },
  {
   "cell_type": "markdown",
   "id": "6e2534d6-e6f7-4698-ada0-3781ef116bc4",
   "metadata": {},
   "source": [
    "# 3 - Choose Dataset Fields and Model"
   ]
  },
  {
   "cell_type": "markdown",
   "id": "223f8aea-48f4-4e0a-8dac-0b326522b38a",
   "metadata": {},
   "source": [
    "## 3.1 - Set Args\n",
    "\n",
    "To make the subsequent encoding/training code more modular, set as many args as we can within this cell."
   ]
  },
  {
   "cell_type": "code",
   "execution_count": 11,
   "id": "b44ca1a8-709d-4990-a2e8-273ed17ef576",
   "metadata": {
    "tags": []
   },
   "outputs": [],
   "source": [
    "# where to store the output of the model (as a subfolder of ../data/models/)\n",
    "output_dir_name = 'distilbert-base-uncased-200k'\n",
    "output_description = ''\n",
    "\n",
    "# which columns from dataframe will be used\n",
    "content_column = 'content_no_emoji'\n",
    "class_column = 'class_numeric'        # Assumes: 0=authentic, 1=troll\n",
    "\n",
    "# select pre-trained model\n",
    "#pretrained_model_name = 'Twitter/twhin-bert-base'    # https://huggingface.co/Twitter/twhin-bert-base\n",
    "#pretrained_model_name = 'bert-base-uncased'            # https://huggingface.co/bert-base-uncased\n",
    "pretrained_model_name = 'distilbert-base-uncased'    # https://huggingface.co/distilbert-base-uncased\n",
    "\n",
    "# these are passed on to tokenizer object as keyword args\n",
    "extra_tokenizer_args = {\n",
    "    'padding': 'max_length', \n",
    "    'truncation': True, \n",
    "    'return_tensors': 'pt', \n",
    "    'max_length': 256,\n",
    "}\n",
    "\n",
    "# these are passed on to model object as keyword args\n",
    "extra_model_args = {\n",
    "    'num_labels': 2\n",
    "}\n",
    "\n",
    "# these are passed on to trainer object as keyword args\n",
    "extra_train_args = {\n",
    "    'output_dir': f'../data/models/{output_dir_name}',\n",
    "    'num_train_epochs': 3,\n",
    "}\n",
    "\n",
    "# maximum tweets (per class) used for fine tuning (set to None for no limit)\n",
    "#  e.g. if this value is 5000, a maximum of 5000 troll and 5000 authentic tweets will be used\n",
    "#       for a total of 10,000 tweets used for fine tuning\n",
    "max_tweets_per_class = 100000\n",
    "sampling_random_seed = 42\n",
    "\n",
    "# for train/test split\n",
    "train_test_random_seed = 3    # for reproducability, and \"the number of the counting shall be three\"\n",
    "test_fraction = 0.20          # within range (0.0, 1.0)"
   ]
  },
  {
   "cell_type": "code",
   "execution_count": 12,
   "id": "54226667-f567-4e50-8c02-bbfedc32ac3d",
   "metadata": {
    "tags": []
   },
   "outputs": [],
   "source": [
    "# for model summary we can track how long it took to encode and train\n",
    "time_encoding = None\n",
    "time_training = None"
   ]
  },
  {
   "cell_type": "code",
   "execution_count": 8,
   "id": "17c38c74",
   "metadata": {},
   "outputs": [],
   "source": [
    "# # testing for twhin-bert\n",
    "# os.environ['PYTORCH_CUDA_ALLOC_CONF'] = \"garbage_collection_threshold:0.6,max_split_size_mb:128\""
   ]
  },
  {
   "cell_type": "markdown",
   "id": "e29ed522-c079-43f1-8354-b0e9cee13eb2",
   "metadata": {},
   "source": [
    "## 3.2 - Convert Pandas Dataframe to 🤗 Dataset"
   ]
  },
  {
   "cell_type": "code",
   "execution_count": 13,
   "id": "80f06a07-4e98-4484-b57d-a6ca104ace46",
   "metadata": {
    "tags": []
   },
   "outputs": [
    {
     "data": {
      "application/vnd.jupyter.widget-view+json": {
       "model_id": "13348f451f614ec8ac84f1758ee0eaca",
       "version_major": 2,
       "version_minor": 0
      },
      "text/plain": [
       "Casting the dataset:   0%|          | 0/200 [00:00<?, ?ba/s]"
      ]
     },
     "metadata": {},
     "output_type": "display_data"
    },
    {
     "data": {
      "text/plain": [
       "{'text': 'On #MuslimWomensDay, these women are empowering themselves and fighting back against Islamophobia. https://t.co/Y5NXaTHjZi',\n",
       " 'label': 1}"
      ]
     },
     "execution_count": 13,
     "metadata": {},
     "output_type": "execute_result"
    }
   ],
   "source": [
    "# create a view (not a copy) of dataframe\n",
    "if (max_tweets_per_class is None):\n",
    "    df_view = df[[content_column, class_column]]\n",
    "else:\n",
    "    df_view = pd.concat(\n",
    "        [\n",
    "            df.loc[df[class_column] == 1, [content_column, class_column]].sample(n=max_tweets_per_class, random_state=sampling_random_seed),\n",
    "            df.loc[df[class_column] == 0, [content_column, class_column]].sample(n=max_tweets_per_class, random_state=sampling_random_seed)\n",
    "        ], \n",
    "        ignore_index=True\n",
    "    )\n",
    "\n",
    "# convert to 🤗 Dataset object\n",
    "dataset = Dataset.from_pandas(df_view) \\\n",
    "            .rename_columns({content_column: \"text\", class_column: \"label\"}) \\\n",
    "            .cast_column(\"label\", ClassLabel(names=['authentic', 'troll']))\n",
    "\n",
    "# check results\n",
    "assert (dataset.features['label'].str2int('authentic') == 0) and (dataset.features['label'].str2int('troll') == 1), 'class labels mismatched'\n",
    "dataset[0]"
   ]
  },
  {
   "cell_type": "markdown",
   "id": "5e06bc37-5ce9-4bf0-90d8-c13f5fc5ec01",
   "metadata": {},
   "source": [
    "## 3.3 - Train/Test Split"
   ]
  },
  {
   "cell_type": "code",
   "execution_count": 14,
   "id": "b2cac37a-a997-4564-85ea-a6677b5b6b47",
   "metadata": {
    "tags": []
   },
   "outputs": [
    {
     "data": {
      "text/plain": [
       "DatasetDict({\n",
       "    train: Dataset({\n",
       "        features: ['text', 'label'],\n",
       "        num_rows: 160000\n",
       "    })\n",
       "    test: Dataset({\n",
       "        features: ['text', 'label'],\n",
       "        num_rows: 40000\n",
       "    })\n",
       "})"
      ]
     },
     "execution_count": 14,
     "metadata": {},
     "output_type": "execute_result"
    }
   ],
   "source": [
    "dataset_split = dataset.train_test_split(\n",
    "    test_size=test_fraction,\n",
    "    seed=train_test_random_seed,\n",
    ")\n",
    "\n",
    "# check output\n",
    "dataset_split"
   ]
  },
  {
   "cell_type": "markdown",
   "id": "6ef6dcbe-52de-481b-9793-c3ff35c7f7bc",
   "metadata": {},
   "source": [
    "## 3.4 - Tokenize / Encode"
   ]
  },
  {
   "cell_type": "code",
   "execution_count": 15,
   "id": "186a18b1-af51-41be-aeba-0cdcb2d3924b",
   "metadata": {
    "tags": []
   },
   "outputs": [],
   "source": [
    "# # create the tokenizer to prepare text for model\n",
    "tokenizer = AutoTokenizer.from_pretrained(pretrained_model_name)"
   ]
  },
  {
   "cell_type": "code",
   "execution_count": 16,
   "id": "0a2e8536-27a8-4c74-8127-dcc5b02ad3e5",
   "metadata": {
    "tags": []
   },
   "outputs": [],
   "source": [
    "# create a tokenizer function\n",
    "def tokenize_function(examples):\n",
    "    return tokenizer(examples['text'], **extra_tokenizer_args)"
   ]
  },
  {
   "cell_type": "code",
   "execution_count": 17,
   "id": "4ebc8519-f873-47dc-9e5f-7f44c9e13aa6",
   "metadata": {
    "tags": []
   },
   "outputs": [
    {
     "data": {
      "application/vnd.jupyter.widget-view+json": {
       "model_id": "fc5b831a0b674c40812043059dec447e",
       "version_major": 2,
       "version_minor": 0
      },
      "text/plain": [
       "  0%|          | 0/160 [00:00<?, ?ba/s]"
      ]
     },
     "metadata": {},
     "output_type": "display_data"
    },
    {
     "data": {
      "application/vnd.jupyter.widget-view+json": {
       "model_id": "a0a8157481f348ea972b43416887b292",
       "version_major": 2,
       "version_minor": 0
      },
      "text/plain": [
       "  0%|          | 0/40 [00:00<?, ?ba/s]"
      ]
     },
     "metadata": {},
     "output_type": "display_data"
    }
   ],
   "source": [
    "time_encoding_start = pd.Timestamp.now()\n",
    "\n",
    "# encode the training and test sets\n",
    "#tokenized_datasets = dataset_split.map(tokenize_function, batched=True, fn_kwargs={'tokenizer': tokenizer})\n",
    "tokenized_datasets = dataset_split.map(tokenize_function, batched=True)\n",
    "\n",
    "time_encoding_stop = pd.Timestamp.now()\n",
    "time_encoding = time_encoding_stop - time_encoding_start"
   ]
  },
  {
   "cell_type": "code",
   "execution_count": 18,
   "id": "e70390c7-fcb5-4854-87f2-1a8c3f505e63",
   "metadata": {},
   "outputs": [
    {
     "data": {
      "text/plain": [
       "DatasetDict({\n",
       "    train: Dataset({\n",
       "        features: ['text', 'label', 'input_ids', 'attention_mask'],\n",
       "        num_rows: 160000\n",
       "    })\n",
       "    test: Dataset({\n",
       "        features: ['text', 'label', 'input_ids', 'attention_mask'],\n",
       "        num_rows: 40000\n",
       "    })\n",
       "})"
      ]
     },
     "execution_count": 18,
     "metadata": {},
     "output_type": "execute_result"
    }
   ],
   "source": [
    "tokenized_datasets"
   ]
  },
  {
   "cell_type": "markdown",
   "id": "a639126b-38f2-4716-8582-7cb074dd28a8",
   "metadata": {},
   "source": [
    "## 3.5 - Model"
   ]
  },
  {
   "cell_type": "code",
   "execution_count": 19,
   "id": "1f73d471-1726-4c7c-b6f7-3a7c19f63781",
   "metadata": {
    "tags": []
   },
   "outputs": [
    {
     "name": "stderr",
     "output_type": "stream",
     "text": [
      "Some weights of the model checkpoint at distilbert-base-uncased were not used when initializing DistilBertForSequenceClassification: ['vocab_layer_norm.weight', 'vocab_transform.bias', 'vocab_projector.bias', 'vocab_projector.weight', 'vocab_transform.weight', 'vocab_layer_norm.bias']\n",
      "- This IS expected if you are initializing DistilBertForSequenceClassification from the checkpoint of a model trained on another task or with another architecture (e.g. initializing a BertForSequenceClassification model from a BertForPreTraining model).\n",
      "- This IS NOT expected if you are initializing DistilBertForSequenceClassification from the checkpoint of a model that you expect to be exactly identical (initializing a BertForSequenceClassification model from a BertForSequenceClassification model).\n",
      "Some weights of DistilBertForSequenceClassification were not initialized from the model checkpoint at distilbert-base-uncased and are newly initialized: ['pre_classifier.bias', 'pre_classifier.weight', 'classifier.bias', 'classifier.weight']\n",
      "You should probably TRAIN this model on a down-stream task to be able to use it for predictions and inference.\n"
     ]
    }
   ],
   "source": [
    "# create the model\n",
    "model = AutoModelForSequenceClassification.from_pretrained(\n",
    "    pretrained_model_name,\n",
    "    **extra_model_args,\n",
    ")"
   ]
  },
  {
   "cell_type": "code",
   "execution_count": 20,
   "id": "3ea71de9-cc92-4ecf-9332-3b8ec0f70b95",
   "metadata": {
    "tags": []
   },
   "outputs": [],
   "source": [
    "# setup the training arguments\n",
    "training_args = TrainingArguments(\n",
    "    **extra_train_args\n",
    ")"
   ]
  },
  {
   "cell_type": "code",
   "execution_count": 21,
   "id": "6c2910b7-3b19-4def-8385-ac89a9ecbe89",
   "metadata": {
    "tags": []
   },
   "outputs": [],
   "source": [
    "# setup training metric\n",
    "metric = evaluate.load('accuracy')   # TODO -> study this more\n",
    "\n",
    "def compute_metrics(eval_pred):    # TODO -> convert to pure function\n",
    "    logits, labels = eval_pred\n",
    "    predictions = np.argmax(logits, axis=-1)    # TODO -> study this more\n",
    "    return metric.compute(predictions=predictions, references=labels)"
   ]
  },
  {
   "cell_type": "code",
   "execution_count": 22,
   "id": "3320b855-e785-425b-8c4a-bef53d0b462c",
   "metadata": {
    "tags": []
   },
   "outputs": [
    {
     "name": "stderr",
     "output_type": "stream",
     "text": [
      "The following columns in the training set don't have a corresponding argument in `DistilBertForSequenceClassification.forward` and have been ignored: text. If text are not expected by `DistilBertForSequenceClassification.forward`,  you can safely ignore this message.\n",
      "c:\\Users\\Justin\\.envs\\tf290_env\\lib\\site-packages\\transformers\\optimization.py:306: FutureWarning: This implementation of AdamW is deprecated and will be removed in a future version. Use the PyTorch implementation torch.optim.AdamW instead, or set `no_deprecation_warning=True` to disable this warning\n",
      "  warnings.warn(\n",
      "***** Running training *****\n",
      "  Num examples = 160000\n",
      "  Num Epochs = 3\n",
      "  Instantaneous batch size per device = 8\n",
      "  Total train batch size (w. parallel, distributed & accumulation) = 8\n",
      "  Gradient Accumulation steps = 1\n",
      "  Total optimization steps = 60000\n",
      "  Number of trainable parameters = 66955010\n"
     ]
    },
    {
     "data": {
      "application/vnd.jupyter.widget-view+json": {
       "model_id": "937cb7cb8d0a4335a31d2dd4fdd0eb32",
       "version_major": 2,
       "version_minor": 0
      },
      "text/plain": [
       "  0%|          | 0/60000 [00:00<?, ?it/s]"
      ]
     },
     "metadata": {},
     "output_type": "display_data"
    },
    {
     "name": "stderr",
     "output_type": "stream",
     "text": [
      "Saving model checkpoint to ../data/models/distilbert-base-uncased-200k\\checkpoint-500\n",
      "Configuration saved in ../data/models/distilbert-base-uncased-200k\\checkpoint-500\\config.json\n"
     ]
    },
    {
     "name": "stdout",
     "output_type": "stream",
     "text": [
      "{'loss': 0.4475, 'learning_rate': 4.958333333333334e-05, 'epoch': 0.03}\n"
     ]
    },
    {
     "name": "stderr",
     "output_type": "stream",
     "text": [
      "Model weights saved in ../data/models/distilbert-base-uncased-200k\\checkpoint-500\\pytorch_model.bin\n",
      "Saving model checkpoint to ../data/models/distilbert-base-uncased-200k\\checkpoint-1000\n",
      "Configuration saved in ../data/models/distilbert-base-uncased-200k\\checkpoint-1000\\config.json\n"
     ]
    },
    {
     "name": "stdout",
     "output_type": "stream",
     "text": [
      "{'loss': 0.3716, 'learning_rate': 4.9166666666666665e-05, 'epoch': 0.05}\n"
     ]
    },
    {
     "name": "stderr",
     "output_type": "stream",
     "text": [
      "Model weights saved in ../data/models/distilbert-base-uncased-200k\\checkpoint-1000\\pytorch_model.bin\n",
      "Saving model checkpoint to ../data/models/distilbert-base-uncased-200k\\checkpoint-1500\n",
      "Configuration saved in ../data/models/distilbert-base-uncased-200k\\checkpoint-1500\\config.json\n"
     ]
    },
    {
     "name": "stdout",
     "output_type": "stream",
     "text": [
      "{'loss': 0.3549, 'learning_rate': 4.875e-05, 'epoch': 0.07}\n"
     ]
    },
    {
     "name": "stderr",
     "output_type": "stream",
     "text": [
      "Model weights saved in ../data/models/distilbert-base-uncased-200k\\checkpoint-1500\\pytorch_model.bin\n",
      "Saving model checkpoint to ../data/models/distilbert-base-uncased-200k\\checkpoint-2000\n",
      "Configuration saved in ../data/models/distilbert-base-uncased-200k\\checkpoint-2000\\config.json\n"
     ]
    },
    {
     "name": "stdout",
     "output_type": "stream",
     "text": [
      "{'loss': 0.3585, 'learning_rate': 4.8333333333333334e-05, 'epoch': 0.1}\n"
     ]
    },
    {
     "name": "stderr",
     "output_type": "stream",
     "text": [
      "Model weights saved in ../data/models/distilbert-base-uncased-200k\\checkpoint-2000\\pytorch_model.bin\n",
      "Saving model checkpoint to ../data/models/distilbert-base-uncased-200k\\checkpoint-2500\n",
      "Configuration saved in ../data/models/distilbert-base-uncased-200k\\checkpoint-2500\\config.json\n"
     ]
    },
    {
     "name": "stdout",
     "output_type": "stream",
     "text": [
      "{'loss': 0.3405, 'learning_rate': 4.791666666666667e-05, 'epoch': 0.12}\n"
     ]
    },
    {
     "name": "stderr",
     "output_type": "stream",
     "text": [
      "Model weights saved in ../data/models/distilbert-base-uncased-200k\\checkpoint-2500\\pytorch_model.bin\n",
      "Saving model checkpoint to ../data/models/distilbert-base-uncased-200k\\checkpoint-3000\n",
      "Configuration saved in ../data/models/distilbert-base-uncased-200k\\checkpoint-3000\\config.json\n"
     ]
    },
    {
     "name": "stdout",
     "output_type": "stream",
     "text": [
      "{'loss': 0.3687, 'learning_rate': 4.75e-05, 'epoch': 0.15}\n"
     ]
    },
    {
     "name": "stderr",
     "output_type": "stream",
     "text": [
      "Model weights saved in ../data/models/distilbert-base-uncased-200k\\checkpoint-3000\\pytorch_model.bin\n",
      "Saving model checkpoint to ../data/models/distilbert-base-uncased-200k\\checkpoint-3500\n",
      "Configuration saved in ../data/models/distilbert-base-uncased-200k\\checkpoint-3500\\config.json\n"
     ]
    },
    {
     "name": "stdout",
     "output_type": "stream",
     "text": [
      "{'loss': 0.3363, 'learning_rate': 4.708333333333334e-05, 'epoch': 0.17}\n"
     ]
    },
    {
     "name": "stderr",
     "output_type": "stream",
     "text": [
      "Model weights saved in ../data/models/distilbert-base-uncased-200k\\checkpoint-3500\\pytorch_model.bin\n",
      "Saving model checkpoint to ../data/models/distilbert-base-uncased-200k\\checkpoint-4000\n",
      "Configuration saved in ../data/models/distilbert-base-uncased-200k\\checkpoint-4000\\config.json\n"
     ]
    },
    {
     "name": "stdout",
     "output_type": "stream",
     "text": [
      "{'loss': 0.3447, 'learning_rate': 4.666666666666667e-05, 'epoch': 0.2}\n"
     ]
    },
    {
     "name": "stderr",
     "output_type": "stream",
     "text": [
      "Model weights saved in ../data/models/distilbert-base-uncased-200k\\checkpoint-4000\\pytorch_model.bin\n",
      "Saving model checkpoint to ../data/models/distilbert-base-uncased-200k\\checkpoint-4500\n",
      "Configuration saved in ../data/models/distilbert-base-uncased-200k\\checkpoint-4500\\config.json\n"
     ]
    },
    {
     "name": "stdout",
     "output_type": "stream",
     "text": [
      "{'loss': 0.319, 'learning_rate': 4.6250000000000006e-05, 'epoch': 0.23}\n"
     ]
    },
    {
     "name": "stderr",
     "output_type": "stream",
     "text": [
      "Model weights saved in ../data/models/distilbert-base-uncased-200k\\checkpoint-4500\\pytorch_model.bin\n",
      "Saving model checkpoint to ../data/models/distilbert-base-uncased-200k\\checkpoint-5000\n",
      "Configuration saved in ../data/models/distilbert-base-uncased-200k\\checkpoint-5000\\config.json\n"
     ]
    },
    {
     "name": "stdout",
     "output_type": "stream",
     "text": [
      "{'loss': 0.3134, 'learning_rate': 4.5833333333333334e-05, 'epoch': 0.25}\n"
     ]
    },
    {
     "name": "stderr",
     "output_type": "stream",
     "text": [
      "Model weights saved in ../data/models/distilbert-base-uncased-200k\\checkpoint-5000\\pytorch_model.bin\n",
      "Saving model checkpoint to ../data/models/distilbert-base-uncased-200k\\checkpoint-5500\n",
      "Configuration saved in ../data/models/distilbert-base-uncased-200k\\checkpoint-5500\\config.json\n"
     ]
    },
    {
     "name": "stdout",
     "output_type": "stream",
     "text": [
      "{'loss': 0.3321, 'learning_rate': 4.541666666666667e-05, 'epoch': 0.28}\n"
     ]
    },
    {
     "name": "stderr",
     "output_type": "stream",
     "text": [
      "Model weights saved in ../data/models/distilbert-base-uncased-200k\\checkpoint-5500\\pytorch_model.bin\n",
      "Saving model checkpoint to ../data/models/distilbert-base-uncased-200k\\checkpoint-6000\n",
      "Configuration saved in ../data/models/distilbert-base-uncased-200k\\checkpoint-6000\\config.json\n"
     ]
    },
    {
     "name": "stdout",
     "output_type": "stream",
     "text": [
      "{'loss': 0.3074, 'learning_rate': 4.5e-05, 'epoch': 0.3}\n"
     ]
    },
    {
     "name": "stderr",
     "output_type": "stream",
     "text": [
      "Model weights saved in ../data/models/distilbert-base-uncased-200k\\checkpoint-6000\\pytorch_model.bin\n",
      "Saving model checkpoint to ../data/models/distilbert-base-uncased-200k\\checkpoint-6500\n",
      "Configuration saved in ../data/models/distilbert-base-uncased-200k\\checkpoint-6500\\config.json\n"
     ]
    },
    {
     "name": "stdout",
     "output_type": "stream",
     "text": [
      "{'loss': 0.296, 'learning_rate': 4.458333333333334e-05, 'epoch': 0.33}\n"
     ]
    },
    {
     "name": "stderr",
     "output_type": "stream",
     "text": [
      "Model weights saved in ../data/models/distilbert-base-uncased-200k\\checkpoint-6500\\pytorch_model.bin\n",
      "Saving model checkpoint to ../data/models/distilbert-base-uncased-200k\\checkpoint-7000\n",
      "Configuration saved in ../data/models/distilbert-base-uncased-200k\\checkpoint-7000\\config.json\n"
     ]
    },
    {
     "name": "stdout",
     "output_type": "stream",
     "text": [
      "{'loss': 0.3206, 'learning_rate': 4.4166666666666665e-05, 'epoch': 0.35}\n"
     ]
    },
    {
     "name": "stderr",
     "output_type": "stream",
     "text": [
      "Model weights saved in ../data/models/distilbert-base-uncased-200k\\checkpoint-7000\\pytorch_model.bin\n",
      "Saving model checkpoint to ../data/models/distilbert-base-uncased-200k\\checkpoint-7500\n",
      "Configuration saved in ../data/models/distilbert-base-uncased-200k\\checkpoint-7500\\config.json\n"
     ]
    },
    {
     "name": "stdout",
     "output_type": "stream",
     "text": [
      "{'loss': 0.3114, 'learning_rate': 4.375e-05, 'epoch': 0.38}\n"
     ]
    },
    {
     "name": "stderr",
     "output_type": "stream",
     "text": [
      "Model weights saved in ../data/models/distilbert-base-uncased-200k\\checkpoint-7500\\pytorch_model.bin\n",
      "Saving model checkpoint to ../data/models/distilbert-base-uncased-200k\\checkpoint-8000\n",
      "Configuration saved in ../data/models/distilbert-base-uncased-200k\\checkpoint-8000\\config.json\n"
     ]
    },
    {
     "name": "stdout",
     "output_type": "stream",
     "text": [
      "{'loss': 0.3002, 'learning_rate': 4.3333333333333334e-05, 'epoch': 0.4}\n"
     ]
    },
    {
     "name": "stderr",
     "output_type": "stream",
     "text": [
      "Model weights saved in ../data/models/distilbert-base-uncased-200k\\checkpoint-8000\\pytorch_model.bin\n",
      "Saving model checkpoint to ../data/models/distilbert-base-uncased-200k\\checkpoint-8500\n",
      "Configuration saved in ../data/models/distilbert-base-uncased-200k\\checkpoint-8500\\config.json\n"
     ]
    },
    {
     "name": "stdout",
     "output_type": "stream",
     "text": [
      "{'loss': 0.3322, 'learning_rate': 4.291666666666667e-05, 'epoch': 0.42}\n"
     ]
    },
    {
     "name": "stderr",
     "output_type": "stream",
     "text": [
      "Model weights saved in ../data/models/distilbert-base-uncased-200k\\checkpoint-8500\\pytorch_model.bin\n",
      "Saving model checkpoint to ../data/models/distilbert-base-uncased-200k\\checkpoint-9000\n",
      "Configuration saved in ../data/models/distilbert-base-uncased-200k\\checkpoint-9000\\config.json\n"
     ]
    },
    {
     "name": "stdout",
     "output_type": "stream",
     "text": [
      "{'loss': 0.3237, 'learning_rate': 4.25e-05, 'epoch': 0.45}\n"
     ]
    },
    {
     "name": "stderr",
     "output_type": "stream",
     "text": [
      "Model weights saved in ../data/models/distilbert-base-uncased-200k\\checkpoint-9000\\pytorch_model.bin\n",
      "Saving model checkpoint to ../data/models/distilbert-base-uncased-200k\\checkpoint-9500\n",
      "Configuration saved in ../data/models/distilbert-base-uncased-200k\\checkpoint-9500\\config.json\n"
     ]
    },
    {
     "name": "stdout",
     "output_type": "stream",
     "text": [
      "{'loss': 0.3142, 'learning_rate': 4.208333333333334e-05, 'epoch': 0.47}\n"
     ]
    },
    {
     "name": "stderr",
     "output_type": "stream",
     "text": [
      "Model weights saved in ../data/models/distilbert-base-uncased-200k\\checkpoint-9500\\pytorch_model.bin\n",
      "Saving model checkpoint to ../data/models/distilbert-base-uncased-200k\\checkpoint-10000\n",
      "Configuration saved in ../data/models/distilbert-base-uncased-200k\\checkpoint-10000\\config.json\n"
     ]
    },
    {
     "name": "stdout",
     "output_type": "stream",
     "text": [
      "{'loss': 0.3309, 'learning_rate': 4.166666666666667e-05, 'epoch': 0.5}\n"
     ]
    },
    {
     "name": "stderr",
     "output_type": "stream",
     "text": [
      "Model weights saved in ../data/models/distilbert-base-uncased-200k\\checkpoint-10000\\pytorch_model.bin\n",
      "Saving model checkpoint to ../data/models/distilbert-base-uncased-200k\\checkpoint-10500\n",
      "Configuration saved in ../data/models/distilbert-base-uncased-200k\\checkpoint-10500\\config.json\n"
     ]
    },
    {
     "name": "stdout",
     "output_type": "stream",
     "text": [
      "{'loss': 0.3287, 'learning_rate': 4.125e-05, 'epoch': 0.53}\n"
     ]
    },
    {
     "name": "stderr",
     "output_type": "stream",
     "text": [
      "Model weights saved in ../data/models/distilbert-base-uncased-200k\\checkpoint-10500\\pytorch_model.bin\n",
      "Saving model checkpoint to ../data/models/distilbert-base-uncased-200k\\checkpoint-11000\n",
      "Configuration saved in ../data/models/distilbert-base-uncased-200k\\checkpoint-11000\\config.json\n"
     ]
    },
    {
     "name": "stdout",
     "output_type": "stream",
     "text": [
      "{'loss': 0.3115, 'learning_rate': 4.0833333333333334e-05, 'epoch': 0.55}\n"
     ]
    },
    {
     "name": "stderr",
     "output_type": "stream",
     "text": [
      "Model weights saved in ../data/models/distilbert-base-uncased-200k\\checkpoint-11000\\pytorch_model.bin\n",
      "Saving model checkpoint to ../data/models/distilbert-base-uncased-200k\\checkpoint-11500\n",
      "Configuration saved in ../data/models/distilbert-base-uncased-200k\\checkpoint-11500\\config.json\n"
     ]
    },
    {
     "name": "stdout",
     "output_type": "stream",
     "text": [
      "{'loss': 0.3224, 'learning_rate': 4.041666666666667e-05, 'epoch': 0.57}\n"
     ]
    },
    {
     "name": "stderr",
     "output_type": "stream",
     "text": [
      "Model weights saved in ../data/models/distilbert-base-uncased-200k\\checkpoint-11500\\pytorch_model.bin\n",
      "Saving model checkpoint to ../data/models/distilbert-base-uncased-200k\\checkpoint-12000\n",
      "Configuration saved in ../data/models/distilbert-base-uncased-200k\\checkpoint-12000\\config.json\n"
     ]
    },
    {
     "name": "stdout",
     "output_type": "stream",
     "text": [
      "{'loss': 0.3035, 'learning_rate': 4e-05, 'epoch': 0.6}\n"
     ]
    },
    {
     "name": "stderr",
     "output_type": "stream",
     "text": [
      "Model weights saved in ../data/models/distilbert-base-uncased-200k\\checkpoint-12000\\pytorch_model.bin\n",
      "Saving model checkpoint to ../data/models/distilbert-base-uncased-200k\\checkpoint-12500\n",
      "Configuration saved in ../data/models/distilbert-base-uncased-200k\\checkpoint-12500\\config.json\n"
     ]
    },
    {
     "name": "stdout",
     "output_type": "stream",
     "text": [
      "{'loss': 0.336, 'learning_rate': 3.958333333333333e-05, 'epoch': 0.62}\n"
     ]
    },
    {
     "name": "stderr",
     "output_type": "stream",
     "text": [
      "Model weights saved in ../data/models/distilbert-base-uncased-200k\\checkpoint-12500\\pytorch_model.bin\n",
      "Saving model checkpoint to ../data/models/distilbert-base-uncased-200k\\checkpoint-13000\n",
      "Configuration saved in ../data/models/distilbert-base-uncased-200k\\checkpoint-13000\\config.json\n"
     ]
    },
    {
     "name": "stdout",
     "output_type": "stream",
     "text": [
      "{'loss': 0.3316, 'learning_rate': 3.9166666666666665e-05, 'epoch': 0.65}\n"
     ]
    },
    {
     "name": "stderr",
     "output_type": "stream",
     "text": [
      "Model weights saved in ../data/models/distilbert-base-uncased-200k\\checkpoint-13000\\pytorch_model.bin\n",
      "Saving model checkpoint to ../data/models/distilbert-base-uncased-200k\\checkpoint-13500\n",
      "Configuration saved in ../data/models/distilbert-base-uncased-200k\\checkpoint-13500\\config.json\n"
     ]
    },
    {
     "name": "stdout",
     "output_type": "stream",
     "text": [
      "{'loss': 0.3009, 'learning_rate': 3.875e-05, 'epoch': 0.68}\n"
     ]
    },
    {
     "name": "stderr",
     "output_type": "stream",
     "text": [
      "Model weights saved in ../data/models/distilbert-base-uncased-200k\\checkpoint-13500\\pytorch_model.bin\n",
      "Saving model checkpoint to ../data/models/distilbert-base-uncased-200k\\checkpoint-14000\n",
      "Configuration saved in ../data/models/distilbert-base-uncased-200k\\checkpoint-14000\\config.json\n"
     ]
    },
    {
     "name": "stdout",
     "output_type": "stream",
     "text": [
      "{'loss': 0.311, 'learning_rate': 3.8333333333333334e-05, 'epoch': 0.7}\n"
     ]
    },
    {
     "name": "stderr",
     "output_type": "stream",
     "text": [
      "Model weights saved in ../data/models/distilbert-base-uncased-200k\\checkpoint-14000\\pytorch_model.bin\n",
      "Saving model checkpoint to ../data/models/distilbert-base-uncased-200k\\checkpoint-14500\n",
      "Configuration saved in ../data/models/distilbert-base-uncased-200k\\checkpoint-14500\\config.json\n"
     ]
    },
    {
     "name": "stdout",
     "output_type": "stream",
     "text": [
      "{'loss': 0.3187, 'learning_rate': 3.791666666666667e-05, 'epoch': 0.72}\n"
     ]
    },
    {
     "name": "stderr",
     "output_type": "stream",
     "text": [
      "Model weights saved in ../data/models/distilbert-base-uncased-200k\\checkpoint-14500\\pytorch_model.bin\n",
      "Saving model checkpoint to ../data/models/distilbert-base-uncased-200k\\checkpoint-15000\n",
      "Configuration saved in ../data/models/distilbert-base-uncased-200k\\checkpoint-15000\\config.json\n"
     ]
    },
    {
     "name": "stdout",
     "output_type": "stream",
     "text": [
      "{'loss': 0.311, 'learning_rate': 3.7500000000000003e-05, 'epoch': 0.75}\n"
     ]
    },
    {
     "name": "stderr",
     "output_type": "stream",
     "text": [
      "Model weights saved in ../data/models/distilbert-base-uncased-200k\\checkpoint-15000\\pytorch_model.bin\n",
      "Saving model checkpoint to ../data/models/distilbert-base-uncased-200k\\checkpoint-15500\n",
      "Configuration saved in ../data/models/distilbert-base-uncased-200k\\checkpoint-15500\\config.json\n"
     ]
    },
    {
     "name": "stdout",
     "output_type": "stream",
     "text": [
      "{'loss': 0.2929, 'learning_rate': 3.708333333333334e-05, 'epoch': 0.78}\n"
     ]
    },
    {
     "name": "stderr",
     "output_type": "stream",
     "text": [
      "Model weights saved in ../data/models/distilbert-base-uncased-200k\\checkpoint-15500\\pytorch_model.bin\n",
      "Saving model checkpoint to ../data/models/distilbert-base-uncased-200k\\checkpoint-16000\n",
      "Configuration saved in ../data/models/distilbert-base-uncased-200k\\checkpoint-16000\\config.json\n"
     ]
    },
    {
     "name": "stdout",
     "output_type": "stream",
     "text": [
      "{'loss': 0.3285, 'learning_rate': 3.6666666666666666e-05, 'epoch': 0.8}\n"
     ]
    },
    {
     "name": "stderr",
     "output_type": "stream",
     "text": [
      "Model weights saved in ../data/models/distilbert-base-uncased-200k\\checkpoint-16000\\pytorch_model.bin\n",
      "Saving model checkpoint to ../data/models/distilbert-base-uncased-200k\\checkpoint-16500\n",
      "Configuration saved in ../data/models/distilbert-base-uncased-200k\\checkpoint-16500\\config.json\n"
     ]
    },
    {
     "name": "stdout",
     "output_type": "stream",
     "text": [
      "{'loss': 0.3202, 'learning_rate': 3.625e-05, 'epoch': 0.82}\n"
     ]
    },
    {
     "name": "stderr",
     "output_type": "stream",
     "text": [
      "Model weights saved in ../data/models/distilbert-base-uncased-200k\\checkpoint-16500\\pytorch_model.bin\n",
      "Saving model checkpoint to ../data/models/distilbert-base-uncased-200k\\checkpoint-17000\n",
      "Configuration saved in ../data/models/distilbert-base-uncased-200k\\checkpoint-17000\\config.json\n"
     ]
    },
    {
     "name": "stdout",
     "output_type": "stream",
     "text": [
      "{'loss': 0.3261, 'learning_rate': 3.5833333333333335e-05, 'epoch': 0.85}\n"
     ]
    },
    {
     "name": "stderr",
     "output_type": "stream",
     "text": [
      "Model weights saved in ../data/models/distilbert-base-uncased-200k\\checkpoint-17000\\pytorch_model.bin\n",
      "Saving model checkpoint to ../data/models/distilbert-base-uncased-200k\\checkpoint-17500\n",
      "Configuration saved in ../data/models/distilbert-base-uncased-200k\\checkpoint-17500\\config.json\n"
     ]
    },
    {
     "name": "stdout",
     "output_type": "stream",
     "text": [
      "{'loss': 0.3117, 'learning_rate': 3.541666666666667e-05, 'epoch': 0.88}\n"
     ]
    },
    {
     "name": "stderr",
     "output_type": "stream",
     "text": [
      "Model weights saved in ../data/models/distilbert-base-uncased-200k\\checkpoint-17500\\pytorch_model.bin\n",
      "Saving model checkpoint to ../data/models/distilbert-base-uncased-200k\\checkpoint-18000\n",
      "Configuration saved in ../data/models/distilbert-base-uncased-200k\\checkpoint-18000\\config.json\n"
     ]
    },
    {
     "name": "stdout",
     "output_type": "stream",
     "text": [
      "{'loss': 0.31, 'learning_rate': 3.5e-05, 'epoch': 0.9}\n"
     ]
    },
    {
     "name": "stderr",
     "output_type": "stream",
     "text": [
      "Model weights saved in ../data/models/distilbert-base-uncased-200k\\checkpoint-18000\\pytorch_model.bin\n",
      "Saving model checkpoint to ../data/models/distilbert-base-uncased-200k\\checkpoint-18500\n",
      "Configuration saved in ../data/models/distilbert-base-uncased-200k\\checkpoint-18500\\config.json\n"
     ]
    },
    {
     "name": "stdout",
     "output_type": "stream",
     "text": [
      "{'loss': 0.3003, 'learning_rate': 3.458333333333333e-05, 'epoch': 0.93}\n"
     ]
    },
    {
     "name": "stderr",
     "output_type": "stream",
     "text": [
      "Model weights saved in ../data/models/distilbert-base-uncased-200k\\checkpoint-18500\\pytorch_model.bin\n",
      "Saving model checkpoint to ../data/models/distilbert-base-uncased-200k\\checkpoint-19000\n",
      "Configuration saved in ../data/models/distilbert-base-uncased-200k\\checkpoint-19000\\config.json\n"
     ]
    },
    {
     "name": "stdout",
     "output_type": "stream",
     "text": [
      "{'loss': 0.3106, 'learning_rate': 3.4166666666666666e-05, 'epoch': 0.95}\n"
     ]
    },
    {
     "name": "stderr",
     "output_type": "stream",
     "text": [
      "Model weights saved in ../data/models/distilbert-base-uncased-200k\\checkpoint-19000\\pytorch_model.bin\n",
      "Saving model checkpoint to ../data/models/distilbert-base-uncased-200k\\checkpoint-19500\n",
      "Configuration saved in ../data/models/distilbert-base-uncased-200k\\checkpoint-19500\\config.json\n"
     ]
    },
    {
     "name": "stdout",
     "output_type": "stream",
     "text": [
      "{'loss': 0.3068, 'learning_rate': 3.375000000000001e-05, 'epoch': 0.97}\n"
     ]
    },
    {
     "name": "stderr",
     "output_type": "stream",
     "text": [
      "Model weights saved in ../data/models/distilbert-base-uncased-200k\\checkpoint-19500\\pytorch_model.bin\n",
      "Saving model checkpoint to ../data/models/distilbert-base-uncased-200k\\checkpoint-20000\n",
      "Configuration saved in ../data/models/distilbert-base-uncased-200k\\checkpoint-20000\\config.json\n"
     ]
    },
    {
     "name": "stdout",
     "output_type": "stream",
     "text": [
      "{'loss': 0.2854, 'learning_rate': 3.3333333333333335e-05, 'epoch': 1.0}\n"
     ]
    },
    {
     "name": "stderr",
     "output_type": "stream",
     "text": [
      "Model weights saved in ../data/models/distilbert-base-uncased-200k\\checkpoint-20000\\pytorch_model.bin\n",
      "Saving model checkpoint to ../data/models/distilbert-base-uncased-200k\\checkpoint-20500\n",
      "Configuration saved in ../data/models/distilbert-base-uncased-200k\\checkpoint-20500\\config.json\n"
     ]
    },
    {
     "name": "stdout",
     "output_type": "stream",
     "text": [
      "{'loss': 0.2947, 'learning_rate': 3.291666666666667e-05, 'epoch': 1.02}\n"
     ]
    },
    {
     "name": "stderr",
     "output_type": "stream",
     "text": [
      "Model weights saved in ../data/models/distilbert-base-uncased-200k\\checkpoint-20500\\pytorch_model.bin\n",
      "Saving model checkpoint to ../data/models/distilbert-base-uncased-200k\\checkpoint-21000\n",
      "Configuration saved in ../data/models/distilbert-base-uncased-200k\\checkpoint-21000\\config.json\n"
     ]
    },
    {
     "name": "stdout",
     "output_type": "stream",
     "text": [
      "{'loss': 0.2728, 'learning_rate': 3.2500000000000004e-05, 'epoch': 1.05}\n"
     ]
    },
    {
     "name": "stderr",
     "output_type": "stream",
     "text": [
      "Model weights saved in ../data/models/distilbert-base-uncased-200k\\checkpoint-21000\\pytorch_model.bin\n",
      "Saving model checkpoint to ../data/models/distilbert-base-uncased-200k\\checkpoint-21500\n",
      "Configuration saved in ../data/models/distilbert-base-uncased-200k\\checkpoint-21500\\config.json\n"
     ]
    },
    {
     "name": "stdout",
     "output_type": "stream",
     "text": [
      "{'loss': 0.2754, 'learning_rate': 3.208333333333334e-05, 'epoch': 1.07}\n"
     ]
    },
    {
     "name": "stderr",
     "output_type": "stream",
     "text": [
      "Model weights saved in ../data/models/distilbert-base-uncased-200k\\checkpoint-21500\\pytorch_model.bin\n",
      "Saving model checkpoint to ../data/models/distilbert-base-uncased-200k\\checkpoint-22000\n",
      "Configuration saved in ../data/models/distilbert-base-uncased-200k\\checkpoint-22000\\config.json\n"
     ]
    },
    {
     "name": "stdout",
     "output_type": "stream",
     "text": [
      "{'loss': 0.2622, 'learning_rate': 3.1666666666666666e-05, 'epoch': 1.1}\n"
     ]
    },
    {
     "name": "stderr",
     "output_type": "stream",
     "text": [
      "Model weights saved in ../data/models/distilbert-base-uncased-200k\\checkpoint-22000\\pytorch_model.bin\n",
      "Saving model checkpoint to ../data/models/distilbert-base-uncased-200k\\checkpoint-22500\n",
      "Configuration saved in ../data/models/distilbert-base-uncased-200k\\checkpoint-22500\\config.json\n"
     ]
    },
    {
     "name": "stdout",
     "output_type": "stream",
     "text": [
      "{'loss': 0.2652, 'learning_rate': 3.125e-05, 'epoch': 1.12}\n"
     ]
    },
    {
     "name": "stderr",
     "output_type": "stream",
     "text": [
      "Model weights saved in ../data/models/distilbert-base-uncased-200k\\checkpoint-22500\\pytorch_model.bin\n",
      "Saving model checkpoint to ../data/models/distilbert-base-uncased-200k\\checkpoint-23000\n",
      "Configuration saved in ../data/models/distilbert-base-uncased-200k\\checkpoint-23000\\config.json\n"
     ]
    },
    {
     "name": "stdout",
     "output_type": "stream",
     "text": [
      "{'loss': 0.2504, 'learning_rate': 3.0833333333333335e-05, 'epoch': 1.15}\n"
     ]
    },
    {
     "name": "stderr",
     "output_type": "stream",
     "text": [
      "Model weights saved in ../data/models/distilbert-base-uncased-200k\\checkpoint-23000\\pytorch_model.bin\n",
      "Saving model checkpoint to ../data/models/distilbert-base-uncased-200k\\checkpoint-23500\n",
      "Configuration saved in ../data/models/distilbert-base-uncased-200k\\checkpoint-23500\\config.json\n"
     ]
    },
    {
     "name": "stdout",
     "output_type": "stream",
     "text": [
      "{'loss': 0.2698, 'learning_rate': 3.0416666666666666e-05, 'epoch': 1.18}\n"
     ]
    },
    {
     "name": "stderr",
     "output_type": "stream",
     "text": [
      "Model weights saved in ../data/models/distilbert-base-uncased-200k\\checkpoint-23500\\pytorch_model.bin\n",
      "Saving model checkpoint to ../data/models/distilbert-base-uncased-200k\\checkpoint-24000\n",
      "Configuration saved in ../data/models/distilbert-base-uncased-200k\\checkpoint-24000\\config.json\n"
     ]
    },
    {
     "name": "stdout",
     "output_type": "stream",
     "text": [
      "{'loss': 0.2397, 'learning_rate': 3e-05, 'epoch': 1.2}\n"
     ]
    },
    {
     "name": "stderr",
     "output_type": "stream",
     "text": [
      "Model weights saved in ../data/models/distilbert-base-uncased-200k\\checkpoint-24000\\pytorch_model.bin\n",
      "Saving model checkpoint to ../data/models/distilbert-base-uncased-200k\\checkpoint-24500\n",
      "Configuration saved in ../data/models/distilbert-base-uncased-200k\\checkpoint-24500\\config.json\n"
     ]
    },
    {
     "name": "stdout",
     "output_type": "stream",
     "text": [
      "{'loss': 0.2442, 'learning_rate': 2.9583333333333335e-05, 'epoch': 1.23}\n"
     ]
    },
    {
     "name": "stderr",
     "output_type": "stream",
     "text": [
      "Model weights saved in ../data/models/distilbert-base-uncased-200k\\checkpoint-24500\\pytorch_model.bin\n",
      "Saving model checkpoint to ../data/models/distilbert-base-uncased-200k\\checkpoint-25000\n",
      "Configuration saved in ../data/models/distilbert-base-uncased-200k\\checkpoint-25000\\config.json\n"
     ]
    },
    {
     "name": "stdout",
     "output_type": "stream",
     "text": [
      "{'loss': 0.2722, 'learning_rate': 2.916666666666667e-05, 'epoch': 1.25}\n"
     ]
    },
    {
     "name": "stderr",
     "output_type": "stream",
     "text": [
      "Model weights saved in ../data/models/distilbert-base-uncased-200k\\checkpoint-25000\\pytorch_model.bin\n",
      "Saving model checkpoint to ../data/models/distilbert-base-uncased-200k\\checkpoint-25500\n",
      "Configuration saved in ../data/models/distilbert-base-uncased-200k\\checkpoint-25500\\config.json\n"
     ]
    },
    {
     "name": "stdout",
     "output_type": "stream",
     "text": [
      "{'loss': 0.2584, 'learning_rate': 2.8749999999999997e-05, 'epoch': 1.27}\n"
     ]
    },
    {
     "name": "stderr",
     "output_type": "stream",
     "text": [
      "Model weights saved in ../data/models/distilbert-base-uncased-200k\\checkpoint-25500\\pytorch_model.bin\n",
      "Saving model checkpoint to ../data/models/distilbert-base-uncased-200k\\checkpoint-26000\n",
      "Configuration saved in ../data/models/distilbert-base-uncased-200k\\checkpoint-26000\\config.json\n"
     ]
    },
    {
     "name": "stdout",
     "output_type": "stream",
     "text": [
      "{'loss': 0.2438, 'learning_rate': 2.8333333333333335e-05, 'epoch': 1.3}\n"
     ]
    },
    {
     "name": "stderr",
     "output_type": "stream",
     "text": [
      "Model weights saved in ../data/models/distilbert-base-uncased-200k\\checkpoint-26000\\pytorch_model.bin\n",
      "Saving model checkpoint to ../data/models/distilbert-base-uncased-200k\\checkpoint-26500\n",
      "Configuration saved in ../data/models/distilbert-base-uncased-200k\\checkpoint-26500\\config.json\n"
     ]
    },
    {
     "name": "stdout",
     "output_type": "stream",
     "text": [
      "{'loss': 0.2724, 'learning_rate': 2.791666666666667e-05, 'epoch': 1.32}\n"
     ]
    },
    {
     "name": "stderr",
     "output_type": "stream",
     "text": [
      "Model weights saved in ../data/models/distilbert-base-uncased-200k\\checkpoint-26500\\pytorch_model.bin\n",
      "Saving model checkpoint to ../data/models/distilbert-base-uncased-200k\\checkpoint-27000\n",
      "Configuration saved in ../data/models/distilbert-base-uncased-200k\\checkpoint-27000\\config.json\n"
     ]
    },
    {
     "name": "stdout",
     "output_type": "stream",
     "text": [
      "{'loss': 0.2512, 'learning_rate': 2.7500000000000004e-05, 'epoch': 1.35}\n"
     ]
    },
    {
     "name": "stderr",
     "output_type": "stream",
     "text": [
      "Model weights saved in ../data/models/distilbert-base-uncased-200k\\checkpoint-27000\\pytorch_model.bin\n",
      "Saving model checkpoint to ../data/models/distilbert-base-uncased-200k\\checkpoint-27500\n",
      "Configuration saved in ../data/models/distilbert-base-uncased-200k\\checkpoint-27500\\config.json\n"
     ]
    },
    {
     "name": "stdout",
     "output_type": "stream",
     "text": [
      "{'loss': 0.2507, 'learning_rate': 2.7083333333333332e-05, 'epoch': 1.38}\n"
     ]
    },
    {
     "name": "stderr",
     "output_type": "stream",
     "text": [
      "Model weights saved in ../data/models/distilbert-base-uncased-200k\\checkpoint-27500\\pytorch_model.bin\n",
      "Saving model checkpoint to ../data/models/distilbert-base-uncased-200k\\checkpoint-28000\n",
      "Configuration saved in ../data/models/distilbert-base-uncased-200k\\checkpoint-28000\\config.json\n"
     ]
    },
    {
     "name": "stdout",
     "output_type": "stream",
     "text": [
      "{'loss': 0.2715, 'learning_rate': 2.6666666666666667e-05, 'epoch': 1.4}\n"
     ]
    },
    {
     "name": "stderr",
     "output_type": "stream",
     "text": [
      "Model weights saved in ../data/models/distilbert-base-uncased-200k\\checkpoint-28000\\pytorch_model.bin\n",
      "Saving model checkpoint to ../data/models/distilbert-base-uncased-200k\\checkpoint-28500\n",
      "Configuration saved in ../data/models/distilbert-base-uncased-200k\\checkpoint-28500\\config.json\n"
     ]
    },
    {
     "name": "stdout",
     "output_type": "stream",
     "text": [
      "{'loss': 0.2733, 'learning_rate': 2.625e-05, 'epoch': 1.43}\n"
     ]
    },
    {
     "name": "stderr",
     "output_type": "stream",
     "text": [
      "Model weights saved in ../data/models/distilbert-base-uncased-200k\\checkpoint-28500\\pytorch_model.bin\n",
      "Saving model checkpoint to ../data/models/distilbert-base-uncased-200k\\checkpoint-29000\n",
      "Configuration saved in ../data/models/distilbert-base-uncased-200k\\checkpoint-29000\\config.json\n"
     ]
    },
    {
     "name": "stdout",
     "output_type": "stream",
     "text": [
      "{'loss': 0.2513, 'learning_rate': 2.5833333333333336e-05, 'epoch': 1.45}\n"
     ]
    },
    {
     "name": "stderr",
     "output_type": "stream",
     "text": [
      "Model weights saved in ../data/models/distilbert-base-uncased-200k\\checkpoint-29000\\pytorch_model.bin\n",
      "Saving model checkpoint to ../data/models/distilbert-base-uncased-200k\\checkpoint-29500\n",
      "Configuration saved in ../data/models/distilbert-base-uncased-200k\\checkpoint-29500\\config.json\n"
     ]
    },
    {
     "name": "stdout",
     "output_type": "stream",
     "text": [
      "{'loss': 0.2443, 'learning_rate': 2.5416666666666667e-05, 'epoch': 1.48}\n"
     ]
    },
    {
     "name": "stderr",
     "output_type": "stream",
     "text": [
      "Model weights saved in ../data/models/distilbert-base-uncased-200k\\checkpoint-29500\\pytorch_model.bin\n",
      "Saving model checkpoint to ../data/models/distilbert-base-uncased-200k\\checkpoint-30000\n",
      "Configuration saved in ../data/models/distilbert-base-uncased-200k\\checkpoint-30000\\config.json\n"
     ]
    },
    {
     "name": "stdout",
     "output_type": "stream",
     "text": [
      "{'loss': 0.2558, 'learning_rate': 2.5e-05, 'epoch': 1.5}\n"
     ]
    },
    {
     "name": "stderr",
     "output_type": "stream",
     "text": [
      "Model weights saved in ../data/models/distilbert-base-uncased-200k\\checkpoint-30000\\pytorch_model.bin\n",
      "Saving model checkpoint to ../data/models/distilbert-base-uncased-200k\\checkpoint-30500\n",
      "Configuration saved in ../data/models/distilbert-base-uncased-200k\\checkpoint-30500\\config.json\n"
     ]
    },
    {
     "name": "stdout",
     "output_type": "stream",
     "text": [
      "{'loss': 0.2608, 'learning_rate': 2.4583333333333332e-05, 'epoch': 1.52}\n"
     ]
    },
    {
     "name": "stderr",
     "output_type": "stream",
     "text": [
      "Model weights saved in ../data/models/distilbert-base-uncased-200k\\checkpoint-30500\\pytorch_model.bin\n",
      "Saving model checkpoint to ../data/models/distilbert-base-uncased-200k\\checkpoint-31000\n",
      "Configuration saved in ../data/models/distilbert-base-uncased-200k\\checkpoint-31000\\config.json\n"
     ]
    },
    {
     "name": "stdout",
     "output_type": "stream",
     "text": [
      "{'loss': 0.2505, 'learning_rate': 2.4166666666666667e-05, 'epoch': 1.55}\n"
     ]
    },
    {
     "name": "stderr",
     "output_type": "stream",
     "text": [
      "Model weights saved in ../data/models/distilbert-base-uncased-200k\\checkpoint-31000\\pytorch_model.bin\n",
      "Saving model checkpoint to ../data/models/distilbert-base-uncased-200k\\checkpoint-31500\n",
      "Configuration saved in ../data/models/distilbert-base-uncased-200k\\checkpoint-31500\\config.json\n"
     ]
    },
    {
     "name": "stdout",
     "output_type": "stream",
     "text": [
      "{'loss': 0.2412, 'learning_rate': 2.375e-05, 'epoch': 1.57}\n"
     ]
    },
    {
     "name": "stderr",
     "output_type": "stream",
     "text": [
      "Model weights saved in ../data/models/distilbert-base-uncased-200k\\checkpoint-31500\\pytorch_model.bin\n",
      "Saving model checkpoint to ../data/models/distilbert-base-uncased-200k\\checkpoint-32000\n",
      "Configuration saved in ../data/models/distilbert-base-uncased-200k\\checkpoint-32000\\config.json\n"
     ]
    },
    {
     "name": "stdout",
     "output_type": "stream",
     "text": [
      "{'loss': 0.2362, 'learning_rate': 2.3333333333333336e-05, 'epoch': 1.6}\n"
     ]
    },
    {
     "name": "stderr",
     "output_type": "stream",
     "text": [
      "Model weights saved in ../data/models/distilbert-base-uncased-200k\\checkpoint-32000\\pytorch_model.bin\n",
      "Saving model checkpoint to ../data/models/distilbert-base-uncased-200k\\checkpoint-32500\n",
      "Configuration saved in ../data/models/distilbert-base-uncased-200k\\checkpoint-32500\\config.json\n"
     ]
    },
    {
     "name": "stdout",
     "output_type": "stream",
     "text": [
      "{'loss': 0.2535, 'learning_rate': 2.2916666666666667e-05, 'epoch': 1.62}\n"
     ]
    },
    {
     "name": "stderr",
     "output_type": "stream",
     "text": [
      "Model weights saved in ../data/models/distilbert-base-uncased-200k\\checkpoint-32500\\pytorch_model.bin\n",
      "Saving model checkpoint to ../data/models/distilbert-base-uncased-200k\\checkpoint-33000\n",
      "Configuration saved in ../data/models/distilbert-base-uncased-200k\\checkpoint-33000\\config.json\n"
     ]
    },
    {
     "name": "stdout",
     "output_type": "stream",
     "text": [
      "{'loss': 0.2451, 'learning_rate': 2.25e-05, 'epoch': 1.65}\n"
     ]
    },
    {
     "name": "stderr",
     "output_type": "stream",
     "text": [
      "Model weights saved in ../data/models/distilbert-base-uncased-200k\\checkpoint-33000\\pytorch_model.bin\n",
      "Saving model checkpoint to ../data/models/distilbert-base-uncased-200k\\checkpoint-33500\n",
      "Configuration saved in ../data/models/distilbert-base-uncased-200k\\checkpoint-33500\\config.json\n"
     ]
    },
    {
     "name": "stdout",
     "output_type": "stream",
     "text": [
      "{'loss': 0.2431, 'learning_rate': 2.2083333333333333e-05, 'epoch': 1.68}\n"
     ]
    },
    {
     "name": "stderr",
     "output_type": "stream",
     "text": [
      "Model weights saved in ../data/models/distilbert-base-uncased-200k\\checkpoint-33500\\pytorch_model.bin\n",
      "Saving model checkpoint to ../data/models/distilbert-base-uncased-200k\\checkpoint-34000\n",
      "Configuration saved in ../data/models/distilbert-base-uncased-200k\\checkpoint-34000\\config.json\n"
     ]
    },
    {
     "name": "stdout",
     "output_type": "stream",
     "text": [
      "{'loss': 0.2581, 'learning_rate': 2.1666666666666667e-05, 'epoch': 1.7}\n"
     ]
    },
    {
     "name": "stderr",
     "output_type": "stream",
     "text": [
      "Model weights saved in ../data/models/distilbert-base-uncased-200k\\checkpoint-34000\\pytorch_model.bin\n",
      "Saving model checkpoint to ../data/models/distilbert-base-uncased-200k\\checkpoint-34500\n",
      "Configuration saved in ../data/models/distilbert-base-uncased-200k\\checkpoint-34500\\config.json\n"
     ]
    },
    {
     "name": "stdout",
     "output_type": "stream",
     "text": [
      "{'loss': 0.2569, 'learning_rate': 2.125e-05, 'epoch': 1.73}\n"
     ]
    },
    {
     "name": "stderr",
     "output_type": "stream",
     "text": [
      "Model weights saved in ../data/models/distilbert-base-uncased-200k\\checkpoint-34500\\pytorch_model.bin\n",
      "Saving model checkpoint to ../data/models/distilbert-base-uncased-200k\\checkpoint-35000\n",
      "Configuration saved in ../data/models/distilbert-base-uncased-200k\\checkpoint-35000\\config.json\n"
     ]
    },
    {
     "name": "stdout",
     "output_type": "stream",
     "text": [
      "{'loss': 0.2395, 'learning_rate': 2.0833333333333336e-05, 'epoch': 1.75}\n"
     ]
    },
    {
     "name": "stderr",
     "output_type": "stream",
     "text": [
      "Model weights saved in ../data/models/distilbert-base-uncased-200k\\checkpoint-35000\\pytorch_model.bin\n",
      "Saving model checkpoint to ../data/models/distilbert-base-uncased-200k\\checkpoint-35500\n",
      "Configuration saved in ../data/models/distilbert-base-uncased-200k\\checkpoint-35500\\config.json\n"
     ]
    },
    {
     "name": "stdout",
     "output_type": "stream",
     "text": [
      "{'loss': 0.2395, 'learning_rate': 2.0416666666666667e-05, 'epoch': 1.77}\n"
     ]
    },
    {
     "name": "stderr",
     "output_type": "stream",
     "text": [
      "Model weights saved in ../data/models/distilbert-base-uncased-200k\\checkpoint-35500\\pytorch_model.bin\n",
      "Saving model checkpoint to ../data/models/distilbert-base-uncased-200k\\checkpoint-36000\n",
      "Configuration saved in ../data/models/distilbert-base-uncased-200k\\checkpoint-36000\\config.json\n"
     ]
    },
    {
     "name": "stdout",
     "output_type": "stream",
     "text": [
      "{'loss': 0.2557, 'learning_rate': 2e-05, 'epoch': 1.8}\n"
     ]
    },
    {
     "name": "stderr",
     "output_type": "stream",
     "text": [
      "Model weights saved in ../data/models/distilbert-base-uncased-200k\\checkpoint-36000\\pytorch_model.bin\n",
      "Saving model checkpoint to ../data/models/distilbert-base-uncased-200k\\checkpoint-36500\n",
      "Configuration saved in ../data/models/distilbert-base-uncased-200k\\checkpoint-36500\\config.json\n"
     ]
    },
    {
     "name": "stdout",
     "output_type": "stream",
     "text": [
      "{'loss': 0.2365, 'learning_rate': 1.9583333333333333e-05, 'epoch': 1.82}\n"
     ]
    },
    {
     "name": "stderr",
     "output_type": "stream",
     "text": [
      "Model weights saved in ../data/models/distilbert-base-uncased-200k\\checkpoint-36500\\pytorch_model.bin\n",
      "Saving model checkpoint to ../data/models/distilbert-base-uncased-200k\\checkpoint-37000\n",
      "Configuration saved in ../data/models/distilbert-base-uncased-200k\\checkpoint-37000\\config.json\n"
     ]
    },
    {
     "name": "stdout",
     "output_type": "stream",
     "text": [
      "{'loss': 0.2442, 'learning_rate': 1.9166666666666667e-05, 'epoch': 1.85}\n"
     ]
    },
    {
     "name": "stderr",
     "output_type": "stream",
     "text": [
      "Model weights saved in ../data/models/distilbert-base-uncased-200k\\checkpoint-37000\\pytorch_model.bin\n",
      "Saving model checkpoint to ../data/models/distilbert-base-uncased-200k\\checkpoint-37500\n",
      "Configuration saved in ../data/models/distilbert-base-uncased-200k\\checkpoint-37500\\config.json\n"
     ]
    },
    {
     "name": "stdout",
     "output_type": "stream",
     "text": [
      "{'loss': 0.2333, 'learning_rate': 1.8750000000000002e-05, 'epoch': 1.88}\n"
     ]
    },
    {
     "name": "stderr",
     "output_type": "stream",
     "text": [
      "Model weights saved in ../data/models/distilbert-base-uncased-200k\\checkpoint-37500\\pytorch_model.bin\n",
      "Saving model checkpoint to ../data/models/distilbert-base-uncased-200k\\checkpoint-38000\n",
      "Configuration saved in ../data/models/distilbert-base-uncased-200k\\checkpoint-38000\\config.json\n"
     ]
    },
    {
     "name": "stdout",
     "output_type": "stream",
     "text": [
      "{'loss': 0.2391, 'learning_rate': 1.8333333333333333e-05, 'epoch': 1.9}\n"
     ]
    },
    {
     "name": "stderr",
     "output_type": "stream",
     "text": [
      "Model weights saved in ../data/models/distilbert-base-uncased-200k\\checkpoint-38000\\pytorch_model.bin\n",
      "Saving model checkpoint to ../data/models/distilbert-base-uncased-200k\\checkpoint-38500\n",
      "Configuration saved in ../data/models/distilbert-base-uncased-200k\\checkpoint-38500\\config.json\n"
     ]
    },
    {
     "name": "stdout",
     "output_type": "stream",
     "text": [
      "{'loss': 0.2367, 'learning_rate': 1.7916666666666667e-05, 'epoch': 1.93}\n"
     ]
    },
    {
     "name": "stderr",
     "output_type": "stream",
     "text": [
      "Model weights saved in ../data/models/distilbert-base-uncased-200k\\checkpoint-38500\\pytorch_model.bin\n",
      "Saving model checkpoint to ../data/models/distilbert-base-uncased-200k\\checkpoint-39000\n",
      "Configuration saved in ../data/models/distilbert-base-uncased-200k\\checkpoint-39000\\config.json\n"
     ]
    },
    {
     "name": "stdout",
     "output_type": "stream",
     "text": [
      "{'loss': 0.2392, 'learning_rate': 1.75e-05, 'epoch': 1.95}\n"
     ]
    },
    {
     "name": "stderr",
     "output_type": "stream",
     "text": [
      "Model weights saved in ../data/models/distilbert-base-uncased-200k\\checkpoint-39000\\pytorch_model.bin\n",
      "Saving model checkpoint to ../data/models/distilbert-base-uncased-200k\\checkpoint-39500\n",
      "Configuration saved in ../data/models/distilbert-base-uncased-200k\\checkpoint-39500\\config.json\n"
     ]
    },
    {
     "name": "stdout",
     "output_type": "stream",
     "text": [
      "{'loss': 0.2298, 'learning_rate': 1.7083333333333333e-05, 'epoch': 1.98}\n"
     ]
    },
    {
     "name": "stderr",
     "output_type": "stream",
     "text": [
      "Model weights saved in ../data/models/distilbert-base-uncased-200k\\checkpoint-39500\\pytorch_model.bin\n",
      "Saving model checkpoint to ../data/models/distilbert-base-uncased-200k\\checkpoint-40000\n",
      "Configuration saved in ../data/models/distilbert-base-uncased-200k\\checkpoint-40000\\config.json\n"
     ]
    },
    {
     "name": "stdout",
     "output_type": "stream",
     "text": [
      "{'loss': 0.2505, 'learning_rate': 1.6666666666666667e-05, 'epoch': 2.0}\n"
     ]
    },
    {
     "name": "stderr",
     "output_type": "stream",
     "text": [
      "Model weights saved in ../data/models/distilbert-base-uncased-200k\\checkpoint-40000\\pytorch_model.bin\n",
      "Saving model checkpoint to ../data/models/distilbert-base-uncased-200k\\checkpoint-40500\n",
      "Configuration saved in ../data/models/distilbert-base-uncased-200k\\checkpoint-40500\\config.json\n"
     ]
    },
    {
     "name": "stdout",
     "output_type": "stream",
     "text": [
      "{'loss': 0.181, 'learning_rate': 1.6250000000000002e-05, 'epoch': 2.02}\n"
     ]
    },
    {
     "name": "stderr",
     "output_type": "stream",
     "text": [
      "Model weights saved in ../data/models/distilbert-base-uncased-200k\\checkpoint-40500\\pytorch_model.bin\n",
      "Saving model checkpoint to ../data/models/distilbert-base-uncased-200k\\checkpoint-41000\n",
      "Configuration saved in ../data/models/distilbert-base-uncased-200k\\checkpoint-41000\\config.json\n"
     ]
    },
    {
     "name": "stdout",
     "output_type": "stream",
     "text": [
      "{'loss': 0.1817, 'learning_rate': 1.5833333333333333e-05, 'epoch': 2.05}\n"
     ]
    },
    {
     "name": "stderr",
     "output_type": "stream",
     "text": [
      "Model weights saved in ../data/models/distilbert-base-uncased-200k\\checkpoint-41000\\pytorch_model.bin\n",
      "Saving model checkpoint to ../data/models/distilbert-base-uncased-200k\\checkpoint-41500\n",
      "Configuration saved in ../data/models/distilbert-base-uncased-200k\\checkpoint-41500\\config.json\n"
     ]
    },
    {
     "name": "stdout",
     "output_type": "stream",
     "text": [
      "{'loss': 0.1691, 'learning_rate': 1.5416666666666668e-05, 'epoch': 2.08}\n"
     ]
    },
    {
     "name": "stderr",
     "output_type": "stream",
     "text": [
      "Model weights saved in ../data/models/distilbert-base-uncased-200k\\checkpoint-41500\\pytorch_model.bin\n",
      "Saving model checkpoint to ../data/models/distilbert-base-uncased-200k\\checkpoint-42000\n",
      "Configuration saved in ../data/models/distilbert-base-uncased-200k\\checkpoint-42000\\config.json\n"
     ]
    },
    {
     "name": "stdout",
     "output_type": "stream",
     "text": [
      "{'loss': 0.1984, 'learning_rate': 1.5e-05, 'epoch': 2.1}\n"
     ]
    },
    {
     "name": "stderr",
     "output_type": "stream",
     "text": [
      "Model weights saved in ../data/models/distilbert-base-uncased-200k\\checkpoint-42000\\pytorch_model.bin\n",
      "Saving model checkpoint to ../data/models/distilbert-base-uncased-200k\\checkpoint-42500\n",
      "Configuration saved in ../data/models/distilbert-base-uncased-200k\\checkpoint-42500\\config.json\n"
     ]
    },
    {
     "name": "stdout",
     "output_type": "stream",
     "text": [
      "{'loss': 0.1834, 'learning_rate': 1.4583333333333335e-05, 'epoch': 2.12}\n"
     ]
    },
    {
     "name": "stderr",
     "output_type": "stream",
     "text": [
      "Model weights saved in ../data/models/distilbert-base-uncased-200k\\checkpoint-42500\\pytorch_model.bin\n",
      "Saving model checkpoint to ../data/models/distilbert-base-uncased-200k\\checkpoint-43000\n",
      "Configuration saved in ../data/models/distilbert-base-uncased-200k\\checkpoint-43000\\config.json\n"
     ]
    },
    {
     "name": "stdout",
     "output_type": "stream",
     "text": [
      "{'loss': 0.174, 'learning_rate': 1.4166666666666668e-05, 'epoch': 2.15}\n"
     ]
    },
    {
     "name": "stderr",
     "output_type": "stream",
     "text": [
      "Model weights saved in ../data/models/distilbert-base-uncased-200k\\checkpoint-43000\\pytorch_model.bin\n",
      "Saving model checkpoint to ../data/models/distilbert-base-uncased-200k\\checkpoint-43500\n",
      "Configuration saved in ../data/models/distilbert-base-uncased-200k\\checkpoint-43500\\config.json\n"
     ]
    },
    {
     "name": "stdout",
     "output_type": "stream",
     "text": [
      "{'loss': 0.1968, 'learning_rate': 1.3750000000000002e-05, 'epoch': 2.17}\n"
     ]
    },
    {
     "name": "stderr",
     "output_type": "stream",
     "text": [
      "Model weights saved in ../data/models/distilbert-base-uncased-200k\\checkpoint-43500\\pytorch_model.bin\n",
      "Saving model checkpoint to ../data/models/distilbert-base-uncased-200k\\checkpoint-44000\n",
      "Configuration saved in ../data/models/distilbert-base-uncased-200k\\checkpoint-44000\\config.json\n"
     ]
    },
    {
     "name": "stdout",
     "output_type": "stream",
     "text": [
      "{'loss': 0.1966, 'learning_rate': 1.3333333333333333e-05, 'epoch': 2.2}\n"
     ]
    },
    {
     "name": "stderr",
     "output_type": "stream",
     "text": [
      "Model weights saved in ../data/models/distilbert-base-uncased-200k\\checkpoint-44000\\pytorch_model.bin\n",
      "Saving model checkpoint to ../data/models/distilbert-base-uncased-200k\\checkpoint-44500\n",
      "Configuration saved in ../data/models/distilbert-base-uncased-200k\\checkpoint-44500\\config.json\n"
     ]
    },
    {
     "name": "stdout",
     "output_type": "stream",
     "text": [
      "{'loss': 0.172, 'learning_rate': 1.2916666666666668e-05, 'epoch': 2.23}\n"
     ]
    },
    {
     "name": "stderr",
     "output_type": "stream",
     "text": [
      "Model weights saved in ../data/models/distilbert-base-uncased-200k\\checkpoint-44500\\pytorch_model.bin\n",
      "Saving model checkpoint to ../data/models/distilbert-base-uncased-200k\\checkpoint-45000\n",
      "Configuration saved in ../data/models/distilbert-base-uncased-200k\\checkpoint-45000\\config.json\n"
     ]
    },
    {
     "name": "stdout",
     "output_type": "stream",
     "text": [
      "{'loss': 0.1755, 'learning_rate': 1.25e-05, 'epoch': 2.25}\n"
     ]
    },
    {
     "name": "stderr",
     "output_type": "stream",
     "text": [
      "Model weights saved in ../data/models/distilbert-base-uncased-200k\\checkpoint-45000\\pytorch_model.bin\n",
      "Saving model checkpoint to ../data/models/distilbert-base-uncased-200k\\checkpoint-45500\n",
      "Configuration saved in ../data/models/distilbert-base-uncased-200k\\checkpoint-45500\\config.json\n"
     ]
    },
    {
     "name": "stdout",
     "output_type": "stream",
     "text": [
      "{'loss': 0.1879, 'learning_rate': 1.2083333333333333e-05, 'epoch': 2.27}\n"
     ]
    },
    {
     "name": "stderr",
     "output_type": "stream",
     "text": [
      "Model weights saved in ../data/models/distilbert-base-uncased-200k\\checkpoint-45500\\pytorch_model.bin\n",
      "Saving model checkpoint to ../data/models/distilbert-base-uncased-200k\\checkpoint-46000\n",
      "Configuration saved in ../data/models/distilbert-base-uncased-200k\\checkpoint-46000\\config.json\n"
     ]
    },
    {
     "name": "stdout",
     "output_type": "stream",
     "text": [
      "{'loss': 0.182, 'learning_rate': 1.1666666666666668e-05, 'epoch': 2.3}\n"
     ]
    },
    {
     "name": "stderr",
     "output_type": "stream",
     "text": [
      "Model weights saved in ../data/models/distilbert-base-uncased-200k\\checkpoint-46000\\pytorch_model.bin\n",
      "Saving model checkpoint to ../data/models/distilbert-base-uncased-200k\\checkpoint-46500\n",
      "Configuration saved in ../data/models/distilbert-base-uncased-200k\\checkpoint-46500\\config.json\n"
     ]
    },
    {
     "name": "stdout",
     "output_type": "stream",
     "text": [
      "{'loss': 0.1668, 'learning_rate': 1.125e-05, 'epoch': 2.33}\n"
     ]
    },
    {
     "name": "stderr",
     "output_type": "stream",
     "text": [
      "Model weights saved in ../data/models/distilbert-base-uncased-200k\\checkpoint-46500\\pytorch_model.bin\n",
      "Saving model checkpoint to ../data/models/distilbert-base-uncased-200k\\checkpoint-47000\n",
      "Configuration saved in ../data/models/distilbert-base-uncased-200k\\checkpoint-47000\\config.json\n"
     ]
    },
    {
     "name": "stdout",
     "output_type": "stream",
     "text": [
      "{'loss': 0.1828, 'learning_rate': 1.0833333333333334e-05, 'epoch': 2.35}\n"
     ]
    },
    {
     "name": "stderr",
     "output_type": "stream",
     "text": [
      "Model weights saved in ../data/models/distilbert-base-uncased-200k\\checkpoint-47000\\pytorch_model.bin\n",
      "Saving model checkpoint to ../data/models/distilbert-base-uncased-200k\\checkpoint-47500\n",
      "Configuration saved in ../data/models/distilbert-base-uncased-200k\\checkpoint-47500\\config.json\n"
     ]
    },
    {
     "name": "stdout",
     "output_type": "stream",
     "text": [
      "{'loss': 0.1877, 'learning_rate': 1.0416666666666668e-05, 'epoch': 2.38}\n"
     ]
    },
    {
     "name": "stderr",
     "output_type": "stream",
     "text": [
      "Model weights saved in ../data/models/distilbert-base-uncased-200k\\checkpoint-47500\\pytorch_model.bin\n",
      "Saving model checkpoint to ../data/models/distilbert-base-uncased-200k\\checkpoint-48000\n",
      "Configuration saved in ../data/models/distilbert-base-uncased-200k\\checkpoint-48000\\config.json\n"
     ]
    },
    {
     "name": "stdout",
     "output_type": "stream",
     "text": [
      "{'loss': 0.183, 'learning_rate': 1e-05, 'epoch': 2.4}\n"
     ]
    },
    {
     "name": "stderr",
     "output_type": "stream",
     "text": [
      "Model weights saved in ../data/models/distilbert-base-uncased-200k\\checkpoint-48000\\pytorch_model.bin\n",
      "Saving model checkpoint to ../data/models/distilbert-base-uncased-200k\\checkpoint-48500\n",
      "Configuration saved in ../data/models/distilbert-base-uncased-200k\\checkpoint-48500\\config.json\n"
     ]
    },
    {
     "name": "stdout",
     "output_type": "stream",
     "text": [
      "{'loss': 0.1876, 'learning_rate': 9.583333333333334e-06, 'epoch': 2.42}\n"
     ]
    },
    {
     "name": "stderr",
     "output_type": "stream",
     "text": [
      "Model weights saved in ../data/models/distilbert-base-uncased-200k\\checkpoint-48500\\pytorch_model.bin\n",
      "Saving model checkpoint to ../data/models/distilbert-base-uncased-200k\\checkpoint-49000\n",
      "Configuration saved in ../data/models/distilbert-base-uncased-200k\\checkpoint-49000\\config.json\n"
     ]
    },
    {
     "name": "stdout",
     "output_type": "stream",
     "text": [
      "{'loss': 0.1801, 'learning_rate': 9.166666666666666e-06, 'epoch': 2.45}\n"
     ]
    },
    {
     "name": "stderr",
     "output_type": "stream",
     "text": [
      "Model weights saved in ../data/models/distilbert-base-uncased-200k\\checkpoint-49000\\pytorch_model.bin\n",
      "Saving model checkpoint to ../data/models/distilbert-base-uncased-200k\\checkpoint-49500\n",
      "Configuration saved in ../data/models/distilbert-base-uncased-200k\\checkpoint-49500\\config.json\n"
     ]
    },
    {
     "name": "stdout",
     "output_type": "stream",
     "text": [
      "{'loss': 0.1842, 'learning_rate': 8.75e-06, 'epoch': 2.48}\n"
     ]
    },
    {
     "name": "stderr",
     "output_type": "stream",
     "text": [
      "Model weights saved in ../data/models/distilbert-base-uncased-200k\\checkpoint-49500\\pytorch_model.bin\n",
      "Saving model checkpoint to ../data/models/distilbert-base-uncased-200k\\checkpoint-50000\n",
      "Configuration saved in ../data/models/distilbert-base-uncased-200k\\checkpoint-50000\\config.json\n"
     ]
    },
    {
     "name": "stdout",
     "output_type": "stream",
     "text": [
      "{'loss': 0.1814, 'learning_rate': 8.333333333333334e-06, 'epoch': 2.5}\n"
     ]
    },
    {
     "name": "stderr",
     "output_type": "stream",
     "text": [
      "Model weights saved in ../data/models/distilbert-base-uncased-200k\\checkpoint-50000\\pytorch_model.bin\n",
      "Saving model checkpoint to ../data/models/distilbert-base-uncased-200k\\checkpoint-50500\n",
      "Configuration saved in ../data/models/distilbert-base-uncased-200k\\checkpoint-50500\\config.json\n"
     ]
    },
    {
     "name": "stdout",
     "output_type": "stream",
     "text": [
      "{'loss': 0.1869, 'learning_rate': 7.916666666666667e-06, 'epoch': 2.52}\n"
     ]
    },
    {
     "name": "stderr",
     "output_type": "stream",
     "text": [
      "Model weights saved in ../data/models/distilbert-base-uncased-200k\\checkpoint-50500\\pytorch_model.bin\n",
      "Saving model checkpoint to ../data/models/distilbert-base-uncased-200k\\checkpoint-51000\n",
      "Configuration saved in ../data/models/distilbert-base-uncased-200k\\checkpoint-51000\\config.json\n"
     ]
    },
    {
     "name": "stdout",
     "output_type": "stream",
     "text": [
      "{'loss': 0.1704, 'learning_rate': 7.5e-06, 'epoch': 2.55}\n"
     ]
    },
    {
     "name": "stderr",
     "output_type": "stream",
     "text": [
      "Model weights saved in ../data/models/distilbert-base-uncased-200k\\checkpoint-51000\\pytorch_model.bin\n",
      "Saving model checkpoint to ../data/models/distilbert-base-uncased-200k\\checkpoint-51500\n",
      "Configuration saved in ../data/models/distilbert-base-uncased-200k\\checkpoint-51500\\config.json\n"
     ]
    },
    {
     "name": "stdout",
     "output_type": "stream",
     "text": [
      "{'loss': 0.1879, 'learning_rate': 7.083333333333334e-06, 'epoch': 2.58}\n"
     ]
    },
    {
     "name": "stderr",
     "output_type": "stream",
     "text": [
      "Model weights saved in ../data/models/distilbert-base-uncased-200k\\checkpoint-51500\\pytorch_model.bin\n",
      "Saving model checkpoint to ../data/models/distilbert-base-uncased-200k\\checkpoint-52000\n",
      "Configuration saved in ../data/models/distilbert-base-uncased-200k\\checkpoint-52000\\config.json\n"
     ]
    },
    {
     "name": "stdout",
     "output_type": "stream",
     "text": [
      "{'loss': 0.1774, 'learning_rate': 6.666666666666667e-06, 'epoch': 2.6}\n"
     ]
    },
    {
     "name": "stderr",
     "output_type": "stream",
     "text": [
      "Model weights saved in ../data/models/distilbert-base-uncased-200k\\checkpoint-52000\\pytorch_model.bin\n",
      "Saving model checkpoint to ../data/models/distilbert-base-uncased-200k\\checkpoint-52500\n",
      "Configuration saved in ../data/models/distilbert-base-uncased-200k\\checkpoint-52500\\config.json\n"
     ]
    },
    {
     "name": "stdout",
     "output_type": "stream",
     "text": [
      "{'loss': 0.1799, 'learning_rate': 6.25e-06, 'epoch': 2.62}\n"
     ]
    },
    {
     "name": "stderr",
     "output_type": "stream",
     "text": [
      "Model weights saved in ../data/models/distilbert-base-uncased-200k\\checkpoint-52500\\pytorch_model.bin\n",
      "Saving model checkpoint to ../data/models/distilbert-base-uncased-200k\\checkpoint-53000\n",
      "Configuration saved in ../data/models/distilbert-base-uncased-200k\\checkpoint-53000\\config.json\n"
     ]
    },
    {
     "name": "stdout",
     "output_type": "stream",
     "text": [
      "{'loss': 0.1862, 'learning_rate': 5.833333333333334e-06, 'epoch': 2.65}\n"
     ]
    },
    {
     "name": "stderr",
     "output_type": "stream",
     "text": [
      "Model weights saved in ../data/models/distilbert-base-uncased-200k\\checkpoint-53000\\pytorch_model.bin\n",
      "Saving model checkpoint to ../data/models/distilbert-base-uncased-200k\\checkpoint-53500\n",
      "Configuration saved in ../data/models/distilbert-base-uncased-200k\\checkpoint-53500\\config.json\n"
     ]
    },
    {
     "name": "stdout",
     "output_type": "stream",
     "text": [
      "{'loss': 0.1863, 'learning_rate': 5.416666666666667e-06, 'epoch': 2.67}\n"
     ]
    },
    {
     "name": "stderr",
     "output_type": "stream",
     "text": [
      "Model weights saved in ../data/models/distilbert-base-uncased-200k\\checkpoint-53500\\pytorch_model.bin\n",
      "Saving model checkpoint to ../data/models/distilbert-base-uncased-200k\\checkpoint-54000\n",
      "Configuration saved in ../data/models/distilbert-base-uncased-200k\\checkpoint-54000\\config.json\n"
     ]
    },
    {
     "name": "stdout",
     "output_type": "stream",
     "text": [
      "{'loss': 0.1715, 'learning_rate': 5e-06, 'epoch': 2.7}\n"
     ]
    },
    {
     "name": "stderr",
     "output_type": "stream",
     "text": [
      "Model weights saved in ../data/models/distilbert-base-uncased-200k\\checkpoint-54000\\pytorch_model.bin\n",
      "Saving model checkpoint to ../data/models/distilbert-base-uncased-200k\\checkpoint-54500\n",
      "Configuration saved in ../data/models/distilbert-base-uncased-200k\\checkpoint-54500\\config.json\n"
     ]
    },
    {
     "name": "stdout",
     "output_type": "stream",
     "text": [
      "{'loss': 0.1994, 'learning_rate': 4.583333333333333e-06, 'epoch': 2.73}\n"
     ]
    },
    {
     "name": "stderr",
     "output_type": "stream",
     "text": [
      "Model weights saved in ../data/models/distilbert-base-uncased-200k\\checkpoint-54500\\pytorch_model.bin\n",
      "Saving model checkpoint to ../data/models/distilbert-base-uncased-200k\\checkpoint-55000\n",
      "Configuration saved in ../data/models/distilbert-base-uncased-200k\\checkpoint-55000\\config.json\n"
     ]
    },
    {
     "name": "stdout",
     "output_type": "stream",
     "text": [
      "{'loss': 0.1629, 'learning_rate': 4.166666666666667e-06, 'epoch': 2.75}\n"
     ]
    },
    {
     "name": "stderr",
     "output_type": "stream",
     "text": [
      "Model weights saved in ../data/models/distilbert-base-uncased-200k\\checkpoint-55000\\pytorch_model.bin\n",
      "Saving model checkpoint to ../data/models/distilbert-base-uncased-200k\\checkpoint-55500\n",
      "Configuration saved in ../data/models/distilbert-base-uncased-200k\\checkpoint-55500\\config.json\n"
     ]
    },
    {
     "name": "stdout",
     "output_type": "stream",
     "text": [
      "{'loss': 0.18, 'learning_rate': 3.75e-06, 'epoch': 2.77}\n"
     ]
    },
    {
     "name": "stderr",
     "output_type": "stream",
     "text": [
      "Model weights saved in ../data/models/distilbert-base-uncased-200k\\checkpoint-55500\\pytorch_model.bin\n",
      "Saving model checkpoint to ../data/models/distilbert-base-uncased-200k\\checkpoint-56000\n",
      "Configuration saved in ../data/models/distilbert-base-uncased-200k\\checkpoint-56000\\config.json\n"
     ]
    },
    {
     "name": "stdout",
     "output_type": "stream",
     "text": [
      "{'loss': 0.1769, 'learning_rate': 3.3333333333333333e-06, 'epoch': 2.8}\n"
     ]
    },
    {
     "name": "stderr",
     "output_type": "stream",
     "text": [
      "Model weights saved in ../data/models/distilbert-base-uncased-200k\\checkpoint-56000\\pytorch_model.bin\n",
      "Saving model checkpoint to ../data/models/distilbert-base-uncased-200k\\checkpoint-56500\n",
      "Configuration saved in ../data/models/distilbert-base-uncased-200k\\checkpoint-56500\\config.json\n"
     ]
    },
    {
     "name": "stdout",
     "output_type": "stream",
     "text": [
      "{'loss': 0.1617, 'learning_rate': 2.916666666666667e-06, 'epoch': 2.83}\n"
     ]
    },
    {
     "name": "stderr",
     "output_type": "stream",
     "text": [
      "Model weights saved in ../data/models/distilbert-base-uncased-200k\\checkpoint-56500\\pytorch_model.bin\n",
      "Saving model checkpoint to ../data/models/distilbert-base-uncased-200k\\checkpoint-57000\n",
      "Configuration saved in ../data/models/distilbert-base-uncased-200k\\checkpoint-57000\\config.json\n"
     ]
    },
    {
     "name": "stdout",
     "output_type": "stream",
     "text": [
      "{'loss': 0.1837, 'learning_rate': 2.5e-06, 'epoch': 2.85}\n"
     ]
    },
    {
     "name": "stderr",
     "output_type": "stream",
     "text": [
      "Model weights saved in ../data/models/distilbert-base-uncased-200k\\checkpoint-57000\\pytorch_model.bin\n",
      "Saving model checkpoint to ../data/models/distilbert-base-uncased-200k\\checkpoint-57500\n",
      "Configuration saved in ../data/models/distilbert-base-uncased-200k\\checkpoint-57500\\config.json\n"
     ]
    },
    {
     "name": "stdout",
     "output_type": "stream",
     "text": [
      "{'loss': 0.1768, 'learning_rate': 2.0833333333333334e-06, 'epoch': 2.88}\n"
     ]
    },
    {
     "name": "stderr",
     "output_type": "stream",
     "text": [
      "Model weights saved in ../data/models/distilbert-base-uncased-200k\\checkpoint-57500\\pytorch_model.bin\n",
      "Saving model checkpoint to ../data/models/distilbert-base-uncased-200k\\checkpoint-58000\n",
      "Configuration saved in ../data/models/distilbert-base-uncased-200k\\checkpoint-58000\\config.json\n"
     ]
    },
    {
     "name": "stdout",
     "output_type": "stream",
     "text": [
      "{'loss': 0.1813, 'learning_rate': 1.6666666666666667e-06, 'epoch': 2.9}\n"
     ]
    },
    {
     "name": "stderr",
     "output_type": "stream",
     "text": [
      "Model weights saved in ../data/models/distilbert-base-uncased-200k\\checkpoint-58000\\pytorch_model.bin\n",
      "Saving model checkpoint to ../data/models/distilbert-base-uncased-200k\\checkpoint-58500\n",
      "Configuration saved in ../data/models/distilbert-base-uncased-200k\\checkpoint-58500\\config.json\n"
     ]
    },
    {
     "name": "stdout",
     "output_type": "stream",
     "text": [
      "{'loss': 0.1674, 'learning_rate': 1.25e-06, 'epoch': 2.92}\n"
     ]
    },
    {
     "name": "stderr",
     "output_type": "stream",
     "text": [
      "Model weights saved in ../data/models/distilbert-base-uncased-200k\\checkpoint-58500\\pytorch_model.bin\n",
      "Saving model checkpoint to ../data/models/distilbert-base-uncased-200k\\checkpoint-59000\n",
      "Configuration saved in ../data/models/distilbert-base-uncased-200k\\checkpoint-59000\\config.json\n"
     ]
    },
    {
     "name": "stdout",
     "output_type": "stream",
     "text": [
      "{'loss': 0.1728, 'learning_rate': 8.333333333333333e-07, 'epoch': 2.95}\n"
     ]
    },
    {
     "name": "stderr",
     "output_type": "stream",
     "text": [
      "Model weights saved in ../data/models/distilbert-base-uncased-200k\\checkpoint-59000\\pytorch_model.bin\n",
      "Saving model checkpoint to ../data/models/distilbert-base-uncased-200k\\checkpoint-59500\n",
      "Configuration saved in ../data/models/distilbert-base-uncased-200k\\checkpoint-59500\\config.json\n"
     ]
    },
    {
     "name": "stdout",
     "output_type": "stream",
     "text": [
      "{'loss': 0.1736, 'learning_rate': 4.1666666666666667e-07, 'epoch': 2.98}\n"
     ]
    },
    {
     "name": "stderr",
     "output_type": "stream",
     "text": [
      "Model weights saved in ../data/models/distilbert-base-uncased-200k\\checkpoint-59500\\pytorch_model.bin\n",
      "Saving model checkpoint to ../data/models/distilbert-base-uncased-200k\\checkpoint-60000\n",
      "Configuration saved in ../data/models/distilbert-base-uncased-200k\\checkpoint-60000\\config.json\n"
     ]
    },
    {
     "name": "stdout",
     "output_type": "stream",
     "text": [
      "{'loss': 0.1884, 'learning_rate': 0.0, 'epoch': 3.0}\n"
     ]
    },
    {
     "name": "stderr",
     "output_type": "stream",
     "text": [
      "Model weights saved in ../data/models/distilbert-base-uncased-200k\\checkpoint-60000\\pytorch_model.bin\n",
      "\n",
      "\n",
      "Training completed. Do not forget to share your model on huggingface.co/models =)\n",
      "\n",
      "\n"
     ]
    },
    {
     "name": "stdout",
     "output_type": "stream",
     "text": [
      "{'train_runtime': 7812.8922, 'train_samples_per_second': 61.437, 'train_steps_per_second': 7.68, 'train_loss': 0.2526954105377197, 'epoch': 3.0}\n",
      "0 days 02:10:14.608768\n"
     ]
    }
   ],
   "source": [
    "time_training_start = pd.Timestamp.now()\n",
    "\n",
    "# setup the trainer\n",
    "trainer = Trainer(\n",
    "    model=model,\n",
    "    args=training_args,\n",
    "    train_dataset=tokenized_datasets['train'],\n",
    "    eval_dataset=tokenized_datasets['test'],\n",
    "    compute_metrics=compute_metrics,\n",
    ")\n",
    "\n",
    "# execute the training\n",
    "trainer.train()\n",
    "\n",
    "time_training_stop = pd.Timestamp.now()\n",
    "time_training = time_training_stop - time_training_start\n",
    "\n",
    "print(time_training)"
   ]
  },
  {
   "cell_type": "markdown",
   "id": "5b5a3fc9-b859-4657-b052-c111441e78ab",
   "metadata": {},
   "source": [
    "## 3.6 - Save fine-tuned model"
   ]
  },
  {
   "cell_type": "code",
   "execution_count": 23,
   "id": "96d4890f-d58f-4041-941f-45450005b4b3",
   "metadata": {},
   "outputs": [
    {
     "name": "stderr",
     "output_type": "stream",
     "text": [
      "Saving model checkpoint to ../data/models/distilbert-base-uncased-200k\n",
      "Configuration saved in ../data/models/distilbert-base-uncased-200k\\config.json\n",
      "Model weights saved in ../data/models/distilbert-base-uncased-200k\\pytorch_model.bin\n"
     ]
    }
   ],
   "source": [
    "trainer.save_model()    # defaults to self.args.output_dir"
   ]
  },
  {
   "cell_type": "markdown",
   "id": "4b3a9895-0c0b-4d04-b200-729fbd7ba87d",
   "metadata": {},
   "source": [
    "## 3.7 - Evaluate fine-tuned model"
   ]
  },
  {
   "cell_type": "code",
   "execution_count": 24,
   "id": "aad91a54-6809-4920-b63d-0fd396247d37",
   "metadata": {},
   "outputs": [
    {
     "name": "stderr",
     "output_type": "stream",
     "text": [
      "The following columns in the evaluation set don't have a corresponding argument in `DistilBertForSequenceClassification.forward` and have been ignored: text. If text are not expected by `DistilBertForSequenceClassification.forward`,  you can safely ignore this message.\n",
      "***** Running Evaluation *****\n",
      "  Num examples = 40000\n",
      "  Batch size = 8\n"
     ]
    },
    {
     "data": {
      "application/vnd.jupyter.widget-view+json": {
       "model_id": "c61ec8731ec547129b161c2e374ba88e",
       "version_major": 2,
       "version_minor": 0
      },
      "text/plain": [
       "  0%|          | 0/5000 [00:00<?, ?it/s]"
      ]
     },
     "metadata": {},
     "output_type": "display_data"
    },
    {
     "data": {
      "text/plain": [
       "{'eval_loss': 0.3871361315250397,\n",
       " 'eval_accuracy': 0.8995,\n",
       " 'eval_runtime': 204.6593,\n",
       " 'eval_samples_per_second': 195.447,\n",
       " 'eval_steps_per_second': 24.431,\n",
       " 'epoch': 3.0}"
      ]
     },
     "execution_count": 24,
     "metadata": {},
     "output_type": "execute_result"
    }
   ],
   "source": [
    "# if evaluating immediately after fine-tuning\n",
    "trainer.evaluate()"
   ]
  },
  {
   "cell_type": "code",
   "execution_count": 77,
   "id": "d0d9958b-4320-403c-a6d4-1e5c3c5b6030",
   "metadata": {},
   "outputs": [
    {
     "name": "stderr",
     "output_type": "stream",
     "text": [
      "The following columns in the test set don't have a corresponding argument in `DistilBertForSequenceClassification.forward` and have been ignored: text. If text are not expected by `DistilBertForSequenceClassification.forward`,  you can safely ignore this message.\n",
      "***** Running Prediction *****\n",
      "  Num examples = 2000\n",
      "  Batch size = 8\n"
     ]
    }
   ],
   "source": [
    "predictions = trainer.predict(tokenized_datasets['test'])"
   ]
  },
  {
   "cell_type": "code",
   "execution_count": 81,
   "id": "536e511d-0687-4387-b40d-4103a9d9a7ad",
   "metadata": {},
   "outputs": [
    {
     "data": {
      "text/plain": [
       "{'test_loss': 0.4639328718185425,\n",
       " 'test_accuracy': 0.8565,\n",
       " 'test_runtime': 30.4455,\n",
       " 'test_samples_per_second': 65.691,\n",
       " 'test_steps_per_second': 8.211}"
      ]
     },
     "execution_count": 81,
     "metadata": {},
     "output_type": "execute_result"
    }
   ],
   "source": [
    "predictions.metrics"
   ]
  },
  {
   "cell_type": "code",
   "execution_count": 74,
   "id": "93dc7b2e-be12-44a7-bf28-0d0bf18765f1",
   "metadata": {},
   "outputs": [
    {
     "name": "stderr",
     "output_type": "stream",
     "text": [
      "loading configuration file ../data/models/dist-test1/config.json\n",
      "Model config DistilBertConfig {\n",
      "  \"_name_or_path\": \"../data/models/dist-test1\",\n",
      "  \"activation\": \"gelu\",\n",
      "  \"architectures\": [\n",
      "    \"DistilBertForSequenceClassification\"\n",
      "  ],\n",
      "  \"attention_dropout\": 0.1,\n",
      "  \"dim\": 768,\n",
      "  \"dropout\": 0.1,\n",
      "  \"hidden_dim\": 3072,\n",
      "  \"initializer_range\": 0.02,\n",
      "  \"max_position_embeddings\": 512,\n",
      "  \"model_type\": \"distilbert\",\n",
      "  \"n_heads\": 12,\n",
      "  \"n_layers\": 6,\n",
      "  \"pad_token_id\": 0,\n",
      "  \"problem_type\": \"single_label_classification\",\n",
      "  \"qa_dropout\": 0.1,\n",
      "  \"seq_classif_dropout\": 0.2,\n",
      "  \"sinusoidal_pos_embds\": false,\n",
      "  \"tie_weights_\": true,\n",
      "  \"torch_dtype\": \"float32\",\n",
      "  \"transformers_version\": \"4.26.1\",\n",
      "  \"vocab_size\": 30522\n",
      "}\n",
      "\n",
      "loading weights file ../data/models/dist-test1/pytorch_model.bin\n",
      "All model checkpoint weights were used when initializing DistilBertForSequenceClassification.\n",
      "\n",
      "All the weights of DistilBertForSequenceClassification were initialized from the model checkpoint at ../data/models/dist-test1.\n",
      "If your task is similar to the task the model of the checkpoint was trained on, you can already use DistilBertForSequenceClassification for predictions without further training.\n"
     ]
    }
   ],
   "source": [
    "# reload model, if evaluation is being performed separately from training\n",
    "model_dir = \"../data/models/dist-test1\"\n",
    "\n",
    "model = AutoModelForSequenceClassification.from_pretrained(model_dir)"
   ]
  },
  {
   "cell_type": "code",
   "execution_count": null,
   "id": "3a1df5ba-fffc-4f10-993a-9c2ad795a56a",
   "metadata": {},
   "outputs": [],
   "source": [
    "# TODO - setup eval for re-loaded model"
   ]
  },
  {
   "cell_type": "markdown",
   "id": "0f8cd4eb-89fe-47df-9940-e2db3034cb49",
   "metadata": {},
   "source": [
    "TODO: setup way to archive the saved model files.\n",
    "\n",
    "For now:\n",
    "`tar -czvf dist-test1.tar.gz --exclude='*checkpoint*' dist-test1`"
   ]
  }
 ],
 "metadata": {
  "environment": {
   "kernel": "python3",
   "name": "tf2-gpu.2-11.m103",
   "type": "gcloud",
   "uri": "gcr.io/deeplearning-platform-release/tf2-gpu.2-11:m103"
  },
  "kernelspec": {
   "display_name": "tf290_env",
   "language": "python",
   "name": "python3"
  },
  "language_info": {
   "codemirror_mode": {
    "name": "ipython",
    "version": 3
   },
   "file_extension": ".py",
   "mimetype": "text/x-python",
   "name": "python",
   "nbconvert_exporter": "python",
   "pygments_lexer": "ipython3",
   "version": "3.10.8"
  },
  "vscode": {
   "interpreter": {
    "hash": "65a6dd32d71ed4a2e5ac9ab3f52d3aeee49f01a00467a63b19dc274a1d27154b"
   }
  }
 },
 "nbformat": 4,
 "nbformat_minor": 5
}
