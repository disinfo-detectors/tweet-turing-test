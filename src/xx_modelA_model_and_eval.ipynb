{
 "cells": [
  {
   "cell_type": "markdown",
   "metadata": {},
   "source": [
    "# 1 - Setup"
   ]
  },
  {
   "cell_type": "code",
   "execution_count": 8,
   "metadata": {},
   "outputs": [],
   "source": [
    "#   data science packages\n",
    "from datetime import datetime\n",
    "import numpy as np\n",
    "import pandas as pd\n",
    "import joblib\n",
    "\n",
    "from sklearn.pipeline import Pipeline\n",
    "from sklearn.preprocessing import OneHotEncoder, Normalizer, StandardScaler\n",
    "from sklearn.model_selection import train_test_split\n",
    "from sklearn.compose import ColumnTransformer\n",
    "from sklearn.ensemble import RandomForestClassifier"
   ]
  },
  {
   "attachments": {},
   "cell_type": "markdown",
   "metadata": {},
   "source": [
    "# 2 - Import Data"
   ]
  },
  {
   "cell_type": "code",
   "execution_count": 5,
   "metadata": {},
   "outputs": [
    {
     "data": {
      "text/html": [
       "<div>\n",
       "<style scoped>\n",
       "    .dataframe tbody tr th:only-of-type {\n",
       "        vertical-align: middle;\n",
       "    }\n",
       "\n",
       "    .dataframe tbody tr th {\n",
       "        vertical-align: top;\n",
       "    }\n",
       "\n",
       "    .dataframe thead th {\n",
       "        text-align: right;\n",
       "    }\n",
       "</style>\n",
       "<table border=\"1\" class=\"dataframe\">\n",
       "  <thead>\n",
       "    <tr style=\"text-align: right;\">\n",
       "      <th></th>\n",
       "      <th>col_00</th>\n",
       "      <th>col_01</th>\n",
       "      <th>col_02</th>\n",
       "      <th>col_03</th>\n",
       "      <th>col_04</th>\n",
       "      <th>col_05</th>\n",
       "      <th>col_06</th>\n",
       "      <th>col_07</th>\n",
       "      <th>col_08</th>\n",
       "      <th>col_09</th>\n",
       "      <th>col_10</th>\n",
       "      <th>col_11</th>\n",
       "      <th>col_12</th>\n",
       "      <th>col_13</th>\n",
       "      <th>col_14</th>\n",
       "      <th>col_15</th>\n",
       "      <th>col_16</th>\n",
       "      <th>col_17</th>\n",
       "      <th>col_18</th>\n",
       "      <th>col_19</th>\n",
       "    </tr>\n",
       "  </thead>\n",
       "  <tbody>\n",
       "    <tr>\n",
       "      <th>0</th>\n",
       "      <td>48</td>\n",
       "      <td>99</td>\n",
       "      <td>38</td>\n",
       "      <td>58</td>\n",
       "      <td>14</td>\n",
       "      <td>97</td>\n",
       "      <td>43</td>\n",
       "      <td>69</td>\n",
       "      <td>63</td>\n",
       "      <td>34</td>\n",
       "      <td>59</td>\n",
       "      <td>38</td>\n",
       "      <td>60</td>\n",
       "      <td>39</td>\n",
       "      <td>8</td>\n",
       "      <td>16</td>\n",
       "      <td>2</td>\n",
       "      <td>40</td>\n",
       "      <td>83</td>\n",
       "      <td>56</td>\n",
       "    </tr>\n",
       "    <tr>\n",
       "      <th>1</th>\n",
       "      <td>11</td>\n",
       "      <td>29</td>\n",
       "      <td>50</td>\n",
       "      <td>46</td>\n",
       "      <td>54</td>\n",
       "      <td>76</td>\n",
       "      <td>62</td>\n",
       "      <td>79</td>\n",
       "      <td>75</td>\n",
       "      <td>83</td>\n",
       "      <td>62</td>\n",
       "      <td>95</td>\n",
       "      <td>77</td>\n",
       "      <td>23</td>\n",
       "      <td>75</td>\n",
       "      <td>67</td>\n",
       "      <td>61</td>\n",
       "      <td>4</td>\n",
       "      <td>7</td>\n",
       "      <td>15</td>\n",
       "    </tr>\n",
       "    <tr>\n",
       "      <th>2</th>\n",
       "      <td>22</td>\n",
       "      <td>48</td>\n",
       "      <td>2</td>\n",
       "      <td>58</td>\n",
       "      <td>15</td>\n",
       "      <td>15</td>\n",
       "      <td>85</td>\n",
       "      <td>77</td>\n",
       "      <td>38</td>\n",
       "      <td>96</td>\n",
       "      <td>23</td>\n",
       "      <td>49</td>\n",
       "      <td>31</td>\n",
       "      <td>57</td>\n",
       "      <td>3</td>\n",
       "      <td>28</td>\n",
       "      <td>72</td>\n",
       "      <td>14</td>\n",
       "      <td>9</td>\n",
       "      <td>38</td>\n",
       "    </tr>\n",
       "    <tr>\n",
       "      <th>3</th>\n",
       "      <td>57</td>\n",
       "      <td>65</td>\n",
       "      <td>20</td>\n",
       "      <td>49</td>\n",
       "      <td>14</td>\n",
       "      <td>49</td>\n",
       "      <td>0</td>\n",
       "      <td>99</td>\n",
       "      <td>40</td>\n",
       "      <td>76</td>\n",
       "      <td>51</td>\n",
       "      <td>63</td>\n",
       "      <td>74</td>\n",
       "      <td>9</td>\n",
       "      <td>21</td>\n",
       "      <td>18</td>\n",
       "      <td>31</td>\n",
       "      <td>54</td>\n",
       "      <td>27</td>\n",
       "      <td>51</td>\n",
       "    </tr>\n",
       "    <tr>\n",
       "      <th>4</th>\n",
       "      <td>55</td>\n",
       "      <td>76</td>\n",
       "      <td>90</td>\n",
       "      <td>54</td>\n",
       "      <td>18</td>\n",
       "      <td>11</td>\n",
       "      <td>39</td>\n",
       "      <td>35</td>\n",
       "      <td>53</td>\n",
       "      <td>90</td>\n",
       "      <td>16</td>\n",
       "      <td>91</td>\n",
       "      <td>77</td>\n",
       "      <td>33</td>\n",
       "      <td>26</td>\n",
       "      <td>43</td>\n",
       "      <td>2</td>\n",
       "      <td>6</td>\n",
       "      <td>18</td>\n",
       "      <td>96</td>\n",
       "    </tr>\n",
       "  </tbody>\n",
       "</table>\n",
       "</div>"
      ],
      "text/plain": [
       "   col_00  col_01  col_02  col_03  col_04  col_05  col_06  col_07  col_08  \\\n",
       "0      48      99      38      58      14      97      43      69      63   \n",
       "1      11      29      50      46      54      76      62      79      75   \n",
       "2      22      48       2      58      15      15      85      77      38   \n",
       "3      57      65      20      49      14      49       0      99      40   \n",
       "4      55      76      90      54      18      11      39      35      53   \n",
       "\n",
       "   col_09  col_10  col_11  col_12  col_13  col_14  col_15  col_16  col_17  \\\n",
       "0      34      59      38      60      39       8      16       2      40   \n",
       "1      83      62      95      77      23      75      67      61       4   \n",
       "2      96      23      49      31      57       3      28      72      14   \n",
       "3      76      51      63      74       9      21      18      31      54   \n",
       "4      90      16      91      77      33      26      43       2       6   \n",
       "\n",
       "   col_18  col_19  \n",
       "0      83      56  \n",
       "1       7      15  \n",
       "2       9      38  \n",
       "3      27      51  \n",
       "4      18      96  "
      ]
     },
     "execution_count": 5,
     "metadata": {},
     "output_type": "execute_result"
    }
   ],
   "source": [
    "# random array for testing\n",
    "nrows = 100\n",
    "ncols = 20\n",
    "\n",
    "df = pd.DataFrame(\n",
    "    data=np.random.randint(low=0, high=100, size=(nrows, ncols), dtype='int64'),\n",
    "    columns=[f\"col_{x:0>2}\" for x in range(ncols)]\n",
    ")\n",
    "\n",
    "df.head()"
   ]
  },
  {
   "attachments": {},
   "cell_type": "markdown",
   "metadata": {},
   "source": [
    "# 3 - Start Model Pipeline"
   ]
  },
  {
   "cell_type": "code",
   "execution_count": null,
   "metadata": {},
   "outputs": [],
   "source": [
    "ordinate_columns = [f\"col_{x:0>2}\" for x in range(10)]\n",
    "categorical_columns = [f\"col_{x:0>2}\" for x in range(10, len(df.columns))]\n",
    "\n",
    "ordinate_pipeline = Pipeline([\n",
    "    ('std_scaler', StandardScaler()),\n",
    "])\n",
    "\n",
    "categorical_pipeline = Pipeline([\n",
    "    ('one_hot_enc', OneHotEncoder()),\n",
    "])\n",
    "\n",
    "prep_pipeline = ColumnTransformer([\n",
    "    (\"ordinate\", ordinate_pipeline, ordinate_columns),\n",
    "    (\"categorical\", categorical_pipeline, categorical_columns),\n",
    "])"
   ]
  },
  {
   "attachments": {},
   "cell_type": "markdown",
   "metadata": {},
   "source": [
    "# 4 - Run Model Pipeline"
   ]
  },
  {
   "cell_type": "code",
   "execution_count": null,
   "metadata": {},
   "outputs": [],
   "source": [
    "# train/test split\n",
    "#   assumes the target feature is named `class`\n",
    "X_train, X_test, Y_train, Y_test = train_test_split(\n",
    "    df.drop(['class']), df['class'],\n",
    "    test_size=0.20, \n",
    "    random_state=3\n",
    ")"
   ]
  },
  {
   "cell_type": "code",
   "execution_count": null,
   "metadata": {},
   "outputs": [],
   "source": [
    "# execute the preprocess pipeline\n",
    "df_preprocessed = prep_pipeline.fit_transform(df)"
   ]
  },
  {
   "attachments": {},
   "cell_type": "markdown",
   "metadata": {},
   "source": [
    "# 5 - Fit Model"
   ]
  },
  {
   "cell_type": "code",
   "execution_count": null,
   "metadata": {},
   "outputs": [],
   "source": [
    "rand_forest_model = RandomForestClassifier(\n",
    "    # hyperparameters\n",
    ")\n",
    "\n",
    "rand_forest_model.fit(X_train, Y_train)"
   ]
  },
  {
   "cell_type": "code",
   "execution_count": 12,
   "metadata": {},
   "outputs": [],
   "source": [
    "# save a copy\n",
    "now = datetime.now()\n",
    "filename = f\"rf_model_{now.strftime(r'%Y%m%d_%H%M')}.joblib_model\"\n",
    "model_filename = f\"../data/models/{filename}\"\n",
    "\n",
    "joblib.dump(value=rand_forest_model, filename=filename)"
   ]
  },
  {
   "attachments": {},
   "cell_type": "markdown",
   "metadata": {},
   "source": [
    "# 6 - Evaluate Model"
   ]
  },
  {
   "cell_type": "code",
   "execution_count": null,
   "metadata": {},
   "outputs": [],
   "source": [
    "# load the pre-trained copy in\n",
    "filepath = \"../data/models/\"\n",
    "filename = \"rf_model_20230202_2252.joblib\"\n",
    "rand_forest_model = joblib.load(f\"{filepath}{filename}\")"
   ]
  },
  {
   "cell_type": "code",
   "execution_count": null,
   "metadata": {},
   "outputs": [],
   "source": [
    "# pre-process X_test using pipeline that was previously fit onto X_train\n",
    "X_test_preprocessed = prep_pipeline.transform(X_test)\n",
    "\n",
    "# make predictions\n",
    "Y_predicted = rand_forest_model.predict(X_test_preprocessed)"
   ]
  }
 ],
 "metadata": {
  "kernelspec": {
   "display_name": "tf290_env",
   "language": "python",
   "name": "python3"
  },
  "language_info": {
   "codemirror_mode": {
    "name": "ipython",
    "version": 3
   },
   "file_extension": ".py",
   "mimetype": "text/x-python",
   "name": "python",
   "nbconvert_exporter": "python",
   "pygments_lexer": "ipython3",
   "version": "3.10.8"
  },
  "orig_nbformat": 4,
  "vscode": {
   "interpreter": {
    "hash": "65a6dd32d71ed4a2e5ac9ab3f52d3aeee49f01a00467a63b19dc274a1d27154b"
   }
  }
 },
 "nbformat": 4,
 "nbformat_minor": 2
}
